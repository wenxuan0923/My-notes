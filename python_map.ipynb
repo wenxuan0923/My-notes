{
 "cells": [
  {
   "cell_type": "markdown",
   "metadata": {},
   "source": [
    "##  Python map() function\n",
    "\n",
    "Python **map()** function applies the given function to each item of one or more given iterable list, tuple etc.\n",
    "The syntax is \n",
    "```\n",
    "map(function, iter)\n",
    "```\n",
    "It returns a map object which can be further converted into list or tuple.\n",
    "\n",
    "### Example 1: Map function to single list"
   ]
  },
  {
   "cell_type": "code",
   "execution_count": 10,
   "metadata": {},
   "outputs": [
    {
     "name": "stdout",
     "output_type": "stream",
     "text": [
      "<map object at 0x000002570F936988>\n",
      "['Lily says hi!', 'Ben says hi!', 'Jimmy says hi!']\n"
     ]
    }
   ],
   "source": [
    "def sayHi(name): \n",
    "    return name + ' says hi!'\n",
    "  \n",
    "names = ['Lily', 'Ben', 'Jimmy']\n",
    "result = map(sayHi, names) \n",
    "print(result)\n",
    "print(list(result)) "
   ]
  },
  {
   "cell_type": "markdown",
   "metadata": {},
   "source": [
    "### Example 2: Map function to two lists"
   ]
  },
  {
   "cell_type": "code",
   "execution_count": 11,
   "metadata": {},
   "outputs": [
    {
     "name": "stdout",
     "output_type": "stream",
     "text": [
      "<map object at 0x000002570F9374C8>\n",
      "['Lily lives in UK', 'Ben lives in JP', 'Jimmy lives in CA']\n"
     ]
    }
   ],
   "source": [
    "# Map function to two lists\n",
    "\n",
    "names = ['Lily', 'Ben', 'Jimmy']\n",
    "locations = ['UK', 'JP', 'CA'] \n",
    "  \n",
    "result = map(lambda x, y: x + ' lives in ' + y, names, locations) \n",
    "print(result)\n",
    "print(list(result)) "
   ]
  },
  {
   "cell_type": "markdown",
   "metadata": {},
   "source": [
    "### Example 3: A practical example in DS - use map() for data processing\n",
    "\n",
    "Here we use the will known **MNIST** database of handwritten digits as an example"
   ]
  },
  {
   "cell_type": "code",
   "execution_count": 3,
   "metadata": {},
   "outputs": [
    {
     "name": "stderr",
     "output_type": "stream",
     "text": [
      "Using TensorFlow backend.\n"
     ]
    },
    {
     "name": "stdout",
     "output_type": "stream",
     "text": [
      "(60000, 28, 28)\n",
      "(60000,)\n"
     ]
    }
   ],
   "source": [
    "import keras\n",
    "from keras.datasets import mnist\n",
    "(x_train, y_train), (x_test, y_test) = mnist.load_data()\n",
    "\n",
    "print(x_train.shape)\n",
    "print(y_train.shape)"
   ]
  },
  {
   "cell_type": "markdown",
   "metadata": {},
   "source": [
    "Say we plan to build a **Convolutional Neural Network** for this handwritten classification problem, we will need to \n",
    "\n",
    "**1. convert x_train and x_test into 4D tensors** \n",
    "\n",
    "of shape (samples, height, width, color_depth), which can be processed by convolution layers (Conv2D)\n",
    "\n",
    "**2. scale the data so that all values are in the [0, 1] interval** \n",
    "\n",
    "to make it easier for our model to converge\n",
    "\n",
    "**3. categorically encode the labels** \n",
    "\n",
    "using one-hot encoder, which can be easily done using the `keras.utils.to_categorical()` function, so that each target variable will be a 10 dimensional vector consists of 0s and 1"
   ]
  },
  {
   "cell_type": "code",
   "execution_count": 4,
   "metadata": {},
   "outputs": [
    {
     "name": "stdout",
     "output_type": "stream",
     "text": [
      "(-1, 28, 28, 1)\n"
     ]
    }
   ],
   "source": [
    "input_shape = (28, 28, 1)\n",
    "# The desired input shape is:\n",
    "desired_shape = (-1,) + input_shape\n",
    "print(desired_shape)"
   ]
  },
  {
   "cell_type": "markdown",
   "metadata": {},
   "source": [
    "Where `-1` in shape means it will be inferred from the length of the array and remaining dimensions."
   ]
  },
  {
   "cell_type": "code",
   "execution_count": 5,
   "metadata": {},
   "outputs": [],
   "source": [
    "def preprocess_input(x):\n",
    "    return x.reshape(desired_shape) / 255.0\n",
    "\n",
    "def preprocess_output(y):\n",
    "    return keras.utils.to_categorical(y)\n",
    "\n",
    "x_train, x_test = map(preprocess_input, [x_train, x_test])\n",
    "y_train, y_test = map(preprocess_output, [y_train, y_test])"
   ]
  },
  {
   "cell_type": "code",
   "execution_count": 8,
   "metadata": {},
   "outputs": [
    {
     "name": "stdout",
     "output_type": "stream",
     "text": [
      "(60000, 28, 28, 1)\n",
      "(10000, 28, 28, 1)\n",
      "(60000, 10)\n",
      "(10000, 10)\n"
     ]
    }
   ],
   "source": [
    "print(x_train.shape)\n",
    "print(x_test.shape)\n",
    "print(y_train.shape)\n",
    "print(y_test.shape)"
   ]
  }
 ],
 "metadata": {
  "kernelspec": {
   "display_name": "Python 3",
   "language": "python",
   "name": "python3"
  },
  "language_info": {
   "codemirror_mode": {
    "name": "ipython",
    "version": 3
   },
   "file_extension": ".py",
   "mimetype": "text/x-python",
   "name": "python",
   "nbconvert_exporter": "python",
   "pygments_lexer": "ipython3",
   "version": "3.7.6"
  }
 },
 "nbformat": 4,
 "nbformat_minor": 4
}
