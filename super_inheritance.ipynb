{
  "nbformat": 4,
  "nbformat_minor": 0,
  "metadata": {
    "colab": {
      "name": "super_inheritance.ipynb",
      "provenance": [],
      "collapsed_sections": [],
      "authorship_tag": "ABX9TyP0xsydD1/8kJOTbvq7UGcK",
      "include_colab_link": true
    },
    "kernelspec": {
      "name": "python3",
      "display_name": "Python 3"
    }
  },
  "cells": [
    {
      "cell_type": "markdown",
      "metadata": {
        "id": "view-in-github",
        "colab_type": "text"
      },
      "source": [
        "<a href=\"https://colab.research.google.com/github/wenxuan0923/My-notes/blob/master/super_inheritance.ipynb\" target=\"_parent\"><img src=\"https://colab.research.google.com/assets/colab-badge.svg\" alt=\"Open In Colab\"/></a>"
      ]
    },
    {
      "cell_type": "markdown",
      "metadata": {
        "id": "4tRHNhFLDGAF",
        "colab_type": "text"
      },
      "source": [
        "# `super()` inheritance in Python\n",
        "\n",
        "In this note I will use lots of example to demonstrate the main concepts in Inheritance. Specifically, the following concepts will be covered:\n",
        "\n",
        "- Singel Inheritance\n",
        "\n",
        "- Use `super()` to access methods from superclasses\n",
        "\n",
        "- Multiple Inheritance\n",
        "\n",
        "- Method Resolution Order (MRO)\n",
        "\n",
        "- Use `**kwargs` for more flexible class initialization\n",
        "\n",
        "**Before jump into the details, recall that:**\n",
        "\n",
        "- The primary use case of **Inheritance** is to extend the functionality of the inherited class (superclass) without repeating code.\n",
        "\n",
        "- The `__init__()` function is for initialization. It is called automatically every time a class is being used to create a new object.\n",
        "\n",
        "## Single Inheritance\n",
        "\n",
        "• When using inheritance, if you are not redefining the `__init__` method in the subclass, the one of its parent class will be called automatically.\n",
        "\n",
        "• Subclass will inherit the properties and methods from its parient class."
      ]
    },
    {
      "cell_type": "code",
      "metadata": {
        "id": "plc9ppMzDZ9e",
        "colab_type": "code",
        "colab": {}
      },
      "source": [
        "class SchoolMember:\n",
        "  def __init__(self, name, age):\n",
        "    self.name = name\n",
        "    self.age = age\n",
        "    \n",
        "  def get_name(self):\n",
        "    print(self.name)\n",
        "\n",
        "  def get_age(self):\n",
        "    print(self.age)\n",
        " \n",
        "# The pass keyword means no other properties or methods is added to the class \n",
        "class Teacher(SchoolMember):\n",
        "    pass     "
      ],
      "execution_count": 1,
      "outputs": []
    },
    {
      "cell_type": "code",
      "metadata": {
        "id": "gbFaT5oECsxG",
        "colab_type": "code",
        "colab": {
          "base_uri": "https://localhost:8080/",
          "height": 54
        },
        "outputId": "ba6395ac-ae4b-4139-990a-aae0428f7ba4"
      },
      "source": [
        "hung = Teacher('Hung', 28)\n",
        "hung.get_name()\n",
        "hung.get_age()"
      ],
      "execution_count": 2,
      "outputs": [
        {
          "output_type": "stream",
          "text": [
            "Hung\n",
            "28\n"
          ],
          "name": "stdout"
        }
      ]
    },
    {
      "cell_type": "markdown",
      "metadata": {
        "id": "L0aHABlNZY7f",
        "colab_type": "text"
      },
      "source": [
        "• If the `__init__` in redefined in the subclass, the `__init__` from parent class will not be automatically invoked, but the subclass still have access to the methods defined in its parent class\n",
        "\n",
        "• To keep the inheritance of the parent's `__init__()` function, we need to add a call to the parent's `__init__()` function.\n"
      ]
    },
    {
      "cell_type": "code",
      "metadata": {
        "id": "jaFYnNtIZKea",
        "colab_type": "code",
        "colab": {}
      },
      "source": [
        "class SchoolMember:\n",
        "  def __init__(self, name, age):\n",
        "    self.name = name\n",
        "    self.age = age\n",
        "    \n",
        "  def sayhi(self):\n",
        "    print('Hi! this is SchoolMemer')\n",
        " \n",
        "class Teacher(SchoolMember):\n",
        "  def __init__(self, name, age, subject):\n",
        "    self.subject = subject\n",
        "\n",
        "  def get_subject(self):\n",
        "    print(self.subject)"
      ],
      "execution_count": 18,
      "outputs": []
    },
    {
      "cell_type": "markdown",
      "metadata": {
        "id": "Ofpx8mc5Z2wI",
        "colab_type": "text"
      },
      "source": [
        "$\\color{green}{\\text{✔ This works:}}$"
      ]
    },
    {
      "cell_type": "code",
      "metadata": {
        "id": "d-aum81TZKhR",
        "colab_type": "code",
        "colab": {
          "base_uri": "https://localhost:8080/",
          "height": 54
        },
        "outputId": "b9fe8122-fd00-4306-9499-01d7f3657116"
      },
      "source": [
        "hung = Teacher('Hung', 28, 'Math')\n",
        "hung.sayhi()\n",
        "hung.get_subject()"
      ],
      "execution_count": 19,
      "outputs": [
        {
          "output_type": "stream",
          "text": [
            "Hi! this is SchoolMemer\n",
            "Math\n"
          ],
          "name": "stdout"
        }
      ]
    },
    {
      "cell_type": "markdown",
      "metadata": {
        "id": "0um-JGSkZwAR",
        "colab_type": "text"
      },
      "source": [
        "$\\color{red}{\\text{✖ This does not work:}}$"
      ]
    },
    {
      "cell_type": "code",
      "metadata": {
        "id": "29qPfzyEZsJl",
        "colab_type": "code",
        "colab": {
          "base_uri": "https://localhost:8080/",
          "height": 189
        },
        "outputId": "667df132-1769-4807-daf4-b3745c3574a4"
      },
      "source": [
        "print(hung.name)\n",
        "print(hung.age)"
      ],
      "execution_count": 20,
      "outputs": [
        {
          "output_type": "error",
          "ename": "AttributeError",
          "evalue": "ignored",
          "traceback": [
            "\u001b[0;31m---------------------------------------------------------------------------\u001b[0m",
            "\u001b[0;31mAttributeError\u001b[0m                            Traceback (most recent call last)",
            "\u001b[0;32m<ipython-input-20-e6cbd91a1af2>\u001b[0m in \u001b[0;36m<module>\u001b[0;34m()\u001b[0m\n\u001b[0;32m----> 1\u001b[0;31m \u001b[0mprint\u001b[0m\u001b[0;34m(\u001b[0m\u001b[0mhung\u001b[0m\u001b[0;34m.\u001b[0m\u001b[0mname\u001b[0m\u001b[0;34m)\u001b[0m\u001b[0;34m\u001b[0m\u001b[0;34m\u001b[0m\u001b[0m\n\u001b[0m\u001b[1;32m      2\u001b[0m \u001b[0mprint\u001b[0m\u001b[0;34m(\u001b[0m\u001b[0mhung\u001b[0m\u001b[0;34m.\u001b[0m\u001b[0mage\u001b[0m\u001b[0;34m)\u001b[0m\u001b[0;34m\u001b[0m\u001b[0;34m\u001b[0m\u001b[0m\n",
            "\u001b[0;31mAttributeError\u001b[0m: 'Teacher' object has no attribute 'name'"
          ]
        }
      ]
    },
    {
      "cell_type": "markdown",
      "metadata": {
        "id": "TT35l25tHv-Y",
        "colab_type": "text"
      },
      "source": [
        "This command leads to $\\color{indianred}{\\text{AttributeError}}$ since the `__init__()` from the parent class SchoolMember has never been called. \n",
        "\n",
        "To fix this, you need to explicitly call the `__init__()` of the parent class inside the init of the subclass. "
      ]
    },
    {
      "cell_type": "code",
      "metadata": {
        "id": "fWOiggVUHQGB",
        "colab_type": "code",
        "colab": {}
      },
      "source": [
        "class SchoolMember:\n",
        "  def __init__(self, name, age):\n",
        "    self.name = name\n",
        "    self.age = age\n",
        " \n",
        "class Teacher(SchoolMember):\n",
        "  def __init__(self, name, age, subject):\n",
        "    SchoolMember.__init__(self, name, age)\n",
        "    self.subject = subject"
      ],
      "execution_count": 26,
      "outputs": []
    },
    {
      "cell_type": "code",
      "metadata": {
        "id": "RaUx1mlgIiSl",
        "colab_type": "code",
        "colab": {
          "base_uri": "https://localhost:8080/",
          "height": 72
        },
        "outputId": "65d6e04a-900c-43dd-cf0c-385d405fab32"
      },
      "source": [
        "hung = Teacher('Hung', 28, 'Math')\n",
        "print(hung.name)\n",
        "print(hung.age)\n",
        "print(hung.subject)"
      ],
      "execution_count": 27,
      "outputs": [
        {
          "output_type": "stream",
          "text": [
            "Hung\n",
            "28\n",
            "Math\n"
          ],
          "name": "stdout"
        }
      ]
    },
    {
      "cell_type": "markdown",
      "metadata": {
        "id": "wGwTRnbKKS5Q",
        "colab_type": "text"
      },
      "source": [
        "**Using `super()` to call the `__init__` of the parent class**\n",
        "\n",
        "Instead of using `SchoolMember.__init__(self, name, age)`, we can use Python `super()` function which allows us to refer the superclass implicitly, meaning we don’t need to write the name of superclass explicitly. \n",
        "\n",
        "• This `super()` alone returns a temporary object (called **roxy object**) of the superclass that then allows you to call that superclass’s methods. \n",
        "\n",
        "• Note we don't need the `self` argument when calling method from `super()`.\n",
        "\n",
        "The following code will do the same thing with the one above. "
      ]
    },
    {
      "cell_type": "code",
      "metadata": {
        "id": "oo7yUEfCJ6Pv",
        "colab_type": "code",
        "colab": {}
      },
      "source": [
        "class SchoolMember:\n",
        "  def __init__(self, name, age):\n",
        "    self.name = name\n",
        "    self.age = age\n",
        " \n",
        "class Teacher(SchoolMember):\n",
        "  def __init__(self, name, age, subject):\n",
        "    super().__init__(name, age)\n",
        "    self.subject = subject"
      ],
      "execution_count": 24,
      "outputs": []
    },
    {
      "cell_type": "code",
      "metadata": {
        "id": "-mmz7hNKgqFo",
        "colab_type": "code",
        "colab": {
          "base_uri": "https://localhost:8080/",
          "height": 72
        },
        "outputId": "05e30c33-c1a6-4500-b2bc-ca1cc4f4528c"
      },
      "source": [
        "hung = Teacher('Hung', 28, 'Math')\n",
        "print(hung.name)\n",
        "print(hung.age)\n",
        "print(hung.subject)"
      ],
      "execution_count": 25,
      "outputs": [
        {
          "output_type": "stream",
          "text": [
            "Hung\n",
            "28\n",
            "Math\n"
          ],
          "name": "stdout"
        }
      ]
    },
    {
      "cell_type": "markdown",
      "metadata": {
        "id": "AKuqi9QuhDPd",
        "colab_type": "text"
      },
      "source": [
        "**We can also use super() to call any other method from its parent class**"
      ]
    },
    {
      "cell_type": "code",
      "metadata": {
        "id": "D5Nd-XZ_IjsE",
        "colab_type": "code",
        "colab": {}
      },
      "source": [
        "class SchoolMember:\n",
        "  def __init__(self, name, age, gender):\n",
        "    self.name = name\n",
        "    self.age = age\n",
        "    self.gender = gender\n",
        "\n",
        "  def sayhi(self):\n",
        "    print('Hi! This is SchoolMemer')\n",
        "    \n",
        "  def get_portrait(self):\n",
        "    return '👦' if self.gender=='male' else '👧'\n",
        "\n",
        "class Teacher(SchoolMember):\n",
        "  def __init__(self, name, age, gender, subject):\n",
        "    super().__init__(name, age, gender)\n",
        "    self.subject = subject\n",
        "\n",
        "  def sayhi(self):\n",
        "    super().sayhi()\n",
        "    profile = super().get_portrait()\n",
        "    print('Hi! This is {} Teacher {} {}'.format(self.subject, self.name, profile))"
      ],
      "execution_count": 28,
      "outputs": []
    },
    {
      "cell_type": "code",
      "metadata": {
        "id": "0BeOblx-Jzda",
        "colab_type": "code",
        "colab": {
          "base_uri": "https://localhost:8080/",
          "height": 54
        },
        "outputId": "81a6fb11-e7c1-41f3-f534-4c90dd23ddc6"
      },
      "source": [
        "hung = Teacher('Hung', 28, 'male', 'Math')\n",
        "hung.sayhi()"
      ],
      "execution_count": 29,
      "outputs": [
        {
          "output_type": "stream",
          "text": [
            "Hi! This is SchoolMemer\n",
            "Hi! This is Math Teacher Hung 👦\n"
          ],
          "name": "stdout"
        }
      ]
    },
    {
      "cell_type": "markdown",
      "metadata": {
        "id": "dKD_B10gkrp2",
        "colab_type": "text"
      },
      "source": [
        "## Multiple Inheritance\n",
        "\n",
        "Python supports multiple inheritance, in which a subclass can inherit from multiple superclasses.  \n",
        "\n",
        "Let's now define a class **Myclass** which inherit from two superclass: **Base1** and **Base2**."
      ]
    },
    {
      "cell_type": "code",
      "metadata": {
        "id": "3yvdFsPHqe4F",
        "colab_type": "code",
        "colab": {}
      },
      "source": [
        "class Base1:\n",
        "  def __init__(self):\n",
        "    print('Initializing Base 1')\n",
        "\n",
        "  def sayhi(self):\n",
        "    print('Hi from Base 1')  \n",
        "\n",
        "class Base2:\n",
        "  def __init__(self):\n",
        "    print('Initializing Base 2')\n",
        "\n",
        "  def sayhi(self):\n",
        "    print('Hi from Base 2')  \n",
        "\n",
        "class Myclass(Base1, Base2):\n",
        "  def __init__(self):\n",
        "    super().__init__()\n",
        "    \n",
        "  def sayhi(self):\n",
        "    print('Hi from Myclass')\n",
        "    super().sayhi()"
      ],
      "execution_count": 30,
      "outputs": []
    },
    {
      "cell_type": "code",
      "metadata": {
        "id": "AKea4-O0qe8t",
        "colab_type": "code",
        "colab": {
          "base_uri": "https://localhost:8080/",
          "height": 72
        },
        "outputId": "743b1a65-49e3-4140-bbcc-0b27a4ecad58"
      },
      "source": [
        "myObject = Myclass()\n",
        "myObject.sayhi()"
      ],
      "execution_count": 31,
      "outputs": [
        {
          "output_type": "stream",
          "text": [
            "Initializing Base 1\n",
            "Hi from Myclass\n",
            "Hi from Base 1\n"
          ],
          "name": "stdout"
        }
      ]
    },
    {
      "cell_type": "markdown",
      "metadata": {
        "id": "Fnme84g6rlCy",
        "colab_type": "text"
      },
      "source": [
        "You may notice that even though both superclasses have `__init__()` and `sayhi()` methods, only those from Base1 got invoked when calling these methods using `super()`. This is because of something called **Method Resolution Order (MRO)**. It tells Python where to search for methods when being called using `super()`. You can easily inspect the order by checking the `__mro__` attribute of the class."
      ]
    },
    {
      "cell_type": "code",
      "metadata": {
        "id": "rexpvJ3lrkir",
        "colab_type": "code",
        "colab": {
          "base_uri": "https://localhost:8080/",
          "height": 35
        },
        "outputId": "cca58af9-7f12-4ec1-c524-c186093ebcaa"
      },
      "source": [
        "Myclass.__mro__"
      ],
      "execution_count": 32,
      "outputs": [
        {
          "output_type": "execute_result",
          "data": {
            "text/plain": [
              "(__main__.Myclass, __main__.Base1, __main__.Base2, object)"
            ]
          },
          "metadata": {
            "tags": []
          },
          "execution_count": 32
        }
      ]
    },
    {
      "cell_type": "markdown",
      "metadata": {
        "id": "xYhIdN9lsDsz",
        "colab_type": "text"
      },
      "source": [
        "This tells us that methods will be searched in the order:<strong> Myclass $\\Rightarrow$ Base1 $\\Rightarrow$ Base2 </strong>. \n",
        "\n",
        "What if we swich the position of Base1 and Base2?"
      ]
    },
    {
      "cell_type": "code",
      "metadata": {
        "id": "qBoR6UQ-qe7D",
        "colab_type": "code",
        "colab": {}
      },
      "source": [
        "class Base1:\n",
        "  def __init__(self):\n",
        "    print('Initializing Base 1')\n",
        "\n",
        "  def sayhi(self):\n",
        "    print('Hi from Base 1')  \n",
        "\n",
        "class Base2:\n",
        "  def __init__(self):\n",
        "    print('Initializing Base 2')\n",
        "\n",
        "  def sayhi(self):\n",
        "    print('Hi from Base 2')  \n",
        "\n",
        "class Myclass(Base2, Base1):\n",
        "  def __init__(self):\n",
        "    print('Initializing Myclass')\n",
        "    super().__init__()\n",
        "    \n",
        "  def sayhi(self):\n",
        "    print('Hi from Myclass')\n",
        "    super().sayhi()"
      ],
      "execution_count": 33,
      "outputs": []
    },
    {
      "cell_type": "code",
      "metadata": {
        "id": "DsG5B0ELr7EW",
        "colab_type": "code",
        "colab": {
          "base_uri": "https://localhost:8080/",
          "height": 35
        },
        "outputId": "4c237a3d-8116-426c-b764-40199a6345a7"
      },
      "source": [
        "Myclass.__mro__"
      ],
      "execution_count": 34,
      "outputs": [
        {
          "output_type": "execute_result",
          "data": {
            "text/plain": [
              "(__main__.Myclass, __main__.Base2, __main__.Base1, object)"
            ]
          },
          "metadata": {
            "tags": []
          },
          "execution_count": 34
        }
      ]
    },
    {
      "cell_type": "code",
      "metadata": {
        "id": "d-VmYorqrWmA",
        "colab_type": "code",
        "colab": {
          "base_uri": "https://localhost:8080/",
          "height": 90
        },
        "outputId": "8efc634b-2e13-4de5-ed63-967e13549156"
      },
      "source": [
        "myObject = Myclass()\n",
        "myObject.sayhi()"
      ],
      "execution_count": 35,
      "outputs": [
        {
          "output_type": "stream",
          "text": [
            "Initializing Myclass\n",
            "Initializing Base 2\n",
            "Hi from Myclass\n",
            "Hi from Base 2\n"
          ],
          "name": "stdout"
        }
      ]
    },
    {
      "cell_type": "markdown",
      "metadata": {
        "id": "zX_p4FvBvaO7",
        "colab_type": "text"
      },
      "source": [
        "In this case, only methods from Base2 got called, and the MRO has changed accordingly.\n",
        " \n",
        "Let's check another example where Myclass inherit from Base2, and Base2 inherit from Base1:"
      ]
    },
    {
      "cell_type": "code",
      "metadata": {
        "id": "TtV8nG95rX57",
        "colab_type": "code",
        "colab": {}
      },
      "source": [
        "class Base1:\n",
        "  def __init__(self):\n",
        "    print('Initializing Base 1')\n",
        "\n",
        "  def sayhi(self):\n",
        "    print('Hi from Base 1')  \n",
        "\n",
        "class Base2(Base1):\n",
        "  def __init__(self):\n",
        "    print('Initializing Base 2')\n",
        "    super().__init__()\n",
        "\n",
        "  def sayhi(self):\n",
        "    print('Hi from Base 2') \n",
        "    super().__init__() \n",
        "\n",
        "class Myclass(Base2):\n",
        "  def __init__(self):\n",
        "    print('Initializing Myclass')\n",
        "    super().__init__()\n",
        "    \n",
        "  def sayhi(self):\n",
        "    print('Hi from Myclass')\n",
        "    super().sayhi()"
      ],
      "execution_count": 101,
      "outputs": []
    },
    {
      "cell_type": "code",
      "metadata": {
        "id": "NI0rBjpqvVgs",
        "colab_type": "code",
        "colab": {
          "base_uri": "https://localhost:8080/",
          "height": 35
        },
        "outputId": "ec7097bc-d51f-4f87-cc71-e4e65858cc5f"
      },
      "source": [
        "Myclass.__mro__"
      ],
      "execution_count": 103,
      "outputs": [
        {
          "output_type": "execute_result",
          "data": {
            "text/plain": [
              "(__main__.Myclass, __main__.Base2, __main__.Base1, object)"
            ]
          },
          "metadata": {
            "tags": []
          },
          "execution_count": 103
        }
      ]
    },
    {
      "cell_type": "code",
      "metadata": {
        "id": "Z6f736YfrX8h",
        "colab_type": "code",
        "colab": {
          "base_uri": "https://localhost:8080/",
          "height": 126
        },
        "outputId": "014a5853-b3b5-4712-bc0e-3e9b4572345a"
      },
      "source": [
        "myObject = Myclass()\n",
        "myObject.sayhi()"
      ],
      "execution_count": 102,
      "outputs": [
        {
          "output_type": "stream",
          "text": [
            "Initializing Myclass\n",
            "Initializing Base 2\n",
            "Initializing Base 1\n",
            "Hi from Myclass\n",
            "Hi from Base 2\n",
            "Initializing Base 1\n"
          ],
          "name": "stdout"
        }
      ]
    },
    {
      "cell_type": "markdown",
      "metadata": {
        "id": "_drTkoEAZUn9",
        "colab_type": "text"
      },
      "source": [
        "the `__init__()` function of Myclass got called at first, then class Base2 and after that Base1. Similar thing happened by calling sayhi() method.\n",
        "\n",
        "### More flexible `__init__` with **\\*\\*kwargs**\n",
        "\n",
        "\n",
        "\\*\\*kwargs allows users of these objects to instantiate them only with the arguments that make sense for that particular object."
      ]
    },
    {
      "cell_type": "code",
      "metadata": {
        "id": "bx0DNMBQZSlV",
        "colab_type": "code",
        "colab": {}
      },
      "source": [
        "class A:\n",
        "  def __init__(self, a, **kwargs):\n",
        "    self.a = a\n",
        "    self.c = 5\n",
        "\n",
        "class B(A):\n",
        "  def __init__(self, b, **kwargs):\n",
        "    self.b = b\n",
        "    super().__init__(**kwargs)"
      ],
      "execution_count": null,
      "outputs": []
    },
    {
      "cell_type": "code",
      "metadata": {
        "id": "nvOrpOBuWcYX",
        "colab_type": "code",
        "colab": {
          "base_uri": "https://localhost:8080/",
          "height": 72
        },
        "outputId": "88fdd0c6-f221-458d-d260-882b95207531"
      },
      "source": [
        "b1 = B(a=1, b=3, c=7)\n",
        "print(b1.b)\n",
        "print(b1.a)\n",
        "print(b1.c)"
      ],
      "execution_count": 226,
      "outputs": [
        {
          "output_type": "stream",
          "text": [
            "3\n",
            "1\n",
            "5\n"
          ],
          "name": "stdout"
        }
      ]
    },
    {
      "cell_type": "markdown",
      "metadata": {
        "id": "j9XzOnPavtKe",
        "colab_type": "text"
      },
      "source": [
        "Things can get a little confusing when it comes to multiple inheritence."
      ]
    },
    {
      "cell_type": "code",
      "metadata": {
        "id": "VDfiO9UYcMyL",
        "colab_type": "code",
        "colab": {}
      },
      "source": [
        "class A:\n",
        "  def __init__(self, a):\n",
        "    self.a = a\n",
        "\n",
        "class B:\n",
        "  def __init__(self, b):\n",
        "    self.b = b\n",
        "\n",
        "class C(A, B):\n",
        "  def __init__(self, c, **kwargs):\n",
        "    self.c = c\n",
        "    super().__init__(**kwargs)"
      ],
      "execution_count": 280,
      "outputs": []
    },
    {
      "cell_type": "code",
      "metadata": {
        "id": "5Ebd0SC-qFZN",
        "colab_type": "code",
        "colab": {
          "base_uri": "https://localhost:8080/",
          "height": 35
        },
        "outputId": "8125cfb2-d11d-409d-e865-60b3acd9539b"
      },
      "source": [
        "C.__mro__"
      ],
      "execution_count": 281,
      "outputs": [
        {
          "output_type": "execute_result",
          "data": {
            "text/plain": [
              "(__main__.C, __main__.A, __main__.B, object)"
            ]
          },
          "metadata": {
            "tags": []
          },
          "execution_count": 281
        }
      ]
    },
    {
      "cell_type": "markdown",
      "metadata": {
        "id": "2WFSJZoOcp2T",
        "colab_type": "text"
      },
      "source": [
        "$\\color{green}{\\text{✔ This works:}}$"
      ]
    },
    {
      "cell_type": "code",
      "metadata": {
        "id": "ZfEq6JlzcNrm",
        "colab_type": "code",
        "colab": {
          "base_uri": "https://localhost:8080/",
          "height": 54
        },
        "outputId": "17b3d018-6a00-4a1f-df43-01ff280831ea"
      },
      "source": [
        "c1 = C(c=7, a=1)\n",
        "print(c1.c)\n",
        "print(c1.a)"
      ],
      "execution_count": 282,
      "outputs": [
        {
          "output_type": "stream",
          "text": [
            "7\n",
            "1\n"
          ],
          "name": "stdout"
        }
      ]
    },
    {
      "cell_type": "markdown",
      "metadata": {
        "id": "EuwocPwbdZL8",
        "colab_type": "text"
      },
      "source": [
        "$\\color{red}{\\text{✖ This does not work:}}$"
      ]
    },
    {
      "cell_type": "code",
      "metadata": {
        "id": "yVtx8cE3cwom",
        "colab_type": "code",
        "colab": {
          "base_uri": "https://localhost:8080/",
          "height": 298
        },
        "outputId": "c7478ddf-97f1-4d54-9a86-5740f8bc2d4f"
      },
      "source": [
        "c2 = C(c=7, a=1, b=2)\n",
        "print(c2.c)\n",
        "print(c2.b)"
      ],
      "execution_count": 283,
      "outputs": [
        {
          "output_type": "error",
          "ename": "TypeError",
          "evalue": "ignored",
          "traceback": [
            "\u001b[0;31m---------------------------------------------------------------------------\u001b[0m",
            "\u001b[0;31mTypeError\u001b[0m                                 Traceback (most recent call last)",
            "\u001b[0;32m<ipython-input-283-eda45bea887d>\u001b[0m in \u001b[0;36m<module>\u001b[0;34m()\u001b[0m\n\u001b[0;32m----> 1\u001b[0;31m \u001b[0mc2\u001b[0m \u001b[0;34m=\u001b[0m \u001b[0mC\u001b[0m\u001b[0;34m(\u001b[0m\u001b[0mc\u001b[0m\u001b[0;34m=\u001b[0m\u001b[0;36m7\u001b[0m\u001b[0;34m,\u001b[0m \u001b[0ma\u001b[0m\u001b[0;34m=\u001b[0m\u001b[0;36m1\u001b[0m\u001b[0;34m,\u001b[0m \u001b[0mb\u001b[0m\u001b[0;34m=\u001b[0m\u001b[0;36m2\u001b[0m\u001b[0;34m)\u001b[0m\u001b[0;34m\u001b[0m\u001b[0;34m\u001b[0m\u001b[0m\n\u001b[0m\u001b[1;32m      2\u001b[0m \u001b[0mprint\u001b[0m\u001b[0;34m(\u001b[0m\u001b[0mc2\u001b[0m\u001b[0;34m.\u001b[0m\u001b[0mc\u001b[0m\u001b[0;34m)\u001b[0m\u001b[0;34m\u001b[0m\u001b[0;34m\u001b[0m\u001b[0m\n\u001b[1;32m      3\u001b[0m \u001b[0mprint\u001b[0m\u001b[0;34m(\u001b[0m\u001b[0mc2\u001b[0m\u001b[0;34m.\u001b[0m\u001b[0mb\u001b[0m\u001b[0;34m)\u001b[0m\u001b[0;34m\u001b[0m\u001b[0;34m\u001b[0m\u001b[0m\n",
            "\u001b[0;32m<ipython-input-280-5df0f447d15e>\u001b[0m in \u001b[0;36m__init__\u001b[0;34m(self, c, **kwargs)\u001b[0m\n\u001b[1;32m     10\u001b[0m   \u001b[0;32mdef\u001b[0m \u001b[0m__init__\u001b[0m\u001b[0;34m(\u001b[0m\u001b[0mself\u001b[0m\u001b[0;34m,\u001b[0m \u001b[0mc\u001b[0m\u001b[0;34m,\u001b[0m \u001b[0;34m**\u001b[0m\u001b[0mkwargs\u001b[0m\u001b[0;34m)\u001b[0m\u001b[0;34m:\u001b[0m\u001b[0;34m\u001b[0m\u001b[0;34m\u001b[0m\u001b[0m\n\u001b[1;32m     11\u001b[0m     \u001b[0mself\u001b[0m\u001b[0;34m.\u001b[0m\u001b[0mc\u001b[0m \u001b[0;34m=\u001b[0m \u001b[0mc\u001b[0m\u001b[0;34m\u001b[0m\u001b[0;34m\u001b[0m\u001b[0m\n\u001b[0;32m---> 12\u001b[0;31m     \u001b[0msuper\u001b[0m\u001b[0;34m(\u001b[0m\u001b[0;34m)\u001b[0m\u001b[0;34m.\u001b[0m\u001b[0m__init__\u001b[0m\u001b[0;34m(\u001b[0m\u001b[0;34m**\u001b[0m\u001b[0mkwargs\u001b[0m\u001b[0;34m)\u001b[0m\u001b[0;34m\u001b[0m\u001b[0;34m\u001b[0m\u001b[0m\n\u001b[0m",
            "\u001b[0;31mTypeError\u001b[0m: __init__() got an unexpected keyword argument 'b'"
          ]
        }
      ]
    },
    {
      "cell_type": "markdown",
      "metadata": {
        "id": "8IDApDsweEUn",
        "colab_type": "text"
      },
      "source": [
        "This is because the `super(MyClass, self).__init__()` provides the next `__init__()` method according to the Method Resolution Ordering (MRO) in the context of the complete inheritance hierarchy. \n",
        "\n",
        "In thie example above, only class C has `super()`, the execution stops at the end of `A.__init__()` and never make it to `B.__init__()`.\n",
        "\n",
        "\n",
        "To fix this, we just need to add `super().__init__()` to both A and B."
      ]
    },
    {
      "cell_type": "code",
      "metadata": {
        "id": "OoJolJC4fHi2",
        "colab_type": "code",
        "colab": {}
      },
      "source": [
        "class A:\n",
        "  def __init__(self, a, **kwargs):\n",
        "    self.a = a\n",
        "    super().__init__(**kwargs)\n",
        "\n",
        "class B:\n",
        "  def __init__(self, b, **kwargs):\n",
        "    self.b = b\n",
        "    super().__init__(**kwargs)\n",
        "\n",
        "class C(A, B):\n",
        "  def __init__(self, c, **kwargs):\n",
        "    self.c = c\n",
        "    super().__init__(**kwargs)"
      ],
      "execution_count": 284,
      "outputs": []
    },
    {
      "cell_type": "code",
      "metadata": {
        "id": "Vtjq3Pc7fNPW",
        "colab_type": "code",
        "colab": {
          "base_uri": "https://localhost:8080/",
          "height": 72
        },
        "outputId": "b0b30f05-fa75-4a16-ed90-705014e77d03"
      },
      "source": [
        "c2 = C(a=1, c=7, b=2)\n",
        "print(c2.c)\n",
        "print(c2.b)\n",
        "print(c2.a)"
      ],
      "execution_count": 285,
      "outputs": [
        {
          "output_type": "stream",
          "text": [
            "7\n",
            "2\n",
            "1\n"
          ],
          "name": "stdout"
        }
      ]
    },
    {
      "cell_type": "markdown",
      "metadata": {
        "id": "K1abSbHosn1e",
        "colab_type": "text"
      },
      "source": [
        "I find this concept is better illustrated by the example below, which is originally from <a href='https://stackoverflow.com/questions/3277367/how-does-pythons-super-work-with-multiple-inheritance' target='_blank'>StackOverFlow</a>."
      ]
    },
    {
      "cell_type": "code",
      "metadata": {
        "id": "IQN4_49wfNV2",
        "colab_type": "code",
        "colab": {}
      },
      "source": [
        "class First:\n",
        "  def __init__(self):\n",
        "    print(\"First(): entering\")\n",
        "    super().__init__()\n",
        "    print(\"First(): exiting\")\n",
        "\n",
        "class Second:\n",
        "  def __init__(self):\n",
        "    print(\"Second(): entering\")\n",
        "    super().__init__()\n",
        "    print(\"Second(): exiting\")\n",
        "\n",
        "class Third(First, Second):\n",
        "  def __init__(self):\n",
        "    print(\"Third(): entering\")\n",
        "    super().__init__()\n",
        "    print(\"Third(): exiting\")"
      ],
      "execution_count": 275,
      "outputs": []
    },
    {
      "cell_type": "code",
      "metadata": {
        "id": "GUwqotcUjBUD",
        "colab_type": "code",
        "colab": {
          "base_uri": "https://localhost:8080/",
          "height": 35
        },
        "outputId": "c752815f-fd7b-483b-9619-f8fa8a9b557b"
      },
      "source": [
        "Third.__mro__"
      ],
      "execution_count": 276,
      "outputs": [
        {
          "output_type": "execute_result",
          "data": {
            "text/plain": [
              "(__main__.Third, __main__.First, __main__.Second, object)"
            ]
          },
          "metadata": {
            "tags": []
          },
          "execution_count": 276
        }
      ]
    },
    {
      "cell_type": "code",
      "metadata": {
        "id": "XDHHM2dlfNUL",
        "colab_type": "code",
        "colab": {
          "base_uri": "https://localhost:8080/",
          "height": 145
        },
        "outputId": "52b46bed-fffe-461a-bc3b-0cc7816e700f"
      },
      "source": [
        "Third()"
      ],
      "execution_count": 277,
      "outputs": [
        {
          "output_type": "stream",
          "text": [
            "Third(): entering\n",
            "First(): entering\n",
            "Second(): entering\n",
            "Second(): exiting\n",
            "First(): exiting\n",
            "Third(): exiting\n"
          ],
          "name": "stdout"
        },
        {
          "output_type": "execute_result",
          "data": {
            "text/plain": [
              "<__main__.Third at 0x7fb1a9a3b7b8>"
            ]
          },
          "metadata": {
            "tags": []
          },
          "execution_count": 277
        }
      ]
    },
    {
      "cell_type": "markdown",
      "metadata": {
        "id": "lIvmRxARlFRu",
        "colab_type": "text"
      },
      "source": [
        "The MRO to resolve `Third.__init__()` is calculated: <strong>Third $\\Rightarrow$ First $\\Rightarrow$ Second $\\Rightarrow$ Object.</strong>  According to MRO:\n",
        "\n",
        "\n",
        "1. `Third.__init__()` executes first:\n",
        "> - prints `Third(): entering`\n",
        "> - then `super(Third, self).__init__()` executes and MRO returns `First.__init__()` which is called next.\n",
        "\n",
        "2. `First.__init__()` executes:\n",
        "> prints `First(): entering`\n",
        ">\n",
        "> then `super(First, self).__init__()` executes and MRO returns `Second.__init__()` which is called next.\n",
        "\n",
        "3. `Second.__init__()` executes:\n",
        "> - prints `Second(): entering`\n",
        ">\n",
        "> - then `super(Second, self).__init__()` executes and MRO returns `object.__init__()` which is called next.\n",
        "\n",
        "4. `object.__init__()` executes (no print statements in the code there)\n",
        "\n",
        "5. execution goes back to `Second.__init__()` which then prints `Second(): exiting`\n",
        "\n",
        "6. execution goes back to `First.__init__()` which then prints `First(): exiting`\n",
        "\n",
        "7. execution goes back to `Third.__init__()` which then prints `Third(): exiting`\n",
        "\n",
        "### It can become very powerful when being used together with **\\*\\*kwargs**:"
      ]
    },
    {
      "cell_type": "code",
      "metadata": {
        "id": "pnM1XiReNyXe",
        "colab_type": "code",
        "colab": {}
      },
      "source": [
        "class A:\n",
        "  def __init__(self, a, **kwargs):\n",
        "    self.a = a\n",
        "    super().__init__(**kwargs)\n",
        "  def heart(self):\n",
        "    return '❤'\n",
        "\n",
        "class B:\n",
        "  def __init__(self, b, **kwargs):\n",
        "    self.b = b\n",
        "    super().__init__(**kwargs)\n",
        "  def star(self):\n",
        "    return '⭐'\n",
        "\n",
        "class C(A, B):\n",
        "  def __init__(self, c, **kwargs):\n",
        "    self.c = c\n",
        "    kwargs['a'] = c - 1\n",
        "    kwargs['b'] = c + 1 \n",
        "    super().__init__(**kwargs)\n",
        "  "
      ],
      "execution_count": 286,
      "outputs": []
    },
    {
      "cell_type": "code",
      "metadata": {
        "id": "Zcz5s_B9R6Pt",
        "colab_type": "code",
        "colab": {}
      },
      "source": [
        "myVar = C(3)"
      ],
      "execution_count": 287,
      "outputs": []
    },
    {
      "cell_type": "code",
      "metadata": {
        "id": "vfl2yh5QQ3e6",
        "colab_type": "code",
        "colab": {
          "base_uri": "https://localhost:8080/",
          "height": 108
        },
        "outputId": "2a9a821b-29c4-460c-f9fd-56ec9d3a3f6d"
      },
      "source": [
        "print(myVar.a)\n",
        "print(myVar.b)\n",
        "print(myVar.c)\n",
        "print(myVar.heart())\n",
        "print(myVar.star())"
      ],
      "execution_count": 288,
      "outputs": [
        {
          "output_type": "stream",
          "text": [
            "2\n",
            "4\n",
            "3\n",
            "❤\n",
            "⭐\n"
          ],
          "name": "stdout"
        }
      ]
    },
    {
      "cell_type": "markdown",
      "metadata": {
        "id": "YqlSYdFsw90j",
        "colab_type": "text"
      },
      "source": [
        "### A little more complicated example\n",
        "\n",
        "In this example we will calculate the area of RightPyramid (a pyramid with a square base) illustrated below. This example is originally from: <a target='_blank' href='https://realpython.com/python-super/#super-in-multiple-inheritance'>Supercharge Your Classes With Python super() </a>. I made some modifications to simplify the code a little bit."
      ]
    },
    {
      "cell_type": "markdown",
      "metadata": {
        "id": "Vk1FjIcG2cA2",
        "colab_type": "text"
      },
      "source": [
        "<center><img src='https://drive.google.com/uc?id=1IB8CgbAQtrczR_aio3d0XwOrH248OZtP'></img></center>\n",
        "\n",
        "In this exampe we try to call both `.area()` from parent class: Square and `tri_area()` function from another parent class Triangle using `super()` inside subclass RightPyramid. Methods `area()` and `area2()` in RightPyramid class are two different ways to calculte the area. They should yield to the same result."
      ]
    },
    {
      "cell_type": "code",
      "metadata": {
        "id": "zy5rN8WP4cRR",
        "colab_type": "code",
        "colab": {}
      },
      "source": [
        "class Square:\n",
        "  def __init__(self, length, **kwargs):\n",
        "    self.length = length\n",
        "    super().__init__(**kwargs)\n",
        "  \n",
        "  def area(self):\n",
        "    return self.length * self.length\n",
        "\n",
        "  def perimeter(self):\n",
        "    return 4 * self.length\n",
        "\n",
        "class Triangle:\n",
        "  def __init__(self, base, height, **kwargs):\n",
        "    self.base = base\n",
        "    self.height = height\n",
        "    super().__init__(**kwargs)\n",
        "\n",
        "  def tri_area(self):\n",
        "    return 0.5 * self.base * self.height\n",
        "  \n",
        "  def hi(self):\n",
        "    print('Hi from Triangle')\n",
        "     \n",
        "class RightPyramid(Square, Triangle):\n",
        "  def __init__(self, base, slant_height, **kwargs):\n",
        "    self.base = base\n",
        "    self.slant_height = slant_height\n",
        "    kwargs[\"height\"] = slant_height\n",
        "    kwargs[\"length\"] = base\n",
        "    super().__init__(base=base, **kwargs)\n",
        "\n",
        "  def area(self):\n",
        "    base_area = super().area()\n",
        "    perimeter = super().perimeter()\n",
        "    return 0.5 * perimeter * self.slant_height + base_area\n",
        "\n",
        "  def area_2(self):\n",
        "    base_area = super().area()\n",
        "    triangle_area = super().tri_area()\n",
        "    return triangle_area * 4 + base_area\n",
        "\n",
        "  def sayhi(self):\n",
        "    super().hi()"
      ],
      "execution_count": 37,
      "outputs": []
    },
    {
      "cell_type": "code",
      "metadata": {
        "id": "6DhxdJSv675s",
        "colab_type": "code",
        "colab": {
          "base_uri": "https://localhost:8080/",
          "height": 126
        },
        "outputId": "ac81c7e6-f04e-4ee3-ff7d-701387d73fba"
      },
      "source": [
        "pyramid = RightPyramid(2, 4)\n",
        "print(pyramid.area())\n",
        "print(pyramid.area_2())\n",
        "print(pyramid.base)\n",
        "print(pyramid.height)\n",
        "print(pyramid.length)\n",
        "pyramid.hi()"
      ],
      "execution_count": 38,
      "outputs": [
        {
          "output_type": "stream",
          "text": [
            "20.0\n",
            "20.0\n",
            "2\n",
            "4\n",
            "2\n",
            "Hi from Triangle\n"
          ],
          "name": "stdout"
        }
      ]
    }
  ]
}