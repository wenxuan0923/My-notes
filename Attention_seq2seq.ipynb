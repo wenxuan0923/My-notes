{
  "nbformat": 4,
  "nbformat_minor": 0,
  "metadata": {
    "colab": {
      "name": "Attention_seq2seq.ipynb",
      "provenance": [],
      "collapsed_sections": [],
      "machine_shape": "hm"
    },
    "kernelspec": {
      "name": "python3",
      "display_name": "Python 3"
    }
  },
  "cells": [
    {
      "cell_type": "markdown",
      "metadata": {
        "id": "sBNQOOrN1-AK",
        "colab_type": "text"
      },
      "source": [
        "### Attention Based Machine Translation\n",
        "\n",
        "In this note I will build an attention-based LSTM Seq2Seq model for English to Chinese Translation. The details of the Luong Attention model can be found in this paper: [Efective Approaches to Attention-based Neural Machine Translation](https://arxiv.org/pdf/1508.04025.pdf), and dot score is being used for the calculation of alignment weight vector. I will explain the construction of attention layer using visualization.\n",
        "\n",
        "The Chinese-English dataset can be downloaded at http://www.manythings.org/anki/. <br>\n",
        "\n",
        "### Prepare dataset\n",
        "- Add a start of sentence `<sos>` and end of sentence `<eos>` token to each sentence.\n",
        "- Clean the sentences by removing special characters.\n",
        "- Create a word index and reverse word index\n",
        "- Pad each sentence to a maximum length."
      ]
    },
    {
      "cell_type": "code",
      "metadata": {
        "id": "6QOOVRhZ5-Rb",
        "colab_type": "code",
        "colab": {}
      },
      "source": [
        "import re\n",
        "import pandas as pd\n",
        "import numpy as np\n",
        "import tensorflow as tf\n",
        "import tensorflow.keras as keras\n",
        "from tensorflow.keras.layers import Dense, Embedding, LSTM\n",
        "from tensorflow.keras.preprocessing.text import Tokenizer\n",
        "from tensorflow.keras.preprocessing.sequence import pad_sequences\n",
        "from tensorflow.keras.callbacks import EarlyStopping"
      ],
      "execution_count": 0,
      "outputs": []
    },
    {
      "cell_type": "code",
      "metadata": {
        "id": "Ogvg9nRO3fF6",
        "colab_type": "code",
        "colab": {}
      },
      "source": [
        "def preprocess_en_sentence(w):\n",
        "  w = w.lower()\n",
        "\n",
        "  # Add a space between a word and the punctuation following it\n",
        "  # eg: \"he is a boy.\" => \"he is a boy . \" => \"he is a boy .\"\n",
        "  w = re.sub(r\"([?.!,])\", r\" \\1 \", w)\n",
        "  w = re.sub(r'\\s{2,}', \" \", w)\n",
        "\n",
        "  # replacing everything with space except (a-z, A-Z, \".\", \"?\", \"!\", \",\")\n",
        "  w = re.sub(r\"[^a-zA-Z?.!,]+\", \" \", w)\n",
        "  w = w.strip()\n",
        "  return w\n",
        "\n",
        "def preprocess_cn_sentence(w):\n",
        "  # Remove special punctuations\n",
        "  w = re.sub(r'[“”()]', '', w)\n",
        "\n",
        "  # Add empty spaces between words\n",
        "  w = ' '.join([char for char in w])\n",
        "\n",
        "  # Add a start and an end token to the sentence\n",
        "  w = '<sos> ' + w + ' <eos>'\n",
        "  return w"
      ],
      "execution_count": 0,
      "outputs": []
    },
    {
      "cell_type": "code",
      "metadata": {
        "id": "HDEvHcv355ob",
        "colab_type": "code",
        "colab": {
          "base_uri": "https://localhost:8080/",
          "height": 72
        },
        "outputId": "49cc10b2-a876-403c-9471-9cf2f0ef61b3"
      },
      "source": [
        "print(preprocess_en_sentence('Hi! How can I help you?'))\n",
        "print()\n",
        "print(preprocess_cn_sentence('你好！我可以帮什么忙吗？'))"
      ],
      "execution_count": 15,
      "outputs": [
        {
          "output_type": "stream",
          "text": [
            "hi ! how can i help you ?\n",
            "\n",
            "<sos> 你 好 ！ 我 可 以 帮 什 么 忙 吗 ？ <eos>\n"
          ],
          "name": "stdout"
        }
      ]
    },
    {
      "cell_type": "code",
      "metadata": {
        "id": "lVQc5sBA19IK",
        "colab_type": "code",
        "colab": {}
      },
      "source": [
        "num_examples = 17000\n",
        "en_sentences = []\n",
        "cn_sentences = []\n",
        "\n",
        "with open('cmn.txt', 'r', encoding='utf-8') as f:\n",
        "  lines = f.read().split('\\n')\n",
        "  for line in lines[:min(len(lines)-1, num_examples)]:\n",
        "      en_sentence, cn_sentence, _ = line.split('\\t')\n",
        "      en_sentences.append(preprocess_en_sentence(en_sentence))\n",
        "      cn_sentences.append(preprocess_cn_sentence(cn_sentence))"
      ],
      "execution_count": 0,
      "outputs": []
    },
    {
      "cell_type": "code",
      "metadata": {
        "id": "5foQrBFW1-vp",
        "colab_type": "code",
        "colab": {
          "base_uri": "https://localhost:8080/",
          "height": 54
        },
        "outputId": "7e618f19-f908-40c3-af4a-05fa7cafecc4"
      },
      "source": [
        "print(en_sentences[-1])\n",
        "print(cn_sentences[-1])"
      ],
      "execution_count": 17,
      "outputs": [
        {
          "output_type": "stream",
          "text": [
            "what i want is some peace and quiet .\n",
            "<sos> 我 所 想 要 的 是 一 点 平 和 和 安 静 。 <eos>\n"
          ],
          "name": "stdout"
        }
      ]
    },
    {
      "cell_type": "code",
      "metadata": {
        "id": "XTN3txQq9W45",
        "colab_type": "code",
        "colab": {}
      },
      "source": [
        "def tokenize(texts):\n",
        "  tokenizer = Tokenizer(filters='')\n",
        "  tokenizer.fit_on_texts(texts)\n",
        "  tensor = tokenizer.texts_to_sequences(texts)\n",
        "  tensor = pad_sequences(tensor, padding='post')\n",
        "  return tensor, tokenizer"
      ],
      "execution_count": 0,
      "outputs": []
    },
    {
      "cell_type": "code",
      "metadata": {
        "id": "xwZSa4Cu-JMF",
        "colab_type": "code",
        "colab": {}
      },
      "source": [
        "encoder_tensor, encoder_tokenizer = tokenize(en_sentences)\n",
        "decoder_tensor, decoder_tokenizer = tokenize(cn_sentences)\n",
        "\n",
        "# Calculate max_length of the encoder and decoder tensors\n",
        "max_len_encoder = encoder_tensor.shape[1]\n",
        "max_len_decoder = decoder_tensor.shape[1]\n",
        "\n",
        "# Calculate number of unique tokens for the encoder and decoder\n",
        "num_words_encoder = len(encoder_tokenizer.word_index) + 1\n",
        "num_words_decoder = len(decoder_tokenizer.word_index) + 1"
      ],
      "execution_count": 0,
      "outputs": []
    },
    {
      "cell_type": "code",
      "metadata": {
        "id": "8FOb8Jy_rWBr",
        "colab_type": "code",
        "colab": {
          "base_uri": "https://localhost:8080/",
          "height": 54
        },
        "outputId": "60ff16ad-138e-4042-d7cc-a327dee0d04a"
      },
      "source": [
        "print(encoder_tensor.shape)\n",
        "print(decoder_tensor.shape)"
      ],
      "execution_count": 20,
      "outputs": [
        {
          "output_type": "stream",
          "text": [
            "(17000, 12)\n",
            "(17000, 25)\n"
          ],
          "name": "stdout"
        }
      ]
    },
    {
      "cell_type": "markdown",
      "metadata": {
        "id": "sK7PxG-ZAUxm",
        "colab_type": "text"
      },
      "source": [
        "### Encoder and Decoder model"
      ]
    },
    {
      "cell_type": "code",
      "metadata": {
        "id": "AVvsz-IZAVwU",
        "colab_type": "code",
        "colab": {}
      },
      "source": [
        "hidden_units = 1024\n",
        "embedding_dim = 256"
      ],
      "execution_count": 0,
      "outputs": []
    },
    {
      "cell_type": "markdown",
      "metadata": {
        "id": "oIonGWuwb3Gb",
        "colab_type": "text"
      },
      "source": [
        "#### Encoder\n"
      ]
    },
    {
      "cell_type": "code",
      "metadata": {
        "id": "lZtGUotTDhgd",
        "colab_type": "code",
        "colab": {}
      },
      "source": [
        "encoder_inputs = keras.Input(shape=(max_len_encoder,))\n",
        "encoder_embedding = Embedding(num_words_encoder, \n",
        "                              embedding_dim, \n",
        "                              mask_zero=True,\n",
        "                              input_length=max_len_encoder)(encoder_inputs)\n",
        "encoder_outputs, encoder_state_h, encoder_state_c = LSTM(\n",
        "    hidden_units, return_state=True, \n",
        "    return_sequences=True, unroll=True)(encoder_embedding)\n",
        "encoder_states = [encoder_state_h, encoder_state_c]"
      ],
      "execution_count": 0,
      "outputs": []
    },
    {
      "cell_type": "markdown",
      "metadata": {
        "id": "b_XSMF9RPpZW",
        "colab_type": "text"
      },
      "source": [
        "There are two internal states in LSTM, the **hidden state**, usually denoted by **h**, and the **cell state** usually denoted by **c**. The tuple **(c, h)** is the **internal state** of a LSTM. The hidden state h is output for every timestep the LSTM is unrolled. \n",
        "\n",
        "LSTM with `return_sequences=True` returns the hidden state of the LSTM for every timestep in the input to the LSTM. \n",
        "\n",
        "For example, if the input batch is (samples, timesteps, dims), then the call `LSTM(units, return_sequences=True)` will generate output of dimensions (samples, timesteps, units).\n",
        "\n",
        "However, if you also want the final internal cell state of LSTM, use `LSTM(units, return_sequence=True, return_state=True)` instead. <br><br>\n",
        "\n",
        "<img src='https://drive.google.com/uc?id=1uyRKZZ2gl1iSFO65Oq-XY8abTCiXlGNO'></img>\n"
      ]
    },
    {
      "cell_type": "code",
      "metadata": {
        "id": "QuMzxhwubjhA",
        "colab_type": "code",
        "colab": {
          "base_uri": "https://localhost:8080/",
          "height": 72
        },
        "outputId": "bb34c7fc-d721-4849-a748-9c6072180d11"
      },
      "source": [
        "print('encoder_outputs: ', encoder_outputs)\n",
        "print('encoder_state_h: ', encoder_state_h)\n",
        "print('encoder_state_c: ', encoder_state_c)"
      ],
      "execution_count": 23,
      "outputs": [
        {
          "output_type": "stream",
          "text": [
            "encoder_outputs:  Tensor(\"lstm/Identity:0\", shape=(None, 12, 1024), dtype=float32)\n",
            "encoder_state_h:  Tensor(\"lstm/Identity_1:0\", shape=(None, 1024), dtype=float32)\n",
            "encoder_state_c:  Tensor(\"lstm/Identity_2:0\", shape=(None, 1024), dtype=float32)\n"
          ],
          "name": "stdout"
        }
      ]
    },
    {
      "cell_type": "markdown",
      "metadata": {
        "id": "rdGqJlYmb6ZT",
        "colab_type": "text"
      },
      "source": [
        "#### Decoder"
      ]
    },
    {
      "cell_type": "code",
      "metadata": {
        "id": "SrXtiWHPMyFw",
        "colab_type": "code",
        "colab": {}
      },
      "source": [
        "decoder_inputs = keras.Input(shape=(max_len_decoder,))\n",
        "decoder_embedding = Embedding(num_words_decoder, \n",
        "                           embedding_dim, \n",
        "                           input_length=max_len_decoder)(decoder_inputs)\n",
        "decoder_outputs, decoder_state_h, decoder_state_c = LSTM(\n",
        "    hidden_units, return_sequences=True, return_state=True)(\n",
        "        decoder_embedding, initial_state=encoder_states)"
      ],
      "execution_count": 0,
      "outputs": []
    },
    {
      "cell_type": "code",
      "metadata": {
        "id": "_kriXaDpbhK-",
        "colab_type": "code",
        "colab": {
          "base_uri": "https://localhost:8080/",
          "height": 72
        },
        "outputId": "545a3314-ffaa-4662-cf43-682ecac68bb2"
      },
      "source": [
        "print('decoder_outputs: ', decoder_outputs)\n",
        "print('decoder_state_h: ', decoder_state_h)\n",
        "print('decoder_state_c: ', decoder_state_c)"
      ],
      "execution_count": 25,
      "outputs": [
        {
          "output_type": "stream",
          "text": [
            "decoder_outputs:  Tensor(\"lstm_1/Identity:0\", shape=(None, 25, 1024), dtype=float32)\n",
            "decoder_state_h:  Tensor(\"lstm_1/Identity_1:0\", shape=(None, 1024), dtype=float32)\n",
            "decoder_state_c:  Tensor(\"lstm_1/Identity_2:0\", shape=(None, 1024), dtype=float32)\n"
          ],
          "name": "stdout"
        }
      ]
    },
    {
      "cell_type": "markdown",
      "metadata": {
        "id": "Wt5D00WZInWA",
        "colab_type": "text"
      },
      "source": [
        "#### Attention Layer \n",
        "\n",
        "This Attention model is based on the paper: [Efective Approaches to Attention-based Neural Machine Translation](https://arxiv.org/pdf/1508.04025.pdf)."
      ]
    },
    {
      "cell_type": "markdown",
      "metadata": {
        "id": "60zuszGDRGV4",
        "colab_type": "text"
      },
      "source": [
        "Alignment weight vector $\\alpha_t$ based on the current target hidden state $h_t$ and all sources states $\\bar{h}_s$. <br><br>\n",
        "\n",
        "\n",
        "$$\\alpha_t(s) = align(h_t, \\bar{h_s})=\\frac{exp(score(h_t, \\bar{h_s}))}{\\sum_{s^{'}}exp(score(h_t, \\bar{h_{s^{'}}}))}$$\n",
        "\n",
        "<br>\n",
        "Where\n",
        "\n",
        "$$h_t : \\text{current target hidden state}$$\n",
        "<br>\n",
        "$$\\bar{h}_s :  \\text{source hidden state}$$\n",
        "<br>\n",
        "\n",
        "We applied dot score here:<br>\n",
        "\n",
        "$$score(h_t, \\bar{h_s}) = h_t^T\\bar{h_s}$$\n",
        "\n",
        "<br>\n",
        "\n",
        "Documentation for **Dot** layer: https://keras.io/api/layers/merging_layers/dot/\n",
        "\n",
        "> Layer that computes a dot product between samples in two tensors. \n"
      ]
    },
    {
      "cell_type": "code",
      "metadata": {
        "id": "z19k1QJ9e8tY",
        "colab_type": "code",
        "colab": {}
      },
      "source": [
        "from tensorflow.keras.layers import (Dot, Activation, \n",
        "                                     concatenate, \n",
        "                                     TimeDistributed)"
      ],
      "execution_count": 0,
      "outputs": []
    },
    {
      "cell_type": "code",
      "metadata": {
        "id": "-FZV-YxsHfNH",
        "colab_type": "code",
        "colab": {
          "base_uri": "https://localhost:8080/",
          "height": 35
        },
        "outputId": "07309776-2f07-4a99-fa17-306c4fcb10b9"
      },
      "source": [
        "# Attention Layer\n",
        "attention = Dot(axes=2)([decoder_outputs, encoder_outputs])\n",
        "attention = Activation('softmax', name='attention')(attention)\n",
        "print('attention', attention)"
      ],
      "execution_count": 27,
      "outputs": [
        {
          "output_type": "stream",
          "text": [
            "attention Tensor(\"attention/Identity:0\", shape=(None, 25, 12), dtype=float32)\n"
          ],
          "name": "stdout"
        }
      ]
    },
    {
      "cell_type": "markdown",
      "metadata": {
        "id": "w-uo2SeCNq-1",
        "colab_type": "text"
      },
      "source": [
        "This process is illustrated below: <br><br>\n",
        "<img src='https://drive.google.com/uc?id=1--xGolyVK-UWkv6S17GM17mMGsbElGHV'></img>\n"
      ]
    },
    {
      "cell_type": "markdown",
      "metadata": {
        "id": "hP8W4r1ST8T3",
        "colab_type": "text"
      },
      "source": [
        "A **context vector** $c_t$ is then computed as the weighted average of all source states, according to the alignment weight $\\alpha_t$."
      ]
    },
    {
      "cell_type": "code",
      "metadata": {
        "id": "cfFeagNOg4Fo",
        "colab_type": "code",
        "colab": {
          "base_uri": "https://localhost:8080/",
          "height": 35
        },
        "outputId": "2cd582ae-93f8-4276-a90e-0a68a615ed38"
      },
      "source": [
        "context = Dot(axes=[2, 1])([attention, encoder_outputs])\n",
        "print('context', context)"
      ],
      "execution_count": 28,
      "outputs": [
        {
          "output_type": "stream",
          "text": [
            "context Tensor(\"dot_1/Identity:0\", shape=(None, 25, 1024), dtype=float32)\n"
          ],
          "name": "stdout"
        }
      ]
    },
    {
      "cell_type": "markdown",
      "metadata": {
        "id": "RyeUXEGpWArG",
        "colab_type": "text"
      },
      "source": [
        "This process is illustrated below: <br><br>\n",
        "<img src='https://drive.google.com/uc?id=1bIGg3_wl3wqYLBGEgx56heKRNSNn-DWc' width=1000></img>\n"
      ]
    },
    {
      "cell_type": "markdown",
      "metadata": {
        "id": "spVUqpupUcLI",
        "colab_type": "text"
      },
      "source": [
        "Then given the target hidden state $h_t$ and\n",
        "the source-side context vector $c_t$, we employ a\n",
        "simple concatenation layer to combine the information from both vectors to produce an attentional\n",
        "hidden state:\n",
        "\n",
        "$$[c_t; h_t]$$"
      ]
    },
    {
      "cell_type": "code",
      "metadata": {
        "id": "bsSbmvZQHfKd",
        "colab_type": "code",
        "colab": {
          "base_uri": "https://localhost:8080/",
          "height": 35
        },
        "outputId": "117e5fae-81f1-4c85-855f-b32939507810"
      },
      "source": [
        "decoder_combined_context = concatenate([context, decoder_outputs])\n",
        "print('decoder_combined_context', decoder_combined_context)"
      ],
      "execution_count": 127,
      "outputs": [
        {
          "output_type": "stream",
          "text": [
            "decoder_combined_context Tensor(\"concatenate_1/Identity:0\", shape=(None, 25, 2048), dtype=float32)\n"
          ],
          "name": "stdout"
        }
      ]
    },
    {
      "cell_type": "markdown",
      "metadata": {
        "id": "_09uS6GSahOB",
        "colab_type": "text"
      },
      "source": [
        "<img src='https://drive.google.com/uc?id=1ZcyT28CbhhLRAQ7-SCnjOBF85dix9qay' width=1000></img>\n"
      ]
    },
    {
      "cell_type": "markdown",
      "metadata": {
        "id": "rMR0HdJ3U2ME",
        "colab_type": "text"
      },
      "source": [
        "Then we will produce an **attentional hidden state** $\\tilde{h}_t$ as follows: <br> <br>\n",
        "\n",
        "$$\\tilde{h}_t = tanh(W_c[c_t;h_t])$$\n",
        "\n",
        "<br>\n",
        "\n",
        "This attentional hidden state will then be fed through the **softmax layer** to produce the predictive distribution. <br> <br>\n",
        "\n",
        "$$p(y_t|y_{<t}, x) = softmax(W_s \\tilde{h}_t)$$"
      ]
    },
    {
      "cell_type": "markdown",
      "metadata": {
        "id": "c442MnIjWbu1",
        "colab_type": "text"
      },
      "source": [
        "Documentatin of **TimeDistributed** Layer: https://keras.io/api/layers/recurrent_layers/time_distributed/\n",
        "\n",
        ">This wrapper allows to apply a layer to every temporal slice of an input. The input should be at least 3D, and the dimension of index one will be considered to be the temporal dimension.\n",
        ">\n",
        ">For example, consider a batch of 32 video samples, where each sample is a 128x128 RGB image with channels_last data format, across 10 timesteps. The batch input shape is (32, 10, 128, 128, 3)."
      ]
    },
    {
      "cell_type": "code",
      "metadata": {
        "id": "lAZwd0mBHfIM",
        "colab_type": "code",
        "colab": {
          "base_uri": "https://localhost:8080/",
          "height": 35
        },
        "outputId": "ad0df604-5876-40a4-e65c-cf08fb4bc955"
      },
      "source": [
        "output = TimeDistributed(Dense(hidden_units, activation=\"tanh\"))(decoder_combined_context)\n",
        "output = TimeDistributed(Dense(num_words_decoder, activation=\"softmax\"))(output)\n",
        "print('output', output)"
      ],
      "execution_count": 30,
      "outputs": [
        {
          "output_type": "stream",
          "text": [
            "output Tensor(\"time_distributed_1/Identity:0\", shape=(None, 25, 3040), dtype=float32)\n"
          ],
          "name": "stdout"
        }
      ]
    },
    {
      "cell_type": "markdown",
      "metadata": {
        "id": "p4m1Vpyakcfq",
        "colab_type": "text"
      },
      "source": [
        "<img src='https://drive.google.com/uc?id=1lWueNI_nNByU7_lQqCvroMaHafxE3C8W' width=1000></img>"
      ]
    },
    {
      "cell_type": "markdown",
      "metadata": {
        "id": "rdVaOiX3on_K",
        "colab_type": "text"
      },
      "source": [
        "#### The Whole Model"
      ]
    },
    {
      "cell_type": "code",
      "metadata": {
        "id": "waPhDQTYonXN",
        "colab_type": "code",
        "colab": {}
      },
      "source": [
        "model = keras.Model(inputs=[encoder_inputs, decoder_inputs], outputs=[output])\n",
        "model.compile(optimizer='rmsprop', \n",
        "              loss='categorical_crossentropy',\n",
        "              metrics=['accuracy'])"
      ],
      "execution_count": 0,
      "outputs": []
    },
    {
      "cell_type": "code",
      "metadata": {
        "id": "Mz7EWVHcpuuN",
        "colab_type": "code",
        "colab": {
          "base_uri": "https://localhost:8080/",
          "height": 1000
        },
        "outputId": "0d7a388d-5ea1-42b6-9f79-6bdbfd3385a0"
      },
      "source": [
        "tf.keras.utils.plot_model(model, to_file='my_model.png', show_shapes=True)"
      ],
      "execution_count": 32,
      "outputs": [
        {
          "output_type": "execute_result",
          "data": {
            "image/png": "[encoded data removed]",
            "text/plain": [
              "<IPython.core.display.Image object>"
            ]
          },
          "metadata": {
            "tags": []
          },
          "execution_count": 32
        }
      ]
    },
    {
      "cell_type": "markdown",
      "metadata": {
        "id": "YcTg2GgYo71X",
        "colab_type": "text"
      },
      "source": [
        "#### Model Training"
      ]
    },
    {
      "cell_type": "code",
      "metadata": {
        "id": "bOUKyb-ADhjn",
        "colab_type": "code",
        "colab": {}
      },
      "source": [
        "encoder_input = encoder_tensor.copy()\n",
        "\n",
        "decoder_input = np.zeros_like(decoder_tensor)\n",
        "decoder_input[:, 1:] = decoder_tensor[:,:-1]  # The last one is not included\n",
        "decoder_input[:, 0] = decoder_tokenizer.word_index['<sos>']\n",
        "\n",
        "# decoder_output is the same as decoder_input but offset by one timestep.\n",
        "decoder_output =np.zeros_like(decoder_tensor)\n",
        "decoder_output[:, :-1] = decoder_tensor[:,1:]  # The first one is not included\n",
        "decoder_output = np.eye(num_words_decoder)[decoder_output.astype('int')]"
      ],
      "execution_count": 0,
      "outputs": []
    },
    {
      "cell_type": "code",
      "metadata": {
        "id": "df0GHk_etmul",
        "colab_type": "code",
        "colab": {
          "base_uri": "https://localhost:8080/",
          "height": 72
        },
        "outputId": "3a1be287-1fff-4198-b5b0-0fd822dcec23"
      },
      "source": [
        "print(encoder_input.shape)\n",
        "print(decoder_input.shape)\n",
        "print(decoder_output.shape)"
      ],
      "execution_count": 84,
      "outputs": [
        {
          "output_type": "stream",
          "text": [
            "(17000, 12)\n",
            "(17000, 25)\n",
            "(17000, 25, 3040)\n"
          ],
          "name": "stdout"
        }
      ]
    },
    {
      "cell_type": "code",
      "metadata": {
        "id": "lNXhWTjKeTU3",
        "colab_type": "code",
        "colab": {}
      },
      "source": [
        "my_callbacks = [EarlyStopping(patience=3)]"
      ],
      "execution_count": 0,
      "outputs": []
    },
    {
      "cell_type": "code",
      "metadata": {
        "id": "M0LmP0J5tB2f",
        "colab_type": "code",
        "colab": {
          "base_uri": "https://localhost:8080/",
          "height": 237
        },
        "outputId": "a70abe29-9501-497d-a3e2-79eb88c894af"
      },
      "source": [
        "BATCH_SIZE = 16\n",
        "EPOCHS = 10\n",
        "model.fit([encoder_input, decoder_input], \n",
        "           decoder_output,\n",
        "           batch_size=BATCH_SIZE,\n",
        "           epochs=EPOCHS,\n",
        "           callbacks=my_callbacks,\n",
        "           validation_split=0.2)"
      ],
      "execution_count": 86,
      "outputs": [
        {
          "output_type": "stream",
          "text": [
            "Epoch 1/10\n",
            "850/850 [==============================] - 830s 977ms/step - loss: 1.0094 - accuracy: 0.8112 - val_loss: 1.8427 - val_accuracy: 0.6941\n",
            "Epoch 2/10\n",
            "850/850 [==============================] - 830s 976ms/step - loss: 0.8721 - accuracy: 0.8331 - val_loss: 1.8417 - val_accuracy: 0.6998\n",
            "Epoch 3/10\n",
            "850/850 [==============================] - 846s 995ms/step - loss: 0.7285 - accuracy: 0.8585 - val_loss: 1.8453 - val_accuracy: 0.7014\n",
            "Epoch 4/10\n",
            "850/850 [==============================] - 836s 984ms/step - loss: 0.5986 - accuracy: 0.8840 - val_loss: 1.8776 - val_accuracy: 0.7036\n",
            "Epoch 5/10\n",
            "850/850 [==============================] - 840s 988ms/step - loss: 0.4976 - accuracy: 0.9068 - val_loss: 1.8987 - val_accuracy: 0.7046\n"
          ],
          "name": "stdout"
        },
        {
          "output_type": "execute_result",
          "data": {
            "text/plain": [
              "<tensorflow.python.keras.callbacks.History at 0x7f5046966748>"
            ]
          },
          "metadata": {
            "tags": []
          },
          "execution_count": 86
        }
      ]
    },
    {
      "cell_type": "code",
      "metadata": {
        "id": "fKvA1rIL0tO6",
        "colab_type": "code",
        "colab": {}
      },
      "source": [
        "model.save('seq2seq_attention_model.h5')\n",
        "# from google.colab import files\n",
        "# files.download('seq2seq_attention_model.h5')\n",
        "# from keras.models import load_model\n",
        "# model = load_model('seq2seq_attention_model.h5')"
      ],
      "execution_count": 0,
      "outputs": []
    },
    {
      "cell_type": "markdown",
      "metadata": {
        "id": "CUR-tC46cxjk",
        "colab_type": "text"
      },
      "source": [
        "<img src='https://drive.google.com/uc?id=1DbDSjuv2a5-XVgXaVg6bRijJ-69Dj-7y' width=800></img>"
      ]
    },
    {
      "cell_type": "markdown",
      "metadata": {
        "id": "-CFcsUWbeIm0",
        "colab_type": "text"
      },
      "source": [
        "Note the `decoder input` at time step `t` is the `decoder output` at time step `t-1`."
      ]
    },
    {
      "cell_type": "code",
      "metadata": {
        "id": "13YTe1zGte5m",
        "colab_type": "code",
        "colab": {}
      },
      "source": [
        "def predict(text):\n",
        "  text = preprocess_en_sentence(text)\n",
        "  encoder_input = pad_sequences(encoder_tokenizer.texts_to_sequences([text]), \n",
        "                                maxlen=max_len_encoder, padding='post')\n",
        "  decoder_input = np.zeros(shape=(len(encoder_input), max_len_decoder))\n",
        "  decoder_input[:,0] = decoder_tokenizer.word_index['<sos>']\n",
        "  for i in range(1, max_len_decoder):\n",
        "      output = model.predict([encoder_input, decoder_input]).argmax(axis=2)\n",
        "      decoder_input[:,i] = int(output[:,i-1])\n",
        "  return decoder_input[:, 1:][0]\n",
        "\n",
        "def decode(index_sequence):\n",
        "  text = ''\n",
        "  for index in index_sequence:\n",
        "      if index == 0:\n",
        "         text = text \n",
        "      elif index == decoder_tokenizer.word_index['<eos>']:\n",
        "         break\n",
        "      else:\n",
        "         text += decoder_tokenizer.index_word[index]\n",
        "  return text"
      ],
      "execution_count": 0,
      "outputs": []
    },
    {
      "cell_type": "code",
      "metadata": {
        "id": "fCG-neDf4kqF",
        "colab_type": "code",
        "colab": {
          "base_uri": "https://localhost:8080/",
          "height": 72
        },
        "outputId": "c6160249-98f7-444a-a84d-28a18f01aa05"
      },
      "source": [
        "print(decode(predict(text='How is your day?')))\n",
        "print(decode(predict(text='I like you!')))\n",
        "print(decode(predict(text='I want to eat dinner!')))"
      ],
      "execution_count": 114,
      "outputs": [
        {
          "output_type": "stream",
          "text": [
            "你天怎样？\n",
            "我喜你\n",
            "我想吃饭饭饭？\n"
          ],
          "name": "stdout"
        }
      ]
    },
    {
      "cell_type": "markdown",
      "metadata": {
        "id": "6UYuz9mr9Z21",
        "colab_type": "text"
      },
      "source": [
        "### Visualize Attention Layer"
      ]
    },
    {
      "cell_type": "code",
      "metadata": {
        "id": "rQczaSB07lFT",
        "colab_type": "code",
        "colab": {
          "base_uri": "https://localhost:8080/",
          "height": 54
        },
        "outputId": "a0b73fd7-89b6-42e9-ade0-69594fef9f8c"
      },
      "source": [
        "attention_layer = model.get_layer('attention') \n",
        "attention_model = keras.Model(inputs=model.inputs, \n",
        "                              outputs=model.outputs + [attention_layer.output])\n",
        "print(attention_model)\n",
        "print(attention_model.output_shape)"
      ],
      "execution_count": 90,
      "outputs": [
        {
          "output_type": "stream",
          "text": [
            "<tensorflow.python.keras.engine.training.Model object at 0x7f50649bc6d8>\n",
            "[(None, 25, 3040), (None, 25, 12)]\n"
          ],
          "name": "stdout"
        }
      ]
    },
    {
      "cell_type": "code",
      "metadata": {
        "id": "PvHOdFrIG11v",
        "colab_type": "code",
        "colab": {}
      },
      "source": [
        "# Use external font for chinese character\n",
        "import matplotlib.font_manager as fm\n",
        "path = '/usr/share/fonts/truetype/chinese.stsong.ttf'\n",
        "fontprop = fm.FontProperties(fname=path, size=14)"
      ],
      "execution_count": 0,
      "outputs": []
    },
    {
      "cell_type": "code",
      "metadata": {
        "id": "P2zFTdmY7zbd",
        "colab_type": "code",
        "colab": {}
      },
      "source": [
        "import matplotlib as mpl\n",
        "import matplotlib.pyplot as plt\n",
        "import seaborn as sns\n",
        "def attent_and_generate(text):\n",
        "    text = preprocess_en_sentence(text)\n",
        "    encoder_input = pad_sequences(encoder_tokenizer.texts_to_sequences([text]), \n",
        "                                  maxlen=max_len_encoder, padding='post')\n",
        "    decoder_input = np.zeros(shape=(len(encoder_input), max_len_decoder))\n",
        "    decoder_input[:,0] = decoder_tokenizer.word_index['<sos>']\n",
        "    \n",
        "    for i in range(1, max_len_decoder):\n",
        "        output, attention = attention_model.predict([encoder_input, decoder_input])\n",
        "        decoder_input[:,i] = output.argmax(axis=2)[:,i-1]\n",
        "        attention_density = attention[0]\n",
        "        decoded_output = decode(decoder_input[0][1:])\n",
        "        \n",
        "    return text, attention_density, decoded_output\n",
        "\n",
        "def visualize(text):\n",
        "    text, attention_density, chinese = attent_and_generate(text)\n",
        "    xticklabels = [w for w in text.split()]\n",
        "    yticklabels = [w for w in chinese]\n",
        "\n",
        "    plt.clf()\n",
        "    plt.figure(figsize=(8, 6))\n",
        "    ax = sns.heatmap(attention_density[:len(chinese), :len(text.split())], \n",
        "                     cmap='viridis')\n",
        "    ax.set_xticklabels(xticklabels)\n",
        "    ax.set_yticklabels(yticklabels, fontproperties=fontprop)\n",
        "    ax.invert_yaxis()\n",
        "    plt.show()"
      ],
      "execution_count": 0,
      "outputs": []
    },
    {
      "cell_type": "code",
      "metadata": {
        "id": "sXnzvABK8Oom",
        "colab_type": "code",
        "colab": {
          "base_uri": "https://localhost:8080/",
          "height": 395
        },
        "outputId": "5862f25c-b8bd-4067-a093-41237a9dcabb"
      },
      "source": [
        "txt = 'How can I help you?'\n",
        "visualize(txt)\n",
        "plt.show()"
      ],
      "execution_count": 126,
      "outputs": [
        {
          "output_type": "display_data",
          "data": {
            "text/plain": [
              "<Figure size 432x288 with 0 Axes>"
            ]
          },
          "metadata": {
            "tags": []
          }
        },
        {
          "output_type": "display_data",
          "data": {
            "image/png": "[encoded data removed]",
            "text/plain": [
              "<Figure size 576x432 with 2 Axes>"
            ]
          },
          "metadata": {
            "tags": []
          }
        }
      ]
    }
  ]
}