{
 "cells": [
  {
   "cell_type": "markdown",
   "metadata": {},
   "source": [
    "## Backpropagation of Neural Network \n",
    "### Learn from Logistic Regression\n",
    "\n",
    "In this note I will derive the back propagation process of a shallow neural network and compare it with logistic regression model.\n",
    "For the detailed deviation of the formula for logistic regression, check [this note for logistic regression]('../ml/logistic_regression').\n",
    "\n",
    "<img src=\"https://drive.google.com/uc?id=1aRUj2ieUW2VZE8FfduU2BJ1dO9lcEQtB\"></img>"
   ]
  },
  {
   "cell_type": "code",
   "execution_count": null,
   "metadata": {},
   "outputs": [],
   "source": []
  }
 ],
 "metadata": {
  "kernelspec": {
   "display_name": "Python 3",
   "language": "python",
   "name": "python3"
  },
  "language_info": {
   "codemirror_mode": {
    "name": "ipython",
    "version": 3
   },
   "file_extension": ".py",
   "mimetype": "text/x-python",
   "name": "python",
   "nbconvert_exporter": "python",
   "pygments_lexer": "ipython3",
   "version": "3.7.6"
  }
 },
 "nbformat": 4,
 "nbformat_minor": 4
}
