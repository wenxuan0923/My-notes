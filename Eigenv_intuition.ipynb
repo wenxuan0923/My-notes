{
  "nbformat": 4,
  "nbformat_minor": 0,
  "metadata": {
    "colab": {
      "name": "Eigenv_intuition.ipynb",
      "provenance": [],
      "collapsed_sections": [],
      "authorship_tag": "ABX9TyMDbIqTU7cL/XW7GylIpNHf",
      "include_colab_link": true
    },
    "kernelspec": {
      "name": "python3",
      "display_name": "Python 3"
    }
  },
  "cells": [
    {
      "cell_type": "markdown",
      "metadata": {
        "id": "view-in-github",
        "colab_type": "text"
      },
      "source": [
        "<a href=\"https://colab.research.google.com/github/wenxuan0923/My-notes/blob/master/Eigenv_intuition.ipynb\" target=\"_parent\"><img src=\"https://colab.research.google.com/assets/colab-badge.svg\" alt=\"Open In Colab\"/></a>"
      ]
    },
    {
      "cell_type": "markdown",
      "metadata": {
        "id": "b1g3aPKMqD84",
        "colab_type": "text"
      },
      "source": [
        "# Intuition behind Eigenvalue, Eigenvector and Eigendecomposition\n",
        "\n",
        "In this note I will explain the intuition behind **eigenvalue**, **eigenvector**, and **eigendecomposition** using visualization, and show you how to calculate them using Numpy. These concepts are very important for us to understand methods like Singular Value Decomposition, Latent Matrix Factorization, Principal Component Analysis and a lot more."
      ]
    },
    {
      "cell_type": "code",
      "metadata": {
        "id": "rBMS9lVu4aZ5",
        "colab_type": "code",
        "colab": {}
      },
      "source": [
        "import numpy as np\n",
        "import matplotlib\n",
        "import matplotlib.pyplot as plt\n",
        "matplotlib.style.use('seaborn-whitegrid')"
      ],
      "execution_count": 2,
      "outputs": []
    },
    {
      "cell_type": "markdown",
      "metadata": {
        "id": "i6byyfxauGFY",
        "colab_type": "text"
      },
      "source": [
        "First thing first, we need to understand **matrix multiplication** defined as:\n",
        "\n",
        "<br>$$\\mathbf{C_{(m*n)}} = A_{(m*p)}X_{(p*n)}$$ <br>\n",
        "\n",
        "Specificlly, the item on the i-th row and j-th column in $\\mathbf{C}$ is defined as:\n",
        "\n",
        "<br>$$\\mathbf{C_{i,j}} = \\sum_{k=1}^{p}A_{i,k}X_{k,j}$$\n",
        "\n",
        "## Single vector transformation\n",
        "\n",
        "To simply things a bit, we start with the case where $x$ is a single vector.\n",
        "\n",
        "<br>$$\\mathbf{C_{(m*1)}} = A_{(m*p)}x_{(p*1)}$$ <br>\n",
        "\n",
        "We can think of a matrix $\\mathbf{A}$ as a **transformation** that acts on a $p$-dimentional vector $x$ by multiplication to produce a $m$-dimentional new vector $\\mathbf{A}x$. We will use python to visualize these transformations.\n",
        "\n",
        "**Helper function to visualize single vector transformation**"
      ]
    },
    {
      "cell_type": "code",
      "metadata": {
        "id": "MXcX3VnIuXwm",
        "colab_type": "code",
        "colab": {}
      },
      "source": [
        "def viz_single_trans(orignal_data, scaled_data, title=''):\n",
        "  origin = [0], [0]   # origin point\n",
        "  f, ax = plt.subplots(figsize=(6, 5))  \n",
        "  x, y = orignal_data[0], orignal_data[1] \n",
        "  t_x, t_y = scaled_data[0], scaled_data[1] \n",
        "  ax.quiver(*origin, x, y, \n",
        "            color='b', scale_units='xy', \n",
        "            width=0.01, angles='xy', scale=1)\n",
        "  ax.quiver(*origin, t_x, t_y, \n",
        "            color='r', scale_units='xy', \n",
        "            width=0.01, angles='xy', scale=1)\n",
        "  ax.text(x + 0.1, y + 0.1, \"$\\mathbf{x}$\", color='b', fontsize=14)\n",
        "  ax.text(t_x + 0.1, t_y + 0.1, \"$\\mathbf{t}$\", color='r', fontsize=14)\n",
        "  ax.set_xlim([-2, 2])\n",
        "  ax.set_ylim([-2, 2])\n",
        "  ax.set_aspect('equal')\n",
        "  ax.axhline(y=0, color='k')\n",
        "  ax.axvline(x=0, color='k')\n",
        "  ax.set_title(title)\n",
        "  plt.show()"
      ],
      "execution_count": 1,
      "outputs": []
    },
    {
      "cell_type": "markdown",
      "metadata": {
        "id": "FbNbSohTuZ6H",
        "colab_type": "text"
      },
      "source": [
        "**Case 1: Rotation Matrix** \n",
        "\n",
        "$$A = \\begin{bmatrix}\n",
        "cos(\\theta) & -sin(\\theta) \\\\\n",
        "sin(\\theta) & cos(\\theta)\n",
        " \\end{bmatrix}$$"
      ]
    },
    {
      "cell_type": "code",
      "metadata": {
        "id": "JkMk0E9eRsHO",
        "colab_type": "code",
        "colab": {
          "base_uri": "https://localhost:8080/",
          "height": 331
        },
        "outputId": "f44caf8e-3c17-4040-b5c6-2c0b7f81cc7f"
      },
      "source": [
        "# orignal vector\n",
        "x = np.array([1, 0])  \n",
        "# 45 degrees in radian\n",
        "theta = (45*np.pi)/180   \n",
        "# Rotation matrix for 45 degrees\n",
        "A = np.array([[np.cos(theta), -np.sin(theta)],\n",
        "              [np.sin(theta), np.cos(theta)]]) \n",
        "# the rotated vector\n",
        "Ax = np.matmul(A, x)\n",
        "viz_single_trans(x, Ax, title='Rotation Transformation')"
      ],
      "execution_count": 3,
      "outputs": [
        {
          "output_type": "display_data",
          "data": {
            "image/png": "[encoded data removed]",
            "text/plain": [
              "<Figure size 432x360 with 1 Axes>"
            ]
          },
          "metadata": {
            "tags": []
          }
        }
      ]
    },
    {
      "cell_type": "markdown",
      "metadata": {
        "id": "ocYk_dg9UTCI",
        "colab_type": "text"
      },
      "source": [
        "In this example, the multiplication with matrix A rotates the original vector $(1,0)$ by 45 degree (counterclockwisely) and its magnitude remain unchanged.\n",
        "\n",
        "**Case 2: Streching Matrix in x-direction**\n",
        "\n",
        "$$B = \\begin{bmatrix}\n",
        "m & 0 \\\\\n",
        "0 & 1\n",
        "\\end{bmatrix}$$"
      ]
    },
    {
      "cell_type": "code",
      "metadata": {
        "id": "g20rPKgNSDFM",
        "colab_type": "code",
        "colab": {
          "base_uri": "https://localhost:8080/",
          "height": 331
        },
        "outputId": "d29e1cb0-f3b2-4e03-90f7-02f60a071af2"
      },
      "source": [
        "x = np.array([1, 0])  \n",
        "B = np.array([[2, 0], \n",
        "              [0, 1]]) \n",
        "# the stretched vector\n",
        "Bx = np.matmul(B, x)  \n",
        "viz_single_trans(x, Bx, title='Stretching in x-diretion')"
      ],
      "execution_count": 4,
      "outputs": [
        {
          "output_type": "display_data",
          "data": {
            "image/png": "[encoded data removed]",
            "text/plain": [
              "<Figure size 432x360 with 1 Axes>"
            ]
          },
          "metadata": {
            "tags": []
          }
        }
      ]
    },
    {
      "cell_type": "markdown",
      "metadata": {
        "id": "JVY9YhGFgc6a",
        "colab_type": "text"
      },
      "source": [
        "In this example, the multiplication with matrix $\\mathbf{B}$ does not change the direction of vector $(1, 0)$ but only stretches it. This is the same with multiplying the vector with a scaler value. In this example, we can simply represent the transformation as:\n",
        "\n",
        "<br> $$Bx = 2x$$ \n",
        "\n",
        "**Case 3: Streching Matrix in y-direction**\n",
        "\n",
        "\n",
        "$$C = \\begin{bmatrix}\n",
        "1 & 0 \\\\\n",
        "0 & n\n",
        "\\end{bmatrix}$$"
      ]
    },
    {
      "cell_type": "code",
      "metadata": {
        "id": "0x2R_xTnUp8u",
        "colab_type": "code",
        "colab": {
          "base_uri": "https://localhost:8080/",
          "height": 331
        },
        "outputId": "5fcafc5b-99f7-4ef1-bf80-2463e81d4c0e"
      },
      "source": [
        "x = np.array([0, 0.5])  \n",
        "C = np.array([[1, 0], \n",
        "              [0, 3]]) \n",
        "# the stretched vector\n",
        "Cx = np.matmul(C, x)  \n",
        "viz_single_trans(x, Cx, title='Stretching in y-diretion')"
      ],
      "execution_count": null,
      "outputs": [
        {
          "output_type": "display_data",
          "data": {
            "image/png": "[encoded data removed]",
            "text/plain": [
              "<Figure size 432x360 with 1 Axes>"
            ]
          },
          "metadata": {
            "tags": []
          }
        }
      ]
    },
    {
      "cell_type": "markdown",
      "metadata": {
        "id": "IN8X2J25hviZ",
        "colab_type": "text"
      },
      "source": [
        "Similarly, in the case above the matrix $\\mathbf{C}$ does not change the direction of vector $(0, 0.5)$ but only stretches it. Again, it can be represented as:\n",
        "\n",
        "$$Cx = 3x$$ <br>\n",
        "\n",
        "However, this is not always the case. Check the following examples:\n",
        "\n",
        "**Case 4: Both Streching and Rotation**\n"
      ]
    },
    {
      "cell_type": "code",
      "metadata": {
        "id": "opDVr9J8gluJ",
        "colab_type": "code",
        "colab": {
          "base_uri": "https://localhost:8080/",
          "height": 331
        },
        "outputId": "27ac5e91-fa02-4b8b-83eb-4b0319a8f358"
      },
      "source": [
        "x = np.array([1, 0.5])  \n",
        "Bx = np.matmul(B, x)  \n",
        "viz_single_trans(x, Bx, title='Both roation and stretching')"
      ],
      "execution_count": null,
      "outputs": [
        {
          "output_type": "display_data",
          "data": {
            "image/png": "[encoded data removed]",
            "text/plain": [
              "<Figure size 432x360 with 1 Axes>"
            ]
          },
          "metadata": {
            "tags": []
          }
        }
      ]
    },
    {
      "cell_type": "code",
      "metadata": {
        "id": "ErdyDXFDiUAx",
        "colab_type": "code",
        "colab": {
          "base_uri": "https://localhost:8080/",
          "height": 331
        },
        "outputId": "2832f54d-b70d-41eb-826e-c149a82db108"
      },
      "source": [
        "x = np.array([1, 0.5])  \n",
        "Cx = np.matmul(C, x)  \n",
        "viz_single_trans(x, Cx, title='Both roation and stretching')"
      ],
      "execution_count": null,
      "outputs": [
        {
          "output_type": "display_data",
          "data": {
            "image/png": "[encoded data removed]",
            "text/plain": [
              "<Figure size 432x360 with 1 Axes>"
            ]
          },
          "metadata": {
            "tags": []
          }
        }
      ]
    },
    {
      "cell_type": "markdown",
      "metadata": {
        "id": "shRv7Q9Lgtd3",
        "colab_type": "text"
      },
      "source": [
        "In these two examples, we apply the same matrixes $\\mathbf{B}$ and $\\mathbf{C}$ to a different vector $(1, 0.5)$, it turns out change both the direction and the magnitude of this vector. This is because the general effect of matrix on the vectors is a **combination of rotation and stretching**. However, for each matrix $\\mathbf{M}$, there exists some vectors who have this property that multipling with $\\mathbf{M}$ have the same effect with multipling an scaler $\\lambda$: \n",
        "\n",
        "$$Mx = \\lambda x$$ <br>\n",
        "\n",
        "\n",
        "These vectors $x$ are called the **eigenvectors** of $\\mathbf{M}$, and their corresponding scalar quantity $\\lambda$ is called an **eigenvalue** of $\\mathbf{M}$ for that eigenvector. This idea can be better understood with groups of vectors transformation below.\n",
        "\n",
        "## Transformation of group of vectors\n",
        "\n",
        "Now, instead of applying transformation on a single vector, we can apply on a group of vectors. \n",
        "\n",
        "Here I will be using the unit circle defined by $(cos(\\theta), sin(\\theta))$ where $\\theta \\in [0, 2\\pi]$ for illustration.\n",
        "\n",
        "**Helper function to visualize group transformation**"
      ]
    },
    {
      "cell_type": "code",
      "metadata": {
        "id": "Ix_YNSrkDZFX",
        "colab_type": "code",
        "colab": {}
      },
      "source": [
        "def viz_group_trans(orignal_data, scaled_data):\n",
        "  origin = [0], [0]   # origin point\n",
        "  fig = plt.figure(figsize=(10, 15)) \n",
        "  def _plot(ax, x1, y1, x2, y2, isorigin):\n",
        "    label = 'x' if isorigin else 't'\n",
        "    color = 'b' if isorigin else 'r'\n",
        "    ax.quiver(*origin, x1, y1, \n",
        "              color=color, scale_units='xy', \n",
        "              width=0.01, angles='xy', scale=1)\n",
        "    ax.quiver(*origin, x2, y2, \n",
        "              color=color, scale_units='xy', \n",
        "              width=0.01, angles='xy', scale=1)\n",
        "    if isorigin:\n",
        "      ax.plot(orignal_data[:,0], orignal_data[:,1])\n",
        "    else:\n",
        "      ax.plot(scaled_data[:,0], scaled_data[:,1])\n",
        "    ax.set_title(\"After transformation\")\n",
        "    ax.text(x1 + 0.2, y1 + 0.1, \"$\\mathbf{\"+label+\"_1}$\", color=color, fontsize=14)\n",
        "    ax.text(x2 + 0.2, y2 + 0.1, \"$\\mathbf{\"+label+\"_2}$\", color=color, fontsize=14)\n",
        "    ax.set_aspect('equal')\n",
        "    ax.axhline(y=0, color='k')\n",
        "    ax.axvline(x=0, color='k')\n",
        "    ax.set_xlim([-4, 4])\n",
        "    ax.set_ylim([-4, 4])\n",
        "\n",
        "  ax1 = fig.add_subplot(1, 2, 1)  \n",
        "  x1, y1 = orignal_data[0, 0], orignal_data[0, 1]  # random example 1\n",
        "  x2, y2 = orignal_data[90, 0], orignal_data[90, 1]  # random example 2\n",
        "  _plot(ax1, x1, y1, x2, y2, isorigin=True)\n",
        "  ax1.set_title(\"Before transformation\")\n",
        "\n",
        "  ax2 = fig.add_subplot(1, 2, 2)  \n",
        "  x1, y1 = scaled_data[0, 0], scaled_data[0, 1]  # transformed example 1\n",
        "  x2, y2 = scaled_data[90, 0], scaled_data[90, 1]  # transformed example 2\n",
        "  _plot(ax2, x1, y1, x2, y2, isorigin=False)\n",
        "  ax2.set_title(\"After transformation\")\n",
        "  \n",
        "  plt.show()"
      ],
      "execution_count": 5,
      "outputs": []
    },
    {
      "cell_type": "code",
      "metadata": {
        "id": "lCK7hxauZ_rg",
        "colab_type": "code",
        "colab": {}
      },
      "source": [
        "# Generate data on a unit circle\n",
        "x = np.cos(np.linspace(0, 2*np.pi, num=360))\n",
        "y = np.sin(np.linspace(0, 2*np.pi, num=360)) \n",
        "orignal_data = np.column_stack([x, y])"
      ],
      "execution_count": 6,
      "outputs": []
    },
    {
      "cell_type": "code",
      "metadata": {
        "id": "zj5kovCDDHj2",
        "colab_type": "code",
        "colab": {
          "base_uri": "https://localhost:8080/",
          "height": 313
        },
        "outputId": "d5e82cfd-71e4-40ac-9671-edb1b02f35c8"
      },
      "source": [
        "A = np.array([[3, 2],\n",
        "              [0, 2]]) \n",
        "scaled_data = np.matmul(A, orignal_data.T).T\n",
        "viz_group_trans(orignal_data, scaled_data)"
      ],
      "execution_count": 7,
      "outputs": [
        {
          "output_type": "display_data",
          "data": {
            "image/png": "[encoded data removed]",
            "text/plain": [
              "<Figure size 720x1080 with 2 Axes>"
            ]
          },
          "metadata": {
            "tags": []
          }
        }
      ]
    },
    {
      "cell_type": "markdown",
      "metadata": {
        "id": "m_DJpbcln8ug",
        "colab_type": "text"
      },
      "source": [
        "The sample vectors $x_1$ and $x_2$ on the unit circle are transformed into $t_1$ and $t_2$ respectively, namely:\n",
        "\n",
        "<br>$$t_1 = \\mathbf{A}x_1 \\qquad  t_2 = \\mathbf{A}x_2$$<br>\n",
        "\n",
        "From this example you can see that the multiplication with matrix $\\mathbf{A}$ only changes the magnitude of vector $x_1$, but changes both of the direction and magnitude of vector $x_2$. This means $x_1=(1,0)$ is an eigenvector of matrix $\\mathbf{A}$ with eigenvalue 3, but $x_2=(0,1)$ is not."
      ]
    },
    {
      "cell_type": "code",
      "metadata": {
        "id": "OvmVO1NdNjzj",
        "colab_type": "code",
        "colab": {
          "base_uri": "https://localhost:8080/",
          "height": 313
        },
        "outputId": "61a417cc-55eb-4ba2-a8a3-9b6c55732695"
      },
      "source": [
        "A = np.array([[1, 0],\n",
        "              [0, 3]]) \n",
        "scaled_data = np.matmul(A, orignal_data.T).T\n",
        "viz_group_trans(orignal_data, scaled_data)"
      ],
      "execution_count": 8,
      "outputs": [
        {
          "output_type": "display_data",
          "data": {
            "image/png": "[encoded data removed]",
            "text/plain": [
              "<Figure size 720x1080 with 2 Axes>"
            ]
          },
          "metadata": {
            "tags": []
          }
        }
      ]
    },
    {
      "cell_type": "markdown",
      "metadata": {
        "id": "qEYYEzmro-DS",
        "colab_type": "text"
      },
      "source": [
        "In this case, both $x_1=(1,0)$ and $x_2=(0,1)$ are eigenvectors of matrix $\\mathbf{A}$ with eigenvalues 1 and 3 respectively. Another thing you may already notice is: these two eigenvectors are along the major and minor axes of the eclipse (principal axes).\n",
        "\n",
        "An eclipse can be thought of as a circle stretched or shrunk along its principal axes. In this example matrix $\\mathbf{A}$ transforms the initial unit circle by stretching it along the direction of its eigenvectors: $x_1$ (minor axis) and $x_2$ (major axis), or $t_1$ and $t_2$ since they have the same direction with $x_1$ and $x_2$ respectively. This is a special property of symmetric matrix. \n",
        "\n",
        "- **Property 1:** A symmetric matrix transforms a vector by stretching or shrinking it along its eigenvectors by its corresponding eigenvalues. \n",
        "\n",
        "So when you have more stretching in the direction of an eigenvector, the eigenvalue corresponding to that eigenvector will be greater. That's why the eigenvector $x_2$ has a larger eigenvalue 3 than $x_1$.\n",
        "\n",
        "Recall a **symmetric matrix** is a square matrix with property:\n",
        "\n",
        "$$A_{i,j} = A_{j, i}$$\n",
        "\n",
        "In this example:\n",
        "\n",
        "$$A = \\begin{bmatrix} 1 & 0 \\\\ 0 & 3 \\end{bmatrix}$$\n",
        "\n",
        "Is a $2*2$ symmetric matrix (elements on the main diagonal do not matter).\n",
        "\n",
        "Another importatant property of symmetric metrices is: \n",
        "- **Property 2:** an $n×n$ symmetric matrix has $n$ linearly independent eigenvectors and are perpendicular to each other and form orthogonal vectors\n",
        "\n",
        "## Calculate eigenvalues and eigenvectors with Numpy\n",
        "\n",
        "Now Let's see the calculation of eigenvector and eigenvalues using Numpy and verify the examples above."
      ]
    },
    {
      "cell_type": "code",
      "metadata": {
        "id": "t32wEYbYOmKs",
        "colab_type": "code",
        "colab": {}
      },
      "source": [
        "from numpy import linalg as LA\n",
        "A = np.array([[1, 0],\n",
        "              [0, 3]]) \n",
        "w, v = LA.eig(A)"
      ],
      "execution_count": null,
      "outputs": []
    },
    {
      "cell_type": "markdown",
      "metadata": {
        "id": "Qs5lCeQ0roI8",
        "colab_type": "text"
      },
      "source": [
        "- `w` contains the eigenvalues, \n",
        "- `v` contains the corresponding eigenvectors, one eigenvector per column"
      ]
    },
    {
      "cell_type": "code",
      "metadata": {
        "id": "HS0r8pQTnrAO",
        "colab_type": "code",
        "colab": {
          "base_uri": "https://localhost:8080/",
          "height": 72
        },
        "outputId": "23db9fad-79ab-4b50-e38f-161951585a26"
      },
      "source": [
        "print(w)\n",
        "print(v)"
      ],
      "execution_count": null,
      "outputs": [
        {
          "output_type": "stream",
          "text": [
            "[1. 3.]\n",
            "[[1. 0.]\n",
            " [0. 1.]]\n"
          ],
          "name": "stdout"
        }
      ]
    },
    {
      "cell_type": "markdown",
      "metadata": {
        "id": "XBDJlLt-rU26",
        "colab_type": "text"
      },
      "source": [
        "The eigenvalue `w[0]` goes with the 0-th column of `v`. The eigenvalue `w[1]` goes with column 1, meaning the matrix: <br><br>\n",
        "\n",
        "$$A = \\begin{bmatrix} 1 & 0 \\\\ 0 & 3 \\end{bmatrix}$$\n",
        "\n",
        "has\n",
        "1. **eigenvector:** $\\begin{bmatrix} 1 \\\\0 \\end{bmatrix}$ and the corresponding **eigenvalue:** 1\n",
        "2. **eigenvector:** $\\begin{bmatrix} 0 \\\\1 \\end{bmatrix}$ and the corresponding **eigenvalue:** 3\n",
        "\n",
        "This is consistent with our analysis above! **Note the eigenvectors are normalized so their l2 norms will always be 1.**"
      ]
    },
    {
      "cell_type": "markdown",
      "metadata": {
        "id": "1I8zLps1ioC6",
        "colab_type": "text"
      },
      "source": [
        "## Eigendecomposition for Symmetric Matrix\n",
        "\n",
        "**Matrix decomposition** is a useful tool for reducing a matrix to their constituent parts in order to simplify a range of more complicated operations. Perhaps the most used type of matrix decomposition is the **eigendecomposition** that decomposes a matrix into eigenvectors and eigenvalues.\n",
        "\n",
        "A $\\color{red}{\\text{symmetric matrix}}$ is orthogonally diagonalizable. It means for a $n×n$ symmetric matrix $\\mathbf{A}$ with $n$ linearly independent eigenvectors $v_i$ and corresponding eigenvalues $\\lambda_i$ , we can decompose it as:\n",
        "\n",
        "<br>$$A = Q\\Lambda Q^{-1}$$<br>\n",
        "\n",
        "where $Q$ is the square $n × n$ matrix whose i-th column is the eigenvector $v_i$ of A, since $Q$ is formed from the eigenvectors of $A$,  it is guaranteed to be an **orthogonal matrix**, therefore $Q^{-1} = Q^T$. $\\Lambda$ is the diagonal matrix whose diagonal elements are the corresponding eigenvalues, $\\Lambda_{ii} = λ_i$. That is:\n",
        "\n",
        "$$A = \\begin{bmatrix} v_1 & v_2 & ... & v_n \\end{bmatrix} \\begin{bmatrix} \n",
        "\\lambda_1 & 0 & ... & 0\\\\\n",
        "0 & \\lambda_2 & ... & 0\\\\\n",
        "\\vdots & \\vdots & ... & \\vdots\\\\\n",
        "0 & 0 & ... & \\lambda_n\n",
        "\\end{bmatrix} \\begin{bmatrix} v_1^T \\\\ v_2^T \\\\ \\vdots \\\\ v_n^T \\end{bmatrix}$$\n",
        "\n",
        "Let's go one step further:\n",
        "\n",
        "$$A = \\begin{bmatrix} \\lambda_1v_1 & \\lambda_2v_2 & ... & \\lambda_nv_n \\end{bmatrix} \\begin{bmatrix} v_1^T \\\\ v_2^T \\\\ \\vdots \\\\ v_n^T \\end{bmatrix}\n",
        "=\\lambda_1v_1v_1^T + \\lambda_2v_2v_2^T + ... + \\lambda_nv_nv_n^T$$\n",
        "\n",
        "So when we apply this matrix $A$ to some vector $x$:\n",
        "\n",
        "<br> $$Ax = \\lambda_1v_1v_1^Tx + \\lambda_2v_2v_2^Tx + ... + \\lambda_nv_nv_n^Tx$$ <br>\n",
        "\n",
        "\n",
        "Let's illustrate this concept with the earlier example:\n",
        "\n",
        "$$A = \\begin{bmatrix} 1 & 0 \\\\ 0 & 3 \\end{bmatrix}$$\n",
        "\n",
        "**eigenvector:** $\\begin{bmatrix} 1 \\\\0 \\end{bmatrix}$ and the corresponding **eigenvalue:** 1 <br>\n",
        "**eigenvector:** $\\begin{bmatrix} 0 \\\\1 \\end{bmatrix}$ and the corresponding **eigenvalue:** 3\n",
        "\n",
        "Thus, it can be decomposed as:\n",
        "\n",
        "$$A = \\begin{bmatrix} 1 & 0 \\\\ 0 & 3 \\end{bmatrix} = \n",
        "\\begin{bmatrix} 1 & 0 \\\\ 0 & 1 \\end{bmatrix} \\begin{bmatrix} \n",
        "1 & 0 \\\\\n",
        "0 & 3\n",
        "\\end{bmatrix} \\begin{bmatrix} 1 & 0 \\\\ 0 & 3 \\end{bmatrix} \n",
        "$$\n",
        "\n",
        "let's verify this with code:\n"
      ]
    },
    {
      "cell_type": "code",
      "metadata": {
        "id": "xMmKbh_skg3e",
        "colab_type": "code",
        "colab": {
          "base_uri": "https://localhost:8080/",
          "height": 108
        },
        "outputId": "46575f2c-8f87-49fe-a1e6-1f1379412d48"
      },
      "source": [
        "Q = np.array([[1, 0], [0, 1]])\n",
        "lamda = np.array([[1, 0], [0, 3]])\n",
        "Q_transpose = Q.T\n",
        "Q_inverse = np.linalg.inv(Q)\n",
        "print(np.matmul(np.matmul(Q, lamda), Q_transpose), '\\n')\n",
        "print(np.matmul(np.matmul(Q, lamda), Q_inverse))"
      ],
      "execution_count": 21,
      "outputs": [
        {
          "output_type": "stream",
          "text": [
            "[[1 0]\n",
            " [0 3]] \n",
            "\n",
            "[[1. 0.]\n",
            " [0. 3.]]\n"
          ],
          "name": "stdout"
        }
      ]
    },
    {
      "cell_type": "markdown",
      "metadata": {
        "id": "Klox3KBoMc4m",
        "colab_type": "text"
      },
      "source": [
        "Great! now let's dig a little deeper:"
      ]
    },
    {
      "cell_type": "code",
      "metadata": {
        "id": "cxqHq6ZREnHQ",
        "colab_type": "code",
        "colab": {}
      },
      "source": [
        "A = np.array([[1, 0],\n",
        "              [0, 3]]) \n",
        "v1 = np.array([[1], [0]])\n",
        "v2 = np.array([[0], [1]])\n",
        "lamda1 = 1\n",
        "lamda2 = 3"
      ],
      "execution_count": 87,
      "outputs": []
    },
    {
      "cell_type": "code",
      "metadata": {
        "id": "LFI12fteNxpO",
        "colab_type": "code",
        "colab": {
          "base_uri": "https://localhost:8080/",
          "height": 54
        },
        "outputId": "c5b6b21b-b530-4931-b9a0-9f192758c588"
      },
      "source": [
        "# Apply transformation A to a random vector x\n",
        "x = np.array([[2], [1]])\n",
        "Ax = np.matmul(A, x)\n",
        "print(Ax)"
      ],
      "execution_count": 88,
      "outputs": [
        {
          "output_type": "stream",
          "text": [
            "[[2]\n",
            " [3]]\n"
          ],
          "name": "stdout"
        }
      ]
    },
    {
      "cell_type": "code",
      "metadata": {
        "id": "AQRsCGKTMM7R",
        "colab_type": "code",
        "colab": {
          "base_uri": "https://localhost:8080/",
          "height": 54
        },
        "outputId": "cee78147-689c-4ffc-b9e4-fe93d9cdfe4f"
      },
      "source": [
        "# Another expression\n",
        "vvt1x = np.matmul(np.matmul(v1, v1.T), x)\n",
        "vvt2x = np.matmul(np.matmul(v2, v2.T), x)\n",
        "print(lamda1*vvt1x + lamda2*vvt2x)"
      ],
      "execution_count": 89,
      "outputs": [
        {
          "output_type": "stream",
          "text": [
            "[[2]\n",
            " [3]]\n"
          ],
          "name": "stdout"
        }
      ]
    },
    {
      "cell_type": "markdown",
      "metadata": {
        "id": "_LfJcQsBPRGX",
        "colab_type": "text"
      },
      "source": [
        "It works as expect! Actually, given $v$ is a unit vector, multiplying $vv^T$ by $x$ will give the **orthogonal projection of $x$ onto $v$**, so each of the matrices $v_iv_i^T$ is called the **projection matrix**. You can skip the code in the next cell and go straight to its visualization."
      ]
    },
    {
      "cell_type": "code",
      "metadata": {
        "id": "Yq9gW3yzIwRi",
        "colab_type": "code",
        "colab": {
          "base_uri": "https://localhost:8080/",
          "height": 481
        },
        "outputId": "39d3c86b-44d1-4ae8-82e1-16f0d2c10007"
      },
      "source": [
        "origin = [0], [0]   # origin point\n",
        "fig = plt.figure(figsize=(13, 7)) \n",
        "\n",
        "ax1 = fig.add_subplot(1, 2, 1)  \n",
        "ax1.quiver(*origin, x[0, 0], x[1, 0], \n",
        "          color='steelblue', scale_units='xy', \n",
        "          width=0.01, angles='xy', scale=1)\n",
        "ax1.quiver(*origin, v1[0, 0], v1[1, 0], linestyle='dashed',\n",
        "          color='purple', scale_units='xy', linewidth=1,\n",
        "          width=0.01, angles='xy', scale=1)\n",
        "ax1.quiver(*origin, vvt1x[0, 0], vvt1x[1, 0], \n",
        "          color='red', scale_units='xy', \n",
        "          width=0.01, angles='xy', scale=1)\n",
        "ax1.quiver(*origin, v2[0, 0], v2[1, 0], \n",
        "          color='purple', scale_units='xy', \n",
        "          width=0.01, angles='xy', scale=1)\n",
        "ax1.quiver(*origin, vvt2x[0, 0], vvt2x[1, 0],\n",
        "          color='red', scale_units='xy', \n",
        "          width=0.01, angles='xy', scale=1)\n",
        "\n",
        "ax1.plot([vvt1x[0, 0], x[0, 0]], [vvt1x[1, 0], x[1, 0]],\n",
        "         linestyle=':', color='red')\n",
        "ax1.plot([vvt2x[0, 0], x[0, 0]], [vvt2x[1, 0], x[1, 0]],\n",
        "         linestyle=':', color='red')\n",
        "ax1.text(x[0, 0]+0.1, x[1, 0]+0.1, \"$\\mathbf{x}$\",\n",
        "         color='steelblue', fontsize=14)\n",
        "ax1.text(v1[0, 0], v1[1, 0]+0.1, \"$\\mathbf{v_1}$\",\n",
        "         color='purple', fontsize=14)\n",
        "ax1.text(vvt1x[0, 0], vvt1x[1, 0]+0.1,\n",
        "         \"$\\mathbf{v_1v_1^Tx}$\", color='red', fontsize=14)\n",
        "ax1.text(v2[0, 0]+0.1, v2[1, 0]+0.1, \n",
        "         \"$\\mathbf{v_2}$\", color='purple', fontsize=14)\n",
        "ax1.text(vvt2x[0, 0]-1.1, vvt2x[1, 0]+0.1, \n",
        "         \"$\\mathbf{v_2v_2^Tx}$\", color='red', fontsize=14)\n",
        "\n",
        "ax1.set_xlim([-3, 3])\n",
        "ax1.set_ylim([-3, 3])\n",
        "ax1.set_aspect('equal')\n",
        "ax1.axhline(y=0, color='k')\n",
        "ax1.axvline(x=0, color='k')\n",
        "\n",
        "ax2 = fig.add_subplot(1, 2, 2)  \n",
        "ax2.quiver(*origin, x[0, 0], x[1, 0], \n",
        "          color='steelblue', scale_units='xy', \n",
        "          width=0.01, angles='xy', scale=1)\n",
        "ax2.quiver(*origin, vvt1x[0, 0], vvt1x[1, 0],\n",
        "          color='red', scale_units='xy', \n",
        "          width=0.01, angles='xy', scale=1)\n",
        "ax2.quiver(*origin, vvt2x[0, 0], vvt2x[1, 0], \n",
        "          color='red', scale_units='xy', \n",
        "          width=0.01, angles='xy', scale=1)\n",
        "ax2.quiver(*origin, lamda1*vvt1x[0, 0], lamda1*vvt1x[1, 0], \n",
        "          color='green', scale_units='xy', \n",
        "          width=0.01, angles='xy', scale=1)\n",
        "ax2.quiver(*origin, lamda2*vvt2x[0, 0], lamda2*vvt2x[1, 0], \n",
        "          color='green', scale_units='xy', \n",
        "          width=0.01, angles='xy', scale=1)\n",
        "ax2.quiver(*origin, lamda1*vvt1x[0, 0]+lamda2*vvt2x[0, 0], \n",
        "           lamda1*vvt1x[1, 0]+lamda2*vvt2x[1, 0], \n",
        "           color='orange', scale_units='xy', \n",
        "           width=0.01, angles='xy', scale=1)\n",
        "ax2.plot([lamda1*vvt1x[0, 0], lamda1*vvt1x[0, 0]+lamda2*vvt2x[0, 0]],\n",
        "         [lamda1*vvt1x[1, 0], lamda1*vvt1x[1, 0]+lamda2*vvt2x[1, 0]], \n",
        "         linestyle=':', color='green')\n",
        "ax2.plot([lamda2*vvt2x[0, 0], lamda1*vvt1x[0, 0]+lamda2*vvt2x[0, 0]],\n",
        "         [lamda2*vvt2x[1, 0], lamda1*vvt1x[1, 0]+lamda2*vvt2x[1, 0]],\n",
        "         linestyle=':', color='green')\n",
        "\n",
        "ax2.text(x[0, 0]+0.1, x[1, 0]+0.1, \n",
        "         \"$\\mathbf{x}$\", color='steelblue', fontsize=14)\n",
        "ax2.text(vvt1x[0, 0], vvt1x[1, 0]+0.3, \n",
        "         \"$\\mathbf{v_1v_1^Tx}$\", color='red', fontsize=14)\n",
        "ax2.text(vvt2x[0, 0]-1.2, vvt2x[1, 0], \n",
        "         \"$\\mathbf{v_2v_2^Tx}$\", color='red', fontsize=14)\n",
        "ax2.text(lamda1*vvt1x[0, 0], lamda1*vvt1x[1, 0]-0.5, \n",
        "         \"$\\mathbf{\\lambda_1v_1v_1^Tx}$\", color='green', fontsize=14)\n",
        "ax2.text(lamda2*vvt2x[0, 0]-1.6, lamda2*vvt2x[1, 0], \n",
        "         \"$\\mathbf{\\lambda_2v_2v_2^Tx}$\", color='green', fontsize=14)\n",
        "ax2.text(lamda1*vvt1x[0, 0]+lamda2*vvt2x[0, 0], \n",
        "         lamda1*vvt1x[1, 0]+lamda2*vvt2x[1, 0], \n",
        "         \"$\\mathbf{Ax=\\lambda_1v_1v_1^Tx+\\lambda_2v_2v_2^Tx}$\", \n",
        "         color='orange', fontsize=14)\n",
        "\n",
        "ax2.set_xlim([-4, 4])\n",
        "ax2.set_ylim([-4, 4])\n",
        "ax2.set_aspect('equal')\n",
        "ax2.axhline(y=0, color='k')\n",
        "ax2.axvline(x=0, color='k')\n",
        "fig.suptitle('Projection of $x$ onto $v_1$ and $v_2$', fontsize=17)\n",
        "plt.tight_layout()\n",
        "plt.show()"
      ],
      "execution_count": 152,
      "outputs": [
        {
          "output_type": "display_data",
          "data": {
            "image/png": "[encoded data removed]",
            "text/plain": [
              "<Figure size 936x504 with 2 Axes>"
            ]
          },
          "metadata": {
            "tags": []
          }
        }
      ]
    },
    {
      "cell_type": "markdown",
      "metadata": {
        "id": "4IgjHZCbaOoT",
        "colab_type": "text"
      },
      "source": [
        "The eigenvalues play an important role here since they can be thought of as a multiplier. The projection matrix projects $x$ onto each $v_i$,and scales the length of the vector projection by factor eigenvalue. The bigger the eigenvalue, the bigger the length of the resulting vector. Assume all the eigenvalues $\\lambda_i$ have been sorted in descending order:\n",
        "\n",
        "<br> $$A = \\lambda_1v_1v_1^T + \\lambda_2v_2v_2^T + ... + \\lambda_nv_nv_n^T$$ <br>\n",
        "\n",
        "with\n",
        "\n",
        "$$\\lambda_1 \\geq \\lambda_2 \\geq ...  \\geq \\lambda_n$$<br>\n",
        "\n",
        "We can simply take the top $k$ projection vectors to aprroximate the original symmetric matrix $A$:\n",
        "\n",
        "<br> $$A \\approx \\lambda_1v_1v_1^T + \\lambda_2v_2v_2^T + ... + \\lambda_kv_kv_k^T$$ <br>\n",
        "\n",
        "If in the original matrix $A$, the remaining $(n-k)$ eigenvalues that we leave out are very small and close to zero, then the approximated matrix is very similar to the original matrix, and we have a good approximation. This method is widely used to map high-dimensional data into a lower dimension space. However, it only works for symmetric matrices. \n",
        "\n",
        "Now you have learned about eigendecomposition. In the next note I will introduce you the **Singular Value Decomposition** (SVD) which will work for non-symmetic matrix."
      ]
    }
  ]
}