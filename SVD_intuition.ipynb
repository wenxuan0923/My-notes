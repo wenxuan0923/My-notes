{
  "nbformat": 4,
  "nbformat_minor": 0,
  "metadata": {
    "colab": {
      "name": "SVD_intuition.ipynb",
      "provenance": [],
      "collapsed_sections": [],
      "include_colab_link": true
    },
    "kernelspec": {
      "name": "python3",
      "display_name": "Python 3"
    }
  },
  "cells": [
    {
      "cell_type": "markdown",
      "metadata": {
        "id": "view-in-github",
        "colab_type": "text"
      },
      "source": [
        "<a href=\"https://colab.research.google.com/github/wenxuan0923/My-notes/blob/master/SVD_intuition.ipynb\" target=\"_parent\"><img src=\"https://colab.research.google.com/assets/colab-badge.svg\" alt=\"Open In Colab\"/></a>"
      ]
    },
    {
      "cell_type": "markdown",
      "metadata": {
        "id": "yQlxijCvM8TC",
        "colab_type": "text"
      },
      "source": [
        "# Intuition behind Singular Value Decomposition\n",
        "\n",
        "In my note <a target='_blank' href='#'>Intuition behind Eigenvalue, Eigenvector and Eigendecomposition</a>, I explained the method of Eigendecomposition using visualization. We have seen that it's a powerful tool to aprroximate the original symmetric matrix with lower dimension data. However, it only work for symmetric matrix. In this note I will show you how to apply **Singular Value Decomposition** to solve this method.\n",
        "\n",
        "Recall that in the note of Eigendecomposition, we have learned that: \n",
        "\n",
        "- **A symmetric matrix transforms a vector by stretching or shrinking it along its eigenvectors by its corresponding eigenvalues**\n",
        "\n",
        "- **A $n×n$ symmetric matrix has $n$ linearly independent eigenvectors and are perpendicular to each other and form orthogonal vectors**\n",
        "\n",
        "To find the counterpart for a **non-symmetric** matrix, we need to find the directions (linearly independent orthogonal vectors) to stretch or shrink the vector and the corresponding magnitudes. The first direction of streching can be defined as the direction of the vector which has the greatest length: \n",
        "\n",
        "<br>$$d_1 = \\underset{x}{\\mathrm{max}}||Ax||$$<br>\n",
        "\n",
        "The second direction of stretching is the maximum of $||Ax||$ over all vectors in $x$ which are perpendicular to direction 1.\n",
        "\n",
        "<br>$$d_2 = \\underset{x}{\\mathrm{max}}||Ax||$$<br>\n",
        "subject to the constraint:\n",
        "<br>$$d_2\\perp d_1$$<br>\n",
        "\n",
        "We are actually trying to solve the optimization problem:\n",
        "\n",
        "<br>$$d_k =\\underset{x}{\\mathrm{max}}||Ax||$$<br>\n",
        "\n",
        "subject to the constraints:\n",
        "\n",
        "$$d_k\\perp d_1, \\quad d_k\\perp d_2, \\quad ... \\quad, d_k\\perp d_{k-1}$$<br>\n",
        "\n",
        "Now suppose $A$ is a $m*n$ matrix, then $A^TA$ is an $n*n$ symmetric matrix. This is because the transpose of this matrix is equal to itself:\n",
        "\n",
        "<br>$$(A^TA)^T = A^TA$$<br>\n",
        "\n",
        "Thus, it has $n$ real eigenvalues and $n$ linear independent and orthogonal eigenvectors which can form a basis for the $n$-element vectors that it can transform (in $R^n$ space). Let call these (normalized) eigenvectors $v_1$, $v_2$, … , $v_n$ and the corresponding eigenvalues $\\lambda_1$, $\\lambda_2$, ...,$\\lambda_n$. So we have:\n",
        "\n",
        "<br>$$A^TAv_i = \\lambda_iv_i$$<br>\n",
        "\n",
        "For each of these eigenvectors we can use the l2 norm: \n",
        "\n",
        "<br> $$||Av_i||^2 = (Av_i)^TAv_i = v_i^TA^TAv_i = v_i^T\\lambda_iv_i = \\lambda_iv_i^Tv_i= \\lambda_i$$<br>\n",
        "\n",
        "Note: \n",
        "\n",
        "$$||x|| = \\sqrt{(|x_1|^{2} + |x_2|^{2} + ... + |x_n|^{2})}$$<br>\n",
        "\n",
        "This result shows that all the eigenvalues are positive. Now assume that we label them in decreasing order, so:\n",
        "\n",
        "<br>$$\\lambda_1 \\geq \\lambda_2 \\geq ... \\geq \\lambda_n \\geq 0$$<br>\n",
        "\n",
        "Now we define the **Singular Value** of $A$ as the square root of $\\lambda_i$ (eigenvector of $A^TA$) and denote it as $\\sigma_i$. Then we have:\n",
        "\n",
        "<br>$$\\sigma_i = \\sqrt{\\lambda_i} = ||Av_i||$$<br>\n",
        "$$\\sigma_1 \\geq \\sigma_2 \\geq ... \\geq \\sigma_n \\geq 0 $$<br>\n",
        "\n",
        "So the singular values $\\sigma_i$ of $A$ are the length (defined by l2 norm) of vectors $Av_i$, and:\n",
        "\n",
        "\n",
        "<br>$$||Av_1|| \\geq ||Av_2|| \\geq ... \\geq ||Av_n|| \\geq 0 $$<br>\n",
        "\n",
        "Till now you may noticed, the solution to the problem we are trying to solve:\n",
        "\n",
        "<br>$$d_k =\\underset{x}{\\mathrm{max}}||Ax||$$\n",
        "\n",
        "subject to the constraints:\n",
        "\n",
        "$$d_k\\perp d_1, \\quad d_k\\perp d_2, \\quad ... \\quad, d_k\\perp d_{k-1}$$<br>\n",
        "\n",
        "is actually $Av_k$, and the corresponding maximum magnitude is $\\sigma_k$. Actually the set $\\{Av_1, Av_2,..., Av_n\\}$ is an orthogonal basis for $Ax$, so the vectors $Av_i$ are indeed perpendicular to each other.\n",
        "\n",
        "**An explicit example for illustration:**\n",
        "\n"
      ]
    },
    {
      "cell_type": "code",
      "metadata": {
        "id": "MHlFKwsLTNmx",
        "colab_type": "code",
        "colab": {}
      },
      "source": [
        "import numpy as np\n",
        "from numpy import linalg as LA\n",
        "import matplotlib\n",
        "import matplotlib.pyplot as plt\n",
        "matplotlib.style.use('seaborn-whitegrid')"
      ],
      "execution_count": 65,
      "outputs": []
    },
    {
      "cell_type": "code",
      "metadata": {
        "id": "W5IKC3H3cdnr",
        "colab_type": "code",
        "colab": {
          "base_uri": "https://localhost:8080/",
          "height": 72
        },
        "outputId": "8e4efc83-69dc-4720-b3da-0db1fc22f944"
      },
      "source": [
        "# non-symmetric matrix \n",
        "A = np.array([[1, 2],\n",
        "              [3, 0.2]]) \n",
        "\n",
        "# unit circle\n",
        "x = np.cos(np.linspace(0, 2*np.pi, num=360))\n",
        "y = np.sin(np.linspace(0, 2*np.pi, num=360)) \n",
        "orignal_data = np.column_stack([x, y])\n",
        "scaled_data = np.matmul(A, orignal_data.T).T\n",
        "\n",
        "# get eigenvalues & eigenvectors of A^TA\n",
        "w, v = LA.eig(np.matmul(A.T, A))\n",
        "print(w)\n",
        "print(v)"
      ],
      "execution_count": 66,
      "outputs": [
        {
          "output_type": "stream",
          "text": [
            "[10.97479456  3.06520544]\n",
            "[[ 0.9363535  -0.35105858]\n",
            " [ 0.35105858  0.9363535 ]]\n"
          ],
          "name": "stdout"
        }
      ]
    },
    {
      "cell_type": "code",
      "metadata": {
        "id": "PxLLZlGBc2l3",
        "colab_type": "code",
        "colab": {}
      },
      "source": [
        "lambda1, lambda2 = w[0], w[1]\n",
        "v1 = np.array([vec[0] for vec in v])\n",
        "v2 = np.array([vec[1] for vec in v])\n",
        "Av1 = np.matmul(A, v1)\n",
        "Av2 = np.matmul(A, v2)"
      ],
      "execution_count": 67,
      "outputs": []
    },
    {
      "cell_type": "markdown",
      "metadata": {
        "id": "od8ExesWVKDY",
        "colab_type": "text"
      },
      "source": [
        "Check that:\n",
        "$$\\sqrt{\\lambda_1} = \\sigma_1 = ||Av_1|| \\qquad \\sqrt{\\lambda_2} = \\sigma_2 = ||Av_2||$$"
      ]
    },
    {
      "cell_type": "code",
      "metadata": {
        "id": "XwZCetnDYNB2",
        "colab_type": "code",
        "colab": {
          "base_uri": "https://localhost:8080/",
          "height": 54
        },
        "outputId": "1bb890eb-48a7-4f4a-84fa-98824053f093"
      },
      "source": [
        "print(np.linalg.norm(Av1))\n",
        "print(np.sqrt(lambda1))"
      ],
      "execution_count": 62,
      "outputs": [
        {
          "output_type": "stream",
          "text": [
            "3.3128227478250976\n",
            "3.312822747825098\n"
          ],
          "name": "stdout"
        }
      ]
    },
    {
      "cell_type": "code",
      "metadata": {
        "id": "Ktuu9b_ok4I1",
        "colab_type": "code",
        "colab": {
          "base_uri": "https://localhost:8080/",
          "height": 54
        },
        "outputId": "59e37678-a8f1-470f-8d57-4c3fdaff3f76"
      },
      "source": [
        "print(np.linalg.norm(Av2))\n",
        "print(np.sqrt(lambda2))"
      ],
      "execution_count": 64,
      "outputs": [
        {
          "output_type": "stream",
          "text": [
            "1.7507728126437667\n",
            "1.7507728126437672\n"
          ],
          "name": "stdout"
        }
      ]
    },
    {
      "cell_type": "code",
      "metadata": {
        "id": "aXO4eymkdLHv",
        "colab_type": "code",
        "colab": {
          "base_uri": "https://localhost:8080/",
          "height": 429
        },
        "outputId": "58731a4b-9002-4398-b780-dbc2a0f34db1"
      },
      "source": [
        "# Visualization\n",
        "origin = [0], [0]  \n",
        "fig = plt.figure(figsize=(10, 7)) \n",
        "ax1 = fig.add_subplot(1, 1, 1)  \n",
        "ax1.plot(orignal_data[:,0], orignal_data[:,1], label='Orignal Unit Circle: X')\n",
        "ax1.plot(scaled_data[:,0], scaled_data[:,1], color='brown', label='After Transformation: AX')\n",
        "ax1.quiver(*origin, v1[0], v1[1], \n",
        "          color='blue', scale_units='xy', \n",
        "          width=0.008, angles='xy', scale=1, label='Eigenvector of $A^TA$')\n",
        "ax1.quiver(*origin, v2[0], v2[1], \n",
        "          color='blue', scale_units='xy', linewidth=1,\n",
        "          width=0.008, angles='xy', scale=1)\n",
        "ax1.quiver(*origin, Av1[0], Av1[1], \n",
        "          color='red', scale_units='xy', \n",
        "          width=0.008, angles='xy', scale=1)\n",
        "ax1.quiver(*origin, Av2[0], Av2[1], \n",
        "          color='red', scale_units='xy', linewidth=1,\n",
        "          width=0.008, angles='xy', scale=1)\n",
        "\n",
        "ax1.text(v1[0] + 0.1, v1[1] + 0.1, \"$\\mathbf{v_1}$\", color='blue', fontsize=14)\n",
        "ax1.text(v2[0] - 0.2, v2[1] + 0.2, \"$\\mathbf{v_2}$\", color='blue', fontsize=14)\n",
        "ax1.text(Av1[0] + 0.1, Av1[1] + 0.1, \"$\\mathbf{Av_1}$\", color='red', fontsize=14)\n",
        "ax1.text(Av2[0] + 0.1, Av2[1] - 0.2, \"$\\mathbf{Av_2}$\", color='red', fontsize=14)\n",
        "\n",
        "ax1.set_xlim([-4, 4])\n",
        "ax1.set_ylim([-4, 4])\n",
        "ax1.set_aspect('equal')\n",
        "ax1.axhline(y=0, color='k')\n",
        "ax1.axvline(x=0, color='k')\n",
        "plt.legend(fontsize='16', bbox_to_anchor=(1, 0, 0.5, 0.6))\n",
        "plt.show()"
      ],
      "execution_count": 68,
      "outputs": [
        {
          "output_type": "display_data",
          "data": {
            "image/png": "[encoded data removed]",
            "text/plain": [
              "<Figure size 720x504 with 1 Axes>"
            ]
          },
          "metadata": {
            "tags": []
          }
        }
      ]
    },
    {
      "cell_type": "markdown",
      "metadata": {
        "id": "rIgpUCPrjNdj",
        "colab_type": "text"
      },
      "source": [
        "**To summarize everything above:**\n",
        "\n",
        "If $v_i$ is the eigenvector of $A^TA$ (ordered based on its corresponding singular value), and assuming that $||x||=1$, then $Av_i$ is showing a direction of stretching for $Ax$. The corresponding singular value $\\sigma_i$ (square root of eigenvalue $\\lambda_i$ of $A^TA$) gives the length of $Av_i$. Now we are ready to learn about **Singular Value Decomposition** (SVD)\n",
        "\n",
        "## Singular Value Decomposition\n",
        "\n",
        "Let A be an $m×n$ matrix and rank $r$ with singular values :\n",
        "\n",
        "$$\\sigma_1 \\geq \\sigma_2 \\geq ... \\geq \\sigma_r$$<br>\n",
        "\n",
        "These singular values correspond to eigenvectors $v_i$ of $A^TA$ at the same order. $A$ can be decomposed as:\n",
        "\n",
        "<br>$$A = U\\Sigma V^T$$\n",
        "\n",
        "with dimension:\n",
        "\n",
        "$$(m\\times n) = (m\\times m) * (m\\times n) * (n\\times n)$$<br>\n",
        "\n",
        "We already know that the set $\\{Av_1, Av_2, …, Av_r\\}$ is an orthogonal basis for $Ax$, and $\\sigma_i = ||Av_i||$. So we can normalize the $Av_i$ vectors by dividing them by their length:\n",
        "\n",
        "<br>$$U = \\begin{bmatrix} u_1 & u_2 & ... & u_m \\end{bmatrix}$$<br>\n",
        "\n",
        "where $\\{ u_1,  u_2, ... , u_r \\}$ is an orthonormal basis for $Ax$:\n",
        "\n",
        "<br>$$u_i = \\frac{Av_i}{||Av_i||} = \\frac{Av_i}{\\sigma_i} \\qquad \\text{for  } i \\leq r$$<br>\n",
        "\n",
        "$\\Sigma$ is an $m×n$ diagonal matrix of the form:\n",
        "\n",
        "\n",
        "$$\\Sigma = \\begin{bmatrix}\n",
        "\\sigma_1 & 0 & ... & 0 & 0 & ... & 0 \\\\\n",
        "0 & \\sigma_2 & ... & 0 & 0 & ... & 0 \\\\\n",
        "\\vdots & \\vdots & ... & \\vdots & \\vdots & ... & \\vdots \\\\\n",
        "0 & 0 & ... & 0 & 0 & ... & 0 \\\\\n",
        "0 & 0 & ... & \\sigma_r & 0 & ... & 0 \\\\\n",
        "0 & 0 & ... & 0 & 0 & ... & 0 \\\\\n",
        "\\vdots & \\vdots & ... & \\vdots & \\vdots & ... & \\vdots \\\\\n",
        "0 & 0 & ... & 0 & 0 & ... & 0\n",
        "\\end{bmatrix}\n",
        "$$<br>\n",
        "\n",
        "$V$ is an $n×n$ matrix that its columns are $v_i$.\n",
        "\n",
        "$$V = \\begin{bmatrix} v_1 & v_2 & ... & v_n \\end{bmatrix}$$\n",
        "\n",
        "Thus, $A$ can be decomposed as:\n",
        "\n",
        "<br>$$\\begin{align}\n",
        "A &= \\begin{bmatrix} u_1 & u_2 & ... & u_m \\end{bmatrix} \\begin{bmatrix}\n",
        "\\sigma_1 & 0 & ... & 0 & 0 & ... & 0 \\\\\n",
        "0 & \\sigma_2 & ... & 0 & 0 & ... & 0 \\\\\n",
        "\\vdots & \\vdots & ... & \\vdots & \\vdots & ... & \\vdots \\\\\n",
        "0 & 0 & ... & 0 & 0 & ... & 0 \\\\\n",
        "0 & 0 & ... & \\sigma_r & 0 & ... & 0 \\\\\n",
        "0 & 0 & ... & 0 & 0 & ... & 0 \\\\\n",
        "\\vdots & \\vdots & ... & \\vdots & \\vdots & ... & \\vdots \\\\\n",
        "0 & 0 & ... & 0 & 0 & ... & 0\n",
        "\\end{bmatrix}\\begin{bmatrix} v_1^T \\\\ v_2^T \\\\ \\vdots \n",
        "\\\\ v_n^T \\end{bmatrix} \\\\ \\\\\n",
        "&= \\begin{bmatrix}\\sigma_1u_1 & \\sigma_2u_2 & ... & \\sigma_ru_r & 0 & ... & 0\\end{bmatrix}\\begin{bmatrix} v_1^T \\\\ v_2^T \\\\ \\vdots \\\\ v_n^T \\end{bmatrix} \\\\ \\\\\n",
        "&=\\sigma_1u_1v_1^T + \\sigma_2u_2v_2^T +...+ \\sigma_ru_rv_r^T\\end{align}$$\n"
      ]
    },
    {
      "cell_type": "markdown",
      "metadata": {
        "id": "Z2Ie3ywUjZzI",
        "colab_type": "text"
      },
      "source": [
        "When we apply matrix $A$ to some vector $x$:\n",
        "\n",
        "<br>$$Ax= \\sigma_1u_1v_1^Tx + \\sigma_2u_2v_2^Tx +...+ \\sigma_ru_rv_r^Tx\\$$<br>\n",
        "\n",
        "since we know that $\\{ u_1,  u_2, ... , u_r \\}$ is an orthonormal basis for $Ax$, we can also represent it as:\n",
        "\n",
        "<br>$$Ax = a_1u_1 + a_2u_2 + ... + a_ru_r$$<br>\n",
        "\n",
        "Each term (scalar) $a_i$ equals to the dot product of $Ax$ and $u_i$ (projection of $Ax$ onto $u_i$), that is:\n",
        "\n",
        "<br>$$a_i = (Ax)^Tu_i = x^TA^Tu_i$$\n",
        "\n",
        "Thus, <br>\n",
        "\n",
        "$$a_i = \\frac{x^TA^TAv_i}{\\sigma_i} \\quad \\text{since } \\quad u_i = \\frac{Av_i}{\\sigma_i} $$<br>\n",
        "\n",
        "Since $v_i$ is the eigenvector of $A^TA$, we have\n",
        "\n",
        "<br>$$A^TAv_i = \\lambda_iv_i = \\sigma_i^2vi$$\n",
        "\n",
        "So scalars $a_i$ are:\n",
        "\n",
        "$$a_i = \\frac{x^T\\sigma_i^2vi}{\\sigma_i} = x^T\\sigma_iv_i = \\sigma_ix^Tv_i = \\sigma_iv_i^Tx \\quad \\text{(since } \\sigma_i \\text{ is a scalar)}$$<br>\n",
        "\n",
        "Then we can re-write the expression of $Ax$:\n",
        "\n",
        "<br>$$\\begin{align}Ax &= \\sigma_1v_1^Txu_1 + \\sigma_2v_2^Txu_2 + ... + \\sigma_rv_r^Txu_r \\\\ \\\\\n",
        "&= \\sigma_1u_1v_1^Tx + \\sigma_2u_2v_2^Tx + ... + \\sigma_ru_rv_r^Tx \\end{align}$$<br>\n",
        "\n",
        "where $\\sigma_iv_i^Tx$ is the scalar projection of $x$ onto $u_i$.\n",
        "\n",
        "**Let's visualize the whole thing with a concrete example:**\n"
      ]
    },
    {
      "cell_type": "code",
      "metadata": {
        "id": "-u9fPwE1kyIV",
        "colab_type": "code",
        "colab": {
          "base_uri": "https://localhost:8080/",
          "height": 72
        },
        "outputId": "f083fd2d-2950-43e8-d35f-b2e835988827"
      },
      "source": [
        "A = np.array([[4, 1],\n",
        "              [3, -1]])\n",
        "# unit circle\n",
        "x = np.cos(np.linspace(0, 2*np.pi, num=360))\n",
        "y = np.sin(np.linspace(0, 2*np.pi, num=360)) \n",
        "orignal_data = np.column_stack([x, y])\n",
        "scaled_data = np.matmul(A, orignal_data.T).T\n",
        "\n",
        "# Calculate eigenvalues and eigenvectors of A^TA\n",
        "w, v = LA.eig(np.matmul(A.T, A))\n",
        "print(w)\n",
        "print(v)"
      ],
      "execution_count": 196,
      "outputs": [
        {
          "output_type": "stream",
          "text": [
            "[25.04339638  1.95660362]\n",
            "[[ 0.9990597  -0.04335558]\n",
            " [ 0.04335558  0.9990597 ]]\n"
          ],
          "name": "stdout"
        }
      ]
    },
    {
      "cell_type": "code",
      "metadata": {
        "id": "Hja8rP-Fu4wI",
        "colab_type": "code",
        "colab": {}
      },
      "source": [
        "# Eigenvalues of A^TA\n",
        "lambda1, lambda2 = w[0], w[1]\n",
        "# Eigenvectors of A^TA\n",
        "v1 = np.array([vec[0] for vec in v])\n",
        "v2 = np.array([vec[1] for vec in v])\n",
        "# Singular values of A\n",
        "sigma1, sigma2 = np.sqrt(lambda1), np.sqrt(lambda2)\n",
        "# Av1 and Av2 show the directions of stretching of Ax\n",
        "Av1 = np.matmul(A, v1)\n",
        "Av2 = np.matmul(A, v2)\n",
        "# u1 and u2 are the unit vectors of Av1 and Av2\n",
        "u1 = Av1/sigma1\n",
        "u2 = Av2/sigma2\n",
        "# a random point for illustration \n",
        "ex = orignal_data[60]\n",
        "Aex = np.matmul(A, ex)\n",
        "# Orthogonal projection of Ax1 onto u1 and u2 \n",
        "proj1 = sigma1 * np.dot(v1, ex) * u1\n",
        "proj2 = sigma2 * np.dot(v2, ex) * u2"
      ],
      "execution_count": 197,
      "outputs": []
    },
    {
      "cell_type": "code",
      "metadata": {
        "id": "Zdbu-177zmRT",
        "colab_type": "code",
        "colab": {
          "base_uri": "https://localhost:8080/",
          "height": 434
        },
        "outputId": "8e20e6be-137d-48a2-9d71-d621e792f297"
      },
      "source": [
        "# Visualization\n",
        "origin = [0], [0]  \n",
        "fig = plt.figure(figsize=(10, 7)) \n",
        "ax1 = fig.add_subplot(1, 1, 1)  \n",
        "ax1.plot(orignal_data[:,0], orignal_data[:,1], \n",
        "         label='Orignal Unit Circle: X')\n",
        "ax1.plot(scaled_data[:,0], scaled_data[:,1], \n",
        "         color='brown', label='After Transformation: AX')\n",
        "ax1.quiver(*origin, v1[0], v1[1], \n",
        "          color='blue', scale_units='xy', \n",
        "          width=0.005, angles='xy', scale=1, \n",
        "           label='Eigenvector of $A^TA$')\n",
        "ax1.quiver(*origin, v2[0], v2[1], \n",
        "          color='blue', scale_units='xy', linewidth=1,\n",
        "          width=0.005, angles='xy', scale=1)\n",
        "ax1.quiver(*origin, ex[0], ex[1], \n",
        "          color='green', scale_units='xy', \n",
        "          width=0.008, angles='xy', scale=1, \n",
        "           label='Sample point $x$')\n",
        "ax1.quiver(*origin, proj1[0], proj1[1], \n",
        "          color='maroon', scale_units='xy', \n",
        "          width=0.008, angles='xy', scale=1, \n",
        "           label='Project of x onto new direction $u_1$, $u_2$')\n",
        "ax1.quiver(*origin, proj2[0], proj2[1], \n",
        "          color='maroon', scale_units='xy', linewidth=1,\n",
        "          width=0.008, angles='xy', scale=1)\n",
        "ax1.quiver(*origin, Aex[0], Aex[1], \n",
        "          color='orangered', scale_units='xy', linewidth=1,\n",
        "          width=0.008, angles='xy', scale=1, \n",
        "           label='Sample point after transformation: $Ax$')\n",
        "\n",
        "ax1.text(v1[0] + 0.1, v1[1] + 0.1, \"$\\mathbf{v_1}$\", color='blue', fontsize=14)\n",
        "ax1.text(v2[0] - 0.2, v2[1] + 0.2, \"$\\mathbf{v_2}$\", color='blue', fontsize=14)\n",
        "ax1.text(proj1[0] + 0.1, proj1[1] + 0.1, \"$\\mathbf{proj_1}$\", color='maroon', fontsize=14)\n",
        "ax1.text(proj2[0] - 1.4, proj2[1] + 0.1, \"$\\mathbf{proj_2}$\", color='maroon', fontsize=14)\n",
        "ax1.text(ex[0] + 0.1, ex[1] + 0.1, \"$\\mathbf{x}$\", color='green', fontsize=14)\n",
        "ax1.text(Aex[0] + 0.2, Aex[1] - 0.1, \"$\\mathbf{Ax}$\", color='orangered', fontsize=14)\n",
        "\n",
        "ax1.plot([-Av1[0], Av1[0]], [-Av1[1], Av1[1]], \n",
        "          color='salmon', linestyle='-.', \n",
        "         dashes=[4, 4], label='Directions of stretching of $AX$')\n",
        "ax1.plot([-Av2[0], Av2[0]], [-Av2[1], Av2[1]], \n",
        "          dashes=[3, 1], \n",
        "          color='salmon', linestyle='-.')\n",
        "\n",
        "ax1.plot([proj1[0], Aex[0]], [proj1[1], Aex[1]],\n",
        "         linestyle=':', color='maroon')\n",
        "ax1.plot([proj2[0], Aex[0]], [proj2[1], Aex[1]],\n",
        "         linestyle=':', color='maroon')\n",
        "\n",
        "ax1.set_xlim([-5, 5])\n",
        "ax1.set_ylim([-5, 5])\n",
        "ax1.set_aspect('equal')\n",
        "ax1.axhline(y=0, color='k')\n",
        "ax1.axvline(x=0, color='k')\n",
        "plt.legend(fontsize='16', bbox_to_anchor=(1, 0, 0.6, 0.8))\n",
        "ax1.set_title('Transformation with non-symmetric matrix A', fontsize=18)\n",
        "plt.show()"
      ],
      "execution_count": 184,
      "outputs": [
        {
          "output_type": "display_data",
          "data": {
            "image/png": "[encoded data removed]",
            "text/plain": [
              "<Figure size 720x504 with 1 Axes>"
            ]
          },
          "metadata": {
            "tags": []
          }
        }
      ]
    },
    {
      "cell_type": "markdown",
      "metadata": {
        "id": "Ji0sdGkakz30",
        "colab_type": "text"
      },
      "source": [
        "To summarize the procedured required to calculate $Ax$ using the SVD method.\n",
        "\n",
        "1. Calculate eigenvalues: $\\lambda_1$, $\\lambda_2$ and eigenvectors $v_1$, $v_2$ of $A^TA$\n",
        "\n",
        "2. Calculate singular value of $A$, which is the square root of eigenvalues: $\\sigma_1 = \\sqrt{\\lambda_1}$, $\\sigma_2 = \\sqrt{\\lambda_2}$.\n",
        "\n",
        "3. Calculate the directions of stretching of $Ax$, which are $Av_1$ and $Av_2$\n",
        "\n",
        "4. Get the orthonormal basis for $Ax$: $\\{u_1 = \\frac{Av_1}{\\sigma_1}$, $u_2 = \\frac{Av_2}{\\sigma_2}\\}$ \n",
        "\n",
        "5. Get the orthogonal projection of $Ax$ onto $u_1$ and $u_2$:  $\\sigma_1u_1v_1^Tx$ and $\\sigma_2u_2v_2^Tx$\n",
        "\n",
        "6. Add the projection vectors together, we get the final result: $Ax = \\sigma_1u_1v_1^Tx + \\sigma_2u_2v_2^Tx$\n",
        "\n",
        "Now let's see how to calculate the SVD of a matrix in Python using Numpy.\n",
        "\n",
        "\n",
        "\n",
        "\n",
        "## Singular Value Decomposition with Numpy"
      ]
    },
    {
      "cell_type": "code",
      "metadata": {
        "id": "Z_VHuNuNxiNQ",
        "colab_type": "code",
        "colab": {
          "base_uri": "https://localhost:8080/",
          "height": 145
        },
        "outputId": "18693328-c80a-4391-a7ed-6982bd0893e3"
      },
      "source": [
        "U, s, Vh = LA.svd(A)\n",
        "print('U: ', U, '\\n')\n",
        "print('s: ', s, '\\n')\n",
        "print('Vh: ', Vh)"
      ],
      "execution_count": 215,
      "outputs": [
        {
          "output_type": "stream",
          "text": [
            "U:  [[-0.80721858 -0.59025263]\n",
            " [-0.59025263  0.80721858]] \n",
            "\n",
            "s:  [5.00433776 1.39878648] \n",
            "\n",
            "Vh:  [[-0.9990597  -0.04335558]\n",
            " [ 0.04335558 -0.9990597 ]]\n"
          ],
          "name": "stdout"
        }
      ]
    },
    {
      "cell_type": "markdown",
      "metadata": {
        "id": "F2813pZ5pgfP",
        "colab_type": "text"
      },
      "source": [
        "**Two things to notice here:**\n",
        "\n",
        "- `s` conly contain the value for the main diagonal items for matrix $\\Sigma$\n",
        "\n",
        "- `Vh` is actually the $V^T$ part in expression $A = U\\Sigma V^T$, we don't need to do the transpose\n",
        "\n",
        "Check the following example to see how to construct $\\Sigma$ from $s$.\n"
      ]
    },
    {
      "cell_type": "code",
      "metadata": {
        "id": "GqMlLgRqCJ4v",
        "colab_type": "code",
        "colab": {
          "base_uri": "https://localhost:8080/",
          "height": 54
        },
        "outputId": "1505cf84-b9ad-47df-ca79-44e421322265"
      },
      "source": [
        "A"
      ],
      "execution_count": 212,
      "outputs": [
        {
          "output_type": "execute_result",
          "data": {
            "text/plain": [
              "array([[ 4,  1],\n",
              "       [ 3, -1]])"
            ]
          },
          "metadata": {
            "tags": []
          },
          "execution_count": 212
        }
      ]
    },
    {
      "cell_type": "code",
      "metadata": {
        "id": "gnvmYoCFB5d5",
        "colab_type": "code",
        "colab": {
          "base_uri": "https://localhost:8080/",
          "height": 54
        },
        "outputId": "84388f0c-37a7-49dd-c9ea-054eea0edd08"
      },
      "source": [
        "Sigma = np.zeros(A.shape)\n",
        "for i in range(min(A.shape)):\n",
        "    Sigma[i, i] = s[i]\n",
        "np.matmul(U, np.matmul(Sigma, Vh))"
      ],
      "execution_count": 211,
      "outputs": [
        {
          "output_type": "execute_result",
          "data": {
            "text/plain": [
              "array([[ 4.,  1.],\n",
              "       [ 3., -1.]])"
            ]
          },
          "metadata": {
            "tags": []
          },
          "execution_count": 211
        }
      ]
    },
    {
      "cell_type": "markdown",
      "metadata": {
        "id": "E72I5o3oq63T",
        "colab_type": "text"
      },
      "source": [
        "Similar to the eigendecomposition method, we can approximate our original symmetric matrix A by summing the terms which have the highest singular values. So we can use the first $k$ terms in the SVD equation, using the $k$ highest singular values which means we only include the first $k$ vectors in $U$ and $V$ matrices in the decomposition equation:\n",
        "\n",
        "<br>$$\\begin{align}\n",
        "A \\approx A_k &= \\begin{bmatrix} u_1 & u_2 & ... & u_k \\end{bmatrix} \\begin{bmatrix}\n",
        "\\sigma_1 & 0 & ... & 0  \\\\\n",
        "0 & \\sigma_2 & ... & 0   \\\\\n",
        "\\vdots & \\vdots & ... & \\vdots \\\\\n",
        "0 & 0 & ... & \\sigma_k \n",
        "\\end{bmatrix}\\begin{bmatrix} v_1^T \\\\ v_2^T \\\\ \\vdots \n",
        "\\\\ v_k^T \\end{bmatrix} \\\\ \\\\\n",
        "&=\\sigma_1u_1v_1^T + \\sigma_2u_2v_2^T +...+ \\sigma_ku_kv_k^T\\end{align}$$<br>\n",
        "\n",
        "Now we are ready to use SVD to perform Dimensionality reduction!\n"
      ]
    },
    {
      "cell_type": "markdown",
      "metadata": {
        "id": "XjsozM4QrtNF",
        "colab_type": "text"
      },
      "source": [
        "Reference:\n",
        "\n",
        "<a target='_blank' href='https://towardsdatascience.com/understanding-singular-value-decomposition-and-its-application-in-data-science-388a54be95d'>Understanding Singular Value Decomposition and its Application in Data Science</a>"
      ]
    }
  ]
}