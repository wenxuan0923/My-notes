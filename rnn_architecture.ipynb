{
  "nbformat": 4,
  "nbformat_minor": 0,
  "metadata": {
    "colab": {
      "name": "rnn_architecture.ipynb",
      "provenance": [],
      "collapsed_sections": [],
      "authorship_tag": "ABX9TyOQtcRbrpRXCuC/OtntGndl",
      "include_colab_link": true
    },
    "kernelspec": {
      "name": "python3",
      "display_name": "Python 3"
    }
  },
  "cells": [
    {
      "cell_type": "markdown",
      "metadata": {
        "id": "view-in-github",
        "colab_type": "text"
      },
      "source": [
        "<a href=\"https://colab.research.google.com/github/wenxuan0923/My-notes/blob/master/rnn_architecture.ipynb\" target=\"_parent\"><img src=\"https://colab.research.google.com/assets/colab-badge.svg\" alt=\"Open In Colab\"/></a>"
      ]
    },
    {
      "cell_type": "markdown",
      "metadata": {
        "id": "UlBQzUbdrpaK",
        "colab_type": "text"
      },
      "source": [
        "## Architecture of Main RNN Models\n",
        "\n",
        "In this note I will try to draw the architecture for the following RNN models:\n",
        "* Shallow Neural Network\n",
        "* Recurrent Neural Network\n",
        "* Bidirectional RNN\n",
        "* Long Short Term Memory networks\n",
        "* Sequence to Sequence Model\n"
      ]
    },
    {
      "cell_type": "markdown",
      "metadata": {
        "id": "OLVzfeEtrkeR",
        "colab_type": "text"
      },
      "source": [
        "<img src='https://drive.google.com/uc?id=1ndqWIH-Ak46ZPgdi-K9trpbo4NJpwG2C'></img>"
      ]
    },
    {
      "cell_type": "code",
      "metadata": {
        "id": "L60fLzJ5roKO",
        "colab_type": "code",
        "colab": {}
      },
      "source": [
        ""
      ],
      "execution_count": 0,
      "outputs": []
    }
  ]
}