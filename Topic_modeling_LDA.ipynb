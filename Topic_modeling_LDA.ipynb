{
  "nbformat": 4,
  "nbformat_minor": 0,
  "metadata": {
    "colab": {
      "name": "Topic_modeling_LDA.ipynb",
      "provenance": [],
      "collapsed_sections": [],
      "machine_shape": "hm",
      "authorship_tag": "ABX9TyOB2JjhGc89fDcgj1U8LJeH",
      "include_colab_link": true
    },
    "kernelspec": {
      "name": "python3",
      "display_name": "Python 3"
    }
  },
  "cells": [
    {
      "cell_type": "markdown",
      "metadata": {
        "id": "view-in-github",
        "colab_type": "text"
      },
      "source": [
        "<a href=\"https://colab.research.google.com/github/wenxuan0923/My-notes/blob/master/Topic_modeling_LDA.ipynb\" target=\"_parent\"><img src=\"https://colab.research.google.com/assets/colab-badge.svg\" alt=\"Open In Colab\"/></a>"
      ]
    },
    {
      "cell_type": "markdown",
      "metadata": {
        "id": "1dvlqCY--CyH",
        "colab_type": "text"
      },
      "source": [
        "#Topic Modeling: Latent Dirichlet Allocation\n",
        "\n",
        "**Topic modeling** is an unsupervised machine learning technique to cluster unlabelled text documents according to their hidden topics by analyzing \"bags\" of words frequently occur together. It can be used to:\n",
        "\n",
        "- Label documents according to these hidden topics\n",
        "\n",
        "- Search, organize and summarize texts documents\n",
        "\n",
        "There are many techniques that are used for topic modeling. In this note I will dig into the popular **Latent Dirichlet Allocation** (LDA) method. In particular, I will compare the results using **CountVectorizer** and **TfidfVectorizer**, and visualize them using an interactive visualization tool: **pyLDAvis**. The data set used in this note is from Kaggle <a target='_blank' href='https://www.kaggle.com/therohk/million-headlines'> A million News Headlines</a>: news headlines published over a period of 17 Years. "
      ]
    },
    {
      "cell_type": "code",
      "metadata": {
        "id": "MbETp82tFWNF",
        "colab_type": "code",
        "colab": {
          "base_uri": "https://localhost:8080/",
          "height": 199
        },
        "outputId": "3cab7589-1820-448c-8ad7-d1f33fc4661c"
      },
      "source": [
        "# General \n",
        "import pandas as pd\n",
        "import numpy as np\n",
        "from collections import Counter\n",
        "import matplotlib.pyplot as plt \n",
        "import seaborn as sns\n",
        "sns.set_style('whitegrid')\n",
        "\n",
        "# NLP dependencies\n",
        "import re\n",
        "import nltk\n",
        "nltk.download('punkt')\n",
        "nltk.download('wordnet')\n",
        "nltk.download('stopwords')\n",
        "nltk.download('averaged_perceptron_tagger')\n",
        "from nltk.corpus import wordnet, stopwords\n",
        "STOPWORDS = stopwords.words('english')\n",
        "from nltk.stem import WordNetLemmatizer\n",
        "from sklearn.decomposition import LatentDirichletAllocation\n",
        "from sklearn.feature_extraction.text import CountVectorizer, TfidfVectorizer\n",
        "import pyLDAvis.sklearn"
      ],
      "execution_count": 3,
      "outputs": [
        {
          "output_type": "stream",
          "text": [
            "[nltk_data] Downloading package punkt to /root/nltk_data...\n",
            "[nltk_data]   Package punkt is already up-to-date!\n",
            "[nltk_data] Downloading package wordnet to /root/nltk_data...\n",
            "[nltk_data]   Package wordnet is already up-to-date!\n",
            "[nltk_data] Downloading package stopwords to /root/nltk_data...\n",
            "[nltk_data]   Package stopwords is already up-to-date!\n",
            "[nltk_data] Downloading package averaged_perceptron_tagger to\n",
            "[nltk_data]     /root/nltk_data...\n",
            "[nltk_data]   Package averaged_perceptron_tagger is already up-to-\n",
            "[nltk_data]       date!\n"
          ],
          "name": "stdout"
        }
      ]
    },
    {
      "cell_type": "markdown",
      "metadata": {
        "id": "iVGoJWoGF2j1",
        "colab_type": "text"
      },
      "source": [
        "## Data preprocessing\n",
        "\n",
        "Let's load the data and see how should we preprocess the data.\n"
      ]
    },
    {
      "cell_type": "code",
      "metadata": {
        "id": "YolxVlARFWVV",
        "colab_type": "code",
        "colab": {
          "base_uri": "https://localhost:8080/",
          "height": 216
        },
        "outputId": "c1b16a77-d7b5-45d0-a988-0d8e4b8e81f8"
      },
      "source": [
        "text_df = pd.read_csv('abcnews-date-text.csv')\n",
        "print(text_df.shape)\n",
        "text_df.head(5)"
      ],
      "execution_count": 4,
      "outputs": [
        {
          "output_type": "stream",
          "text": [
            "(1186018, 2)\n"
          ],
          "name": "stdout"
        },
        {
          "output_type": "execute_result",
          "data": {
            "text/html": [
              "<div>\n",
              "<style scoped>\n",
              "    .dataframe tbody tr th:only-of-type {\n",
              "        vertical-align: middle;\n",
              "    }\n",
              "\n",
              "    .dataframe tbody tr th {\n",
              "        vertical-align: top;\n",
              "    }\n",
              "\n",
              "    .dataframe thead th {\n",
              "        text-align: right;\n",
              "    }\n",
              "</style>\n",
              "<table border=\"1\" class=\"dataframe\">\n",
              "  <thead>\n",
              "    <tr style=\"text-align: right;\">\n",
              "      <th></th>\n",
              "      <th>publish_date</th>\n",
              "      <th>headline_text</th>\n",
              "    </tr>\n",
              "  </thead>\n",
              "  <tbody>\n",
              "    <tr>\n",
              "      <th>0</th>\n",
              "      <td>20030219</td>\n",
              "      <td>aba decides against community broadcasting lic...</td>\n",
              "    </tr>\n",
              "    <tr>\n",
              "      <th>1</th>\n",
              "      <td>20030219</td>\n",
              "      <td>act fire witnesses must be aware of defamation</td>\n",
              "    </tr>\n",
              "    <tr>\n",
              "      <th>2</th>\n",
              "      <td>20030219</td>\n",
              "      <td>a g calls for infrastructure protection summit</td>\n",
              "    </tr>\n",
              "    <tr>\n",
              "      <th>3</th>\n",
              "      <td>20030219</td>\n",
              "      <td>air nz staff in aust strike for pay rise</td>\n",
              "    </tr>\n",
              "    <tr>\n",
              "      <th>4</th>\n",
              "      <td>20030219</td>\n",
              "      <td>air nz strike to affect australian travellers</td>\n",
              "    </tr>\n",
              "  </tbody>\n",
              "</table>\n",
              "</div>"
            ],
            "text/plain": [
              "   publish_date                                      headline_text\n",
              "0      20030219  aba decides against community broadcasting lic...\n",
              "1      20030219     act fire witnesses must be aware of defamation\n",
              "2      20030219     a g calls for infrastructure protection summit\n",
              "3      20030219           air nz staff in aust strike for pay rise\n",
              "4      20030219      air nz strike to affect australian travellers"
            ]
          },
          "metadata": {
            "tags": []
          },
          "execution_count": 4
        }
      ]
    },
    {
      "cell_type": "markdown",
      "metadata": {
        "id": "SWP2sw0M-8OM",
        "colab_type": "text"
      },
      "source": [
        "This is a large dataset, let's randomly sample 100000 of them for simplicity."
      ]
    },
    {
      "cell_type": "code",
      "metadata": {
        "id": "UWB44pTg-wWp",
        "colab_type": "code",
        "colab": {}
      },
      "source": [
        "df = text_df.sample(n=100000)"
      ],
      "execution_count": 5,
      "outputs": []
    },
    {
      "cell_type": "markdown",
      "metadata": {
        "id": "Yi_9ftKIKo25",
        "colab_type": "text"
      },
      "source": [
        "### Check for lower/upper case "
      ]
    },
    {
      "cell_type": "code",
      "metadata": {
        "id": "nxZcbJx_FWZ4",
        "colab_type": "code",
        "colab": {
          "base_uri": "https://localhost:8080/",
          "height": 35
        },
        "outputId": "eaca72d9-654f-4c73-ca86-9a2b793eef9a"
      },
      "source": [
        "have_upper = np.sum(df.headline_text.apply(lambda x: x.isupper()))\n",
        "if have_upper==len(df):\n",
        "  print('There are only uppercase in the document')\n",
        "elif have_upper==0:\n",
        "  print('There are only lowercase in the document')\n",
        "else:\n",
        "  print('There are both uppercase and lowercase in the document')"
      ],
      "execution_count": 6,
      "outputs": [
        {
          "output_type": "stream",
          "text": [
            "There are only lowercase in the document\n"
          ],
          "name": "stdout"
        }
      ]
    },
    {
      "cell_type": "markdown",
      "metadata": {
        "id": "GV-muVYHKtBE",
        "colab_type": "text"
      },
      "source": [
        "### Check for punctuations & special characters"
      ]
    },
    {
      "cell_type": "code",
      "metadata": {
        "id": "3CMCJvk_IGQD",
        "colab_type": "code",
        "colab": {
          "base_uri": "https://localhost:8080/",
          "height": 35
        },
        "outputId": "1d527117-9c13-4328-8fb1-e09050b265c8"
      },
      "source": [
        "punctuations = list(df.headline_text.apply(lambda x: re.findall(r'[^a-zA-Z0-9\\s]', x)))\n",
        "punctuations = set(sum(punctuations, []))\n",
        "print('There are {} punctuations: {}'.format(len(punctuations), punctuations))"
      ],
      "execution_count": 7,
      "outputs": [
        {
          "output_type": "stream",
          "text": [
            "There are 5 punctuations: {'.', ';', '$', ':', \"'\"}\n"
          ],
          "name": "stdout"
        }
      ]
    },
    {
      "cell_type": "markdown",
      "metadata": {
        "id": "3BZpt0AVGroy",
        "colab_type": "text"
      },
      "source": [
        "**We need to perform the following steps:**\n",
        "\n",
        "- Remove punctuations\n",
        "\n",
        "- Remove stop words\n",
        "\n",
        "- Tokenize the text\n",
        "\n",
        "- Lemmatize the words\n",
        "\n",
        "The first three steps can actually be bundled into one by using only one command in Scikit-Learn. We just need to lemmatize the words for now. \n",
        "\n",
        "One important thing to notice while using Lemmatizer from NLTK is: we should specify the **part of speech (pos) tag** while lemmatizing to the sentences. This is because if not specified, the default setting `noun` will be applied, meaning the lemmatizer will attempt to find the closest noun, which can potentially be very wrong. Luckily, we can easily get pos tag of each token in a sentence with `nltk.pos_tag`. Reference: https://pythonprogramming.net/lemmatizing-nltk-tutorial/\n"
      ]
    },
    {
      "cell_type": "code",
      "metadata": {
        "id": "SlJ_vmFBfkKs",
        "colab_type": "code",
        "colab": {}
      },
      "source": [
        "# function to convert nltk tag to wordnet tag\n",
        "def nltk_tag_to_wordnet_tag(nltk_tag):\n",
        "    if nltk_tag.startswith('J'):\n",
        "        return wordnet.ADJ\n",
        "    elif nltk_tag.startswith('V'):\n",
        "        return wordnet.VERB\n",
        "    elif nltk_tag.startswith('N'):\n",
        "        return wordnet.NOUN\n",
        "    elif nltk_tag.startswith('R'):\n",
        "        return wordnet.ADV\n",
        "    else:          \n",
        "        return None\n",
        "\n",
        "def lemmatize_sentence(sentence):\n",
        "    nltk_tagged = nltk.pos_tag(nltk.word_tokenize(sentence))  \n",
        "    wordnet_tagged = [(word, nltk_tag_to_wordnet_tag(tag)) \n",
        "                      for word, tag in nltk_tagged]\n",
        "    lemmatizer = WordNetLemmatizer()\n",
        "    \n",
        "    lemmatized_sentence = ''\n",
        "    for word, tag in wordnet_tagged:\n",
        "        if tag:\n",
        "            lemmatized_sentence += ' ' + lemmatizer.lemmatize(word, tag)\n",
        "        else:\n",
        "            lemmatized_sentence += ' ' + word\n",
        "\n",
        "    return lemmatized_sentence.strip()"
      ],
      "execution_count": 8,
      "outputs": []
    },
    {
      "cell_type": "markdown",
      "metadata": {
        "id": "LF6DCe_joDU5",
        "colab_type": "text"
      },
      "source": [
        "### Preview the funtion with an example"
      ]
    },
    {
      "cell_type": "code",
      "metadata": {
        "id": "gWscquONmwd7",
        "colab_type": "code",
        "colab": {
          "base_uri": "https://localhost:8080/",
          "height": 54
        },
        "outputId": "9cb06723-6197-46f8-acf5-d9978b922e77"
      },
      "source": [
        "txt = df.headline_text.iloc[2325]\n",
        "print('\\033[34m Original text: \\033[30m', txt)\n",
        "lemmatized_txt = lemmatize_sentence(txt)\n",
        "print('\\033[35m Lemmatized text: \\033[30m', lemmatized_txt)"
      ],
      "execution_count": 11,
      "outputs": [
        {
          "output_type": "stream",
          "text": [
            "\u001b[34m Original text: \u001b[30m hospital reaches settlement over disabilities case\n",
            "\u001b[35m Lemmatized text: \u001b[30m hospital reach settlement over disability case\n"
          ],
          "name": "stdout"
        }
      ]
    },
    {
      "cell_type": "markdown",
      "metadata": {
        "id": "rkFMKnRH_3cM",
        "colab_type": "text"
      },
      "source": [
        "Great, it works as expected! Now we can apply this method to the whole dataset and save it in another column `lemmatized_txt`."
      ]
    },
    {
      "cell_type": "code",
      "metadata": {
        "id": "VberxkUymwgk",
        "colab_type": "code",
        "colab": {
          "base_uri": "https://localhost:8080/",
          "height": 54
        },
        "outputId": "2c7de8a6-d651-4da9-cda5-023065a95860"
      },
      "source": [
        "%%time\n",
        "df['lemmatized_txt'] = df.headline_text.apply(lambda x: lemmatize_sentence(x))\n",
        "# it takes quite a while to process the data, let's save it for further usage\n",
        "# text_df.to_csv('news.csv')"
      ],
      "execution_count": 12,
      "outputs": [
        {
          "output_type": "stream",
          "text": [
            "CPU times: user 1min 4s, sys: 1.1 s, total: 1min 5s\n",
            "Wall time: 1min 5s\n"
          ],
          "name": "stdout"
        }
      ]
    },
    {
      "cell_type": "code",
      "metadata": {
        "id": "Ahx-fEIRpreS",
        "colab_type": "code",
        "colab": {
          "base_uri": "https://localhost:8080/",
          "height": 198
        },
        "outputId": "a78c2c79-fb43-49cd-9a96-fdb7be939ea5"
      },
      "source": [
        "df.head()"
      ],
      "execution_count": 13,
      "outputs": [
        {
          "output_type": "execute_result",
          "data": {
            "text/html": [
              "<div>\n",
              "<style scoped>\n",
              "    .dataframe tbody tr th:only-of-type {\n",
              "        vertical-align: middle;\n",
              "    }\n",
              "\n",
              "    .dataframe tbody tr th {\n",
              "        vertical-align: top;\n",
              "    }\n",
              "\n",
              "    .dataframe thead th {\n",
              "        text-align: right;\n",
              "    }\n",
              "</style>\n",
              "<table border=\"1\" class=\"dataframe\">\n",
              "  <thead>\n",
              "    <tr style=\"text-align: right;\">\n",
              "      <th></th>\n",
              "      <th>publish_date</th>\n",
              "      <th>headline_text</th>\n",
              "      <th>lemmatized_txt</th>\n",
              "    </tr>\n",
              "  </thead>\n",
              "  <tbody>\n",
              "    <tr>\n",
              "      <th>1152845</th>\n",
              "      <td>20190113</td>\n",
              "      <td>deadly paris bakery blast kills firefighters</td>\n",
              "      <td>deadly paris bakery blast kill firefighter</td>\n",
              "    </tr>\n",
              "    <tr>\n",
              "      <th>238369</th>\n",
              "      <td>20060522</td>\n",
              "      <td>tamil tiger leader killed in sri lanka</td>\n",
              "      <td>tamil tiger leader kill in sri lanka</td>\n",
              "    </tr>\n",
              "    <tr>\n",
              "      <th>1045406</th>\n",
              "      <td>20160831</td>\n",
              "      <td>cavers rescue calf</td>\n",
              "      <td>cavers rescue calf</td>\n",
              "    </tr>\n",
              "    <tr>\n",
              "      <th>638377</th>\n",
              "      <td>20110910</td>\n",
              "      <td>vettel on monza pole; webber fifth</td>\n",
              "      <td>vettel on monza pole ; webber fifth</td>\n",
              "    </tr>\n",
              "    <tr>\n",
              "      <th>508005</th>\n",
              "      <td>20091218</td>\n",
              "      <td>windies scratch way to lunch</td>\n",
              "      <td>windies scratch way to lunch</td>\n",
              "    </tr>\n",
              "  </tbody>\n",
              "</table>\n",
              "</div>"
            ],
            "text/plain": [
              "         publish_date  ...                              lemmatized_txt\n",
              "1152845      20190113  ...  deadly paris bakery blast kill firefighter\n",
              "238369       20060522  ...        tamil tiger leader kill in sri lanka\n",
              "1045406      20160831  ...                          cavers rescue calf\n",
              "638377       20110910  ...         vettel on monza pole ; webber fifth\n",
              "508005       20091218  ...                windies scratch way to lunch\n",
              "\n",
              "[5 rows x 3 columns]"
            ]
          },
          "metadata": {
            "tags": []
          },
          "execution_count": 13
        }
      ]
    },
    {
      "cell_type": "markdown",
      "metadata": {
        "id": "UXc3I3AgoYU2",
        "colab_type": "text"
      },
      "source": [
        "## Vectorization \n",
        "\n",
        "Now we are ready to vectorize the lemmatized texts, and at the same time remove punctuations and stopwords. We will be using **CountVectorizer** and  **TfidfVectorizer** from `sklearn.feature_extraction.text` class.\n",
        "\n",
        "- **CountVectorizer** converts a collection of text documents to a matrix of token counts.\n",
        "\n",
        "- **TfidfVectorizer** converts a collection of raw documents to a matrix of TF-IDF features.\n",
        "\n",
        "### Some important common attributes in these two vectorizers:\n",
        ">**lowercase**, bool, default=True, convert all characters to lowercase before tokenizing <br><br>\n",
        "> **analyzer** {'word', 'char', 'char_wb'} or callable, default='word'\n",
        "Whether the feature should be made of word or character n-grams <br><br>\n",
        ">**stop_words**: string or list, default=None. If 'english', a built-in stop word list for English is used<br><br>\n",
        "> **token_pattern**: string. Regular expression denoting what constitutes a 'token', only used if analyzer == 'word'. The default regexp select tokens of 2 or more alphanumeric characters (punctuation is completely ignored and always treated as a token separator) <br><br>\n",
        ">**ngram_range**: tuple (min_n, max_n), default=(1, 1) means only unigrams, (1, 2) means unigrams and bigrams, and (2, 2) means only bigrams<br><br>\n",
        ">**max_df**: float in range [0.0, 1.0] or int, default=1: ignore terms that have a document frequency strictly higher than the given threshold<br><br>\n",
        ">**min_df**: float in range [0.0, 1.0] or int, default=1: ignore terms that have a document frequency strictly lower than the given threshold\n",
        "\n",
        "For this news dataset, we have only lowercase chracters, and we will use 'word' as analyzer to classify the texts. The list `STOPWORDS` we downloaded from nltk at the begining of the note will be passed in the stop_words argument."
      ]
    },
    {
      "cell_type": "code",
      "metadata": {
        "id": "3ZPp_jwqmwim",
        "colab_type": "code",
        "colab": {}
      },
      "source": [
        "count_vectorizer = CountVectorizer(strip_accents = 'unicode',\n",
        "                                   lowercase = True,\n",
        "                                   analyzer = 'word',\n",
        "                                   token_pattern = r'\\b[a-zA-Z]{3,}\\b',  # words contain at least 3 letters\n",
        "                                   stop_words = STOPWORDS,\n",
        "                                   ngram_range = (1, 1),   # only consider unigrams \n",
        "                                   max_df = 0.5,   # can't occur in more than half of the documents \n",
        "                                   min_df = 20)   # at least occur in 20 documents\n",
        "\n",
        "# Use the same parameters to define the TfidfVectorizer\n",
        "tf_idf_vectorizer = TfidfVectorizer(**count_vectorizer.get_params())"
      ],
      "execution_count": 14,
      "outputs": []
    },
    {
      "cell_type": "code",
      "metadata": {
        "id": "QG1E9xFvzD1V",
        "colab_type": "code",
        "colab": {
          "base_uri": "https://localhost:8080/",
          "height": 110
        },
        "outputId": "cb9a0f91-590f-4727-c0be-a88719d845fd"
      },
      "source": [
        "vec_count = count_vectorizer.fit_transform(df.lemmatized_txt)\n",
        "vec_tfidf = tf_idf_vectorizer.fit_transform(df.lemmatized_txt)\n",
        "print(vec_count.shape)\n",
        "print(vec_tfidf.shape)"
      ],
      "execution_count": 15,
      "outputs": [
        {
          "output_type": "stream",
          "text": [
            "/usr/local/lib/python3.6/dist-packages/sklearn/feature_extraction/text.py:1817: UserWarning: Only (<class 'numpy.float64'>, <class 'numpy.float32'>, <class 'numpy.float16'>) 'dtype' should be used. <class 'numpy.int64'> 'dtype' will be converted to np.float64.\n",
            "  UserWarning)\n"
          ],
          "name": "stderr"
        },
        {
          "output_type": "stream",
          "text": [
            "(100000, 3726)\n",
            "(100000, 3726)\n"
          ],
          "name": "stdout"
        }
      ]
    },
    {
      "cell_type": "markdown",
      "metadata": {
        "id": "V6H6jOSBxcM8",
        "colab_type": "text"
      },
      "source": [
        "## LDA and its Visualization\n",
        "\n",
        "In the LDA model, each document is viewed as a mixture of topics that are present in the corpus. The model proposes that each word in the document is attributable to one of the document’s topics. The LDA model determine how much of each topic is present in a document.\n",
        "\n",
        "The two main idea behind LDA model are:\n",
        "\n",
        "- **Every document is a mixture of topics**\n",
        "> E.g. we can say document A is 90% topic 1 and 10% topic 2, Document B is 30% topic 1 and 70% topic 2\n",
        "- **Every topic is a mixture of words**\n",
        "> E.g. Say there are two topics in our news headlines: \"Politics\" and \"Agriculture\". The most common words in the \"Politics\" topic might be \"Democrats\", \"Election\", \"Federal\" and so on. While the \"Agriculture\" topic may be made up of words like \"Farm\", \"Plant\", \"Seed\", \"Weather\", etc. Importantly, **words can be shared between topics**, the a word like \"budget\" might appear in both equally.\n",
        "\n",
        "\n",
        "LDA is a mathematical method for estimating both of these at the same time: finding the mixture of words that is associated with each topic, while also determining the mixture of topics that describes each document. \n",
        "\n",
        "Reference: https://www.tidytextmining.com/topicmodeling.html"
      ]
    },
    {
      "cell_type": "code",
      "metadata": {
        "id": "gAc5B4iA0Or7",
        "colab_type": "code",
        "colab": {}
      },
      "source": [
        "num_topics = 8   # Hyperparameter to be tuned"
      ],
      "execution_count": 16,
      "outputs": []
    },
    {
      "cell_type": "code",
      "metadata": {
        "id": "9VXE6tDMmwky",
        "colab_type": "code",
        "colab": {
          "base_uri": "https://localhost:8080/",
          "height": 54
        },
        "outputId": "0c1d4fc7-015a-43d1-e220-61dbcfc499fe"
      },
      "source": [
        "# for count vectorizer\n",
        "%%time\n",
        "count_LDA = LatentDirichletAllocation(n_components=num_topics, random_state=0)\n",
        "count_LDA.fit(vec_count)"
      ],
      "execution_count": 17,
      "outputs": [
        {
          "output_type": "stream",
          "text": [
            "CPU times: user 2min 36s, sys: 34.6 ms, total: 2min 36s\n",
            "Wall time: 2min 36s\n"
          ],
          "name": "stdout"
        }
      ]
    },
    {
      "cell_type": "code",
      "metadata": {
        "id": "1rURwCFRMNqM",
        "colab_type": "code",
        "colab": {}
      },
      "source": [
        "# get topics for samples\n",
        "topics = count_LDA.transform(vec_count)\n",
        "df['predict_topic'] = topics.argmax(axis=1)"
      ],
      "execution_count": 20,
      "outputs": []
    },
    {
      "cell_type": "code",
      "metadata": {
        "id": "zMBO1VX6O_iT",
        "colab_type": "code",
        "colab": {
          "base_uri": "https://localhost:8080/",
          "height": 407
        },
        "outputId": "631a6064-c745-44ad-9e3e-ec6baa7d3f45"
      },
      "source": [
        "# News belong to topic 1\n",
        "df[df.predict_topic==1]"
      ],
      "execution_count": 28,
      "outputs": [
        {
          "output_type": "execute_result",
          "data": {
            "text/html": [
              "<div>\n",
              "<style scoped>\n",
              "    .dataframe tbody tr th:only-of-type {\n",
              "        vertical-align: middle;\n",
              "    }\n",
              "\n",
              "    .dataframe tbody tr th {\n",
              "        vertical-align: top;\n",
              "    }\n",
              "\n",
              "    .dataframe thead th {\n",
              "        text-align: right;\n",
              "    }\n",
              "</style>\n",
              "<table border=\"1\" class=\"dataframe\">\n",
              "  <thead>\n",
              "    <tr style=\"text-align: right;\">\n",
              "      <th></th>\n",
              "      <th>publish_date</th>\n",
              "      <th>headline_text</th>\n",
              "      <th>lemmatized_txt</th>\n",
              "      <th>predict_topic</th>\n",
              "    </tr>\n",
              "  </thead>\n",
              "  <tbody>\n",
              "    <tr>\n",
              "      <th>1152845</th>\n",
              "      <td>20190113</td>\n",
              "      <td>deadly paris bakery blast kills firefighters</td>\n",
              "      <td>deadly paris bakery blast kill firefighter</td>\n",
              "      <td>1</td>\n",
              "    </tr>\n",
              "    <tr>\n",
              "      <th>974618</th>\n",
              "      <td>20150826</td>\n",
              "      <td>police raid canberra headquarters of cfmeu</td>\n",
              "      <td>police raid canberra headquarters of cfmeu</td>\n",
              "      <td>1</td>\n",
              "    </tr>\n",
              "    <tr>\n",
              "      <th>408915</th>\n",
              "      <td>20080905</td>\n",
              "      <td>mother acquitted of raping daughter</td>\n",
              "      <td>mother acquit of rap daughter</td>\n",
              "      <td>1</td>\n",
              "    </tr>\n",
              "    <tr>\n",
              "      <th>331403</th>\n",
              "      <td>20070917</td>\n",
              "      <td>mystery toddler from new zealand police</td>\n",
              "      <td>mystery toddler from new zealand police</td>\n",
              "      <td>1</td>\n",
              "    </tr>\n",
              "    <tr>\n",
              "      <th>537642</th>\n",
              "      <td>20100514</td>\n",
              "      <td>21 years in jail for savage murder of flatmate</td>\n",
              "      <td>21 year in jail for savage murder of flatmate</td>\n",
              "      <td>1</td>\n",
              "    </tr>\n",
              "    <tr>\n",
              "      <th>...</th>\n",
              "      <td>...</td>\n",
              "      <td>...</td>\n",
              "      <td>...</td>\n",
              "      <td>...</td>\n",
              "    </tr>\n",
              "    <tr>\n",
              "      <th>649907</th>\n",
              "      <td>20111103</td>\n",
              "      <td>pakistani trio handed jail sentences</td>\n",
              "      <td>pakistani trio hand jail sentence</td>\n",
              "      <td>1</td>\n",
              "    </tr>\n",
              "    <tr>\n",
              "      <th>9247</th>\n",
              "      <td>20030403</td>\n",
              "      <td>woman pleads guilty to transvestite murder</td>\n",
              "      <td>woman plead guilty to transvestite murder</td>\n",
              "      <td>1</td>\n",
              "    </tr>\n",
              "    <tr>\n",
              "      <th>527280</th>\n",
              "      <td>20100323</td>\n",
              "      <td>womans arm almost severed in dog attack</td>\n",
              "      <td>woman arm almost sever in dog attack</td>\n",
              "      <td>1</td>\n",
              "    </tr>\n",
              "    <tr>\n",
              "      <th>514955</th>\n",
              "      <td>20100124</td>\n",
              "      <td>second person questioned over teen party stabbing</td>\n",
              "      <td>second person question over teen party stabbing</td>\n",
              "      <td>1</td>\n",
              "    </tr>\n",
              "    <tr>\n",
              "      <th>604359</th>\n",
              "      <td>20110330</td>\n",
              "      <td>women take on walmart</td>\n",
              "      <td>woman take on walmart</td>\n",
              "      <td>1</td>\n",
              "    </tr>\n",
              "  </tbody>\n",
              "</table>\n",
              "<p>14582 rows × 4 columns</p>\n",
              "</div>"
            ],
            "text/plain": [
              "         publish_date  ... predict_topic\n",
              "1152845      20190113  ...             1\n",
              "974618       20150826  ...             1\n",
              "408915       20080905  ...             1\n",
              "331403       20070917  ...             1\n",
              "537642       20100514  ...             1\n",
              "...               ...  ...           ...\n",
              "649907       20111103  ...             1\n",
              "9247         20030403  ...             1\n",
              "527280       20100323  ...             1\n",
              "514955       20100124  ...             1\n",
              "604359       20110330  ...             1\n",
              "\n",
              "[14582 rows x 4 columns]"
            ]
          },
          "metadata": {
            "tags": []
          },
          "execution_count": 28
        }
      ]
    },
    {
      "cell_type": "markdown",
      "metadata": {
        "id": "MKWQkl5_LPuC",
        "colab_type": "text"
      },
      "source": [
        "### Top keywords in each topic\n",
        "\n",
        "Each topic is characterized by a mixture of words. Let's now extract the keywords from each topic to infer the real topic of the group. "
      ]
    },
    {
      "cell_type": "code",
      "metadata": {
        "id": "zVdfqsvNHWkn",
        "colab_type": "code",
        "colab": {}
      },
      "source": [
        "def get_topicword(LDA, vectorizer):\n",
        "  return pd.DataFrame(data=LDA.components_.T, \n",
        "                  index=vectorizer.get_feature_names(),\n",
        "                  columns=['topic_'+str(i) for i in range(1, num_topics+1)])\n",
        "\n",
        "def get_top_keywords(topicword, topic, top):\n",
        "  order = np.argsort(topicword['topic_'+str(topic)])[::-1]\n",
        "  top_words = np.array(topicword.index)[order][:top]\n",
        "  return top_words"
      ],
      "execution_count": 29,
      "outputs": []
    },
    {
      "cell_type": "markdown",
      "metadata": {
        "id": "Gg9WrkYoEO_j",
        "colab_type": "text"
      },
      "source": [
        "`count_LDA.components_` is a topic word distribution table. `components[i, j]` can be viewed as pseudocount that represents the number of times word j was assigned to topic i. It can also be viewed as distribution over the words for each topic after normalization. References:\n",
        "\n",
        "1. <a target='_blank' href='https://scikit-learn.org/stable/modules/generated/sklearn.decomposition.LatentDirichletAllocation.html'> sklearn.decomposition.LatentDirichletAllocation </a>\n",
        "\n",
        "\n",
        "2. <a target='_blank' href='https://scikit-learn.org/stable/auto_examples/applications/plot_topics_extraction_with_nmf_lda.html#sphx-glr-auto-examples-applications-plot-topics-extraction-with-nmf-lda-py'>Topic extraction with Non-negative Matrix Factorization and Latent Dirichlet Allocation</a>"
      ]
    },
    {
      "cell_type": "code",
      "metadata": {
        "id": "ES87_rreFs59",
        "colab_type": "code",
        "colab": {
          "base_uri": "https://localhost:8080/",
          "height": 1000
        },
        "outputId": "375f2b8e-0d26-418e-99f5-ef06e6303cba"
      },
      "source": [
        "topicword_count = get_topicword(count_LDA, count_vectorizer)\n",
        "display(topicword_count)\n",
        "\n",
        "# get top 15 keywords in each topic \n",
        "for n in range(1, 9):\n",
        "  print('\\033[35m Topic', n , '\\n \\033[30m')\n",
        "  print(get_top_keywords(topicword=topicword_count, \n",
        "                 topic=n, top=15), '\\n')"
      ],
      "execution_count": 30,
      "outputs": [
        {
          "output_type": "display_data",
          "data": {
            "text/html": [
              "<div>\n",
              "<style scoped>\n",
              "    .dataframe tbody tr th:only-of-type {\n",
              "        vertical-align: middle;\n",
              "    }\n",
              "\n",
              "    .dataframe tbody tr th {\n",
              "        vertical-align: top;\n",
              "    }\n",
              "\n",
              "    .dataframe thead th {\n",
              "        text-align: right;\n",
              "    }\n",
              "</style>\n",
              "<table border=\"1\" class=\"dataframe\">\n",
              "  <thead>\n",
              "    <tr style=\"text-align: right;\">\n",
              "      <th></th>\n",
              "      <th>topic_1</th>\n",
              "      <th>topic_2</th>\n",
              "      <th>topic_3</th>\n",
              "      <th>topic_4</th>\n",
              "      <th>topic_5</th>\n",
              "      <th>topic_6</th>\n",
              "      <th>topic_7</th>\n",
              "      <th>topic_8</th>\n",
              "    </tr>\n",
              "  </thead>\n",
              "  <tbody>\n",
              "    <tr>\n",
              "      <th>abalone</th>\n",
              "      <td>0.125185</td>\n",
              "      <td>0.128036</td>\n",
              "      <td>0.125045</td>\n",
              "      <td>0.125069</td>\n",
              "      <td>0.125084</td>\n",
              "      <td>26.121341</td>\n",
              "      <td>0.125113</td>\n",
              "      <td>0.125128</td>\n",
              "    </tr>\n",
              "    <tr>\n",
              "      <th>abandon</th>\n",
              "      <td>0.125077</td>\n",
              "      <td>17.971764</td>\n",
              "      <td>0.125098</td>\n",
              "      <td>0.125097</td>\n",
              "      <td>0.125069</td>\n",
              "      <td>0.125142</td>\n",
              "      <td>50.277664</td>\n",
              "      <td>0.125088</td>\n",
              "    </tr>\n",
              "    <tr>\n",
              "      <th>abattoir</th>\n",
              "      <td>81.124682</td>\n",
              "      <td>0.125044</td>\n",
              "      <td>0.125028</td>\n",
              "      <td>0.125046</td>\n",
              "      <td>0.125037</td>\n",
              "      <td>0.125050</td>\n",
              "      <td>0.125035</td>\n",
              "      <td>0.125078</td>\n",
              "    </tr>\n",
              "    <tr>\n",
              "      <th>abbott</th>\n",
              "      <td>0.125075</td>\n",
              "      <td>0.125042</td>\n",
              "      <td>27.127164</td>\n",
              "      <td>0.125150</td>\n",
              "      <td>18.808663</td>\n",
              "      <td>57.127004</td>\n",
              "      <td>123.135603</td>\n",
              "      <td>21.426299</td>\n",
              "    </tr>\n",
              "    <tr>\n",
              "      <th>abbotts</th>\n",
              "      <td>0.125141</td>\n",
              "      <td>0.125013</td>\n",
              "      <td>0.125148</td>\n",
              "      <td>16.023613</td>\n",
              "      <td>0.125117</td>\n",
              "      <td>0.125039</td>\n",
              "      <td>6.225867</td>\n",
              "      <td>0.125062</td>\n",
              "    </tr>\n",
              "    <tr>\n",
              "      <th>...</th>\n",
              "      <td>...</td>\n",
              "      <td>...</td>\n",
              "      <td>...</td>\n",
              "      <td>...</td>\n",
              "      <td>...</td>\n",
              "      <td>...</td>\n",
              "      <td>...</td>\n",
              "      <td>...</td>\n",
              "    </tr>\n",
              "    <tr>\n",
              "      <th>zealand</th>\n",
              "      <td>0.125057</td>\n",
              "      <td>0.125027</td>\n",
              "      <td>0.125034</td>\n",
              "      <td>6.510910</td>\n",
              "      <td>0.125023</td>\n",
              "      <td>119.738896</td>\n",
              "      <td>0.125029</td>\n",
              "      <td>0.125024</td>\n",
              "    </tr>\n",
              "    <tr>\n",
              "      <th>zero</th>\n",
              "      <td>15.790314</td>\n",
              "      <td>0.138739</td>\n",
              "      <td>5.308147</td>\n",
              "      <td>0.125016</td>\n",
              "      <td>0.262394</td>\n",
              "      <td>0.125075</td>\n",
              "      <td>0.125194</td>\n",
              "      <td>0.125121</td>\n",
              "    </tr>\n",
              "    <tr>\n",
              "      <th>zimbabwe</th>\n",
              "      <td>0.125039</td>\n",
              "      <td>0.125049</td>\n",
              "      <td>0.125043</td>\n",
              "      <td>0.125118</td>\n",
              "      <td>40.460255</td>\n",
              "      <td>0.151546</td>\n",
              "      <td>73.762919</td>\n",
              "      <td>0.125030</td>\n",
              "    </tr>\n",
              "    <tr>\n",
              "      <th>zone</th>\n",
              "      <td>92.086316</td>\n",
              "      <td>0.127648</td>\n",
              "      <td>2.557588</td>\n",
              "      <td>0.125020</td>\n",
              "      <td>0.125132</td>\n",
              "      <td>0.125030</td>\n",
              "      <td>8.786928</td>\n",
              "      <td>15.066338</td>\n",
              "    </tr>\n",
              "    <tr>\n",
              "      <th>zoo</th>\n",
              "      <td>0.125057</td>\n",
              "      <td>0.127258</td>\n",
              "      <td>8.078052</td>\n",
              "      <td>0.125084</td>\n",
              "      <td>0.145416</td>\n",
              "      <td>0.159299</td>\n",
              "      <td>1.748661</td>\n",
              "      <td>50.491172</td>\n",
              "    </tr>\n",
              "  </tbody>\n",
              "</table>\n",
              "<p>3726 rows × 8 columns</p>\n",
              "</div>"
            ],
            "text/plain": [
              "            topic_1    topic_2    topic_3  ...     topic_6     topic_7    topic_8\n",
              "abalone    0.125185   0.128036   0.125045  ...   26.121341    0.125113   0.125128\n",
              "abandon    0.125077  17.971764   0.125098  ...    0.125142   50.277664   0.125088\n",
              "abattoir  81.124682   0.125044   0.125028  ...    0.125050    0.125035   0.125078\n",
              "abbott     0.125075   0.125042  27.127164  ...   57.127004  123.135603  21.426299\n",
              "abbotts    0.125141   0.125013   0.125148  ...    0.125039    6.225867   0.125062\n",
              "...             ...        ...        ...  ...         ...         ...        ...\n",
              "zealand    0.125057   0.125027   0.125034  ...  119.738896    0.125029   0.125024\n",
              "zero      15.790314   0.138739   5.308147  ...    0.125075    0.125194   0.125121\n",
              "zimbabwe   0.125039   0.125049   0.125043  ...    0.151546   73.762919   0.125030\n",
              "zone      92.086316   0.127648   2.557588  ...    0.125030    8.786928  15.066338\n",
              "zoo        0.125057   0.127258   8.078052  ...    0.159299    1.748661  50.491172\n",
              "\n",
              "[3726 rows x 8 columns]"
            ]
          },
          "metadata": {
            "tags": []
          }
        },
        {
          "output_type": "stream",
          "text": [
            "\u001b[35m Topic 1 \n",
            " \u001b[30m\n",
            "['road' 'urge' 'change' 'day' 'market' 'pay' 'deal' 'coast' 'gold'\n",
            " 'strike' 'farmer' 'one' 'war' 'land' 'close'] \n",
            "\n",
            "\u001b[35m Topic 2 \n",
            " \u001b[30m\n",
            "['police' 'man' 'charge' 'court' 'crash' 'woman' 'find' 'murder' 'death'\n",
            " 'car' 'kill' 'jail' 'drug' 'two' 'arrest'] \n",
            "\n",
            "\u001b[35m Topic 3 \n",
            " \u001b[30m\n",
            "['water' 'rise' 'accuse' 'school' 'face' 'say' 'rate' 'minister' 'china'\n",
            " 'warn' 'question' 'student' 'link' 'high' 'show'] \n",
            "\n",
            "\u001b[35m Topic 4 \n",
            " \u001b[30m\n",
            "['fire' 'interview' 'year' 'australia' 'claim' 'world' 'cup' 'attack'\n",
            " 'life' 'melbourne' 'sentence' 'mine' 'body' 'new' 'look'] \n",
            "\n",
            "\u001b[35m Topic 5 \n",
            " \u001b[30m\n",
            "['govt' 'call' 'report' 'labor' 'green' 'power' 'rural' 'indigenous'\n",
            " 'search' 'probe' 'fall' 'plan' 'nsw' 'run' 'continue'] \n",
            "\n",
            "\u001b[35m Topic 6 \n",
            " \u001b[30m\n",
            "['win' 'new' 'make' 'ban' 'say' 'return' 'top' 'force' 'back' 'final'\n",
            " 'name' 'trump' 'open' 'medium' 'beat'] \n",
            "\n",
            "\u001b[35m Topic 7 \n",
            " \u001b[30m\n",
            "['election' 'country' 'iraq' 'national' 'law' 'take' 'government' 'hour'\n",
            " 'act' 'kill' 'park' 'vote' 'campaign' 'darwin' 'new'] \n",
            "\n",
            "\u001b[35m Topic 8 \n",
            " \u001b[30m\n",
            "['plan' 'get' 'council' 'health' 'north' 'price' 'boost' 'fund' 'qld'\n",
            " 'talk' 'south' 'business' 'port' 'west' 'hospital'] \n",
            "\n"
          ],
          "name": "stdout"
        }
      ]
    },
    {
      "cell_type": "markdown",
      "metadata": {
        "id": "arXBa4uFM1Mq",
        "colab_type": "text"
      },
      "source": [
        "We can also use **pyLDAvis** package to visualize the result: Note that the topic label might be different."
      ]
    },
    {
      "cell_type": "code",
      "metadata": {
        "id": "-BHIrO7EssPA",
        "colab_type": "code",
        "colab": {
          "base_uri": "https://localhost:8080/",
          "height": 861
        },
        "outputId": "9eb15ae5-645f-4505-d7e6-d485e4112475"
      },
      "source": [
        "# Visualizing the models with pyLDAvis\n",
        "pyLDAvis.enable_notebook()\n",
        "pyLDAvis.sklearn.prepare(count_LDA, vec_count, count_vectorizer)"
      ],
      "execution_count": 31,
      "outputs": [
        {
          "output_type": "execute_result",
          "data": {
            "text/html": [
              "\n",
              "<link rel=\"stylesheet\" type=\"text/css\" href=\"https://cdn.rawgit.com/bmabey/pyLDAvis/files/ldavis.v1.0.0.css\">\n",
              "\n",
              "\n",
              "<div id=\"ldavis_el1391406562591578325570231457\"></div>\n",
              "<script type=\"text/javascript\">\n",
              "\n",
              "var ldavis_el1391406562591578325570231457_data = {\"mdsDat\": {\"x\": [0.3309833902264064, -0.14892869866566982, 0.0625409487170769, -0.12251173389581098, -0.10439516005570902, -0.11608130566567973, -0.06343257618335076, 0.1618251355227369], \"y\": [0.22466012038710653, 0.03795825062069229, -0.2285644761970774, 0.08777805881007053, 0.0478327877612862, -0.040785982999846246, 0.10007368880693893, -0.2289524471891709], \"topics\": [1, 2, 3, 4, 5, 6, 7, 8], \"cluster\": [1, 1, 1, 1, 1, 1, 1, 1], \"Freq\": [14.376521101567374, 13.91976913639531, 13.129866074420022, 12.865784893181223, 12.383514328069992, 11.33480050331955, 11.087644106607287, 10.90209985643924]}, \"tinfo\": {\"Term\": [\"man\", \"police\", \"charge\", \"fire\", \"interview\", \"court\", \"govt\", \"water\", \"year\", \"crash\", \"australia\", \"win\", \"woman\", \"find\", \"murder\", \"rise\", \"face\", \"accuse\", \"call\", \"election\", \"car\", \"kill\", \"report\", \"school\", \"road\", \"drug\", \"claim\", \"attack\", \"jail\", \"two\", \"man\", \"charge\", \"murder\", \"car\", \"two\", \"arrest\", \"dead\", \"assault\", \"guilty\", \"fatal\", \"officer\", \"teen\", \"accident\", \"injure\", \"die\", \"stab\", \"mother\", \"plead\", \"front\", \"drink\", \"inquest\", \"men\", \"robbery\", \"sexual\", \"theft\", \"alleged\", \"teenager\", \"pleads\", \"truck\", \"rape\", \"court\", \"drug\", \"crash\", \"shoot\", \"trial\", \"driver\", \"find\", \"police\", \"woman\", \"jail\", \"sex\", \"investigate\", \"miss\", \"death\", \"kill\", \"child\", \"case\", \"tell\", \"face\", \"attack\", \"sydney\", \"price\", \"rain\", \"korea\", \"wild\", \"whale\", \"video\", \"port\", \"improve\", \"ship\", \"coroner\", \"disaster\", \"surgery\", \"small\", \"scare\", \"semi\", \"milk\", \"heavy\", \"infrastructure\", \"upgrade\", \"quiz\", \"update\", \"past\", \"brace\", \"spill\", \"department\", \"conviction\", \"net\", \"season\", \"entertainment\", \"glory\", \"oil\", \"merger\", \"island\", \"north\", \"festival\", \"mill\", \"wait\", \"future\", \"weather\", \"live\", \"west\", \"health\", \"shark\", \"late\", \"decision\", \"get\", \"boost\", \"business\", \"cyclone\", \"fund\", \"export\", \"plan\", \"talk\", \"budget\", \"council\", \"south\", \"security\", \"qld\", \"job\", \"storm\", \"hospital\", \"cut\", \"flood\", \"back\", \"say\", \"new\", \"join\", \"violence\", \"medium\", \"trump\", \"coach\", \"way\", \"clash\", \"league\", \"obama\", \"donald\", \"clear\", \"announce\", \"sell\", \"hand\", \"sri\", \"king\", \"star\", \"domestic\", \"president\", \"history\", \"socceroos\", \"beat\", \"story\", \"lanka\", \"contract\", \"hawk\", \"series\", \"real\", \"united\", \"social\", \"team\", \"tiger\", \"animal\", \"name\", \"force\", \"fiji\", \"ban\", \"return\", \"top\", \"win\", \"make\", \"award\", \"match\", \"battle\", \"indonesia\", \"final\", \"new\", \"sign\", \"want\", \"say\", \"back\", \"open\", \"aussie\", \"australian\", \"former\", \"lead\", \"call\", \"take\", \"labor\", \"green\", \"asylum\", \"search\", \"indigenous\", \"seeker\", \"wall\", \"probe\", \"grant\", \"sale\", \"camp\", \"telstra\", \"remote\", \"porn\", \"timor\", \"prisoner\", \"gang\", \"johnson\", \"bikie\", \"overhaul\", \"nick\", \"nbn\", \"slide\", \"kevin\", \"retail\", \"katherine\", \"nursing\", \"nadal\", \"advice\", \"legal\", \"power\", \"staff\", \"govt\", \"rural\", \"bishop\", \"debate\", \"terrorism\", \"run\", \"report\", \"fall\", \"aboriginal\", \"station\", \"regional\", \"call\", \"move\", \"light\", \"inquiry\", \"opposition\", \"continue\", \"education\", \"rudd\", \"community\", \"leader\", \"support\", \"nsw\", \"home\", \"urge\", \"plan\", \"police\", \"back\", \"council\", \"new\", \"land\", \"trade\", \"road\", \"cancer\", \"highlight\", \"climate\", \"sport\", \"flu\", \"dispute\", \"grain\", \"bird\", \"forum\", \"praise\", \"reef\", \"hundred\", \"recovery\", \"tribute\", \"chris\", \"analysis\", \"global\", \"vaccine\", \"barrier\", \"farewell\", \"industrial\", \"loan\", \"production\", \"memorial\", \"outbreak\", \"joyce\", \"csg\", \"war\", \"underway\", \"strike\", \"pay\", \"patient\", \"veteran\", \"air\", \"creek\", \"gold\", \"deal\", \"fly\", \"remain\", \"market\", \"doctor\", \"close\", \"share\", \"change\", \"safety\", \"day\", \"urge\", \"coast\", \"one\", \"farmer\", \"fuel\", \"public\", \"may\", \"fear\", \"local\", \"test\", \"concern\", \"service\", \"lead\", \"call\", \"australia\", \"iraq\", \"hour\", \"darwin\", \"bomb\", \"vote\", \"hunt\", \"troop\", \"drum\", \"come\", \"turnbull\", \"friday\", \"step\", \"denies\", \"closer\", \"country\", \"wednesday\", \"afghan\", \"tuesday\", \"monday\", \"alp\", \"thursday\", \"sue\", \"short\", \"grandstand\", \"capital\", \"gay\", \"august\", \"marriage\", \"october\", \"september\", \"election\", \"poll\", \"fin\", \"march\", \"approve\", \"campaign\", \"parliament\", \"party\", \"challenge\", \"park\", \"liberal\", \"federal\", \"project\", \"law\", \"act\", \"national\", \"hill\", \"loss\", \"government\", \"break\", \"take\", \"kill\", \"target\", \"say\", \"new\", \"club\", \"market\", \"council\", \"accuse\", \"care\", \"murray\", \"water\", \"royal\", \"age\", \"commission\", \"interest\", \"bull\", \"link\", \"spot\", \"economic\", \"supply\", \"quarter\", \"williams\", \"edge\", \"israeli\", \"darling\", \"blow\", \"limit\", \"consumer\", \"chopper\", \"finance\", \"private\", \"card\", \"van\", \"credit\", \"label\", \"mum\", \"lee\", \"rate\", \"hearing\", \"cover\", \"rise\", \"sea\", \"japanese\", \"school\", \"minister\", \"strong\", \"china\", \"question\", \"worry\", \"wind\", \"chinese\", \"warn\", \"student\", \"face\", \"save\", \"raise\", \"rescue\", \"toll\", \"say\", \"show\", \"high\", \"mayor\", \"resident\", \"fire\", \"interview\", \"year\", \"life\", \"sentence\", \"body\", \"india\", \"extend\", \"david\", \"carbon\", \"celebrate\", \"rio\", \"destroy\", \"doubt\", \"forest\", \"france\", \"territory\", \"heart\", \"custody\", \"paul\", \"surprise\", \"pope\", \"ben\", \"historic\", \"shop\", \"bhp\", \"northern\", \"cast\", \"paris\", \"crown\", \"old\", \"stage\", \"factory\", \"cup\", \"office\", \"claim\", \"australia\", \"world\", \"game\", \"chance\", \"michael\", \"tour\", \"look\", \"tax\", \"melbourne\", \"attack\", \"reject\", \"mine\", \"gas\", \"turn\", \"day\", \"new\", \"set\", \"win\", \"lose\", \"get\"], \"Freq\": [2606.0, 3210.0, 1724.0, 1465.0, 1324.0, 1446.0, 1457.0, 1112.0, 1082.0, 1133.0, 1247.0, 1409.0, 1234.0, 1189.0, 946.0, 862.0, 1193.0, 785.0, 1726.0, 811.0, 857.0, 1238.0, 1089.0, 868.0, 708.0, 775.0, 873.0, 1038.0, 910.0, 713.0, 2605.5016313798988, 1724.0264863042155, 945.9792058401895, 856.0909955338801, 712.6899634723329, 667.7739325366289, 530.1649704509997, 515.5361463220365, 499.9175960390989, 361.3006588859235, 330.06488036459206, 387.4014804955515, 294.9231349845374, 242.21032941242322, 425.00387697394393, 220.73484782499418, 213.90156225570567, 209.02088788877361, 220.55088550814784, 186.52248859184098, 234.97452310100314, 289.34542764309197, 149.47492666811775, 149.452842682105, 145.5582596449055, 133.85620229171542, 128.9743055608239, 124.09445751483045, 251.0964086860801, 177.38758101575507, 1430.6313039552479, 769.4586134304786, 1118.5469179308227, 346.34233327842685, 639.6446441402359, 564.8870395078935, 1097.8780382814762, 2847.2352145992427, 1111.1732106254294, 819.7254271829565, 506.3107973574681, 340.93379136675725, 658.0333451740851, 874.5498797949145, 827.5972490838209, 647.3741778399566, 454.54750698953984, 393.72251798298583, 505.00692581108876, 454.0602053231165, 414.6251738985201, 631.6610726815177, 399.71677177975613, 209.665210986543, 208.66174667296113, 183.2098006219275, 158.7841219087161, 435.2174790873181, 142.13463975526307, 194.66927590074425, 128.4228937032551, 131.3236345267045, 121.5674867355929, 132.21590090314683, 110.79263976524308, 108.83505054519168, 106.87654021253132, 103.93812179554754, 105.87700778090407, 175.79461956830576, 99.03789601580975, 95.12381202251811, 95.12349736964623, 93.16495548867215, 90.2220377426027, 87.28826644006243, 87.28815894414943, 84.3086559361538, 338.14108095656826, 77.49483360637393, 77.49446304947607, 247.99081053349437, 136.139359813963, 353.0424625461206, 632.1986013408517, 208.06251364558253, 144.3762393591292, 181.34921097463675, 395.1043970291352, 370.74087529577054, 320.7714658981675, 416.16571390784526, 697.7878427664708, 248.79521830956708, 194.82487620735705, 300.45055498296205, 813.0007585293527, 526.9403673663455, 438.4299297404535, 242.16736389149682, 491.93962871828126, 225.77228179530064, 961.6151582970195, 463.14018361215335, 368.13206026176715, 741.3993663806835, 438.8849250828235, 273.1957066143297, 467.368209070188, 385.33476829301765, 294.7095443041209, 400.11673180057124, 375.3728932155313, 352.21317345856744, 376.8243572876375, 375.2539834049632, 362.72321155494905, 321.30025387876464, 306.756967258848, 341.5099197490204, 366.62869247372254, 267.8255582270146, 229.12757026801552, 284.1759544630183, 249.34122142172154, 198.075959825527, 194.19447968048402, 271.4282703925211, 175.757368399976, 270.3521966059856, 224.9533883772886, 164.11323117263967, 186.26927764975002, 303.04089742075024, 152.4686932495445, 273.04831895274276, 138.88348855277698, 136.94286175927306, 339.45831147629013, 133.0612582313698, 124.32747973861507, 176.31536307690266, 114.62450649380551, 114.62443777299663, 114.6243145426014, 109.77206098308916, 104.92055631165952, 293.66230211469764, 311.9659682114346, 156.27864327933423, 381.0289654445464, 492.82539622125125, 171.87288420413122, 653.1231295252423, 532.8597699473171, 511.241219837957, 1133.096545642969, 691.3889096592816, 320.7779147404201, 225.93111134646819, 270.9526957931578, 202.26329859878217, 410.00628989746497, 978.1840695289538, 285.19392685920656, 332.5480099984504, 564.1745319572345, 428.61021042011083, 355.93825782266185, 284.9224408426741, 320.12379517893197, 283.71375383750154, 287.2304035116426, 301.4897750120136, 273.5239513234054, 667.8882509407798, 655.6524649371521, 281.3047064585596, 559.5652606782255, 582.1092945496791, 210.005675337656, 195.94649237918804, 531.5952640618486, 195.65530103814334, 403.17153849976575, 138.70643683110208, 133.6854814779542, 117.61799598762735, 108.57981134748492, 112.53578225039772, 135.28903721855994, 92.51247739355298, 86.48721692386674, 105.34901382805694, 84.47900822248558, 84.47542944144764, 81.46639193191466, 72.42844206916116, 76.36954900065616, 68.41153393309075, 67.40727205805085, 66.40323867979981, 64.39453834183955, 60.37794967744965, 242.36534280028002, 644.2351007436467, 217.67322475286147, 1332.7930959865807, 621.239316860254, 104.3444586311483, 257.87226852569046, 143.046335216944, 412.13929858374024, 833.4593909874422, 465.4551709020507, 216.82728448235085, 282.0724128083298, 260.03883303142743, 1020.4808026569623, 383.70322892056095, 245.1448946636585, 336.4966376024125, 332.0163771567194, 405.9749837732837, 188.87764953917883, 222.83713495914608, 313.63848896349833, 296.08907303182013, 308.1984316095987, 412.9274881368791, 356.2660338519552, 362.10950683937796, 414.47775817535745, 344.03183443851697, 297.1122511965562, 279.3656309822591, 275.0629000648728, 420.9924105317671, 337.2175035439283, 705.9791208342909, 282.365263240978, 278.37070662585677, 269.400228638726, 226.51554467477166, 200.58544537273463, 184.62813698067384, 165.67918778111328, 164.6818353692806, 142.7402598641529, 139.7466508989254, 134.76226321373966, 130.72371558961567, 114.81593677255032, 109.82565272183957, 106.83569910709389, 101.85092267035392, 164.10698809567765, 95.86699912203476, 94.86955325459591, 94.86950118263435, 121.54589081782359, 89.88282599412011, 110.57959013992317, 111.54573961029243, 83.89916959363732, 83.88427751848769, 81.90284253633129, 425.5026638980037, 109.5094736351761, 480.0007116672914, 530.1770931028785, 193.39074320420374, 129.85535256040552, 361.8163440563447, 134.64209874614738, 485.8588692166051, 505.26293313646227, 211.099021785861, 252.46425766224414, 610.5894485714664, 307.53119537226286, 411.71518272374436, 370.800550230039, 627.382207816848, 320.5654590285668, 610.9809205714542, 646.621199822171, 504.4030471243073, 456.27630525790244, 461.51410457270856, 217.55123957587352, 315.4422716032666, 368.8487763025588, 356.1712560753018, 263.9480119591042, 329.30027595799265, 311.09346431023596, 310.2723650975434, 301.04866127290643, 339.17917664506155, 289.55144752554105, 486.57347138614466, 408.13000134874176, 368.43370035520576, 348.5798730986346, 378.1288563755665, 281.0730910231026, 225.4791055645366, 211.5807327178492, 222.42801449364362, 204.61100973392988, 186.7615893316533, 189.71287345616736, 181.79745821479324, 171.87045242416485, 524.4725179091191, 157.97194344359679, 176.65749445107156, 139.1096042602005, 139.1095944757894, 164.76016713253196, 127.19655425898961, 127.19570416261463, 120.24698076654717, 184.29271412239655, 118.26162551571139, 117.2687938203018, 116.27620166579466, 115.28338245861976, 115.283217333619, 114.29070070299015, 795.6471999825927, 201.91022858081809, 210.36649982783095, 175.76969662403374, 124.11807951178274, 370.75132736346757, 252.9532842265214, 331.03052241106, 268.1527728761732, 378.99082620751915, 261.151492446204, 332.82245495847104, 281.502137018578, 420.46660094943877, 401.1145691485397, 468.2502141662923, 252.4747600445123, 221.14525045386074, 409.87262630614003, 291.1056972985067, 418.5922765884165, 391.0808007483426, 249.8461789473954, 351.5857222696642, 355.1351129198387, 234.2232614987558, 253.1701056025575, 250.5287508933225, 784.3725913358071, 295.244416733656, 294.22681941867967, 1108.7726675349593, 272.85618585655925, 253.52092066198787, 230.11503648873438, 226.04449824387788, 180.2501687575258, 339.1950433828713, 175.1576614459002, 138.52680567705133, 138.52653065649588, 131.40337596045111, 126.31495533632558, 115.12082909126397, 115.12082484655492, 109.01523334777765, 107.99536920398293, 107.96586006557469, 101.89165836985201, 104.91346683851654, 99.85636163763691, 96.80292081143422, 123.97915712267537, 93.69351332549452, 84.59164294373049, 83.57377988655189, 83.57374569901559, 82.55496111738925, 561.7516124416096, 119.64779827700443, 86.57435183032807, 822.606981533866, 237.4681057476791, 123.78413183185796, 693.5301246664609, 557.1453188946506, 210.7974733547584, 546.1619179838328, 345.46097272591754, 198.81998802913648, 225.34117211513262, 248.93701280838198, 446.7180052734295, 345.3480856820538, 687.343674117713, 239.20918155755672, 223.36270316693947, 270.3897288663349, 206.29942577348888, 613.6526401866189, 311.1649224417316, 313.03487230808946, 244.77214088408078, 258.4567008946909, 1464.149021814659, 1323.5038840293657, 1081.1960871769666, 427.1834928139918, 404.07218301028115, 385.9386710327777, 303.5878792647458, 265.399008153548, 207.12296388312402, 171.95345437944965, 165.9244691995338, 139.7985193648399, 137.78883001754815, 170.71549783213572, 133.7636147529321, 144.60010434084143, 115.68198054430079, 118.61983268974555, 106.63841406461873, 105.63376920958588, 103.62398057816279, 90.56109708754414, 88.55153580676766, 97.44316849832214, 145.08960318313314, 77.49757675287181, 231.3322872754615, 73.47886701907196, 81.42209403508122, 98.24764595490181, 289.50278783214685, 151.94419491218957, 104.62514684932202, 609.5993284530583, 127.78741353459563, 722.1342582862004, 957.2954960427628, 681.4783349946609, 324.31127143031097, 129.21405701283138, 188.2912071166934, 289.2253242726034, 349.88110750834534, 328.1283963607888, 413.72308053517855, 565.8287017730403, 306.3979393572123, 388.35085284977106, 228.48922989890673, 219.6863546224157, 279.72381150416595, 382.3472976584974, 254.7059052687348, 254.1600900659046, 209.67699963283127, 222.52349411205478], \"Total\": [2606.0, 3210.0, 1724.0, 1465.0, 1324.0, 1446.0, 1457.0, 1112.0, 1082.0, 1133.0, 1247.0, 1409.0, 1234.0, 1189.0, 946.0, 862.0, 1193.0, 785.0, 1726.0, 811.0, 857.0, 1238.0, 1089.0, 868.0, 708.0, 775.0, 873.0, 1038.0, 910.0, 713.0, 2606.3730577411006, 1724.8974650203309, 946.896592419113, 857.0914617564221, 713.592820765899, 668.6886141290777, 531.0496348342253, 516.4071345364174, 500.7885181122856, 362.1733602764467, 330.93608308375667, 388.5375037863494, 295.7942001935888, 243.08137391906496, 426.6266191041584, 221.60577631347195, 214.7726353892045, 209.8918152338486, 221.61358693168256, 187.44203467627167, 236.24596995044388, 290.928496315396, 150.3458458249483, 150.34665139736393, 146.4415352241173, 134.7272323490335, 129.84644721231894, 124.96560110611533, 252.86198568475513, 178.6659657289153, 1446.318660838336, 775.2223752086016, 1133.6441850121055, 350.5521751196982, 654.4737667993369, 587.1593489578207, 1189.3863342890095, 3210.9074433790147, 1234.417160705129, 910.4029312575972, 588.0847278251804, 376.72398888707966, 856.6895176597125, 1267.7437638242575, 1238.8974262667075, 949.8156832875418, 623.8198825742585, 569.4751691682864, 1193.5830678561515, 1038.615648459243, 1034.8998824102828, 632.7101462262743, 400.5874340501524, 210.58534426255108, 209.6071245814245, 184.14270081837049, 159.65540107314675, 437.7931202020367, 143.0056312809411, 195.89868513023671, 129.294052204165, 132.23339112444827, 122.4382588540457, 133.21334384725316, 111.66490054505653, 109.70608036939353, 107.74728152651244, 104.80908889601648, 106.7683936540343, 177.28294499397435, 99.91213838099804, 95.99449777592213, 95.99450197179654, 94.0357019559986, 91.0975714647644, 88.15931587127902, 88.15931134442849, 85.22098020488707, 341.89657066491276, 78.36532160976877, 78.36532413554274, 250.78825025537196, 138.12383318074535, 364.70203656696594, 672.8575607510345, 214.57739228635356, 147.95774108322388, 188.14171683126105, 426.0947358010788, 402.7570910747168, 347.1803345093444, 480.3602647940558, 877.258398197158, 278.1905249837361, 214.21849366216924, 355.6032067101928, 1144.6474473179935, 720.3855128495301, 594.6597331306643, 284.3074242828418, 715.5848818510892, 264.1311526951759, 1882.1894450546683, 706.2574458697861, 522.5092776375504, 1549.6190424501458, 714.2940391013497, 354.6605671407676, 989.5939017401831, 729.6501411244558, 443.5275023853585, 858.4238359668068, 751.015110801766, 686.776833167683, 1379.7699558384072, 2330.2577952230313, 2616.837121829304, 322.1848477036444, 307.62899408669693, 342.56638447835303, 367.7944889144697, 268.8167159596932, 229.99958979123556, 285.321505229105, 250.37883184249333, 198.94782520872198, 195.06635396243985, 272.7067454507133, 176.62937494760948, 271.73010060577514, 226.12492879768695, 164.98495766918654, 187.30438385519034, 304.75311057358147, 153.3405497255803, 274.6608935591856, 139.75540639781627, 137.81466960780443, 341.63665724590527, 133.9332018103825, 125.19991278106406, 177.60364670590047, 115.49621260163998, 115.49621495944231, 115.49621849042784, 110.64438220644983, 105.79254516852096, 297.0107963949233, 316.53388659935854, 158.2212293420434, 395.4099275466926, 519.3925256431166, 175.7605849274745, 727.5886952652825, 593.9769270270793, 578.4067518849231, 1409.4629504434379, 825.4696973285774, 363.9639261490567, 242.13695988756137, 312.86502437727205, 214.7886163694743, 645.9509647095589, 2616.837121829304, 380.05933126738205, 578.6953332541211, 2330.2577952230313, 1379.7699558384072, 834.6555343546049, 522.493058144142, 1184.822359788873, 518.8363709524392, 644.071910016232, 1726.6834131660305, 1099.0131773123492, 668.7925593118051, 656.7462775278997, 282.1722043745773, 561.3177231005913, 584.429964674644, 210.8731504276297, 196.81418105894798, 534.2281637102416, 196.8060498375383, 405.6494872457474, 139.57409357595714, 134.55303543979787, 118.48564085575823, 109.4477238490214, 113.46461913450209, 136.5568413177388, 93.38033421959952, 87.35506548511292, 106.42899764166967, 85.34664397177991, 85.34660271601555, 82.33400987228231, 73.29610021265613, 77.31299484605515, 69.27925373442223, 68.27503675716014, 67.27082858446063, 65.26239912961694, 61.245556835500096, 245.9887649005937, 657.7556392073201, 222.77866861112668, 1457.9726294636264, 672.4626002901133, 107.4233802073796, 280.9120953313797, 150.3955947478911, 476.25931846145585, 1089.6361025727492, 568.7268034450396, 243.82833984610147, 348.36604174711505, 320.9042219645945, 1726.6834131660305, 524.2101699521808, 299.7093399518854, 459.99372458188856, 467.8591853283436, 651.8645000925115, 221.51952905835546, 284.4472349845382, 482.1110516084858, 469.9294436796668, 564.2536591414564, 1146.586826962937, 810.8819602048814, 1059.2668606695038, 1882.1894450546683, 3210.9074433790147, 1379.7699558384072, 1549.6190424501458, 2616.837121829304, 421.8610438418374, 338.0863355959397, 708.0649370393478, 283.2338357714384, 279.2446732303696, 270.2687048635566, 227.38402865286554, 201.45376113494888, 185.49667137637655, 166.54762807242764, 165.55031062932514, 143.6093172633778, 140.61737477854217, 135.63077025118426, 131.64042307679057, 115.68440992560011, 110.6978970971628, 107.70586073019017, 102.71927547489953, 165.56200649653542, 96.73536771351587, 95.73804962539214, 95.738048621522, 122.66448568966726, 90.75146184272698, 111.68863182020078, 112.69429399754422, 84.76755194018371, 84.76748469293449, 82.77290881899687, 430.8663655347065, 110.70002819263279, 498.72549175539996, 558.031755040107, 200.29367109394468, 132.59150322352187, 392.3343405141313, 138.5567116400189, 582.1236481261932, 611.223396793006, 231.43168835403068, 288.4547599286597, 864.5043234254861, 380.6045697814149, 559.8023297276011, 493.832070374842, 979.1658792077882, 417.7210181449145, 980.1858378516631, 1059.2668606695038, 772.0399126304816, 701.2437097243911, 730.8368197086673, 257.7143649011247, 505.9302872265807, 754.2276798166658, 726.0160233187348, 394.86593836867064, 717.0679470606879, 675.8736559575611, 687.8989264205724, 644.071910016232, 1726.6834131660305, 1247.8242736498546, 487.44247180145237, 409.0146123409137, 369.3047247091629, 349.44961537793165, 379.234952455768, 281.942318338508, 226.34807729590648, 212.44951553845698, 223.36824452072457, 205.5003267022043, 187.63065404043533, 190.60831185760335, 182.66688857881522, 172.73934062693462, 527.128280638011, 158.84078166506075, 177.70514478627192, 139.978448610935, 139.97844834367697, 165.7919181060746, 128.06539630953682, 128.06539742259685, 121.11611605520808, 185.63706712789937, 119.13060560623754, 118.1378503774904, 117.14509781080636, 116.15234291639058, 116.15233941546838, 115.15958913446335, 811.2392578043601, 203.5192693346405, 212.43105962764716, 177.7067421176795, 125.08759322865332, 388.50263849630437, 264.19104586780725, 377.2822080187114, 305.2326501833076, 465.80576878436557, 301.22190000128455, 405.0633399227414, 331.8027014734755, 587.5515770565187, 557.7134996089727, 722.6395497555658, 312.70161485586095, 253.71305987993293, 820.1010433890542, 456.07122616491574, 1099.0131773123492, 1238.8974262667075, 399.35708673637646, 2330.2577952230313, 2616.837121829304, 350.7536714443252, 864.5043234254861, 1549.6190424501458, 785.58372866113, 296.110359127571, 295.09271326061906, 1112.1643387352367, 273.72213138172236, 254.38684598404353, 230.98097335689295, 226.91038773845722, 181.11627845732897, 340.863771153898, 176.02799038693084, 139.39277416578472, 139.39276290808544, 132.26925029560354, 127.18100912625943, 115.98689713556442, 115.98689695978761, 109.88102509698152, 108.8633437536601, 108.86190930868747, 102.75749758213334, 105.80981415860332, 100.72220502628385, 97.66924355695818, 125.14070677899778, 94.61368138731609, 85.45750391292754, 84.43985157320904, 84.43984872452462, 83.42218739416127, 573.7785813696346, 121.06122295703231, 87.49162084619842, 862.7243608101629, 245.87810444730897, 126.09528044720167, 868.7352836060852, 710.5403742795646, 235.55107214290157, 711.3227695823477, 427.31357898664623, 225.36922911880848, 264.7944220966488, 300.55188842952435, 644.9346736459129, 472.4905418221961, 1193.5830678561515, 313.3008380293461, 286.4099212001808, 380.9995499281161, 269.4006324122082, 2330.2577952230313, 651.4203967826775, 772.6084642927949, 431.12544075436205, 516.7041270828834, 1465.0483305177277, 1324.3712007415675, 1082.203052487977, 428.0511494150737, 404.93975788337804, 386.85126226447863, 304.45544847607187, 266.27130398153673, 207.99051165096037, 172.8210054058651, 166.79194588872065, 140.66602413023745, 138.6563388498208, 171.8165877358953, 134.6368206244883, 145.6826019406514, 116.54978523399075, 119.5623702544395, 107.50619497504985, 106.50135763381209, 104.49167059570135, 91.42871167225245, 89.41902571975209, 98.46250631885799, 146.70448038398968, 78.36573539397762, 234.06173365797721, 74.34638095572939, 82.38511774529387, 99.45740220725028, 296.24390166015763, 154.69918495037578, 106.47119431536802, 665.2571999289578, 131.5206286942544, 873.0312832984671, 1247.8242736498546, 859.7993392621572, 401.3705561375586, 135.70991697557992, 213.70572606549882, 363.4545571111865, 460.64103314918754, 449.09871856594054, 615.4468773888923, 1038.615648459243, 473.67095207027444, 683.1070212851972, 302.440330597655, 321.26032094437676, 980.1858378516631, 2616.837121829304, 787.3303076620297, 1409.4629504434379, 505.6331018388597, 1144.6474473179935], \"Category\": [\"Default\", \"Default\", \"Default\", \"Default\", \"Default\", \"Default\", \"Default\", \"Default\", \"Default\", \"Default\", \"Default\", \"Default\", \"Default\", \"Default\", \"Default\", \"Default\", \"Default\", \"Default\", \"Default\", \"Default\", \"Default\", \"Default\", \"Default\", \"Default\", \"Default\", \"Default\", \"Default\", \"Default\", \"Default\", \"Default\", \"Topic1\", \"Topic1\", \"Topic1\", \"Topic1\", \"Topic1\", \"Topic1\", \"Topic1\", \"Topic1\", \"Topic1\", \"Topic1\", \"Topic1\", \"Topic1\", \"Topic1\", \"Topic1\", \"Topic1\", \"Topic1\", \"Topic1\", \"Topic1\", \"Topic1\", \"Topic1\", \"Topic1\", \"Topic1\", \"Topic1\", \"Topic1\", \"Topic1\", \"Topic1\", \"Topic1\", \"Topic1\", \"Topic1\", \"Topic1\", \"Topic1\", \"Topic1\", \"Topic1\", \"Topic1\", \"Topic1\", \"Topic1\", \"Topic1\", \"Topic1\", \"Topic1\", \"Topic1\", \"Topic1\", \"Topic1\", \"Topic1\", \"Topic1\", \"Topic1\", \"Topic1\", \"Topic1\", \"Topic1\", \"Topic1\", \"Topic1\", \"Topic1\", \"Topic2\", \"Topic2\", \"Topic2\", \"Topic2\", \"Topic2\", \"Topic2\", \"Topic2\", \"Topic2\", \"Topic2\", \"Topic2\", \"Topic2\", \"Topic2\", \"Topic2\", \"Topic2\", \"Topic2\", \"Topic2\", \"Topic2\", \"Topic2\", \"Topic2\", \"Topic2\", \"Topic2\", \"Topic2\", \"Topic2\", \"Topic2\", \"Topic2\", \"Topic2\", \"Topic2\", \"Topic2\", \"Topic2\", \"Topic2\", \"Topic2\", \"Topic2\", \"Topic2\", \"Topic2\", \"Topic2\", \"Topic2\", \"Topic2\", \"Topic2\", \"Topic2\", \"Topic2\", \"Topic2\", \"Topic2\", \"Topic2\", \"Topic2\", \"Topic2\", \"Topic2\", \"Topic2\", \"Topic2\", \"Topic2\", \"Topic2\", \"Topic2\", \"Topic2\", \"Topic2\", \"Topic2\", \"Topic2\", \"Topic2\", \"Topic2\", \"Topic2\", \"Topic2\", \"Topic2\", \"Topic2\", \"Topic2\", \"Topic2\", \"Topic2\", \"Topic2\", \"Topic2\", \"Topic3\", \"Topic3\", \"Topic3\", \"Topic3\", \"Topic3\", \"Topic3\", \"Topic3\", \"Topic3\", \"Topic3\", \"Topic3\", \"Topic3\", \"Topic3\", \"Topic3\", \"Topic3\", \"Topic3\", \"Topic3\", \"Topic3\", \"Topic3\", \"Topic3\", \"Topic3\", \"Topic3\", \"Topic3\", \"Topic3\", \"Topic3\", \"Topic3\", \"Topic3\", \"Topic3\", \"Topic3\", \"Topic3\", \"Topic3\", \"Topic3\", \"Topic3\", \"Topic3\", \"Topic3\", \"Topic3\", \"Topic3\", \"Topic3\", \"Topic3\", \"Topic3\", \"Topic3\", \"Topic3\", \"Topic3\", \"Topic3\", \"Topic3\", \"Topic3\", \"Topic3\", \"Topic3\", \"Topic3\", \"Topic3\", \"Topic3\", \"Topic3\", \"Topic3\", \"Topic3\", \"Topic3\", \"Topic3\", \"Topic3\", \"Topic3\", \"Topic3\", \"Topic4\", \"Topic4\", \"Topic4\", \"Topic4\", \"Topic4\", \"Topic4\", \"Topic4\", \"Topic4\", \"Topic4\", \"Topic4\", \"Topic4\", \"Topic4\", \"Topic4\", \"Topic4\", \"Topic4\", \"Topic4\", \"Topic4\", \"Topic4\", \"Topic4\", \"Topic4\", \"Topic4\", \"Topic4\", \"Topic4\", \"Topic4\", \"Topic4\", \"Topic4\", \"Topic4\", \"Topic4\", \"Topic4\", \"Topic4\", \"Topic4\", \"Topic4\", \"Topic4\", \"Topic4\", \"Topic4\", \"Topic4\", \"Topic4\", \"Topic4\", \"Topic4\", \"Topic4\", \"Topic4\", \"Topic4\", \"Topic4\", \"Topic4\", \"Topic4\", \"Topic4\", \"Topic4\", \"Topic4\", \"Topic4\", \"Topic4\", \"Topic4\", \"Topic4\", \"Topic4\", \"Topic4\", \"Topic4\", \"Topic4\", \"Topic4\", \"Topic4\", \"Topic4\", \"Topic4\", \"Topic4\", \"Topic4\", \"Topic5\", \"Topic5\", \"Topic5\", \"Topic5\", \"Topic5\", \"Topic5\", \"Topic5\", \"Topic5\", \"Topic5\", \"Topic5\", \"Topic5\", \"Topic5\", \"Topic5\", \"Topic5\", \"Topic5\", \"Topic5\", \"Topic5\", \"Topic5\", \"Topic5\", \"Topic5\", \"Topic5\", \"Topic5\", \"Topic5\", \"Topic5\", \"Topic5\", \"Topic5\", \"Topic5\", \"Topic5\", \"Topic5\", \"Topic5\", \"Topic5\", \"Topic5\", \"Topic5\", \"Topic5\", \"Topic5\", \"Topic5\", \"Topic5\", \"Topic5\", \"Topic5\", \"Topic5\", \"Topic5\", \"Topic5\", \"Topic5\", \"Topic5\", \"Topic5\", \"Topic5\", \"Topic5\", \"Topic5\", \"Topic5\", \"Topic5\", \"Topic5\", \"Topic5\", \"Topic5\", \"Topic5\", \"Topic5\", \"Topic5\", \"Topic5\", \"Topic5\", \"Topic5\", \"Topic5\", \"Topic5\", \"Topic5\", \"Topic5\", \"Topic5\", \"Topic6\", \"Topic6\", \"Topic6\", \"Topic6\", \"Topic6\", \"Topic6\", \"Topic6\", \"Topic6\", \"Topic6\", \"Topic6\", \"Topic6\", \"Topic6\", \"Topic6\", \"Topic6\", \"Topic6\", \"Topic6\", \"Topic6\", \"Topic6\", \"Topic6\", \"Topic6\", \"Topic6\", \"Topic6\", \"Topic6\", \"Topic6\", \"Topic6\", \"Topic6\", \"Topic6\", \"Topic6\", \"Topic6\", \"Topic6\", \"Topic6\", \"Topic6\", \"Topic6\", \"Topic6\", \"Topic6\", \"Topic6\", \"Topic6\", \"Topic6\", \"Topic6\", \"Topic6\", \"Topic6\", \"Topic6\", \"Topic6\", \"Topic6\", \"Topic6\", \"Topic6\", \"Topic6\", \"Topic6\", \"Topic6\", \"Topic6\", \"Topic6\", \"Topic6\", \"Topic6\", \"Topic6\", \"Topic6\", \"Topic6\", \"Topic6\", \"Topic6\", \"Topic7\", \"Topic7\", \"Topic7\", \"Topic7\", \"Topic7\", \"Topic7\", \"Topic7\", \"Topic7\", \"Topic7\", \"Topic7\", \"Topic7\", \"Topic7\", \"Topic7\", \"Topic7\", \"Topic7\", \"Topic7\", \"Topic7\", \"Topic7\", \"Topic7\", \"Topic7\", \"Topic7\", \"Topic7\", \"Topic7\", \"Topic7\", \"Topic7\", \"Topic7\", \"Topic7\", \"Topic7\", \"Topic7\", \"Topic7\", \"Topic7\", \"Topic7\", \"Topic7\", \"Topic7\", \"Topic7\", \"Topic7\", \"Topic7\", \"Topic7\", \"Topic7\", \"Topic7\", \"Topic7\", \"Topic7\", \"Topic7\", \"Topic7\", \"Topic7\", \"Topic7\", \"Topic7\", \"Topic7\", \"Topic7\", \"Topic7\", \"Topic7\", \"Topic7\", \"Topic7\", \"Topic7\", \"Topic7\", \"Topic7\", \"Topic8\", \"Topic8\", \"Topic8\", \"Topic8\", \"Topic8\", \"Topic8\", \"Topic8\", \"Topic8\", \"Topic8\", \"Topic8\", \"Topic8\", \"Topic8\", \"Topic8\", \"Topic8\", \"Topic8\", \"Topic8\", \"Topic8\", \"Topic8\", \"Topic8\", \"Topic8\", \"Topic8\", \"Topic8\", \"Topic8\", \"Topic8\", \"Topic8\", \"Topic8\", \"Topic8\", \"Topic8\", \"Topic8\", \"Topic8\", \"Topic8\", \"Topic8\", \"Topic8\", \"Topic8\", \"Topic8\", \"Topic8\", \"Topic8\", \"Topic8\", \"Topic8\", \"Topic8\", \"Topic8\", \"Topic8\", \"Topic8\", \"Topic8\", \"Topic8\", \"Topic8\", \"Topic8\", \"Topic8\", \"Topic8\", \"Topic8\", \"Topic8\", \"Topic8\", \"Topic8\", \"Topic8\", \"Topic8\", \"Topic8\"], \"logprob\": [30.0, 29.0, 28.0, 27.0, 26.0, 25.0, 24.0, 23.0, 22.0, 21.0, 20.0, 19.0, 18.0, 17.0, 16.0, 15.0, 14.0, 13.0, 12.0, 11.0, 10.0, 9.0, 8.0, 7.0, 6.0, 5.0, 4.0, 3.0, 2.0, 1.0, -3.1717, -3.5847, -4.1849, -4.2847, -4.4681, -4.5332, -4.7639, -4.7919, -4.8227, -5.1474, -5.2378, -5.0777, -5.3504, -5.5473, -4.985, -5.6402, -5.6716, -5.6947, -5.641, -5.8086, -5.5776, -5.3695, -6.03, -6.0301, -6.0565, -6.1404, -6.1775, -6.2161, -5.5113, -5.8588, -3.7712, -4.3914, -4.0173, -5.1897, -4.5762, -4.7005, -4.036, -3.083, -4.0239, -4.3281, -4.81, -5.2054, -4.5479, -4.2634, -4.3186, -4.5642, -4.9178, -5.0615, -4.8125, -4.9189, -5.0097, -4.5565, -5.0141, -5.6593, -5.6641, -5.7942, -5.9373, -4.929, -6.0481, -5.7335, -6.1495, -6.1272, -6.2044, -6.1204, -6.2972, -6.315, -6.3332, -6.361, -6.3426, -5.8355, -6.4093, -6.4497, -6.4497, -6.4705, -6.5026, -6.5356, -6.5356, -6.5703, -5.1814, -6.6546, -6.6546, -5.4914, -6.0912, -5.1382, -4.5556, -5.667, -6.0324, -5.8044, -5.0257, -5.0893, -5.2341, -4.9737, -4.4569, -5.4882, -5.7327, -5.2995, -4.3041, -4.7377, -4.9216, -5.5152, -4.8065, -5.5853, -4.1362, -4.8668, -5.0964, -4.3963, -4.9206, -5.3946, -4.8577, -5.0507, -5.3188, -5.0131, -5.0769, -5.1406, -5.0731, -5.0772, -5.1112, -5.174, -5.2204, -5.113, -5.0421, -5.3561, -5.5121, -5.2968, -5.4276, -5.6578, -5.6776, -5.3427, -5.7773, -5.3467, -5.5305, -5.8459, -5.7192, -5.2325, -5.9195, -5.3368, -6.0128, -6.0268, -5.1191, -6.0556, -6.1235, -5.7741, -6.2047, -6.2048, -6.2048, -6.248, -6.2932, -5.264, -5.2035, -5.8948, -5.0035, -4.7463, -5.7997, -4.4646, -4.6682, -4.7096, -3.9137, -4.4077, -5.1757, -5.5262, -5.3445, -5.6368, -4.9302, -4.0607, -5.2932, -5.1396, -4.611, -4.8859, -5.0717, -5.2942, -5.1777, -5.2984, -5.2861, -5.2377, -5.335, -4.422, -4.4405, -5.2867, -4.5989, -4.5594, -5.579, -5.6483, -4.6502, -5.6497, -4.9267, -5.9937, -6.0306, -6.1587, -6.2386, -6.2028, -6.0187, -6.3988, -6.4661, -6.2688, -6.4896, -6.4896, -6.5259, -6.6435, -6.5905, -6.7006, -6.7153, -6.7303, -6.7611, -6.8255, -5.4356, -4.458, -5.5431, -3.7311, -4.4944, -6.2784, -5.3736, -5.9629, -4.9047, -4.2005, -4.7831, -5.547, -5.2839, -5.3653, -3.9981, -4.9762, -5.4242, -5.1075, -5.1209, -4.9198, -5.685, -5.5197, -5.1779, -5.2354, -5.1953, -4.9028, -5.0504, -5.0341, -4.8991, -5.0854, -5.232, -5.2936, -5.3091, -4.8453, -5.0672, -4.3283, -5.2447, -5.2589, -5.2917, -5.4651, -5.5866, -5.6695, -5.7778, -5.7839, -5.9269, -5.9481, -5.9844, -6.0148, -6.1446, -6.189, -6.2166, -6.2644, -5.7874, -6.3249, -6.3354, -6.3354, -6.0876, -6.3894, -6.1822, -6.1735, -6.4583, -6.4585, -6.4824, -4.8346, -6.1919, -4.7141, -4.6147, -5.6232, -6.0215, -4.9968, -5.9853, -4.702, -4.6628, -5.5356, -5.3566, -4.4735, -5.1593, -4.8676, -4.9722, -4.4463, -5.1178, -4.4728, -4.4161, -4.6645, -4.7648, -4.7534, -5.5055, -5.1339, -4.9775, -5.0125, -5.3121, -5.0909, -5.1478, -5.1504, -5.1806, -5.0614, -5.2196, -4.612, -4.7878, -4.8901, -4.9455, -4.8642, -5.1608, -5.3812, -5.4448, -5.3948, -5.4783, -5.5696, -5.5539, -5.5965, -5.6527, -4.537, -5.737, -5.6252, -5.8641, -5.8641, -5.6949, -5.9537, -5.9537, -6.0099, -5.5829, -6.0265, -6.0349, -6.0434, -6.052, -6.052, -6.0607, -4.1202, -5.4916, -5.4505, -5.6302, -5.9782, -4.8839, -5.2662, -4.9972, -5.2078, -4.8619, -5.2343, -4.9918, -5.1593, -4.758, -4.8052, -4.6504, -5.2681, -5.4006, -4.7836, -5.1257, -4.7625, -4.8305, -5.2786, -4.9369, -4.9269, -5.3431, -5.2653, -5.2758, -4.1125, -5.0895, -5.093, -3.7663, -5.1684, -5.2419, -5.3388, -5.3566, -5.583, -4.9508, -5.6117, -5.8463, -5.8463, -5.8991, -5.9386, -6.0314, -6.0314, -6.0859, -6.0953, -6.0955, -6.1534, -6.1242, -6.1736, -6.2047, -5.9572, -6.2373, -6.3395, -6.3516, -6.3516, -6.3639, -4.4463, -5.9928, -6.3163, -4.0649, -5.3073, -5.9588, -4.2356, -4.4545, -5.4265, -4.4744, -4.9325, -5.485, -5.3597, -5.2602, -4.6754, -4.9328, -4.2445, -5.3, -5.3686, -5.1775, -5.448, -4.3579, -5.037, -5.031, -5.277, -5.2226, -3.4714, -3.5724, -3.7747, -4.7033, -4.7589, -4.8048, -5.0448, -5.1792, -5.4272, -5.6133, -5.6489, -5.8203, -5.8348, -5.6205, -5.8644, -5.7865, -6.0096, -5.9846, -6.091, -6.1005, -6.1197, -6.2545, -6.2769, -6.1812, -5.7831, -6.4102, -5.3166, -6.4635, -6.3608, -6.173, -5.0923, -5.737, -6.1101, -4.3477, -5.9101, -4.1783, -3.8964, -4.2362, -4.9788, -5.899, -5.5225, -5.0933, -4.9029, -4.9671, -4.7353, -4.4222, -5.0356, -4.7986, -5.329, -5.3683, -5.1267, -4.8141, -5.2204, -5.2225, -5.4149, -5.3554], \"loglift\": [30.0, 29.0, 28.0, 27.0, 26.0, 25.0, 24.0, 23.0, 22.0, 21.0, 20.0, 19.0, 18.0, 17.0, 16.0, 15.0, 14.0, 13.0, 12.0, 11.0, 10.0, 9.0, 8.0, 7.0, 6.0, 5.0, 4.0, 3.0, 2.0, 1.0, 1.9392, 1.9391, 1.9386, 1.9384, 1.9383, 1.9382, 1.9379, 1.9379, 1.9378, 1.9372, 1.9369, 1.9366, 1.9366, 1.936, 1.9358, 1.9356, 1.9355, 1.9354, 1.9348, 1.9347, 1.9342, 1.9341, 1.9338, 1.9336, 1.9335, 1.9331, 1.9328, 1.9326, 1.9326, 1.9324, 1.9287, 1.9321, 1.9262, 1.9275, 1.9167, 1.9009, 1.8595, 1.8194, 1.8344, 1.8347, 1.7899, 1.8397, 1.6758, 1.5683, 1.5361, 1.5562, 1.623, 1.5705, 1.0794, 1.1122, 1.0249, 1.9702, 1.9697, 1.9675, 1.9673, 1.9668, 1.9664, 1.966, 1.9658, 1.9656, 1.9651, 1.965, 1.9647, 1.9643, 1.964, 1.9639, 1.9637, 1.9635, 1.9635, 1.9634, 1.9631, 1.9627, 1.9627, 1.9626, 1.9622, 1.9619, 1.9619, 1.9611, 1.9608, 1.9607, 1.9607, 1.9606, 1.9574, 1.9394, 1.9095, 1.941, 1.9474, 1.9351, 1.8963, 1.889, 1.8927, 1.8284, 1.743, 1.8602, 1.877, 1.8033, 1.6297, 1.6592, 1.6671, 1.8114, 1.5971, 1.8149, 1.3003, 1.5499, 1.6217, 1.2346, 1.4848, 1.7109, 1.2217, 1.3334, 1.5631, 1.2085, 1.2784, 1.3041, 0.674, 0.1457, -0.0042, 2.0275, 2.0274, 2.0272, 2.0271, 2.0266, 2.0265, 2.0263, 2.0261, 2.0259, 2.0258, 2.0256, 2.0253, 2.0252, 2.0251, 2.025, 2.0247, 2.0246, 2.0246, 2.0244, 2.024, 2.0239, 2.0239, 2.0237, 2.0233, 2.023, 2.0227, 2.0227, 2.0227, 2.0224, 2.022, 2.0189, 2.0157, 2.0179, 1.9932, 1.9778, 2.0079, 1.9223, 1.9217, 1.9068, 1.812, 1.853, 1.904, 1.961, 1.8865, 1.9702, 1.5757, 1.0463, 1.7431, 1.4763, 0.6119, 0.8612, 1.178, 1.4239, 0.7216, 1.4267, 1.2228, 0.2851, 0.6395, 2.0492, 2.0489, 2.0475, 2.0475, 2.0466, 2.0465, 2.0462, 2.0457, 2.0447, 2.0445, 2.0444, 2.0441, 2.0432, 2.0426, 2.0424, 2.0413, 2.0413, 2.0406, 2.0404, 2.0404, 2.0403, 2.04, 2.0387, 2.0383, 2.038, 2.0378, 2.0376, 2.0372, 2.0363, 2.0358, 2.0298, 2.0274, 1.9608, 1.9714, 2.0215, 1.965, 2.0005, 1.906, 1.7826, 1.8502, 1.9332, 1.8395, 1.8403, 1.5247, 1.7386, 1.8496, 1.738, 1.7076, 1.5771, 1.8912, 1.8065, 1.6207, 1.5887, 1.4458, 1.0293, 1.2282, 0.9772, 0.5374, -0.183, 0.515, 0.3374, -0.2021, 2.0867, 2.0862, 2.0859, 2.0857, 2.0857, 2.0856, 2.085, 2.0845, 2.0841, 2.0836, 2.0835, 2.0827, 2.0826, 2.0824, 2.0818, 2.0813, 2.0809, 2.0807, 2.0803, 2.08, 2.0798, 2.0797, 2.0797, 2.0796, 2.0792, 2.0788, 2.0786, 2.0785, 2.0783, 2.0782, 2.0763, 2.078, 2.0505, 2.0376, 2.0537, 2.068, 2.0078, 2.0601, 1.908, 1.8984, 1.9968, 1.9555, 1.7411, 1.8756, 1.7816, 1.8023, 1.6437, 1.8241, 1.6161, 1.5952, 1.6631, 1.659, 1.6291, 1.9194, 1.6164, 1.3735, 1.3766, 1.686, 1.3106, 1.3129, 1.2926, 1.3283, 0.4614, 0.628, 2.1755, 2.1751, 2.1749, 2.1748, 2.1744, 2.1742, 2.1734, 2.1732, 2.1731, 2.173, 2.1726, 2.1726, 2.1725, 2.1722, 2.1722, 2.1718, 2.1714, 2.1711, 2.1711, 2.171, 2.1705, 2.1705, 2.1701, 2.17, 2.17, 2.1699, 2.1698, 2.1698, 2.1698, 2.1697, 2.1579, 2.1694, 2.1675, 2.1663, 2.1695, 2.1305, 2.1338, 2.0465, 2.0478, 1.971, 2.0345, 1.9809, 2.0129, 1.8427, 1.8477, 1.7434, 1.9634, 2.0399, 1.4837, 1.7283, 1.212, 1.0242, 1.7083, 0.286, 0.1801, 1.7735, 0.9492, 0.3551, 2.1978, 2.1964, 2.1964, 2.1963, 2.1962, 2.1959, 2.1956, 2.1955, 2.1945, 2.1944, 2.1944, 2.1931, 2.1931, 2.1928, 2.1925, 2.1918, 2.1918, 2.1914, 2.1913, 2.1911, 2.1909, 2.1908, 2.1907, 2.1904, 2.19, 2.1896, 2.1892, 2.189, 2.189, 2.1889, 2.1782, 2.1876, 2.1888, 2.1517, 2.1645, 2.1808, 1.9741, 1.9561, 2.0883, 1.9351, 1.9867, 2.074, 2.038, 2.0109, 1.8321, 1.8859, 1.6475, 1.9295, 1.9507, 1.8564, 1.9325, 0.865, 1.4605, 1.2959, 1.6333, 1.5066, 2.2156, 2.2156, 2.2153, 2.2142, 2.2141, 2.2139, 2.2134, 2.2129, 2.212, 2.2112, 2.211, 2.21, 2.2099, 2.2098, 2.2097, 2.2088, 2.2087, 2.2083, 2.2081, 2.208, 2.2079, 2.2067, 2.2065, 2.2058, 2.2051, 2.2051, 2.2045, 2.2045, 2.2045, 2.204, 2.1932, 2.1982, 2.1987, 2.1288, 2.1874, 2.0265, 1.9512, 1.9838, 2.003, 2.1672, 2.0896, 1.9878, 1.9412, 1.9024, 1.8191, 1.6089, 1.7806, 1.6515, 1.9358, 1.8362, 0.9623, 0.2928, 1.0877, 0.5032, 1.336, 0.5784]}, \"token.table\": {\"Topic\": [4, 5, 1, 7, 4, 5, 6, 7, 4, 6, 7, 2, 3, 5, 1, 6, 5, 3, 5, 3, 6, 1, 1, 4, 1, 2, 6, 7, 8, 6, 1, 2, 3, 5, 6, 7, 8, 5, 8, 3, 4, 5, 6, 7, 8, 1, 2, 3, 4, 6, 8, 1, 2, 3, 4, 5, 6, 7, 8, 1, 2, 3, 5, 6, 5, 2, 3, 3, 8, 8, 8, 4, 5, 4, 5, 7, 8, 6, 2, 3, 4, 5, 6, 2, 1, 4, 6, 8, 2, 5, 6, 7, 2, 5, 7, 3, 4, 5, 6, 4, 3, 6, 7, 5, 6, 1, 8, 7, 7, 1, 4, 5, 7, 8, 8, 4, 6, 7, 7, 8, 2, 3, 4, 5, 6, 7, 1, 1, 4, 5, 6, 7, 3, 5, 7, 7, 8, 7, 5, 4, 6, 8, 3, 3, 5, 5, 1, 3, 4, 5, 6, 8, 6, 3, 6, 3, 2, 5, 8, 6, 7, 2, 4, 5, 8, 3, 4, 5, 6, 7, 7, 1, 2, 4, 5, 7, 8, 2, 3, 2, 2, 1, 2, 3, 4, 5, 6, 7, 8, 2, 6, 1, 7, 7, 1, 5, 7, 1, 5, 8, 5, 3, 8, 8, 2, 4, 5, 7, 8, 2, 3, 5, 7, 6, 8, 1, 3, 5, 6, 8, 1, 2, 3, 5, 7, 8, 1, 2, 4, 5, 7, 8, 4, 6, 1, 2, 4, 6, 6, 2, 8, 1, 7, 2, 5, 2, 4, 5, 3, 3, 8, 1, 1, 4, 5, 1, 5, 8, 6, 7, 7, 2, 4, 5, 6, 4, 6, 2, 2, 5, 6, 8, 1, 4, 7, 3, 8, 2, 4, 6, 7, 5, 2, 5, 7, 8, 1, 2, 3, 4, 5, 7, 2, 6, 2, 6, 3, 4, 1, 6, 2, 3, 7, 7, 1, 2, 8, 8, 2, 4, 5, 7, 5, 3, 5, 6, 8, 3, 7, 8, 1, 3, 4, 7, 8, 5, 8, 6, 1, 2, 5, 6, 2, 4, 2, 3, 4, 2, 3, 5, 8, 4, 5, 7, 8, 6, 2, 4, 6, 7, 8, 5, 7, 2, 2, 5, 8, 2, 4, 5, 6, 7, 8, 2, 4, 5, 1, 6, 4, 4, 1, 3, 3, 2, 3, 4, 5, 6, 7, 7, 8, 2, 1, 2, 4, 5, 6, 7, 5, 1, 6, 8, 3, 1, 3, 4, 5, 6, 7, 8, 1, 2, 3, 4, 5, 6, 5, 6, 2, 8, 4, 5, 3, 5, 5, 2, 1, 1, 3, 3, 4, 5, 6, 7, 7, 8, 1, 2, 8, 6, 1, 2, 7, 7, 1, 4, 8, 3, 7, 2, 3, 4, 5, 6, 7, 8, 4, 3, 5, 4, 4, 1, 4, 5, 6, 8, 3, 2, 7, 4, 5, 3, 2, 7, 1, 3, 4, 6, 1, 3, 5, 2, 3, 4, 5, 6, 3, 7, 4, 6, 3, 4, 6, 8, 1, 4, 7, 5, 7, 2, 5, 5, 2, 4, 5, 6, 7, 2, 3, 4, 6, 8, 1, 2, 3, 4, 5, 7, 8, 2, 6, 3, 4, 7, 1, 5, 6, 5, 6, 6, 3, 6, 7, 8, 2, 3, 5, 6, 7, 8, 3, 4, 5, 6, 7, 8, 3, 1, 2, 7, 8, 5, 1, 5, 2, 6, 3, 6, 8, 2, 2, 4, 1, 2, 4, 5, 7, 8, 1, 3, 4, 6, 7, 1, 3, 4, 7, 8, 6, 1, 2, 3, 4, 5, 7, 1, 7, 4, 3, 5, 8, 4, 6, 4, 2, 2, 3, 4, 5, 6, 7, 8, 4, 2, 4, 5, 8, 1, 8, 1, 2, 3, 4, 5, 6, 4, 3, 6, 3, 8, 1, 2, 8, 1, 8, 1, 3, 5, 8, 3, 4, 5, 6, 7, 8, 2, 3, 4, 6, 7, 5, 4, 8, 1, 3, 4, 5, 6, 4, 6, 1, 3, 4, 6, 2, 2, 3, 5, 8, 2, 3, 4, 5, 2, 3, 4, 5, 6, 7, 1, 1, 1, 2, 3, 4, 5, 6, 7, 8, 4, 6, 8, 4, 2, 3, 4, 7, 8, 5, 3, 8, 2, 4, 6, 7, 4, 8, 5, 5, 6, 1, 2, 5, 6, 7, 1, 2, 3, 4, 5, 6, 8, 7, 4, 6, 7, 2, 2, 6, 7, 1, 4, 4, 7, 3, 5, 5, 2, 4, 5, 6, 4, 5, 6, 8, 1, 5, 4, 4, 5, 6, 8, 1, 7, 1, 2, 4, 5, 7, 8, 4, 3, 4, 8, 2, 4, 7, 1, 5, 1, 7, 2, 4, 6, 4, 6, 4, 5, 2, 5, 6, 2, 4, 2, 5, 7, 8, 1, 2, 3, 4, 5, 6, 7, 8, 2, 2, 4, 7, 3, 7, 1, 4, 2, 8, 2, 6, 4, 1, 3, 2, 8, 6, 3, 2, 3, 4, 5, 6, 7, 1, 2, 3, 4, 5, 6, 7, 8, 1, 4, 6, 1, 2, 4, 5, 6, 2, 5, 7, 2, 1, 4, 7, 8, 6, 1, 3, 4, 5, 6, 7, 8, 3, 5, 8, 4, 2, 3, 3, 1, 2, 3, 4, 5, 7, 8, 2, 5, 7, 3, 1, 3, 4, 3, 6, 8, 3, 7, 3, 4, 8, 6, 2, 3, 7, 3, 2, 4, 5, 2, 5, 7, 4, 6, 7, 8, 6, 7, 1, 2, 3, 4, 5, 6, 7, 2, 8, 1, 2, 3, 4, 5, 7, 8, 1, 3, 5, 6, 7, 8, 2, 3, 4, 8, 1, 2, 3, 5, 6, 8, 4, 7, 8, 3, 6, 1, 1, 1, 3, 6, 7, 4, 8, 3, 4, 1, 3, 4, 5, 8, 1, 6, 3, 7, 4, 5, 7, 2, 3, 7, 3, 5, 6, 7, 8, 5, 1, 4, 5, 6, 7, 8, 5, 6, 1, 5, 3, 6, 3, 6, 8, 6, 1, 5, 3, 2, 2, 3, 4, 5, 6, 7, 5, 7, 3, 5, 2, 3, 6, 2, 3, 5, 7, 4, 2, 3, 4, 4, 5, 1, 3, 5, 6, 7, 2, 7, 3, 2, 3, 5, 7, 6, 2, 3, 4, 2, 2, 7, 3, 6, 8, 5, 7, 1, 4, 5, 8, 3, 5, 8, 5, 7, 8], \"Freq\": [0.8899703789024899, 0.10663239562886975, 0.9973150244559595, 0.9979840103564401, 0.141649789821098, 0.0017930353141911138, 0.7190071609906367, 0.13627068387852465, 0.979662902913177, 0.9960319393840847, 0.9984793003641871, 0.05862346887570392, 0.017841925309996846, 0.9226824231741225, 0.994602187424518, 0.9952234215327195, 0.9929976582138638, 0.9859612433092558, 0.006320264380187537, 0.9964367481468122, 0.9913053469126609, 0.9989702021022527, 0.9992116016429887, 0.9958457836866837, 0.43712031555994385, 0.007702560626606941, 0.0009628200783258676, 0.008665380704932809, 0.544956164332441, 0.990224961759341, 0.0038278020517705197, 0.0019139010258852598, 0.5454617923772991, 0.055503129750672536, 0.10526455642368929, 0.0038278020517705197, 0.28325735183101847, 0.23240451890854574, 0.766934912398201, 0.27008268147220127, 0.17639775133653143, 0.16711365916092452, 0.16711365916092452, 0.09874898041327358, 0.12069319828288994, 0.038465350531103136, 0.002747525037935938, 0.8819555371774361, 0.02747525037935938, 0.002747525037935938, 0.04670792564491095, 0.0007247584974354346, 0.2732339535331589, 0.31092139539980146, 0.2152532737383241, 0.0942186046666065, 0.002174275492306304, 0.014495169948708692, 0.08914529518455847, 0.0013744028824353779, 0.09208499312317031, 0.8974850822303018, 0.004123208647306134, 0.0027488057648707557, 0.9922909477654913, 0.13104692696668982, 0.8661882245847059, 0.9922822765356604, 0.002927086361462125, 0.9953139086857717, 0.9825722889332756, 0.9865732302912325, 0.9966758707535299, 0.9681318889726724, 0.018617920941782162, 0.9920694723872003, 0.9977995101799703, 0.9987133613598476, 0.7315527458560603, 0.005552582511241445, 0.23459661109995106, 0.004164436883431084, 0.02359847567277614, 0.9889860772615572, 0.19295231742635552, 0.00219263997075404, 0.6380582314894256, 0.164447997806553, 0.7042937144845702, 0.15693501246667055, 0.13779659631219854, 0.993836675163398, 0.7365556730974392, 0.23542875395808557, 0.025224509352652025, 0.17432263361358713, 0.5907278614148135, 0.1963301421760998, 0.037644422541140074, 0.9958868185259272, 0.005147970185584789, 0.9549484694259782, 0.03860977639188591, 0.9956437557395718, 0.9905095285927235, 0.9987265515932391, 0.9952493887884926, 0.9908846065492318, 0.996250184793121, 0.7293772011921046, 0.0833573944219548, 0.18434808381778467, 0.0016030268158068234, 0.9818904304631706, 0.9952518937020556, 0.10811425311211574, 0.8780187828499096, 0.009828568464737794, 0.04421194952966967, 0.9505569148878978, 0.004085109668278343, 0.09293624495333232, 0.13378734163611575, 0.6403409405026304, 0.12561712229955907, 0.0030638322512087576, 0.9994796994960392, 0.681184793412314, 0.19477463181032162, 0.008422686780986881, 0.0010528358476233602, 0.11370627154332288, 0.0351457890412797, 0.1954105870695151, 0.7675840326615486, 0.8284759124326293, 0.1696878374862012, 0.9923465118520155, 0.9934464037016668, 0.0652897566106038, 0.10652539236466933, 0.8270035837343146, 0.9953683644419166, 0.9937414622880248, 0.0036669426652694644, 0.9953057648158077, 0.03572689668821487, 0.10896703489905535, 0.11432606940228758, 0.7359740717772263, 0.0017863448344107434, 0.003572689668821487, 0.995719905933117, 0.3307164242140016, 0.6671348557420377, 0.9969618111106763, 0.34454177257972224, 0.6528159901510526, 0.001295269821728279, 0.9938744895288926, 0.9957530122821968, 0.19912424674711662, 0.6513022237353606, 0.14726897415672166, 0.002074210903615798, 0.004438699413057717, 0.235251068892059, 0.46014517248698333, 0.1435179476888662, 0.15683404592803935, 0.9926282986647482, 0.04908995657143258, 0.17948515371430038, 0.6228288240000508, 0.09511179085715062, 0.05062401771428985, 0.001534061142857268, 0.005630515017835933, 0.9909706431391243, 0.9868498139703112, 0.9899914019082516, 0.0006453198964429814, 0.4781820432642492, 0.004517239275100869, 0.18004425110759179, 0.08389158653758758, 0.16197529400718833, 0.09034478550201738, 0.0006453198964429814, 0.0037941428556618043, 0.9940654281833927, 0.9894085160807807, 0.010371158449484075, 0.9943809379521882, 0.987082203388227, 0.01234955392979015, 0.9946464161486195, 0.021651784056439163, 0.9743302825397624, 0.9853464681873217, 0.9906622972416371, 0.08267479105205235, 0.916938591668217, 0.9952914808754293, 0.4993241741829387, 0.15978373573854038, 0.1291585197219868, 0.203724263066639, 0.0066576556557725155, 0.8511912786324128, 0.05979442866426041, 0.08441566399660293, 0.9919820087571632, 0.9964670782097619, 0.9952377075132033, 0.004080858797926585, 0.07855653186008675, 0.6233511813832858, 0.007141502896371523, 0.2856601158548609, 0.9980234713191113, 0.006544252103220159, 0.0032721260516100797, 0.8262118280315451, 0.02944913446449072, 0.13579323114181832, 0.6902025669292094, 0.008676832269967205, 0.022875285075368085, 0.10806600190777337, 0.15933819259394322, 0.01104324107086735, 0.9184367789348789, 0.07831631448281913, 0.022496984979440266, 0.84363693672901, 0.11248492489720134, 0.0168727387345802, 0.9963491545511957, 0.9868497632970322, 0.9952664345873745, 0.9961872536046297, 0.0023439700084814815, 0.9906726197221434, 0.9973224782272843, 0.0893315601006224, 0.09984115540657798, 0.8092388385585795, 0.9912576958411891, 0.9945333783054909, 0.9952473288717006, 0.9976417526781807, 0.9622600764219245, 0.003406230359015662, 0.03235918841064879, 0.9919734318724646, 0.0012899524471683545, 0.005159809788673418, 0.9978841300846572, 0.9971822487346613, 0.9914913049668796, 0.01354282402437621, 0.8531979135357012, 0.00451427467479207, 0.13091396556897003, 0.01725754746866092, 0.9812148417895781, 0.9825774771069328, 0.855635534445338, 0.12872392996080306, 0.011357993820070859, 0.9952255313940067, 0.42309581427545995, 0.0008378134936147722, 0.5755778701133485, 0.00939221172853567, 0.9861822314962454, 0.0035166269426464176, 0.8176157641652921, 0.1371484507632103, 0.040441209840433805, 0.9922909581702495, 0.34070533022577953, 0.6321520584912054, 0.025997595479075545, 0.0013682944988987129, 0.9967602247841998, 0.31542003570830923, 0.0013773800685952368, 0.0633594831553809, 0.4903473044199043, 0.12947372644795227, 0.17528122889013353, 0.822093650991753, 0.9693472261160858, 0.02796193921488709, 0.9786039348411008, 0.017068673282112222, 0.004707409555612147, 0.9885560066785508, 0.2260233484838071, 0.6347231019065815, 0.13778135626752624, 0.9928297337603423, 0.9231651384798881, 0.007566927364589247, 0.06894311598847981, 0.9992844396352732, 0.512539129161417, 0.18929001929256878, 0.13832732179072335, 0.1601684778629428, 0.9977475668243051, 0.008641858918388551, 0.9117161158899922, 0.004320929459194276, 0.07345580080630269, 0.949185780811079, 0.05005847931255183, 0.9952700856902701, 0.3218741193749283, 0.5473787419310158, 0.019273899363768162, 0.038547798727536324, 0.07516820751869584, 0.9957571188625575, 0.995314458064598, 0.9966388539033744, 0.9972312756623911, 0.11640794649343612, 0.8458977445189692, 0.03880264883114538, 0.6875494612564824, 0.31163319077275525, 0.9270238911949494, 0.04928481446859225, 0.023468959270758212, 0.012457316371473919, 0.16941950265204528, 0.007474389822884351, 0.8072341008715099, 0.9959270415684623, 0.15209611730386285, 0.08927380798270211, 0.753867711853929, 0.9903684519918504, 0.710262362358758, 0.06814325247722401, 0.006115420094109847, 0.020093523166360927, 0.1948198115694994, 0.9905654290522983, 0.0060400331039774284, 0.9825774454377139, 0.0017178480950205603, 0.8348741741799923, 0.16319556902695323, 0.0036580858226963704, 0.31215665687009025, 0.11827810826718264, 0.4999383957685039, 0.00975489552719032, 0.05609064928134434, 0.08504960758119195, 0.9142832814978135, 0.9967118830885452, 0.005386855198003234, 0.9911813564325951, 0.9959043442099281, 0.9988636745217517, 0.9984254469027007, 0.9950251889357435, 0.9957036461156396, 0.7956606644455618, 0.0011399149920423522, 0.0011399149920423522, 0.004559659968169409, 0.0011399149920423522, 0.19720529362332692, 0.9912339977152802, 0.9952964276867151, 0.9922803556014194, 0.059538565943755194, 0.1449634649065344, 0.0181204331133168, 0.1954418142936312, 0.17602706452936318, 0.4051211117477256, 0.995542714509212, 0.18867827090434408, 0.8058800723371985, 0.9851465662053954, 0.9945947966000972, 0.14182088841999094, 0.024664502333911466, 0.4390281415436241, 0.0012332251166955732, 0.0061661255834778664, 0.23307954705546335, 0.15291991447025108, 0.2621082856425951, 0.46597028558683573, 0.08620450283356461, 0.0023298514279341785, 0.18289333709283304, 0.9975193738553575, 0.9951350575923249, 0.9966577619703877, 0.9929678903415665, 0.9985040554263306, 0.9958421627542715, 0.003422138016337703, 0.9404595244122452, 0.0558688826383512, 0.9945829007806843, 0.9928031730389786, 0.9955513912825545, 0.9947259631531271, 0.004232876438949477, 0.006521828102604771, 0.7304447474917344, 0.0152175989060778, 0.20000272847987965, 0.0456527967182334, 0.9959878974800107, 0.9997197154835746, 0.9051719828285539, 0.013272316463761787, 0.08228836207532308, 0.9990922584160196, 0.0027419643976031973, 0.9679134323539287, 0.027419643976031974, 0.9914913064694733, 0.900700087671381, 0.016476221115939896, 0.08238110557969948, 0.007930510931523069, 0.9833833555088606, 0.5276501412124457, 0.03426299618262634, 0.3083669656436371, 0.028780916793406126, 0.03289247633532129, 0.06578495267064258, 0.0013705198473050538, 0.9844878430622452, 0.9963224598795092, 0.990946001338666, 0.9813249934716963, 0.9830171519203263, 0.668336201565205, 0.0008071693255618419, 0.014529047860113154, 0.3156032062946802, 0.0008071693255618419, 0.9930360206827898, 0.9972203941133658, 0.9947909480533882, 0.9988149399978064, 0.9979589396688635, 0.9904160254235773, 0.9102855531582743, 0.08869448979490878, 0.0017019782416545304, 0.052761325491290444, 0.2297670626233616, 0.7148308614949028, 0.0853941914632077, 0.4456024172716475, 0.46733912055319127, 0.004255958052637631, 0.09363107715802788, 0.6298817917903694, 0.0021279790263188155, 0.26812535731617076, 0.9944930175113178, 0.9949391473977244, 0.9837847679661077, 0.012195678941728608, 0.003319811740101684, 0.12615284612386402, 0.8664708641665396, 0.9975443368940602, 0.18017456515926072, 0.8174586752596089, 0.9920825446277682, 0.0029337233364953464, 0.9945322110719225, 0.9245915395918263, 0.07488903435946256, 0.991719562115382, 0.3039006111688488, 0.007597515279221221, 0.6685813445714675, 0.00506501018614748, 0.015195030558442442, 0.16064569735374326, 0.021708878020776118, 0.0021708878020776116, 0.056443082854017904, 0.7598107307271641, 0.06922015167265326, 0.09295277510327724, 0.2056827363987411, 0.06328699581499726, 0.0830641820071839, 0.06922015167265326, 0.41532091003591953, 0.12612673551429976, 0.8710627671456328, 0.837099171824533, 0.06662873292380508, 0.09449165760103266, 0.9998568670973663, 0.005627248511132955, 0.9903957379594001, 0.7067633827196975, 0.2926532501277962, 0.990079038550087, 0.9333560647038158, 0.01651957636643922, 0.004129894091609805, 0.04542883500770785, 0.19755307845002218, 0.003977578760738702, 0.4892421875708603, 0.2452840235788866, 0.05966368141108053, 0.0053034383476516025, 0.04175118955750903, 0.08350237911501807, 0.013917063185836345, 0.24818762681408146, 0.5682800800883174, 0.044070700088481754, 0.9983466431500116, 0.30871876514525176, 0.004874506818082922, 0.014623520454248768, 0.6726819408954433, 0.9938391379641692, 0.9933712360947093, 0.0034372707131304823, 0.9846237022833985, 0.007239880163848518, 0.004679331800840513, 0.11230396322017232, 0.8797143785580165, 0.9930644976288469, 0.9732508684287244, 0.013517373172621173, 0.014638994606124828, 0.14638994606124828, 0.005855597842449931, 0.2620380034496344, 0.0029277989212249654, 0.5679929907176433, 0.0014073795609629166, 0.0014073795609629166, 0.004222138682888749, 0.20969955458347456, 0.7839104154563444, 0.7680728973987115, 0.004669136154399462, 0.1797617419443793, 0.0035018521157995967, 0.04318950942819502, 0.993010007217149, 0.9964025426805219, 0.152610545513258, 0.1068273818592806, 0.7325306184636384, 0.0076305272756629, 0.994790981613911, 0.9990531253082003, 0.9962970510232355, 0.9806565626386229, 0.963556991003998, 0.005058041947527549, 0.030348251685165292, 0.3514892038304795, 0.6476257771364741, 0.9837975840803619, 0.9856727744511785, 0.13871707832784191, 0.3737336159907146, 0.10508869570291055, 0.06916746880809749, 0.13565995263466635, 0.031335538355049694, 0.14597775184913392, 0.9842219529171387, 0.9392775482742145, 0.023779178437321885, 0.0044585959569978535, 0.031210171698984976, 0.008544754278042308, 0.9869191191138865, 0.0976812199183066, 0.21978274481618984, 0.006977229994164756, 0.36019949844875554, 0.1421610611311069, 0.17355859610484833, 0.9811087716443827, 0.9952358101541066, 0.9900790683918423, 0.022810109940807007, 0.9732313574744323, 0.9971714082216905, 0.9888820538740043, 0.007974855273177454, 0.020253581479233368, 0.9789231048296129, 0.12406528399975736, 0.20820151108005258, 0.6502732126883835, 0.015686415218360127, 0.42652326061106877, 0.09225362659284352, 0.2168559274455153, 0.08266883421956107, 0.04552776377309161, 0.13538519227261453, 0.09832018146168744, 0.004274790498334237, 0.7096152227234833, 0.08977060046501897, 0.09832018146168744, 0.9909452152077562, 0.9842214771535107, 0.9831872820819876, 0.11807496533058402, 0.002146817551465164, 0.006440452654395492, 0.06011089144102459, 0.8136438520052971, 0.03785139639063952, 0.9576403286831799, 0.018553750617502834, 0.023854822222503645, 0.07951607407501216, 0.8773273506276341, 0.9896400111322133, 0.00499266898718415, 0.029956013923104898, 0.9635851145265409, 0.9952924765941864, 0.04480031785682733, 0.0017920127142730933, 0.0035840254285461866, 0.9497667385647394, 0.5111068933722868, 0.001062592293913278, 0.2199566048400486, 0.09616460259915167, 0.09350812186436848, 0.07756923745566931, 0.9957510718897972, 0.9922730647668763, 0.8866652341133648, 0.0006228768767919669, 0.00031143843839598345, 0.1071348228082183, 0.0015571921919799172, 0.00031143843839598345, 0.00031143843839598345, 0.003425822822355818, 0.004913539652875476, 0.9925350098808461, 0.9953109732773086, 0.9959092447674927, 0.9936199997826652, 0.004568367815092713, 0.9790870068040809, 0.0015203214391367717, 0.01672353583050449, 0.9956095412852468, 0.99395293032924, 0.003640853224649231, 0.9988776120779634, 0.9885993165723836, 0.007322957900536175, 0.9931478576818515, 0.9958291908558942, 0.0037437187626161435, 0.9938343606777335, 0.14767812251799006, 0.8499026642872082, 0.0019765568997298444, 0.07906227598919377, 0.622615423414901, 0.07510916218973408, 0.21939781587001272, 0.001010515523834088, 0.47191074963051904, 0.001010515523834088, 0.22534496181500158, 0.10206206790724287, 0.17785073219479947, 0.020210310476681755, 0.9904040410543876, 0.18721614274396844, 0.002340201784299606, 0.807369615583364, 0.9908705949469346, 0.9985335684541745, 0.2164729480745406, 0.7786043132358476, 0.9906755283687156, 0.005597036883439072, 0.019171158278063496, 0.9794719047519714, 0.9957035953478515, 0.9940838188478441, 0.9953493573028002, 0.16827450779366138, 0.8102105930805918, 0.003116194588771507, 0.018697167532629042, 0.25967393495928703, 0.0021111702029210327, 0.09078031872560441, 0.6460180820938359, 0.12133618460189792, 0.873620529133665, 0.9959012682697185, 0.7644754042502782, 0.19914905488872792, 0.03395629046489831, 0.0009177375801323867, 0.2887142518167119, 0.7086622544592018, 0.001935343550758193, 0.34642649558571653, 0.056124962971987595, 0.09289649043639325, 0.4993186360956138, 0.003870687101516386, 0.9815348222524716, 0.8973412530815369, 0.10101402473713361, 0.9952652096740803, 0.03245532556158018, 0.013909425240677219, 0.953954747756446, 0.0014122998438269357, 0.9970836897418166, 0.9910483338095334, 0.9973618085681376, 0.010546771530976815, 0.7839766838026099, 0.2039042495988851, 0.8650749371811894, 0.1322808763165411, 0.9234714313213681, 0.07435357740107634, 0.12448499774066986, 0.768455466822212, 0.1077274018909643, 0.004930364915729267, 0.9934685305194474, 0.11809735407261919, 0.10213825217091389, 0.7628450709015131, 0.012767281521364237, 0.03261441723563721, 0.16092640083373624, 0.2420333068539393, 0.11243391204917039, 0.02059857930671824, 0.15105624824926708, 0.26349016029843747, 0.016736345686708568, 0.994045572585378, 0.001151098635995352, 0.20029116266319125, 0.7988624533807743, 0.0325364473505382, 0.963892252759694, 0.0017815222267991606, 0.99765244700753, 0.9886030718081354, 0.008774583477587, 0.7697500801989191, 0.2283873864326463, 0.9958593570311866, 0.003680122289620007, 0.9936330181974018, 0.9935638902874292, 0.9976792649645218, 0.989930589860742, 0.9957036257888056, 0.27329596366466674, 0.024712932884570927, 0.18607384760147522, 0.4506475996598228, 0.0029074038687730503, 0.05960177930984753, 0.055885058115770506, 0.18162643887625415, 0.2756149457073227, 0.016511494443295832, 0.055885058115770506, 0.06858620768753652, 0.02159195427200224, 0.3238793140800336, 0.8604202354841943, 0.0051013057439774365, 0.13093351409542087, 0.9910430236733059, 0.030374697999290098, 0.16402336919616653, 0.7512675305157751, 0.05264947653210284, 0.8950700244537707, 0.0107839761982382, 0.08986646831865168, 0.9954125004481819, 0.987014272217413, 0.008557927215757917, 0.0068164244021897856, 0.988381538317519, 0.9907847436694608, 0.06907981423709181, 0.1703968751181598, 0.007675534915232423, 0.09517663294888205, 0.11513302372848636, 0.47741827172745677, 0.06447449328795236, 0.7498829170951068, 0.23943629984440254, 0.00789350439047481, 0.9823169280644439, 0.9908917244158031, 0.9940886582674919, 0.9925084970093263, 0.08399902101309112, 0.6145928370791167, 0.27579678565964916, 0.005599934734206074, 0.016799804202618226, 0.0013999836835515186, 0.0013999836835515186, 0.9879516934741897, 0.9983111010252536, 0.9941600742889174, 0.994030015323206, 0.9972664236305148, 0.017955040421676262, 0.9785497029813562, 0.0064641581681298375, 0.012928316336259675, 0.9825520415557353, 0.9942474399349628, 0.0032813446862540027, 0.011482175415087299, 0.8094933667636546, 0.17797371893385314, 0.9968085764378534, 0.6651222267242618, 0.18037212928115576, 0.1533163098889824, 0.9930323340458649, 0.004010222122315136, 0.03208177697852109, 0.9624533093556327, 0.00849072764477447, 0.09339800409251917, 0.8957717665237066, 0.1312195578791741, 0.010582222409610816, 0.7301733462631462, 0.12698666891532978, 0.9916808330428148, 0.9971823292695301, 0.005316757723050779, 0.13469119565061974, 0.008861262871751298, 0.5458537928998799, 0.0832958709944622, 0.09215713386621349, 0.1311466905019192, 0.9964205726367922, 0.9952946431720503, 0.4010049735762503, 0.1265822928638284, 0.2270751055190815, 0.01835926385047893, 0.061841730864771134, 0.09372887334191875, 0.07150450131239162, 0.02456749432798326, 0.24931457206916346, 0.06915294699728622, 0.3812511156824069, 0.13284645081057614, 0.1437653371785687, 0.6555683096973169, 0.00424774282741242, 0.12460045627076434, 0.21380305564642518, 0.10516903642109407, 0.1377213572180994, 0.05759256756393247, 0.030048296120312592, 0.626006169173179, 0.045072444180468886, 0.26497514929454735, 0.0044533638536898715, 0.730351672005139, 0.9898630068958167, 0.010100642927508334, 0.9960428432998971, 0.9934811677139317, 0.6918651090185963, 0.21774434903123335, 0.0017560028147680109, 0.08955614355316856, 0.995889833046202, 0.9952828292828942, 0.04654391647397742, 0.9508257222541101, 0.06833383112556413, 0.17571556575145061, 0.07949037498279908, 0.4588128661287877, 0.2175526052160817, 0.9969849044300063, 0.9916808416618511, 0.9856764574306158, 0.01263687765936687, 0.9959051628776779, 0.23014051394331617, 0.7646604172955344, 0.00518666144581394, 0.8834613329369744, 0.10891989036209274, 0.17883941397415323, 0.011005502398409429, 0.0055027511992047145, 0.008254126798807073, 0.7951475482850813, 0.9967868101086521, 0.9778848786100015, 0.0015279451228281274, 0.003055890245656255, 0.0015279451228281274, 0.00611178049131251, 0.010695615859796892, 0.9936954800817017, 0.9940442290828734, 0.9926363558377, 0.003954726517281674, 0.9978398563915012, 0.9930100053212151, 0.14318606127510056, 0.17120072543762022, 0.6848029017504809, 0.9975653240545485, 0.9991692450531345, 0.9936763503671865, 0.9941760964849757, 0.9896400543889134, 0.9927632915054634, 0.005640700519917406, 0.3417457993269042, 0.6107998126091354, 0.013216688371758725, 0.03304172092939681, 0.9923981504293892, 0.9935138197952166, 0.01508392281086378, 0.9804549827061457, 0.9958949019654746, 0.9979553484918926, 0.9967435689991891, 0.9620407586815727, 0.00531514231315786, 0.02126056925263144, 0.00531514231315786, 0.9958631992137593, 0.08121717473633229, 0.5754323231318862, 0.3438769738836197, 0.009283620908854158, 0.9887056267929678, 0.0031010892757458654, 0.007752723189364663, 0.26669367771414443, 0.027909803481712788, 0.6930934531292009, 0.002697443080589715, 0.9971547921246646, 0.9956539496781587, 0.9211507586620605, 0.0496577228389251, 0.002482886141946255, 0.02482886141946255, 0.994706764495571, 0.8660166764175449, 0.12906979311992256, 0.004163541713545889, 0.9937944821418819, 0.9971035117120332, 0.9907139506568392, 0.803852275537673, 0.015608782049275204, 0.18021048365981374, 0.14728406924585885, 0.8497157841107241, 0.9000198922748044, 0.0008100989129386178, 0.0032403956517544712, 0.09478157281381829, 0.1256107036470637, 0.08141434495643017, 0.792045270218985, 0.11536623744803029, 0.8829954327753087, 0.9988883301657566], \"Term\": [\"aboriginal\", \"aboriginal\", \"accident\", \"accuse\", \"act\", \"act\", \"act\", \"act\", \"advice\", \"afghan\", \"age\", \"air\", \"air\", \"air\", \"alleged\", \"alp\", \"analysis\", \"animal\", \"animal\", \"announce\", \"approve\", \"arrest\", \"assault\", \"asylum\", \"attack\", \"attack\", \"attack\", \"attack\", \"attack\", \"august\", \"aussie\", \"aussie\", \"aussie\", \"aussie\", \"aussie\", \"aussie\", \"aussie\", \"australia\", \"australia\", \"australian\", \"australian\", \"australian\", \"australian\", \"australian\", \"australian\", \"award\", \"award\", \"award\", \"award\", \"award\", \"award\", \"back\", \"back\", \"back\", \"back\", \"back\", \"back\", \"back\", \"back\", \"ban\", \"ban\", \"ban\", \"ban\", \"ban\", \"barrier\", \"battle\", \"battle\", \"beat\", \"beat\", \"ben\", \"bhp\", \"bikie\", \"bird\", \"bishop\", \"bishop\", \"blow\", \"body\", \"bomb\", \"boost\", \"boost\", \"boost\", \"boost\", \"boost\", \"brace\", \"break\", \"break\", \"break\", \"break\", \"budget\", \"budget\", \"budget\", \"bull\", \"business\", \"business\", \"business\", \"call\", \"call\", \"call\", \"call\", \"camp\", \"campaign\", \"campaign\", \"campaign\", \"cancer\", \"capital\", \"car\", \"carbon\", \"card\", \"care\", \"case\", \"case\", \"case\", \"case\", \"cast\", \"celebrate\", \"challenge\", \"challenge\", \"challenge\", \"chance\", \"chance\", \"change\", \"change\", \"change\", \"change\", \"change\", \"change\", \"charge\", \"child\", \"child\", \"child\", \"child\", \"child\", \"china\", \"china\", \"china\", \"chinese\", \"chinese\", \"chopper\", \"chris\", \"claim\", \"claim\", \"claim\", \"clash\", \"clear\", \"clear\", \"climate\", \"close\", \"close\", \"close\", \"close\", \"close\", \"close\", \"closer\", \"club\", \"club\", \"coach\", \"coast\", \"coast\", \"coast\", \"come\", \"commission\", \"community\", \"community\", \"community\", \"community\", \"concern\", \"concern\", \"concern\", \"concern\", \"concern\", \"consumer\", \"continue\", \"continue\", \"continue\", \"continue\", \"continue\", \"continue\", \"contract\", \"contract\", \"conviction\", \"coroner\", \"council\", \"council\", \"council\", \"council\", \"council\", \"council\", \"council\", \"council\", \"country\", \"country\", \"court\", \"court\", \"cover\", \"crash\", \"crash\", \"credit\", \"creek\", \"creek\", \"crown\", \"csg\", \"cup\", \"cup\", \"custody\", \"cut\", \"cut\", \"cut\", \"cut\", \"cut\", \"cyclone\", \"cyclone\", \"cyclone\", \"darling\", \"darwin\", \"david\", \"day\", \"day\", \"day\", \"day\", \"day\", \"dead\", \"deal\", \"deal\", \"deal\", \"deal\", \"deal\", \"death\", \"death\", \"death\", \"death\", \"death\", \"death\", \"debate\", \"debate\", \"decision\", \"decision\", \"decision\", \"decision\", \"denies\", \"department\", \"destroy\", \"die\", \"die\", \"disaster\", \"dispute\", \"doctor\", \"doctor\", \"doctor\", \"domestic\", \"donald\", \"doubt\", \"drink\", \"driver\", \"driver\", \"driver\", \"drug\", \"drug\", \"drug\", \"drum\", \"economic\", \"edge\", \"education\", \"education\", \"education\", \"education\", \"election\", \"election\", \"entertainment\", \"export\", \"export\", \"export\", \"extend\", \"face\", \"face\", \"face\", \"factory\", \"factory\", \"fall\", \"fall\", \"fall\", \"fall\", \"farewell\", \"farmer\", \"farmer\", \"farmer\", \"farmer\", \"fatal\", \"fear\", \"fear\", \"fear\", \"fear\", \"fear\", \"federal\", \"federal\", \"festival\", \"festival\", \"fiji\", \"fiji\", \"fin\", \"fin\", \"final\", \"final\", \"final\", \"finance\", \"find\", \"find\", \"find\", \"fire\", \"flood\", \"flood\", \"flood\", \"flood\", \"flu\", \"fly\", \"fly\", \"fly\", \"fly\", \"force\", \"force\", \"forest\", \"former\", \"former\", \"former\", \"former\", \"former\", \"forum\", \"france\", \"friday\", \"front\", \"fuel\", \"fuel\", \"fuel\", \"fund\", \"fund\", \"future\", \"future\", \"future\", \"game\", \"game\", \"game\", \"game\", \"gang\", \"gas\", \"gas\", \"gas\", \"gay\", \"get\", \"get\", \"get\", \"get\", \"get\", \"global\", \"global\", \"glory\", \"gold\", \"gold\", \"gold\", \"government\", \"government\", \"government\", \"government\", \"government\", \"government\", \"govt\", \"govt\", \"grain\", \"grandstand\", \"grandstand\", \"grant\", \"green\", \"guilty\", \"hand\", \"hawk\", \"health\", \"health\", \"health\", \"health\", \"health\", \"health\", \"hearing\", \"heart\", \"heavy\", \"high\", \"high\", \"high\", \"high\", \"high\", \"high\", \"highlight\", \"hill\", \"hill\", \"historic\", \"history\", \"home\", \"home\", \"home\", \"home\", \"home\", \"home\", \"home\", \"hospital\", \"hospital\", \"hospital\", \"hospital\", \"hospital\", \"hour\", \"hundred\", \"hunt\", \"improve\", \"india\", \"indigenous\", \"indigenous\", \"indonesia\", \"indonesia\", \"industrial\", \"infrastructure\", \"injure\", \"inquest\", \"inquest\", \"inquiry\", \"inquiry\", \"inquiry\", \"inquiry\", \"inquiry\", \"interest\", \"interview\", \"investigate\", \"investigate\", \"investigate\", \"iraq\", \"island\", \"island\", \"island\", \"israeli\", \"jail\", \"jail\", \"jail\", \"japanese\", \"japanese\", \"job\", \"job\", \"job\", \"job\", \"job\", \"job\", \"job\", \"johnson\", \"join\", \"joyce\", \"katherine\", \"kevin\", \"kill\", \"kill\", \"kill\", \"kill\", \"kill\", \"king\", \"korea\", \"label\", \"labor\", \"land\", \"lanka\", \"late\", \"late\", \"law\", \"law\", \"law\", \"law\", \"lead\", \"lead\", \"lead\", \"leader\", \"leader\", \"leader\", \"leader\", \"leader\", \"league\", \"lee\", \"legal\", \"legal\", \"liberal\", \"liberal\", \"liberal\", \"life\", \"light\", \"light\", \"limit\", \"link\", \"link\", \"live\", \"live\", \"loan\", \"local\", \"local\", \"local\", \"local\", \"local\", \"look\", \"look\", \"look\", \"look\", \"look\", \"lose\", \"lose\", \"lose\", \"lose\", \"lose\", \"lose\", \"lose\", \"loss\", \"loss\", \"make\", \"make\", \"make\", \"man\", \"march\", \"march\", \"market\", \"market\", \"marriage\", \"match\", \"match\", \"match\", \"match\", \"may\", \"may\", \"may\", \"may\", \"may\", \"may\", \"mayor\", \"mayor\", \"mayor\", \"mayor\", \"mayor\", \"mayor\", \"medium\", \"melbourne\", \"melbourne\", \"melbourne\", \"melbourne\", \"memorial\", \"men\", \"men\", \"merger\", \"merger\", \"michael\", \"michael\", \"michael\", \"milk\", \"mill\", \"mill\", \"mine\", \"mine\", \"mine\", \"mine\", \"mine\", \"mine\", \"minister\", \"minister\", \"minister\", \"minister\", \"minister\", \"miss\", \"miss\", \"miss\", \"miss\", \"miss\", \"monday\", \"mother\", \"move\", \"move\", \"move\", \"move\", \"mum\", \"murder\", \"murray\", \"nadal\", \"name\", \"name\", \"name\", \"national\", \"national\", \"nbn\", \"net\", \"new\", \"new\", \"new\", \"new\", \"new\", \"new\", \"new\", \"nick\", \"north\", \"north\", \"north\", \"north\", \"northern\", \"northern\", \"nsw\", \"nsw\", \"nsw\", \"nsw\", \"nsw\", \"nsw\", \"nursing\", \"obama\", \"october\", \"office\", \"office\", \"officer\", \"oil\", \"oil\", \"old\", \"old\", \"one\", \"one\", \"one\", \"one\", \"open\", \"open\", \"open\", \"open\", \"open\", \"open\", \"opposition\", \"opposition\", \"opposition\", \"opposition\", \"opposition\", \"outbreak\", \"overhaul\", \"paris\", \"park\", \"park\", \"park\", \"park\", \"park\", \"parliament\", \"parliament\", \"party\", \"party\", \"party\", \"party\", \"past\", \"patient\", \"patient\", \"patient\", \"paul\", \"pay\", \"pay\", \"pay\", \"pay\", \"plan\", \"plan\", \"plan\", \"plan\", \"plan\", \"plan\", \"plead\", \"pleads\", \"police\", \"police\", \"police\", \"police\", \"police\", \"police\", \"police\", \"police\", \"poll\", \"poll\", \"pope\", \"porn\", \"port\", \"port\", \"power\", \"power\", \"power\", \"praise\", \"president\", \"president\", \"price\", \"prisoner\", \"prisoner\", \"private\", \"probe\", \"probe\", \"production\", \"project\", \"project\", \"public\", \"public\", \"public\", \"public\", \"public\", \"qld\", \"qld\", \"qld\", \"qld\", \"qld\", \"qld\", \"qld\", \"quarter\", \"question\", \"question\", \"question\", \"quiz\", \"rain\", \"raise\", \"raise\", \"rape\", \"rape\", \"rate\", \"rate\", \"real\", \"recovery\", \"reef\", \"regional\", \"regional\", \"regional\", \"regional\", \"reject\", \"reject\", \"reject\", \"reject\", \"remain\", \"remain\", \"remote\", \"report\", \"report\", \"report\", \"report\", \"rescue\", \"rescue\", \"resident\", \"resident\", \"resident\", \"resident\", \"resident\", \"resident\", \"retail\", \"return\", \"return\", \"rio\", \"rise\", \"rise\", \"rise\", \"road\", \"road\", \"robbery\", \"royal\", \"rudd\", \"rudd\", \"rudd\", \"run\", \"run\", \"rural\", \"rural\", \"safety\", \"safety\", \"safety\", \"sale\", \"sale\", \"save\", \"save\", \"save\", \"save\", \"say\", \"say\", \"say\", \"say\", \"say\", \"say\", \"say\", \"say\", \"scare\", \"school\", \"school\", \"school\", \"sea\", \"sea\", \"search\", \"search\", \"season\", \"season\", \"security\", \"security\", \"seeker\", \"sell\", \"sell\", \"semi\", \"sentence\", \"september\", \"series\", \"service\", \"service\", \"service\", \"service\", \"service\", \"service\", \"set\", \"set\", \"set\", \"set\", \"set\", \"set\", \"set\", \"set\", \"sex\", \"sex\", \"sex\", \"sexual\", \"share\", \"share\", \"share\", \"share\", \"shark\", \"shark\", \"shark\", \"ship\", \"shoot\", \"shoot\", \"shop\", \"shop\", \"short\", \"show\", \"show\", \"show\", \"show\", \"show\", \"show\", \"show\", \"sign\", \"sign\", \"sign\", \"slide\", \"small\", \"socceroos\", \"social\", \"south\", \"south\", \"south\", \"south\", \"south\", \"south\", \"south\", \"spill\", \"sport\", \"spot\", \"sri\", \"stab\", \"staff\", \"staff\", \"stage\", \"stage\", \"stage\", \"star\", \"star\", \"station\", \"station\", \"station\", \"step\", \"storm\", \"storm\", \"storm\", \"story\", \"strike\", \"strike\", \"strike\", \"strong\", \"strong\", \"strong\", \"student\", \"student\", \"student\", \"student\", \"sue\", \"supply\", \"support\", \"support\", \"support\", \"support\", \"support\", \"support\", \"support\", \"surgery\", \"surprise\", \"sydney\", \"sydney\", \"sydney\", \"sydney\", \"sydney\", \"sydney\", \"sydney\", \"take\", \"take\", \"take\", \"take\", \"take\", \"take\", \"talk\", \"talk\", \"talk\", \"talk\", \"target\", \"target\", \"target\", \"target\", \"target\", \"target\", \"tax\", \"tax\", \"tax\", \"team\", \"team\", \"teen\", \"teenager\", \"tell\", \"tell\", \"tell\", \"tell\", \"telstra\", \"territory\", \"terrorism\", \"terrorism\", \"test\", \"test\", \"test\", \"test\", \"test\", \"theft\", \"thursday\", \"tiger\", \"tiger\", \"timor\", \"toll\", \"toll\", \"top\", \"top\", \"top\", \"tour\", \"tour\", \"tour\", \"tour\", \"tour\", \"trade\", \"trial\", \"trial\", \"trial\", \"trial\", \"trial\", \"trial\", \"tribute\", \"troop\", \"truck\", \"truck\", \"trump\", \"tuesday\", \"turn\", \"turn\", \"turn\", \"turnbull\", \"two\", \"underway\", \"united\", \"update\", \"upgrade\", \"upgrade\", \"urge\", \"urge\", \"urge\", \"urge\", \"vaccine\", \"van\", \"veteran\", \"veteran\", \"video\", \"violence\", \"vote\", \"wait\", \"wait\", \"wait\", \"wait\", \"wall\", \"want\", \"want\", \"want\", \"war\", \"war\", \"warn\", \"warn\", \"warn\", \"warn\", \"warn\", \"water\", \"water\", \"way\", \"weather\", \"weather\", \"weather\", \"weather\", \"wednesday\", \"west\", \"west\", \"west\", \"whale\", \"wild\", \"williams\", \"win\", \"win\", \"win\", \"wind\", \"wind\", \"woman\", \"woman\", \"woman\", \"woman\", \"world\", \"world\", \"world\", \"worry\", \"worry\", \"year\"]}, \"R\": 30, \"lambda.step\": 0.01, \"plot.opts\": {\"xlab\": \"PC1\", \"ylab\": \"PC2\"}, \"topic.order\": [2, 8, 6, 5, 1, 7, 3, 4]};\n",
              "\n",
              "function LDAvis_load_lib(url, callback){\n",
              "  var s = document.createElement('script');\n",
              "  s.src = url;\n",
              "  s.async = true;\n",
              "  s.onreadystatechange = s.onload = callback;\n",
              "  s.onerror = function(){console.warn(\"failed to load library \" + url);};\n",
              "  document.getElementsByTagName(\"head\")[0].appendChild(s);\n",
              "}\n",
              "\n",
              "if(typeof(LDAvis) !== \"undefined\"){\n",
              "   // already loaded: just create the visualization\n",
              "   !function(LDAvis){\n",
              "       new LDAvis(\"#\" + \"ldavis_el1391406562591578325570231457\", ldavis_el1391406562591578325570231457_data);\n",
              "   }(LDAvis);\n",
              "}else if(typeof define === \"function\" && define.amd){\n",
              "   // require.js is available: use it to load d3/LDAvis\n",
              "   require.config({paths: {d3: \"https://cdnjs.cloudflare.com/ajax/libs/d3/3.5.5/d3.min\"}});\n",
              "   require([\"d3\"], function(d3){\n",
              "      window.d3 = d3;\n",
              "      LDAvis_load_lib(\"https://cdn.rawgit.com/bmabey/pyLDAvis/files/ldavis.v1.0.0.js\", function(){\n",
              "        new LDAvis(\"#\" + \"ldavis_el1391406562591578325570231457\", ldavis_el1391406562591578325570231457_data);\n",
              "      });\n",
              "    });\n",
              "}else{\n",
              "    // require.js not available: dynamically load d3 & LDAvis\n",
              "    LDAvis_load_lib(\"https://cdnjs.cloudflare.com/ajax/libs/d3/3.5.5/d3.min.js\", function(){\n",
              "         LDAvis_load_lib(\"https://cdn.rawgit.com/bmabey/pyLDAvis/files/ldavis.v1.0.0.js\", function(){\n",
              "                 new LDAvis(\"#\" + \"ldavis_el1391406562591578325570231457\", ldavis_el1391406562591578325570231457_data);\n",
              "            })\n",
              "         });\n",
              "}\n",
              "</script>"
            ],
            "text/plain": [
              "PreparedData(topic_coordinates=              x         y  topics  cluster       Freq\n",
              "topic                                                \n",
              "1      0.330983  0.224660       1        1  14.376521\n",
              "7     -0.148929  0.037958       2        1  13.919769\n",
              "5      0.062541 -0.228564       3        1  13.129866\n",
              "4     -0.122512  0.087778       4        1  12.865785\n",
              "0     -0.104395  0.047833       5        1  12.383514\n",
              "6     -0.116081 -0.040786       6        1  11.334801\n",
              "2     -0.063433  0.100074       7        1  11.087644\n",
              "3      0.161825 -0.228952       8        1  10.902100, topic_info=           Term         Freq        Total Category  logprob  loglift\n",
              "1981        man  2606.000000  2606.000000  Default  30.0000  30.0000\n",
              "2440     police  3210.000000  3210.000000  Default  29.0000  29.0000\n",
              "593      charge  1724.000000  1724.000000  Default  28.0000  28.0000\n",
              "1277       fire  1465.000000  1465.000000  Default  27.0000  27.0000\n",
              "1697  interview  1324.000000  1324.000000  Default  26.0000  26.0000\n",
              "...         ...          ...          ...      ...      ...      ...\n",
              "2194        new   382.347298  2616.837122   Topic8  -4.8141   0.2928\n",
              "2941        set   254.705905   787.330308   Topic8  -5.2204   1.0877\n",
              "3661        win   254.160090  1409.462950   Topic8  -5.2225   0.5032\n",
              "1940       lose   209.677000   505.633102   Topic8  -5.4149   1.3360\n",
              "1408        get   222.523494  1144.647447   Topic8  -5.3554   0.5784\n",
              "\n",
              "[501 rows x 6 columns], token_table=      Topic      Freq        Term\n",
              "term                             \n",
              "7         4  0.889970  aboriginal\n",
              "7         5  0.106632  aboriginal\n",
              "15        1  0.997315    accident\n",
              "19        7  0.997984      accuse\n",
              "25        4  0.141650         act\n",
              "...     ...       ...         ...\n",
              "3695      5  0.081414       world\n",
              "3695      8  0.792045       world\n",
              "3696      5  0.115366       worry\n",
              "3696      7  0.882995       worry\n",
              "3714      8  0.998888        year\n",
              "\n",
              "[1023 rows x 3 columns], R=30, lambda_step=0.01, plot_opts={'xlab': 'PC1', 'ylab': 'PC2'}, topic_order=[2, 8, 6, 5, 1, 7, 3, 4])"
            ]
          },
          "metadata": {
            "tags": []
          },
          "execution_count": 31
        }
      ]
    },
    {
      "cell_type": "markdown",
      "metadata": {
        "id": "_irMNxoB1u1I",
        "colab_type": "text"
      },
      "source": [
        "## How to interpret this visualization?\n",
        "\n",
        "**Left panel:**\n",
        "- Each topic is represented by a circle\n",
        "\n",
        "- The size of each circle represents the prevalence of the topics, which is also annotated by the number on the circle. Number 1 means the mosst popular topic amount all the documents\n",
        "\n",
        "- The distance between two circles represent (an estimate of) the similarity between two topics (because they are high-dimensional data got mapped to the 2-dimensional space for visulization).\n",
        "\n",
        "**Right panel:**\n",
        "- The list of words represent most popular words inside the corresponding topics\n",
        "\n",
        "- If there is a longer blue bar than the red one, it means this word is not only appearing in this topic but also in other topics (maybe even more popular in other topics)\n",
        "\n",
        "- The value $\\lambda$ tries to keep the balance between choosing exclusive words and more generic words, by setting $\\lambda = 0$, the blue bar gonna disappear because the algorithm only pick the words exclusively included in that topic.\n",
        "\n",
        "\n"
      ]
    },
    {
      "cell_type": "code",
      "metadata": {
        "id": "kRkqCkGO0Cyo",
        "colab_type": "code",
        "colab": {
          "base_uri": "https://localhost:8080/",
          "height": 54
        },
        "outputId": "71aa75f0-7efb-45d0-e167-e4a05eb23276"
      },
      "source": [
        "# for TF-IDF vectorizer\n",
        "%%time\n",
        "tf_idf_LDA = LatentDirichletAllocation(n_components=num_topics, random_state=0)\n",
        "tf_idf_LDA.fit(vec_tfidf)"
      ],
      "execution_count": 32,
      "outputs": [
        {
          "output_type": "stream",
          "text": [
            "CPU times: user 2min 2s, sys: 47.7 ms, total: 2min 2s\n",
            "Wall time: 2min 2s\n"
          ],
          "name": "stdout"
        }
      ]
    },
    {
      "cell_type": "code",
      "metadata": {
        "id": "zTlUzaC2NFWO",
        "colab_type": "code",
        "colab": {
          "base_uri": "https://localhost:8080/",
          "height": 745
        },
        "outputId": "54c2d661-6367-4094-ba4f-11d6d2c9c46f"
      },
      "source": [
        "topicword_tfidf = get_topicword(tf_idf_LDA, tf_idf_vectorizer)\n",
        "# get top 15 keywords in each topic \n",
        "for n in range(1, 9):\n",
        "  print('\\033[35m Topic', n , '\\n \\033[30m')\n",
        "  print(get_top_keywords(topicword=topicword_tfidf, \n",
        "                 topic=n, top=15), '\\n')"
      ],
      "execution_count": 33,
      "outputs": [
        {
          "output_type": "stream",
          "text": [
            "\u001b[35m Topic 1 \n",
            " \u001b[30m\n",
            "['pay' 'change' 'farmer' 'cancer' 'abc' 'safety' 'sport' 'climate'\n",
            " 'strike' 'road' 'new' 'urge' 'market' 'land' 'report'] \n",
            "\n",
            "\u001b[35m Topic 2 \n",
            " \u001b[30m\n",
            "['man' 'charge' 'police' 'crash' 'court' 'murder' 'woman' 'car' 'find'\n",
            " 'death' 'miss' 'arrest' 'assault' 'accuse' 'guilty'] \n",
            "\n",
            "\u001b[35m Topic 3 \n",
            " \u001b[30m\n",
            "['water' 'rise' 'rate' 'murray' 'wind' 'plan' 'age' 'toll' 'royal' 'say'\n",
            " 'farm' 'resident' 'commission' 'school' 'question'] \n",
            "\n",
            "\u001b[35m Topic 4 \n",
            " \u001b[30m\n",
            "['interview' 'police' 'gold' 'jail' 'sentence' 'fire' 'extend' 'year'\n",
            " 'drug' 'david' 'michael' 'gas' 'claim' 'life' 'tour'] \n",
            "\n",
            "\u001b[35m Topic 5 \n",
            " \u001b[30m\n",
            "['rural' 'govt' 'indigenous' 'call' 'national' 'council' 'labor' 'new'\n",
            " 'plan' 'green' 'job' 'say' 'government' 'sale' 'community'] \n",
            "\n",
            "\u001b[35m Topic 6 \n",
            " \u001b[30m\n",
            "['win' 'cup' 'world' 'australia' 'day' 'final' 'new' 'sign' 'medium'\n",
            " 'beat' 'top' 'tiger' 'england' 'make' 'play'] \n",
            "\n",
            "\u001b[35m Topic 7 \n",
            " \u001b[30m\n",
            "['country' 'iraq' 'hour' 'market' 'kill' 'election' 'closer' 'bomb' 'say'\n",
            " 'drum' 'hill' 'vote' 'troop' 'new' 'australian'] \n",
            "\n",
            "\u001b[35m Topic 8 \n",
            " \u001b[30m\n",
            "['north' 'price' 'rain' 'plan' 'health' 'flood' 'boost' 'coast' 'port'\n",
            " 'west' 'qld' 'new' 'south' 'storm' 'get'] \n",
            "\n"
          ],
          "name": "stdout"
        }
      ]
    },
    {
      "cell_type": "code",
      "metadata": {
        "id": "w8g4nzmMmwnI",
        "colab_type": "code",
        "colab": {
          "base_uri": "https://localhost:8080/",
          "height": 861
        },
        "outputId": "06204c9a-05de-489a-dc10-fd1131317138"
      },
      "source": [
        "pyLDAvis.sklearn.prepare(tf_idf_LDA, vec_tfidf, tf_idf_vectorizer)"
      ],
      "execution_count": 34,
      "outputs": [
        {
          "output_type": "execute_result",
          "data": {
            "text/html": [
              "\n",
              "<link rel=\"stylesheet\" type=\"text/css\" href=\"https://cdn.rawgit.com/bmabey/pyLDAvis/files/ldavis.v1.0.0.css\">\n",
              "\n",
              "\n",
              "<div id=\"ldavis_el1391406561414583123994866516\"></div>\n",
              "<script type=\"text/javascript\">\n",
              "\n",
              "var ldavis_el1391406561414583123994866516_data = {\"mdsDat\": {\"x\": [0.1267299263735093, -0.2674443334700708, 0.10552414086695679, -0.018926358391114412, 0.10037735761129317, 0.07210723740338484, 0.07169702470943634, -0.19006499510339492], \"y\": [0.013796598486264508, 0.133726660852819, 0.08775696917723168, -0.28118895296067153, 0.07331866154357378, -0.030471035989147834, 0.05674272594825611, -0.05368162705832578], \"topics\": [1, 2, 3, 4, 5, 6, 7, 8], \"cluster\": [1, 1, 1, 1, 1, 1, 1, 1], \"Freq\": [14.036895959547543, 13.997009141713734, 13.675421277585201, 12.99685012851661, 11.93092028915948, 11.508123862779113, 11.059619519992223, 10.795159820706097]}, \"tinfo\": {\"Term\": [\"interview\", \"man\", \"charge\", \"crash\", \"murder\", \"police\", \"water\", \"court\", \"car\", \"country\", \"rural\", \"iraq\", \"cup\", \"win\", \"hour\", \"guilty\", \"jail\", \"assault\", \"arrest\", \"kill\", \"market\", \"dead\", \"indigenous\", \"woman\", \"rain\", \"price\", \"fatal\", \"closer\", \"world\", \"teen\", \"korea\", \"rain\", \"wine\", \"surgery\", \"solomon\", \"disaster\", \"entertainment\", \"semi\", \"infrastructure\", \"milk\", \"update\", \"mid\", \"accc\", \"brace\", \"spill\", \"conviction\", \"forecast\", \"department\", \"petrol\", \"wild\", \"brumbies\", \"glory\", \"auction\", \"motorcyclist\", \"bear\", \"childcare\", \"wet\", \"ore\", \"bounce\", \"ama\", \"mental\", \"improve\", \"asia\", \"loom\", \"ship\", \"oil\", \"economy\", \"price\", \"north\", \"clean\", \"harvest\", \"grower\", \"export\", \"season\", \"port\", \"cattle\", \"region\", \"response\", \"east\", \"west\", \"trump\", \"storm\", \"flood\", \"boost\", \"health\", \"coast\", \"south\", \"festival\", \"funding\", \"island\", \"live\", \"plan\", \"budget\", \"qld\", \"bushfire\", \"fund\", \"get\", \"council\", \"new\", \"say\", \"farmer\", \"fire\", \"guilty\", \"fatal\", \"injure\", \"stab\", \"mother\", \"plead\", \"theft\", \"robbery\", \"pleads\", \"shooting\", \"spring\", \"offence\", \"toddler\", \"fishing\", \"hewitt\", \"policeman\", \"elderly\", \"accident\", \"prime\", \"stabbing\", \"developer\", \"cow\", \"kidnap\", \"partner\", \"collision\", \"sky\", \"upper\", \"resigns\", \"haul\", \"pursuit\", \"crash\", \"assault\", \"teen\", \"charge\", \"man\", \"truck\", \"front\", \"dead\", \"officer\", \"murder\", \"car\", \"alleged\", \"sexual\", \"die\", \"arrest\", \"boy\", \"court\", \"driver\", \"inquest\", \"rape\", \"police\", \"miss\", \"woman\", \"find\", \"accuse\", \"shoot\", \"two\", \"death\", \"search\", \"jail\", \"trial\", \"kill\", \"face\", \"child\", \"drug\", \"sex\", \"attack\", \"asylum\", \"legal\", \"grant\", \"seeker\", \"chase\", \"mill\", \"prisoner\", \"telstra\", \"camp\", \"remote\", \"timor\", \"allow\", \"cabinet\", \"disability\", \"scandal\", \"taxi\", \"homeless\", \"johnson\", \"nbn\", \"kevin\", \"expand\", \"pole\", \"slide\", \"adam\", \"rba\", \"gunns\", \"katherine\", \"information\", \"avoids\", \"retail\", \"senate\", \"unemployment\", \"staff\", \"medical\", \"rural\", \"indigenous\", \"rudd\", \"dump\", \"debate\", \"speak\", \"leadership\", \"labor\", \"education\", \"national\", \"reform\", \"sale\", \"green\", \"govt\", \"aboriginal\", \"community\", \"job\", \"call\", \"council\", \"regional\", \"law\", \"action\", \"plan\", \"government\", \"new\", \"inquiry\", \"push\", \"opposition\", \"nsw\", \"seek\", \"say\", \"concern\", \"urge\", \"announce\", \"firefighter\", \"andrew\", \"rugby\", \"england\", \"sri\", \"domestic\", \"cricket\", \"socceroos\", \"story\", \"fiji\", \"hawk\", \"series\", \"lanka\", \"united\", \"warrior\", \"prize\", \"anniversary\", \"social\", \"africa\", \"bronco\", \"saint\", \"crow\", \"redbacks\", \"african\", \"summary\", \"mission\", \"tie\", \"origin\", \"york\", \"king\", \"cup\", \"beat\", \"tiger\", \"medium\", \"way\", \"coach\", \"history\", \"league\", \"sign\", \"obama\", \"team\", \"clear\", \"world\", \"clash\", \"win\", \"match\", \"final\", \"violence\", \"blue\", \"play\", \"battle\", \"day\", \"top\", \"australia\", \"star\", \"aussie\", \"weather\", \"name\", \"first\", \"lead\", \"make\", \"new\", \"return\", \"back\", \"test\", \"take\", \"cancer\", \"sport\", \"climate\", \"flu\", \"grain\", \"bird\", \"reef\", \"industrial\", \"recovery\", \"chris\", \"raider\", \"analysis\", \"kangaroo\", \"farewell\", \"know\", \"hundred\", \"vaccine\", \"approach\", \"loan\", \"europe\", \"barrier\", \"outbreak\", \"count\", \"praise\", \"abattoir\", \"ride\", \"cooper\", \"joyce\", \"virus\", \"malcolm\", \"tribute\", \"forum\", \"dispute\", \"patient\", \"creek\", \"underway\", \"critical\", \"horse\", \"pay\", \"safety\", \"rally\", \"coal\", \"dairy\", \"highlight\", \"farmer\", \"strike\", \"change\", \"abc\", \"trade\", \"land\", \"turnbull\", \"road\", \"worker\", \"urge\", \"market\", \"business\", \"one\", \"report\", \"new\", \"fear\", \"plan\", \"call\", \"council\", \"hour\", \"iraq\", \"closer\", \"drum\", \"troop\", \"friday\", \"march\", \"afghan\", \"stock\", \"tuesday\", \"monday\", \"thursday\", \"august\", \"september\", \"october\", \"june\", \"july\", \"capital\", \"april\", \"marriage\", \"december\", \"exchange\", \"november\", \"politics\", \"february\", \"baghdad\", \"funeral\", \"iraqi\", \"master\", \"federer\", \"soldier\", \"country\", \"wednesday\", \"grandstand\", \"afghanistan\", \"step\", \"bomb\", \"hill\", \"post\", \"market\", \"vote\", \"election\", \"kill\", \"parliament\", \"profit\", \"campaign\", \"loss\", \"say\", \"attack\", \"australian\", \"new\", \"party\", \"wind\", \"age\", \"commission\", \"bull\", \"quarter\", \"murray\", \"supply\", \"williams\", \"economic\", \"israeli\", \"chopper\", \"confidence\", \"finance\", \"darling\", \"consumer\", \"cane\", \"evacuate\", \"snub\", \"brown\", \"flow\", \"label\", \"mum\", \"limit\", \"credit\", \"apology\", \"van\", \"docker\", \"flee\", \"college\", \"kohler\", \"gaza\", \"royal\", \"toll\", \"receive\", \"fisherman\", \"water\", \"wood\", \"spot\", \"building\", \"interest\", \"rate\", \"rise\", \"care\", \"farm\", \"resident\", \"question\", \"save\", \"rescue\", \"plan\", \"shire\", \"school\", \"say\", \"art\", \"china\", \"council\", \"river\", \"show\", \"new\", \"interview\", \"david\", \"celebrate\", \"doubt\", \"corruption\", \"office\", \"paul\", \"happy\", \"custody\", \"surprise\", \"love\", \"ben\", \"pope\", \"bust\", \"manager\", \"trading\", \"detain\", \"craig\", \"arson\", \"cast\", \"uranium\", \"log\", \"chamber\", \"offender\", \"abduction\", \"athlete\", \"davis\", \"outside\", \"singapore\", \"casino\", \"historic\", \"muslim\", \"field\", \"destroy\", \"carbon\", \"extend\", \"chance\", \"rio\", \"michael\", \"james\", \"stage\", \"fine\", \"shop\", \"sentence\", \"drink\", \"gas\", \"scott\", \"gold\", \"killer\", \"smith\", \"investigation\", \"jail\", \"india\", \"tour\", \"drug\", \"year\", \"life\", \"police\", \"fire\", \"john\", \"claim\", \"investigate\", \"appeal\", \"win\", \"mine\", \"tax\", \"attack\"], \"Freq\": [773.0, 844.0, 618.0, 426.0, 372.0, 987.0, 432.0, 507.0, 331.0, 246.0, 305.0, 213.0, 263.0, 532.0, 201.0, 207.0, 357.0, 222.0, 278.0, 457.0, 356.0, 219.0, 240.0, 455.0, 172.0, 245.0, 159.0, 142.0, 323.0, 171.0, 91.86092477362452, 171.31572367079016, 70.08947137858861, 62.31465479448447, 58.81712845786478, 63.27169119867228, 54.320460700079195, 54.161102880575946, 52.02815099544752, 53.32300540932279, 50.75257322930825, 50.64960592865401, 47.41214852779017, 46.768706352138224, 44.650617606933984, 44.33375181059567, 44.16878194327984, 42.63224720790576, 58.11622587940617, 93.53492013164123, 41.82555423515774, 40.65517930240646, 39.5218854586537, 34.664596744234046, 34.654662586528595, 33.67674153633742, 32.689033374344994, 32.41251416414316, 31.114078881615345, 30.99755646541148, 89.78727984830662, 64.80285439186682, 47.618799618302404, 64.13086676234455, 81.6338803661752, 101.02641632312306, 62.53956574776672, 200.33130399152327, 201.4910187348149, 86.46881967806965, 64.49464015571138, 90.1894563325767, 97.26768933750743, 118.72013640563932, 131.279052535652, 86.24177934772192, 61.92247649599067, 64.89403408756988, 103.58378591159848, 126.7140808280743, 103.06068198027435, 121.01830749647785, 150.75497670811032, 149.2838590359248, 157.74316774079796, 133.72574188132208, 123.85717944768956, 76.63455486980888, 103.44496477436377, 90.3447200842984, 89.21983523019267, 162.9118308411549, 104.84994336051575, 126.69966745851487, 89.0972892570822, 107.30752823142043, 119.531612404888, 118.17247738875432, 123.9930173270389, 106.5096657232135, 92.89334508549034, 94.57583073997706, 206.226410261707, 159.0272606426931, 111.73685116445591, 109.05619120306145, 97.78819025817945, 93.51345892588884, 70.13717109674894, 74.13550410862447, 60.137107882584154, 64.8723327165383, 52.05445642224974, 49.42089508491586, 49.46923341670223, 46.568682882823474, 44.82798268295468, 44.63312081710797, 45.62484611834569, 134.62394751632988, 41.926572949716295, 41.52929296393435, 40.91564982956537, 38.611992363157896, 37.61795360590769, 34.036636181181805, 32.80035087531525, 32.713061320583904, 32.5162967876358, 32.51133029497462, 32.37737402201836, 32.34387715418033, 413.527478157414, 213.50636840962454, 164.222172201423, 574.4908052983653, 778.9015129494009, 109.77634314479933, 98.35101239939294, 204.45487243632542, 137.18672625922127, 335.9758600023336, 294.05024913008174, 58.84551013203497, 66.02960388225615, 161.7635958956998, 227.405318755289, 117.87529659112435, 375.529463430966, 190.65403855757194, 96.89698020458815, 78.22544249721612, 570.8747338407337, 241.1672540817798, 299.23871220443965, 279.2124667278783, 209.0183993561304, 126.78603706999681, 179.59117298343608, 251.48241588642227, 161.68754286404635, 201.3662105378385, 163.75253860526954, 202.74159229984545, 197.84895092954855, 180.33690863477298, 153.7453844184765, 138.38156695149254, 141.74682096126583, 120.7720925704868, 104.79351129338414, 94.45482755473829, 91.74827906064877, 72.07829319192938, 70.74500525843233, 66.44659716555633, 66.18872716546586, 64.18966318065152, 55.9225265346311, 55.37139931026775, 51.910438702443486, 50.54947409291136, 49.73346309289457, 50.288951551334115, 57.81885467964354, 45.485954327797174, 43.248053412173036, 42.74120824554869, 41.10048523659671, 38.70849842213661, 38.576871441009104, 38.210857612466356, 37.4560733984035, 36.512345149617374, 36.18938849134787, 35.91998221320085, 38.053430697828695, 35.05625578765149, 34.84428486581123, 79.98120084407208, 36.7925412096652, 96.84224311772341, 74.1334699333483, 257.37555751451237, 204.96886329307438, 115.52213949581612, 83.41789829492303, 105.3248822388147, 99.84274998194836, 58.94556898230187, 179.35075711283855, 81.87754529052964, 184.8174597538975, 73.67447082284195, 121.4801902797996, 157.5176706138981, 243.46287446461088, 83.60111718437227, 121.34966882104142, 144.0759578430224, 202.21244279133248, 184.35707719772736, 90.78188505752907, 112.42396811066024, 96.36012432032342, 163.02129517973313, 122.46651522930833, 171.8185425417156, 100.22665047320548, 105.24925236476005, 98.73744814922225, 116.19591210576935, 107.16516857900427, 127.88504782726605, 100.41898678674013, 99.34554095346577, 86.13217416108992, 82.75447712814633, 79.31542409792752, 81.94037136548327, 135.86008356295997, 73.54810822568464, 71.84665694366787, 91.30632500933007, 69.42026863252703, 68.7428531250981, 84.74381132529672, 59.811222696632605, 58.30122256234344, 57.813899626550786, 54.63660292009363, 66.89951096649574, 52.7469959093135, 50.40425842963579, 50.14056562150602, 50.1260281999728, 45.81360715938619, 45.40858940579149, 44.21547057212314, 43.855614576520225, 44.93063678164515, 41.28131139121229, 41.18860569059527, 40.151574177086005, 69.28988467003163, 38.71967197300021, 87.37703296931535, 242.09769327860417, 141.34371589793793, 137.16706155420945, 142.38921844498742, 100.7985198509718, 110.14971513168831, 68.05866348165807, 98.88313633997743, 145.4978290998584, 85.70786799452961, 113.01959408507884, 110.17849818316935, 229.82985650669576, 113.00513969738739, 340.90268989348374, 97.38117963787197, 174.71982362364886, 106.19739789529449, 114.38265341426631, 121.4598641734115, 106.84205813225165, 177.5343185577727, 138.02808642278373, 188.8556128975262, 102.2590054477678, 120.76790749179627, 108.53728896401677, 105.90677156533559, 116.74552714489253, 117.42192071156713, 122.35638449346432, 150.16862516332492, 110.39227903049049, 119.24832957200738, 109.37780832121454, 109.99005428650801, 132.15393466761608, 125.05745225861062, 122.81852778250177, 90.9207901407418, 82.47683229461103, 80.92101653566785, 62.13734547378337, 61.64831499577604, 59.19438795662064, 58.04881229297362, 55.1221550090869, 54.57349998939574, 54.34847631759066, 52.15692385214885, 51.99048945752339, 63.1820146752281, 48.49984557867457, 48.067458014429945, 46.5428288996369, 46.017833008037755, 45.591413201426136, 45.55390916150422, 45.0561010748533, 71.06535491887429, 43.80028075873546, 43.58093743604289, 43.35534237599544, 41.35467933257249, 41.205684564530515, 39.54989534031828, 58.75245257666718, 69.6692253258798, 86.63445163877358, 86.83931883464301, 63.09784707528194, 54.06678514104903, 56.655245310694745, 70.64571064505428, 153.3582773492868, 125.90823892424426, 89.60170170382747, 89.73117624355402, 81.83595830742688, 86.21532184478576, 135.90925372927174, 111.70355890171965, 147.78090501912433, 129.18682694911294, 88.54292741708088, 97.95771007191709, 70.51690987380746, 108.69144579938349, 94.51925536246901, 103.91501460025621, 99.9963254696586, 87.48388006714065, 87.55275350453135, 95.26220582530225, 106.1018560935692, 86.8238912336509, 93.22552292508072, 91.53924557607539, 83.85716847511507, 200.9925354864676, 212.21232948174142, 141.6331071267232, 118.81754583930683, 108.15165304565221, 97.92444848110873, 95.25249504152535, 87.63632142630584, 83.17479940385272, 80.79008428892247, 77.87389619902629, 73.6116289456397, 68.42800828250053, 68.07356998725236, 67.5700761502561, 66.5285773468602, 65.68231412811288, 61.812492177895024, 57.83742646676261, 56.59135066988686, 56.21804272317783, 55.72303618513632, 55.411495172223724, 54.16157538718028, 53.44291599923552, 53.16207817638056, 51.34554818422303, 80.42248384057115, 52.29382476771517, 48.50921100282561, 103.24228142223913, 228.44602175556847, 87.31404966752527, 99.85793363438344, 68.24280403891525, 89.38170165581415, 131.76497939582268, 117.8757539882823, 89.33698819357939, 199.55255562311768, 112.43832931654069, 167.7721871923703, 187.87406400667606, 92.5738459378234, 87.5297834634523, 90.64525034535086, 78.65595451039646, 121.87965278967305, 102.52145985524481, 103.27062333635851, 106.78022542736555, 84.66025292426811, 123.77824230866048, 119.13834464840683, 102.85568952979531, 93.43982831498394, 81.87833319920625, 132.81803981303224, 68.81420667478001, 68.81306502283485, 68.10851610172706, 58.727616130645856, 57.34801071434008, 56.18843365642967, 55.51959041127511, 54.01610480142524, 53.582480855590696, 49.14148077598973, 47.47452329857422, 48.39106682112022, 65.11133356939425, 52.02798894421574, 43.48527223099975, 43.14559802681651, 51.97740052120312, 41.81065917726346, 40.48765856511228, 50.53481293255464, 41.398491263508646, 39.66202326191624, 39.638797007265104, 39.2543335104185, 55.44136323020911, 113.74039249108647, 115.52435307952157, 63.11006343679582, 59.57728352921125, 290.3801074312464, 55.380617265061396, 73.34370355410611, 68.84988596226333, 84.6822898021461, 138.81892276373563, 172.8270763482358, 89.33961289637512, 109.10334874395764, 103.56317643181372, 94.53302427543464, 79.04179749653713, 84.66128549736453, 122.30320318201986, 71.11739564124906, 95.10288570134462, 109.38007345764113, 67.55621580758806, 79.4835097360332, 88.0270949658568, 69.77631570626605, 72.59920728940592, 72.32733733529828, 772.2015152534397, 107.91644173136595, 85.49001341977973, 85.01793529603894, 59.884396478854626, 64.2258373795136, 58.65380604275184, 63.26567640263809, 56.76556329032174, 55.81121152959552, 56.501168524157656, 53.50151142491604, 50.32266206413561, 47.68421119865511, 45.74383038758378, 45.455567664659604, 41.138940022414936, 39.361583643946744, 39.27459446052832, 38.36958279740795, 52.40614303857921, 37.2027918495654, 36.7690937966918, 50.02270678849095, 36.44738087633254, 36.363101683898364, 36.15723514125327, 38.05256397333101, 35.28354631675998, 34.54925708630066, 49.58660182144765, 43.659030494189956, 58.05932804686621, 69.26583215352517, 79.58740121898327, 116.84879056976516, 64.35321682152308, 60.909924424196625, 97.81166990699315, 69.50469955773677, 69.01373090806023, 76.14704733010423, 63.08501314477549, 122.7321340156341, 74.70080730468658, 97.20465048898903, 71.22386348592725, 135.26823420555547, 69.12225039926447, 74.55277447142767, 78.37341576532988, 124.95011316197717, 81.10055956223279, 86.22922238086488, 108.54717806892249, 113.09103429430135, 86.98039440210177, 150.72131290711292, 122.50813515697895, 75.31829278789361, 95.36558879385058, 76.33365271044242, 75.99204314210147, 81.40713502299076, 74.85480625376897, 72.77935351204533, 74.36242529113518], \"Total\": [773.0, 844.0, 618.0, 426.0, 372.0, 987.0, 432.0, 507.0, 331.0, 246.0, 305.0, 213.0, 263.0, 532.0, 201.0, 207.0, 357.0, 222.0, 278.0, 457.0, 356.0, 219.0, 240.0, 455.0, 172.0, 245.0, 159.0, 142.0, 323.0, 171.0, 92.72941687525756, 172.94027583732128, 70.95814641823561, 63.183421254814434, 59.6885691542883, 64.2788913764615, 55.18875832365302, 55.02998065875392, 52.89659662853766, 54.22649849723891, 51.62101436727915, 51.51805584161704, 48.28075896804067, 47.637208705024186, 45.51908999053627, 45.20261048538444, 45.03745292971309, 43.50081042051535, 59.302741267780775, 95.47372617947667, 42.694085606879064, 41.523776302970056, 40.3991783338436, 35.53318539889302, 35.52329583765011, 34.54533561696215, 33.55738604284448, 33.28086590018985, 31.982662003053253, 31.866019416107918, 92.35119451710693, 67.4918918586189, 49.51039055346668, 67.71725407423074, 87.75784735033226, 110.15278286111611, 67.79579169722625, 245.0214696738923, 252.51533446985428, 98.47796720789945, 70.82935512155723, 105.63681322230886, 115.76456591215252, 156.08995318322636, 178.34030741559127, 107.05496285739542, 69.26392275274138, 73.86433191834196, 142.36833999275174, 189.25653692761762, 147.3148053909195, 189.38845664664905, 281.7484687835496, 286.55091834595646, 333.68305533490764, 283.2674361041844, 264.13386524313506, 103.51712246605192, 203.3160608798124, 151.4740639812248, 148.40329534564174, 641.0797444823048, 218.89146949202242, 359.20022227173325, 151.31282561108335, 286.90694809325197, 428.7297385052567, 554.6224010276605, 827.0565897061749, 742.7682796827618, 296.15120711001015, 539.2393739822155, 207.0946488585796, 159.8954804588604, 112.60540126940803, 109.92440447983635, 98.65655711712616, 94.38168463824292, 71.13226636382704, 75.20276924816471, 61.00552929354521, 65.82589349112796, 52.922920665545895, 50.28915247601911, 50.389038100998796, 47.437350926497075, 45.69667357382374, 45.50295051090236, 46.527616961852395, 137.3082635169066, 42.795263574609535, 42.39745990413247, 41.784515948005435, 39.480513971201226, 38.48665979787702, 34.90494851447448, 33.66864916404687, 33.58165703210565, 33.384789820546224, 33.38003275736431, 33.245822921018934, 33.212144814592484, 426.20267794734025, 222.47271073466987, 171.08127174143996, 618.3913738413846, 844.3559867263044, 115.15669421333622, 102.942044306082, 219.9709828106206, 146.1006856055536, 372.8662668970631, 331.14452045477617, 61.018465850072765, 69.15527639643058, 186.9376963438683, 278.69314328885923, 134.20853378597144, 507.6325747739941, 238.0291814325685, 110.1179262991068, 86.13863931813282, 987.4834525067181, 346.156922061627, 455.71440612294725, 442.1677726667927, 303.3366880920197, 160.04905180683159, 276.07907943386243, 469.06858597628377, 240.20000486939196, 357.6599760171341, 270.8475209599312, 457.0488768116992, 437.10341617148663, 355.12151227154305, 311.05424136207625, 233.07659691562066, 401.13055036896566, 121.63618727410672, 105.70556070264635, 95.3219812221723, 92.61219865033955, 72.9427317115405, 71.60905253793223, 67.31085985129097, 67.05270992178012, 65.05384130376333, 56.78846724544383, 56.23548452241573, 52.77476486126456, 51.413541922625235, 50.5975987488741, 51.17735909701452, 58.847743451033274, 46.35005099942369, 44.11240110213315, 43.60512905833943, 41.964552130793074, 39.57317124190762, 39.440954740359665, 39.074892477897954, 38.326400484652005, 37.376757495469654, 37.05403990763312, 36.78415025017592, 38.97860203548206, 35.920567328662266, 35.70835125766612, 82.1704788632436, 37.71348675990622, 100.85801319154281, 79.62514251149737, 305.5488968492132, 240.63134280152326, 130.70045156536347, 93.75143867792949, 129.20043898422801, 123.49027765697805, 66.50223397000251, 266.91066077536834, 101.74244272460714, 298.4915536942083, 89.58674476175553, 182.85415239030564, 266.22136833822634, 506.1153774523816, 109.36518323925559, 203.7738533239229, 300.0183907742385, 610.1140361869745, 554.6224010276605, 141.0422564180371, 234.18216692243868, 167.72287413087685, 641.0797444823048, 312.55217577197016, 827.0565897061749, 191.58631110167758, 246.84731691425233, 201.84884773332485, 420.52489722815073, 306.31796647274456, 742.7682796827618, 277.63042691269493, 386.50056084681387, 86.99737815605337, 83.61957284503396, 80.1806005809996, 82.83544786378366, 137.44405597641784, 74.41297415908267, 72.71171797526772, 92.40589266317919, 70.28517889683881, 69.60789800143417, 85.93573334626362, 60.676100123439035, 59.16611087270912, 58.67875021346336, 55.50156001879316, 67.9614477778694, 53.61194104757107, 51.26933785303617, 51.00680473523985, 51.04843328341691, 46.67859285677771, 46.273506899428625, 45.08122651849, 44.720460242727334, 45.832726758289006, 42.14617191162372, 42.05371711141763, 41.01668015283549, 70.8201597694247, 39.5848658648766, 90.90143836514622, 263.25244824194164, 153.48272674769845, 151.5569219987802, 162.85948032132478, 111.4987370242496, 124.19821981005457, 73.01393106712999, 113.77899828296592, 180.7650509815714, 96.45484470648523, 134.16254409638586, 130.97880350529695, 323.987910131962, 135.67158115620978, 532.0842640431922, 113.37536700847122, 266.28203260271886, 135.84389539323328, 152.7557037932923, 178.75762142410102, 144.39438369836407, 364.02163845166615, 242.7936965916502, 451.64731626502015, 140.09857963886185, 232.23458390626894, 195.7768183816487, 182.45779285054218, 267.4984101596752, 276.6295735083172, 330.5575272735573, 827.0565897061749, 262.88708718807163, 512.868899640714, 286.5024062525336, 423.73235109661886, 133.015556918295, 125.91901039136388, 123.76257331332094, 91.78221188898114, 83.33842562163659, 81.78258369308178, 63.00274756931545, 62.50980409810397, 60.05588602580628, 58.91057552223613, 55.98389300069585, 55.43495335176718, 55.23716228108479, 53.01854028004577, 52.85219609697404, 64.26874370691007, 49.36129344301751, 48.92926277165209, 47.40453247500074, 46.881100200338324, 46.45335390914143, 46.41537824313741, 45.917895169075514, 72.44365272153374, 44.66176514935957, 44.44258417242968, 44.21695327965123, 42.21625401278813, 42.06715783065533, 40.41146653460056, 60.06301650335692, 71.75828023076136, 89.8699837000259, 93.20554589285256, 70.05570354834546, 58.003994437468265, 61.49929654367726, 81.9874741396221, 228.50676084928742, 180.54079558551484, 120.26675407631622, 123.27295322469197, 113.16552074487313, 130.70825698618037, 296.15120711001015, 217.34976350096161, 372.37851872859846, 293.85791567456914, 143.36829954105394, 179.78894786607717, 95.48289324844673, 283.61761709232405, 266.9880424208832, 386.50056084681387, 356.64866286885876, 257.06247135039797, 267.86992027290734, 414.82527387717903, 827.0565897061749, 281.70162034722017, 641.0797444823048, 610.1140361869745, 554.6224010276605, 201.85287925693598, 213.14116026446777, 142.49320234214707, 119.67759956309757, 109.01186396383247, 98.78468585716162, 96.14950326771134, 88.53101771174641, 84.04891419837375, 81.65019744852857, 78.73402165654512, 74.4718071575296, 69.28814322935142, 68.93369684324885, 68.43060273199394, 67.38882339319177, 66.54254675914228, 62.672694878486496, 58.6975794087663, 57.45158010664461, 57.07821909494484, 56.58318333710992, 56.27168683416293, 55.02195605053625, 54.303039150458446, 54.02220733637506, 52.20585910116705, 81.80243289262138, 53.20107116040459, 49.36951489062278, 106.38997073212829, 246.5336032705892, 91.975527219761, 107.62943401504769, 71.05363418372245, 96.7584242394139, 155.88075803372095, 138.47031648424527, 106.41119087901872, 356.64866286885876, 166.84626093958815, 326.67745453419377, 457.0488768116992, 125.5119235199938, 116.41808162745491, 170.62290345090162, 115.9176678901789, 742.7682796827618, 401.13055036896566, 442.16559981391384, 827.0565897061749, 163.51981729348793, 124.63814438202253, 119.9953228890587, 103.71278185125794, 94.29693752575481, 82.73520001925658, 134.2242948083941, 69.67118449337364, 69.6701299850763, 68.96549642249258, 59.58456411503501, 58.20494952691876, 57.045344644689784, 56.37643778927464, 54.87288412540852, 54.43932765149159, 49.99833744632817, 48.331439979689705, 49.27322944226186, 66.31691519516471, 53.02602420942732, 44.342667992712904, 44.002682281360244, 53.01524078320146, 42.667508248108604, 41.34455140753061, 51.61868964608065, 42.288630791612015, 40.51899982852985, 40.49568197286211, 40.11188207057208, 57.02538079598203, 121.33878725777498, 126.69753312439668, 67.77342798703957, 64.1744512352327, 432.41109348031716, 59.816638074177234, 84.87809136348393, 79.28300882574048, 104.84846961987812, 234.7701410280154, 340.21778386189294, 129.16178446044253, 210.7013343028297, 218.27748510470903, 191.9227362265035, 141.44018911456823, 169.89728195090757, 641.0797444823048, 124.24683416588651, 338.12473934194867, 742.7682796827618, 115.36758787415047, 285.76291306176967, 554.6224010276605, 150.54458893939199, 257.56143223521116, 827.0565897061749, 773.0602607300051, 108.77532170104531, 86.34890420635483, 86.12143309448122, 60.74323764830865, 65.16620840052892, 59.51264048292323, 64.20842550497203, 57.62432987642977, 56.670194453691195, 57.38732683718273, 54.360231563550364, 51.181510136003034, 48.54299723805793, 46.603145880515115, 46.3144771423884, 42.02202903987361, 40.22041129854229, 40.133332424655606, 39.22836995167828, 53.58954394988019, 38.061677781297256, 37.62806642379319, 51.20060990499492, 37.306184078360914, 37.221842018472536, 37.01611263343456, 38.9698809279522, 36.14242040279606, 35.40810930223169, 50.854941306648264, 44.79762342021561, 59.928669054901306, 71.78741436153503, 87.68757768382011, 134.34569590671833, 70.31830241661649, 66.36678894894243, 114.8493592396897, 79.66427618362619, 79.05675253937581, 90.6043628278715, 72.88829429374354, 180.69520386237622, 92.82956046842622, 136.11959663783972, 88.64993762629936, 244.46251883846946, 89.66413566636444, 104.27944409321347, 125.58365481725664, 357.6599760171341, 143.70770467398242, 169.1738097937545, 311.05424136207625, 398.19473062358975, 187.45165242187772, 987.4834525067181, 539.2393739822155, 127.60111128852469, 343.55107426580395, 176.56667090240052, 214.4189066897659, 532.0842640431922, 281.8988955396002, 187.31344987260866, 401.13055036896566], \"Category\": [\"Default\", \"Default\", \"Default\", \"Default\", \"Default\", \"Default\", \"Default\", \"Default\", \"Default\", \"Default\", \"Default\", \"Default\", \"Default\", \"Default\", \"Default\", \"Default\", \"Default\", \"Default\", \"Default\", \"Default\", \"Default\", \"Default\", \"Default\", \"Default\", \"Default\", \"Default\", \"Default\", \"Default\", \"Default\", \"Default\", \"Topic1\", \"Topic1\", \"Topic1\", \"Topic1\", \"Topic1\", \"Topic1\", \"Topic1\", \"Topic1\", \"Topic1\", \"Topic1\", \"Topic1\", \"Topic1\", \"Topic1\", \"Topic1\", \"Topic1\", \"Topic1\", \"Topic1\", \"Topic1\", \"Topic1\", \"Topic1\", \"Topic1\", \"Topic1\", \"Topic1\", \"Topic1\", \"Topic1\", \"Topic1\", \"Topic1\", \"Topic1\", \"Topic1\", \"Topic1\", \"Topic1\", \"Topic1\", \"Topic1\", \"Topic1\", \"Topic1\", \"Topic1\", \"Topic1\", \"Topic1\", \"Topic1\", \"Topic1\", \"Topic1\", \"Topic1\", \"Topic1\", \"Topic1\", \"Topic1\", \"Topic1\", \"Topic1\", \"Topic1\", \"Topic1\", \"Topic1\", \"Topic1\", \"Topic1\", \"Topic1\", \"Topic1\", \"Topic1\", \"Topic1\", \"Topic1\", \"Topic1\", \"Topic1\", \"Topic1\", \"Topic1\", \"Topic1\", \"Topic1\", \"Topic1\", \"Topic1\", \"Topic1\", \"Topic1\", \"Topic1\", \"Topic1\", \"Topic1\", \"Topic1\", \"Topic1\", \"Topic2\", \"Topic2\", \"Topic2\", \"Topic2\", \"Topic2\", \"Topic2\", \"Topic2\", \"Topic2\", \"Topic2\", \"Topic2\", \"Topic2\", \"Topic2\", \"Topic2\", \"Topic2\", \"Topic2\", \"Topic2\", \"Topic2\", \"Topic2\", \"Topic2\", \"Topic2\", \"Topic2\", \"Topic2\", \"Topic2\", \"Topic2\", \"Topic2\", \"Topic2\", \"Topic2\", \"Topic2\", \"Topic2\", \"Topic2\", \"Topic2\", \"Topic2\", \"Topic2\", \"Topic2\", \"Topic2\", \"Topic2\", \"Topic2\", \"Topic2\", \"Topic2\", \"Topic2\", \"Topic2\", \"Topic2\", \"Topic2\", \"Topic2\", \"Topic2\", \"Topic2\", \"Topic2\", \"Topic2\", \"Topic2\", \"Topic2\", \"Topic2\", \"Topic2\", \"Topic2\", \"Topic2\", \"Topic2\", \"Topic2\", \"Topic2\", \"Topic2\", \"Topic2\", \"Topic2\", \"Topic2\", \"Topic2\", \"Topic2\", \"Topic2\", \"Topic2\", \"Topic2\", \"Topic2\", \"Topic3\", \"Topic3\", \"Topic3\", \"Topic3\", \"Topic3\", \"Topic3\", \"Topic3\", \"Topic3\", \"Topic3\", \"Topic3\", \"Topic3\", \"Topic3\", \"Topic3\", \"Topic3\", \"Topic3\", \"Topic3\", \"Topic3\", \"Topic3\", \"Topic3\", \"Topic3\", \"Topic3\", \"Topic3\", \"Topic3\", \"Topic3\", \"Topic3\", \"Topic3\", \"Topic3\", \"Topic3\", \"Topic3\", \"Topic3\", \"Topic3\", \"Topic3\", \"Topic3\", \"Topic3\", \"Topic3\", \"Topic3\", \"Topic3\", \"Topic3\", \"Topic3\", \"Topic3\", \"Topic3\", \"Topic3\", \"Topic3\", \"Topic3\", \"Topic3\", \"Topic3\", \"Topic3\", \"Topic3\", \"Topic3\", \"Topic3\", \"Topic3\", \"Topic3\", \"Topic3\", \"Topic3\", \"Topic3\", \"Topic3\", \"Topic3\", \"Topic3\", \"Topic3\", \"Topic3\", \"Topic3\", \"Topic3\", \"Topic3\", \"Topic3\", \"Topic3\", \"Topic3\", \"Topic3\", \"Topic4\", \"Topic4\", \"Topic4\", \"Topic4\", \"Topic4\", \"Topic4\", \"Topic4\", \"Topic4\", \"Topic4\", \"Topic4\", \"Topic4\", \"Topic4\", \"Topic4\", \"Topic4\", \"Topic4\", \"Topic4\", \"Topic4\", \"Topic4\", \"Topic4\", \"Topic4\", \"Topic4\", \"Topic4\", \"Topic4\", \"Topic4\", \"Topic4\", \"Topic4\", \"Topic4\", \"Topic4\", \"Topic4\", \"Topic4\", \"Topic4\", \"Topic4\", \"Topic4\", \"Topic4\", \"Topic4\", \"Topic4\", \"Topic4\", \"Topic4\", \"Topic4\", \"Topic4\", \"Topic4\", \"Topic4\", \"Topic4\", \"Topic4\", \"Topic4\", \"Topic4\", \"Topic4\", \"Topic4\", \"Topic4\", \"Topic4\", \"Topic4\", \"Topic4\", \"Topic4\", \"Topic4\", \"Topic4\", \"Topic4\", \"Topic4\", \"Topic4\", \"Topic4\", \"Topic4\", \"Topic4\", \"Topic4\", \"Topic4\", \"Topic4\", \"Topic4\", \"Topic4\", \"Topic4\", \"Topic5\", \"Topic5\", \"Topic5\", \"Topic5\", \"Topic5\", \"Topic5\", \"Topic5\", \"Topic5\", \"Topic5\", \"Topic5\", \"Topic5\", \"Topic5\", \"Topic5\", \"Topic5\", \"Topic5\", \"Topic5\", \"Topic5\", \"Topic5\", \"Topic5\", \"Topic5\", \"Topic5\", \"Topic5\", \"Topic5\", \"Topic5\", \"Topic5\", \"Topic5\", \"Topic5\", \"Topic5\", \"Topic5\", \"Topic5\", \"Topic5\", \"Topic5\", \"Topic5\", \"Topic5\", \"Topic5\", \"Topic5\", \"Topic5\", \"Topic5\", \"Topic5\", \"Topic5\", \"Topic5\", \"Topic5\", \"Topic5\", \"Topic5\", \"Topic5\", \"Topic5\", \"Topic5\", \"Topic5\", \"Topic5\", \"Topic5\", \"Topic5\", \"Topic5\", \"Topic5\", \"Topic5\", \"Topic5\", \"Topic5\", \"Topic5\", \"Topic5\", \"Topic5\", \"Topic5\", \"Topic5\", \"Topic5\", \"Topic5\", \"Topic6\", \"Topic6\", \"Topic6\", \"Topic6\", \"Topic6\", \"Topic6\", \"Topic6\", \"Topic6\", \"Topic6\", \"Topic6\", \"Topic6\", \"Topic6\", \"Topic6\", \"Topic6\", \"Topic6\", \"Topic6\", \"Topic6\", \"Topic6\", \"Topic6\", \"Topic6\", \"Topic6\", \"Topic6\", \"Topic6\", \"Topic6\", \"Topic6\", \"Topic6\", \"Topic6\", \"Topic6\", \"Topic6\", \"Topic6\", \"Topic6\", \"Topic6\", \"Topic6\", \"Topic6\", \"Topic6\", \"Topic6\", \"Topic6\", \"Topic6\", \"Topic6\", \"Topic6\", \"Topic6\", \"Topic6\", \"Topic6\", \"Topic6\", \"Topic6\", \"Topic6\", \"Topic6\", \"Topic6\", \"Topic6\", \"Topic6\", \"Topic6\", \"Topic6\", \"Topic7\", \"Topic7\", \"Topic7\", \"Topic7\", \"Topic7\", \"Topic7\", \"Topic7\", \"Topic7\", \"Topic7\", \"Topic7\", \"Topic7\", \"Topic7\", \"Topic7\", \"Topic7\", \"Topic7\", \"Topic7\", \"Topic7\", \"Topic7\", \"Topic7\", \"Topic7\", \"Topic7\", \"Topic7\", \"Topic7\", \"Topic7\", \"Topic7\", \"Topic7\", \"Topic7\", \"Topic7\", \"Topic7\", \"Topic7\", \"Topic7\", \"Topic7\", \"Topic7\", \"Topic7\", \"Topic7\", \"Topic7\", \"Topic7\", \"Topic7\", \"Topic7\", \"Topic7\", \"Topic7\", \"Topic7\", \"Topic7\", \"Topic7\", \"Topic7\", \"Topic7\", \"Topic7\", \"Topic7\", \"Topic7\", \"Topic7\", \"Topic7\", \"Topic7\", \"Topic7\", \"Topic7\", \"Topic7\", \"Topic7\", \"Topic7\", \"Topic7\", \"Topic8\", \"Topic8\", \"Topic8\", \"Topic8\", \"Topic8\", \"Topic8\", \"Topic8\", \"Topic8\", \"Topic8\", \"Topic8\", \"Topic8\", \"Topic8\", \"Topic8\", \"Topic8\", \"Topic8\", \"Topic8\", \"Topic8\", \"Topic8\", \"Topic8\", \"Topic8\", \"Topic8\", \"Topic8\", \"Topic8\", \"Topic8\", \"Topic8\", \"Topic8\", \"Topic8\", \"Topic8\", \"Topic8\", \"Topic8\", \"Topic8\", \"Topic8\", \"Topic8\", \"Topic8\", \"Topic8\", \"Topic8\", \"Topic8\", \"Topic8\", \"Topic8\", \"Topic8\", \"Topic8\", \"Topic8\", \"Topic8\", \"Topic8\", \"Topic8\", \"Topic8\", \"Topic8\", \"Topic8\", \"Topic8\", \"Topic8\", \"Topic8\", \"Topic8\", \"Topic8\", \"Topic8\", \"Topic8\", \"Topic8\", \"Topic8\", \"Topic8\", \"Topic8\", \"Topic8\", \"Topic8\", \"Topic8\", \"Topic8\", \"Topic8\", \"Topic8\", \"Topic8\", \"Topic8\"], \"logprob\": [30.0, 29.0, 28.0, 27.0, 26.0, 25.0, 24.0, 23.0, 22.0, 21.0, 20.0, 19.0, 18.0, 17.0, 16.0, 15.0, 14.0, 13.0, 12.0, 11.0, 10.0, 9.0, 8.0, 7.0, 6.0, 5.0, 4.0, 3.0, 2.0, 1.0, -5.7299, -5.1067, -6.0004, -6.118, -6.1757, -6.1027, -6.2553, -6.2582, -6.2984, -6.2738, -6.3232, -6.3252, -6.3913, -6.405, -6.4513, -6.4584, -6.4622, -6.4976, -6.1877, -5.7118, -6.5167, -6.545, -6.5733, -6.7045, -6.7047, -6.7334, -6.7631, -6.7716, -6.8125, -6.8163, -5.7527, -6.0788, -6.3869, -6.0892, -5.8479, -5.6348, -6.1144, -4.9502, -4.9444, -5.7904, -6.0836, -5.7483, -5.6727, -5.4734, -5.3728, -5.793, -6.1243, -6.0774, -5.6098, -5.4082, -5.6149, -5.4542, -5.2345, -5.2443, -5.1892, -5.3544, -5.431, -5.9111, -5.6111, -5.7465, -5.7591, -5.157, -5.5976, -5.4084, -5.7604, -5.5745, -5.4666, -5.478, -5.4299, -5.5819, -5.7187, -5.7008, -4.9184, -5.1783, -5.5312, -5.5555, -5.6645, -5.7092, -5.9969, -5.9414, -6.1507, -6.0749, -6.295, -6.347, -6.346, -6.4064, -6.4445, -6.4489, -6.4269, -5.3448, -6.5114, -6.5209, -6.5358, -6.5938, -6.6198, -6.7199, -6.7569, -6.7596, -6.7656, -6.7657, -6.7699, -6.7709, -4.2226, -4.8837, -5.1461, -3.8938, -3.5894, -5.5489, -5.6588, -4.927, -5.326, -4.4303, -4.5636, -6.1724, -6.0572, -5.1612, -4.8206, -5.4777, -4.319, -4.9969, -5.6737, -5.8877, -3.9002, -4.7618, -4.5461, -4.6154, -4.9049, -5.4048, -5.0566, -4.72, -5.1617, -4.9422, -5.149, -4.9354, -4.9598, -5.0525, -5.212, -5.3173, -5.2933, -5.4302, -5.5721, -5.676, -5.705, -5.9463, -5.965, -6.0277, -6.0316, -6.0622, -6.2001, -6.21, -6.2746, -6.3011, -6.3174, -6.3063, -6.1668, -6.4067, -6.4571, -6.4689, -6.5081, -6.568, -6.5714, -6.581, -6.6009, -6.6264, -6.6353, -6.6428, -6.5851, -6.6671, -6.6732, -5.8423, -6.6188, -5.651, -5.9182, -4.6735, -4.9012, -5.4746, -5.8002, -5.567, -5.6205, -6.1475, -5.0347, -5.8189, -5.0047, -5.9244, -5.4243, -5.1645, -4.7291, -5.798, -5.4254, -5.2537, -4.9148, -5.0072, -5.7156, -5.5018, -5.656, -5.1302, -5.4162, -5.0776, -5.6167, -5.5678, -5.6316, -5.4688, -5.5497, -5.373, -5.6147, -5.6255, -5.7173, -5.7573, -5.7998, -5.7672, -5.2616, -5.8753, -5.8987, -5.659, -5.933, -5.9428, -5.7336, -6.082, -6.1076, -6.116, -6.1725, -5.97, -6.2077, -6.2531, -6.2584, -6.2587, -6.3486, -6.3575, -6.3841, -6.3923, -6.3681, -6.4528, -6.455, -6.4805, -5.9349, -6.5168, -5.703, -4.6839, -5.222, -5.252, -5.2146, -5.5601, -5.4714, -5.9528, -5.5793, -5.193, -5.7222, -5.4456, -5.4711, -4.7359, -5.4458, -4.3416, -5.5946, -5.01, -5.5079, -5.4336, -5.3736, -5.5018, -4.994, -5.2457, -4.9322, -5.5457, -5.3793, -5.4861, -5.5106, -5.4132, -5.4074, -5.3663, -5.1614, -5.4692, -5.392, -5.4784, -5.4728, -5.2037, -5.2588, -5.2769, -5.5776, -5.6751, -5.6941, -5.9583, -5.9662, -6.0068, -6.0263, -6.0781, -6.0881, -6.0922, -6.1334, -6.1366, -5.9416, -6.2061, -6.215, -6.2472, -6.2586, -6.2679, -6.2687, -6.2797, -5.824, -6.308, -6.313, -6.3182, -6.3654, -6.369, -6.4101, -6.0143, -5.8439, -5.6259, -5.6236, -5.9429, -6.0974, -6.0506, -5.8299, -5.0548, -5.2521, -5.5922, -5.5908, -5.6829, -5.6308, -5.1756, -5.3718, -5.0919, -5.2264, -5.6041, -5.5031, -5.8318, -5.3991, -5.5388, -5.444, -5.4825, -5.6162, -5.6154, -5.531, -5.4232, -5.6237, -5.5526, -5.5709, -5.6585, -4.7483, -4.694, -5.0983, -5.2739, -5.368, -5.4673, -5.495, -5.5783, -5.6306, -5.6597, -5.6964, -5.7527, -5.8258, -5.8309, -5.8384, -5.8539, -5.8667, -5.9274, -5.9939, -6.0157, -6.0223, -6.0311, -6.0368, -6.0596, -6.0729, -6.0782, -6.113, -5.6642, -6.0947, -6.1698, -5.4145, -4.6202, -5.582, -5.4478, -5.8285, -5.5586, -5.1705, -5.2819, -5.5591, -4.7555, -5.3291, -4.9289, -4.8158, -5.5235, -5.5796, -5.5446, -5.6865, -5.2485, -5.4215, -5.4142, -5.3808, -5.6129, -5.1933, -5.2315, -5.3785, -5.4745, -5.6066, -5.1228, -5.7804, -5.7804, -5.7907, -5.9389, -5.9626, -5.9831, -5.995, -6.0225, -6.0306, -6.1171, -6.1516, -6.1325, -5.8357, -6.06, -6.2394, -6.2472, -6.061, -6.2786, -6.3108, -6.0891, -6.2885, -6.3314, -6.332, -6.3417, -5.9965, -5.2779, -5.2623, -5.8669, -5.9245, -4.3406, -5.9976, -5.7166, -5.7799, -5.5729, -5.0786, -4.8595, -5.5193, -5.3195, -5.3716, -5.4628, -5.6418, -5.5731, -5.2053, -5.7475, -5.4568, -5.317, -5.7988, -5.6362, -5.5341, -5.7665, -5.7268, -5.7306, -3.3383, -5.3062, -5.5392, -5.5447, -5.8952, -5.8252, -5.9159, -5.8402, -5.9487, -5.9656, -5.9533, -6.0079, -6.0691, -6.123, -6.1645, -6.1708, -6.2706, -6.3148, -6.317, -6.3403, -6.0286, -6.3712, -6.3829, -6.0751, -6.3917, -6.394, -6.3997, -6.3486, -6.4242, -6.4452, -6.0839, -6.2112, -5.9261, -5.7496, -5.6107, -5.2267, -5.8232, -5.8782, -5.4045, -5.7462, -5.7533, -5.6549, -5.8431, -5.1776, -5.6741, -5.4108, -5.7218, -5.0803, -5.7517, -5.6761, -5.6261, -5.1597, -5.5919, -5.5306, -5.3004, -5.2594, -5.5219, -4.9722, -5.1794, -5.6659, -5.4299, -5.6525, -5.657, -5.5881, -5.672, -5.7002, -5.6786], \"loglift\": [30.0, 29.0, 28.0, 27.0, 26.0, 25.0, 24.0, 23.0, 22.0, 21.0, 20.0, 19.0, 18.0, 17.0, 16.0, 15.0, 14.0, 13.0, 12.0, 11.0, 10.0, 9.0, 8.0, 7.0, 6.0, 5.0, 4.0, 3.0, 2.0, 1.0, 1.9541, 1.954, 1.9512, 1.9496, 1.9488, 1.9477, 1.9476, 1.9476, 1.9469, 1.9467, 1.9465, 1.9465, 1.9453, 1.9451, 1.9442, 1.9441, 1.944, 1.9433, 1.9433, 1.943, 1.9429, 1.9423, 1.9415, 1.9387, 1.9387, 1.938, 1.9373, 1.937, 1.9359, 1.9358, 1.9353, 1.9228, 1.9245, 1.9091, 1.8911, 1.877, 1.8828, 1.7621, 1.7378, 1.8334, 1.8698, 1.8054, 1.7894, 1.6898, 1.6571, 1.7473, 1.8514, 1.834, 1.6454, 1.5623, 1.6062, 1.5156, 1.3381, 1.3114, 1.2143, 1.2129, 1.2062, 1.6628, 1.2878, 1.4467, 1.4547, 0.5935, 1.2274, 0.9214, 1.4339, 0.98, 0.6862, 0.4173, 0.0658, 0.0213, 0.8041, 0.2227, 1.9621, 1.9609, 1.9586, 1.9584, 1.9575, 1.9571, 1.9522, 1.952, 1.952, 1.9517, 1.9498, 1.9489, 1.9479, 1.9478, 1.9471, 1.947, 1.9467, 1.9466, 1.9458, 1.9456, 1.9453, 1.9441, 1.9435, 1.9411, 1.9402, 1.9401, 1.94, 1.94, 1.9399, 1.9398, 1.9361, 1.9252, 1.9254, 1.8927, 1.8856, 1.9185, 1.9207, 1.8932, 1.9034, 1.8621, 1.8475, 1.9301, 1.9201, 1.8217, 1.7629, 1.8366, 1.6649, 1.7444, 1.8384, 1.87, 1.4183, 1.6049, 1.5457, 1.5066, 1.5939, 1.7333, 1.5363, 1.343, 1.5705, 1.3919, 1.4631, 1.1535, 1.1737, 1.2887, 1.2617, 1.445, 0.9261, 1.9824, 1.9809, 1.9804, 1.9802, 1.9776, 1.9774, 1.9766, 1.9766, 1.9762, 1.9742, 1.9741, 1.9731, 1.9726, 1.9723, 1.9721, 1.9719, 1.9708, 1.9698, 1.9696, 1.9688, 1.9675, 1.9674, 1.9672, 1.9666, 1.9662, 1.966, 1.9658, 1.9655, 1.9652, 1.9651, 1.9626, 1.9648, 1.9489, 1.9181, 1.818, 1.8292, 1.8661, 1.8728, 1.7853, 1.777, 1.8689, 1.592, 1.7724, 1.5102, 1.794, 1.5806, 1.4648, 1.2578, 1.7209, 1.4712, 1.2561, 0.8852, 0.8882, 1.549, 1.2557, 1.4353, 0.6203, 1.0526, 0.4181, 1.3417, 1.1371, 1.2745, 0.7033, 0.9393, 0.2303, 0.9726, 0.631, 2.0305, 2.0301, 2.0296, 2.0296, 2.0289, 2.0288, 2.0285, 2.0285, 2.0281, 2.028, 2.0265, 2.0261, 2.0257, 2.0256, 2.0248, 2.0247, 2.0242, 2.0234, 2.0233, 2.0222, 2.0218, 2.0216, 2.0211, 2.0209, 2.0206, 2.0197, 2.0197, 2.0191, 2.0186, 2.0184, 2.0009, 1.9567, 1.9581, 1.9407, 1.9061, 1.9396, 1.9204, 1.9702, 1.9001, 1.8234, 1.9223, 1.869, 1.8675, 1.6971, 1.8577, 1.5953, 1.8884, 1.6191, 1.7943, 1.7512, 1.654, 1.7393, 1.3224, 1.4757, 1.1685, 1.7256, 1.3866, 1.4506, 1.4965, 1.2113, 1.1836, 1.0466, 0.3343, 1.1728, 0.5817, 1.0775, 0.6918, 2.1195, 2.1192, 2.1184, 2.1166, 2.1156, 2.1154, 2.1122, 2.1122, 2.1116, 2.1113, 2.1105, 2.1104, 2.1098, 2.1097, 2.1096, 2.109, 2.1084, 2.1083, 2.1077, 2.1075, 2.1073, 2.1073, 2.1071, 2.1068, 2.1066, 2.1065, 2.1064, 2.1054, 2.1053, 2.1045, 2.104, 2.0965, 2.0894, 2.0553, 2.0214, 2.0557, 2.044, 1.9771, 1.7272, 1.7656, 1.8317, 1.8085, 1.8019, 1.7099, 1.3472, 1.4604, 1.2019, 1.3042, 1.6441, 1.5188, 1.8229, 1.1669, 1.0876, 0.8125, 0.8544, 1.0482, 1.0078, 0.6548, 0.0726, 0.9491, 0.1979, 0.2292, 0.2369, 2.1578, 2.1577, 2.1561, 2.1549, 2.1542, 2.1534, 2.1527, 2.152, 2.1517, 2.1515, 2.1511, 2.1505, 2.1496, 2.1496, 2.1495, 2.1493, 2.1491, 2.1483, 2.1474, 2.147, 2.1469, 2.1468, 2.1467, 2.1464, 2.1462, 2.1461, 2.1455, 2.1451, 2.1449, 2.1445, 2.1321, 2.0859, 2.1101, 2.0872, 2.1218, 2.0828, 1.994, 2.0011, 1.9872, 1.5814, 1.7674, 1.4958, 1.2731, 1.8577, 1.8769, 1.5296, 1.7743, 0.3548, 0.7979, 0.7078, 0.115, 1.5038, 2.1949, 2.1947, 2.1936, 2.1927, 2.1915, 2.1913, 2.1895, 2.1895, 2.1894, 2.1874, 2.187, 2.1867, 2.1866, 2.1861, 2.186, 2.1846, 2.184, 2.1838, 2.1835, 2.1829, 2.1823, 2.1822, 2.1821, 2.1816, 2.1809, 2.1806, 2.1806, 2.1805, 2.1805, 2.1803, 2.1737, 2.1372, 2.1095, 2.1306, 2.1275, 1.8037, 2.1248, 2.0558, 2.0608, 1.9883, 1.6764, 1.5246, 1.8332, 1.5437, 1.4563, 1.4937, 1.62, 1.5053, 0.5452, 1.6439, 0.9334, 0.2863, 1.6667, 0.9223, 0.3612, 1.4329, 0.9356, -0.2348, 2.225, 2.2181, 2.2161, 2.2132, 2.2118, 2.2115, 2.2115, 2.2113, 2.2111, 2.2108, 2.2105, 2.2101, 2.2091, 2.2082, 2.2075, 2.2074, 2.2048, 2.2045, 2.2044, 2.2039, 2.2037, 2.2032, 2.203, 2.2028, 2.2028, 2.2027, 2.2026, 2.2023, 2.202, 2.2015, 2.2008, 2.2003, 2.1944, 2.1903, 2.1291, 2.0865, 2.1374, 2.1403, 2.0655, 2.0896, 2.0902, 2.0522, 2.0816, 1.8393, 2.0088, 1.8894, 2.0072, 1.6343, 1.9659, 1.8905, 1.7546, 1.1744, 1.654, 1.5522, 1.1733, 0.9673, 1.4582, 0.3463, 0.7441, 1.6989, 0.9445, 1.3875, 1.1888, 0.3487, 0.9001, 1.2807, 0.5407]}, \"token.table\": {\"Topic\": [5, 1, 4, 5, 6, 8, 1, 3, 5, 7, 8, 1, 2, 5, 2, 3, 6, 7, 8, 3, 5, 6, 7, 3, 6, 4, 6, 4, 4, 7, 2, 8, 3, 1, 5, 4, 4, 4, 7, 1, 2, 3, 4, 7, 8, 5, 6, 2, 3, 4, 8, 8, 1, 2, 3, 4, 5, 6, 7, 8, 1, 3, 2, 8, 3, 8, 1, 2, 3, 4, 5, 6, 7, 8, 1, 6, 1, 2, 4, 5, 6, 7, 8, 1, 2, 3, 4, 5, 6, 7, 8, 1, 2, 3, 4, 5, 6, 7, 8, 3, 1, 2, 3, 4, 5, 6, 7, 8, 6, 5, 1, 4, 5, 1, 1, 4, 8, 8, 5, 1, 2, 3, 4, 7, 2, 6, 7, 1, 3, 4, 5, 6, 7, 1, 2, 3, 4, 5, 7, 8, 1, 4, 7, 1, 1, 2, 3, 5, 6, 7, 8, 3, 7, 8, 7, 1, 2, 3, 4, 5, 6, 7, 1, 2, 3, 5, 6, 7, 8, 8, 3, 1, 2, 3, 4, 5, 6, 7, 8, 3, 1, 2, 3, 4, 5, 6, 7, 8, 5, 7, 6, 2, 3, 5, 6, 8, 3, 8, 1, 3, 5, 7, 8, 8, 1, 5, 8, 8, 4, 7, 8, 1, 2, 3, 4, 5, 6, 7, 8, 2, 3, 8, 3, 1, 2, 3, 4, 5, 6, 7, 8, 1, 1, 2, 3, 4, 5, 6, 7, 8, 7, 5, 1, 2, 3, 4, 5, 6, 7, 8, 1, 4, 6, 7, 1, 2, 3, 6, 4, 5, 5, 6, 1, 2, 4, 6, 8, 1, 3, 5, 6, 7, 8, 1, 2, 4, 5, 6, 7, 8, 7, 2, 7, 1, 3, 5, 6, 7, 8, 1, 3, 4, 5, 6, 7, 8, 7, 7, 1, 5, 8, 1, 2, 3, 4, 5, 6, 7, 8, 5, 1, 6, 2, 3, 4, 6, 7, 8, 2, 8, 2, 5, 7, 2, 5, 4, 3, 5, 4, 1, 4, 8, 8, 1, 5, 7, 8, 8, 1, 2, 3, 4, 5, 6, 7, 8, 1, 2, 5, 6, 1, 2, 3, 4, 5, 6, 7, 8, 3, 4, 6, 7, 6, 1, 7, 8, 8, 2, 2, 5, 7, 8, 3, 1, 5, 8, 7, 4, 8, 2, 7, 8, 2, 3, 5, 8, 1, 2, 3, 5, 7, 8, 6, 1, 3, 4, 1, 2, 3, 4, 5, 7, 1, 5, 1, 3, 5, 6, 2, 1, 2, 3, 4, 5, 6, 7, 8, 1, 4, 1, 5, 7, 6, 3, 1, 5, 1, 4, 5, 8, 1, 2, 3, 4, 5, 6, 7, 8, 5, 1, 2, 3, 4, 5, 6, 7, 8, 1, 2, 3, 4, 5, 6, 7, 8, 2, 1, 2, 3, 4, 5, 6, 7, 8, 6, 6, 1, 4, 6, 7, 6, 7, 8, 4, 1, 3, 4, 5, 6, 7, 8, 7, 1, 2, 3, 4, 5, 6, 7, 8, 5, 7, 8, 1, 2, 3, 4, 5, 6, 7, 8, 4, 1, 2, 3, 4, 5, 6, 7, 8, 1, 7, 2, 7, 1, 2, 3, 4, 5, 6, 7, 7, 5, 1, 1, 5, 6, 2, 4, 8, 1, 3, 4, 5, 6, 7, 8, 1, 3, 5, 6, 7, 8, 6, 5, 6, 7, 8, 2, 7, 1, 2, 3, 4, 5, 6, 7, 8, 1, 1, 2, 5, 6, 8, 1, 2, 3, 4, 5, 6, 7, 8, 1, 2, 3, 4, 5, 6, 7, 8, 5, 2, 6, 3, 1, 3, 4, 5, 6, 7, 8, 1, 5, 7, 2, 3, 8, 1, 5, 7, 2, 4, 1, 3, 4, 5, 6, 7, 2, 4, 5, 6, 7, 2, 6, 3, 8, 3, 4, 3, 2, 5, 6, 5, 1, 7, 2, 4, 8, 3, 5, 6, 7, 8, 5, 3, 1, 2, 2, 4, 7, 1, 2, 3, 4, 5, 6, 7, 8, 1, 3, 7, 8, 1, 2, 5, 8, 2, 4, 8, 6, 6, 1, 2, 4, 5, 7, 7, 2, 3, 6, 8, 3, 8, 1, 2, 3, 4, 5, 6, 7, 8, 1, 4, 5, 6, 8, 3, 5, 6, 6, 5, 3, 3, 2, 1, 2, 3, 4, 5, 6, 7, 8, 2, 7, 8, 2, 4, 5, 7, 1, 7, 1, 3, 4, 5, 6, 7, 8, 1, 2, 3, 4, 5, 6, 7, 8, 4, 1, 2, 3, 4, 5, 6, 7, 8, 1, 2, 3, 4, 5, 6, 7, 8, 3, 6, 1, 4, 6, 8, 3, 1, 2, 3, 4, 5, 6, 7, 8, 7, 1, 4, 5, 7, 8, 5, 8, 1, 3, 1, 2, 3, 6, 8, 8, 1, 2, 3, 4, 5, 6, 7, 8, 5, 2, 3, 4, 7, 8, 8, 6, 1, 3, 5, 6, 7, 6, 6, 4, 6, 7, 8, 1, 3, 7, 4, 6, 1, 4, 7, 2, 3, 4, 5, 6, 8, 1, 1, 3, 1, 2, 3, 5, 6, 7, 8, 1, 2, 3, 4, 5, 7, 8, 4, 6, 2, 1, 7, 2, 8, 2, 7, 8, 1, 2, 3, 4, 5, 7, 8, 1, 3, 4, 5, 6, 7, 8, 3, 1, 2, 3, 4, 5, 6, 7, 8, 1, 2, 3, 5, 8, 6, 1, 2, 3, 4, 5, 6, 7, 8, 1, 4, 6, 2, 8, 8, 2, 3, 6, 1, 8, 1, 2, 3, 4, 5, 6, 7, 8, 1, 3, 4, 5, 6, 7, 1, 4, 6, 5, 8, 1, 3, 6, 2, 1, 2, 3, 4, 6, 8, 1, 4, 5, 8, 1, 2, 3, 4, 5, 6, 7, 8, 1, 1, 2, 3, 4, 5, 6, 7, 8, 4, 5, 6, 7, 8, 2, 2, 3, 1, 2, 3, 4, 5, 6, 7, 8, 2, 6, 8, 1, 3, 4, 5, 4, 6, 8, 4, 5, 1, 3, 6, 7, 2, 3, 4, 3, 6, 2, 1, 2, 3, 4, 5, 6, 7, 8, 1, 2, 3, 4, 5, 6, 7, 8, 7, 2, 3, 5, 6, 7, 5, 1, 5, 3, 5, 6, 2, 3, 8, 1, 3, 5, 6, 7, 3, 3, 4, 7, 5, 4, 5, 1, 3, 6, 1, 5, 1, 3, 5, 6, 7, 3, 1, 2, 3, 4, 5, 6, 7, 8, 1, 2, 4, 5, 7, 1, 2, 3, 4, 5, 7, 8, 2, 1, 2, 5, 7, 3, 1, 2, 3, 4, 5, 6, 7, 8, 5, 4, 6, 8, 1, 2, 3, 5, 6, 7, 1, 2, 3, 4, 5, 7, 8, 1, 2, 3, 5, 7, 2, 4, 7, 1, 3, 6, 4, 3, 5, 1, 3, 5, 6, 7, 4, 1, 2, 3, 5, 6, 7, 1, 3, 4, 5, 6, 7, 8, 1, 2, 3, 4, 5, 6, 7, 8, 3, 1, 2, 3, 4, 5, 6, 7, 8, 2, 4, 8, 1, 2, 3, 4, 7, 8, 1, 4, 8, 1, 2, 3, 4, 5, 6, 7, 8, 3, 1, 3, 6, 2, 8, 6, 4, 2, 3, 5, 6, 7, 8, 2, 7, 1, 4, 7, 1, 2, 3, 4, 5, 7, 2, 3, 5, 6, 8, 2, 7, 8, 1, 2, 3, 4, 5, 6, 7, 8, 3, 4, 5, 8, 8, 2, 3, 4, 5, 8, 7, 4, 4, 3, 6, 8, 1, 1, 2, 3, 4, 5, 7, 8, 3, 4, 5, 1, 5, 1, 2, 3, 7, 2, 4, 2, 2, 3, 4, 5, 6, 4, 8, 1, 2, 3, 4, 5, 6, 7, 8, 3, 4, 6, 6, 1, 2, 4, 5, 7, 4, 1, 3, 4, 5, 6, 7, 4, 7, 1, 8, 1, 2, 3, 4, 5, 6, 7, 8, 1, 2, 3, 5, 7, 8, 3, 4, 6, 7, 8, 2, 7, 8, 3, 1, 2, 3, 4, 5, 6, 7, 8, 2, 6, 4, 4, 7, 3, 2, 5, 7, 1, 2, 3, 4, 5, 6, 7, 8, 1, 2, 3, 4, 5, 6, 7, 8, 1, 3, 5, 6, 7, 8, 1, 2, 3, 4, 5, 6, 7, 8, 5, 6, 6, 2, 5, 1, 4, 6, 7, 8, 6, 1, 4, 5, 6, 7, 2, 3, 4, 5, 6, 8, 5, 7, 3, 4, 1, 2, 8, 1, 2, 3, 4, 5, 6, 7, 8, 5, 7, 2, 3, 4, 5, 1, 3, 6, 4, 1, 3, 5, 6, 7, 1, 4, 5, 1, 4, 5, 6, 7, 1, 2, 3, 4, 5, 6, 8, 1, 1, 7, 7, 1, 2, 3, 4, 5, 6, 7, 8, 7, 1, 1, 2, 3, 4, 5, 6, 7, 8, 2, 7, 1, 2, 3, 4, 5, 6, 7, 8, 1, 3, 4, 5, 6, 7, 8, 1, 2, 3, 4, 5, 6, 7, 8, 4], \"Freq\": [0.9851827363484971, 0.19397129347069977, 0.3096734685233979, 0.4389876641705311, 0.05444808237774029, 0.9649874649302834, 0.045718389087883844, 0.7680689366764486, 0.12801148944607477, 0.045718389087883844, 0.00914367781757677, 0.9734726836235431, 0.9831891871779269, 0.014565765735969287, 0.6890033688789999, 0.029670001530674638, 0.04285666887764115, 0.12857000663292342, 0.10879000561247368, 0.5723727338770123, 0.2981107988942772, 0.07750880771251208, 0.04769772782308436, 0.9653919891281424, 0.9940019020963321, 0.028147750962725232, 0.9570235327326578, 0.9794619890174475, 0.9818311757299405, 0.9917053192983286, 0.9669204097160965, 0.016388481520611804, 0.9853194066652636, 0.9728231064947461, 0.9921538068408366, 0.9852757328774691, 0.9752417740077952, 0.9885355377691463, 0.9674793567288359, 0.07928405317632095, 0.27516230220017274, 0.07928405317632095, 0.09793912451192589, 0.10726666017972836, 0.35444635537649366, 0.9810080365202135, 0.9881157039899652, 0.8145159128106699, 0.014352703309439116, 0.028705406618878233, 0.1363506814396716, 0.9717608193442877, 0.0866794581066267, 0.00866794581066267, 0.10401534972795204, 0.04333972905331335, 0.10401534972795204, 0.060675620674638685, 0.5894203151250615, 0.00866794581066267, 0.9694934631582921, 0.020197780482464418, 0.9619157302183692, 0.03595946655021941, 0.994769753242322, 0.967174058235319, 0.04238021757346369, 0.3539994644371673, 0.04985907949819258, 0.017450677824367402, 0.029915447698915545, 0.25677425941569176, 0.06481680334765035, 0.18447859414331252, 0.9901191472127244, 0.9814088937974925, 0.03875391790756043, 0.03875391790756043, 0.5210248963127568, 0.03875391790756043, 0.1377917081157704, 0.09042580845097432, 0.13348571723715258, 0.09742114790776578, 0.015498818985326375, 0.07085174393292057, 0.4184681126038121, 0.15277407285536, 0.11070584989518839, 0.028783520972748982, 0.10627761589938085, 0.09951022878875579, 0.0384471338502011, 0.1266493820947801, 0.2193748225570298, 0.10629501711526186, 0.23294439921004195, 0.08141745991807292, 0.09498703657108507, 0.9743721383841365, 0.15208565006504052, 0.029247240397123175, 0.17158381032978928, 0.2320281071505105, 0.09749080132374391, 0.1072398814561183, 0.12868785774734195, 0.07994245708547001, 0.9810780161201083, 0.9902406635691333, 0.1592859736708761, 0.7410260514253801, 0.09695667962575066, 0.9852689390071885, 0.03909234691838033, 0.9186701525819377, 0.03909234691838033, 0.9933732518573025, 0.990430924804006, 0.0065464003972852715, 0.08510320516470854, 0.0065464003972852715, 0.746289645290521, 0.15056720913756125, 0.1411335194767326, 0.8468011168603957, 0.006415159976215119, 0.5199773948032177, 0.18495840217832576, 0.024428468212231703, 0.0907343105025749, 0.09771387284892681, 0.07677518580987107, 0.9692751653080208, 0.879228739568678, 0.007451091013293881, 0.007451091013293881, 0.022353273039881643, 0.037255455066469406, 0.052157637093057166, 0.9866237186781899, 0.9854624397342093, 0.9801420920848151, 0.9837428159658904, 0.47968977614190106, 0.027410844350965774, 0.15075964393031177, 0.20558133263224332, 0.059390162760425844, 0.04111626652644866, 0.04111626652644866, 0.1009043440516182, 0.870299967445207, 0.02522608601290455, 0.9862462391697441, 0.5881854339879629, 0.026435300403953386, 0.033044125504941735, 0.07930590121186015, 0.13878532712075528, 0.033044125504941735, 0.09913237651482519, 0.31120839840893466, 0.007780209960223366, 0.14782398924424395, 0.3384391332697164, 0.05835157470167525, 0.12837346434368554, 0.003890104980111683, 0.9888140974197568, 0.9919565564409549, 0.12784495253948927, 0.04261498417982976, 0.3310856463202158, 0.15734763389475603, 0.15079148248247454, 0.06556151412281501, 0.08195189265351877, 0.04261498417982976, 0.9838004753809615, 0.11135667964686484, 0.035165267256904685, 0.0937740460184125, 0.07619141238996015, 0.04688702300920625, 0.5333398867297211, 0.09963492389456327, 0.005860877876150781, 0.9923651267428906, 0.9800325871355251, 0.9892665397620007, 0.887829880428751, 0.009059488575803581, 0.03925778382848218, 0.051337101929553625, 0.009059488575803581, 0.0798288672682952, 0.9123299116376594, 0.04645336873491073, 0.12387564995976195, 0.13161787808224706, 0.6890583029011759, 0.9884741289418136, 0.9686866940127414, 0.8033256722022118, 0.18681992376795625, 0.9843784444197318, 0.9833085650291068, 0.01422104865494728, 0.0711052432747364, 0.910147113916626, 0.10741758181049454, 0.032225274543148365, 0.20946428453046437, 0.09130494453892037, 0.3974450526988298, 0.06176510954103436, 0.08324862590313327, 0.018798076816836547, 0.928214758938777, 0.0016170988831686012, 0.06791815309308125, 0.987075727911197, 0.016895625279417344, 0.5068687583825203, 0.16050844015446478, 0.0028159375465695575, 0.07603031375737805, 0.030975313012265134, 0.0929259390367954, 0.10982156431621275, 0.9842139146364414, 0.21346366939790545, 0.031494639747231955, 0.07348749274354123, 0.09448391924169586, 0.16447200756887798, 0.05249106624538659, 0.2764529488923694, 0.09448391924169586, 0.9792981604363132, 0.9845430890096731, 0.03201852889998344, 0.11643101418175796, 0.20084349946353247, 0.10187713740903821, 0.04075085496361529, 0.15136031843628533, 0.07859093457268662, 0.27652365868167517, 0.00737074036786391, 0.8328936615686218, 0.12530258625368648, 0.02948296147145564, 0.8732917873745618, 0.010154555667146067, 0.05077277833573034, 0.05077277833573034, 0.8398305455245013, 0.1526964628226366, 0.9938384174398961, 0.9965387658215245, 0.032206580787691584, 0.008051645196922896, 0.8856809716615186, 0.008051645196922896, 0.05636151637846028, 0.15412951099961347, 0.048672477157772676, 0.7300871573665901, 0.008112079526295446, 0.008112079526295446, 0.05678455668406813, 0.47305119798773987, 0.15180001129457324, 0.0035302328208040292, 0.11296745026572894, 0.04236279384964835, 0.0035302328208040292, 0.21534420206904578, 0.9877596338988861, 0.9801403032004953, 0.9931273480613008, 0.15212942923899953, 0.5937955141264175, 0.147222028295806, 0.0147222028295806, 0.06870361320470947, 0.019629603772774132, 0.11886305246498557, 0.3601910680757139, 0.02521337476529997, 0.21251273016467118, 0.06843630293438563, 0.14047451654952842, 0.07203821361514277, 0.9816751980165819, 0.9919299581673002, 0.9733951098737255, 0.9724776767871233, 0.9877642734058423, 0.21275736389543165, 0.019833313583472442, 0.33175724539626633, 0.01442422806070723, 0.1514543946374259, 0.07753022582630137, 0.15866650866777954, 0.03245451313659127, 0.9800100774285122, 0.06895611703424145, 0.9248232166945324, 0.7406932074195614, 0.07485729223921099, 0.031518859890194095, 0.011819572458822787, 0.06500764852352534, 0.07879714972548525, 0.98782908521526, 0.9696569164973576, 0.9713688379291507, 0.028155618490700023, 0.9843555840142553, 0.0856461315224591, 0.8992843809858205, 0.9847856817064288, 0.06504139437040829, 0.9268398697783181, 0.9760160358980797, 0.0037986351377858867, 0.9192697033441846, 0.07217406761793185, 0.9891655160629444, 0.2739350271704063, 0.7246023299346231, 0.9840926144247567, 0.9928722646927565, 0.9725494504650722, 0.04670052053033989, 0.0741714149599516, 0.03845925220145638, 0.48898192084708825, 0.14284865103398084, 0.0824126832888351, 0.01648253665776702, 0.1098835777184468, 0.02727632491948074, 0.9273950472623451, 0.00454605415324679, 0.03636843322597432, 0.040505803560591976, 0.5351029838793993, 0.07035218513155449, 0.006395653193777681, 0.09593479790666522, 0.008527537591703575, 0.11938552628385005, 0.12151741068177593, 0.8126907371639639, 0.023219735347541823, 0.0928789413901673, 0.06965920604262547, 0.9811097978871535, 0.9884873312548871, 0.027860036717963135, 0.9611712667697282, 0.9756787317693815, 0.9812247209233763, 0.8665988891935638, 0.053493758592195295, 0.06954188616985388, 0.00534937585921953, 0.9881891875572969, 0.9801040225013927, 0.9680651583335597, 0.033381557183915854, 0.9695277248875219, 0.9902117843576491, 0.9869784668672323, 0.15081402873561778, 0.04308972249589079, 0.8079322967979523, 0.8024226225140743, 0.042011655629009124, 0.0672186490064146, 0.08402331125801825, 0.016074366895321813, 0.4950905003759119, 0.03857848054877235, 0.06429746758128725, 0.03857848054877235, 0.35042119831801555, 0.9943381253837705, 0.09599852681640753, 0.8853197473068695, 0.010666502979600838, 0.7304994917078814, 0.05619226859291396, 0.19667294007519887, 0.01404806714822849, 0.007024033574114245, 0.9860002976477135, 0.9292612184743841, 0.07375089035510986, 0.11794487805331327, 0.8059566666976407, 0.009828739837776107, 0.05897243902665664, 0.9886601335657276, 0.07958920837396982, 0.009183370196996518, 0.2265231315259141, 0.03367235738898723, 0.04285572758598375, 0.514268731031805, 0.0704058381769733, 0.024488987191990715, 0.007275687499876869, 0.9894934999832542, 0.9784601364523989, 0.9812056415789498, 0.9724518867997888, 0.9896933452182171, 0.9855161660306708, 0.8379075171724659, 0.1554879928773648, 0.09676528832770666, 0.007443483717515897, 0.014886967435031795, 0.87088759494936, 0.06405806718521481, 0.452982046524019, 0.09837488889157989, 0.11210161757412591, 0.05490691473018412, 0.002287788113757672, 0.14413065116673332, 0.07549700775400317, 0.9807889792011284, 0.10441319734777085, 0.018984217699594703, 0.07593687079837881, 0.06169870752368278, 0.09492108849797351, 0.047460544248986755, 0.5173199323139557, 0.08068292522327748, 0.3140287723542982, 0.027013227729401998, 0.037143188127927745, 0.0202599207970515, 0.4592248713998339, 0.023636574263226746, 0.10129960398525749, 0.016883267330876247, 0.9943995886794887, 0.2058916094572345, 0.10294580472861725, 0.17749276677347803, 0.03194869801922604, 0.30883741418585176, 0.0354985533546956, 0.11359537073502593, 0.021299132012817364, 0.976004305268291, 0.9925153226350019, 0.7438382961741608, 0.05796142567590863, 0.1255830889644687, 0.06762166328856008, 0.016686504402156657, 0.016686504402156657, 0.967817255325086, 0.9891112426713898, 0.1013962516963464, 0.015021666917977244, 0.6571979276615044, 0.007510833458988622, 0.011266250188482934, 0.10515166842584071, 0.10515166842584071, 0.9933227815726545, 0.07010913484950174, 0.6309822136455157, 0.02713901994174261, 0.029400604936887828, 0.0633243798640661, 0.038446944917468695, 0.040708529912613915, 0.09724815479124435, 0.05518498054557161, 0.0993329649820289, 0.8388117042926885, 0.1761740788667505, 0.2114088946401006, 0.06305177559441597, 0.09828659136776606, 0.096432127379695, 0.007417855952284232, 0.12239462321268982, 0.22809907053274012, 0.9925905762974637, 0.145795259032456, 0.003738339975191179, 0.0710284595286324, 0.437385777097368, 0.08598181942939712, 0.08598181942939712, 0.06729011955344122, 0.10467351930535301, 0.06233010057753236, 0.9349515086629855, 0.990780452155207, 0.9871911984321879, 0.5359390262241468, 0.03194338566898888, 0.08163309670963827, 0.03194338566898888, 0.14906913312194814, 0.03549265074332098, 0.13487207282461974, 0.9806505536720042, 0.9914775219197453, 0.9769646624703183, 0.013935673998654719, 0.9754971799058303, 0.9920566042159992, 0.9519919743250134, 0.02914261145892898, 0.009714203819642993, 0.3729432162975095, 0.3346032594818777, 0.0034854506196028926, 0.12547622230570413, 0.02788360495682314, 0.11501987044689545, 0.020912703717617356, 0.5066004109773063, 0.23116717782459612, 0.1475535177603805, 0.039347604736101466, 0.06393985769616488, 0.01475535177603805, 0.9769018435492024, 0.08815776931757477, 0.07346480776464565, 0.11754369242343303, 0.7126086353170628, 0.017536051246683816, 0.9644828185676099, 0.27989660903480496, 0.037319547871307326, 0.15860807845305613, 0.09329886967826832, 0.12828594580761893, 0.037319547871307326, 0.12828594580761893, 0.13994830451740248, 0.9873861110524143, 0.17998669165751888, 0.1268088054859792, 0.0940839524573394, 0.04090606628579974, 0.5522318948582965, 0.1535743588456717, 0.025595726474278616, 0.3903348287327489, 0.015997329046424136, 0.1439759614178172, 0.10878183751568411, 0.09918344008782964, 0.060789850376411714, 0.17782506521147493, 0.003951668115810554, 0.4801276760709823, 0.013830838405336937, 0.11657420941641133, 0.07508169420040052, 0.13040504782174828, 0.001975834057905277, 0.9839398739338663, 0.06503797092365392, 0.9291138703379132, 0.9861314126582086, 0.03380645233768676, 0.5934910521505009, 0.011268817445895586, 0.0863942670851995, 0.12020071942288627, 0.13898208183271224, 0.022537634891791173, 0.8519757199660903, 0.08519757199660903, 0.056798381331072685, 0.9947142581200776, 0.9715539814211733, 0.98117964277323, 0.9035801595279711, 0.07059219996312274, 0.014118439992624549, 0.9625269338653882, 0.9888572251337251, 0.4735032165220981, 0.22776104085873072, 0.0029968558007727724, 0.1408522226363203, 0.04794969281236436, 0.10788680882781981, 0.9847543919646963, 0.26777191286163743, 0.6579538430314519, 0.04590375649056641, 0.022951878245283205, 0.14443528770496844, 0.8521681974593138, 0.019663772571678693, 0.9831886285839347, 0.054784065746608636, 0.9313291176923468, 0.9708727181456506, 0.12196985094296617, 0.8659859416950598, 0.9957747481231102, 0.980258775359045, 0.9630786485606466, 0.029633189186481435, 0.006958569147483191, 0.41751414884899146, 0.5636441009461385, 0.8519255954494981, 0.10804909991066805, 0.0041557346119487715, 0.024934407671692627, 0.008311469223897543, 0.9918444137610178, 0.974893865239414, 0.9830500129368636, 0.994623692446514, 0.8808738346245701, 0.07264938842264496, 0.0454058677641531, 0.11483075107763982, 0.052195795944381736, 0.5219579594438174, 0.09395243269988712, 0.07307411432213443, 0.06785453472769626, 0.052195795944381736, 0.020878318377752694, 0.08583816275649005, 0.10491331003571006, 0.8106937593668505, 0.9986284888981308, 0.00566358302441327, 0.5380403873192606, 0.01699074907323981, 0.4304323098554085, 0.35832688629329873, 0.007962819695406638, 0.6210999362417178, 0.9946459883062858, 0.9779660233945932, 0.5941611232610455, 0.19805370775368183, 0.013203580516912124, 0.06601790258456061, 0.13203580516912122, 0.9901893363874168, 0.5619862816027558, 0.06710283959435889, 0.019571661548354678, 0.34949395622061924, 0.11297410120509972, 0.8786874538174423, 0.10666012812554464, 0.03666441904315597, 0.47997057656495085, 0.05333006406277232, 0.1433245471687006, 0.0999938701176981, 0.0666625800784654, 0.01333251601569308, 0.007836922342618588, 0.1880861362228461, 0.09404306811142304, 0.10971691279666022, 0.5877691756963941, 0.9747825764560488, 0.9711899115345549, 0.9918466186587945, 0.9942301501404304, 0.977602718351293, 0.9786823877990176, 0.9770150738702797, 0.9873551043288027, 0.013127698818242488, 0.44415381001720416, 0.008751799212161659, 0.030631297242565806, 0.026255397636484976, 0.411334562971598, 0.02187949803040415, 0.0437589960608083, 0.2119018920864637, 0.011152731162445459, 0.7695384502087366, 0.033002778107307396, 0.9570805651119144, 0.9838758621229208, 0.9722804811647617, 0.9921339214691839, 0.9697206313130831, 0.05619857954127947, 0.670636382525935, 0.007493143938837263, 0.029972575755349052, 0.17608888256267569, 0.05245200757186084, 0.0037465719694186315, 0.044496617255689784, 0.005562077156961223, 0.21692100912148768, 0.011124154313922446, 0.5450835613821998, 0.03893454009872856, 0.10567946598226323, 0.03893454009872856, 0.9884327765844675, 0.07259305959719133, 0.025621079857832234, 0.4782601573462017, 0.08113341954980208, 0.07686323957349671, 0.11102467938393969, 0.0469719797393591, 0.09821413945502357, 0.032534482433887006, 0.10844827477962335, 0.05060919489715756, 0.42294827164053106, 0.1229080447502398, 0.0939885048090069, 0.0614540223751199, 0.10483333228696924, 0.8871882413245459, 0.10525962185206478, 0.04394484109945412, 0.8701078537691915, 0.035155872879563295, 0.04394484109945412, 0.9933252262420601, 0.10135946925257665, 0.12803301379272838, 0.0960247603445463, 0.0213388356321214, 0.0213388356321214, 0.0426776712642428, 0.12803301379272838, 0.46411967499864043, 0.9808500203299434, 0.5997171410022447, 0.060645553584496664, 0.10781431748354962, 0.19541345043893368, 0.04043036905633111, 0.9914663755999688, 0.9721063851310584, 0.9451062491376875, 0.0443018554283291, 0.13802900188743011, 0.025880437853893143, 0.0948949387976082, 0.6815181968191861, 0.06038768832575067, 0.9932506555274541, 0.07562980097957629, 0.06957941690121018, 0.11495729748895596, 0.3690734287803323, 0.0877305691363085, 0.10285652933222375, 0.1119321054497729, 0.06957941690121018, 0.9898180746732302, 0.9225966443612256, 0.008290342118778663, 0.004737338353587808, 0.003553003765190856, 0.06040106400824455, 0.9870578290559717, 0.9880446260391929, 0.06448923659208333, 0.07290087614757247, 0.28038798518297103, 0.5607759703659421, 0.01962715896280797, 0.9921398139823767, 0.9774239289885107, 0.8555650363870692, 0.061741806749582316, 0.008820258107083187, 0.0705620648566655, 0.05023538889644593, 0.9293546945842497, 0.012558847224111483, 0.8719173100628306, 0.12280525493842685, 0.9745407243576973, 0.010828230270641082, 0.010828230270641082, 0.00870705771995652, 0.01741411543991304, 0.01741411543991304, 0.00870705771995652, 0.10448469263947825, 0.853291656555739, 0.98994418882557, 0.9773819344558757, 0.9914947549737569, 0.1880106692101415, 0.0567579378747597, 0.09223164904648451, 0.2625054626707636, 0.046115824523242255, 0.08868427792931202, 0.2660528337879361, 0.017333179311467904, 0.6962160356772941, 0.049110674715825725, 0.10977680230596339, 0.023110905748623872, 0.057777264371559674, 0.04333294827866976, 0.9749435440242796, 0.9906771984829241, 0.993345023014064, 0.984994719924276, 0.9772131554401858, 0.9011273741551934, 0.09654936151662787, 0.007450216083664328, 0.9908787391273556, 0.9821949612653856, 0.005480719592060046, 0.15894086816974135, 0.08769151347296074, 0.5809562767583649, 0.027403597960300233, 0.04932647632854042, 0.08769151347296074, 0.030151606933642456, 0.6197830314137616, 0.09045482080092737, 0.06700357096364991, 0.0703537495118324, 0.09045482080092737, 0.030151606933642456, 0.9861225256888971, 0.14992928119229784, 0.03385499897890596, 0.20796642229899379, 0.1813660659584248, 0.12816535327728687, 0.12937446038367637, 0.0870557116600439, 0.08221928323448591, 0.7959912629543523, 0.08712342181589926, 0.023760933222517978, 0.03168124429669064, 0.05940233305629495, 0.9774009469822597, 0.19261641946506303, 0.092741239001697, 0.27584573651786803, 0.04755960974446, 0.14267882923338002, 0.130788926797265, 0.08322931705280501, 0.035669707308345004, 0.10367545591338909, 0.8916089208551461, 0.9937074537589508, 0.974365197810127, 0.9765508671239912, 0.9821040930698148, 0.9377094941900282, 0.027378379392409585, 0.027378379392409585, 0.9169082920705126, 0.0726263993719218, 0.022398931518280093, 0.1679919863871007, 0.01493262101218673, 0.3322508175211547, 0.328517662268108, 0.044797863036560186, 0.01493262101218673, 0.07839626031398032, 0.13376345866324385, 0.4904660150985608, 0.014862606518138206, 0.10403824562696744, 0.09412984128154196, 0.15853446952680753, 0.9615134442706148, 0.9742988468911853, 0.014120273143350511, 0.9910508486872274, 0.9751120376850697, 0.007967370525085626, 0.25495585680274, 0.7409654588329633, 0.9740739192295552, 0.06727013387164583, 0.07950106730285417, 0.23238773519295833, 0.04280826700922916, 0.5198146708263541, 0.06115466715604166, 0.03218692590941688, 0.03218692590941688, 0.9334208513730895, 0.9913860235613251, 0.06126733383277774, 0.004376238130912696, 0.1181584295346428, 0.004376238130912696, 0.6695644340296425, 0.03938614317821426, 0.08314852448734122, 0.017504952523650783, 0.9780323600573831, 0.2542585402251765, 0.006239473379758933, 0.2542585402251765, 0.031197366898794668, 0.1450677560793952, 0.0748736805571072, 0.19030393808264748, 0.0421164453133728, 0.6768942159558528, 0.03356500244409187, 0.12866584270235218, 0.08391250611022967, 0.07272417196219905, 0.9959559459051205, 0.9835174072712848, 0.988819876616515, 0.022278854338422777, 0.5782375376017912, 0.0891154173536911, 0.0172154783524176, 0.042532358282443485, 0.05772248624045902, 0.041519683085242454, 0.15291395477735634, 0.9889468593738365, 0.9814263954993239, 0.976915293572553, 0.7345507131751609, 0.0504653161723393, 0.12335966175460718, 0.08971611763971431, 0.06578255484386467, 0.836378197300565, 0.0939750783483781, 0.013803831839400775, 0.980072060597455, 0.816255001107401, 0.08570677511627711, 0.004081275005537005, 0.08978805012181411, 0.981417018889881, 0.9805252844164072, 0.9885857322899747, 0.2405124668657721, 0.7558963244352838, 0.9635029649136089, 0.16609457421910007, 0.004051087176075612, 0.4253641534879392, 0.02835761023252928, 0.15799239986694885, 0.1053282665779659, 0.08102174352151223, 0.03240869740860489, 0.35356325560379276, 0.11135850570198197, 0.19487738497846846, 0.03062358906804504, 0.11135850570198197, 0.11971039362963062, 0.04175943963824324, 0.03619151435314414, 0.9911138183133, 0.23446935409930728, 0.16152333282396725, 0.04689387081986146, 0.06773559118424433, 0.49499085865409315, 0.9824254272441607, 0.9887806595200158, 0.005782343038128748, 0.041574249163049755, 0.7483364849348956, 0.20787124581524877, 0.9055169737697543, 0.023218383942814214, 0.058045959857035534, 0.08518970901675856, 0.3109424379111687, 0.004259485450837928, 0.004259485450837928, 0.592068477666472, 0.9899200058882764, 0.04426513589623496, 0.02951009059748997, 0.9295678538209341, 0.9824182757814519, 0.9838896952576758, 0.9840840660447033, 0.15627311872120375, 0.8260150560977912, 0.011162365622943125, 0.8951268934236924, 0.1010627137736427, 0.18434191752391027, 0.645196711333686, 0.09217095876195514, 0.007090073750919626, 0.07090073750919626, 0.9861157153258597, 0.10365810066994952, 0.07231960511856943, 0.19285228031618512, 0.050623723582998596, 0.22901208287546984, 0.13017528921342497, 0.14463921023713885, 0.07231960511856943, 0.08828864021694181, 0.24720819260743707, 0.1118322776081263, 0.04708727478236897, 0.5003022945626703, 0.26571682357517107, 0.04123192089959551, 0.09620781543238953, 0.018325298177598006, 0.08704516634359052, 0.47645775261754814, 0.013743973633198504, 0.9886149675128624, 0.8799917133462792, 0.05415333620592487, 0.027076668102962435, 0.040615002154443657, 0.9801628685526597, 0.06086263182852136, 0.05705871733923878, 0.12172526365704273, 0.4184305938210844, 0.08749003325349947, 0.06086263182852136, 0.08368611876421687, 0.11031352018919498, 0.9900414392936169, 0.060271109441158835, 0.015067777360289709, 0.9191344189776722, 0.14696468665581827, 0.017635762398698192, 0.1675397427876328, 0.09699669319284006, 0.058785874662327306, 0.5084978158291312, 0.1527786562243005, 0.25905946055424867, 0.033212751353108805, 0.013285100541243522, 0.026570201082487043, 0.46497851894352327, 0.053140402164974086, 0.09872447377232338, 0.34200978413983457, 0.014103496253189053, 0.38432027289940174, 0.15866433284837686, 0.9840063170520271, 0.05768971454386663, 0.9395182082858279, 0.022953248929669507, 0.8875256252805542, 0.09181299571867803, 0.98991436775766, 0.841109238652654, 0.15382153391702233, 0.08862262929611081, 0.08308371496510387, 0.6979032057068726, 0.08308371496510387, 0.04985022897906233, 0.9724787035874225, 0.1421898253888296, 0.005468839438031908, 0.6617295720018609, 0.09843910988457434, 0.04921955494228717, 0.03828187606622336, 0.14140252586766386, 0.0989817681073647, 0.04949088405368235, 0.10605189440074789, 0.007070126293383192, 0.5585399771772722, 0.035350631466915965, 0.14405569398534354, 0.06596942995590499, 0.17232830682358855, 0.1211683407353357, 0.10501256197062427, 0.16425041744123284, 0.14674832377946212, 0.08077889382355713, 0.9769945320003197, 0.10055460616744605, 0.10055460616744605, 0.2040667007515817, 0.00591497683337918, 0.1478744208344795, 0.05323479150041262, 0.28096139958551103, 0.10646958300082524, 0.02256064757124735, 0.16920485678435515, 0.800902988779281, 0.020815986255781866, 0.6744379546873324, 0.17069108729741128, 0.020815986255781866, 0.08326394502312746, 0.033305578009250984, 0.7623809064784056, 0.22422967837600163, 0.0064065622393143324, 0.11426035633177337, 0.16975824369292042, 0.3493102322142786, 0.022852071266354673, 0.15343533564552422, 0.019587489656875436, 0.09793744828437717, 0.06855621379906401, 0.9933896542867865, 0.9812832814690428, 0.9735856612585168, 0.01216982076573146, 0.3154483283541559, 0.6807042875010734, 0.9864551462346198, 0.9802908987001375, 0.5920800364609722, 0.08151826588955415, 0.004290435046818639, 0.11155131121728462, 0.025742610280911835, 0.1844887070132015, 0.9543740324549779, 0.02892042522590842, 0.9343893734386313, 0.022789984718015396, 0.034184977077023095, 0.16901839101962252, 0.008048494810458214, 0.18511538064053895, 0.008048494810458214, 0.0563394636732075, 0.5714431315425332, 0.7935067316317528, 0.06248084501037423, 0.012496169002074847, 0.04998467600829939, 0.0812250985134865, 0.987453364514691, 0.12347661702343508, 0.8643363191640456, 0.10871192847859978, 0.0582385331135356, 0.06212110198777131, 0.14753761722095685, 0.13200734172401402, 0.10871192847859978, 0.2834275278192066, 0.10482935960436408, 0.04425634245424788, 0.8021462069832428, 0.12170494174918166, 0.027660214033904923, 0.9683911484050005, 0.9826793230736184, 0.972491479573336, 0.2493300594962808, 0.028768853018801627, 0.7192213254700407, 0.9741598134184847, 0.9817147951102873, 0.9802613643323503, 0.009399382226712221, 0.9681363693513587, 0.018798764453424443, 0.9884639694996135, 0.4694589233601609, 0.10222089460261567, 0.041645549652917495, 0.2953048066297786, 0.053003426830985904, 0.026501713415492952, 0.011357877178068408, 0.8097803478729916, 0.17815167653205813, 0.008097803478729916, 0.9885962133547882, 0.9927015754927906, 0.01178160328461648, 0.03534480985384944, 0.08247122299231537, 0.8600570397770031, 0.982561040586206, 0.994450239843931, 0.9915905436630688, 0.9906253840434972, 0.9617480746500933, 0.009914928604640137, 0.009914928604640137, 0.019829857209280273, 0.11384226787607256, 0.8727907203832229, 0.028551324433916263, 0.028551324433916263, 0.014275662216958132, 0.7280587730648648, 0.007137831108479066, 0.049964817759353464, 0.08565397330174879, 0.05710264886783253, 0.03100505225857089, 0.03100505225857089, 0.919816550337603, 0.9875201933495763, 0.6388984954122912, 0.0316809171278822, 0.22176641989517543, 0.021120611418588137, 0.08448244567435255, 0.9912668243275836, 0.08741670427405797, 0.14262725434188406, 0.01840351668927536, 0.5152984672997102, 0.16563165020347825, 0.07361406675710144, 0.9728048394519169, 0.9903663975536762, 0.9812700668733689, 0.9881737752948977, 0.06843942862740603, 0.11799901487483798, 0.11091907398234771, 0.25959783272464354, 0.07315938922239955, 0.13215889665981853, 0.13215889665981853, 0.10855909368485095, 0.16015934798276854, 0.005338644932758951, 0.34701192062933184, 0.053386449327589514, 0.04270915946207161, 0.38972108009140344, 0.9855942912791775, 0.8422619052216084, 0.08199009696847515, 0.007453645178952286, 0.06708280661057058, 0.9586087263125909, 0.005845175160442627, 0.029225875802213135, 0.9843002628378755, 0.07329781370663198, 0.1326341390881912, 0.0663170695440956, 0.38045055685823265, 0.18149934822594585, 0.024432604568877324, 0.07329781370663198, 0.0663170695440956, 0.9840822397245754, 0.9936646205384598, 0.975213007268088, 0.9039507941518015, 0.08577635272973298, 0.978030161331263, 0.9724337246086215, 0.07892813501097612, 0.9155663661273229, 0.06589956915936775, 0.024712338434762903, 0.07001829223182823, 0.5683837839995468, 0.024712338434762903, 0.03706850765214435, 0.13591786139119597, 0.0741370153042887, 0.01773324135489649, 0.011822160903264328, 0.023644321806528656, 0.2955540225816082, 0.04728864361305731, 0.03546648270979298, 0.059110804516321634, 0.508352918840366, 0.18832615080482606, 0.01395008524480193, 0.6207787933936859, 0.10462563933601447, 0.07672546884641061, 0.9716184393413922, 0.06645805705071561, 0.6055067420176311, 0.059073828489524985, 0.03322902852535781, 0.07384228561190623, 0.014768457122381246, 0.03322902852535781, 0.11076342841785934, 0.9823016464166846, 0.016649180447740417, 0.9907178546715963, 0.9552201958508546, 0.04341909981140248, 0.6991829485615906, 0.19685733503190414, 0.06788183966617384, 0.01357636793323477, 0.020364551899852153, 0.9920367926980403, 0.031419240640247384, 0.010473080213415795, 0.7435886951525215, 0.16756928341465271, 0.06283848128049477, 0.6519871059013758, 0.0036221505883409764, 0.17748537882870785, 0.032599355295068785, 0.09417591529686539, 0.03984365647175074, 0.9309703671910939, 0.05172057595506077, 0.9810813896776912, 0.9909631365564621, 0.9879697372302549, 0.9884740978567009, 0.9703385430679012, 0.19146155917049046, 0.02069854693735032, 0.2561445183497102, 0.02846050203885669, 0.26908111018555414, 0.0776195510150637, 0.14230251019428344, 0.01552391020301274, 0.9724218441603646, 0.9880142318543411, 0.007361390786867942, 0.20611894203230238, 0.7803074234080019, 0.9746320434826793, 0.0119870831311237, 0.30567061984365435, 0.6712766553429271, 0.9858530415506764, 0.1456946894977561, 0.10175502123652808, 0.06937842357036005, 0.006937842357036005, 0.6706580945134805, 0.0269061343658766, 0.9058398569845122, 0.06278098018704541, 0.4341678483828479, 0.556756417338005, 0.01021571407959642, 0.9459037923438833, 0.0434898295330521, 0.6710468344275579, 0.07925750012923911, 0.010567666683898549, 0.1426635002326304, 0.010567666683898549, 0.06868983344534056, 0.021135333367797098, 0.9833900637513054, 0.9845640655450455, 0.010474085803670697, 0.9903813874723666, 0.03194982665117872, 0.013155810974014769, 0.04698503919290989, 0.6408759345912909, 0.013155810974014769, 0.05450264546377547, 0.04510563762519349, 0.15223152698502804, 0.9948800234054626, 0.9864970201928869, 0.002194356786979014, 0.6561126793067251, 0.06802506039634944, 0.04169277895260126, 0.0789968443312445, 0.05924763324843338, 0.006583070360937041, 0.08338555790520252, 0.06687102667053424, 0.9194766167198458, 0.07116423577520438, 0.157310415924136, 0.16480138811099962, 0.022472916560590857, 0.35582117887602194, 0.059927777494908956, 0.10112812452265886, 0.07116423577520438, 0.03086534925308462, 0.03395188417839308, 0.7099030328209462, 0.08024990805802001, 0.04012495402901001, 0.027778814327776156, 0.07716337313271154, 0.0728286885026951, 0.17830472012728799, 0.05776068398489611, 0.13561204066019086, 0.1230553702286917, 0.08036269076159458, 0.06780602033009543, 0.2837807517518809, 0.9852250133454274], \"Term\": [\"abattoir\", \"abc\", \"abc\", \"abc\", \"abc\", \"abduction\", \"aboriginal\", \"aboriginal\", \"aboriginal\", \"aboriginal\", \"aboriginal\", \"accc\", \"accident\", \"accident\", \"accuse\", \"accuse\", \"accuse\", \"accuse\", \"accuse\", \"action\", \"action\", \"action\", \"action\", \"adam\", \"afghan\", \"afghanistan\", \"afghanistan\", \"africa\", \"african\", \"age\", \"alleged\", \"alleged\", \"allow\", \"ama\", \"analysis\", \"andrew\", \"anniversary\", \"announce\", \"apology\", \"appeal\", \"appeal\", \"appeal\", \"appeal\", \"appeal\", \"appeal\", \"approach\", \"april\", \"arrest\", \"arrest\", \"arrest\", \"arrest\", \"arson\", \"art\", \"art\", \"art\", \"art\", \"art\", \"art\", \"art\", \"art\", \"asia\", \"asia\", \"assault\", \"assault\", \"asylum\", \"athlete\", \"attack\", \"attack\", \"attack\", \"attack\", \"attack\", \"attack\", \"attack\", \"attack\", \"auction\", \"august\", \"aussie\", \"aussie\", \"aussie\", \"aussie\", \"aussie\", \"aussie\", \"aussie\", \"australia\", \"australia\", \"australia\", \"australia\", \"australia\", \"australia\", \"australia\", \"australia\", \"australian\", \"australian\", \"australian\", \"australian\", \"australian\", \"australian\", \"australian\", \"australian\", \"avoids\", \"back\", \"back\", \"back\", \"back\", \"back\", \"back\", \"back\", \"back\", \"baghdad\", \"barrier\", \"battle\", \"battle\", \"battle\", \"bear\", \"beat\", \"beat\", \"beat\", \"ben\", \"bird\", \"blue\", \"blue\", \"blue\", \"blue\", \"blue\", \"bomb\", \"bomb\", \"bomb\", \"boost\", \"boost\", \"boost\", \"boost\", \"boost\", \"boost\", \"bounce\", \"boy\", \"boy\", \"boy\", \"boy\", \"boy\", \"boy\", \"brace\", \"bronco\", \"brown\", \"brumbies\", \"budget\", \"budget\", \"budget\", \"budget\", \"budget\", \"budget\", \"budget\", \"building\", \"building\", \"building\", \"bull\", \"bushfire\", \"bushfire\", \"bushfire\", \"bushfire\", \"bushfire\", \"bushfire\", \"bushfire\", \"business\", \"business\", \"business\", \"business\", \"business\", \"business\", \"business\", \"bust\", \"cabinet\", \"call\", \"call\", \"call\", \"call\", \"call\", \"call\", \"call\", \"call\", \"camp\", \"campaign\", \"campaign\", \"campaign\", \"campaign\", \"campaign\", \"campaign\", \"campaign\", \"campaign\", \"cancer\", \"cane\", \"capital\", \"car\", \"car\", \"car\", \"car\", \"car\", \"carbon\", \"carbon\", \"care\", \"care\", \"care\", \"care\", \"casino\", \"cast\", \"cattle\", \"cattle\", \"celebrate\", \"chamber\", \"chance\", \"chance\", \"chance\", \"change\", \"change\", \"change\", \"change\", \"change\", \"change\", \"change\", \"change\", \"charge\", \"charge\", \"charge\", \"chase\", \"child\", \"child\", \"child\", \"child\", \"child\", \"child\", \"child\", \"child\", \"childcare\", \"china\", \"china\", \"china\", \"china\", \"china\", \"china\", \"china\", \"china\", \"chopper\", \"chris\", \"claim\", \"claim\", \"claim\", \"claim\", \"claim\", \"claim\", \"claim\", \"claim\", \"clash\", \"clash\", \"clash\", \"clash\", \"clean\", \"clean\", \"clean\", \"clean\", \"clear\", \"clear\", \"climate\", \"closer\", \"coach\", \"coach\", \"coach\", \"coach\", \"coach\", \"coal\", \"coal\", \"coal\", \"coal\", \"coal\", \"coal\", \"coast\", \"coast\", \"coast\", \"coast\", \"coast\", \"coast\", \"coast\", \"college\", \"collision\", \"commission\", \"community\", \"community\", \"community\", \"community\", \"community\", \"community\", \"concern\", \"concern\", \"concern\", \"concern\", \"concern\", \"concern\", \"concern\", \"confidence\", \"consumer\", \"conviction\", \"cooper\", \"corruption\", \"council\", \"council\", \"council\", \"council\", \"council\", \"council\", \"council\", \"council\", \"count\", \"country\", \"country\", \"court\", \"court\", \"court\", \"court\", \"court\", \"court\", \"cow\", \"craig\", \"crash\", \"crash\", \"credit\", \"creek\", \"creek\", \"cricket\", \"critical\", \"critical\", \"crow\", \"cup\", \"cup\", \"cup\", \"custody\", \"dairy\", \"dairy\", \"darling\", \"david\", \"davis\", \"day\", \"day\", \"day\", \"day\", \"day\", \"day\", \"day\", \"day\", \"dead\", \"dead\", \"dead\", \"dead\", \"death\", \"death\", \"death\", \"death\", \"death\", \"death\", \"death\", \"death\", \"debate\", \"debate\", \"debate\", \"debate\", \"december\", \"department\", \"destroy\", \"destroy\", \"detain\", \"developer\", \"die\", \"die\", \"die\", \"die\", \"disability\", \"disaster\", \"dispute\", \"dispute\", \"docker\", \"domestic\", \"doubt\", \"drink\", \"drink\", \"drink\", \"driver\", \"driver\", \"driver\", \"driver\", \"drug\", \"drug\", \"drug\", \"drug\", \"drug\", \"drug\", \"drum\", \"dump\", \"dump\", \"dump\", \"east\", \"east\", \"east\", \"east\", \"east\", \"economic\", \"economy\", \"economy\", \"education\", \"education\", \"education\", \"education\", \"elderly\", \"election\", \"election\", \"election\", \"election\", \"election\", \"election\", \"election\", \"election\", \"england\", \"england\", \"entertainment\", \"europe\", \"evacuate\", \"exchange\", \"expand\", \"export\", \"export\", \"extend\", \"extend\", \"extend\", \"extend\", \"face\", \"face\", \"face\", \"face\", \"face\", \"face\", \"face\", \"face\", \"farewell\", \"farm\", \"farm\", \"farm\", \"farm\", \"farm\", \"farm\", \"farm\", \"farm\", \"farmer\", \"farmer\", \"farmer\", \"farmer\", \"farmer\", \"farmer\", \"farmer\", \"farmer\", \"fatal\", \"fear\", \"fear\", \"fear\", \"fear\", \"fear\", \"fear\", \"fear\", \"fear\", \"february\", \"federer\", \"festival\", \"festival\", \"festival\", \"festival\", \"field\", \"field\", \"field\", \"fiji\", \"final\", \"final\", \"final\", \"final\", \"final\", \"final\", \"final\", \"finance\", \"find\", \"find\", \"find\", \"find\", \"find\", \"find\", \"find\", \"find\", \"fine\", \"fine\", \"fine\", \"fire\", \"fire\", \"fire\", \"fire\", \"fire\", \"fire\", \"fire\", \"fire\", \"firefighter\", \"first\", \"first\", \"first\", \"first\", \"first\", \"first\", \"first\", \"first\", \"fisherman\", \"fisherman\", \"fishing\", \"flee\", \"flood\", \"flood\", \"flood\", \"flood\", \"flood\", \"flood\", \"flood\", \"flow\", \"flu\", \"forecast\", \"forum\", \"forum\", \"friday\", \"front\", \"front\", \"front\", \"fund\", \"fund\", \"fund\", \"fund\", \"fund\", \"fund\", \"fund\", \"funding\", \"funding\", \"funding\", \"funding\", \"funding\", \"funding\", \"funeral\", \"gas\", \"gas\", \"gas\", \"gas\", \"gaza\", \"gaza\", \"get\", \"get\", \"get\", \"get\", \"get\", \"get\", \"get\", \"get\", \"glory\", \"gold\", \"gold\", \"gold\", \"gold\", \"gold\", \"government\", \"government\", \"government\", \"government\", \"government\", \"government\", \"government\", \"government\", \"govt\", \"govt\", \"govt\", \"govt\", \"govt\", \"govt\", \"govt\", \"govt\", \"grain\", \"grandstand\", \"grandstand\", \"grant\", \"green\", \"green\", \"green\", \"green\", \"green\", \"green\", \"green\", \"grower\", \"grower\", \"grower\", \"guilty\", \"gunns\", \"happy\", \"harvest\", \"harvest\", \"harvest\", \"haul\", \"hawk\", \"health\", \"health\", \"health\", \"health\", \"health\", \"health\", \"hewitt\", \"highlight\", \"highlight\", \"highlight\", \"highlight\", \"hill\", \"hill\", \"historic\", \"historic\", \"history\", \"history\", \"homeless\", \"horse\", \"horse\", \"hour\", \"hundred\", \"improve\", \"improve\", \"india\", \"india\", \"india\", \"indigenous\", \"indigenous\", \"indigenous\", \"indigenous\", \"indigenous\", \"industrial\", \"information\", \"infrastructure\", \"injure\", \"inquest\", \"inquest\", \"inquest\", \"inquiry\", \"inquiry\", \"inquiry\", \"inquiry\", \"inquiry\", \"inquiry\", \"inquiry\", \"inquiry\", \"interest\", \"interest\", \"interest\", \"interview\", \"investigate\", \"investigate\", \"investigate\", \"investigate\", \"investigation\", \"investigation\", \"investigation\", \"iraq\", \"iraqi\", \"island\", \"island\", \"island\", \"island\", \"island\", \"israeli\", \"jail\", \"jail\", \"jail\", \"jail\", \"james\", \"james\", \"job\", \"job\", \"job\", \"job\", \"job\", \"job\", \"job\", \"job\", \"john\", \"john\", \"john\", \"john\", \"john\", \"johnson\", \"joyce\", \"july\", \"june\", \"kangaroo\", \"katherine\", \"kevin\", \"kidnap\", \"kill\", \"kill\", \"kill\", \"kill\", \"kill\", \"kill\", \"kill\", \"kill\", \"killer\", \"killer\", \"killer\", \"king\", \"king\", \"know\", \"kohler\", \"korea\", \"label\", \"labor\", \"labor\", \"labor\", \"labor\", \"labor\", \"labor\", \"labor\", \"land\", \"land\", \"land\", \"land\", \"land\", \"land\", \"land\", \"land\", \"lanka\", \"law\", \"law\", \"law\", \"law\", \"law\", \"law\", \"law\", \"law\", \"lead\", \"lead\", \"lead\", \"lead\", \"lead\", \"lead\", \"lead\", \"lead\", \"leadership\", \"leadership\", \"league\", \"league\", \"league\", \"league\", \"legal\", \"life\", \"life\", \"life\", \"life\", \"life\", \"life\", \"life\", \"life\", \"limit\", \"live\", \"live\", \"live\", \"live\", \"live\", \"loan\", \"log\", \"loom\", \"loom\", \"loss\", \"loss\", \"loss\", \"loss\", \"loss\", \"love\", \"make\", \"make\", \"make\", \"make\", \"make\", \"make\", \"make\", \"make\", \"malcolm\", \"man\", \"man\", \"man\", \"man\", \"man\", \"manager\", \"march\", \"market\", \"market\", \"market\", \"market\", \"market\", \"marriage\", \"master\", \"match\", \"match\", \"match\", \"match\", \"medical\", \"medical\", \"medical\", \"medium\", \"medium\", \"mental\", \"mental\", \"mental\", \"michael\", \"michael\", \"michael\", \"michael\", \"michael\", \"michael\", \"mid\", \"milk\", \"mill\", \"mine\", \"mine\", \"mine\", \"mine\", \"mine\", \"mine\", \"mine\", \"miss\", \"miss\", \"miss\", \"miss\", \"miss\", \"miss\", \"miss\", \"mission\", \"monday\", \"mother\", \"motorcyclist\", \"mum\", \"murder\", \"murder\", \"murray\", \"murray\", \"muslim\", \"name\", \"name\", \"name\", \"name\", \"name\", \"name\", \"name\", \"national\", \"national\", \"national\", \"national\", \"national\", \"national\", \"national\", \"nbn\", \"new\", \"new\", \"new\", \"new\", \"new\", \"new\", \"new\", \"new\", \"north\", \"north\", \"north\", \"north\", \"north\", \"november\", \"nsw\", \"nsw\", \"nsw\", \"nsw\", \"nsw\", \"nsw\", \"nsw\", \"nsw\", \"obama\", \"obama\", \"october\", \"offence\", \"offender\", \"office\", \"officer\", \"officer\", \"officer\", \"oil\", \"oil\", \"one\", \"one\", \"one\", \"one\", \"one\", \"one\", \"one\", \"one\", \"opposition\", \"opposition\", \"opposition\", \"opposition\", \"opposition\", \"opposition\", \"ore\", \"origin\", \"origin\", \"outbreak\", \"outside\", \"parliament\", \"parliament\", \"parliament\", \"partner\", \"party\", \"party\", \"party\", \"party\", \"party\", \"party\", \"patient\", \"patient\", \"patient\", \"paul\", \"pay\", \"pay\", \"pay\", \"pay\", \"pay\", \"pay\", \"pay\", \"pay\", \"petrol\", \"plan\", \"plan\", \"plan\", \"plan\", \"plan\", \"plan\", \"plan\", \"plan\", \"play\", \"play\", \"play\", \"play\", \"play\", \"plead\", \"pleads\", \"pole\", \"police\", \"police\", \"police\", \"police\", \"police\", \"police\", \"police\", \"police\", \"policeman\", \"politics\", \"pope\", \"port\", \"port\", \"port\", \"port\", \"post\", \"post\", \"post\", \"praise\", \"praise\", \"price\", \"price\", \"price\", \"price\", \"prime\", \"prisoner\", \"prize\", \"profit\", \"profit\", \"pursuit\", \"push\", \"push\", \"push\", \"push\", \"push\", \"push\", \"push\", \"push\", \"qld\", \"qld\", \"qld\", \"qld\", \"qld\", \"qld\", \"qld\", \"qld\", \"quarter\", \"question\", \"question\", \"question\", \"question\", \"question\", \"raider\", \"rain\", \"rain\", \"rally\", \"rally\", \"rally\", \"rape\", \"rape\", \"rape\", \"rate\", \"rate\", \"rate\", \"rate\", \"rate\", \"rba\", \"receive\", \"receive\", \"receive\", \"recovery\", \"redbacks\", \"reef\", \"reform\", \"reform\", \"reform\", \"region\", \"region\", \"regional\", \"regional\", \"regional\", \"regional\", \"regional\", \"remote\", \"report\", \"report\", \"report\", \"report\", \"report\", \"report\", \"report\", \"report\", \"rescue\", \"rescue\", \"rescue\", \"rescue\", \"rescue\", \"resident\", \"resident\", \"resident\", \"resident\", \"resident\", \"resident\", \"resident\", \"resigns\", \"response\", \"response\", \"response\", \"response\", \"retail\", \"return\", \"return\", \"return\", \"return\", \"return\", \"return\", \"return\", \"return\", \"ride\", \"rio\", \"rio\", \"rio\", \"rise\", \"rise\", \"rise\", \"rise\", \"rise\", \"rise\", \"river\", \"river\", \"river\", \"river\", \"river\", \"river\", \"river\", \"road\", \"road\", \"road\", \"road\", \"road\", \"robbery\", \"royal\", \"royal\", \"rudd\", \"rudd\", \"rudd\", \"rugby\", \"rural\", \"rural\", \"safety\", \"safety\", \"safety\", \"safety\", \"safety\", \"saint\", \"sale\", \"sale\", \"sale\", \"sale\", \"sale\", \"sale\", \"save\", \"save\", \"save\", \"save\", \"save\", \"save\", \"save\", \"say\", \"say\", \"say\", \"say\", \"say\", \"say\", \"say\", \"say\", \"scandal\", \"school\", \"school\", \"school\", \"school\", \"school\", \"school\", \"school\", \"school\", \"scott\", \"scott\", \"scott\", \"search\", \"search\", \"search\", \"search\", \"search\", \"search\", \"season\", \"season\", \"season\", \"seek\", \"seek\", \"seek\", \"seek\", \"seek\", \"seek\", \"seek\", \"seek\", \"seeker\", \"semi\", \"senate\", \"senate\", \"sentence\", \"sentence\", \"september\", \"series\", \"sex\", \"sex\", \"sex\", \"sex\", \"sex\", \"sex\", \"sexual\", \"sexual\", \"ship\", \"ship\", \"ship\", \"shire\", \"shire\", \"shire\", \"shire\", \"shire\", \"shire\", \"shoot\", \"shoot\", \"shoot\", \"shoot\", \"shoot\", \"shooting\", \"shop\", \"shop\", \"show\", \"show\", \"show\", \"show\", \"show\", \"show\", \"show\", \"show\", \"sign\", \"sign\", \"sign\", \"sign\", \"singapore\", \"sky\", \"slide\", \"smith\", \"smith\", \"smith\", \"snub\", \"socceroos\", \"social\", \"soldier\", \"soldier\", \"soldier\", \"solomon\", \"south\", \"south\", \"south\", \"south\", \"south\", \"south\", \"south\", \"speak\", \"speak\", \"speak\", \"spill\", \"sport\", \"spot\", \"spot\", \"spot\", \"spot\", \"spring\", \"sri\", \"stab\", \"stabbing\", \"staff\", \"staff\", \"staff\", \"staff\", \"stage\", \"stage\", \"star\", \"star\", \"star\", \"star\", \"star\", \"star\", \"star\", \"star\", \"step\", \"step\", \"step\", \"stock\", \"storm\", \"storm\", \"storm\", \"storm\", \"storm\", \"story\", \"strike\", \"strike\", \"strike\", \"strike\", \"strike\", \"strike\", \"summary\", \"supply\", \"surgery\", \"surprise\", \"take\", \"take\", \"take\", \"take\", \"take\", \"take\", \"take\", \"take\", \"tax\", \"tax\", \"tax\", \"tax\", \"tax\", \"tax\", \"taxi\", \"team\", \"team\", \"team\", \"team\", \"teen\", \"teen\", \"teen\", \"telstra\", \"test\", \"test\", \"test\", \"test\", \"test\", \"test\", \"test\", \"test\", \"theft\", \"thursday\", \"tie\", \"tiger\", \"tiger\", \"timor\", \"toddler\", \"toll\", \"toll\", \"top\", \"top\", \"top\", \"top\", \"top\", \"top\", \"top\", \"top\", \"tour\", \"tour\", \"tour\", \"tour\", \"tour\", \"tour\", \"tour\", \"tour\", \"trade\", \"trade\", \"trade\", \"trade\", \"trade\", \"trading\", \"trial\", \"trial\", \"trial\", \"trial\", \"trial\", \"trial\", \"trial\", \"trial\", \"tribute\", \"tribute\", \"troop\", \"truck\", \"truck\", \"trump\", \"trump\", \"trump\", \"trump\", \"trump\", \"tuesday\", \"turnbull\", \"turnbull\", \"turnbull\", \"turnbull\", \"turnbull\", \"two\", \"two\", \"two\", \"two\", \"two\", \"two\", \"underway\", \"underway\", \"unemployment\", \"united\", \"update\", \"upper\", \"uranium\", \"urge\", \"urge\", \"urge\", \"urge\", \"urge\", \"urge\", \"urge\", \"urge\", \"vaccine\", \"van\", \"violence\", \"violence\", \"violence\", \"virus\", \"vote\", \"vote\", \"vote\", \"warrior\", \"water\", \"water\", \"water\", \"water\", \"water\", \"way\", \"way\", \"way\", \"weather\", \"weather\", \"weather\", \"wednesday\", \"wednesday\", \"west\", \"west\", \"west\", \"west\", \"west\", \"west\", \"west\", \"wet\", \"wild\", \"wild\", \"williams\", \"win\", \"win\", \"win\", \"win\", \"win\", \"win\", \"win\", \"win\", \"wind\", \"wine\", \"woman\", \"woman\", \"woman\", \"woman\", \"woman\", \"woman\", \"woman\", \"woman\", \"wood\", \"wood\", \"worker\", \"worker\", \"worker\", \"worker\", \"worker\", \"worker\", \"worker\", \"worker\", \"world\", \"world\", \"world\", \"world\", \"world\", \"world\", \"world\", \"year\", \"year\", \"year\", \"year\", \"year\", \"year\", \"year\", \"year\", \"york\"]}, \"R\": 30, \"lambda.step\": 0.01, \"plot.opts\": {\"xlab\": \"PC1\", \"ylab\": \"PC2\"}, \"topic.order\": [8, 2, 5, 6, 1, 7, 3, 4]};\n",
              "\n",
              "function LDAvis_load_lib(url, callback){\n",
              "  var s = document.createElement('script');\n",
              "  s.src = url;\n",
              "  s.async = true;\n",
              "  s.onreadystatechange = s.onload = callback;\n",
              "  s.onerror = function(){console.warn(\"failed to load library \" + url);};\n",
              "  document.getElementsByTagName(\"head\")[0].appendChild(s);\n",
              "}\n",
              "\n",
              "if(typeof(LDAvis) !== \"undefined\"){\n",
              "   // already loaded: just create the visualization\n",
              "   !function(LDAvis){\n",
              "       new LDAvis(\"#\" + \"ldavis_el1391406561414583123994866516\", ldavis_el1391406561414583123994866516_data);\n",
              "   }(LDAvis);\n",
              "}else if(typeof define === \"function\" && define.amd){\n",
              "   // require.js is available: use it to load d3/LDAvis\n",
              "   require.config({paths: {d3: \"https://cdnjs.cloudflare.com/ajax/libs/d3/3.5.5/d3.min\"}});\n",
              "   require([\"d3\"], function(d3){\n",
              "      window.d3 = d3;\n",
              "      LDAvis_load_lib(\"https://cdn.rawgit.com/bmabey/pyLDAvis/files/ldavis.v1.0.0.js\", function(){\n",
              "        new LDAvis(\"#\" + \"ldavis_el1391406561414583123994866516\", ldavis_el1391406561414583123994866516_data);\n",
              "      });\n",
              "    });\n",
              "}else{\n",
              "    // require.js not available: dynamically load d3 & LDAvis\n",
              "    LDAvis_load_lib(\"https://cdnjs.cloudflare.com/ajax/libs/d3/3.5.5/d3.min.js\", function(){\n",
              "         LDAvis_load_lib(\"https://cdn.rawgit.com/bmabey/pyLDAvis/files/ldavis.v1.0.0.js\", function(){\n",
              "                 new LDAvis(\"#\" + \"ldavis_el1391406561414583123994866516\", ldavis_el1391406561414583123994866516_data);\n",
              "            })\n",
              "         });\n",
              "}\n",
              "</script>"
            ],
            "text/plain": [
              "PreparedData(topic_coordinates=              x         y  topics  cluster       Freq\n",
              "topic                                                \n",
              "7      0.126730  0.013797       1        1  14.036896\n",
              "1     -0.267444  0.133727       2        1  13.997009\n",
              "4      0.105524  0.087757       3        1  13.675421\n",
              "5     -0.018926 -0.281189       4        1  12.996850\n",
              "0      0.100377  0.073319       5        1  11.930920\n",
              "6      0.072107 -0.030471       6        1  11.508124\n",
              "2      0.071697  0.056743       7        1  11.059620\n",
              "3     -0.190065 -0.053682       8        1  10.795160, topic_info=           Term        Freq       Total Category  logprob  loglift\n",
              "1697  interview  773.000000  773.000000  Default  30.0000  30.0000\n",
              "1981        man  844.000000  844.000000  Default  29.0000  29.0000\n",
              "593      charge  618.000000  618.000000  Default  28.0000  28.0000\n",
              "805       crash  426.000000  426.000000  Default  27.0000  27.0000\n",
              "2148     murder  372.000000  372.000000  Default  26.0000  26.0000\n",
              "...         ...         ...         ...      ...      ...      ...\n",
              "150      appeal   75.992043  214.418907   Topic8  -5.6570   1.1888\n",
              "3661        win   81.407135  532.084264   Topic8  -5.5881   0.3487\n",
              "2084       mine   74.854806  281.898896   Topic8  -5.6720   0.9001\n",
              "3281        tax   72.779354  187.313450   Topic8  -5.7002   1.2807\n",
              "217      attack   74.362425  401.130550   Topic8  -5.6786   0.5407\n",
              "\n",
              "[543 rows x 6 columns], token_table=      Topic      Freq      Term\n",
              "term                           \n",
              "2         5  0.985183  abattoir\n",
              "5         1  0.193971       abc\n",
              "5         4  0.309673       abc\n",
              "5         5  0.438988       abc\n",
              "5         6  0.054448       abc\n",
              "...     ...       ...       ...\n",
              "3714      5  0.123055      year\n",
              "3714      6  0.080363      year\n",
              "3714      7  0.067806      year\n",
              "3714      8  0.283781      year\n",
              "3718      4  0.985225      york\n",
              "\n",
              "[1451 rows x 3 columns], R=30, lambda_step=0.01, plot_opts={'xlab': 'PC1', 'ylab': 'PC2'}, topic_order=[8, 2, 5, 6, 1, 7, 3, 4])"
            ]
          },
          "metadata": {
            "tags": []
          },
          "execution_count": 34
        }
      ]
    },
    {
      "cell_type": "markdown",
      "metadata": {
        "id": "duD5faDHH8t5",
        "colab_type": "text"
      },
      "source": [
        "\\\\\n"
      ]
    }
  ]
}