{
  "nbformat": 4,
  "nbformat_minor": 0,
  "metadata": {
    "colab": {
      "name": "DL_univariate_time_series.ipynb",
      "provenance": [],
      "collapsed_sections": [],
      "authorship_tag": "ABX9TyNUkLvBWLKaRDmzU7NSFslM",
      "include_colab_link": true
    },
    "kernelspec": {
      "name": "python3",
      "display_name": "Python 3"
    }
  },
  "cells": [
    {
      "cell_type": "markdown",
      "metadata": {
        "id": "view-in-github",
        "colab_type": "text"
      },
      "source": [
        "<a href=\"https://colab.research.google.com/github/wenxuan0923/My-notes/blob/master/DL_univariate_time_series.ipynb\" target=\"_parent\"><img src=\"https://colab.research.google.com/assets/colab-badge.svg\" alt=\"Open In Colab\"/></a>"
      ]
    },
    {
      "cell_type": "markdown",
      "metadata": {
        "id": "-4M5zdGwkWei",
        "colab_type": "text"
      },
      "source": [
        "## Time Series forecasting\n",
        "### - Temperature prediction\n",
        "\n",
        "This note will cover topics about:\n",
        "-  Convert univariate time series data into DL dataset using self-defined generator\n",
        "- One-step v.s. Multi-step forecasting\n",
        "- Regularization methods for RNN model"
      ]
    },
    {
      "cell_type": "code",
      "metadata": {
        "id": "dyvax9_Qkcw9",
        "colab_type": "code",
        "colab": {
          "base_uri": "https://localhost:8080/",
          "height": 35
        },
        "outputId": "883450b4-68fd-4434-8fee-d51a1a830098"
      },
      "source": [
        "import os\n",
        "import pandas as pd\n",
        "import numpy as np\n",
        "import matplotlib.pyplot as plt\n",
        "from keras import layers\n",
        "from keras.models import Sequential\n",
        "from keras.layers import Dense, GRU"
      ],
      "execution_count": 1,
      "outputs": [
        {
          "output_type": "stream",
          "text": [
            "Using TensorFlow backend.\n"
          ],
          "name": "stderr"
        }
      ]
    },
    {
      "cell_type": "markdown",
      "metadata": {
        "id": "twxYAYkxfZgf",
        "colab_type": "text"
      },
      "source": [
        "The temperature dataset used in this note can be found [here](https://s3.amazonaws.com/keras-datasets/jena_climate_2009_2016.csv.zip). It has 420,551 lines of data, each line is a timestep: a record of a date and 14 weather-related values. Note the temperature is recorded evey 10 minutes. For a single hour you will have 6 observations. Similarly, a single day will contain 144 (24\\*6) observations. "
      ]
    },
    {
      "cell_type": "code",
      "metadata": {
        "id": "cVjC4VUmfYnU",
        "colab_type": "code",
        "outputId": "d3303d49-0745-4ba1-96c8-439570dd0668",
        "colab": {
          "base_uri": "https://localhost:8080/",
          "height": 453
        }
      },
      "source": [
        "temperature_df = pd.read_csv('jena_climate_2009_2016.csv')\n",
        "temperature_df = temperature_df.set_index('Date Time')\n",
        "temperature_df.index = pd.to_datetime(temperature_df.index, \n",
        "                                      format=\"%d.%m.%Y %H:%M:%S\")\n",
        "temperature_df.head()"
      ],
      "execution_count": 2,
      "outputs": [
        {
          "output_type": "execute_result",
          "data": {
            "text/html": [
              "<div>\n",
              "<style scoped>\n",
              "    .dataframe tbody tr th:only-of-type {\n",
              "        vertical-align: middle;\n",
              "    }\n",
              "\n",
              "    .dataframe tbody tr th {\n",
              "        vertical-align: top;\n",
              "    }\n",
              "\n",
              "    .dataframe thead th {\n",
              "        text-align: right;\n",
              "    }\n",
              "</style>\n",
              "<table border=\"1\" class=\"dataframe\">\n",
              "  <thead>\n",
              "    <tr style=\"text-align: right;\">\n",
              "      <th></th>\n",
              "      <th>p (mbar)</th>\n",
              "      <th>T (degC)</th>\n",
              "      <th>Tpot (K)</th>\n",
              "      <th>Tdew (degC)</th>\n",
              "      <th>rh (%)</th>\n",
              "      <th>VPmax (mbar)</th>\n",
              "      <th>VPact (mbar)</th>\n",
              "      <th>VPdef (mbar)</th>\n",
              "      <th>sh (g/kg)</th>\n",
              "      <th>H2OC (mmol/mol)</th>\n",
              "      <th>rho (g/m**3)</th>\n",
              "      <th>wv (m/s)</th>\n",
              "      <th>max. wv (m/s)</th>\n",
              "      <th>wd (deg)</th>\n",
              "    </tr>\n",
              "    <tr>\n",
              "      <th>Date Time</th>\n",
              "      <th></th>\n",
              "      <th></th>\n",
              "      <th></th>\n",
              "      <th></th>\n",
              "      <th></th>\n",
              "      <th></th>\n",
              "      <th></th>\n",
              "      <th></th>\n",
              "      <th></th>\n",
              "      <th></th>\n",
              "      <th></th>\n",
              "      <th></th>\n",
              "      <th></th>\n",
              "      <th></th>\n",
              "    </tr>\n",
              "  </thead>\n",
              "  <tbody>\n",
              "    <tr>\n",
              "      <th>2009-01-01 00:10:00</th>\n",
              "      <td>996.52</td>\n",
              "      <td>-8.02</td>\n",
              "      <td>265.40</td>\n",
              "      <td>-8.90</td>\n",
              "      <td>93.3</td>\n",
              "      <td>3.33</td>\n",
              "      <td>3.11</td>\n",
              "      <td>0.22</td>\n",
              "      <td>1.94</td>\n",
              "      <td>3.12</td>\n",
              "      <td>1307.75</td>\n",
              "      <td>1.03</td>\n",
              "      <td>1.75</td>\n",
              "      <td>152.3</td>\n",
              "    </tr>\n",
              "    <tr>\n",
              "      <th>2009-01-01 00:20:00</th>\n",
              "      <td>996.57</td>\n",
              "      <td>-8.41</td>\n",
              "      <td>265.01</td>\n",
              "      <td>-9.28</td>\n",
              "      <td>93.4</td>\n",
              "      <td>3.23</td>\n",
              "      <td>3.02</td>\n",
              "      <td>0.21</td>\n",
              "      <td>1.89</td>\n",
              "      <td>3.03</td>\n",
              "      <td>1309.80</td>\n",
              "      <td>0.72</td>\n",
              "      <td>1.50</td>\n",
              "      <td>136.1</td>\n",
              "    </tr>\n",
              "    <tr>\n",
              "      <th>2009-01-01 00:30:00</th>\n",
              "      <td>996.53</td>\n",
              "      <td>-8.51</td>\n",
              "      <td>264.91</td>\n",
              "      <td>-9.31</td>\n",
              "      <td>93.9</td>\n",
              "      <td>3.21</td>\n",
              "      <td>3.01</td>\n",
              "      <td>0.20</td>\n",
              "      <td>1.88</td>\n",
              "      <td>3.02</td>\n",
              "      <td>1310.24</td>\n",
              "      <td>0.19</td>\n",
              "      <td>0.63</td>\n",
              "      <td>171.6</td>\n",
              "    </tr>\n",
              "    <tr>\n",
              "      <th>2009-01-01 00:40:00</th>\n",
              "      <td>996.51</td>\n",
              "      <td>-8.31</td>\n",
              "      <td>265.12</td>\n",
              "      <td>-9.07</td>\n",
              "      <td>94.2</td>\n",
              "      <td>3.26</td>\n",
              "      <td>3.07</td>\n",
              "      <td>0.19</td>\n",
              "      <td>1.92</td>\n",
              "      <td>3.08</td>\n",
              "      <td>1309.19</td>\n",
              "      <td>0.34</td>\n",
              "      <td>0.50</td>\n",
              "      <td>198.0</td>\n",
              "    </tr>\n",
              "    <tr>\n",
              "      <th>2009-01-01 00:50:00</th>\n",
              "      <td>996.51</td>\n",
              "      <td>-8.27</td>\n",
              "      <td>265.15</td>\n",
              "      <td>-9.04</td>\n",
              "      <td>94.1</td>\n",
              "      <td>3.27</td>\n",
              "      <td>3.08</td>\n",
              "      <td>0.19</td>\n",
              "      <td>1.92</td>\n",
              "      <td>3.09</td>\n",
              "      <td>1309.00</td>\n",
              "      <td>0.32</td>\n",
              "      <td>0.63</td>\n",
              "      <td>214.3</td>\n",
              "    </tr>\n",
              "  </tbody>\n",
              "</table>\n",
              "</div>"
            ],
            "text/plain": [
              "                     p (mbar)  T (degC)  ...  max. wv (m/s)  wd (deg)\n",
              "Date Time                                ...                         \n",
              "2009-01-01 00:10:00    996.52     -8.02  ...           1.75     152.3\n",
              "2009-01-01 00:20:00    996.57     -8.41  ...           1.50     136.1\n",
              "2009-01-01 00:30:00    996.53     -8.51  ...           0.63     171.6\n",
              "2009-01-01 00:40:00    996.51     -8.31  ...           0.50     198.0\n",
              "2009-01-01 00:50:00    996.51     -8.27  ...           0.63     214.3\n",
              "\n",
              "[5 rows x 14 columns]"
            ]
          },
          "metadata": {
            "tags": []
          },
          "execution_count": 2
        }
      ]
    },
    {
      "cell_type": "markdown",
      "metadata": {
        "id": "oCaKqinl059i",
        "colab_type": "text"
      },
      "source": [
        "## Univariate Time Series\n",
        "Let's try only use the temperature **T (degC)** itself for prediction in this note:\n"
      ]
    },
    {
      "cell_type": "code",
      "metadata": {
        "id": "n-Fx5NkjhoMN",
        "colab_type": "code",
        "outputId": "60e50dc9-f84f-40ae-821c-60a9f194235e",
        "colab": {
          "base_uri": "https://localhost:8080/",
          "height": 272
        }
      },
      "source": [
        "uni_ts = temperature_df['T (degC)']\n",
        "uni_ts.plot()\n",
        "plt.show()"
      ],
      "execution_count": 94,
      "outputs": [
        {
          "output_type": "display_data",
          "data": {
            "image/png": "[encoded data removed]",
            "text/plain": [
              "<Figure size 432x288 with 1 Axes>"
            ]
          },
          "metadata": {
            "tags": [],
            "needs_background": "light"
          }
        }
      ]
    },
    {
      "cell_type": "markdown",
      "metadata": {
        "id": "zGRalvtDk1jF",
        "colab_type": "text"
      },
      "source": [
        "### Prepare the data\n",
        "\n",
        "To get the data ready for modelling, we need to:\n",
        "* Normalize the data\n",
        "* Convert the dataframe into a 2D tensor of shape (timesteps, features)\n",
        "* Get ready a training and validation set\n"
      ]
    },
    {
      "cell_type": "markdown",
      "metadata": {
        "id": "k9Tl9_Pe4VvC",
        "colab_type": "text"
      },
      "source": [
        "A supervised learning algorithm requires that data is provided as a collection of samples, where each sample has an input (x) and an output (y). We need to transform the time series data into a supervised learning dataset.\n",
        "\n",
        "**For example**: To make one-step prediction using past 3 days data for time series = [1, 2, 3, 4, 5, 6, 7, 8, 9]\n",
        "\n",
        "We want the data to be in the format:\n",
        "\n",
        "[1,2,3] $\\Rightarrow$ [4] <br>\n",
        "[2,3,4] $\\Rightarrow$ [5] <br>\n",
        "[3,4,5] $\\Rightarrow$ [6] <br>\n",
        "[4,5,6] $\\Rightarrow$ [7] <br>\n",
        "$\\vdots$ \n",
        "\n",
        "Similarly, To make three-step prediction using past 2 days data for the same time series, we want the data to be in the format:\n",
        "\n",
        "[1,2] $\\Rightarrow$ [5] <br>\n",
        "[2,3] $\\Rightarrow$ [6] <br>\n",
        "[3,4] $\\Rightarrow$ [7] <br>\n",
        "[4,5] $\\Rightarrow$ [8] <br>\n",
        "$\\vdots$ \n",
        "\n",
        "To do this, we need to define a generator function:\n"
      ]
    },
    {
      "cell_type": "code",
      "metadata": {
        "id": "qi_utuf1sgTt",
        "colab_type": "code",
        "colab": {}
      },
      "source": [
        "def generator(data, look_back, pred_step, min_index, max_index,\n",
        "                shuffle=False, batch_size=1, step=1):\n",
        "    if max_index is None:\n",
        "        max_index = len(data) - pred_step\n",
        "    # i represents batch\n",
        "    i = min_index + look_back\n",
        "    while True:\n",
        "        if shuffle:\n",
        "            rows = np.random.randint(\n",
        "                    min_index + look_back, max_index, size=batch_size)\n",
        "        else:\n",
        "            if i + batch_size > max_index:\n",
        "                i = min_index + look_back    # start over\n",
        "            rows = np.arange(i, min(i + batch_size, max_index))\n",
        "            i += len(rows)\n",
        "\n",
        "        samples = np.zeros((len(rows),\n",
        "                            look_back // step,\n",
        "                            data.shape[-1]))\n",
        "        targets = np.zeros((len(rows),))\n",
        "\n",
        "        # j represents sample\n",
        "        for j, row in enumerate(rows):\n",
        "            indices = range(rows[j] - look_back, rows[j], step)\n",
        "            samples[j] = data[indices]\n",
        "            targets[j] = data[rows[j] + pred_step][0]\n",
        "        yield samples, targets"
      ],
      "execution_count": 0,
      "outputs": []
    },
    {
      "cell_type": "markdown",
      "metadata": {
        "id": "X1RjptxiJbPa",
        "colab_type": "text"
      },
      "source": [
        "Note: in `range()` and `lst[:]` the right limit is not included.\n",
        " \n",
        "\n",
        "- **data**: The original array of floating-point data of shape (timesteps, features)\n",
        "- **look_back**: How many timesteps back the input data should go\n",
        "- **pred_step**: How many timesteps in the future the target should be\n",
        "- **min_index** and **max_index**: Indices in the data array that delimit which timesteps to draw from. This is useful for keeping a segment of the data for validation and another for testing.\n",
        "- **shuffle**: Whether to shuffle the samples or draw them in chronological order\n",
        "- **batch_size**: The number of samples per batch\n",
        "- **step**: The period, in timesteps, at which you sample data. "
      ]
    },
    {
      "cell_type": "markdown",
      "metadata": {
        "id": "yOpT60txEoEc",
        "colab_type": "text"
      },
      "source": [
        "**This function can be illustrated by the image below:**\n",
        "\n",
        "<center><img src='https://drive.google.com/uc?id=1SCd0rbpJL4DQL871mZf2BVLwAhW5TJDu' width=400></img></center>\n",
        "\n",
        "At index t:\n",
        "- input data is: $[x_{(t-\\text{look_back})},...,x_{t-2},x_{t-1}]$\n",
        "- output target is: $[x_{(t+\\text{pred_step})}]$\n",
        "\n",
        "\n",
        "\n",
        "\n",
        "\n",
        "#### Example:\n"
      ]
    },
    {
      "cell_type": "code",
      "metadata": {
        "id": "ZUF-dG05sk7c",
        "colab_type": "code",
        "colab": {
          "base_uri": "https://localhost:8080/",
          "height": 235
        },
        "outputId": "31363927-7a26-44a5-e739-a8b63e58af4c"
      },
      "source": [
        "example_ts = np.array([1,2,3,4,5,6,7,8,9])\n",
        "example_ts = example_ts.reshape(-1,1)   # univatriate data: only 1 feature\n",
        "pred_step = 2   # 3-step prediction\n",
        "look_back = 3   # look back 3 data points for each prediction\n",
        "example_gen = generator(example_ts, look_back, pred_step, \n",
        "                        min_index=0, max_index=None)\n",
        "i = 0\n",
        "while i <= 3:\n",
        "  display(next(example_gen))\n",
        "  i += 1"
      ],
      "execution_count": 115,
      "outputs": [
        {
          "output_type": "display_data",
          "data": {
            "text/plain": [
              "(array([[[1.],\n",
              "         [2.],\n",
              "         [3.]]]), array([6.]))"
            ]
          },
          "metadata": {
            "tags": []
          }
        },
        {
          "output_type": "display_data",
          "data": {
            "text/plain": [
              "(array([[[2.],\n",
              "         [3.],\n",
              "         [4.]]]), array([7.]))"
            ]
          },
          "metadata": {
            "tags": []
          }
        },
        {
          "output_type": "display_data",
          "data": {
            "text/plain": [
              "(array([[[3.],\n",
              "         [4.],\n",
              "         [5.]]]), array([8.]))"
            ]
          },
          "metadata": {
            "tags": []
          }
        },
        {
          "output_type": "display_data",
          "data": {
            "text/plain": [
              "(array([[[4.],\n",
              "         [5.],\n",
              "         [6.]]]), array([9.]))"
            ]
          },
          "metadata": {
            "tags": []
          }
        }
      ]
    },
    {
      "cell_type": "markdown",
      "metadata": {
        "id": "2-7cTA3cPDKN",
        "colab_type": "text"
      },
      "source": [
        "Illustration for this example:\n",
        "\n",
        "<center><img src='https://drive.google.com/uc?id=1LFkGPk8iwLY6ZsOCP8eWoaTej4iKXuHP' width=600></img></center>\n",
        "\n",
        "Let's use the first 300,000 rows of the data as training dataset, and there remaining as the validation dataset. \n",
        "\n",
        "This amounts to ~2100 days worth of training data."
      ]
    },
    {
      "cell_type": "code",
      "metadata": {
        "id": "HFYcuoJ1Prld",
        "colab_type": "code",
        "colab": {}
      },
      "source": [
        "TRAIN_SPLIT = 300000\n",
        "# Convert pd.Series into numpt array of floating value\n",
        "uni_data = uni_ts.values \n",
        "# Only use the training data for normalization\n",
        "uni_train_mean = uni_data[:TRAIN_SPLIT].mean()\n",
        "uni_train_std = uni_data[:TRAIN_SPLIT].std()\n",
        "uni_data = (uni_data-uni_train_mean)/uni_train_std"
      ],
      "execution_count": 0,
      "outputs": []
    },
    {
      "cell_type": "markdown",
      "metadata": {
        "id": "f7JakGh00FIV",
        "colab_type": "text"
      },
      "source": [
        "Let's now create the data for the univariate model. For this univariate model, the model will be given the last 20 recorded temperature observations, and needs to learn to predict the temperature at the next time step."
      ]
    },
    {
      "cell_type": "code",
      "metadata": {
        "id": "zEB-stIKy-OK",
        "colab_type": "code",
        "colab": {}
      },
      "source": [
        "uni_data = uni_data.reshape(-1, 1)\n",
        "look_back = 20\n",
        "pred_step = 0\n",
        "BATCH_SIZE = 256\n",
        "\n",
        "train_gen = generator(uni_data, \n",
        "                      look_back, \n",
        "                      pred_step, \n",
        "                      min_index=0, \n",
        "                      max_index=TRAIN_SPLIT,\n",
        "                      batch_size=BATCH_SIZE)\n",
        "\n",
        "val_gen = generator(uni_data, \n",
        "                    look_back, \n",
        "                    pred_step, \n",
        "                    min_index=TRAIN_SPLIT+1,\n",
        "                    max_index=None,\n",
        "                    batch_size=BATCH_SIZE)"
      ],
      "execution_count": 0,
      "outputs": []
    },
    {
      "cell_type": "markdown",
      "metadata": {
        "id": "BVxzCwmTz7l4",
        "colab_type": "text"
      },
      "source": [
        "Let's take a look at a single data point in your training set:"
      ]
    },
    {
      "cell_type": "code",
      "metadata": {
        "id": "SpUNdN5F0xpn",
        "colab_type": "code",
        "colab": {
          "base_uri": "https://localhost:8080/",
          "height": 54
        },
        "outputId": "8087e93b-3550-4c65-90a6-952f3b24224b"
      },
      "source": [
        "first_train_data = next(train_gen) # whole batch: 256 data points\n",
        "print(len(first_train_data[0]))  # input data \n",
        "print(len(first_train_data[1]))  # target value data"
      ],
      "execution_count": 109,
      "outputs": [
        {
          "output_type": "stream",
          "text": [
            "256\n",
            "256\n"
          ],
          "name": "stdout"
        }
      ]
    },
    {
      "cell_type": "code",
      "metadata": {
        "id": "g-nDtkTr0203",
        "colab_type": "code",
        "colab": {
          "base_uri": "https://localhost:8080/",
          "height": 381
        },
        "outputId": "4e7bce74-3bd8-44f9-b4de-002365b55b68"
      },
      "source": [
        "first_train_data[0][0]  # each sample has 20 data points (size=look_back)"
      ],
      "execution_count": 110,
      "outputs": [
        {
          "output_type": "execute_result",
          "data": {
            "text/plain": [
              "array([[-1.99766294],\n",
              "       [-2.04281897],\n",
              "       [-2.05439744],\n",
              "       [-2.0312405 ],\n",
              "       [-2.02660912],\n",
              "       [-2.00113649],\n",
              "       [-1.95134907],\n",
              "       [-1.95134907],\n",
              "       [-1.98492663],\n",
              "       [-2.04513467],\n",
              "       [-2.08334362],\n",
              "       [-2.09723778],\n",
              "       [-2.09376424],\n",
              "       [-2.09144854],\n",
              "       [-2.07176515],\n",
              "       [-2.07176515],\n",
              "       [-2.07639653],\n",
              "       [-2.08913285],\n",
              "       [-2.09260639],\n",
              "       [-2.10418486]])"
            ]
          },
          "metadata": {
            "tags": []
          },
          "execution_count": 110
        }
      ]
    },
    {
      "cell_type": "code",
      "metadata": {
        "id": "7H549C3cy-fd",
        "colab_type": "code",
        "colab": {
          "base_uri": "https://localhost:8080/",
          "height": 265
        },
        "outputId": "51b701f4-eb94-4be1-84a0-af938d8ced9f"
      },
      "source": [
        "plt.plot(range(len(first_train_data[0][0])), first_train_data[0][0], label='historical data')\n",
        "plt.plot(len(first_train_data[0][0]) + pred_step, first_train_data[1][0],\n",
        "         color='red', marker='+', label='target value')\n",
        "plt.legend()\n",
        "plt.show()"
      ],
      "execution_count": 111,
      "outputs": [
        {
          "output_type": "display_data",
          "data": {
            "image/png": "[encoded data removed]",
            "text/plain": [
              "<Figure size 432x288 with 1 Axes>"
            ]
          },
          "metadata": {
            "tags": [],
            "needs_background": "light"
          }
        }
      ]
    },
    {
      "cell_type": "markdown",
      "metadata": {
        "id": "GWi2zlRr-2fw",
        "colab_type": "text"
      },
      "source": [
        "### A GRU model for time series forecast"
      ]
    },
    {
      "cell_type": "code",
      "metadata": {
        "id": "d-c6xiRDjmJD",
        "colab_type": "code",
        "colab": {}
      },
      "source": [
        "model = Sequential()\n",
        "model.add(layers.GRU(64,\n",
        "                    dropout=0.2,\n",
        "                    recurrent_dropout=0.2,\n",
        "                    input_shape=(None, uni_data.shape[-1])))\n",
        "model.add(layers.Dense(1))\n",
        "model.add(Dense(1))\n",
        "model.compile(optimizer='adam', loss='mae')"
      ],
      "execution_count": 0,
      "outputs": []
    },
    {
      "cell_type": "code",
      "metadata": {
        "id": "FB9jc9W12G8-",
        "colab_type": "code",
        "colab": {
          "base_uri": "https://localhost:8080/",
          "height": 563
        },
        "outputId": "a486269c-72f4-4778-adbe-7d05fcd9ed61"
      },
      "source": [
        "history = model.fit_generator(train_gen,\n",
        "                              epochs=15,\n",
        "                              steps_per_epoch=TRAIN_SPLIT//BATCH_SIZE,\n",
        "                              validation_data=val_gen,\n",
        "                              validation_steps=(len(uni_data)-TRAIN_SPLIT)//BATCH_SIZE)"
      ],
      "execution_count": 127,
      "outputs": [
        {
          "output_type": "stream",
          "text": [
            "Epoch 1/15\n",
            "1171/1171 [==============================] - 70s 60ms/step - loss: 0.2203 - val_loss: 0.2838\n",
            "Epoch 2/15\n",
            "1171/1171 [==============================] - 69s 59ms/step - loss: 0.1894 - val_loss: 0.2201\n",
            "Epoch 3/15\n",
            "1171/1171 [==============================] - 69s 59ms/step - loss: 0.1847 - val_loss: 0.1882\n",
            "Epoch 4/15\n",
            "1171/1171 [==============================] - 69s 59ms/step - loss: 0.1816 - val_loss: 0.1691\n",
            "Epoch 5/15\n",
            "1171/1171 [==============================] - 70s 59ms/step - loss: 0.1796 - val_loss: 0.2098\n",
            "Epoch 6/15\n",
            "1171/1171 [==============================] - 75s 64ms/step - loss: 0.1809 - val_loss: 0.1999\n",
            "Epoch 7/15\n",
            "1171/1171 [==============================] - 70s 60ms/step - loss: 0.1793 - val_loss: 0.2106\n",
            "Epoch 8/15\n",
            "1171/1171 [==============================] - 70s 60ms/step - loss: 0.1802 - val_loss: 0.2083\n",
            "Epoch 9/15\n",
            "1171/1171 [==============================] - 70s 60ms/step - loss: 0.1798 - val_loss: 0.2095\n",
            "Epoch 10/15\n",
            "1171/1171 [==============================] - 70s 60ms/step - loss: 0.1807 - val_loss: 0.1973\n",
            "Epoch 11/15\n",
            "1171/1171 [==============================] - 70s 60ms/step - loss: 0.1798 - val_loss: 0.2214\n",
            "Epoch 12/15\n",
            "1171/1171 [==============================] - 70s 60ms/step - loss: 0.1793 - val_loss: 0.2153\n",
            "Epoch 13/15\n",
            "1171/1171 [==============================] - 70s 60ms/step - loss: 0.1790 - val_loss: 0.2082\n",
            "Epoch 14/15\n",
            "1171/1171 [==============================] - 76s 65ms/step - loss: 0.1781 - val_loss: 0.2074\n",
            "Epoch 15/15\n",
            "1171/1171 [==============================] - 70s 60ms/step - loss: 0.1797 - val_loss: 0.2206\n"
          ],
          "name": "stdout"
        }
      ]
    },
    {
      "cell_type": "markdown",
      "metadata": {
        "id": "eZwq_lvZ9nbN",
        "colab_type": "text"
      },
      "source": [
        "By setting:\n",
        "\n",
        " `steps_per_epoch = TotalTrainingSamples // TrainingBatchSize`\n",
        "\n",
        "`validation_steps = TotalvalidationSamples // ValidationBatchSize`\n",
        "\n",
        "It makes sure that at each epoch:\n",
        "\n",
        "- You train on exactly your entire training set\n",
        "- You validate on exactly your entire validation set"
      ]
    },
    {
      "cell_type": "code",
      "metadata": {
        "id": "7RPcqaPijl9J",
        "colab_type": "code",
        "colab": {
          "base_uri": "https://localhost:8080/",
          "height": 271
        },
        "outputId": "1da30610-d703-4b13-99dd-9f5e855fb288"
      },
      "source": [
        "ax = pd.DataFrame(history.history)[['loss', 'val_loss']].plot(marker='.')\n",
        "ax.legend(bbox_to_anchor=(1.5, 1.05))\n",
        "plt.show()"
      ],
      "execution_count": 128,
      "outputs": [
        {
          "output_type": "display_data",
          "data": {
            "image/png": "[encoded data removed]",
            "text/plain": [
              "<Figure size 432x288 with 1 Axes>"
            ]
          },
          "metadata": {
            "tags": [],
            "needs_background": "light"
          }
        }
      ]
    },
    {
      "cell_type": "markdown",
      "metadata": {
        "id": "VuNdfRPN5hEy",
        "colab_type": "text"
      },
      "source": [
        "Useful Reference:\n",
        "\n",
        "1. [How to Use the TimeseriesGenerator for Time Series Forecasting in Keras](\n",
        "https://machinelearningmastery.com/how-to-use-the-timeseriesgenerator-for-time-series-forecasting-in-keras/)\n",
        "\n",
        "2. [TensorFlow tutorial](https://www.tensorflow.org/tutorials/structured_data/time_series)\n",
        "\n",
        "3. [steps_per_epoch v.s. validation_steps](https://stackoverflow.com/questions/45943675/meaning-of-validation-steps-in-keras-sequential-fit-generator-parameter-list)"
      ]
    }
  ]
}