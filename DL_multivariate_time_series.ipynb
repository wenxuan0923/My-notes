{
  "nbformat": 4,
  "nbformat_minor": 0,
  "metadata": {
    "colab": {
      "name": "DL_multivariate_time_series.ipynb",
      "provenance": [],
      "collapsed_sections": [],
      "toc_visible": true,
      "authorship_tag": "ABX9TyO8MCtgLWaw5g0+aSbNG8X7",
      "include_colab_link": true
    },
    "kernelspec": {
      "name": "python3",
      "display_name": "Python 3"
    }
  },
  "cells": [
    {
      "cell_type": "markdown",
      "metadata": {
        "id": "view-in-github",
        "colab_type": "text"
      },
      "source": [
        "<a href=\"https://colab.research.google.com/github/wenxuan0923/My-notes/blob/master/DL_multivariate_time_series.ipynb\" target=\"_parent\"><img src=\"https://colab.research.google.com/assets/colab-badge.svg\" alt=\"Open In Colab\"/></a>"
      ]
    },
    {
      "cell_type": "markdown",
      "metadata": {
        "id": "-4M5zdGwkWei",
        "colab_type": "text"
      },
      "source": [
        "## Multivariate Time Series Forecasting\n",
        "### - Temperature prediction\n",
        "\n",
        "This note is an example of using LSTM model for multi-step multivariate time series prediction using Jena temperature data. The key topics being covered in this note are:\n",
        "\n",
        "-  Convert multivariate time series data into DL dataset using self-defined generator\n",
        "- LSTM model for multi-step prediction\n",
        "- Why there are NaNs loss during training\n",
        "- Why validation loss lower than training loss some time\n"
      ]
    },
    {
      "cell_type": "code",
      "metadata": {
        "id": "dyvax9_Qkcw9",
        "colab_type": "code",
        "colab": {}
      },
      "source": [
        "import pandas as pd\n",
        "import numpy as np\n",
        "import matplotlib.pyplot as plt\n",
        "from keras import layers\n",
        "from keras.models import Sequential, load_model\n",
        "from keras.layers import Embedding, LSTM, Dense\n",
        "from keras.optimizers import RMSprop\n",
        "from keras.callbacks import EarlyStopping, ModelCheckpoint"
      ],
      "execution_count": 0,
      "outputs": []
    },
    {
      "cell_type": "markdown",
      "metadata": {
        "id": "twxYAYkxfZgf",
        "colab_type": "text"
      },
      "source": [
        "The dataset used here is the same one in <a src='../dl_univariate_time_series' target='_blank'>this note</a>"
      ]
    },
    {
      "cell_type": "code",
      "metadata": {
        "id": "cVjC4VUmfYnU",
        "colab_type": "code",
        "outputId": "a4f9feb7-3e8e-4c57-a525-460483e3cd5e",
        "colab": {
          "base_uri": "https://localhost:8080/",
          "height": 332
        }
      },
      "source": [
        "temperature_df = pd.read_csv('jena_climate_2009_2016.csv')\n",
        "temperature_df = temperature_df.set_index('Date Time')\n",
        "temperature_df.index = pd.to_datetime(temperature_df.index, \n",
        "                                      format=\"%d.%m.%Y %H:%M:%S\")\n",
        "temperature_df.head()"
      ],
      "execution_count": 2,
      "outputs": [
        {
          "output_type": "execute_result",
          "data": {
            "text/html": [
              "<div>\n",
              "<style scoped>\n",
              "    .dataframe tbody tr th:only-of-type {\n",
              "        vertical-align: middle;\n",
              "    }\n",
              "\n",
              "    .dataframe tbody tr th {\n",
              "        vertical-align: top;\n",
              "    }\n",
              "\n",
              "    .dataframe thead th {\n",
              "        text-align: right;\n",
              "    }\n",
              "</style>\n",
              "<table border=\"1\" class=\"dataframe\">\n",
              "  <thead>\n",
              "    <tr style=\"text-align: right;\">\n",
              "      <th></th>\n",
              "      <th>p (mbar)</th>\n",
              "      <th>T (degC)</th>\n",
              "      <th>Tpot (K)</th>\n",
              "      <th>Tdew (degC)</th>\n",
              "      <th>rh (%)</th>\n",
              "      <th>VPmax (mbar)</th>\n",
              "      <th>VPact (mbar)</th>\n",
              "      <th>VPdef (mbar)</th>\n",
              "      <th>sh (g/kg)</th>\n",
              "      <th>H2OC (mmol/mol)</th>\n",
              "      <th>rho (g/m**3)</th>\n",
              "      <th>wv (m/s)</th>\n",
              "      <th>max. wv (m/s)</th>\n",
              "      <th>wd (deg)</th>\n",
              "    </tr>\n",
              "    <tr>\n",
              "      <th>Date Time</th>\n",
              "      <th></th>\n",
              "      <th></th>\n",
              "      <th></th>\n",
              "      <th></th>\n",
              "      <th></th>\n",
              "      <th></th>\n",
              "      <th></th>\n",
              "      <th></th>\n",
              "      <th></th>\n",
              "      <th></th>\n",
              "      <th></th>\n",
              "      <th></th>\n",
              "      <th></th>\n",
              "      <th></th>\n",
              "    </tr>\n",
              "  </thead>\n",
              "  <tbody>\n",
              "    <tr>\n",
              "      <th>2009-01-01 00:10:00</th>\n",
              "      <td>996.52</td>\n",
              "      <td>-8.02</td>\n",
              "      <td>265.40</td>\n",
              "      <td>-8.90</td>\n",
              "      <td>93.3</td>\n",
              "      <td>3.33</td>\n",
              "      <td>3.11</td>\n",
              "      <td>0.22</td>\n",
              "      <td>1.94</td>\n",
              "      <td>3.12</td>\n",
              "      <td>1307.75</td>\n",
              "      <td>1.03</td>\n",
              "      <td>1.75</td>\n",
              "      <td>152.3</td>\n",
              "    </tr>\n",
              "    <tr>\n",
              "      <th>2009-01-01 00:20:00</th>\n",
              "      <td>996.57</td>\n",
              "      <td>-8.41</td>\n",
              "      <td>265.01</td>\n",
              "      <td>-9.28</td>\n",
              "      <td>93.4</td>\n",
              "      <td>3.23</td>\n",
              "      <td>3.02</td>\n",
              "      <td>0.21</td>\n",
              "      <td>1.89</td>\n",
              "      <td>3.03</td>\n",
              "      <td>1309.80</td>\n",
              "      <td>0.72</td>\n",
              "      <td>1.50</td>\n",
              "      <td>136.1</td>\n",
              "    </tr>\n",
              "    <tr>\n",
              "      <th>2009-01-01 00:30:00</th>\n",
              "      <td>996.53</td>\n",
              "      <td>-8.51</td>\n",
              "      <td>264.91</td>\n",
              "      <td>-9.31</td>\n",
              "      <td>93.9</td>\n",
              "      <td>3.21</td>\n",
              "      <td>3.01</td>\n",
              "      <td>0.20</td>\n",
              "      <td>1.88</td>\n",
              "      <td>3.02</td>\n",
              "      <td>1310.24</td>\n",
              "      <td>0.19</td>\n",
              "      <td>0.63</td>\n",
              "      <td>171.6</td>\n",
              "    </tr>\n",
              "    <tr>\n",
              "      <th>2009-01-01 00:40:00</th>\n",
              "      <td>996.51</td>\n",
              "      <td>-8.31</td>\n",
              "      <td>265.12</td>\n",
              "      <td>-9.07</td>\n",
              "      <td>94.2</td>\n",
              "      <td>3.26</td>\n",
              "      <td>3.07</td>\n",
              "      <td>0.19</td>\n",
              "      <td>1.92</td>\n",
              "      <td>3.08</td>\n",
              "      <td>1309.19</td>\n",
              "      <td>0.34</td>\n",
              "      <td>0.50</td>\n",
              "      <td>198.0</td>\n",
              "    </tr>\n",
              "    <tr>\n",
              "      <th>2009-01-01 00:50:00</th>\n",
              "      <td>996.51</td>\n",
              "      <td>-8.27</td>\n",
              "      <td>265.15</td>\n",
              "      <td>-9.04</td>\n",
              "      <td>94.1</td>\n",
              "      <td>3.27</td>\n",
              "      <td>3.08</td>\n",
              "      <td>0.19</td>\n",
              "      <td>1.92</td>\n",
              "      <td>3.09</td>\n",
              "      <td>1309.00</td>\n",
              "      <td>0.32</td>\n",
              "      <td>0.63</td>\n",
              "      <td>214.3</td>\n",
              "    </tr>\n",
              "  </tbody>\n",
              "</table>\n",
              "</div>"
            ],
            "text/plain": [
              "                     p (mbar)  T (degC)  ...  max. wv (m/s)  wd (deg)\n",
              "Date Time                                ...                         \n",
              "2009-01-01 00:10:00    996.52     -8.02  ...           1.75     152.3\n",
              "2009-01-01 00:20:00    996.57     -8.41  ...           1.50     136.1\n",
              "2009-01-01 00:30:00    996.53     -8.51  ...           0.63     171.6\n",
              "2009-01-01 00:40:00    996.51     -8.31  ...           0.50     198.0\n",
              "2009-01-01 00:50:00    996.51     -8.27  ...           0.63     214.3\n",
              "\n",
              "[5 rows x 14 columns]"
            ]
          },
          "metadata": {
            "tags": []
          },
          "execution_count": 2
        }
      ]
    },
    {
      "cell_type": "markdown",
      "metadata": {
        "id": "zGRalvtDk1jF",
        "colab_type": "text"
      },
      "source": [
        "### Prepare the data\n",
        "\n",
        "To get the data ready for modelling, we need to:\n",
        "* These 14 features have very different scales which need to be normalized independently \n",
        "* Convert the dataframe into a 2D tensor of shape (timesteps, features)\n",
        "> This can be easily be done by using `df.values`\n",
        "* Get ready a training and validation set\n"
      ]
    },
    {
      "cell_type": "code",
      "metadata": {
        "id": "U3bTg-21WMg_",
        "colab_type": "code",
        "outputId": "847eb798-9082-4e28-a876-dc7ead7e6537",
        "colab": {
          "base_uri": "https://localhost:8080/",
          "height": 254
        }
      },
      "source": [
        "# Convert the dataframe into a 2D tensor\n",
        "multi_ts = temperature_df.values\n",
        "multi_ts"
      ],
      "execution_count": 57,
      "outputs": [
        {
          "output_type": "execute_result",
          "data": {
            "text/plain": [
              "array([[ 9.9652e+02, -8.0200e+00,  2.6540e+02, ...,  1.0300e+00,\n",
              "         1.7500e+00,  1.5230e+02],\n",
              "       [ 9.9657e+02, -8.4100e+00,  2.6501e+02, ...,  7.2000e-01,\n",
              "         1.5000e+00,  1.3610e+02],\n",
              "       [ 9.9653e+02, -8.5100e+00,  2.6491e+02, ...,  1.9000e-01,\n",
              "         6.3000e-01,  1.7160e+02],\n",
              "       ...,\n",
              "       [ 9.9982e+02, -3.1600e+00,  2.7001e+02, ...,  1.0800e+00,\n",
              "         2.0000e+00,  2.1520e+02],\n",
              "       [ 9.9981e+02, -4.2300e+00,  2.6894e+02, ...,  1.4900e+00,\n",
              "         2.1600e+00,  2.2580e+02],\n",
              "       [ 9.9982e+02, -4.8200e+00,  2.6836e+02, ...,  1.2300e+00,\n",
              "         1.9600e+00,  1.8490e+02]])"
            ]
          },
          "metadata": {
            "tags": []
          },
          "execution_count": 57
        }
      ]
    },
    {
      "cell_type": "markdown",
      "metadata": {
        "id": "k9Tl9_Pe4VvC",
        "colab_type": "text"
      },
      "source": [
        "**Note:** `T (degC)` column is our target variable for this problem, which is the value at `index=1` for every list(row) in this np.array\n",
        "\n",
        "We need to convert each sample into format: input (x) and an output (y). \n",
        "\n",
        "**Example 1**: To make **one-step** prediction using **past 3 days** data for univariate time series\n",
        "```\n",
        " [1, 2, 3, 4, 5, 6, 7, 8, 9]\n",
        "```\n",
        "\n",
        "We want the data to be in the format:\n",
        "\n",
        "[[1], [2], [3]] $\\Rightarrow$ 5 <br>\n",
        "[[2], [3], [4]] $\\Rightarrow$ 6 <br>\n",
        "[[3], [4], [5]] $\\Rightarrow$ 7 <br>\n",
        "[[4], [5], [6]] $\\Rightarrow$ 8 <br>\n",
        "$\\vdots$ \n",
        "\n",
        "In a multi-step prediction model, given a past history, the model needs to learn to predict a range of future values. Thus, unlike a single step model, where only a single future point is predicted, a multi-step model predict a sequence of the future.\n",
        "\n",
        "Thus, to make **two-step** prediction using **past 3 days** data for the same time series, the data will be in the format:\n",
        "\n",
        "[[1], [2], [3]] $\\Rightarrow$ [5, 6] <br>\n",
        "[[2], [3], [4]] $\\Rightarrow$ [6, 7] <br>\n",
        "[[3], [4], [5]] $\\Rightarrow$ [7, 8] <br>\n",
        "[[4], [5], [6]] $\\Rightarrow$ [8, 9] <br>\n",
        "$\\vdots$ \n",
        "\n",
        "Illustration for this example:\n",
        "\n",
        "<center><img src='https://drive.google.com/uc?id=1LFkGPk8iwLY6ZsOCP8eWoaTej4iKXuHP' width=600></img></center>\n",
        "\n",
        "\n",
        "\n",
        "**Example 2**: you have time series:\n",
        "\n",
        "```\n",
        " [[1, 2, 2], [3, 12, 4], [5, 30, 6], [7, 56, 8], [9, 90, 10], [11, 132, 12]]\n",
        "```\n",
        "The second value of each list (values [2, 12, 30, 56, 90, 132]) is the target value (with index 1). \n",
        "\n",
        "To make **one-step** prediction using **past 2 days** data for multivariate time series, we need the data to be in the format:\n",
        "\n",
        " [[1, 2, 2], [3, 12, 4]] $\\Rightarrow$ 56 <br>\n",
        " [[3, 12, 4], [5, 30, 6]] $\\Rightarrow$ 90 <br>\n",
        " [[5, 30, 6], [7, 56, 8]] $\\Rightarrow$ 132 <br>\n",
        "\n",
        "Similarly, to make **two-step** prediction using **past 2 days** data for the same time series, we want the data to be in the format:\n",
        "\n",
        "We want the data to be in the format:\n",
        "\n",
        " [[1, 2, 2], [3, 12, 4]]  $\\Rightarrow$ [56, 90]<br>\n",
        " [[3, 12, 4], [5, 30, 6]] $\\Rightarrow$ [90, 132] <br>\n",
        "\n",
        "To get the data in this format, we define a generator function:\n",
        "\n",
        "\n"
      ]
    },
    {
      "cell_type": "code",
      "metadata": {
        "id": "qi_utuf1sgTt",
        "colab_type": "code",
        "colab": {}
      },
      "source": [
        "def generator(data, look_back, pred_step, min_index, max_index,\n",
        "              shuffle=False, batch_size=1, step=1):\n",
        "    if max_index is None:\n",
        "        max_index = len(data) - pred_step \n",
        "\n",
        "    # i represents each batch\n",
        "    i = min_index + look_back\n",
        "    while True:\n",
        "        if shuffle:\n",
        "            rows = np.random.randint(\n",
        "                    min_index + look_back, max_index, size=batch_size)\n",
        "        else:\n",
        "            if i + batch_size > max_index:\n",
        "                i = min_index + look_back    # start over\n",
        "            rows = np.arange(i, min(i + batch_size, max_index))\n",
        "            i += len(rows)\n",
        "\n",
        "        samples = np.zeros((len(rows),  # number of samples in each batch\n",
        "                            look_back // step,  # number of time steps in each sample  \n",
        "                            data.shape[-1]))  # number of features in each sample  \n",
        "\n",
        "        targets = np.zeros((len(rows), pred_step//step)) if pred_step > 1 \\\n",
        "                                                     else np.zeros((len(rows)))\n",
        "\n",
        "        # j represents each sample\n",
        "        for j, row in enumerate(rows):\n",
        "            indices = range(rows[j] - look_back, rows[j], step) # note rows[j] is not included\n",
        "            samples[j] = data[indices]\n",
        "            if pred_step > 1:\n",
        "                targets[j] = [dt[1] for dt in \n",
        "                              data[(rows[j]+1):(rows[j] + pred_step + 1):step]]\n",
        "            else:\n",
        "                targets[j] = data[rows[j] + pred_step][1]\n",
        "    \n",
        "        yield samples, targets"
      ],
      "execution_count": 0,
      "outputs": []
    },
    {
      "cell_type": "markdown",
      "metadata": {
        "id": "X1RjptxiJbPa",
        "colab_type": "text"
      },
      "source": [
        "Note: in `range()` and `lst[:]` the right limit is not included.\n",
        " \n",
        "\n",
        "- **data**: The original array of floating-point data of shape (timesteps, features)\n",
        "- **look_back**: How many timesteps back the input data should go\n",
        "- **pred_step**: How many timesteps in the future the target should be\n",
        "- **min_index** and **max_index**: Indices in the data array that delimit which timesteps to draw from. This is useful for keeping a segment of the data for validation and another for testing.\n",
        "- **shuffle**: Whether to shuffle the samples or draw them in chronological order\n",
        "- **batch_size**: The number of samples per batch\n",
        "- **step**: The period, in timesteps, at which you sample data. "
      ]
    },
    {
      "cell_type": "markdown",
      "metadata": {
        "id": "yOpT60txEoEc",
        "colab_type": "text"
      },
      "source": [
        "**This function can be illustrated by the image below:**\n",
        "\n",
        "<center><img src='https://drive.google.com/uc?id=1SCd0rbpJL4DQL871mZf2BVLwAhW5TJDu' width=500></img></center>\n",
        "\n",
        "At index t:\n",
        "- input data is: $[x_{(t-\\text{look_back})},...,x_{t-2},x_{t-1}]$\n",
        "- output target is: $[x_{(t+\\text{pred_step})}]$\n",
        "\n"
      ]
    },
    {
      "cell_type": "markdown",
      "metadata": {
        "id": "YIr1XtU4zsfk",
        "colab_type": "text"
      },
      "source": [
        "\n",
        "\n",
        "\n",
        "#### Unit test:"
      ]
    },
    {
      "cell_type": "code",
      "metadata": {
        "id": "ZUF-dG05sk7c",
        "colab_type": "code",
        "outputId": "2fa96c16-feeb-400c-f510-d919dc9da611",
        "colab": {
          "base_uri": "https://localhost:8080/",
          "height": 163
        }
      },
      "source": [
        "example_ts = np.array([[1, 2, 2], [3, 12, 4], \n",
        "                       [5, 30, 6], [7, 56, 8], \n",
        "                       [9, 90, 10], [11, 132, 12]])\n",
        "example_ts = example_ts.reshape(-1, 3)   # multivariate data with 3 features\n",
        "example_gen = generator(example_ts, look_back=2, pred_step=1, \n",
        "                        min_index=0, max_index=None)\n",
        "i = 0\n",
        "while i <= 3:\n",
        "  display(next(example_gen))\n",
        "  i += 1"
      ],
      "execution_count": 5,
      "outputs": [
        {
          "output_type": "display_data",
          "data": {
            "text/plain": [
              "(array([[[ 1.,  2.,  2.],\n",
              "         [ 3., 12.,  4.]]]), array([56.]))"
            ]
          },
          "metadata": {
            "tags": []
          }
        },
        {
          "output_type": "display_data",
          "data": {
            "text/plain": [
              "(array([[[ 3., 12.,  4.],\n",
              "         [ 5., 30.,  6.]]]), array([90.]))"
            ]
          },
          "metadata": {
            "tags": []
          }
        },
        {
          "output_type": "display_data",
          "data": {
            "text/plain": [
              "(array([[[ 5., 30.,  6.],\n",
              "         [ 7., 56.,  8.]]]), array([132.]))"
            ]
          },
          "metadata": {
            "tags": []
          }
        },
        {
          "output_type": "display_data",
          "data": {
            "text/plain": [
              "(array([[[ 1.,  2.,  2.],\n",
              "         [ 3., 12.,  4.]]]), array([56.]))"
            ]
          },
          "metadata": {
            "tags": []
          }
        }
      ]
    },
    {
      "cell_type": "code",
      "metadata": {
        "id": "e2VDui9VVtK0",
        "colab_type": "code",
        "outputId": "fd82e068-746a-4b5a-f6cf-21773ca9d0c9",
        "colab": {
          "base_uri": "https://localhost:8080/",
          "height": 163
        }
      },
      "source": [
        "example_gen = generator(example_ts, look_back=2, pred_step=2, \n",
        "                        min_index=0, max_index=None)\n",
        "i = 0\n",
        "while i <= 3:\n",
        "  display(next(example_gen))\n",
        "  \n",
        "  i += 1"
      ],
      "execution_count": 6,
      "outputs": [
        {
          "output_type": "display_data",
          "data": {
            "text/plain": [
              "(array([[[ 1.,  2.,  2.],\n",
              "         [ 3., 12.,  4.]]]), array([[56., 90.]]))"
            ]
          },
          "metadata": {
            "tags": []
          }
        },
        {
          "output_type": "display_data",
          "data": {
            "text/plain": [
              "(array([[[ 3., 12.,  4.],\n",
              "         [ 5., 30.,  6.]]]), array([[ 90., 132.]]))"
            ]
          },
          "metadata": {
            "tags": []
          }
        },
        {
          "output_type": "display_data",
          "data": {
            "text/plain": [
              "(array([[[ 1.,  2.,  2.],\n",
              "         [ 3., 12.,  4.]]]), array([[56., 90.]]))"
            ]
          },
          "metadata": {
            "tags": []
          }
        },
        {
          "output_type": "display_data",
          "data": {
            "text/plain": [
              "(array([[[ 3., 12.,  4.],\n",
              "         [ 5., 30.,  6.]]]), array([[ 90., 132.]]))"
            ]
          },
          "metadata": {
            "tags": []
          }
        }
      ]
    },
    {
      "cell_type": "markdown",
      "metadata": {
        "id": "EfKodVrF6khs",
        "colab_type": "text"
      },
      "source": [
        "#### Normalize data"
      ]
    },
    {
      "cell_type": "code",
      "metadata": {
        "id": "HFYcuoJ1Prld",
        "colab_type": "code",
        "outputId": "36e55c76-481b-41bd-efbc-26dae1a7b3b1",
        "colab": {
          "base_uri": "https://localhost:8080/",
          "height": 254
        }
      },
      "source": [
        "multi_ts = temperature_df.values\n",
        "TRAIN_SPLIT = 300000 \n",
        "# Only use the training data for normalization\n",
        "multi_train_mean = multi_ts[:TRAIN_SPLIT].mean()\n",
        "multi_train_std = multi_ts[:TRAIN_SPLIT].std()\n",
        "multi_data = (multi_ts-multi_train_mean)/multi_train_std\n",
        "multi_data"
      ],
      "execution_count": 31,
      "outputs": [
        {
          "output_type": "execute_result",
          "data": {
            "text/plain": [
              "array([[ 2.09495432, -0.54712107,  0.17201033, ..., -0.52331835,\n",
              "        -0.52142465, -0.12545789],\n",
              "       [ 2.09508583, -0.54814682,  0.17098458, ..., -0.52413369,\n",
              "        -0.52208219, -0.16806607],\n",
              "       [ 2.09498063, -0.54840984,  0.17072156, ..., -0.52552766,\n",
              "        -0.52437041, -0.0746963 ],\n",
              "       ...,\n",
              "       [ 2.10363377, -0.53433862,  0.18413525, ..., -0.52318685,\n",
              "        -0.52076712,  0.03997757],\n",
              "       [ 2.10360747, -0.53715286,  0.181321  , ..., -0.52210849,\n",
              "        -0.5203463 ,  0.067857  ],\n",
              "       [ 2.10363377, -0.53870464,  0.17979553, ..., -0.52279232,\n",
              "        -0.52087233, -0.03971551]])"
            ]
          },
          "metadata": {
            "tags": []
          },
          "execution_count": 31
        }
      ]
    },
    {
      "cell_type": "markdown",
      "metadata": {
        "id": "f7JakGh00FIV",
        "colab_type": "text"
      },
      "source": [
        "In this note, the network is shown data from the last five (5) days, i.e. 720 observations that are sampled every hour. The sampling is done every one hour (step=6). Thus, 120 observation represent history of the last five days. For the single step prediction model, the label for a datapoint is the temperature 12 hours into the future. In order to create a label for this, the temperature after 72(12*6) observations is used."
      ]
    },
    {
      "cell_type": "code",
      "metadata": {
        "id": "zEB-stIKy-OK",
        "colab_type": "code",
        "colab": {}
      },
      "source": [
        "look_back = 720 \n",
        "pred_step = 72   \n",
        "STEP = 6          \n",
        "BATCH_SIZE = 256\n",
        "\n",
        "train_gen = generator(multi_data, \n",
        "                      look_back, \n",
        "                      pred_step, \n",
        "                      min_index=0, \n",
        "                      max_index=TRAIN_SPLIT,\n",
        "                      shuffle=True,\n",
        "                      step=STEP,\n",
        "                      batch_size=BATCH_SIZE)\n",
        "\n",
        "val_gen = generator(multi_data, \n",
        "                    look_back, \n",
        "                    pred_step, \n",
        "                    min_index=TRAIN_SPLIT+1,\n",
        "                    max_index=None,\n",
        "                    step=STEP,\n",
        "                    batch_size=BATCH_SIZE)"
      ],
      "execution_count": 0,
      "outputs": []
    },
    {
      "cell_type": "markdown",
      "metadata": {
        "id": "BVxzCwmTz7l4",
        "colab_type": "text"
      },
      "source": [
        "Let's take a look at a single data point in your training set:"
      ]
    },
    {
      "cell_type": "code",
      "metadata": {
        "id": "SpUNdN5F0xpn",
        "colab_type": "code",
        "outputId": "16c96b5d-9d39-4d1c-da74-f4a8d672405d",
        "colab": {
          "base_uri": "https://localhost:8080/",
          "height": 54
        }
      },
      "source": [
        "# Each batch has 256 data points\n",
        "first_train_data = next(train_gen) \n",
        "print(len(first_train_data[0]))  # input data x\n",
        "print(len(first_train_data[1]))  # target value y"
      ],
      "execution_count": 33,
      "outputs": [
        {
          "output_type": "stream",
          "text": [
            "256\n",
            "256\n"
          ],
          "name": "stdout"
        }
      ]
    },
    {
      "cell_type": "code",
      "metadata": {
        "id": "g-nDtkTr0203",
        "colab_type": "code",
        "outputId": "1d0ddcde-aead-471e-a66b-1ebf696c7d10",
        "colab": {
          "base_uri": "https://localhost:8080/",
          "height": 54
        }
      },
      "source": [
        "# Shape for the first sample (index 0)\n",
        "print(first_train_data[0][0].shape)\n",
        "print(first_train_data[1][0].shape)"
      ],
      "execution_count": 34,
      "outputs": [
        {
          "output_type": "stream",
          "text": [
            "(120, 14)\n",
            "(12,)\n"
          ],
          "name": "stdout"
        }
      ]
    },
    {
      "cell_type": "markdown",
      "metadata": {
        "id": "Znow_G9hrKtO",
        "colab_type": "text"
      },
      "source": [
        "### Visulize input & target value\n",
        "\n",
        "Let's plot the historical & target temperature value for this first data point: look back 5 days (120 hours) an predict 12 hours into the future.\n"
      ]
    },
    {
      "cell_type": "code",
      "metadata": {
        "id": "GzKvj8yHD6NZ",
        "colab_type": "code",
        "outputId": "9fda251c-4ea7-4ca0-a383-c51bde7c1e90",
        "colab": {
          "base_uri": "https://localhost:8080/",
          "height": 265
        }
      },
      "source": [
        "x_train_first = [dt[1] for dt in first_train_data[0][0]] # Only check the target vlue\n",
        "y_train_first = first_train_data[1][0]\n",
        "plt.plot(range(len(x_train_first)), x_train_first, label='historical data')\n",
        "plt.plot(range(len(x_train_first), len(x_train_first) + int(pred_step/STEP)), y_train_first,\n",
        "         color='blue', marker='o', label='target value')\n",
        "plt.legend()\n",
        "plt.show()"
      ],
      "execution_count": 12,
      "outputs": [
        {
          "output_type": "display_data",
          "data": {
            "image/png": "[encoded data removed]",
            "text/plain": [
              "<Figure size 432x288 with 1 Axes>"
            ]
          },
          "metadata": {
            "tags": [],
            "needs_background": "light"
          }
        }
      ]
    },
    {
      "cell_type": "markdown",
      "metadata": {
        "id": "GWi2zlRr-2fw",
        "colab_type": "text"
      },
      "source": [
        "### A LSTM model for time series forecast\n",
        "Since the task here is a bit complicated, \n",
        "the model consists of two LSTM layers. Besides, since 12 predictions are made, the final dense layer has 12 units (outputs 12 predictions)."
      ]
    },
    {
      "cell_type": "code",
      "metadata": {
        "id": "d-c6xiRDjmJD",
        "colab_type": "code",
        "outputId": "27daa367-d471-4c7b-900e-503b2cb613e5",
        "colab": {
          "base_uri": "https://localhost:8080/",
          "height": 345
        }
      },
      "source": [
        "model = Sequential()\n",
        "\n",
        "model.add(LSTM(32, dropout=0.1, \n",
        "              input_shape=(120, 14)))\n",
        "model.add(layers.BatchNormalization())\n",
        "\n",
        "model.add(Dense(16, activation='relu'))\n",
        "model.add(layers.BatchNormalization())\n",
        "\n",
        "model.add(Dense(12))  \n",
        "\n",
        "model.compile(optimizer=RMSprop(lr=0.001, clipnorm=1), loss='mae')\n",
        "model.summary()"
      ],
      "execution_count": 38,
      "outputs": [
        {
          "output_type": "stream",
          "text": [
            "Model: \"sequential_8\"\n",
            "_________________________________________________________________\n",
            "Layer (type)                 Output Shape              Param #   \n",
            "=================================================================\n",
            "lstm_8 (LSTM)                (None, 32)                6016      \n",
            "_________________________________________________________________\n",
            "batch_normalization_13 (Batc (None, 32)                128       \n",
            "_________________________________________________________________\n",
            "dense_13 (Dense)             (None, 16)                528       \n",
            "_________________________________________________________________\n",
            "batch_normalization_14 (Batc (None, 16)                64        \n",
            "_________________________________________________________________\n",
            "dense_14 (Dense)             (None, 12)                204       \n",
            "=================================================================\n",
            "Total params: 6,940\n",
            "Trainable params: 6,844\n",
            "Non-trainable params: 96\n",
            "_________________________________________________________________\n"
          ],
          "name": "stdout"
        }
      ]
    },
    {
      "cell_type": "code",
      "metadata": {
        "id": "R2hJcSZxy8zx",
        "colab_type": "code",
        "colab": {}
      },
      "source": [
        "call_backs = [EarlyStopping(monitor='val_loss',\n",
        "                            patience=5),\n",
        "              ModelCheckpoint(filepath='multi_ts_pred.h5', \n",
        "                              monitor='val_loss',\n",
        "                              save_best_only=True)]"
      ],
      "execution_count": 0,
      "outputs": []
    },
    {
      "cell_type": "code",
      "metadata": {
        "id": "FB9jc9W12G8-",
        "colab_type": "code",
        "outputId": "b979fd83-3658-4848-9212-f6b92ec5ac45",
        "colab": {
          "base_uri": "https://localhost:8080/",
          "height": 745
        }
      },
      "source": [
        "history = model.fit_generator(\n",
        "    train_gen,\n",
        "    epochs=20,\n",
        "    steps_per_epoch=(TRAIN_SPLIT-look_back)//BATCH_SIZE,\n",
        "    validation_data=val_gen,\n",
        "    callbacks=call_backs,\n",
        "    validation_steps=(len(multi_data)-TRAIN_SPLIT-look_back)//BATCH_SIZE\n",
        ")"
      ],
      "execution_count": 40,
      "outputs": [
        {
          "output_type": "stream",
          "text": [
            "Epoch 1/20\n",
            "1169/1169 [==============================] - 207s 177ms/step - loss: 0.0574 - val_loss: 0.0239\n",
            "Epoch 2/20\n",
            "1169/1169 [==============================] - 214s 183ms/step - loss: 0.0117 - val_loss: 0.0247\n",
            "Epoch 3/20\n",
            "1169/1169 [==============================] - 208s 178ms/step - loss: 0.0104 - val_loss: 0.0125\n",
            "Epoch 4/20\n",
            "1169/1169 [==============================] - 207s 177ms/step - loss: 0.0095 - val_loss: 0.0193\n",
            "Epoch 5/20\n",
            "1169/1169 [==============================] - 205s 175ms/step - loss: 0.0094 - val_loss: 0.0182\n",
            "Epoch 6/20\n",
            "1169/1169 [==============================] - 204s 174ms/step - loss: 0.0092 - val_loss: 0.0132\n",
            "Epoch 7/20\n",
            "1169/1169 [==============================] - 203s 174ms/step - loss: 0.0087 - val_loss: 0.0100\n",
            "Epoch 8/20\n",
            "1169/1169 [==============================] - 205s 176ms/step - loss: 0.0084 - val_loss: 0.0122\n",
            "Epoch 9/20\n",
            "1169/1169 [==============================] - 203s 174ms/step - loss: 0.0082 - val_loss: 0.0221\n",
            "Epoch 10/20\n",
            "1169/1169 [==============================] - 204s 175ms/step - loss: 0.0079 - val_loss: 0.0074\n",
            "Epoch 11/20\n",
            "1169/1169 [==============================] - 204s 174ms/step - loss: 0.0077 - val_loss: 0.0066\n",
            "Epoch 12/20\n",
            "1169/1169 [==============================] - 203s 173ms/step - loss: 0.0076 - val_loss: 0.0070\n",
            "Epoch 13/20\n",
            "1169/1169 [==============================] - 203s 174ms/step - loss: 0.0075 - val_loss: 0.0086\n",
            "Epoch 14/20\n",
            "1169/1169 [==============================] - 201s 172ms/step - loss: 0.0074 - val_loss: 0.0200\n",
            "Epoch 15/20\n",
            "1169/1169 [==============================] - 204s 175ms/step - loss: 0.0073 - val_loss: 0.0077\n",
            "Epoch 16/20\n",
            "1169/1169 [==============================] - 204s 174ms/step - loss: 0.0072 - val_loss: 0.0051\n",
            "Epoch 17/20\n",
            "1169/1169 [==============================] - 203s 174ms/step - loss: 0.0072 - val_loss: 0.0073\n",
            "Epoch 18/20\n",
            "1169/1169 [==============================] - 200s 171ms/step - loss: 0.0071 - val_loss: 0.0059\n",
            "Epoch 19/20\n",
            "1169/1169 [==============================] - 205s 175ms/step - loss: 0.0070 - val_loss: 0.0108\n",
            "Epoch 20/20\n",
            "1169/1169 [==============================] - 200s 171ms/step - loss: 0.0069 - val_loss: 0.0071\n"
          ],
          "name": "stdout"
        }
      ]
    },
    {
      "cell_type": "markdown",
      "metadata": {
        "id": "KG3nAmOJdwU1",
        "colab_type": "text"
      },
      "source": [
        "**There might be `nan` loss during the training of this model, this is because:**\n",
        "\n",
        "> Regression with neural networks is hard to get working because the output is unbounded, so you are especially prone to the exploding gradients problem (the likely cause of the nan loss). Historically, one key solution to exploding gradients was to reduce the learning rate, but with the advent of per-parameter adaptive learning rate algorithms like Adam, you no longer need to set a learning rate to get good performance. There is very little reason to use SGD with momentum anymore unless you're a neural network fiend and know how to tune the learning schedule.\n",
        "\n",
        "**Here are some things you could potentially try:**\n",
        "\n",
        "- Normalize the outputs by quantile normalizing or z scoring. To be rigorous, compute this transformation on the training data, not on the entire dataset. For example, with quantile normalization, if an example is in the 60th percentile of the training set, it gets a value of 0.6. (You can also shift the quantile normalized values down by 0.5 so that the 0th percentile is -0.5 and the 100th percentile is +0.5)\n",
        "\n",
        "- Add regularization, either by increasing the dropout rate or adding L1 and L2 penalties to the weights. \n",
        "\n",
        "- Reduce the size of the network. This is not always the best idea since it can harm performance.\n",
        "\n",
        "- Increase the batch size could potentially increase the stability of the optimization."
      ]
    },
    {
      "cell_type": "markdown",
      "metadata": {
        "id": "1MAurBNPwpzu",
        "colab_type": "text"
      },
      "source": [
        "**Besies, you may find validation loss is lower than training loss which is counter-intuitive, this might because**:\n",
        "\n",
        "When dropout regularization is being used in the network, it is reasonable that the validation error is smaller than training error. Because usually dropout is activated when training but deactivated when evaluating on the validation set. You get a more smooth (usually means better) function in the latter case."
      ]
    },
    {
      "cell_type": "code",
      "metadata": {
        "id": "7RPcqaPijl9J",
        "colab_type": "code",
        "outputId": "e5b41498-8db2-40d1-8fab-7f1f3adf36cc",
        "colab": {
          "base_uri": "https://localhost:8080/",
          "height": 271
        }
      },
      "source": [
        "ax = pd.DataFrame(history.history)[['loss', 'val_loss']].plot(marker='.')\n",
        "ax.legend(bbox_to_anchor=(1.5, 1.05))\n",
        "plt.show()"
      ],
      "execution_count": 41,
      "outputs": [
        {
          "output_type": "display_data",
          "data": {
            "image/png": "[encoded data removed]",
            "text/plain": [
              "<Figure size 432x288 with 1 Axes>"
            ]
          },
          "metadata": {
            "tags": [],
            "needs_background": "light"
          }
        }
      ]
    },
    {
      "cell_type": "markdown",
      "metadata": {
        "id": "XqdguQQfZo4x",
        "colab_type": "text"
      },
      "source": [
        "### Visualize prediction result"
      ]
    },
    {
      "cell_type": "code",
      "metadata": {
        "id": "Hb-J7DudT3Xh",
        "colab_type": "code",
        "colab": {}
      },
      "source": [
        "best_model = load_model('multi_ts_pred.h5')"
      ],
      "execution_count": 0,
      "outputs": []
    },
    {
      "cell_type": "code",
      "metadata": {
        "id": "8p44Utm2QoT4",
        "colab_type": "code",
        "colab": {}
      },
      "source": [
        "def plot_pred_target(x, y, pred_step, step):\n",
        "    x_train_first = [dt[1] for dt in x] # Only check the target vlue\n",
        "    y_train_first = y\n",
        "    plt.plot(range(len(x_train_first)), x_train_first, label='historical data')\n",
        "    plt.plot(range(len(x_train_first)+1, len(x_train_first)+1 + int(pred_step/step)), \n",
        "            y_train_first, color='blue', marker='o', label='target value')\n",
        "    plt.plot(range(len(x_train_first)+1, len(x_train_first)+1 + int(pred_step/step)), \n",
        "            best_model.predict(x.reshape(1, 120, 14))[0],\n",
        "            color='red', marker='o', label='predicted value')\n",
        "    plt.legend()\n",
        "    plt.show()\n",
        "    return "
      ],
      "execution_count": 0,
      "outputs": []
    },
    {
      "cell_type": "code",
      "metadata": {
        "id": "Q_wfgzQ_qEGB",
        "colab_type": "code",
        "outputId": "a15ec4e5-9185-4993-f2d3-f66218d8c2c3",
        "colab": {
          "base_uri": "https://localhost:8080/",
          "height": 265
        }
      },
      "source": [
        "x = first_train_data[0][0]\n",
        "y = first_train_data[1][0]\n",
        "plot_pred_target(x, y, pred_step, STEP)"
      ],
      "execution_count": 70,
      "outputs": [
        {
          "output_type": "display_data",
          "data": {
            "image/png": "[encoded data removed]",
            "text/plain": [
              "<Figure size 432x288 with 1 Axes>"
            ]
          },
          "metadata": {
            "tags": [],
            "needs_background": "light"
          }
        }
      ]
    },
    {
      "cell_type": "code",
      "metadata": {
        "id": "08505affZDuI",
        "colab_type": "code",
        "outputId": "8058901a-7e56-4e49-b2a8-56d1dd60cce0",
        "colab": {
          "base_uri": "https://localhost:8080/",
          "height": 265
        }
      },
      "source": [
        "x = first_train_data[0][22]\n",
        "y = first_train_data[1][22]\n",
        "plot_pred_target(x, y, pred_step, STEP)"
      ],
      "execution_count": 71,
      "outputs": [
        {
          "output_type": "display_data",
          "data": {
            "image/png": "[encoded data removed]",
            "text/plain": [
              "<Figure size 432x288 with 1 Axes>"
            ]
          },
          "metadata": {
            "tags": [],
            "needs_background": "light"
          }
        }
      ]
    },
    {
      "cell_type": "code",
      "metadata": {
        "id": "B9PrRXQvhums",
        "colab_type": "code",
        "colab": {
          "base_uri": "https://localhost:8080/",
          "height": 268
        },
        "outputId": "5e43b575-bd2d-4260-a936-3e1d571daa27"
      },
      "source": [
        "x = first_train_data[0][4]\n",
        "y = first_train_data[1][4]\n",
        "plot_pred_target(x, y, pred_step, STEP)"
      ],
      "execution_count": 72,
      "outputs": [
        {
          "output_type": "display_data",
          "data": {
            "image/png": "[encoded data removed]",
            "text/plain": [
              "<Figure size 432x288 with 1 Axes>"
            ]
          },
          "metadata": {
            "tags": [],
            "needs_background": "light"
          }
        }
      ]
    },
    {
      "cell_type": "markdown",
      "metadata": {
        "id": "3lM7ZJngzfsh",
        "colab_type": "text"
      },
      "source": [
        "Useful Reference:\n",
        "\n",
        "1. [TensorFlow tutorial: Time Series Forecasting](https://www.tensorflow.org/tutorials/structured_data/time_series)\n",
        "\n",
        "2. [Machinelearningmastery: How to Use the TimeseriesGenerator for Time Series Forecasting in Keras](\n",
        "https://machinelearningmastery.com/how-to-use-the-timeseriesgenerator-for-time-series-forecasting-in-keras/)\n",
        "\n",
        "3. [Stackoverflow: steps_per_epoch v.s. validation_steps](https://stackoverflow.com/questions/45943675/meaning-of-validation-steps-in-keras-sequential-fit-generator-parameter-list)"
      ]
    },
    {
      "cell_type": "code",
      "metadata": {
        "id": "-U2_ay-ppAOA",
        "colab_type": "code",
        "colab": {}
      },
      "source": [
        ""
      ],
      "execution_count": 0,
      "outputs": []
    }
  ]
}