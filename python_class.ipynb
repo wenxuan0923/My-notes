{
 "cells": [
  {
   "cell_type": "markdown",
   "metadata": {},
   "source": [
    "## Object Oriented Programming in Python\n",
    "\n",
    "### Class and instance\n",
    "\n",
    "**Classes** are used to create new user-defined data structures that contain arbitrary information about something. For example, you want to track the students in your class. You have their name and age as attributes. Here you define a rule to describe each student in yuor class. However, a class just provides structure — it’s a blueprint for how something should be defined, but it doesn’t actually provide any real content itself. \n",
    "\n",
    "While the class is the blueprint, an **instance/object** is a copy of the class with actual values, literally an object belonging to a specific class. It’s not an idea anymore; it’s an actual student, like a girl named Lily who’s eight years old.\n",
    "\n",
    "A class is defined using the `class` keyword:\n",
    "```\n",
    "class ClassName:\n",
    "    ...\n",
    "```\n",
    "An object/instance of of the class is defined as:\n",
    "```\n",
    "new_instance = ClassName()\n",
    "```"
   ]
  },
  {
   "cell_type": "markdown",
   "metadata": {},
   "source": [
    "### Attributes/Fields\n",
    "\n",
    "Variables belong to an object or class are referred to as **fields**. \n",
    "\n",
    "Variables belong to a class is called **class variables** \n",
    "> Class variables are shared: they can be accessed by all instances of that class. If one object makes a change to a class variable, the change will be seen by all other instances \n",
    "\n",
    "Variables belong to an object is called **instance variables** <br>\n",
    "> Object variables are owned by each individual object of the class: they are not related in any way to the field by the same name in a different instance\n",
    "> \n",
    "\n",
    "### Methods\n",
    "* Objects can use functions belong to a class, which are **methods** of the class\n",
    "* Every class method must have an **self** argument at the begining of its parameter list, even though it may not take any argument\n",
    "> When you create an object `myobject` of class `Myclass`. When you call a method of this object `myobject.method(arg1, arg2)`, this is automatically converted into `Myclass.method(myobject, arg1, arg2)` with the help of `self` argument\n",
    "* The `__init__` method is run as soon as an object of a class is created **without being called**.\n",
    ">  The method is useful to do any initialization you want to do with your object. Notice the double underscores both at the beginning and at the end of the name.\n",
    "\n",
    "#### Example 1"
   ]
  },
  {
   "cell_type": "code",
   "execution_count": 17,
   "metadata": {},
   "outputs": [],
   "source": [
    "class Student:\n",
    "    total = 34\n",
    "    def __init__(self, name, age):\n",
    "        self.name = name\n",
    "        self.age = age\n",
    "\n",
    "student_1 = Student('Lily', 8)\n",
    "student_2 = Student('Jimmy', 7)"
   ]
  },
  {
   "cell_type": "markdown",
   "metadata": {},
   "source": [
    "Here `total` is class variable. Class attributes are the same for all instances belongs to that class. <br>\n",
    "Class variables can be accessed by both class and objects."
   ]
  },
  {
   "cell_type": "code",
   "execution_count": 19,
   "metadata": {},
   "outputs": [
    {
     "name": "stdout",
     "output_type": "stream",
     "text": [
      "34\n",
      "34\n",
      "34\n"
     ]
    }
   ],
   "source": [
    "print(student_1.total)\n",
    "print(student_2.total)\n",
    "print(Student.total)"
   ]
  },
  {
   "cell_type": "markdown",
   "metadata": {},
   "source": [
    "`name` and `age` are instance variables. When a new student object is being created, the `__init__` method run automatically and assign attributes (name and age) to this object. <br>\n",
    "Attributes belong to an object can be accessed through the dot `.` notation."
   ]
  },
  {
   "cell_type": "code",
   "execution_count": 24,
   "metadata": {},
   "outputs": [
    {
     "name": "stdout",
     "output_type": "stream",
     "text": [
      "Lily\n",
      "7\n"
     ]
    }
   ],
   "source": [
    "print(student_1.name)\n",
    "print(student_2.age)"
   ]
  },
  {
   "cell_type": "markdown",
   "metadata": {},
   "source": [
    "You can also reassign the value of attributes of an object"
   ]
  },
  {
   "cell_type": "code",
   "execution_count": 26,
   "metadata": {},
   "outputs": [
    {
     "name": "stdout",
     "output_type": "stream",
     "text": [
      "Amy\n"
     ]
    }
   ],
   "source": [
    "student_1.name = 'Amy'\n",
    "print(student_1.name)"
   ]
  },
  {
   "cell_type": "markdown",
   "metadata": {},
   "source": [
    "If you try to change the class variable through an object, other objects belong to the same class and the class will not be affected."
   ]
  },
  {
   "cell_type": "code",
   "execution_count": 21,
   "metadata": {},
   "outputs": [
    {
     "name": "stdout",
     "output_type": "stream",
     "text": [
      "22\n",
      "34\n",
      "34\n"
     ]
    }
   ],
   "source": [
    "student_1.total = 22\n",
    "print(student_1.total)\n",
    "print(student_2.total)\n",
    "print(Student.total)"
   ]
  },
  {
   "cell_type": "markdown",
   "metadata": {},
   "source": [
    "#### Example 2"
   ]
  },
  {
   "cell_type": "code",
   "execution_count": 6,
   "metadata": {},
   "outputs": [],
   "source": [
    "class GummyBear:\n",
    "    \n",
    "    \"\"\"Represents a gummy bear, with a color.\"\"\"\n",
    "    total = 0\n",
    "    def __init__(self, color):\n",
    "        \"\"\"Initializes the data.\"\"\"\n",
    "        self.color = color\n",
    "        print(\"Initializing {}\".format(self.color))\n",
    "        # When an gummy bear object is created, it is\n",
    "        # added to the total\n",
    "        GummyBear.total += 1\n",
    "        \n",
    "    def die(self):\n",
    "        print(\"A {} gummy bear is being eaten!\".format(self.color))\n",
    "        GummyBear.total -= 1\n",
    "        if GummyBear.total == 0:\n",
    "            print(\"{} was the last one.\".format(self.color))\n",
    "        else:\n",
    "            print(\"There are still {:d} gummy bear alive.\".format(GummyBear.total))\n",
    "        \n",
    "    @classmethod\n",
    "    def how_many(cls):\n",
    "        \"\"\"Prints the current total amount\"\"\"\n",
    "        print(\"We have {:d} gummy bears.\".format(cls.total))\n",
    "        "
   ]
  },
  {
   "cell_type": "markdown",
   "metadata": {},
   "source": [
    "* `total` is a class variable, counting the total number of gummy bears. We need to use `GummyBear.total` to refer to this variable.\n",
    "* `color` is an object variable, it belongs to the self object. We need to use `self.color` to refer to this variable. \n",
    "* Remember, that you must refer to the variables and methods of the same object using the `self` only. This is called an **attribute reference**.\n",
    "* `how_many` is a method belongs to the class not the object.\n",
    "> We have marked the how_many method as a class method using a **decorator**.\n",
    "Decorators can be imagined to be a shortcut to calling a wrapper function (i.e. a function that \"wraps\" around another function so that it can do something before or after the inner function), so applying the `@classmethod` decorator is the same as calling: `how_many = classmethod(how_many)`\n",
    "* Naming convention: any variable that is to be used only within the class or object should begin with an underscore and all other names are public and can be used by other classes/objects. However, this is not forced by Python."
   ]
  },
  {
   "cell_type": "code",
   "execution_count": 7,
   "metadata": {},
   "outputs": [
    {
     "name": "stdout",
     "output_type": "stream",
     "text": [
      "Initializing pink\n",
      "Initializing yellow\n",
      "We have 2 gummy bears.\n",
      "A pink gummy bear is being eaten!\n",
      "There are still 1 gummy bear alive.\n",
      "We have 1 gummy bears.\n",
      "A yellow gummy bear is being eaten!\n",
      "yellow was the last one.\n",
      "We have 0 gummy bears.\n"
     ]
    }
   ],
   "source": [
    "pinky = GummyBear('pink')\n",
    "yellow = GummyBear('yellow')\n",
    "GummyBear.how_many()\n",
    "pinky.die()\n",
    "GummyBear.how_many()\n",
    "yellow.die()\n",
    "GummyBear.how_many()"
   ]
  },
  {
   "cell_type": "markdown",
   "metadata": {},
   "source": [
    "### Inheritance\n",
    "\n",
    "One of the major benefits of object oriented programming is reuse of code and one of the ways this is achieved is through the inheritance mechanism. Inheritance can be best imagined as implementing a type and subtype relationship between classes.\n",
    "\n",
    "Suppose you want to write a program which has to keep track of the teachers and students in a college. They have some common characteristics such as name, age and address. They also have specific characteristics such as salary, courses and leaves for teachers and, marks and fees for students. A good way would be to create a common class called `SchoolMember` and then have the `teacher` and `student` classes inherit from this class, i.e. they will become sub-types of this type (class) and then we can add specific characteristics to these sub-types. The SchoolMember class in this situation is known as the **base class** or the **superclass**. The Teacher and Student classes are called the **derived classes** or **subclasses**. \n",
    "\n",
    "* Any changes in any functionality in the base class will be automatically reflected in the sub class as well. \n",
    "* However, changes in the sub class do not affect other sub class or super class. \n",
    "\n",
    "Another advantage is that you can treat instances of subclasses as instances of superclass, and this is called **polymorphism**.\n",
    "\n",
    "To use inheritance, we specify the base class names in a tuple following the class name in\n",
    "the class definition (for example, `class Teacher(SchoolMember)` ).\n",
    "\n",
    "If more than one class is listed in the inheritance tuple, then it is called **multiple inheritance**."
   ]
  },
  {
   "cell_type": "markdown",
   "metadata": {},
   "source": [
    "#### Example 3"
   ]
  },
  {
   "cell_type": "code",
   "execution_count": 10,
   "metadata": {},
   "outputs": [],
   "source": [
    "class SchoolMember:\n",
    "    '''Represents any school member.'''\n",
    "    def __init__(self, name, age):   # common characteristics\n",
    "        self.name = name\n",
    "        self.age = age\n",
    "        print('(Initialized SchoolMember: {})'.format(self.name))\n",
    "    def tell(self):\n",
    "        '''Tell my details.'''\n",
    "        print('Name:\"{}\" Age:\"{}\"'.format(self.name, self.age), end=\" \")\n",
    "\n",
    "class Teacher(SchoolMember):\n",
    "    '''Represents a teacher.'''\n",
    "    def __init__(self, name, age, salary):\n",
    "        SchoolMember.__init__(self, name, age)\n",
    "        self.salary = salary\n",
    "        print('(Initialized Teacher: {})'.format(self.name))\n",
    "    def tell(self):\n",
    "        SchoolMember.tell(self)\n",
    "        print('Salary: \"{:d}\"'.format(self.salary))\n",
    "    \n",
    "class Student(SchoolMember):\n",
    "    '''Represents a student.'''\n",
    "    def __init__(self, name, age, marks):\n",
    "        SchoolMember.__init__(self, name, age)\n",
    "        self.marks = marks\n",
    "        print('(Initialized Student: {})'.format(self.name))\n",
    "    def tell(self):\n",
    "        SchoolMember.tell(self)\n",
    "        print('Marks: \"{:d}\"'.format(self.marks))\n",
    "        "
   ]
  },
  {
   "cell_type": "markdown",
   "metadata": {},
   "source": [
    "Python always starts looking for methods in the actual subclass type first, and if it doesn’t find anything, it starts looking at the methods in the subclass’s base classes, one by one in the order they are specified in the tuple (here we only have 1 base class, but you can have multiple base classes) in the class definition:\n",
    "\n",
    "- Since we are defining a `__init__` method in Teacher and Student subclasses, Python does not automatically call the constructor of the base class, you have to explicitly call it yourself. In contrast, if we have not defined an \\_\\_init\\_\\_ method in a subclass, Python will call the constructor of the base class automatically.\n",
    "\n",
    "* While we could treat instances of Teacher or Student as an instance of SchoolMember, and access the tell method of SchoolMember by simply typing Teacher.tell or Student.tell, we instead define another tell method in each subclass (using the tell method of SchoolMember for part of it) to tailor it for that subclass. Because we have done this, when we write `Teacher.tell` Python uses the tell method for that subclass. However, if we did not have a tell method in the subclass, Python would use the tell method in the superclass. \n",
    "\n"
   ]
  },
  {
   "cell_type": "code",
   "execution_count": 12,
   "metadata": {},
   "outputs": [
    {
     "name": "stdout",
     "output_type": "stream",
     "text": [
      "(Initialized SchoolMember: Mr. Nguyen)\n",
      "(Initialized Teacher: Mr. Nguyen)\n",
      "(Initialized SchoolMember: Thalia)\n",
      "(Initialized Student: Thalia)\n",
      "\n",
      "Name:\"Mr. Nguyen\" Age:\"27\" Salary: \"10000\"\n",
      "Name:\"Thalia\" Age:\"26\" Marks: \"85\"\n"
     ]
    }
   ],
   "source": [
    "t = Teacher('Mr. Nguyen', 27, 10000)\n",
    "s = Student('Thalia', 26, 85)\n",
    "# prints a blank line\n",
    "print()\n",
    "for member in [t, s]:\n",
    "    # Works for both Teachers and Students\n",
    "    member.tell()"
   ]
  },
  {
   "cell_type": "code",
   "execution_count": null,
   "metadata": {},
   "outputs": [],
   "source": []
  }
 ],
 "metadata": {
  "kernelspec": {
   "display_name": "Python 3",
   "language": "python",
   "name": "python3"
  },
  "language_info": {
   "codemirror_mode": {
    "name": "ipython",
    "version": 3
   },
   "file_extension": ".py",
   "mimetype": "text/x-python",
   "name": "python",
   "nbconvert_exporter": "python",
   "pygments_lexer": "ipython3",
   "version": "3.7.6"
  }
 },
 "nbformat": 4,
 "nbformat_minor": 4
}
