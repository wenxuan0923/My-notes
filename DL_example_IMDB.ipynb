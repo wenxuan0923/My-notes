{
  "nbformat": 4,
  "nbformat_minor": 0,
  "metadata": {
    "colab": {
      "name": "DL_example_IMDB.ipynb",
      "provenance": [],
      "collapsed_sections": [],
      "authorship_tag": "ABX9TyOaMR6zUaZwRfapsvB3mPY2",
      "include_colab_link": true
    },
    "kernelspec": {
      "name": "python3",
      "display_name": "Python 3"
    }
  },
  "cells": [
    {
      "cell_type": "markdown",
      "metadata": {
        "id": "view-in-github",
        "colab_type": "text"
      },
      "source": [
        "<a href=\"https://colab.research.google.com/github/wenxuan0923/My-notes/blob/master/DL_example_IMDB.ipynb\" target=\"_parent\"><img src=\"https://colab.research.google.com/assets/colab-badge.svg\" alt=\"Open In Colab\"/></a>"
      ]
    },
    {
      "cell_type": "markdown",
      "metadata": {
        "id": "_Qi13fppLwb7",
        "colab_type": "text"
      },
      "source": [
        "### Deep Learning: Binary Classification \n",
        "#### - IMDB Reviews data\n",
        "Sentiment analysis with binary output: \n",
        "* 0 - Negative \n",
        "* 1 - Positive"
      ]
    },
    {
      "cell_type": "code",
      "metadata": {
        "id": "MQw53NlNIGQS",
        "colab_type": "code",
        "colab": {}
      },
      "source": [
        "import numpy as np\n",
        "import pandas as pd\n",
        "import matplotlib.pyplot as plt \n",
        "plt.style.use('ggplot')\n",
        "from keras.datasets import imdb\n",
        "(train_data, train_labels), (test_data, test_labels) = imdb.load_data(\n",
        "num_words=10000)"
      ],
      "execution_count": 0,
      "outputs": []
    },
    {
      "cell_type": "markdown",
      "metadata": {
        "id": "72aQ6xYwJO7n",
        "colab_type": "text"
      },
      "source": [
        "The review data already been preprocessed: the reviews (sequences of words) have been turned into sequences of integers. \n",
        "Each integer stands for a specific word in a dictionary."
      ]
    },
    {
      "cell_type": "code",
      "metadata": {
        "id": "CxgN-DS2IiWE",
        "colab_type": "code",
        "outputId": "47dfe930-beed-4df6-8c10-956d63b4974f",
        "colab": {
          "base_uri": "https://localhost:8080/",
          "height": 173
        }
      },
      "source": [
        "train_data"
      ],
      "execution_count": 0,
      "outputs": [
        {
          "output_type": "execute_result",
          "data": {
            "text/plain": [
              "array([list([1, 14, 22, 16, 43, 530, 973, 1622, 1385, 65, 458, 4468, 66, 3941, 4, 173, 36, 256, 5, 25, 100, 43, 838, 112, 50, 670, 2, 9, 35, 480, 284, 5, 150, 4, 172, 112, 167, 2, 336, 385, 39, 4, 172, 4536, 1111, 17, 546, 38, 13, 447, 4, 192, 50, 16, 6, 147, 2025, 19, 14, 22, 4, 1920, 4613, 469, 4, 22, 71, 87, 12, 16, 43, 530, 38, 76, 15, 13, 1247, 4, 22, 17, 515, 17, 12, 16, 626, 18, 2, 5, 62, 386, 12, 8, 316, 8, 106, 5, 4, 2223, 5244, 16, 480, 66, 3785, 33, 4, 130, 12, 16, 38, 619, 5, 25, 124, 51, 36, 135, 48, 25, 1415, 33, 6, 22, 12, 215, 28, 77, 52, 5, 14, 407, 16, 82, 2, 8, 4, 107, 117, 5952, 15, 256, 4, 2, 7, 3766, 5, 723, 36, 71, 43, 530, 476, 26, 400, 317, 46, 7, 4, 2, 1029, 13, 104, 88, 4, 381, 15, 297, 98, 32, 2071, 56, 26, 141, 6, 194, 7486, 18, 4, 226, 22, 21, 134, 476, 26, 480, 5, 144, 30, 5535, 18, 51, 36, 28, 224, 92, 25, 104, 4, 226, 65, 16, 38, 1334, 88, 12, 16, 283, 5, 16, 4472, 113, 103, 32, 15, 16, 5345, 19, 178, 32]),\n",
              "       list([1, 194, 1153, 194, 8255, 78, 228, 5, 6, 1463, 4369, 5012, 134, 26, 4, 715, 8, 118, 1634, 14, 394, 20, 13, 119, 954, 189, 102, 5, 207, 110, 3103, 21, 14, 69, 188, 8, 30, 23, 7, 4, 249, 126, 93, 4, 114, 9, 2300, 1523, 5, 647, 4, 116, 9, 35, 8163, 4, 229, 9, 340, 1322, 4, 118, 9, 4, 130, 4901, 19, 4, 1002, 5, 89, 29, 952, 46, 37, 4, 455, 9, 45, 43, 38, 1543, 1905, 398, 4, 1649, 26, 6853, 5, 163, 11, 3215, 2, 4, 1153, 9, 194, 775, 7, 8255, 2, 349, 2637, 148, 605, 2, 8003, 15, 123, 125, 68, 2, 6853, 15, 349, 165, 4362, 98, 5, 4, 228, 9, 43, 2, 1157, 15, 299, 120, 5, 120, 174, 11, 220, 175, 136, 50, 9, 4373, 228, 8255, 5, 2, 656, 245, 2350, 5, 4, 9837, 131, 152, 491, 18, 2, 32, 7464, 1212, 14, 9, 6, 371, 78, 22, 625, 64, 1382, 9, 8, 168, 145, 23, 4, 1690, 15, 16, 4, 1355, 5, 28, 6, 52, 154, 462, 33, 89, 78, 285, 16, 145, 95]),\n",
              "       list([1, 14, 47, 8, 30, 31, 7, 4, 249, 108, 7, 4, 5974, 54, 61, 369, 13, 71, 149, 14, 22, 112, 4, 2401, 311, 12, 16, 3711, 33, 75, 43, 1829, 296, 4, 86, 320, 35, 534, 19, 263, 4821, 1301, 4, 1873, 33, 89, 78, 12, 66, 16, 4, 360, 7, 4, 58, 316, 334, 11, 4, 1716, 43, 645, 662, 8, 257, 85, 1200, 42, 1228, 2578, 83, 68, 3912, 15, 36, 165, 1539, 278, 36, 69, 2, 780, 8, 106, 14, 6905, 1338, 18, 6, 22, 12, 215, 28, 610, 40, 6, 87, 326, 23, 2300, 21, 23, 22, 12, 272, 40, 57, 31, 11, 4, 22, 47, 6, 2307, 51, 9, 170, 23, 595, 116, 595, 1352, 13, 191, 79, 638, 89, 2, 14, 9, 8, 106, 607, 624, 35, 534, 6, 227, 7, 129, 113]),\n",
              "       ...,\n",
              "       list([1, 11, 6, 230, 245, 6401, 9, 6, 1225, 446, 2, 45, 2174, 84, 8322, 4007, 21, 4, 912, 84, 2, 325, 725, 134, 2, 1715, 84, 5, 36, 28, 57, 1099, 21, 8, 140, 8, 703, 5, 2, 84, 56, 18, 1644, 14, 9, 31, 7, 4, 9406, 1209, 2295, 2, 1008, 18, 6, 20, 207, 110, 563, 12, 8, 2901, 2, 8, 97, 6, 20, 53, 4767, 74, 4, 460, 364, 1273, 29, 270, 11, 960, 108, 45, 40, 29, 2961, 395, 11, 6, 4065, 500, 7, 2, 89, 364, 70, 29, 140, 4, 64, 4780, 11, 4, 2678, 26, 178, 4, 529, 443, 2, 5, 27, 710, 117, 2, 8123, 165, 47, 84, 37, 131, 818, 14, 595, 10, 10, 61, 1242, 1209, 10, 10, 288, 2260, 1702, 34, 2901, 2, 4, 65, 496, 4, 231, 7, 790, 5, 6, 320, 234, 2766, 234, 1119, 1574, 7, 496, 4, 139, 929, 2901, 2, 7750, 5, 4241, 18, 4, 8497, 2, 250, 11, 1818, 7561, 4, 4217, 5408, 747, 1115, 372, 1890, 1006, 541, 9303, 7, 4, 59, 2, 4, 3586, 2]),\n",
              "       list([1, 1446, 7079, 69, 72, 3305, 13, 610, 930, 8, 12, 582, 23, 5, 16, 484, 685, 54, 349, 11, 4120, 2959, 45, 58, 1466, 13, 197, 12, 16, 43, 23, 2, 5, 62, 30, 145, 402, 11, 4131, 51, 575, 32, 61, 369, 71, 66, 770, 12, 1054, 75, 100, 2198, 8, 4, 105, 37, 69, 147, 712, 75, 3543, 44, 257, 390, 5, 69, 263, 514, 105, 50, 286, 1814, 23, 4, 123, 13, 161, 40, 5, 421, 4, 116, 16, 897, 13, 2, 40, 319, 5872, 112, 6700, 11, 4803, 121, 25, 70, 3468, 4, 719, 3798, 13, 18, 31, 62, 40, 8, 7200, 4, 2, 7, 14, 123, 5, 942, 25, 8, 721, 12, 145, 5, 202, 12, 160, 580, 202, 12, 6, 52, 58, 2, 92, 401, 728, 12, 39, 14, 251, 8, 15, 251, 5, 2, 12, 38, 84, 80, 124, 12, 9, 23]),\n",
              "       list([1, 17, 6, 194, 337, 7, 4, 204, 22, 45, 254, 8, 106, 14, 123, 4, 2, 270, 2, 5, 2, 2, 732, 2098, 101, 405, 39, 14, 1034, 4, 1310, 9, 115, 50, 305, 12, 47, 4, 168, 5, 235, 7, 38, 111, 699, 102, 7, 4, 4039, 9245, 9, 24, 6, 78, 1099, 17, 2345, 2, 21, 27, 9685, 6139, 5, 2, 1603, 92, 1183, 4, 1310, 7, 4, 204, 42, 97, 90, 35, 221, 109, 29, 127, 27, 118, 8, 97, 12, 157, 21, 6789, 2, 9, 6, 66, 78, 1099, 4, 631, 1191, 5, 2642, 272, 191, 1070, 6, 7585, 8, 2197, 2, 2, 544, 5, 383, 1271, 848, 1468, 2, 497, 2, 8, 1597, 8778, 2, 21, 60, 27, 239, 9, 43, 8368, 209, 405, 10, 10, 12, 764, 40, 4, 248, 20, 12, 16, 5, 174, 1791, 72, 7, 51, 6, 1739, 22, 4, 204, 131, 9])],\n",
              "      dtype=object)"
            ]
          },
          "metadata": {
            "tags": []
          },
          "execution_count": 70
        }
      ]
    },
    {
      "cell_type": "code",
      "metadata": {
        "id": "Y7niAkG1KmJ2",
        "colab_type": "code",
        "colab": {}
      },
      "source": [
        "# The dictionary thes dataset used to map words to numerical values\n",
        "word_index = imdb.get_word_index()\n",
        "# Reverse it to map numbers back to words \n",
        "inv_word_index = {v: k for k, v in word_index.items()}"
      ],
      "execution_count": 0,
      "outputs": []
    },
    {
      "cell_type": "code",
      "metadata": {
        "id": "3_l2rIjoK0gk",
        "colab_type": "code",
        "outputId": "254a043a-152d-4275-e981-89a764394dd5",
        "colab": {
          "base_uri": "https://localhost:8080/",
          "height": 54
        }
      },
      "source": [
        "# To revert list of numbers back to text\n",
        "' '.join([inv_word_index[idx] for idx in train_data[0]])"
      ],
      "execution_count": 0,
      "outputs": [
        {
          "output_type": "execute_result",
          "data": {
            "text/plain": [
              "\"the as you with out themselves powerful lets loves their becomes reaching had journalist of lot from anyone to have after out atmosphere never more room and it so heart shows to years of every never going and help moments or of every chest visual movie except her was several of enough more with is now current film as you of mine potentially unfortunately of you than him that with out themselves her get for was camp of you movie sometimes movie that with scary but and to story wonderful that in seeing in character to of 70s musicians with heart had shadows they of here that with her serious to have does when from why what have critics they is you that isn't one will very to as itself with other and in of seen over landed for anyone of and br show's to whether from than out themselves history he name half some br of and odd was two most of mean for 1 any an boat she he should is thought frog but of script you not while history he heart to real at barrel but when from one bit then have two of script their with her nobody most that with wasn't to with armed acting watch an for with heartfelt film want an\""
            ]
          },
          "metadata": {
            "tags": []
          },
          "execution_count": 72
        }
      ]
    },
    {
      "cell_type": "code",
      "metadata": {
        "id": "YWc43CnTJdQP",
        "colab_type": "code",
        "outputId": "acf43f70-3a9e-41fc-e0ad-b099518cd938",
        "colab": {
          "base_uri": "https://localhost:8080/",
          "height": 51
        }
      },
      "source": [
        "print('Train data shape: {}'.format(train_data.shape))\n",
        "print('Test data shape: {}'.format(test_data.shape))"
      ],
      "execution_count": 0,
      "outputs": [
        {
          "output_type": "stream",
          "text": [
            "Train data shape: (25000,)\n",
            "Test data shape: (25000,)\n"
          ],
          "name": "stdout"
        }
      ]
    },
    {
      "cell_type": "code",
      "metadata": {
        "id": "MbkBg2sZIiz3",
        "colab_type": "code",
        "outputId": "3c4ce00d-c9ac-4187-b402-91d03472638c",
        "colab": {
          "base_uri": "https://localhost:8080/",
          "height": 34
        }
      },
      "source": [
        "# Lables are binary: 0 - negative and 1 - positive \n",
        "train_labels"
      ],
      "execution_count": 0,
      "outputs": [
        {
          "output_type": "execute_result",
          "data": {
            "text/plain": [
              "array([1, 0, 0, ..., 0, 1, 0])"
            ]
          },
          "metadata": {
            "tags": []
          },
          "execution_count": 74
        }
      ]
    },
    {
      "cell_type": "markdown",
      "metadata": {
        "id": "SaI5sBqfJ-dl",
        "colab_type": "text"
      },
      "source": [
        "Each review has different length:"
      ]
    },
    {
      "cell_type": "code",
      "metadata": {
        "id": "eClLnd2HJ6MK",
        "colab_type": "code",
        "outputId": "fb2fdf99-1fd7-48d3-d35c-c90d92a25204",
        "colab": {
          "base_uri": "https://localhost:8080/",
          "height": 34
        }
      },
      "source": [
        "# Lengh of reviews in train dataset\n",
        "np.array([len(lst) for lst in train_data])"
      ],
      "execution_count": 0,
      "outputs": [
        {
          "output_type": "execute_result",
          "data": {
            "text/plain": [
              "array([218, 189, 141, ..., 184, 150, 153])"
            ]
          },
          "metadata": {
            "tags": []
          },
          "execution_count": 75
        }
      ]
    },
    {
      "cell_type": "markdown",
      "metadata": {
        "id": "6XRkJ0GvRPCT",
        "colab_type": "text"
      },
      "source": [
        "#### Prepare the data\n",
        "\n",
        "#### 1. Vectorize input data\n",
        "You can't feed list of intergers of different lengths in to a neural network. You have to turn your list into tensors. There are two ways to do that:\n",
        "1. **Pad** your lists so that they all have the same length, turn them into an integer tensor of shape (samples, word_indices) <br>\n",
        "2. **One-hot encode** your lists to turn them into vectors of 0s and 1s. In our case we have 10,000 unique words in the whole text dataset. Each list (sentence) can be turned 10,000-dimensional vector that would be all 0s, except for the indices of the words in that sentence which would be 1s.\n",
        "\n",
        "Let's go with the second option:"
      ]
    },
    {
      "cell_type": "code",
      "metadata": {
        "id": "0SFtAPbNI6zE",
        "colab_type": "code",
        "colab": {}
      },
      "source": [
        "def vectorize_sequences(sequences, dimension=10000):\n",
        "    results = np.zeros((len(sequences), dimension))\n",
        "    for i, sequence in enumerate(sequences):\n",
        "      results[i, sequence] = 1.\n",
        "    return results"
      ],
      "execution_count": 0,
      "outputs": []
    },
    {
      "cell_type": "markdown",
      "metadata": {
        "id": "XY5TloF1v_ma",
        "colab_type": "text"
      },
      "source": [
        "What this function `vectorize_sequences` does can be illustrated by a simple example below:"
      ]
    },
    {
      "cell_type": "code",
      "metadata": {
        "id": "TGJ4UKWWIi2e",
        "colab_type": "code",
        "outputId": "662d979c-917b-4e33-b19e-821f6c9b7ebf",
        "colab": {
          "base_uri": "https://localhost:8080/",
          "height": 51
        }
      },
      "source": [
        "tmp = np.zeros((2,3))\n",
        "tmp"
      ],
      "execution_count": 0,
      "outputs": [
        {
          "output_type": "execute_result",
          "data": {
            "text/plain": [
              "array([[0., 0., 0.],\n",
              "       [0., 0., 0.]])"
            ]
          },
          "metadata": {
            "tags": []
          },
          "execution_count": 77
        }
      ]
    },
    {
      "cell_type": "code",
      "metadata": {
        "id": "x-LQsssNI6wq",
        "colab_type": "code",
        "outputId": "0e6d32cb-234d-407f-b2ba-f54b8f8c058c",
        "colab": {
          "base_uri": "https://localhost:8080/",
          "height": 51
        }
      },
      "source": [
        "a = [0, 1]\n",
        "b = [1, 2]\n",
        "tmp[0, a] = 1\n",
        "tmp[1, b] = 1\n",
        "tmp"
      ],
      "execution_count": 0,
      "outputs": [
        {
          "output_type": "execute_result",
          "data": {
            "text/plain": [
              "array([[1., 1., 0.],\n",
              "       [0., 1., 1.]])"
            ]
          },
          "metadata": {
            "tags": []
          },
          "execution_count": 78
        }
      ]
    },
    {
      "cell_type": "code",
      "metadata": {
        "id": "ZRyXUwzZI61I",
        "colab_type": "code",
        "colab": {}
      },
      "source": [
        "x_train = vectorize_sequences(train_data)\n",
        "x_test = vectorize_sequences(test_data)"
      ],
      "execution_count": 0,
      "outputs": []
    },
    {
      "cell_type": "code",
      "metadata": {
        "id": "wnXbSZkaIi43",
        "colab_type": "code",
        "outputId": "94a651ca-f5e9-4567-c844-5e75b93c7449",
        "colab": {
          "base_uri": "https://localhost:8080/",
          "height": 136
        }
      },
      "source": [
        "x_train"
      ],
      "execution_count": 0,
      "outputs": [
        {
          "output_type": "execute_result",
          "data": {
            "text/plain": [
              "array([[0., 1., 1., ..., 0., 0., 0.],\n",
              "       [0., 1., 1., ..., 0., 0., 0.],\n",
              "       [0., 1., 1., ..., 0., 0., 0.],\n",
              "       ...,\n",
              "       [0., 1., 1., ..., 0., 0., 0.],\n",
              "       [0., 1., 1., ..., 0., 0., 0.],\n",
              "       [0., 1., 1., ..., 0., 0., 0.]])"
            ]
          },
          "metadata": {
            "tags": []
          },
          "execution_count": 80
        }
      ]
    },
    {
      "cell_type": "code",
      "metadata": {
        "id": "JO3sUtr3YqFY",
        "colab_type": "code",
        "colab": {}
      },
      "source": [
        "y_train = np.asarray(train_labels)\n",
        "y_test = np.asarray(test_labels)"
      ],
      "execution_count": 0,
      "outputs": []
    },
    {
      "cell_type": "code",
      "metadata": {
        "id": "ShuVpq4yYyF4",
        "colab_type": "code",
        "outputId": "95024dc5-51e7-4433-c00c-f387a007d921",
        "colab": {
          "base_uri": "https://localhost:8080/",
          "height": 34
        }
      },
      "source": [
        "y_train"
      ],
      "execution_count": 0,
      "outputs": [
        {
          "output_type": "execute_result",
          "data": {
            "text/plain": [
              "array([1, 0, 0, ..., 0, 1, 0])"
            ]
          },
          "metadata": {
            "tags": []
          },
          "execution_count": 82
        }
      ]
    },
    {
      "cell_type": "markdown",
      "metadata": {
        "id": "agK_3g6nUM_K",
        "colab_type": "text"
      },
      "source": [
        "Now the data is ready to be fed into a neural network."
      ]
    },
    {
      "cell_type": "code",
      "metadata": {
        "id": "djQVtz4UIiYW",
        "colab_type": "code",
        "colab": {}
      },
      "source": [
        "from keras import models\n",
        "from keras import layers\n",
        "from keras import optimizers"
      ],
      "execution_count": 0,
      "outputs": []
    },
    {
      "cell_type": "code",
      "metadata": {
        "id": "qRdvQDzwIiab",
        "colab_type": "code",
        "colab": {}
      },
      "source": [
        "# Define the architecture of the model\n",
        "model = models.Sequential()\n",
        "model.add(layers.Dense(16, activation='relu', input_shape=(10000,)))\n",
        "model.add(layers.Dense(16, activation='relu'))\n",
        "model.add(layers.Dense(1, activation='sigmoid'))\n",
        "# Config the model \n",
        "model.compile(optimizer=optimizers.RMSprop(learning_rate=0.001), \n",
        "              loss='binary_crossentropy',\n",
        "              metrics=['accuracy'])"
      ],
      "execution_count": 0,
      "outputs": []
    },
    {
      "cell_type": "code",
      "metadata": {
        "id": "yrYXhEoqIicw",
        "colab_type": "code",
        "outputId": "dfe87f19-2d82-4a88-80e0-66736652c3c7",
        "colab": {
          "base_uri": "https://localhost:8080/",
          "height": 255
        }
      },
      "source": [
        "model.summary()"
      ],
      "execution_count": 0,
      "outputs": [
        {
          "output_type": "stream",
          "text": [
            "Model: \"sequential_3\"\n",
            "_________________________________________________________________\n",
            "Layer (type)                 Output Shape              Param #   \n",
            "=================================================================\n",
            "dense_7 (Dense)              (None, 16)                160016    \n",
            "_________________________________________________________________\n",
            "dense_8 (Dense)              (None, 16)                272       \n",
            "_________________________________________________________________\n",
            "dense_9 (Dense)              (None, 1)                 17        \n",
            "=================================================================\n",
            "Total params: 160,305\n",
            "Trainable params: 160,305\n",
            "Non-trainable params: 0\n",
            "_________________________________________________________________\n"
          ],
          "name": "stdout"
        }
      ]
    },
    {
      "cell_type": "code",
      "metadata": {
        "id": "Au1DXc_YIh3e",
        "colab_type": "code",
        "colab": {}
      },
      "source": [
        "# We have 25000 data in the training set, we can create a validation set from it\n",
        "x_val = x_train[:10000]\n",
        "partial_x_train = x_train[10000:]\n",
        "y_val = y_train[:10000]\n",
        "partial_y_train = y_train[10000:]"
      ],
      "execution_count": 0,
      "outputs": []
    },
    {
      "cell_type": "markdown",
      "metadata": {
        "id": "Mp3fDf6oZGUd",
        "colab_type": "text"
      },
      "source": [
        "While training the model using partial_x_train data, you will also monitor loss and accuracy on the validation set by passing the validation data as the `validation_data` argument. The evaluation metrics for validation set will be prefixed by `val_`."
      ]
    },
    {
      "cell_type": "code",
      "metadata": {
        "id": "dwAThy4gYEAq",
        "colab_type": "code",
        "outputId": "547ce6f5-a044-457e-84fe-d0da2c612591",
        "colab": {
          "base_uri": "https://localhost:8080/",
          "height": 714
        }
      },
      "source": [
        "history = model.fit(\n",
        "    partial_x_train,\n",
        "    partial_y_train,\n",
        "    epochs=20,\n",
        "    batch_size=512,\n",
        "    validation_data=(x_val, y_val))"
      ],
      "execution_count": 0,
      "outputs": [
        {
          "output_type": "stream",
          "text": [
            "Train on 15000 samples, validate on 10000 samples\n",
            "Epoch 1/20\n",
            "15000/15000 [==============================] - 1s 98us/step - loss: 0.5155 - accuracy: 0.8018 - val_loss: 0.4061 - val_accuracy: 0.8632\n",
            "Epoch 2/20\n",
            "15000/15000 [==============================] - 1s 92us/step - loss: 0.3220 - accuracy: 0.9001 - val_loss: 0.3222 - val_accuracy: 0.8768\n",
            "Epoch 3/20\n",
            "15000/15000 [==============================] - 1s 91us/step - loss: 0.2377 - accuracy: 0.9255 - val_loss: 0.2861 - val_accuracy: 0.8867\n",
            "Epoch 4/20\n",
            "15000/15000 [==============================] - 1s 90us/step - loss: 0.1875 - accuracy: 0.9379 - val_loss: 0.2785 - val_accuracy: 0.8881\n",
            "Epoch 5/20\n",
            "15000/15000 [==============================] - 1s 90us/step - loss: 0.1519 - accuracy: 0.9510 - val_loss: 0.2805 - val_accuracy: 0.8873\n",
            "Epoch 6/20\n",
            "15000/15000 [==============================] - 1s 89us/step - loss: 0.1244 - accuracy: 0.9606 - val_loss: 0.2964 - val_accuracy: 0.8847\n",
            "Epoch 7/20\n",
            "15000/15000 [==============================] - 1s 89us/step - loss: 0.1038 - accuracy: 0.9695 - val_loss: 0.3107 - val_accuracy: 0.8807\n",
            "Epoch 8/20\n",
            "15000/15000 [==============================] - 1s 90us/step - loss: 0.0863 - accuracy: 0.9765 - val_loss: 0.3198 - val_accuracy: 0.8813\n",
            "Epoch 9/20\n",
            "15000/15000 [==============================] - 1s 91us/step - loss: 0.0715 - accuracy: 0.9811 - val_loss: 0.3389 - val_accuracy: 0.8828\n",
            "Epoch 10/20\n",
            "15000/15000 [==============================] - 1s 93us/step - loss: 0.0571 - accuracy: 0.9857 - val_loss: 0.3691 - val_accuracy: 0.8801\n",
            "Epoch 11/20\n",
            "15000/15000 [==============================] - 1s 91us/step - loss: 0.0449 - accuracy: 0.9900 - val_loss: 0.3910 - val_accuracy: 0.8781\n",
            "Epoch 12/20\n",
            "15000/15000 [==============================] - 1s 91us/step - loss: 0.0367 - accuracy: 0.9925 - val_loss: 0.4180 - val_accuracy: 0.8749\n",
            "Epoch 13/20\n",
            "15000/15000 [==============================] - 1s 92us/step - loss: 0.0300 - accuracy: 0.9936 - val_loss: 0.4473 - val_accuracy: 0.8751\n",
            "Epoch 14/20\n",
            "15000/15000 [==============================] - 1s 91us/step - loss: 0.0225 - accuracy: 0.9963 - val_loss: 0.4797 - val_accuracy: 0.8728\n",
            "Epoch 15/20\n",
            "15000/15000 [==============================] - 1s 92us/step - loss: 0.0184 - accuracy: 0.9972 - val_loss: 0.5094 - val_accuracy: 0.8710\n",
            "Epoch 16/20\n",
            "15000/15000 [==============================] - 1s 92us/step - loss: 0.0117 - accuracy: 0.9995 - val_loss: 0.5741 - val_accuracy: 0.8626\n",
            "Epoch 17/20\n",
            "15000/15000 [==============================] - 1s 91us/step - loss: 0.0098 - accuracy: 0.9992 - val_loss: 0.5849 - val_accuracy: 0.8670\n",
            "Epoch 18/20\n",
            "15000/15000 [==============================] - 1s 91us/step - loss: 0.0086 - accuracy: 0.9993 - val_loss: 0.6155 - val_accuracy: 0.8680\n",
            "Epoch 19/20\n",
            "15000/15000 [==============================] - 1s 89us/step - loss: 0.0044 - accuracy: 0.9999 - val_loss: 0.6512 - val_accuracy: 0.8668\n",
            "Epoch 20/20\n",
            "15000/15000 [==============================] - 1s 91us/step - loss: 0.0046 - accuracy: 0.9995 - val_loss: 0.6907 - val_accuracy: 0.8653\n"
          ],
          "name": "stdout"
        }
      ]
    },
    {
      "cell_type": "markdown",
      "metadata": {
        "id": "4nyAcI5QZ4eW",
        "colab_type": "text"
      },
      "source": [
        "**Note:** : The call to `model.fit()` returns a History object rather than the fitted model. This object has a member **history**, which is a dictionary containing data about everything that happened during training. The model we will use for prediction is the one we defined our architecture and fit the training data with."
      ]
    },
    {
      "cell_type": "code",
      "metadata": {
        "id": "gLLXQvWDYEH8",
        "colab_type": "code",
        "outputId": "0ae739b1-b83e-47ce-f50c-3529d5dafff7",
        "colab": {
          "base_uri": "https://localhost:8080/",
          "height": 271
        }
      },
      "source": [
        "ax = pd.DataFrame(History.history).plot(marker='.')\n",
        "ax.legend(bbox_to_anchor=(1.1, 1.05))\n",
        "plt.show()"
      ],
      "execution_count": 0,
      "outputs": [
        {
          "output_type": "display_data",
          "data": {
            "image/png": "[encoded data removed]",
            "text/plain": [
              "<Figure size 432x288 with 1 Axes>"
            ]
          },
          "metadata": {
            "tags": []
          }
        }
      ]
    },
    {
      "cell_type": "markdown",
      "metadata": {
        "id": "DiM-iuctawQQ",
        "colab_type": "text"
      },
      "source": [
        "From the plot we can see:\n",
        "\n",
        "* Training loss decreases with every epoch\n",
        "* Training accuracy increases with every epoch\n",
        "* Valication loss decrese first and then increase after about 2 epochs\n",
        "* Validation accuracy increase first and then decrese after about 2 epochs\n",
        "\n",
        "This shows significant overfitting, meaning you’re overoptimizing on the training data, and you end up learning representations that are specific to the training data and don’t generalize to data outside of the training set.\n",
        "\n",
        "Let's train a new model from scrach with smaller number of epochs.\n"
      ]
    },
    {
      "cell_type": "code",
      "metadata": {
        "id": "FPwaZ-vvYEFk",
        "colab_type": "code",
        "outputId": "ea910323-8235-49a8-d345-028fd22591ba",
        "colab": {
          "base_uri": "https://localhost:8080/",
          "height": 170
        }
      },
      "source": [
        "# Define the architecture of the model\n",
        "model = models.Sequential()\n",
        "model.add(layers.Dense(16, activation='relu', input_shape=(10000,)))\n",
        "model.add(layers.Dense(16, activation='relu'))\n",
        "model.add(layers.Dense(1, activation='sigmoid'))\n",
        "# Config the model \n",
        "model.compile(optimizer=optimizers.RMSprop(learning_rate=0.001), \n",
        "              loss='binary_crossentropy',\n",
        "              metrics=['accuracy'])\n",
        "\n",
        "new_history =  model.fit(\n",
        "    partial_x_train,\n",
        "    partial_y_train,\n",
        "    epochs=4,\n",
        "    batch_size=512,\n",
        "    validation_data=(x_val, y_val))"
      ],
      "execution_count": 0,
      "outputs": [
        {
          "output_type": "stream",
          "text": [
            "Train on 15000 samples, validate on 10000 samples\n",
            "Epoch 1/4\n",
            "15000/15000 [==============================] - 2s 111us/step - loss: 0.5170 - accuracy: 0.7763 - val_loss: 0.3787 - val_accuracy: 0.8673\n",
            "Epoch 2/4\n",
            "15000/15000 [==============================] - 1s 92us/step - loss: 0.2981 - accuracy: 0.9043 - val_loss: 0.3067 - val_accuracy: 0.8815\n",
            "Epoch 3/4\n",
            "15000/15000 [==============================] - 1s 94us/step - loss: 0.2213 - accuracy: 0.9271 - val_loss: 0.2779 - val_accuracy: 0.8913\n",
            "Epoch 4/4\n",
            "15000/15000 [==============================] - 1s 93us/step - loss: 0.1715 - accuracy: 0.9439 - val_loss: 0.2941 - val_accuracy: 0.8816\n"
          ],
          "name": "stdout"
        }
      ]
    },
    {
      "cell_type": "code",
      "metadata": {
        "id": "BUGTZWdJYED8",
        "colab_type": "code",
        "outputId": "d4da0a50-37ec-4a63-c46c-2852a0a38046",
        "colab": {
          "base_uri": "https://localhost:8080/",
          "height": 271
        }
      },
      "source": [
        "ax = pd.DataFrame(new_history.history).plot(marker='.')\n",
        "ax.legend(bbox_to_anchor=(1.1, 1.05))\n",
        "plt.show()"
      ],
      "execution_count": 0,
      "outputs": [
        {
          "output_type": "display_data",
          "data": {
            "image/png": "[encoded data removed]",
            "text/plain": [
              "<Figure size 432x288 with 1 Axes>"
            ]
          },
          "metadata": {
            "tags": []
          }
        }
      ]
    },
    {
      "cell_type": "markdown",
      "metadata": {
        "id": "8Fyz_a4NcA63",
        "colab_type": "text"
      },
      "source": [
        "The plot looks better now, the gap between training loss and validation loss is not very big. Same with valication accuracy and training accuracy. \n",
        "\n",
        "#### Make prediction on new data \n",
        "\n",
        "With a trained network, you are able to make prediction on new data. `model.predict()` function will output the probability (a value between 0-1) of each sample below to class 1.\n"
      ]
    },
    {
      "cell_type": "code",
      "metadata": {
        "id": "urnb-iMCbwT-",
        "colab_type": "code",
        "outputId": "bc98a67f-39b9-432d-af5f-de5d19735942",
        "colab": {
          "base_uri": "https://localhost:8080/",
          "height": 136
        }
      },
      "source": [
        "probas = model.predict(x_test)\n",
        "probas"
      ],
      "execution_count": 0,
      "outputs": [
        {
          "output_type": "execute_result",
          "data": {
            "text/plain": [
              "array([[0.18348825],\n",
              "       [0.9993181 ],\n",
              "       [0.78889334],\n",
              "       ...,\n",
              "       [0.08114952],\n",
              "       [0.08768386],\n",
              "       [0.40837294]], dtype=float32)"
            ]
          },
          "metadata": {
            "tags": []
          },
          "execution_count": 96
        }
      ]
    },
    {
      "cell_type": "code",
      "metadata": {
        "id": "gVco5p8pcLj9",
        "colab_type": "code",
        "outputId": "5e6aff69-87a4-41e0-c13f-1f6867d37928",
        "colab": {
          "base_uri": "https://localhost:8080/",
          "height": 136
        }
      },
      "source": [
        "# Convert the probability to labels (classes)\n",
        "(probas < 0.5).astype(np.int)"
      ],
      "execution_count": 0,
      "outputs": [
        {
          "output_type": "execute_result",
          "data": {
            "text/plain": [
              "array([[1],\n",
              "       [0],\n",
              "       [0],\n",
              "       ...,\n",
              "       [1],\n",
              "       [1],\n",
              "       [1]])"
            ]
          },
          "metadata": {
            "tags": []
          },
          "execution_count": 98
        }
      ]
    }
  ]
}