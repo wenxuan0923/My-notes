{
 "cells": [
  {
   "cell_type": "markdown",
   "metadata": {},
   "source": [
    "## Decorators in Python\n",
    "\n",
    "### What is decorator?\n",
    "Decorator is a function returning another function, usually applied as a function transformation using the @wrapper syntax. It adds functionality to an existing code. It's very similar to the function composition in math: $(g \\circ f)(x) = g(f(x))$. The decorator $g$ is acting on top of the exsiting function $f$. Basically a decorator takes in a function, adds some functionality and returns it.\n",
    "\n",
    "#### Example 1"
   ]
  },
  {
   "cell_type": "code",
   "execution_count": 35,
   "metadata": {},
   "outputs": [
    {
     "name": "stdout",
     "output_type": "stream",
     "text": [
      "I'm putting on lipstick\n",
      "I am pretty ^O^\n"
     ]
    }
   ],
   "source": [
    "def make_up(func):\n",
    "    def apply_lipstick(lip):\n",
    "        if lip == 'pale': \n",
    "            print(\"I'm putting on lipstick\")\n",
    "            new_lip = 'red'\n",
    "            return func(new_lip)\n",
    "        else:\n",
    "            return func(lip)\n",
    "    return apply_lipstick\n",
    "\n",
    "def ordinary(lip):\n",
    "    if lip == 'pale':\n",
    "        print(\"I am ordinary T_T\")\n",
    "    else:\n",
    "        print(\"I am pretty ^O^\")\n",
    "        \n",
    "pretty = make_up(ordinary)\n",
    "pretty(lip='pale')"
   ]
  },
  {
   "cell_type": "code",
   "execution_count": 36,
   "metadata": {},
   "outputs": [
    {
     "name": "stdout",
     "output_type": "stream",
     "text": [
      "I am pretty ^O^\n"
     ]
    }
   ],
   "source": [
    "pretty(lip='pink')"
   ]
  },
  {
   "cell_type": "markdown",
   "metadata": {},
   "source": [
    "In this example, `make_up` is a decorator. The function `ordinary()` got decorated and returned a new function `pretty`.\n",
    "This is a common construct and for this reason, Python has a syntax to simplify this.\n",
    "We can use the `@` symbol along with the name of the decorator function and place it above the definition of the function to be decorated. For example,\n",
    "The two snippets below is the same:\n",
    "\n",
    "```\n",
    "def ordinary():\n",
    "    ...\n",
    "pretty = make_up(ordinary)\n",
    "```\n",
    "\n",
    "```\n",
    "@make_up\n",
    "def ordinary():\n",
    "    ...\n",
    "```\n",
    "Thus, with the defination of make_up in code above, the following code does exactly the same thing:"
   ]
  },
  {
   "cell_type": "code",
   "execution_count": 37,
   "metadata": {},
   "outputs": [
    {
     "name": "stdout",
     "output_type": "stream",
     "text": [
      "I'm putting on lipstick\n",
      "I am pretty ^O^\n"
     ]
    }
   ],
   "source": [
    "@make_up\n",
    "def ordinary(lip):\n",
    "    if lip == 'pale':\n",
    "        print(\"I am ordinary T_T\")\n",
    "    else:\n",
    "        print(\"I am pretty ^O^\")\n",
    "        \n",
    "ordinary('pale')"
   ]
  },
  {
   "cell_type": "markdown",
   "metadata": {},
   "source": [
    "#### Example 2"
   ]
  },
  {
   "cell_type": "code",
   "execution_count": 23,
   "metadata": {},
   "outputs": [],
   "source": [
    "def smart_divide(func):\n",
    "    def inner(a, b):\n",
    "        print(\"I am going to divide\", a, \"and\", b)\n",
    "        if b == 0:\n",
    "            print(\"Whoops! cannot divide\")\n",
    "            return\n",
    "        return func(a,b)\n",
    "    return inner\n",
    "\n",
    "@smart_divide\n",
    "def divide(a, b):\n",
    "    return a/b"
   ]
  },
  {
   "cell_type": "code",
   "execution_count": 24,
   "metadata": {},
   "outputs": [
    {
     "name": "stdout",
     "output_type": "stream",
     "text": [
      "I am going to divide 2 and 0\n",
      "Whoops! cannot divide\n"
     ]
    }
   ],
   "source": [
    "divide(2, 0)"
   ]
  },
  {
   "cell_type": "markdown",
   "metadata": {},
   "source": [
    "### Built-in decorator in Python\n",
    "\n",
    "Common examples for decorators are `classmethod()` and `staticmethod()`.\n",
    "* A **class method** transform a method into a class method. It receives the class as implicit first argument, just like an instance method receives the instance. To declare a class method, use this idiom:\n",
    "\n",
    ">```\n",
    "class C:\n",
    "    @classmethod\n",
    "    def f(cls, arg1, arg2, ...): ...\n",
    ">```\n",
    "\n",
    "A class method can be called either on the class such as `C.f()` or on an instance such as `C().f()`. The instance is ignored except for its class. If a class method is called for a derived class, the derived class object is passed as the implied first argument.\n",
    "\n",
    "* A **static method** transform a method into a static method. It does not receive an implicit first argument. To declare a static method, use this idiom:\n",
    "\n",
    ">```\n",
    "class C:\n",
    "    @staticmethod\n",
    "    def f(arg1, arg2, ...): ...\n",
    "\n",
    "A static method can be called either on the class such as `C.f()` or on an instance such as `C().f()`."
   ]
  },
  {
   "cell_type": "markdown",
   "metadata": {},
   "source": [
    "#### Example"
   ]
  },
  {
   "cell_type": "code",
   "execution_count": 10,
   "metadata": {},
   "outputs": [],
   "source": [
    "class Myclass(object):\n",
    "    def foo(self, x):\n",
    "        print(\"executing foo(%s, %s)\" % (self, x))\n",
    "    @classmethod\n",
    "    def class_foo(cls, x):\n",
    "        print(\"executing class_foo(%s, %s)\" % (cls, x))\n",
    "    @staticmethod\n",
    "    def static_foo(x):\n",
    "        print(\"executing static_foo(%s)\" % x)    "
   ]
  },
  {
   "cell_type": "markdown",
   "metadata": {},
   "source": [
    "**The usual way an object instance calls a method.** The object instance (self) is implicitly passed as the first argument"
   ]
  },
  {
   "cell_type": "code",
   "execution_count": 3,
   "metadata": {},
   "outputs": [
    {
     "name": "stdout",
     "output_type": "stream",
     "text": [
      "executing foo(<__main__.Myclass object at 0x000002126036B4C8>, 1)\n"
     ]
    }
   ],
   "source": [
    "myobject= Myclass()\n",
    "myobject.foo(1)"
   ]
  },
  {
   "cell_type": "markdown",
   "metadata": {},
   "source": [
    "**With classmethods** The class of the object instance (cls) is implicitly passed as the first argument instead of self"
   ]
  },
  {
   "cell_type": "code",
   "execution_count": 4,
   "metadata": {},
   "outputs": [
    {
     "name": "stdout",
     "output_type": "stream",
     "text": [
      "executing class_foo(<class '__main__.Myclass'>, 1)\n"
     ]
    }
   ],
   "source": [
    "myobject.class_foo(1)"
   ]
  },
  {
   "cell_type": "markdown",
   "metadata": {},
   "source": [
    "You can also call class_foo using the class."
   ]
  },
  {
   "cell_type": "code",
   "execution_count": 5,
   "metadata": {},
   "outputs": [
    {
     "name": "stdout",
     "output_type": "stream",
     "text": [
      "executing class_foo(<class '__main__.Myclass'>, 1)\n"
     ]
    }
   ],
   "source": [
    "Myclass.class_foo(1)"
   ]
  },
  {
   "cell_type": "markdown",
   "metadata": {},
   "source": [
    "**With staticmethods** neither `self` nor `cls` is implicitly passed as the first argument. <br>\n",
    "They behave like plain functions except that you can call them from an instance or the class"
   ]
  },
  {
   "cell_type": "code",
   "execution_count": 8,
   "metadata": {},
   "outputs": [
    {
     "name": "stdout",
     "output_type": "stream",
     "text": [
      "executing static_foo(1)\n"
     ]
    }
   ],
   "source": [
    "myobject.static_foo(1)"
   ]
  },
  {
   "cell_type": "code",
   "execution_count": 9,
   "metadata": {},
   "outputs": [
    {
     "name": "stdout",
     "output_type": "stream",
     "text": [
      "executing static_foo(Hi, this is Thalia)\n"
     ]
    }
   ],
   "source": [
    "Myclass.static_foo('Hi, this is Thalia')"
   ]
  },
  {
   "cell_type": "markdown",
   "metadata": {},
   "source": [
    "#### Differences between staticmethod and classmethod\n",
    "| classmethods  | staticmethods  | \n",
    "|:---|:---|\n",
    "| The class method takes cls (class) as first argument.  |The static method does not take any specific parameter.   |\n",
    "| Class method can access and modify the class state. |  Static Method cannot access or modify the class state. |\n",
    "|The class method can access the state of that class. | Static methods do not know about class state. These methods are used for utility tasks.| "
   ]
  },
  {
   "cell_type": "code",
   "execution_count": null,
   "metadata": {},
   "outputs": [],
   "source": []
  }
 ],
 "metadata": {
  "kernelspec": {
   "display_name": "Python 3",
   "language": "python",
   "name": "python3"
  },
  "language_info": {
   "codemirror_mode": {
    "name": "ipython",
    "version": 3
   },
   "file_extension": ".py",
   "mimetype": "text/x-python",
   "name": "python",
   "nbconvert_exporter": "python",
   "pygments_lexer": "ipython3",
   "version": "3.7.6"
  }
 },
 "nbformat": 4,
 "nbformat_minor": 4
}
