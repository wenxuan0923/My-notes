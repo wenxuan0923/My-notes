{
 "cells": [
  {
   "cell_type": "markdown",
   "metadata": {},
   "source": [
    "## Logistic Regression\n",
    "\n",
    "This note will cover the following topics:\n",
    "\n",
    "- Logistic Regression Model\n",
    "- Binary Cross-Entropy Loss\n",
    "- Cost Function v.s. Lost Function\n",
    "- Train the model using gradient descent\n",
    "> a detailed math derivation of back propagation\n",
    "- Relationship with neural network model\n",
    "- Implementation using Scikit-Learn in Python\n",
    "> iris dataset classification problem\n",
    "---\n",
    "**Logistic Regression** is used for solving Binary Classification problem. To be more specific, it solves problems in the form:\n",
    "\n",
    "Given a dataset with $m$ training samples: $\\{(x^{1}, y^{1}),(x^{2}, y^{2}),...,(x^{m}, y^{m})\\}$, where $y\\in\\{0,1\\}$ is a binary value: \n",
    "\n",
    "We want to predict the probability that a new data $x$ belong to class $1$:  $\\hat{y} = P(y=1|x)$\n",
    "\n",
    "This model can be expressed by: $$\\hat{y} = \\sigma(W^Tx+b)$$\n",
    "\n",
    "Where $$\\sigma(x) = \\frac{1}{1+e^{-x}}$$ \n",
    "\n",
    "is called **sigmoid function**. Sigmoid function is a S curve function, which maps any value $(-\\infty, +\\infty)$  into interval $[0, 1]$, meaning it only output values in $[0, 1]$. This characteristic makew it perfect for predicting probability value. \n",
    "\n",
    "When the predicted value of the new data is greater than 0.5, then the model predicts that this instance belongs to class 1 (**positive class**), otherwise it belongs to class 0 (**negative class**).\n"
   ]
  },
  {
   "cell_type": "markdown",
   "metadata": {},
   "source": [
    "$$\\begin{equation*}\n",
    "    \\hat{y} = \\begin{cases}\n",
    "               0               & \\text{if } p(y=1|x) < 0.5\\\\\n",
    "               1               & \\text{if } p(y=1|x) \\geq 0.5\\\\\n",
    "           \\end{cases}\n",
    "\\end{equation*}$$"
   ]
  },
  {
   "cell_type": "code",
   "execution_count": 25,
   "metadata": {},
   "outputs": [
    {
     "data": {
      "image/png": "[encoded data removed]",
      "text/plain": [
       "<Figure size 576x432 with 1 Axes>"
      ]
     },
     "metadata": {
      "needs_background": "light"
     },
     "output_type": "display_data"
    }
   ],
   "source": [
    "import numpy as np\n",
    "import matplotlib.pyplot as plt\n",
    "\n",
    "def sigmoid(x):\n",
    "    return 1/(1+np.exp(-x))\n",
    "\n",
    "x = np.arange(-10, 10, 0.1)\n",
    "y = list(map(sigmoid, x))\n",
    "\n",
    "fig, ax = plt.subplots(figsize=(8, 6))\n",
    "ax.plot(x, y)\n",
    "ax.axhline(y=0.5, linewidth=1, color='black', linestyle='--')\n",
    "ax.axvline(x=0, linewidth=1, color='black', linestyle='-.')\n",
    "ax.annotate('x=0, y=0.5',fontsize=14, \n",
    "            xy=(0.3, 0.51), xycoords='data')\n",
    "ax.annotate('Slope approaching 0', xy=(10, 1), xytext=(3.5, 0.8),\n",
    "            fontsize=13, arrowprops=dict(facecolor='black', shrink=0.05))\n",
    "ax.annotate('Slope approaching 0', xy=(-9.9, 0), xytext=(-9.9, 0.2),\n",
    "            fontsize=13, arrowprops=dict(facecolor='black', shrink=0.05))\n",
    "plt.title('Sigmoid Function', fontsize=16)\n",
    "plt.show()"
   ]
  },
  {
   "cell_type": "markdown",
   "metadata": {},
   "source": [
    "Reall that training a model means find the set of parameters which make the model best fit the training set according to the selected performance measure (loss function). The **loss function** for Logistic Regression is called **binary cross-entropy**:\n",
    "\n",
    "$$L(y, \\hat{y})=-[ylog(\\hat{y})+(1-y)log(1-\\hat{y})]$$\n",
    "\n",
    "Note Loss function is usually a function defined on a single data point, prediction and label."
   ]
  },
  {
   "cell_type": "markdown",
   "metadata": {},
   "source": [
    "This measurement makes sense because:\n",
    "- When $y=1$,  $L(y, \\hat{y})=-log(\\hat{y})$\n",
    "> By minimizing  $L(y, \\hat{y})$ we will make $\\hat{y}$ large\n",
    "- When $y=0$,  $L(y, \\hat{y})=-log(1-\\hat{y})$\n",
    "> By minimizing  $L(y, \\hat{y})$ we will make $\\hat{y}$ small\n",
    "\n",
    "This is consistent with our defination: $\\hat{y} = P(y=1|x)$"
   ]
  },
  {
   "cell_type": "markdown",
   "metadata": {},
   "source": [
    "For the whole training set, the **cost function** (the sum of loss functions over the whole training set):\n",
    "\n",
    "$$J(W, b)= \\frac{1}{m} \\sum_{i=1}^m L(y, \\hat{y})= -\\frac{1}{m}\\sum_{i=0}^m [ylog(\\hat{y})+(1-y)log(1-\\hat{y})]$$\n",
    "\n",
    "\n",
    "Thus, for the logistic regression model, we want to find the best set of $W$ and $b$ such that the cost function is minimized. \n",
    "\n",
    "$$\\underset{W,b}{\\min}J(W, b)$$\n",
    "\n",
    "There is no closed-form solution for this optimization problem. But luckily this cost function is convex. Thus, we can use **gradient descent** to solve the problem: it is guaranteed to find the global minimum.\n",
    "\n",
    "**The idea of gradient descent is:** you start by initializing your parameters with some random values (this is called random initialization), then you improve it by taking baby steps (its size is determined by **learning rate $\\alpha$**) towards the direction of the steepest slope of the cost function, until the algorithm converge (the slope does not change much any more).\n",
    "\n",
    "Repeat:\n",
    "\n",
    "$$W := W - \\alpha\\frac{\\partial(J(W,b))}{\\partial{W}}$$\n",
    "\n",
    "$$b := b - \\alpha\\frac{\\partial(J(W,b))}{\\partial{b}}$$\n",
    "\n",
    "Until the gradient vector becomes tiny or after certain number of iterations.\n",
    "\n",
    "This process of updating parameters is called **back propogation**.\n",
    "### Back Propogation\n",
    "Here I will give a detailed explanation of back propogation of logistic regression model. For simplicity, I will only conider one single data points. Let's break down the model first:\n",
    "Assume our input $x$ has two dimensions $(x_1, x_2)^T$, then $W=(w_1, w_2)$. The whole computation can be represented by the flow chart below:\n",
    "\n",
    "$$z=W^{T}x+b$$\n",
    "$$a = \\hat{y} = \\sigma(z) = \\frac{1}{1+e^{-z}}$$\n",
    "$$L(a, y) = -(yloga+(1-y)log(1-a))$$\n",
    "\n",
    "<center><img src='https://drive.google.com/uc?id=13dnxxroJGZbMfgoQaK-b-esK_JNu9v6i' width=650> </img></center>\n",
    "\n",
    "\n",
    "**Back Propogation:**\n",
    "\n",
    "Just as the name indicates, back propogation goes from the cost function back to the parameters through the **chain rule**.\n",
    "\n",
    "<center><img src='https://drive.google.com/uc?id=18UVBQYKupshnLTRl83Ls4Fscxih9zd13' width=650> </img></center>"
   ]
  },
  {
   "cell_type": "markdown",
   "metadata": {},
   "source": [
    "**where** \n",
    "\n",
    "$$da = \\frac{\\partial(L(a,y))}{\\partial{a}} = -\\frac{y}{a} + \\frac{y-1}{1-a} = \\frac{-y(1-a)+a(1-y)}{a(1-a)} = \\frac{a-y}{a(1-a)}$$\n",
    "\n",
    "$$\n",
    "\\begin{align*} \n",
    "dz =\\frac{\\partial(L(a,y))}{\\partial{z}} &= \\frac{\\partial(L(a,y))}{\\partial{a}}\\frac{\\partial{a}}{\\partial{z}} = da\\frac{\\partial{(\\sigma(z))}}{\\partial{z}} \\\\\n",
    "&= \\frac{a-y}{a(1-a)} \\cdot \\frac{1}{(1+e^{-z})^2}(-e^{-z}) \\\\\n",
    "&= \\frac{a-y}{a(1-a)} \\cdot \\frac{-e^{-z}}{(1+e^{-z})^2}\\\\\n",
    "&= \\frac{a-y}{a(1-a)} \\cdot \\sigma(z)(1-\\sigma(z))\\\\\n",
    "&= \\frac{a-y}{a(1-a)} \\cdot a(1-a)\\\\\n",
    "&= a-y\n",
    "\\end{align*}\n",
    "$$\n",
    "\n",
    "$$dw_1 = \\frac{\\partial(L(a,y))}{\\partial{w_1}} = \\frac{\\partial(L(a,y))}{\\partial{z}}\\frac{\\partial{z}}{\\partial{w_1}}=(a-y)x_1 = x_1dz$$\n",
    "\n",
    "$$dw_2 = \\frac{\\partial(L(a,y))}{\\partial{w_2}} = \\frac{\\partial(L(a,y))}{\\partial{z}}\\frac{\\partial{z}}{\\partial{w_2}}=(a-y)x_2 = x_2 dz$$\n",
    "\n",
    "$$db = \\frac{\\partial(L(a,y))}{\\partial{b}} = \\frac{\\partial(L(a,y))}{\\partial{z}}\\frac{\\partial{z}}{\\partial{b}} = a-y = dz$$\n",
    "\n",
    "This is how back propogation update the parameters when you have only one data point:\n",
    "\n",
    "$$w_1 = w_1 - \\alpha \\cdot dw_1$$\n",
    "$$w_2 = w_2 - \\alpha \\cdot dw_2$$\n",
    "$$b = b - \\alpha \\cdot db$$\n"
   ]
  },
  {
   "cell_type": "markdown",
   "metadata": {},
   "source": [
    "Recall for the whole training set, the cost function $J(W, b)$ is the summation of loss functions over the whole training set. Thus,\n",
    "\n",
    "$$da = \\frac{\\partial J(W,b)}{\\partial b} = \\frac{1}{m}\\sum_{i=1}^{m} \\frac{\\partial L(a^{i}, y^{i})}{\\partial a} = \\frac{1}{m}\\sum_{i=0}^{m} da^{i}$$\n",
    "\n",
    "$$dz = \\frac{\\partial J(W,b)}{\\partial z} = \\frac{1}{m}\\sum_{i=1}^{m} \\frac{\\partial L(a^{i}, y^{i})}{\\partial z} = \\frac{1}{m}\\sum_{i=0}^{m}dz^i$$\n",
    "\n",
    "$$dw_1 = \\frac{\\partial J(W,b)}{\\partial w_1} = \\frac{1}{m}\\sum_{i=1}^{m} \\frac{\\partial L(a^{i}, y^{i})}{\\partial w_1} = \\frac{1}{m}\\sum_{i=0}^{m} x_1^{i} dz^i$$\n",
    "\n",
    "$$dw_2 = \\frac{\\partial J(W,b)}{\\partial w_2} = \\frac{1}{m}\\sum_{i=1}^{m} \\frac{\\partial L(a^{i}, y^{i})}{\\partial w_2} = \\frac{1}{m}\\sum_{i=0}^{m} x_2^{i} dz^i$$\n",
    "\n",
    "$$db = \\frac{\\partial J(W,b)}{\\partial b} = \\frac{1}{m}\\sum_{i=1}^{m} \\frac{\\partial L(a^{i}, y^{i})}{\\partial b} = \\frac{1}{m}\\sum_{i=0}^{m} dz^i$$"
   ]
  },
  {
   "cell_type": "markdown",
   "metadata": {},
   "source": [
    "That's it. The Logistic regression mode. Actually you can consider logistic regression model as the simplest neural network: see the images below. We will talk more about this in another note later. "
   ]
  },
  {
   "cell_type": "markdown",
   "metadata": {},
   "source": [
    "<center><img src='https://drive.google.com/uc?id=1ynCwpFw7BWUABPzUaVQtak-9jJVrC7_Q' width=800> </img> </center>"
   ]
  },
  {
   "cell_type": "markdown",
   "metadata": {},
   "source": [
    "### Implementation with Scikit-Learn\n",
    "The famout **iris** dataset is used here."
   ]
  },
  {
   "cell_type": "code",
   "execution_count": 36,
   "metadata": {},
   "outputs": [
    {
     "name": "stdout",
     "output_type": "stream",
     "text": [
      "Keys: \n",
      " dict_keys(['data', 'target', 'target_names', 'DESCR', 'feature_names', 'filename'])\n",
      "Features Name: \n",
      " ['sepal length (cm)', 'sepal width (cm)', 'petal length (cm)', 'petal width (cm)']\n",
      "Target Name: \n",
      " ['setosa' 'versicolor' 'virginica']\n"
     ]
    }
   ],
   "source": [
    "from sklearn import datasets\n",
    "from sklearn.linear_model import LogisticRegression\n",
    "from sklearn.model_selection import train_test_split\n",
    "\n",
    "iris = datasets.load_iris()\n",
    "print('Keys: \\n', iris.keys())\n",
    "print('Features Name: \\n', iris.feature_names)\n",
    "print('Target Name: \\n', iris.target_names)"
   ]
  },
  {
   "cell_type": "code",
   "execution_count": 37,
   "metadata": {},
   "outputs": [
    {
     "data": {
      "text/plain": [
       "(150, 4)"
      ]
     },
     "execution_count": 37,
     "metadata": {},
     "output_type": "execute_result"
    }
   ],
   "source": [
    "X = iris.data\n",
    "y = iris.target\n",
    "X.shape"
   ]
  },
  {
   "cell_type": "code",
   "execution_count": 38,
   "metadata": {},
   "outputs": [
    {
     "data": {
      "text/plain": [
       "array([0, 0, 0, 0, 0, 0, 0, 0, 0, 0, 0, 0, 0, 0, 0, 0, 0, 0, 0, 0, 0, 0,\n",
       "       0, 0, 0, 0, 0, 0, 0, 0, 0, 0, 0, 0, 0, 0, 0, 0, 0, 0, 0, 0, 0, 0,\n",
       "       0, 0, 0, 0, 0, 0, 1, 1, 1, 1, 1, 1, 1, 1, 1, 1, 1, 1, 1, 1, 1, 1,\n",
       "       1, 1, 1, 1, 1, 1, 1, 1, 1, 1, 1, 1, 1, 1, 1, 1, 1, 1, 1, 1, 1, 1,\n",
       "       1, 1, 1, 1, 1, 1, 1, 1, 1, 1, 1, 1, 2, 2, 2, 2, 2, 2, 2, 2, 2, 2,\n",
       "       2, 2, 2, 2, 2, 2, 2, 2, 2, 2, 2, 2, 2, 2, 2, 2, 2, 2, 2, 2, 2, 2,\n",
       "       2, 2, 2, 2, 2, 2, 2, 2, 2, 2, 2, 2, 2, 2, 2, 2, 2, 2])"
      ]
     },
     "execution_count": 38,
     "metadata": {},
     "output_type": "execute_result"
    }
   ],
   "source": [
    "y"
   ]
  },
  {
   "cell_type": "markdown",
   "metadata": {},
   "source": [
    "Note there are actually 3 classes in this dataset, let's try to predict whether the iris type is 'virginica', 1 for yes, otherwise 0. Thus, this become a binary classification problem."
   ]
  },
  {
   "cell_type": "code",
   "execution_count": 39,
   "metadata": {},
   "outputs": [
    {
     "data": {
      "text/plain": [
       "array([0, 0, 0, 0, 0, 0, 0, 0, 0, 0, 0, 0, 0, 0, 0, 0, 0, 0, 0, 0, 0, 0,\n",
       "       0, 0, 0, 0, 0, 0, 0, 0, 0, 0, 0, 0, 0, 0, 0, 0, 0, 0, 0, 0, 0, 0,\n",
       "       0, 0, 0, 0, 0, 0, 0, 0, 0, 0, 0, 0, 0, 0, 0, 0, 0, 0, 0, 0, 0, 0,\n",
       "       0, 0, 0, 0, 0, 0, 0, 0, 0, 0, 0, 0, 0, 0, 0, 0, 0, 0, 0, 0, 0, 0,\n",
       "       0, 0, 0, 0, 0, 0, 0, 0, 0, 0, 0, 0, 1, 1, 1, 1, 1, 1, 1, 1, 1, 1,\n",
       "       1, 1, 1, 1, 1, 1, 1, 1, 1, 1, 1, 1, 1, 1, 1, 1, 1, 1, 1, 1, 1, 1,\n",
       "       1, 1, 1, 1, 1, 1, 1, 1, 1, 1, 1, 1, 1, 1, 1, 1, 1, 1])"
      ]
     },
     "execution_count": 39,
     "metadata": {},
     "output_type": "execute_result"
    }
   ],
   "source": [
    "y = 1*(y==2)\n",
    "y"
   ]
  },
  {
   "cell_type": "code",
   "execution_count": 82,
   "metadata": {},
   "outputs": [
    {
     "name": "stdout",
     "output_type": "stream",
     "text": [
      "67.0% of the data is negative\n"
     ]
    }
   ],
   "source": [
    "print('{}% of the data is negative'.format(round(100*(y==0).sum()/len(y))))"
   ]
  },
  {
   "cell_type": "code",
   "execution_count": 84,
   "metadata": {},
   "outputs": [],
   "source": [
    "X_train, X_test, y_train, y_test = train_test_split(X, y, test_size=0.3, random_state=0)\n",
    "\n",
    "# The class_weight = balanced mode uses the values of y to automatically adjust weights \n",
    "# inversely proportional to class frequencies in the input data as\n",
    "# n_samples / (n_classes * np.bincount(y))\n",
    "\n",
    "clf = LogisticRegression(class_weight='balanced')\n",
    "clf.fit(X_train, y_train)\n",
    "\n",
    "# Get the predicted labels\n",
    "y_pred = clf.predict(X_test)  \n",
    "\n",
    "# Get the predicted probabilities\n",
    "prob_pos = clf.predict_proba(X_test)[:, 1]  "
   ]
  },
  {
   "cell_type": "code",
   "execution_count": 85,
   "metadata": {},
   "outputs": [
    {
     "data": {
      "text/plain": [
       "array([1, 0, 0, 1, 0, 1, 0, 0, 0, 0, 1, 0, 0, 0, 0, 0, 0, 0, 0, 0, 1, 0,\n",
       "       0, 0, 1, 0, 0, 0, 0, 0, 1, 0, 0, 1, 1, 0, 0, 1, 0, 0, 1, 0, 1, 0,\n",
       "       0])"
      ]
     },
     "metadata": {},
     "output_type": "display_data"
    },
    {
     "data": {
      "text/plain": [
       "array([9.39102586e-01, 5.90919994e-02, 5.56957036e-06, 9.84875018e-01,\n",
       "       1.30146635e-05, 9.92925912e-01, 8.73246341e-06, 3.53659574e-01,\n",
       "       3.94583538e-01, 7.53905068e-02, 8.94929652e-01, 2.55935611e-01,\n",
       "       3.12394460e-01, 3.41958840e-01, 3.89337607e-01, 7.78598123e-06,\n",
       "       3.18371826e-01, 2.20559893e-01, 1.56771966e-05, 7.44671278e-06,\n",
       "       8.18460946e-01, 3.45825006e-01, 4.21870146e-05, 1.60369702e-05,\n",
       "       6.44443022e-01, 3.59715383e-06, 4.54840101e-05, 1.44795950e-01,\n",
       "       1.33891327e-02, 2.51106467e-05, 9.07490400e-01, 3.65222808e-01,\n",
       "       1.14258003e-05, 6.93987612e-01, 9.69574143e-01, 1.03328275e-01,\n",
       "       1.68690085e-05, 7.61163190e-01, 1.70371399e-01, 7.72145183e-02,\n",
       "       9.39124554e-01, 9.37884324e-06, 8.74488557e-01, 3.52382817e-05,\n",
       "       9.58445749e-06])"
      ]
     },
     "metadata": {},
     "output_type": "display_data"
    }
   ],
   "source": [
    "display(y_pred)\n",
    "display(prob_pos)"
   ]
  },
  {
   "cell_type": "markdown",
   "metadata": {},
   "source": [
    "### Model Evaluation"
   ]
  },
  {
   "cell_type": "code",
   "execution_count": 86,
   "metadata": {},
   "outputs": [
    {
     "data": {
      "image/png": "[encoded data removed]",
      "text/plain": [
       "<Figure size 432x288 with 2 Axes>"
      ]
     },
     "metadata": {
      "needs_background": "light"
     },
     "output_type": "display_data"
    }
   ],
   "source": [
    "from sklearn.metrics import (plot_confusion_matrix, \n",
    "                             classification_report)\n",
    "\n",
    "plot_confusion_matrix(clf, X_test, y_test,\n",
    "                      cmap=plt.cm.Blues)\n",
    "plt.show()"
   ]
  },
  {
   "cell_type": "code",
   "execution_count": 87,
   "metadata": {},
   "outputs": [
    {
     "name": "stdout",
     "output_type": "stream",
     "text": [
      "              precision    recall  f1-score   support\n",
      "\n",
      "           0       1.00      0.97      0.99        34\n",
      "           1       0.92      1.00      0.96        11\n",
      "\n",
      "    accuracy                           0.98        45\n",
      "   macro avg       0.96      0.99      0.97        45\n",
      "weighted avg       0.98      0.98      0.98        45\n",
      "\n"
     ]
    }
   ],
   "source": [
    "print(classification_report(y_test, y_pred))"
   ]
  },
  {
   "cell_type": "markdown",
   "metadata": {},
   "source": [
    "WoW, it seems like logistic regression can be a nearly perfect candidate for a simple task like this."
   ]
  },
  {
   "cell_type": "markdown",
   "metadata": {},
   "source": [
    "#### Useful Reference:\n",
    "\n",
    "[Loss function & Loss function & Objective function](https://stats.stackexchange.com/questions/179026/objective-function-cost-function-loss-function-are-they-the-same-thing)\n"
   ]
  }
 ],
 "metadata": {
  "kernelspec": {
   "display_name": "Python 3",
   "language": "python",
   "name": "python3"
  },
  "language_info": {
   "codemirror_mode": {
    "name": "ipython",
    "version": 3
   },
   "file_extension": ".py",
   "mimetype": "text/x-python",
   "name": "python",
   "nbconvert_exporter": "python",
   "pygments_lexer": "ipython3",
   "version": "3.7.6"
  }
 },
 "nbformat": 4,
 "nbformat_minor": 4
}
