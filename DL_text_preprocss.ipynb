{
  "nbformat": 4,
  "nbformat_minor": 0,
  "metadata": {
    "colab": {
      "name": "DL_text_preprocss.ipynb",
      "provenance": [],
      "collapsed_sections": [],
      "authorship_tag": "ABX9TyN+xAxYMwHPo0tFkmJo56rY",
      "include_colab_link": true
    },
    "kernelspec": {
      "name": "python3",
      "display_name": "Python 3"
    }
  },
  "cells": [
    {
      "cell_type": "markdown",
      "metadata": {
        "id": "view-in-github",
        "colab_type": "text"
      },
      "source": [
        "<a href=\"https://colab.research.google.com/github/wenxuan0923/My-notes/blob/master/DL_text_preprocss.ipynb\" target=\"_parent\"><img src=\"https://colab.research.google.com/assets/colab-badge.svg\" alt=\"Open In Colab\"/></a>"
      ]
    },
    {
      "cell_type": "markdown",
      "metadata": {
        "id": "YHCsTTTXYuH5",
        "colab_type": "text"
      },
      "source": [
        "## Text data preprocessing: One-hot encoding & Word Embedding\n",
        "\n",
        "Just like computer vision is pattern recognition applied to pixels, DL for natural-language processing is a pattern recognition applied to words, sentences and paragraphs. Similarly, we need to preprocess the input raw text data by converting it into a format the model will be able to understand (a numerical tensor). This process is called **vectorization**. There are multiple way to do this:\n",
        "\n",
        "1. Segment text into **words**, and transform each word into a vector\n",
        "2. Segment text into **characters**, and transform each character into a vector\n",
        "3. Extract **n-grams of words or characters** and transform each n-gram into a vector\n",
        "\n",
        "The different units into which you can break down text (words, characters,\n",
        "or n-grams) are called **tokens**, and breaking text into such tokens is called **tokenization**. There are two major ways to associate a vector with a token: \n",
        "\n",
        "### **1. One-hot encoding**\n",
        "\n",
        "One-hot encoding is the most common, basic way to turn a token into a vector."
      ]
    },
    {
      "cell_type": "code",
      "metadata": {
        "id": "J2I1IQM-YS2J",
        "colab_type": "code",
        "colab": {}
      },
      "source": [
        "import numpy as np\n",
        "samples = ['Thalia wants lasagna for dinner!', \n",
        "           'Hung wants instant noodle for lunch.']"
      ],
      "execution_count": 0,
      "outputs": []
    },
    {
      "cell_type": "code",
      "metadata": {
        "id": "My_y5Uf8gimu",
        "colab_type": "code",
        "colab": {}
      },
      "source": [
        "from keras.preprocessing.text import Tokenizer, one_hot"
      ],
      "execution_count": 0,
      "outputs": []
    },
    {
      "cell_type": "markdown",
      "metadata": {
        "id": "siFPMui4exiI",
        "colab_type": "text"
      },
      "source": [
        "**Segment text into words:**"
      ]
    },
    {
      "cell_type": "code",
      "metadata": {
        "id": "VzJSsuUUSQOu",
        "colab_type": "code",
        "colab": {
          "base_uri": "https://localhost:8080/",
          "height": 74
        },
        "outputId": "91d91c0d-febe-4fbd-a3cb-f90e7999caef"
      },
      "source": [
        "# The tokenizer will only take into account the 100 most common words\n",
        "tokenizer = Tokenizer(num_words=100)\n",
        "tokenizer.fit_on_texts(samples)\n",
        "\n",
        "# Build the word index: associate a unique integer index with every word\n",
        "print('Word index: ', tokenizer.word_index)\n",
        "\n",
        "# Turn sentence into list of integers\n",
        "sequences = tokenizer.texts_to_sequences(samples)\n",
        "print('Sentences: ', sequences)"
      ],
      "execution_count": 51,
      "outputs": [
        {
          "output_type": "stream",
          "text": [
            "Word index:  {'wants': 1, 'for': 2, 'thalia': 3, 'lasagna': 4, 'dinner': 5, 'hung': 6, 'instant': 7, 'noodle': 8, 'lunch': 9}\n",
            "Sentences:  [[3, 1, 4, 2, 5], [6, 1, 7, 8, 2, 9]]\n"
          ],
          "name": "stdout"
        }
      ]
    },
    {
      "cell_type": "code",
      "metadata": {
        "id": "XFmAcJCQiK5h",
        "colab_type": "code",
        "colab": {
          "base_uri": "https://localhost:8080/",
          "height": 217
        },
        "outputId": "90da6639-1c3f-4d3a-fe77-bd12b462214e"
      },
      "source": [
        "one_hot_results = tokenizer.texts_to_matrix(samples, mode='binary')\n",
        "print('Shape of one_hot_result: ', one_hot_results.shape)\n",
        "print(one_hot_results)"
      ],
      "execution_count": 52,
      "outputs": [
        {
          "output_type": "stream",
          "text": [
            "Shape of one_hot_result:  (2, 100)\n",
            "[[0. 1. 1. 1. 1. 1. 0. 0. 0. 0. 0. 0. 0. 0. 0. 0. 0. 0. 0. 0. 0. 0. 0. 0.\n",
            "  0. 0. 0. 0. 0. 0. 0. 0. 0. 0. 0. 0. 0. 0. 0. 0. 0. 0. 0. 0. 0. 0. 0. 0.\n",
            "  0. 0. 0. 0. 0. 0. 0. 0. 0. 0. 0. 0. 0. 0. 0. 0. 0. 0. 0. 0. 0. 0. 0. 0.\n",
            "  0. 0. 0. 0. 0. 0. 0. 0. 0. 0. 0. 0. 0. 0. 0. 0. 0. 0. 0. 0. 0. 0. 0. 0.\n",
            "  0. 0. 0. 0.]\n",
            " [0. 1. 1. 0. 0. 0. 1. 1. 1. 1. 0. 0. 0. 0. 0. 0. 0. 0. 0. 0. 0. 0. 0. 0.\n",
            "  0. 0. 0. 0. 0. 0. 0. 0. 0. 0. 0. 0. 0. 0. 0. 0. 0. 0. 0. 0. 0. 0. 0. 0.\n",
            "  0. 0. 0. 0. 0. 0. 0. 0. 0. 0. 0. 0. 0. 0. 0. 0. 0. 0. 0. 0. 0. 0. 0. 0.\n",
            "  0. 0. 0. 0. 0. 0. 0. 0. 0. 0. 0. 0. 0. 0. 0. 0. 0. 0. 0. 0. 0. 0. 0. 0.\n",
            "  0. 0. 0. 0.]]\n"
          ],
          "name": "stdout"
        }
      ]
    },
    {
      "cell_type": "markdown",
      "metadata": {
        "id": "6lqbjcGme2w7",
        "colab_type": "text"
      },
      "source": [
        "**Segment text into characters:**\n",
        "\n",
        "In the Tokenizer function: if **char_level** is True, every character will be treated as a token."
      ]
    },
    {
      "cell_type": "code",
      "metadata": {
        "id": "MrP3JgBhe6Ca",
        "colab_type": "code",
        "colab": {
          "base_uri": "https://localhost:8080/",
          "height": 74
        },
        "outputId": "e918e762-9200-44a1-cd9f-8e8a8a1230db"
      },
      "source": [
        "# The tokenizer will only take into account the 26 most common characters\n",
        "tokenizer = Tokenizer(num_words=26, char_level=True)\n",
        "tokenizer.fit_on_texts(samples)\n",
        "# Build the word index: associate a unique integer index with every character\n",
        "print('Character index: ', tokenizer.word_index)\n",
        "# Turn sentence into list of integers\n",
        "sequences = tokenizer.texts_to_sequences(samples)\n",
        "print('Sentences: ', sequences)"
      ],
      "execution_count": 54,
      "outputs": [
        {
          "output_type": "stream",
          "text": [
            "Character index:  {'n': 1, ' ': 2, 'a': 3, 't': 4, 'l': 5, 's': 6, 'o': 7, 'h': 8, 'i': 9, 'r': 10, 'w': 11, 'g': 12, 'f': 13, 'd': 14, 'e': 15, 'u': 16, '!': 17, 'c': 18, '.': 19}\n",
            "Sentences:  [[4, 8, 3, 5, 9, 3, 2, 11, 3, 1, 4, 6, 2, 5, 3, 6, 3, 12, 1, 3, 2, 13, 7, 10, 2, 14, 9, 1, 1, 15, 10, 17], [8, 16, 1, 12, 2, 11, 3, 1, 4, 6, 2, 9, 1, 6, 4, 3, 1, 4, 2, 1, 7, 7, 14, 5, 15, 2, 13, 7, 10, 2, 5, 16, 1, 18, 8, 19]]\n"
          ],
          "name": "stdout"
        }
      ]
    },
    {
      "cell_type": "code",
      "metadata": {
        "id": "4j4U9bPoe6HS",
        "colab_type": "code",
        "colab": {
          "base_uri": "https://localhost:8080/",
          "height": 124
        },
        "outputId": "6c90a0f0-0ffc-4431-b941-9a72d9bb2445"
      },
      "source": [
        "one_hot_results = tokenizer.texts_to_matrix(samples, mode='binary')\n",
        "print('Shape of one_hot_result: ', one_hot_results.shape)\n",
        "print(one_hot_results)"
      ],
      "execution_count": 55,
      "outputs": [
        {
          "output_type": "stream",
          "text": [
            "Shape of one_hot_result:  (2, 26)\n",
            "[[0. 1. 1. 1. 1. 1. 1. 1. 1. 1. 1. 1. 1. 1. 1. 1. 0. 1. 0. 0. 0. 0. 0. 0.\n",
            "  0. 0.]\n",
            " [0. 1. 1. 1. 1. 1. 1. 1. 1. 1. 1. 1. 1. 1. 1. 1. 1. 0. 1. 1. 0. 0. 0. 0.\n",
            "  0. 0.]]\n"
          ],
          "name": "stdout"
        }
      ]
    },
    {
      "cell_type": "markdown",
      "metadata": {
        "id": "_39zJREdepUP",
        "colab_type": "text"
      },
      "source": [
        "### **2. Token embedding** (word embedding)\n",
        "\n",
        "With one-hot representation, the obtained word vectors are\n",
        "sparse, high-dimensional, and hardcoded. For example:\n",
        "\n",
        "\n",
        "$$\\text{Man}=\\begin{bmatrix}\n",
        "   0 \\\\ 0 \\\\ 0 \\\\ 0 \\\\ \\vdots \\\\ 1 \\\\ \\vdots\\\\ 0 \\\\ 0\n",
        "\\end{bmatrix}, \n",
        "\\text{Woman}=\\begin{bmatrix}\n",
        "     0 \\\\ 0 \\\\ 0 \\\\ 0 \\\\ 0 \\\\ \\vdots \\\\ 1 \\\\ \\vdots \\\\ 0\n",
        "\\end{bmatrix},\n",
        "\\text{King}=\\begin{bmatrix}\n",
        "     0 \\\\ 0 \\\\ 0 \\\\ \\vdots \\\\ 1 \\\\ \\vdots\\\\ 0 \\\\ 0 \\\\ 0\n",
        "\\end{bmatrix},\n",
        "\\text{Queen}=\\begin{bmatrix}\n",
        "     0 \\\\ 0 \\\\ 0 \\\\ 0 \\\\ 0 \\\\ \\vdots \\\\ 1 \\\\ \\vdots\\\\ 0 \n",
        "\\end{bmatrix},\n",
        "\\text{Apple}=\\begin{bmatrix}\n",
        "     0 \\\\ \\vdots \\\\ 1  \\\\ \\vdots \\\\ 0 \\\\ 0 \\\\ 0\\\\ 0 \\\\ 0\n",
        "\\end{bmatrix},\n",
        "\\text{Orange}=\\begin{bmatrix}\n",
        "     0 \\\\ 0 \\\\ 0 \\\\ 0 \\\\ 0 \\\\ \\vdots \\\\ 1 \\\\ \\vdots \\\\ 0\n",
        "\\end{bmatrix}\n",
        "$$\n",
        "\n",
        "A weakness of this representation is that it treats each word as an isolated thing. For example, in the vectors listed above, the relationship between apple and orange is not any closer as the relationship between any of the other words man, woman, king, queen, and orange. And so, it's not easy for the learning algorithm to generalize from knowing that `orange juice` is a popular thing, to recognizing that `apple juice` might also be a popular thing or a popular phrase.\n"
      ]
    },
    {
      "cell_type": "markdown",
      "metadata": {
        "id": "6S6s_ofxzOQg",
        "colab_type": "text"
      },
      "source": [
        "Word Embedding make it possible for us to learn a **featurized representation** with each of these words in the dictionary. For example, each of these words, we want to know what is the gender associated with each of these things. So, if gender goes from -1 for male to +1 for female, then the gender associated with man might be -1, for woman might be +1. \n",
        "\n",
        "|  |Man|Woman|King|Queen|Apple|Orange|\n",
        "|:------|:---:|:---:|:---:|:---:|:---:|:---:|\n",
        "|Gender|-1|1|-0.95|0.97|0|0.01|\n",
        "|Rpyal|0.01|0.02|0.93|0.95|-0.01|0.00|\n",
        "|Age|0.03|0.02|0.7|0.69|0.03|-0.02|\n",
        "|Food|0.04|0.01|0.02|0.01|0.95|0.97|\n",
        "|$\\vdots$|$\\vdots$|$\\vdots$|$\\vdots$|$\\vdots$|$\\vdots$|$\\vdots$|\n",
        "\n",
        "Imagine we have 64 these kind of features, then each word can be represented as a 64 dimensional vector. With this new representaion, the pairs `(Man, Woman)`, `(King, Queen)` and `(Apple, Orange)` will be quite similar, so the model will be able to generalize better even with a relatively small dataset. Most importantly, we get a low-dimensional dense vector. So word embeddings pack more information into far fewer dimensions.\n",
        "\n",
        "To get a bit more abstract, the **geometric relationship** (like L2 norm) between word vectors should reflect the **semantic relationships** between these words. Word embeddings are meant to map human language into a geometric space such that the geometric distance between any two vectors relates to the semantic distance between them.\n",
        "\n",
        "#### There are two ways to learn word embedding:\n",
        "\n",
        "1. Use pretrained word embedding trained using a different machine learning task.\n",
        "\n",
        "2. Learn word vectors in the same way you learn the weights of a neural network with **Embedding Layer** from Keras.\n",
        "> The perfect word-embedding space for a certain task may not be ideal for another NLP task. It is thus reasonable to learn a new embedding space with every new task. \n"
      ]
    },
    {
      "cell_type": "code",
      "metadata": {
        "id": "8Br_mFbaerGB",
        "colab_type": "code",
        "colab": {}
      },
      "source": [
        "from keras import layers, models\n",
        "emdding_layer = layers.Embedding(1000, 64) \n",
        "# Dimensionality of the embeddings is 64\n",
        "# 1000 means the number of possible tokens(words)"
      ],
      "execution_count": 0,
      "outputs": []
    },
    {
      "cell_type": "markdown",
      "metadata": {
        "id": "UArFa4cS6ULK",
        "colab_type": "text"
      },
      "source": [
        "The Embedding layer is best understood as a dictionary that map **integer indices** (which stand for specific words) to **dense vectors**. The Embedding layer takes as input a **2D tensor of integers**, of shape (samples,\n",
        "sequence_length), where each entry is a sequence of integers (a sentence). Note the length of each sentence is not always the same, we need to use **padding** method, such that: \n",
        "> Sequences that are shorter than others should be padded with zeros, and sequences that are longer should be truncated.\n",
        "\n",
        "This layer outputs a **3D floating-point tensor**\n",
        " of shape (samples, sequence_\n",
        "length, embedding_dimensionality). Such a 3D tensor can then be processed by\n",
        "an RNN layer or a 1D convolution layer."
      ]
    },
    {
      "cell_type": "code",
      "metadata": {
        "id": "07nnNdUguT4N",
        "colab_type": "code",
        "colab": {}
      },
      "source": [
        "from keras.datasets import imdb\n",
        "from keras.preprocessing import sequence\n",
        "max_words = 10000   \n",
        "# Max number of words to include (10000). \n",
        "# Words are ranked by how often they occur (in the training set) \n",
        "# Only the most frequent words are kept\n",
        "maxlen = 40 \n",
        "# Maximum length of all sequences.\n",
        "# Cuts off the text after this number of words\n",
        "# This means you are only looking at the first 40 words in every review\n",
        "(x_train, y_train), (x_test, y_test) = imdb.load_data(num_words=max_words)"
      ],
      "execution_count": 0,
      "outputs": []
    },
    {
      "cell_type": "code",
      "metadata": {
        "id": "3vqlQbtJ-loO",
        "colab_type": "code",
        "colab": {
          "base_uri": "https://localhost:8080/",
          "height": 183
        },
        "outputId": "9274b50e-c8f7-4f7c-e47c-bcf9e0be7193"
      },
      "source": [
        "x_train"
      ],
      "execution_count": 82,
      "outputs": [
        {
          "output_type": "execute_result",
          "data": {
            "text/plain": [
              "array([list([1, 14, 22, 16, 43, 530, 973, 1622, 1385, 65, 458, 4468, 66, 3941, 4, 173, 36, 256, 5, 25, 100, 43, 838, 112, 50, 670, 2, 9, 35, 480, 284, 5, 150, 4, 172, 112, 167, 2, 336, 385, 39, 4, 172, 4536, 1111, 17, 546, 38, 13, 447, 4, 192, 50, 16, 6, 147, 2025, 19, 14, 22, 4, 1920, 4613, 469, 4, 22, 71, 87, 12, 16, 43, 530, 38, 76, 15, 13, 1247, 4, 22, 17, 515, 17, 12, 16, 626, 18, 2, 5, 62, 386, 12, 8, 316, 8, 106, 5, 4, 2223, 5244, 16, 480, 66, 3785, 33, 4, 130, 12, 16, 38, 619, 5, 25, 124, 51, 36, 135, 48, 25, 1415, 33, 6, 22, 12, 215, 28, 77, 52, 5, 14, 407, 16, 82, 2, 8, 4, 107, 117, 5952, 15, 256, 4, 2, 7, 3766, 5, 723, 36, 71, 43, 530, 476, 26, 400, 317, 46, 7, 4, 2, 1029, 13, 104, 88, 4, 381, 15, 297, 98, 32, 2071, 56, 26, 141, 6, 194, 7486, 18, 4, 226, 22, 21, 134, 476, 26, 480, 5, 144, 30, 5535, 18, 51, 36, 28, 224, 92, 25, 104, 4, 226, 65, 16, 38, 1334, 88, 12, 16, 283, 5, 16, 4472, 113, 103, 32, 15, 16, 5345, 19, 178, 32]),\n",
              "       list([1, 194, 1153, 194, 8255, 78, 228, 5, 6, 1463, 4369, 5012, 134, 26, 4, 715, 8, 118, 1634, 14, 394, 20, 13, 119, 954, 189, 102, 5, 207, 110, 3103, 21, 14, 69, 188, 8, 30, 23, 7, 4, 249, 126, 93, 4, 114, 9, 2300, 1523, 5, 647, 4, 116, 9, 35, 8163, 4, 229, 9, 340, 1322, 4, 118, 9, 4, 130, 4901, 19, 4, 1002, 5, 89, 29, 952, 46, 37, 4, 455, 9, 45, 43, 38, 1543, 1905, 398, 4, 1649, 26, 6853, 5, 163, 11, 3215, 2, 4, 1153, 9, 194, 775, 7, 8255, 2, 349, 2637, 148, 605, 2, 8003, 15, 123, 125, 68, 2, 6853, 15, 349, 165, 4362, 98, 5, 4, 228, 9, 43, 2, 1157, 15, 299, 120, 5, 120, 174, 11, 220, 175, 136, 50, 9, 4373, 228, 8255, 5, 2, 656, 245, 2350, 5, 4, 9837, 131, 152, 491, 18, 2, 32, 7464, 1212, 14, 9, 6, 371, 78, 22, 625, 64, 1382, 9, 8, 168, 145, 23, 4, 1690, 15, 16, 4, 1355, 5, 28, 6, 52, 154, 462, 33, 89, 78, 285, 16, 145, 95]),\n",
              "       list([1, 14, 47, 8, 30, 31, 7, 4, 249, 108, 7, 4, 5974, 54, 61, 369, 13, 71, 149, 14, 22, 112, 4, 2401, 311, 12, 16, 3711, 33, 75, 43, 1829, 296, 4, 86, 320, 35, 534, 19, 263, 4821, 1301, 4, 1873, 33, 89, 78, 12, 66, 16, 4, 360, 7, 4, 58, 316, 334, 11, 4, 1716, 43, 645, 662, 8, 257, 85, 1200, 42, 1228, 2578, 83, 68, 3912, 15, 36, 165, 1539, 278, 36, 69, 2, 780, 8, 106, 14, 6905, 1338, 18, 6, 22, 12, 215, 28, 610, 40, 6, 87, 326, 23, 2300, 21, 23, 22, 12, 272, 40, 57, 31, 11, 4, 22, 47, 6, 2307, 51, 9, 170, 23, 595, 116, 595, 1352, 13, 191, 79, 638, 89, 2, 14, 9, 8, 106, 607, 624, 35, 534, 6, 227, 7, 129, 113]),\n",
              "       ...,\n",
              "       list([1, 11, 6, 230, 245, 6401, 9, 6, 1225, 446, 2, 45, 2174, 84, 8322, 4007, 21, 4, 912, 84, 2, 325, 725, 134, 2, 1715, 84, 5, 36, 28, 57, 1099, 21, 8, 140, 8, 703, 5, 2, 84, 56, 18, 1644, 14, 9, 31, 7, 4, 9406, 1209, 2295, 2, 1008, 18, 6, 20, 207, 110, 563, 12, 8, 2901, 2, 8, 97, 6, 20, 53, 4767, 74, 4, 460, 364, 1273, 29, 270, 11, 960, 108, 45, 40, 29, 2961, 395, 11, 6, 4065, 500, 7, 2, 89, 364, 70, 29, 140, 4, 64, 4780, 11, 4, 2678, 26, 178, 4, 529, 443, 2, 5, 27, 710, 117, 2, 8123, 165, 47, 84, 37, 131, 818, 14, 595, 10, 10, 61, 1242, 1209, 10, 10, 288, 2260, 1702, 34, 2901, 2, 4, 65, 496, 4, 231, 7, 790, 5, 6, 320, 234, 2766, 234, 1119, 1574, 7, 496, 4, 139, 929, 2901, 2, 7750, 5, 4241, 18, 4, 8497, 2, 250, 11, 1818, 7561, 4, 4217, 5408, 747, 1115, 372, 1890, 1006, 541, 9303, 7, 4, 59, 2, 4, 3586, 2]),\n",
              "       list([1, 1446, 7079, 69, 72, 3305, 13, 610, 930, 8, 12, 582, 23, 5, 16, 484, 685, 54, 349, 11, 4120, 2959, 45, 58, 1466, 13, 197, 12, 16, 43, 23, 2, 5, 62, 30, 145, 402, 11, 4131, 51, 575, 32, 61, 369, 71, 66, 770, 12, 1054, 75, 100, 2198, 8, 4, 105, 37, 69, 147, 712, 75, 3543, 44, 257, 390, 5, 69, 263, 514, 105, 50, 286, 1814, 23, 4, 123, 13, 161, 40, 5, 421, 4, 116, 16, 897, 13, 2, 40, 319, 5872, 112, 6700, 11, 4803, 121, 25, 70, 3468, 4, 719, 3798, 13, 18, 31, 62, 40, 8, 7200, 4, 2, 7, 14, 123, 5, 942, 25, 8, 721, 12, 145, 5, 202, 12, 160, 580, 202, 12, 6, 52, 58, 2, 92, 401, 728, 12, 39, 14, 251, 8, 15, 251, 5, 2, 12, 38, 84, 80, 124, 12, 9, 23]),\n",
              "       list([1, 17, 6, 194, 337, 7, 4, 204, 22, 45, 254, 8, 106, 14, 123, 4, 2, 270, 2, 5, 2, 2, 732, 2098, 101, 405, 39, 14, 1034, 4, 1310, 9, 115, 50, 305, 12, 47, 4, 168, 5, 235, 7, 38, 111, 699, 102, 7, 4, 4039, 9245, 9, 24, 6, 78, 1099, 17, 2345, 2, 21, 27, 9685, 6139, 5, 2, 1603, 92, 1183, 4, 1310, 7, 4, 204, 42, 97, 90, 35, 221, 109, 29, 127, 27, 118, 8, 97, 12, 157, 21, 6789, 2, 9, 6, 66, 78, 1099, 4, 631, 1191, 5, 2642, 272, 191, 1070, 6, 7585, 8, 2197, 2, 2, 544, 5, 383, 1271, 848, 1468, 2, 497, 2, 8, 1597, 8778, 2, 21, 60, 27, 239, 9, 43, 8368, 209, 405, 10, 10, 12, 764, 40, 4, 248, 20, 12, 16, 5, 174, 1791, 72, 7, 51, 6, 1739, 22, 4, 204, 131, 9])],\n",
              "      dtype=object)"
            ]
          },
          "metadata": {
            "tags": []
          },
          "execution_count": 82
        }
      ]
    },
    {
      "cell_type": "code",
      "metadata": {
        "id": "w4Xwgr4e-dxd",
        "colab_type": "code",
        "colab": {
          "base_uri": "https://localhost:8080/",
          "height": 54
        },
        "outputId": "f9130d7f-672e-4a0b-8dc2-10edd3d994bf"
      },
      "source": [
        "print(x_train.shape)\n",
        "print(x_test.shape)"
      ],
      "execution_count": 83,
      "outputs": [
        {
          "output_type": "stream",
          "text": [
            "(25000,)\n",
            "(25000,)\n"
          ],
          "name": "stdout"
        }
      ]
    },
    {
      "cell_type": "code",
      "metadata": {
        "id": "PCW2QoXyCMnB",
        "colab_type": "code",
        "colab": {}
      },
      "source": [
        "x_train = sequence.pad_sequences(x_train, maxlen=maxlen)\n",
        "x_test = sequence.pad_sequences(x_test, maxlen=maxlen)"
      ],
      "execution_count": 0,
      "outputs": []
    },
    {
      "cell_type": "code",
      "metadata": {
        "id": "3iZG9ysTCc-E",
        "colab_type": "code",
        "colab": {
          "base_uri": "https://localhost:8080/",
          "height": 54
        },
        "outputId": "e4f4034b-162d-4d07-ba78-36e924ee6e9f"
      },
      "source": [
        "print(x_train.shape)\n",
        "print(x_test.shape)"
      ],
      "execution_count": 85,
      "outputs": [
        {
          "output_type": "stream",
          "text": [
            "(25000, 40)\n",
            "(25000, 40)\n"
          ],
          "name": "stdout"
        }
      ]
    },
    {
      "cell_type": "code",
      "metadata": {
        "id": "eavmWSrnuTxM",
        "colab_type": "code",
        "colab": {
          "base_uri": "https://localhost:8080/",
          "height": 783
        },
        "outputId": "2c1d6b5c-6f1e-46be-f099-9437328ffb5a"
      },
      "source": [
        "model = models.Sequential()\n",
        "model.add(Embedding(10000, 8, input_length=maxlen))\n",
        "model.add(layers.Flatten())  # Flatten the 3D tensor into 2D\n",
        "model.add(layers.BatchNormalization())\n",
        "model.add(layers.Dropout(0.5))\n",
        "model.add(layers.Dense(1, activation='sigmoid'))\n",
        "model.compile(optimizer='rmsprop', \n",
        "              loss='binary_crossentropy', \n",
        "              metrics=['acc'])\n",
        "model.summary()\n",
        "history = model.fit(x_train, y_train,\n",
        "                    epochs=10,\n",
        "                    batch_size=32,\n",
        "                    validation_split=0.2)"
      ],
      "execution_count": 89,
      "outputs": [
        {
          "output_type": "stream",
          "text": [
            "Model: \"sequential_5\"\n",
            "_________________________________________________________________\n",
            "Layer (type)                 Output Shape              Param #   \n",
            "=================================================================\n",
            "embedding_6 (Embedding)      (None, 40, 8)             80000     \n",
            "_________________________________________________________________\n",
            "flatten_4 (Flatten)          (None, 320)               0         \n",
            "_________________________________________________________________\n",
            "batch_normalization_1 (Batch (None, 320)               1280      \n",
            "_________________________________________________________________\n",
            "dropout_1 (Dropout)          (None, 320)               0         \n",
            "_________________________________________________________________\n",
            "dense_3 (Dense)              (None, 1)                 321       \n",
            "=================================================================\n",
            "Total params: 81,601\n",
            "Trainable params: 80,961\n",
            "Non-trainable params: 640\n",
            "_________________________________________________________________\n"
          ],
          "name": "stdout"
        },
        {
          "output_type": "stream",
          "text": [
            "/usr/local/lib/python3.6/dist-packages/tensorflow/python/framework/indexed_slices.py:434: UserWarning: Converting sparse IndexedSlices to a dense Tensor of unknown shape. This may consume a large amount of memory.\n",
            "  \"Converting sparse IndexedSlices to a dense Tensor of unknown shape. \"\n"
          ],
          "name": "stderr"
        },
        {
          "output_type": "stream",
          "text": [
            "Train on 20000 samples, validate on 5000 samples\n",
            "Epoch 1/10\n",
            "20000/20000 [==============================] - 2s 82us/step - loss: 0.7048 - acc: 0.5822 - val_loss: 0.5476 - val_acc: 0.7458\n",
            "Epoch 2/10\n",
            "20000/20000 [==============================] - 1s 74us/step - loss: 0.4879 - acc: 0.7646 - val_loss: 0.4593 - val_acc: 0.7756\n",
            "Epoch 3/10\n",
            "20000/20000 [==============================] - 1s 74us/step - loss: 0.4309 - acc: 0.7990 - val_loss: 0.4468 - val_acc: 0.7816\n",
            "Epoch 4/10\n",
            "20000/20000 [==============================] - 2s 78us/step - loss: 0.3952 - acc: 0.8201 - val_loss: 0.4467 - val_acc: 0.7902\n",
            "Epoch 5/10\n",
            "20000/20000 [==============================] - 1s 74us/step - loss: 0.3824 - acc: 0.8266 - val_loss: 0.4455 - val_acc: 0.7882\n",
            "Epoch 6/10\n",
            "20000/20000 [==============================] - 1s 74us/step - loss: 0.3605 - acc: 0.8403 - val_loss: 0.4481 - val_acc: 0.7908\n",
            "Epoch 7/10\n",
            "20000/20000 [==============================] - 2s 81us/step - loss: 0.3435 - acc: 0.8480 - val_loss: 0.4549 - val_acc: 0.7874\n",
            "Epoch 8/10\n",
            "20000/20000 [==============================] - 2s 75us/step - loss: 0.3334 - acc: 0.8540 - val_loss: 0.4620 - val_acc: 0.7848\n",
            "Epoch 9/10\n",
            "20000/20000 [==============================] - 1s 74us/step - loss: 0.3248 - acc: 0.8615 - val_loss: 0.4612 - val_acc: 0.7840\n",
            "Epoch 10/10\n",
            "20000/20000 [==============================] - 2s 80us/step - loss: 0.3199 - acc: 0.8614 - val_loss: 0.4665 - val_acc: 0.7824\n"
          ],
          "name": "stdout"
        }
      ]
    },
    {
      "cell_type": "code",
      "metadata": {
        "id": "EHjNYW8juTt0",
        "colab_type": "code",
        "colab": {
          "base_uri": "https://localhost:8080/",
          "height": 525
        },
        "outputId": "5155c32c-2065-4007-81c5-65f3319b7cab"
      },
      "source": [
        "import pandas as pd\n",
        "import matplotlib.pyplot as plt\n",
        "ax1 = pd.DataFrame(history.history)[['acc', 'val_acc']].plot(marker='.')\n",
        "ax1.legend(bbox_to_anchor=(1.5, 1.05))\n",
        "ax2 = pd.DataFrame(history.history)[['loss', 'val_loss']].plot(marker='.')\n",
        "ax2.legend(bbox_to_anchor=(1.5, 1.05))\n",
        "plt.show()"
      ],
      "execution_count": 90,
      "outputs": [
        {
          "output_type": "display_data",
          "data": {
            "image/png": "[encoded data removed]",
            "text/plain": [
              "<Figure size 432x288 with 1 Axes>"
            ]
          },
          "metadata": {
            "tags": [],
            "needs_background": "light"
          }
        },
        {
          "output_type": "display_data",
          "data": {
            "image/png": "[encoded data removed]",
            "text/plain": [
              "<Figure size 432x288 with 1 Axes>"
            ]
          },
          "metadata": {
            "tags": [],
            "needs_background": "light"
          }
        }
      ]
    }
  ]
}