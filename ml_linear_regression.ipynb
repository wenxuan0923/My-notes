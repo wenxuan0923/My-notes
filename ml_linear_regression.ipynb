{
 "cells": [
  {
   "cell_type": "markdown",
   "metadata": {},
   "source": [
    "## Machine leanring - Linear Regression model\n",
    "#### All you need to know about linear regression\n",
    "\n",
    "Thalia - 2020/03/20\n",
    "\n",
    "**Key takeaways:**\n",
    "* **What does it mean to \"train a model\"?**\n",
    "> Training a model means finding the set of parameters which make the model best fit the training set according to the selected performance measure.\n",
    "* **What is the most commonly used performance measure for regression models?**\n",
    "> **MSE** (Mean Squared Error), **RMSE** (Root Mean Squared Error), **MAE** (Mean Absolute Error), $\\boldsymbol{𝑅^2}$ (Coefficient of Determination)\n",
    "* **What is Ordinary Least Square Regression?**\n",
    "> Ordinary Least Square method is a way to train the linear regression model. It minimize $\\text{MSE}(\\theta)$ by setting its derivative to be 0, and then solve for the parameters of the linear regression model. The closed-form solution obtained is called Normal Equation. \n",
    "* **What is Gradient Descent?**\n",
    " > - **Batch Gradient Descent** uses the whole training set to compute the gradients at every step, which makes it very slow when the training set is large.\n",
    " > - **Stochastic Gradient Descent** picks only one random instance at every step and computes the gradients based only on that single instance.\n",
    " >- **Mini-Batch Gradient Descent** computes the gradients on small random sets of instances and it can boost performance from hardware optimization. \n",
    "* **What's epoch? What is its relationship with batch size?**\n",
    "> During the gradient descent, we iterate by rounds of $n$ iterations ($n=\\frac{\\text{Size of the training set}}{\\text{Batch size}}$), each round is called an epoch. \n",
    "> - **Epoch** is the number of times you go though the whole training set during the model training process.\n",
    "> - **Batch size** is the number of samples each iteration use for updating parameters. \n",
    "* **What is Penalized Linear Regression Model?**"
   ]
  },
  {
   "cell_type": "markdown",
   "metadata": {},
   "source": [
    "## Linear Regression Model\n",
    "\n",
    "**Linear regression model** makes prediction of dependent variable $y$ based on the given independent variable **$x \\in \\mathbb{R}^n$** by finding out a $\\color{red}{\\text{linear}}$ relationship, meaning it assumes the predicted value can be expressed as a linear combination of the input variable. \n",
    "\n",
    "$$\\hat{y} = \\theta_0 + \\theta_1 x_1 +...+ \\theta_n x_n $$\n",
    "\n",
    "Or written in vectorized form:\n",
    "\n",
    "$$\\hat{\\boldsymbol{y}} = \\boldsymbol{\\theta}^T\\boldsymbol{x}$$\n",
    "\n",
    "Where \n",
    "$$\\boldsymbol{\\theta} = \\begin{bmatrix} \\theta_0 \\\\ \\theta_1 \\\\ \\vdots \\\\ \\theta_n \\end{bmatrix} \\qquad \\text{and} \\qquad \\boldsymbol{x} = \\begin{bmatrix} 1 \\\\ x_1 \\\\ \\vdots \\\\ x_n \\end{bmatrix}$$\n",
    "\n",
    "The equation above is for a single data point, the vectorized version of the whole data set is:\n",
    "\n",
    "$$\\boldsymbol{\\hat{Y}} = \\boldsymbol{\\theta}^T\\boldsymbol{X}$$\n",
    "\n",
    "Where\n",
    "\n",
    "$$\\boldsymbol{X} = \\begin{bmatrix} \\vdots & \\vdots & & \\vdots \\\\ \\boldsymbol{x}^{(1)} & \\boldsymbol{x}^{(2)} & \\dots & \\boldsymbol{x}^{(m)} \\\\ \\vdots & \\vdots & & \\vdots \\end{bmatrix} \\qquad \\text{and} \\qquad \\boldsymbol{\\hat{Y}} = \\begin{bmatrix} \\boldsymbol{\\hat{y}^{(1)}} & \\boldsymbol{\\hat{y}^{(2)}} & \\dots \\boldsymbol{\\hat{y}^{(m)}}\\end{bmatrix}$$\n",
    "\n",
    "**Note**: the subscript $x_i$ means the i-th item of vector $\\boldsymbol{x}$, the superscript $x^{(i)}$ means the i-th sample in the training set.\n",
    "\n",
    "When we train a linear regression model, we want to find the parameters $\\boldsymbol{\\theta}: [\\theta_0, \\theta_1,..., \\theta_n]$ such that the model best fits the training set (of size $m$) $\\{\\boldsymbol{x}^{(1)}, \\boldsymbol{x}^{(2)},...., \\boldsymbol{x}^{(m)} \\}$. To do that, we need to have a performance measurement to help us determine how good the model is. "
   ]
  },
  {
   "cell_type": "markdown",
   "metadata": {},
   "source": [
    "### Performance measure\n",
    "\n",
    "Some commonly used performance measures of regression models are:\n",
    "\n",
    "| Measure  | Equation| Sklearn Function|\n",
    "|:-------------|:------------:|:------------|\n",
    "| $\\boldsymbol{\\text{MSE}}$ (Mean Squared Error)   | <div style=\"width:240px\">$\\frac{1}{m}\\Sigma_{i=1}^{m}(\\hat{y}^{(i)} - y^{(i)})^2$ </div> | sklearn.metrics.mean_squared_error(squared=False)|\n",
    "| $\\boldsymbol{\\text{RMSE}}$ (Root Mean Squared Error) | $\\sqrt{\\frac{1}{m}\\Sigma_{i=1}^{m}(\\hat{y}^{(i)} - y^{(i)})}$|sklearn.metrics.mean_squared_error(squared=True) |\n",
    "| $\\boldsymbol{\\text{MAE}}$ (Mean Absolute Error) |  $\\frac{1}{m}\\Sigma_{i=1}^{m}(\\hat{y}^{(i)} - y^{(i)})$ | sklearn.metrics.mean_absolute_error()|\n",
    "|$R^2$ (Coefficient of Determination)|<div style=\"height:40px\">$\\frac{\\Sigma_{i=1}^{m}(\\hat{y}^{(i)} - \\bar{y})}{\\Sigma_{i=1}^{m}(y^{(i)} - \\bar{y})}$</div>|sklearn.metrics.r2_score()|\n",
    "\n",
    "Among which the most popular one is the Root Mean Square Error (RMSE). However, it is simpler to minimize the Mean Square Error than the RMSE in practice, and it leads to the same result. Thus, the problem we are trying to solve by training a linear regression model is actually an optimization problem:\n",
    "\n",
    "$$\n",
    "\\begin{align}\n",
    "\\min\\limits_{\\theta_0,...,\\theta_n}\\text{MSE}(\\theta) &= \\min\\limits_{\\theta_0,...,\\theta_n}(\\frac{1}{m}\\Sigma_{i=1}^{m}(\\hat{y}^{(i)} - y^{(i)})^2)\\\\\n",
    "&=\\min\\limits_{\\theta_0,...,\\theta_n}(\\frac{1}{m}\\Sigma_{i=1}^{m}(\\theta^T x^{(i)} - y^{(i)})^2) \\\\\n",
    "&= \\min\\limits_{\\theta_0,...,\\theta_n}||\\theta^{T}X - Y||^2\n",
    "\\end{align}$$\n",
    "\n",
    "Where $||.||$ is the l2 norm.\n",
    "\n",
    "> **L-2 Norm**\n",
    ">\n",
    "> Given a vector $\\boldsymbol{x} = [x_1, x_2, \\dots ,x_n]^T$,  its l-2 norm is defined as\n",
    "> $$||\\boldsymbol{x}|| = \\sqrt{x_1^2 + x_2^2 + ... + x_n^2}$$\n",
    ">  A property of L-2 norm:\n",
    "> $$||\\boldsymbol{x}||^2 = \\boldsymbol{x}^T \\cdot \\boldsymbol{x}  $$\n",
    " \n",
    "We can actually solve this optimization problem with high school calculus - setting the derivative of the objective function w.r.t the parameter to be 0 and solve for the parameter!"
   ]
  },
  {
   "cell_type": "markdown",
   "metadata": {},
   "source": [
    "$$ \\begin{align}\n",
    "\\text{MSE}(\\theta) &= ||\\boldsymbol{\\theta}^{T}X - Y||^2 \\\\\n",
    "&= (\\boldsymbol{\\theta}^{T}X - Y)^T(\\boldsymbol{\\theta}^{T}X - Y) \\\\\n",
    "&= X^T\\boldsymbol{\\theta}\\boldsymbol{\\theta}^TX - X^T \\boldsymbol{\\theta} Y - Y^T\\boldsymbol{\\theta}^TX + Y^T Y\n",
    "\\end{align}$$\n",
    "\n",
    "Thus,\n",
    "$$ \\begin{align}\n",
    "\\nabla_{\\theta}\\text{MSE}(\\theta) &= \\nabla_{\\theta}(X^T\\boldsymbol{\\theta}\\boldsymbol{\\theta}^TX - X^T \\boldsymbol{\\theta} Y - Y^T\\boldsymbol{\\theta}^TX + Y^T Y) \\\\\n",
    "&= 2X^T X\\boldsymbol{\\theta} - 2X^TY \\\\\n",
    "&= X^T X\\boldsymbol{\\theta} - X^TY \\\\\n",
    "&= 0\n",
    "\\end{align}$$\n",
    "\n",
    "Solve for $\\boldsymbol{\\theta}$ gives: $\\hat{\\theta} = (\\boldsymbol{X}^T \\cdot \\boldsymbol{X})^{-1} \\cdot \\boldsymbol{X}^T \\cdot Y$ This equation is called **Normal Equation** and this method of solving for parameters of linear regression model is called **Ordinary Least Squares (OLS)**  method.\n",
    "\n",
    "Howeve, the calculation of normal equation chould be very slow when the number of dimension grows vert large, because it involves the calculation of the inverse of matrix $X^TX$. In the case of large dataset, we can use a numerical method: Gradient Descent for this optimization problem."
   ]
  },
  {
   "cell_type": "markdown",
   "metadata": {},
   "source": [
    "### Gradient Descent\n",
    "\n",
    "Gradient descent is a perfect numerical method for solving the optimization problem above, because the MSE of a Linear Regression model is a convex function. This implies that there are no local minima, just one global minimum. It is also a continuous function with a slope that never changes abruptly. These two facts have a great consequence: **Gradient Descent is guaranteed to approach arbitrarily close the global minimum**.\n",
    "\n",
    "The general idea of Gradient Descent is to tweak parameters iteratively in order to minimize a cost function. You start by initializing $\\theta$ with random values, and then you improve it gradually, taking one baby step at a time, each step attempting to decrease the cost function, until the algorithm converges to a minimum (gradient is zero). The size of the steps is determined by the **learning rate** hyperparameter $\\eta$.\n",
    "\n",
    "$$\\theta^{\\text{next step}} = \\theta^{\\text{current}} - \\eta\\nabla_{\\theta}\\text{MSE}(\\theta)$$\n",
    "\n",
    "$\\color{red}{\\text{Recall the MSE($\\theta$) is a function of all $m$ samples, the formula above uses the whole batch of training data at every step to update the parameter } \\theta}$. Therefore, the algorithm is called **Batch Gradient Descent**. The main problem with Batch Gradient Descent is the fact that it uses the whole training set to compute the gradients at every step, which makes it very slow when the training set is large. \n",
    "\n",
    "At the opposite extreme, **Stochastic Gradient Descent** $\\color{red}{\\text{picks only one random instance in the training set}}$ at every step and computes the gradients based only on that single instance. On the other hand, due to its stochastic (i.e., random) nature, this algorithm is much less regular than Batch Gradient Descent: instead of gently decreasing until it reaches the minimum, the cost function will bounce up and down, decreasing only on average. Over time it will end up very close to the minimum, but once it gets there it will continue to bounce around, never settling down. Once the algorithm stops, the final parameter values are good, but not optimal. When the cost function is very irregular, this can actually help the algorithm jump out of local minima, so Stochastic Gradient Descent has a better chance of finding the global minimum than Batch Gradient Descent does.\n",
    "\n",
    "At each step, instead of computing the gradients based on the full training set or based on just one instance, **Mini-batch GD** computes the gradients on $\\color{red}{\\text{small random sets of instances}}$ called minibatches. The main advantage of Mini-batch GD over Stochastic GD is that you can get a performance boost from hardware optimization of matrix operations, especially when using GPUs."
   ]
  },
  {
   "cell_type": "markdown",
   "metadata": {},
   "source": [
    "### Regularized Linear Regression Model\n",
    "\n",
    "When it comes to model training, we always need to be aware the problem of the overfitting. A good way to reduce overfitting is to add regularization terms in performance evaluation metrics to penalize the complexity of models. For a linear regression model, the model complexity is relected on the weights ($\\theta$) of the model. Thus, we can regularize the model by constraining the weights. \n",
    "\n",
    "1. Adding l2 norm for regularization $||\\theta||$: **Ridge Regression**\n",
    "\n",
    "$$\\text{Performance measures for Ridge}: \\text{MSE}(\\theta) + \\alpha||\\theta||^2$$\n",
    "\n",
    "2. Adding l1 norm for regularization $||\\theta||_1$: **Lasso Regression**\n",
    "\n",
    "$$\\text{Performance measures for Lasso}: \\text{MSE}(\\theta) + \\alpha||\\theta||_1$$\n",
    "\n",
    "3. Adding a mix of l1 and l2 norm for regularization: **Elastic Net**\n",
    "\n",
    "$$\\text{Performance measures for Elastic Net}: \\text{MSE}(\\theta) + r\\alpha||\\theta||_1 + \\frac{1-r}{2}\\alpha||\\theta||^2$$\n",
    "\n",
    "From the objective function (performance measures) we can see there are actually two objectives in our model training process: **Keep the Mean Squared Error small** and **Keep the model simple (small weights)**\n",
    "\n",
    "\n",
    "**Keep in mind:**\n",
    "\n",
    "- It's important to scale the data before applying regularized models, because you want your features to be equally important when training the model.\n",
    "\n",
    "- Ridge Regression will keep the model weights as small as possible, at the same time keep the MSE small.\n",
    "\n",
    "- Lasso Regression tend to completely eliminate the weights of the least important feature - it can be used for feature selection. \n",
    "\n",
    "- Ridge is always a good default to start with, but if you suspect that only a few features are actually useful, you should prefer Lasso or Elastic Net.\n",
    "\n",
    "\n",
    "\n",
    "\n"
   ]
  },
  {
   "cell_type": "markdown",
   "metadata": {},
   "source": [
    "### Implementation in Python \n",
    "\n",
    "In this tutorial we will use the toy dataset from scikit-learn: Boston house prices dataset. It's a regression problem because the target variable is the house price. To know more about the data set: https://scikit-learn.org/stable/datasets/index.html#boston-dataset"
   ]
  },
  {
   "cell_type": "code",
   "execution_count": 35,
   "metadata": {},
   "outputs": [
    {
     "data": {
      "text/plain": [
       "dict_keys(['data', 'target', 'feature_names', 'DESCR', 'filename'])"
      ]
     },
     "execution_count": 35,
     "metadata": {},
     "output_type": "execute_result"
    }
   ],
   "source": [
    "# Import sklearn.datasets\n",
    "import pandas as pd\n",
    "import numpy as np\n",
    "from sklearn.datasets import load_boston\n",
    "from sklearn.preprocessing import StandardScaler\n",
    "from sklearn.model_selection import train_test_split \n",
    "from sklearn.metrics import mean_squared_error\n",
    "from sklearn.linear_model import LinearRegression, Lasso, Ridge, SGDRegressor\n",
    "\n",
    "import matplotlib.pyplot as plt\n",
    "import seaborn as sns\n",
    "%matplotlib inline\n",
    "sns.set_style(\"whitegrid\")\n",
    "house_price = load_boston()  \n",
    "house_price.keys() # The returned data is a dictionary-like object"
   ]
  },
  {
   "cell_type": "code",
   "execution_count": 11,
   "metadata": {},
   "outputs": [
    {
     "name": "stdout",
     "output_type": "stream",
     "text": [
      "There are 0 missing data in the dataset\n"
     ]
    },
    {
     "data": {
      "text/html": [
       "<div>\n",
       "<style scoped>\n",
       "    .dataframe tbody tr th:only-of-type {\n",
       "        vertical-align: middle;\n",
       "    }\n",
       "\n",
       "    .dataframe tbody tr th {\n",
       "        vertical-align: top;\n",
       "    }\n",
       "\n",
       "    .dataframe thead th {\n",
       "        text-align: right;\n",
       "    }\n",
       "</style>\n",
       "<table border=\"1\" class=\"dataframe\">\n",
       "  <thead>\n",
       "    <tr style=\"text-align: right;\">\n",
       "      <th></th>\n",
       "      <th>CRIM</th>\n",
       "      <th>ZN</th>\n",
       "      <th>INDUS</th>\n",
       "      <th>CHAS</th>\n",
       "      <th>NOX</th>\n",
       "      <th>RM</th>\n",
       "      <th>AGE</th>\n",
       "      <th>DIS</th>\n",
       "      <th>RAD</th>\n",
       "      <th>TAX</th>\n",
       "      <th>PTRATIO</th>\n",
       "      <th>B</th>\n",
       "      <th>LSTAT</th>\n",
       "    </tr>\n",
       "  </thead>\n",
       "  <tbody>\n",
       "    <tr>\n",
       "      <th>0</th>\n",
       "      <td>0.00632</td>\n",
       "      <td>18.0</td>\n",
       "      <td>2.31</td>\n",
       "      <td>0.0</td>\n",
       "      <td>0.538</td>\n",
       "      <td>6.575</td>\n",
       "      <td>65.2</td>\n",
       "      <td>4.0900</td>\n",
       "      <td>1.0</td>\n",
       "      <td>296.0</td>\n",
       "      <td>15.3</td>\n",
       "      <td>396.90</td>\n",
       "      <td>4.98</td>\n",
       "    </tr>\n",
       "    <tr>\n",
       "      <th>1</th>\n",
       "      <td>0.02731</td>\n",
       "      <td>0.0</td>\n",
       "      <td>7.07</td>\n",
       "      <td>0.0</td>\n",
       "      <td>0.469</td>\n",
       "      <td>6.421</td>\n",
       "      <td>78.9</td>\n",
       "      <td>4.9671</td>\n",
       "      <td>2.0</td>\n",
       "      <td>242.0</td>\n",
       "      <td>17.8</td>\n",
       "      <td>396.90</td>\n",
       "      <td>9.14</td>\n",
       "    </tr>\n",
       "    <tr>\n",
       "      <th>2</th>\n",
       "      <td>0.02729</td>\n",
       "      <td>0.0</td>\n",
       "      <td>7.07</td>\n",
       "      <td>0.0</td>\n",
       "      <td>0.469</td>\n",
       "      <td>7.185</td>\n",
       "      <td>61.1</td>\n",
       "      <td>4.9671</td>\n",
       "      <td>2.0</td>\n",
       "      <td>242.0</td>\n",
       "      <td>17.8</td>\n",
       "      <td>392.83</td>\n",
       "      <td>4.03</td>\n",
       "    </tr>\n",
       "    <tr>\n",
       "      <th>3</th>\n",
       "      <td>0.03237</td>\n",
       "      <td>0.0</td>\n",
       "      <td>2.18</td>\n",
       "      <td>0.0</td>\n",
       "      <td>0.458</td>\n",
       "      <td>6.998</td>\n",
       "      <td>45.8</td>\n",
       "      <td>6.0622</td>\n",
       "      <td>3.0</td>\n",
       "      <td>222.0</td>\n",
       "      <td>18.7</td>\n",
       "      <td>394.63</td>\n",
       "      <td>2.94</td>\n",
       "    </tr>\n",
       "    <tr>\n",
       "      <th>4</th>\n",
       "      <td>0.06905</td>\n",
       "      <td>0.0</td>\n",
       "      <td>2.18</td>\n",
       "      <td>0.0</td>\n",
       "      <td>0.458</td>\n",
       "      <td>7.147</td>\n",
       "      <td>54.2</td>\n",
       "      <td>6.0622</td>\n",
       "      <td>3.0</td>\n",
       "      <td>222.0</td>\n",
       "      <td>18.7</td>\n",
       "      <td>396.90</td>\n",
       "      <td>5.33</td>\n",
       "    </tr>\n",
       "  </tbody>\n",
       "</table>\n",
       "</div>"
      ],
      "text/plain": [
       "      CRIM    ZN  INDUS  CHAS    NOX     RM   AGE     DIS  RAD    TAX  \\\n",
       "0  0.00632  18.0   2.31   0.0  0.538  6.575  65.2  4.0900  1.0  296.0   \n",
       "1  0.02731   0.0   7.07   0.0  0.469  6.421  78.9  4.9671  2.0  242.0   \n",
       "2  0.02729   0.0   7.07   0.0  0.469  7.185  61.1  4.9671  2.0  242.0   \n",
       "3  0.03237   0.0   2.18   0.0  0.458  6.998  45.8  6.0622  3.0  222.0   \n",
       "4  0.06905   0.0   2.18   0.0  0.458  7.147  54.2  6.0622  3.0  222.0   \n",
       "\n",
       "   PTRATIO       B  LSTAT  \n",
       "0     15.3  396.90   4.98  \n",
       "1     17.8  396.90   9.14  \n",
       "2     17.8  392.83   4.03  \n",
       "3     18.7  394.63   2.94  \n",
       "4     18.7  396.90   5.33  "
      ]
     },
     "execution_count": 11,
     "metadata": {},
     "output_type": "execute_result"
    }
   ],
   "source": [
    "X = pd.DataFrame(house_price['data'], columns=house_price['feature_names'])\n",
    "print('There are %.0f missing data in the dataset' % X.isnull().any().sum())\n",
    "y = house_price['target']\n",
    "X.head()"
   ]
  },
  {
   "cell_type": "markdown",
   "metadata": {},
   "source": [
    "**Attribute Information**\n",
    "* **CRIM**: per capita crime rate by town\n",
    "* **ZN**: proportion of residential land zoned for lots over 25,000 sq.ft.\n",
    "* **INDUS**: proportion of non-retail business acres per town\n",
    "* **CHAS**: Charles River dummy variable (= 1 if tract bounds river; 0 otherwise)\n",
    "* **NOX**: nitric oxides concentration (parts per 10 million)\n",
    "* **RM**: average number of rooms per dwelling\n",
    "* **AGE**: proportion of owner-occupied units built prior to 1940\n",
    "* **DIS**: weighted distances to five Boston employment centres\n",
    "* **RAD**: index of accessibility to radial highways\n",
    "* **TAX**: full-value property-tax rate per $\\$10,000$\n",
    "* **PTRATIO**: pupil-teacher ratio by town\n",
    "* **B**: $1000(Bk - 0.63)^2$ where Bk is the proportion of blacks by town\n",
    "* **LSTAT**: % lower status of the population\n",
    "* **MEDV**: Median value of owner-occupied homes in $\\$1000’s$"
   ]
  },
  {
   "cell_type": "code",
   "execution_count": 22,
   "metadata": {},
   "outputs": [],
   "source": [
    "class linear_regs:\n",
    "    \n",
    "    def __init__(self):\n",
    "        # initialize models\n",
    "        # Lasso: you can use SGDRegressor(penalty='l1') instead\n",
    "        # Ridge: you can use SGDRegressor(penalty='l2') instead\n",
    "        self._models = [LinearRegression(), Lasso(), Ridge()]\n",
    "        \n",
    "    def _scale(self, X):\n",
    "        # It's important to scale the data when using regularization methods\n",
    "        scaler = StandardScaler()\n",
    "        X_scaled = scaler.fit_transform(X) \n",
    "        return X_scaled\n",
    "    \n",
    "    def _split(self, X, y):\n",
    "        X_scaled = self._scale(X)\n",
    "        X_train, X_test, y_train, y_test = train_test_split(X_scaled, y, test_size=0.2)\n",
    "        return X_train, X_test, y_train, y_test\n",
    "    \n",
    "    def fit_predict(self, X, y):   \n",
    "        X_train, X_test, y_train, y_test = self._split(X, y)\n",
    "        for model in self._models:\n",
    "            model.fit(X_train, y_train)\n",
    "        predictions = np.column_stack([\n",
    "                      model.predict(X_test) for model in self._models])     \n",
    "        prediction = pd.DataFrame(predictions, columns=['Linear Regression', 'Lasso', 'Ridge'])\n",
    "        return predictions,  y_test"
   ]
  },
  {
   "cell_type": "code",
   "execution_count": 43,
   "metadata": {},
   "outputs": [],
   "source": [
    "def evaluate(prediction, y_test):\n",
    "    evaluation = {}\n",
    "    for col in prediction.columns:\n",
    "        evaluation[col] = mean_squared_error(y_test, prediction[col]) \n",
    "        ax = sns.regplot(x=y_test, y=prediction[col], label=col)\n",
    "    ax.set(xlabel='True value', ylabel='Prediction')\n",
    "    plt.legend()\n",
    "    return evaluation"
   ]
  },
  {
   "cell_type": "code",
   "execution_count": 44,
   "metadata": {},
   "outputs": [
    {
     "data": {
      "text/plain": [
       "{'Linear Regression': 29.09695177027414,\n",
       " 'Lasso': 32.32069146957873,\n",
       " 'Ridge': 29.035392302148974}"
      ]
     },
     "execution_count": 44,
     "metadata": {},
     "output_type": "execute_result"
    },
    {
     "data": {
      "image/png": "[encoded data removed]",
      "text/plain": [
       "<Figure size 432x288 with 1 Axes>"
      ]
     },
     "metadata": {},
     "output_type": "display_data"
    }
   ],
   "source": [
    "linear_models = linear_regs()\n",
    "prediction, y_test = linear_models.fit_predict(X, y)\n",
    "evaluate(prediction, y_test)"
   ]
  },
  {
   "cell_type": "markdown",
   "metadata": {},
   "source": [
    "From the prediction result: Ridge is slightly better than the regular Linear regression and Lasso. A perfect prediction will be a 45 degree line. Since this is a very small dataset and linear regression is a very simle model, so eliminating features using Lasso will actually lead to worse results in this case."
   ]
  },
  {
   "cell_type": "markdown",
   "metadata": {},
   "source": [
    "### (Optional) Adding polynomial features "
   ]
  },
  {
   "cell_type": "code",
   "execution_count": 48,
   "metadata": {},
   "outputs": [],
   "source": [
    "from sklearn.preprocessing import PolynomialFeatures\n",
    "poly_features = PolynomialFeatures(degree=2)\n",
    "X_poly = poly_features.fit_transform(X)"
   ]
  },
  {
   "cell_type": "code",
   "execution_count": 49,
   "metadata": {},
   "outputs": [
    {
     "data": {
      "text/plain": [
       "(506, 13)"
      ]
     },
     "metadata": {},
     "output_type": "display_data"
    },
    {
     "data": {
      "text/plain": [
       "(506, 105)"
      ]
     },
     "metadata": {},
     "output_type": "display_data"
    }
   ],
   "source": [
    "display(X.shape)\n",
    "display(X_poly.shape)"
   ]
  },
  {
   "cell_type": "code",
   "execution_count": 50,
   "metadata": {},
   "outputs": [
    {
     "data": {
      "text/plain": [
       "{'Linear Regression': 13.153805194861135,\n",
       " 'Lasso': 21.293124138173457,\n",
       " 'Ridge': 8.897079067231477}"
      ]
     },
     "execution_count": 50,
     "metadata": {},
     "output_type": "execute_result"
    },
    {
     "data": {
      "image/png": "[encoded data removed]",
      "text/plain": [
       "<Figure size 432x288 with 1 Axes>"
      ]
     },
     "metadata": {},
     "output_type": "display_data"
    }
   ],
   "source": [
    "linear_models_new = linear_regs()\n",
    "prediction_new, y_test = linear_models.fit_predict(X_poly, y)\n",
    "evaluate(prediction_new, y_test)"
   ]
  },
  {
   "cell_type": "markdown",
   "metadata": {},
   "source": [
    "The prediction is way better now! Right now all the hyperparameters being used is the default value. \n",
    "You can further tune the hyperparameters next for better results."
   ]
  },
  {
   "cell_type": "code",
   "execution_count": null,
   "metadata": {},
   "outputs": [],
   "source": []
  }
 ],
 "metadata": {
  "kernelspec": {
   "display_name": "Python 3",
   "language": "python",
   "name": "python3"
  },
  "language_info": {
   "codemirror_mode": {
    "name": "ipython",
    "version": 3
   },
   "file_extension": ".py",
   "mimetype": "text/x-python",
   "name": "python",
   "nbconvert_exporter": "python",
   "pygments_lexer": "ipython3",
   "version": "3.7.6"
  }
 },
 "nbformat": 4,
 "nbformat_minor": 4
}
