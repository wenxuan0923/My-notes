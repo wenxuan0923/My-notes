{
 "cells": [
  {
   "cell_type": "markdown",
   "metadata": {},
   "source": [
    "## Process raw .txt data\n",
    "### - IMDB Dataset\n",
    "The raw (.txt) IMDB review data can be downloaded [here](http://mng.bz/0tIo). It consists of two folders **train** and **test**. <br>\n",
    "Each folder has two folders **neg** and **pos** contains negative reviews and positive reviews respectively.<br>\n",
    "In this note I will do some data processing to turn these raw data into a tractable format for model building with the following procedure:\n",
    "\n",
    "1. Read in all .txt data (2,5000 files for both training and testing set)\n",
    "2. Create lables for these text data\n",
    "3. Vecotorize text data \n",
    "4. Padding the data to make them the same length \n",
    "5. Prepare training and validation set\n",
    "6. Build naive model as baseline"
   ]
  },
  {
   "cell_type": "code",
   "execution_count": 35,
   "metadata": {},
   "outputs": [],
   "source": [
    "import os \n",
    "import numpy as np\n",
    "import pandas as pd"
   ]
  },
  {
   "cell_type": "code",
   "execution_count": 36,
   "metadata": {},
   "outputs": [],
   "source": [
    "base_dir = os.getcwd()\n",
    "train_dir = os.path.join(base_dir, 'train')\n",
    "test_dir = os.path.join(base_dir, 'test')\n",
    "train_pos_dir = os.path.join(train_dir, 'pos')\n",
    "train_neg_dir = os.path.join(train_dir, 'neg')\n",
    "test_pos_dir = os.path.join(test_dir, 'pos')\n",
    "test_neg_dir = os.path.join(test_dir, 'neg')"
   ]
  },
  {
   "cell_type": "code",
   "execution_count": 73,
   "metadata": {},
   "outputs": [],
   "source": [
    "def get_files_dir(folder_dir):\n",
    "    \n",
    "    '''Get the directory of all files in the folder\n",
    "    '''\n",
    "    return [os.path.join(folder_dir, f) \n",
    "            for f in os.listdir(folder_dir) \n",
    "            if f.endswith('.txt')]\n",
    "\n",
    "train_pos_lst = get_files_dir(train_pos_dir)\n",
    "train_neg_lst = get_files_dir(train_neg_dir)\n",
    "test_pos_lst = get_files_dir(test_pos_dir)\n",
    "test_neg_lst = get_files_dir(test_neg_dir)"
   ]
  },
  {
   "cell_type": "markdown",
   "metadata": {},
   "source": [
    "### Let's take a look at the raw data:"
   ]
  },
  {
   "cell_type": "code",
   "execution_count": 38,
   "metadata": {},
   "outputs": [
    {
     "data": {
      "text/plain": [
       "\"I love this show!<br /><br />Every time i watch an episode i repeat that line and remind myself how good of a show this is. I am a huge sci-fi fan and this show has grounds to be the most important science (fiction?) show in the history of film/TV. There are so many theories in this show about the universe i could start a religion. Its amazing, season after season the show gets better and better.<br /><br />I've been a fan of MacGyver since i was 5 (19 now) and i find it so ironic that my 2 favorite TV shows of all time star Richard Dean Anderson. Its also interesting how each character is practically the opposite of the other.<br /><br />Back when i first saw Stargate the movie, i instantly liked it and considered it one of my favorite sci-fi flicks, then hearing a TV show would spin from it i got really excited, but didn't get showtime till the fifth season was almost over.<br /><br />Though, I'm disappointed to hear that Roland Emmerich and Dean Devlin wanted to do a trilogy of movies but the studio optioned the series instead. <br /><br />Id say though that it turned out just fine. Maybe even better.<br /><br />This show is amazing, and i hope it never dies. Atlantis here we come!\""
      ]
     },
     "execution_count": 38,
     "metadata": {},
     "output_type": "execute_result"
    }
   ],
   "source": [
    "open(train_pos_lst[122], 'r').read()"
   ]
  },
  {
   "cell_type": "code",
   "execution_count": 39,
   "metadata": {},
   "outputs": [
    {
     "name": "stdout",
     "output_type": "stream",
     "text": [
      "12500\n",
      "12500\n"
     ]
    }
   ],
   "source": [
    "print(len(train_pos_lst))\n",
    "print(len(train_neg_lst))"
   ]
  },
  {
   "cell_type": "markdown",
   "metadata": {},
   "source": [
    "### Read in all the data and store in DataFrame"
   ]
  },
  {
   "cell_type": "code",
   "execution_count": 17,
   "metadata": {},
   "outputs": [],
   "source": [
    "def read_pos_data(txt_dir): \n",
    "    txt = open(txt_dir, 'r', encoding='utf8').read()\n",
    "    return {'review':txt, 'label':1}\n",
    "\n",
    "def read_neg_data(txt_dir): \n",
    "    txt = open(txt_dir, 'r', encoding='utf8').read()\n",
    "    return {'review':txt, 'label':0}"
   ]
  },
  {
   "cell_type": "code",
   "execution_count": 19,
   "metadata": {},
   "outputs": [],
   "source": [
    "train_data = (list(map(read_pos_data, train_pos_lst)) \n",
    "             + list(map(read_neg_data, train_neg_lst)))\n",
    "test_data = (list(map(read_pos_data, test_pos_lst)) \n",
    "             + list(map(read_neg_data, test_neg_lst)))\n",
    "train_df = pd.DataFrame(train_data)\n",
    "test_df = pd.DataFrame(test_data)"
   ]
  },
  {
   "cell_type": "code",
   "execution_count": 40,
   "metadata": {},
   "outputs": [
    {
     "name": "stdout",
     "output_type": "stream",
     "text": [
      "Train data shape:  (25000, 2)\n"
     ]
    },
    {
     "data": {
      "text/html": [
       "<div>\n",
       "<style scoped>\n",
       "    .dataframe tbody tr th:only-of-type {\n",
       "        vertical-align: middle;\n",
       "    }\n",
       "\n",
       "    .dataframe tbody tr th {\n",
       "        vertical-align: top;\n",
       "    }\n",
       "\n",
       "    .dataframe thead th {\n",
       "        text-align: right;\n",
       "    }\n",
       "</style>\n",
       "<table border=\"1\" class=\"dataframe\">\n",
       "  <thead>\n",
       "    <tr style=\"text-align: right;\">\n",
       "      <th></th>\n",
       "      <th>review</th>\n",
       "      <th>label</th>\n",
       "    </tr>\n",
       "  </thead>\n",
       "  <tbody>\n",
       "    <tr>\n",
       "      <th>0</th>\n",
       "      <td>Bromwell High is a cartoon comedy. It ran at t...</td>\n",
       "      <td>1</td>\n",
       "    </tr>\n",
       "    <tr>\n",
       "      <th>1</th>\n",
       "      <td>Homelessness (or Houselessness as George Carli...</td>\n",
       "      <td>1</td>\n",
       "    </tr>\n",
       "    <tr>\n",
       "      <th>2</th>\n",
       "      <td>Brilliant over-acting by Lesley Ann Warren. Be...</td>\n",
       "      <td>1</td>\n",
       "    </tr>\n",
       "    <tr>\n",
       "      <th>3</th>\n",
       "      <td>This is easily the most underrated film inn th...</td>\n",
       "      <td>1</td>\n",
       "    </tr>\n",
       "    <tr>\n",
       "      <th>4</th>\n",
       "      <td>This is not the typical Mel Brooks film. It wa...</td>\n",
       "      <td>1</td>\n",
       "    </tr>\n",
       "  </tbody>\n",
       "</table>\n",
       "</div>"
      ],
      "text/plain": [
       "                                              review  label\n",
       "0  Bromwell High is a cartoon comedy. It ran at t...      1\n",
       "1  Homelessness (or Houselessness as George Carli...      1\n",
       "2  Brilliant over-acting by Lesley Ann Warren. Be...      1\n",
       "3  This is easily the most underrated film inn th...      1\n",
       "4  This is not the typical Mel Brooks film. It wa...      1"
      ]
     },
     "metadata": {},
     "output_type": "display_data"
    },
    {
     "name": "stdout",
     "output_type": "stream",
     "text": [
      "Test data shape:  (25000, 2)\n"
     ]
    },
    {
     "data": {
      "text/html": [
       "<div>\n",
       "<style scoped>\n",
       "    .dataframe tbody tr th:only-of-type {\n",
       "        vertical-align: middle;\n",
       "    }\n",
       "\n",
       "    .dataframe tbody tr th {\n",
       "        vertical-align: top;\n",
       "    }\n",
       "\n",
       "    .dataframe thead th {\n",
       "        text-align: right;\n",
       "    }\n",
       "</style>\n",
       "<table border=\"1\" class=\"dataframe\">\n",
       "  <thead>\n",
       "    <tr style=\"text-align: right;\">\n",
       "      <th></th>\n",
       "      <th>review</th>\n",
       "      <th>label</th>\n",
       "    </tr>\n",
       "  </thead>\n",
       "  <tbody>\n",
       "    <tr>\n",
       "      <th>0</th>\n",
       "      <td>I went and saw this movie last night after bei...</td>\n",
       "      <td>1</td>\n",
       "    </tr>\n",
       "    <tr>\n",
       "      <th>1</th>\n",
       "      <td>Actor turned director Bill Paxton follows up h...</td>\n",
       "      <td>1</td>\n",
       "    </tr>\n",
       "    <tr>\n",
       "      <th>2</th>\n",
       "      <td>As a recreational golfer with some knowledge o...</td>\n",
       "      <td>1</td>\n",
       "    </tr>\n",
       "    <tr>\n",
       "      <th>3</th>\n",
       "      <td>I saw this film in a sneak preview, and it is ...</td>\n",
       "      <td>1</td>\n",
       "    </tr>\n",
       "    <tr>\n",
       "      <th>4</th>\n",
       "      <td>Bill Paxton has taken the true story of the 19...</td>\n",
       "      <td>1</td>\n",
       "    </tr>\n",
       "  </tbody>\n",
       "</table>\n",
       "</div>"
      ],
      "text/plain": [
       "                                              review  label\n",
       "0  I went and saw this movie last night after bei...      1\n",
       "1  Actor turned director Bill Paxton follows up h...      1\n",
       "2  As a recreational golfer with some knowledge o...      1\n",
       "3  I saw this film in a sneak preview, and it is ...      1\n",
       "4  Bill Paxton has taken the true story of the 19...      1"
      ]
     },
     "metadata": {},
     "output_type": "display_data"
    }
   ],
   "source": [
    "print('Train data shape: ', train_df.shape)\n",
    "display(train_df.head())\n",
    "print('Test data shape: ', test_df.shape)\n",
    "display(test_df.head())"
   ]
  },
  {
   "cell_type": "markdown",
   "metadata": {},
   "source": [
    "### Shuffle the rows before further procession:"
   ]
  },
  {
   "cell_type": "code",
   "execution_count": 49,
   "metadata": {},
   "outputs": [],
   "source": [
    "train_df = train_df.sample(frac=1)\n",
    "test_df = test_df.sample(frac=1)"
   ]
  },
  {
   "cell_type": "code",
   "execution_count": 51,
   "metadata": {},
   "outputs": [
    {
     "data": {
      "text/html": [
       "<div>\n",
       "<style scoped>\n",
       "    .dataframe tbody tr th:only-of-type {\n",
       "        vertical-align: middle;\n",
       "    }\n",
       "\n",
       "    .dataframe tbody tr th {\n",
       "        vertical-align: top;\n",
       "    }\n",
       "\n",
       "    .dataframe thead th {\n",
       "        text-align: right;\n",
       "    }\n",
       "</style>\n",
       "<table border=\"1\" class=\"dataframe\">\n",
       "  <thead>\n",
       "    <tr style=\"text-align: right;\">\n",
       "      <th></th>\n",
       "      <th>review</th>\n",
       "      <th>label</th>\n",
       "    </tr>\n",
       "  </thead>\n",
       "  <tbody>\n",
       "    <tr>\n",
       "      <th>18198</th>\n",
       "      <td>One has to wonder if at any point in the produ...</td>\n",
       "      <td>0</td>\n",
       "    </tr>\n",
       "    <tr>\n",
       "      <th>10270</th>\n",
       "      <td>Here's a gritty, get-the-bad guys revenge stor...</td>\n",
       "      <td>1</td>\n",
       "    </tr>\n",
       "    <tr>\n",
       "      <th>7846</th>\n",
       "      <td>Moonwalker is probably not the film to watch i...</td>\n",
       "      <td>1</td>\n",
       "    </tr>\n",
       "    <tr>\n",
       "      <th>5074</th>\n",
       "      <td>Bette Midler is again Divine! Raunchily humoro...</td>\n",
       "      <td>1</td>\n",
       "    </tr>\n",
       "    <tr>\n",
       "      <th>20092</th>\n",
       "      <td>Do we really need any more narcissistic garbag...</td>\n",
       "      <td>0</td>\n",
       "    </tr>\n",
       "  </tbody>\n",
       "</table>\n",
       "</div>"
      ],
      "text/plain": [
       "                                                  review  label\n",
       "18198  One has to wonder if at any point in the produ...      0\n",
       "10270  Here's a gritty, get-the-bad guys revenge stor...      1\n",
       "7846   Moonwalker is probably not the film to watch i...      1\n",
       "5074   Bette Midler is again Divine! Raunchily humoro...      1\n",
       "20092  Do we really need any more narcissistic garbag...      0"
      ]
     },
     "metadata": {},
     "output_type": "display_data"
    },
    {
     "data": {
      "text/html": [
       "<div>\n",
       "<style scoped>\n",
       "    .dataframe tbody tr th:only-of-type {\n",
       "        vertical-align: middle;\n",
       "    }\n",
       "\n",
       "    .dataframe tbody tr th {\n",
       "        vertical-align: top;\n",
       "    }\n",
       "\n",
       "    .dataframe thead th {\n",
       "        text-align: right;\n",
       "    }\n",
       "</style>\n",
       "<table border=\"1\" class=\"dataframe\">\n",
       "  <thead>\n",
       "    <tr style=\"text-align: right;\">\n",
       "      <th></th>\n",
       "      <th>review</th>\n",
       "      <th>label</th>\n",
       "    </tr>\n",
       "  </thead>\n",
       "  <tbody>\n",
       "    <tr>\n",
       "      <th>24015</th>\n",
       "      <td>I had a bad feeling ten seconds into the film ...</td>\n",
       "      <td>0</td>\n",
       "    </tr>\n",
       "    <tr>\n",
       "      <th>5796</th>\n",
       "      <td>When I saw this movie i expected it to be a ch...</td>\n",
       "      <td>1</td>\n",
       "    </tr>\n",
       "    <tr>\n",
       "      <th>17317</th>\n",
       "      <td>One of the worst movies I've ever seen. Yes, I...</td>\n",
       "      <td>0</td>\n",
       "    </tr>\n",
       "    <tr>\n",
       "      <th>936</th>\n",
       "      <td>The BBC surpassed themselves with the boundari...</td>\n",
       "      <td>1</td>\n",
       "    </tr>\n",
       "    <tr>\n",
       "      <th>1495</th>\n",
       "      <td>Beautiful film set in 1962 Hong Kong about a m...</td>\n",
       "      <td>1</td>\n",
       "    </tr>\n",
       "  </tbody>\n",
       "</table>\n",
       "</div>"
      ],
      "text/plain": [
       "                                                  review  label\n",
       "24015  I had a bad feeling ten seconds into the film ...      0\n",
       "5796   When I saw this movie i expected it to be a ch...      1\n",
       "17317  One of the worst movies I've ever seen. Yes, I...      0\n",
       "936    The BBC surpassed themselves with the boundari...      1\n",
       "1495   Beautiful film set in 1962 Hong Kong about a m...      1"
      ]
     },
     "metadata": {},
     "output_type": "display_data"
    }
   ],
   "source": [
    "display(train_df.head())\n",
    "display(test_df.head())"
   ]
  },
  {
   "cell_type": "markdown",
   "metadata": {},
   "source": [
    "### Tokenize the data"
   ]
  },
  {
   "cell_type": "code",
   "execution_count": 52,
   "metadata": {},
   "outputs": [],
   "source": [
    "from keras.preprocessing.text import Tokenizer\n",
    "from keras.preprocessing.sequence import pad_sequences"
   ]
  },
  {
   "cell_type": "code",
   "execution_count": 53,
   "metadata": {},
   "outputs": [],
   "source": [
    "maxlen = 100\n",
    "max_words = 10000\n",
    "tokenizer = Tokenizer(num_words=max_words)\n",
    "tokenizer.fit_on_texts(list(train_df.review))"
   ]
  },
  {
   "cell_type": "code",
   "execution_count": 65,
   "metadata": {},
   "outputs": [
    {
     "data": {
      "text/plain": [
       "(25000, 100)"
      ]
     },
     "metadata": {},
     "output_type": "display_data"
    },
    {
     "data": {
      "text/plain": [
       "(25000, 100)"
      ]
     },
     "metadata": {},
     "output_type": "display_data"
    }
   ],
   "source": [
    "# Fit the tokenizer on training data \n",
    "# Apply on both training and testing data\n",
    "train_seq = tokenizer.texts_to_sequences(list(train_df.review))\n",
    "test_seq = tokenizer.texts_to_sequences(list(test_df.review))\n",
    "\n",
    "x_train, x_test = train_seq.copy(), test_seq.copy()\n",
    "y_train, y_test = np.array(train_df.label), np.array(test_df.label)\n",
    "\n",
    "x_train = pad_sequences(x_train, maxlen=maxlen)\n",
    "x_test = pad_sequences(x_test, maxlen=maxlen)\n",
    "\n",
    "display(x_train.shape)\n",
    "display(x_test.shape)"
   ]
  },
  {
   "cell_type": "code",
   "execution_count": 66,
   "metadata": {},
   "outputs": [
    {
     "data": {
      "text/plain": [
       "array([   1, 3309,  944,   12, 6041,    7,    7,  135,   59,  256,   11,\n",
       "        944,   10,   77,  132,   12,  824,    7,    7,    6,    3,   49,\n",
       "        264,  182,  129,    2,   26,  124,   48,   26,   67,    7,    7,\n",
       "         16,    1,  411,    2,  901, 1180,   26,    6,  345,   18,    7,\n",
       "          7,  102,  213,    2,  137,   15,   54, 1730,  279, 2383,    6,\n",
       "          7,    7,  695, 2962,    2,    1,  113,  624,    2,  455,   23,\n",
       "          5,    7,    7,  273,    9, 2338,   21,   28, 5975,    6,   32,\n",
       "       2401,    7,    7, 1095,    4,  422,   14,    9,   77,  239, 1965,\n",
       "       9457,  141,  256,    7,    7,  162,  586,    5,  162,  103,   11,\n",
       "         19])"
      ]
     },
     "execution_count": 66,
     "metadata": {},
     "output_type": "execute_result"
    }
   ],
   "source": [
    "x_train[0]"
   ]
  },
  {
   "cell_type": "markdown",
   "metadata": {},
   "source": [
    "### Prepare training and validation set"
   ]
  },
  {
   "cell_type": "code",
   "execution_count": 67,
   "metadata": {},
   "outputs": [],
   "source": [
    "from sklearn.model_selection import train_test_split\n",
    "X_train, X_val, y_train, y_val = train_test_split(x_train, y_train, \n",
    "                                                  test_size = 0.2, \n",
    "                                                  random_state = 0)"
   ]
  },
  {
   "cell_type": "code",
   "execution_count": 75,
   "metadata": {},
   "outputs": [
    {
     "name": "stdout",
     "output_type": "stream",
     "text": [
      "(20000, 100)\n",
      "(20000,)\n",
      "(5000, 100)\n",
      "(5000,)\n"
     ]
    }
   ],
   "source": [
    "print(X_train.shape)\n",
    "print(y_train.shape)\n",
    "print(X_val.shape)\n",
    "print(y_val.shape)"
   ]
  },
  {
   "cell_type": "markdown",
   "metadata": {},
   "source": [
    "Now the data is ready for use. \n",
    "\n",
    "### A Baseline model "
   ]
  },
  {
   "cell_type": "code",
   "execution_count": 85,
   "metadata": {},
   "outputs": [],
   "source": [
    "from keras import models\n",
    "from keras import layers\n",
    "\n",
    "model = models.Sequential()\n",
    "model.add(layers.Embedding(max_words, 5, input_length=maxlen))\n",
    "model.add(layers.Flatten())\n",
    "model.add(layers.BatchNormalization())\n",
    "model.add(layers.Dropout(0.5))\n",
    "model.add(layers.Dense(1, activation='sigmoid'))\n",
    "\n",
    "model.compile(optimizer='rmsprop',\n",
    "              loss='binary_crossentropy',\n",
    "              metrics=['acc'])"
   ]
  },
  {
   "cell_type": "code",
   "execution_count": 86,
   "metadata": {},
   "outputs": [
    {
     "name": "stderr",
     "output_type": "stream",
     "text": [
      "C:\\Users\\wenxu\\anaconda3\\lib\\site-packages\\tensorflow_core\\python\\framework\\indexed_slices.py:433: UserWarning: Converting sparse IndexedSlices to a dense Tensor of unknown shape. This may consume a large amount of memory.\n",
      "  \"Converting sparse IndexedSlices to a dense Tensor of unknown shape. \"\n"
     ]
    },
    {
     "name": "stdout",
     "output_type": "stream",
     "text": [
      "Train on 20000 samples, validate on 5000 samples\n",
      "Epoch 1/10\n",
      "20000/20000 [==============================] - 2s 119us/step - loss: 0.7098 - acc: 0.5767 - val_loss: 0.5115 - val_acc: 0.7744\n",
      "Epoch 2/10\n",
      "20000/20000 [==============================] - 2s 95us/step - loss: 0.4217 - acc: 0.8036 - val_loss: 0.3639 - val_acc: 0.8376\n",
      "Epoch 3/10\n",
      "20000/20000 [==============================] - 2s 103us/step - loss: 0.3556 - acc: 0.8437 - val_loss: 0.3494 - val_acc: 0.8428\n",
      "Epoch 4/10\n",
      "20000/20000 [==============================] - 2s 97us/step - loss: 0.3227 - acc: 0.8626 - val_loss: 0.3480 - val_acc: 0.8446\n",
      "Epoch 5/10\n",
      "20000/20000 [==============================] - 2s 95us/step - loss: 0.3115 - acc: 0.8694 - val_loss: 0.3491 - val_acc: 0.8478\n",
      "Epoch 6/10\n",
      "20000/20000 [==============================] - 2s 104us/step - loss: 0.2894 - acc: 0.8794 - val_loss: 0.3541 - val_acc: 0.8488\n",
      "Epoch 7/10\n",
      "20000/20000 [==============================] - 2s 95us/step - loss: 0.2851 - acc: 0.8802 - val_loss: 0.3557 - val_acc: 0.8458\n",
      "Epoch 8/10\n",
      "20000/20000 [==============================] - 2s 87us/step - loss: 0.2712 - acc: 0.8880 - val_loss: 0.3587 - val_acc: 0.8502\n",
      "Epoch 9/10\n",
      "20000/20000 [==============================] - 2s 88us/step - loss: 0.2603 - acc: 0.8913 - val_loss: 0.3645 - val_acc: 0.8476\n",
      "Epoch 10/10\n",
      "20000/20000 [==============================] - 2s 83us/step - loss: 0.2551 - acc: 0.8924 - val_loss: 0.3707 - val_acc: 0.8474\n"
     ]
    }
   ],
   "source": [
    "history = model.fit(X_train, \n",
    "                    y_train, \n",
    "                    epochs=10,\n",
    "                    batch_size=32,\n",
    "                    validation_data=(X_val, y_val))"
   ]
  },
  {
   "cell_type": "code",
   "execution_count": 87,
   "metadata": {},
   "outputs": [
    {
     "data": {
      "image/png": "[encoded data removed]",
      "text/plain": [
       "<Figure size 432x288 with 1 Axes>"
      ]
     },
     "metadata": {
      "needs_background": "light"
     },
     "output_type": "display_data"
    },
    {
     "data": {
      "image/png": "[encoded data removed]",
      "text/plain": [
       "<Figure size 432x288 with 1 Axes>"
      ]
     },
     "metadata": {
      "needs_background": "light"
     },
     "output_type": "display_data"
    }
   ],
   "source": [
    "import pandas as pd\n",
    "import matplotlib.pyplot as plt\n",
    "ax1 = pd.DataFrame(history.history)[['acc', 'val_acc']].plot(marker='.')\n",
    "ax1.legend(bbox_to_anchor=(1.5, 1.05))\n",
    "ax2 = pd.DataFrame(history.history)[['loss', 'val_loss']].plot(marker='.')\n",
    "ax2.legend(bbox_to_anchor=(1.5, 1.05))\n",
    "plt.show()"
   ]
  },
  {
   "cell_type": "markdown",
   "metadata": {},
   "source": [
    "**The validation accuracy is 0.8474 at the end of 10th epoch for this baseline model. Not bad!**"
   ]
  },
  {
   "cell_type": "code",
   "execution_count": null,
   "metadata": {},
   "outputs": [],
   "source": []
  }
 ],
 "metadata": {
  "kernelspec": {
   "display_name": "Python 3",
   "language": "python",
   "name": "python3"
  },
  "language_info": {
   "codemirror_mode": {
    "name": "ipython",
    "version": 3
   },
   "file_extension": ".py",
   "mimetype": "text/x-python",
   "name": "python",
   "nbconvert_exporter": "python",
   "pygments_lexer": "ipython3",
   "version": "3.7.6"
  }
 },
 "nbformat": 4,
 "nbformat_minor": 4
}
