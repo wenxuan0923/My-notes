{
 "cells": [
  {
   "cell_type": "markdown",
   "metadata": {},
   "source": [
    "## Iterators in Python\n",
    "\n",
    "* **Iterator** in Python is an **object** that can be iterated upon\n",
    "* An Iterator object returns data, one element at a time\n",
    "* An object is called **iterable** if we can get an iterator from it\n",
    "* Most of builtin data structures in Python are iterable, like: \n",
    "> Lists, tuples, dictionaries, sets, string etc.\n",
    "* The `iter()` function returns an iterator from an iterable object\n",
    "* The `next()` function will iterate through all the items of an iterator, one element at a time\n",
    "\n",
    "### Create an iterator from an iterable object"
   ]
  },
  {
   "cell_type": "code",
   "execution_count": 10,
   "metadata": {},
   "outputs": [
    {
     "name": "stdout",
     "output_type": "stream",
     "text": [
      "<list_iterator object at 0x000001D37C456B48>\n"
     ]
    }
   ],
   "source": [
    "# Create an iterator from an iterable object\n",
    "lst = ['Thalia', 'Seattle', 'Washington', 'Finance', 'Summer']\n",
    "lst_iterator = iter(lst)\n",
    "print(lst_iterator)"
   ]
  },
  {
   "cell_type": "code",
   "execution_count": 14,
   "metadata": {},
   "outputs": [
    {
     "name": "stdout",
     "output_type": "stream",
     "text": [
      "<str_iterator object at 0x000001D37C4FAD48>\n"
     ]
    }
   ],
   "source": [
    "mystr = 'Seattle'\n",
    "str_iterator = iter(mystr)\n",
    "print(str_iterator)"
   ]
  },
  {
   "cell_type": "markdown",
   "metadata": {},
   "source": [
    "### Iterate through an iterator manually"
   ]
  },
  {
   "cell_type": "code",
   "execution_count": 11,
   "metadata": {},
   "outputs": [
    {
     "name": "stdout",
     "output_type": "stream",
     "text": [
      "Thalia\n",
      "Seattle\n",
      "Washington\n",
      "Finance\n",
      "Summer\n"
     ]
    }
   ],
   "source": [
    "# Iterate through an interator manually\n",
    "print(next(lst_iterator))\n",
    "print(next(lst_iterator))\n",
    "print(next(lst_iterator))\n",
    "print(next(lst_iterator))\n",
    "print(next(lst_iterator))"
   ]
  },
  {
   "cell_type": "code",
   "execution_count": 15,
   "metadata": {},
   "outputs": [
    {
     "name": "stdout",
     "output_type": "stream",
     "text": [
      "S\n",
      "e\n",
      "a\n",
      "t\n",
      "t\n",
      "l\n",
      "e\n"
     ]
    }
   ],
   "source": [
    "# Iterate through an interator manually\n",
    "print(next(str_iterator))\n",
    "print(next(str_iterator))\n",
    "print(next(str_iterator))\n",
    "print(next(str_iterator))\n",
    "print(next(str_iterator))\n",
    "print(next(str_iterator))\n",
    "print(next(str_iterator))"
   ]
  },
  {
   "cell_type": "markdown",
   "metadata": {},
   "source": [
    "### Iterate through an iterator automatically\n",
    "\n",
    "A more elegant way of automatical iterating is by using the for loop. <br>\n",
    "What happened iternally is: the for loop creates an interator from an an iterable object, then it calls `next()` until an `StopIteration` error is raised."
   ]
  },
  {
   "cell_type": "code",
   "execution_count": 12,
   "metadata": {},
   "outputs": [
    {
     "name": "stdout",
     "output_type": "stream",
     "text": [
      "Thalia\n",
      "Seattle\n",
      "Washington\n",
      "Finance\n",
      "Summer\n"
     ]
    }
   ],
   "source": [
    "for element in lst:\n",
    "    print(element)"
   ]
  },
  {
   "cell_type": "markdown",
   "metadata": {},
   "source": [
    "### Create an Iterator\n",
    "\n",
    "To build an iterator we need to have two methods in class defination: \\_\\_iter\\_\\_() and \\_\\_next\\_\\_().\n",
    "\n",
    "The `__iter__()` function returns the iterator object itself\n",
    "\n",
    "The `__next__()` function returns the next item in the sequence\n",
    "> Once reaching the end of the iterable terms, it will raise an **StopIteration** error\n",
    "\n",
    "The `iter()` function we used in the examples above actually called the `__iter__()` method internally.\n",
    "\n",
    "The `next()` function we used in the examples above actually called the `__next__()` method internally."
   ]
  },
  {
   "cell_type": "code",
   "execution_count": 56,
   "metadata": {},
   "outputs": [],
   "source": [
    "class createHeart:\n",
    "    \"\"\"Class to implement an iterator\n",
    "    of heart generation\"\"\"\n",
    "\n",
    "    def __init__(self, total_heart):\n",
    "        self.total_heart = total_heart\n",
    "\n",
    "    def __iter__(self):\n",
    "        self.n = 1\n",
    "        return self\n",
    "\n",
    "    def __next__(self):\n",
    "        if self.n <= self.total_heart:\n",
    "            result = '❤' * self.n\n",
    "            self.n += 1\n",
    "            return result\n",
    "        else:\n",
    "            raise StopIteration"
   ]
  },
  {
   "cell_type": "code",
   "execution_count": 58,
   "metadata": {},
   "outputs": [
    {
     "name": "stdout",
     "output_type": "stream",
     "text": [
      "❤\n",
      "❤❤\n",
      "❤❤❤\n",
      "❤❤❤❤\n"
     ]
    }
   ],
   "source": [
    "a = createHeart(4)\n",
    "i = iter(a)\n",
    "\n",
    "print(next(i))\n",
    "print(next(i))\n",
    "print(next(i))\n",
    "print(next(i))"
   ]
  },
  {
   "cell_type": "code",
   "execution_count": 59,
   "metadata": {},
   "outputs": [
    {
     "data": {
      "text/plain": [
       "['❤', '❤❤', '❤❤❤', '❤❤❤❤']"
      ]
     },
     "execution_count": 59,
     "metadata": {},
     "output_type": "execute_result"
    }
   ],
   "source": [
    "list(a)"
   ]
  },
  {
   "cell_type": "markdown",
   "metadata": {},
   "source": [
    "We can also use a for loop to iterate over our iterator class."
   ]
  },
  {
   "cell_type": "code",
   "execution_count": 60,
   "metadata": {},
   "outputs": [
    {
     "name": "stdout",
     "output_type": "stream",
     "text": [
      "❤\n",
      "❤❤\n",
      "❤❤❤\n",
      "❤❤❤❤\n"
     ]
    }
   ],
   "source": [
    "for item in createHeart(4):     \n",
    "    print(item)"
   ]
  }
 ],
 "metadata": {
  "kernelspec": {
   "display_name": "Python 3",
   "language": "python",
   "name": "python3"
  },
  "language_info": {
   "codemirror_mode": {
    "name": "ipython",
    "version": 3
   },
   "file_extension": ".py",
   "mimetype": "text/x-python",
   "name": "python",
   "nbconvert_exporter": "python",
   "pygments_lexer": "ipython3",
   "version": "3.7.6"
  }
 },
 "nbformat": 4,
 "nbformat_minor": 4
}
