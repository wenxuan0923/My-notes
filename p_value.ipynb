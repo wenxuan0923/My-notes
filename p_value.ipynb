{
 "cells": [
  {
   "cell_type": "markdown",
   "metadata": {},
   "source": [
    "### P value and hypotheis test\n",
    "#### By: Thalia\n",
    "\n",
    "Incorrect or confusing interpretations of P values are very common. In this tutorial I want to clarify the concept with a very simple example, hopefully it will help you better understand the meaning of p-value.\n",
    "\n",
    "Recall in the tutorial of hypothesis testing, we gave an coin flipping example of hypothesis test:\n",
    "\n",
    "$$ H_0: \\text{ This is a fair coin } \\qquad  H_a: \\text{ This is not a fair coin }$$\n",
    "\n",
    "When we design an experiment, we have to fix the level of significance $\\alpha$ before conducting the experiment and collecting samples. Once the alpha level has been set, a test statistic is computed. Each statistic has their corresponding p-value. Mostly, the level of significance is fixed at $0.05$.\n",
    "\n",
    "$\\alpha$ sets the standard for how extreme the data must be before we can reject the null hypothesis. The p-value indicates how extreme the data are. We compare the p-value with the alpha to determine whether the observed data are statistically significantly different from the null hypothesis:\n",
    "\n",
    "According to wikipedia:\n",
    ">The p-value is the probability of obtaining test results at least as extreme as the observed results during the test, assuming that the null hypothesis is correct\n",
    "\n",
    "P value is used to evaluate how well the sample data support the null hypothesis:\n",
    "* A **low p value (smaller than $\\alpha$)** indicates strong evidence against the null hypothesis -> **Statistically significant** -> **REJECT** the null hypotheses\n",
    "\n",
    "* A **high p value (larger than $\\alpha$)** indicates strong evidence for the null hypothesis -> **NOT statistically significant** -> **FAIL to reject** the null hypothesis\n",
    "\n",
    "\n",
    "Go back to our coin flipping example, if we flip the coin 100 times and we got mostly, say 83 times, head (or tail), then we have no other reason but to accept that the coin is not fair. This is when it is said that the evidence is \n",
    "statistically significant. "
   ]
  },
  {
   "cell_type": "markdown",
   "metadata": {},
   "source": [
    "To be more specific, the p-value for this example is:\n",
    "\n",
    "$$p-value = prob(\\text{get 83 heads out of 100 trials} \\mid \\text{This is a fair coin})$$\n",
    "\n",
    "Apparently, the p-value in this case gonna be really small, meaning this test result (83 tails/heads) is very abnormal given the null hypothesis is true. Thus, we can reject the null hypothesis, and accept the alternative hypothesis.\n",
    "\n",
    "> We can actually calculate the p-value using p.d.f for Binomial distribution $B(k;n,p)$ with $n=100$, $p = 0.5$:\n",
    "\n",
    "$$ prob(\\text{83 heads out of 100 trials} \\mid \\text{This is a fair coin}) = \\binom{100}{83} p^{83} (1-p)^{100-83}$$"
   ]
  },
  {
   "cell_type": "code",
   "execution_count": 12,
   "metadata": {},
   "outputs": [
    {
     "name": "stdout",
     "output_type": "stream",
     "text": [
      "P value of this hypothesis test is LESS than significance level 0.05\n"
     ]
    }
   ],
   "source": [
    "# A binomial discrete random variable\n",
    "from scipy.stats import binom\n",
    "k, n, p = 83, 100, 0.5 \n",
    "# Syntax: binom.pmf(k, n, p) = choose(n, k) * p**k * (1-p)**(n-k)\n",
    "p_value = binom.pmf(k, n, p, loc=0)\n",
    "print(\"P value of this hypothesis test is %s than significance \\\n",
    "level 0.05\" %(\"LESS\" if p_value < 0.05 else \"Bigger\"))"
   ]
  },
  {
   "cell_type": "markdown",
   "metadata": {},
   "source": [
    "We reject the null hypothesis at significance level 0.05."
   ]
  }
 ],
 "metadata": {
  "kernelspec": {
   "display_name": "Python 3",
   "language": "python",
   "name": "python3"
  },
  "language_info": {
   "codemirror_mode": {
    "name": "ipython",
    "version": 3
   },
   "file_extension": ".py",
   "mimetype": "text/x-python",
   "name": "python",
   "nbconvert_exporter": "python",
   "pygments_lexer": "ipython3",
   "version": "3.6.6"
  }
 },
 "nbformat": 4,
 "nbformat_minor": 2
}
