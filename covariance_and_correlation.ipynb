{
 "cells": [
  {
   "cell_type": "markdown",
   "metadata": {},
   "source": [
    "### Correlation and Covariance"
   ]
  },
  {
   "cell_type": "markdown",
   "metadata": {},
   "source": [
    "Correlation and covariance are measures of linear dependence between two random variables. \n",
    "### 1. Covariance\n",
    "\n",
    "Covariance is a measure of the joint variability of two random variables.It is a mathematical relationship that is defined as:\n",
    "\n",
    "$$Cov(X,Y) = E[(X − E[X])(Y − E[Y])]$$\n",
    "\n",
    "The sign of the covariance shows the tendency in the **linear** relationship between the variables. The magnitude of the covariance is not easy to interpret because it is not normalized and hence depends on the magnitudes of the variables. The normalized version of the covariance, the correlation coefficient, shows by its magnitude the strength of the linear relation.\n",
    "\n",
    "We can rewrite the above equation to get an equivalent equation:\n",
    "\n",
    "$$Cov(X,Y) = E[XY] − E[Y]E[X]$$\n",
    "\n",
    "#### 1.1 Uncorrelation v.s. Independence\n",
    "Random variables whose covariance is zero are called **uncorrelated**. If two variables are uncorrelated, there is no linear relationship between them.\n",
    "\n",
    "Two random varibles $X$ and $Y$ are **independent** if and only if their joint probability equals the product of their probabilities:\n",
    "\n",
    "$$P(X \\cap Y) = P(X)P(Y)$$\n",
    "\n",
    "If $X$ and $Y$are independent $\\Longrightarrow$ Their covariance is zero $\\Longrightarrow$ $X$ and $Y$ are uncorrelated\n",
    "\n",
    "$$E[XY] = E[X]E[Y]$$\n",
    "\n",
    "$$Cov(X,Y) = E[XY] − E[Y]E[X] = 0$$\n",
    "\n",
    "** However, the reverse is not true in general**: If $X$ and $Y$ are uncorrelated $\\nRightarrow$ $X$ and $Y$are independent\n",
    "\n",
    "if the covariance of two random variables is 0, they can still be (non-linearly) dependent!"
   ]
  },
  {
   "cell_type": "markdown",
   "metadata": {},
   "source": [
    "### 2. Correlation\n",
    "\n",
    "Covariance is interesting because it is a quantitative measurement of the relationship between two variables. Correlation between two random variables, $\\rho{(X,Y)}$ (a.k.s.  \"the correlation coefficient\"), is the covariance of the two variables normalized by the variance of each variable. This normalization cancels the units out and\n",
    "normalizes the measure so that it is always in the range $[0, 1]$:\n",
    "\n",
    "$$\\rho{(X,Y)} = \\frac{Cov(X,Y)}{\\sqrt{Var(X) Var(Y)}}$$\n",
    "\n",
    "Correlation measures linearity between X and Y.\n",
    "$$\\rho{(X,Y)} = 1 \\Longrightarrow Y = aX + b\\\\\n",
    "\\rho{(X,Y)} = −1 \\Longrightarrow Y = -aX + b \\\\\n",
    "\\rho{(X,Y)} = 0 \\Longrightarrow\\color{red}{\\text{Absence of linear relationship}} $$\n",
    "\n",
    "If $\\rho{(X,Y)} = 0$ we say that X and Y are “uncorrelated.” If two variables are independent, then their\n",
    "correlation will be 0. However, like with covariance the reverse is not true: **A correlation of 0 does not imply independence.**\n",
    "\n",
    "When people use the term correlation, they are actually referring to a specific type of correlation called **Pearson Correlation**. It measures the degree to which there is a linear relationship between the two variables. An alternative measure is **Spearman Correlation**, which has a formula almost identical to the correlation defined above, with the exception that the underlying random variables are first transformed into their rank. We will discuss further details about these two statistics in another tutorial."
   ]
  },
  {
   "cell_type": "markdown",
   "metadata": {},
   "source": [
    "#### 2.1 Correlation vs. Causation\n",
    "\n",
    "* **Correlation** is a statistical measure that describes the size and direction of the linear relationship between two or more variables. A correlation between variables, however, does $\\color{red}{\\text{not}}$ mean that the change in one variable is the cause of the change in the values of the other variable.\n",
    "\n",
    "* **Causation** indicates that one event is the result of the occurrence of the other event; i.e. there is a causal relationship between the two events. This is also referred to as cause and effect.\n",
    "\n",
    "\n",
    "**How can we test for causaton?**\n",
    "\n",
    "Theoretically, the difference between the two types of relationships are easy to identify — an action or occurrence can cause another (e.g. smoking causes an increase in the risk of developing lung cancer), or it can correlate with another (e.g. smoking is correlated with alcoholism, but it does not cause alcoholism). In practice, however, it remains difficult to clearly establish cause and effect.\n",
    "\n",
    "The use of a **controlled study** is the most effective way of establishing causality between variables. For example, in medical research, the sample or population is split in two, with both groups being comparable in almost every way. The two groups then receive different treatments, and the outcomes of each group are assessed. one group may receive a placebo while the other group is given a new type of medication. If the two groups have noticeably different outcomes, the different experiences may have caused the different outcomes."
   ]
  },
  {
   "cell_type": "markdown",
   "metadata": {},
   "source": [
    "### 3. Calculate covariance and correlation using python"
   ]
  },
  {
   "cell_type": "code",
   "execution_count": 4,
   "metadata": {},
   "outputs": [],
   "source": [
    "import pandas as pd\n",
    "import numpy as np\n",
    "import seaborn as sns\n",
    "import matplotlib.pyplot as plt\n",
    "%matplotlib inline"
   ]
  },
  {
   "cell_type": "code",
   "execution_count": 14,
   "metadata": {},
   "outputs": [
    {
     "data": {
      "text/html": [
       "<div>\n",
       "<style scoped>\n",
       "    .dataframe tbody tr th:only-of-type {\n",
       "        vertical-align: middle;\n",
       "    }\n",
       "\n",
       "    .dataframe tbody tr th {\n",
       "        vertical-align: top;\n",
       "    }\n",
       "\n",
       "    .dataframe thead th {\n",
       "        text-align: right;\n",
       "    }\n",
       "</style>\n",
       "<table border=\"1\" class=\"dataframe\">\n",
       "  <thead>\n",
       "    <tr style=\"text-align: right;\">\n",
       "      <th></th>\n",
       "      <th>Id</th>\n",
       "      <th>MSSubClass</th>\n",
       "      <th>LotFrontage</th>\n",
       "      <th>LotArea</th>\n",
       "      <th>OverallQual</th>\n",
       "      <th>OverallCond</th>\n",
       "      <th>YearBuilt</th>\n",
       "      <th>YearRemodAdd</th>\n",
       "      <th>MasVnrArea</th>\n",
       "      <th>BsmtFinSF1</th>\n",
       "      <th>...</th>\n",
       "      <th>WoodDeckSF</th>\n",
       "      <th>OpenPorchSF</th>\n",
       "      <th>EnclosedPorch</th>\n",
       "      <th>3SsnPorch</th>\n",
       "      <th>ScreenPorch</th>\n",
       "      <th>PoolArea</th>\n",
       "      <th>MiscVal</th>\n",
       "      <th>MoSold</th>\n",
       "      <th>YrSold</th>\n",
       "      <th>SalePrice</th>\n",
       "    </tr>\n",
       "  </thead>\n",
       "  <tbody>\n",
       "    <tr>\n",
       "      <th>0</th>\n",
       "      <td>1</td>\n",
       "      <td>60</td>\n",
       "      <td>65.0</td>\n",
       "      <td>8450</td>\n",
       "      <td>7</td>\n",
       "      <td>5</td>\n",
       "      <td>2003</td>\n",
       "      <td>2003</td>\n",
       "      <td>196.0</td>\n",
       "      <td>706</td>\n",
       "      <td>...</td>\n",
       "      <td>0</td>\n",
       "      <td>61</td>\n",
       "      <td>0</td>\n",
       "      <td>0</td>\n",
       "      <td>0</td>\n",
       "      <td>0</td>\n",
       "      <td>0</td>\n",
       "      <td>2</td>\n",
       "      <td>2008</td>\n",
       "      <td>208500</td>\n",
       "    </tr>\n",
       "    <tr>\n",
       "      <th>1</th>\n",
       "      <td>2</td>\n",
       "      <td>20</td>\n",
       "      <td>80.0</td>\n",
       "      <td>9600</td>\n",
       "      <td>6</td>\n",
       "      <td>8</td>\n",
       "      <td>1976</td>\n",
       "      <td>1976</td>\n",
       "      <td>0.0</td>\n",
       "      <td>978</td>\n",
       "      <td>...</td>\n",
       "      <td>298</td>\n",
       "      <td>0</td>\n",
       "      <td>0</td>\n",
       "      <td>0</td>\n",
       "      <td>0</td>\n",
       "      <td>0</td>\n",
       "      <td>0</td>\n",
       "      <td>5</td>\n",
       "      <td>2007</td>\n",
       "      <td>181500</td>\n",
       "    </tr>\n",
       "    <tr>\n",
       "      <th>2</th>\n",
       "      <td>3</td>\n",
       "      <td>60</td>\n",
       "      <td>68.0</td>\n",
       "      <td>11250</td>\n",
       "      <td>7</td>\n",
       "      <td>5</td>\n",
       "      <td>2001</td>\n",
       "      <td>2002</td>\n",
       "      <td>162.0</td>\n",
       "      <td>486</td>\n",
       "      <td>...</td>\n",
       "      <td>0</td>\n",
       "      <td>42</td>\n",
       "      <td>0</td>\n",
       "      <td>0</td>\n",
       "      <td>0</td>\n",
       "      <td>0</td>\n",
       "      <td>0</td>\n",
       "      <td>9</td>\n",
       "      <td>2008</td>\n",
       "      <td>223500</td>\n",
       "    </tr>\n",
       "    <tr>\n",
       "      <th>3</th>\n",
       "      <td>4</td>\n",
       "      <td>70</td>\n",
       "      <td>60.0</td>\n",
       "      <td>9550</td>\n",
       "      <td>7</td>\n",
       "      <td>5</td>\n",
       "      <td>1915</td>\n",
       "      <td>1970</td>\n",
       "      <td>0.0</td>\n",
       "      <td>216</td>\n",
       "      <td>...</td>\n",
       "      <td>0</td>\n",
       "      <td>35</td>\n",
       "      <td>272</td>\n",
       "      <td>0</td>\n",
       "      <td>0</td>\n",
       "      <td>0</td>\n",
       "      <td>0</td>\n",
       "      <td>2</td>\n",
       "      <td>2006</td>\n",
       "      <td>140000</td>\n",
       "    </tr>\n",
       "    <tr>\n",
       "      <th>4</th>\n",
       "      <td>5</td>\n",
       "      <td>60</td>\n",
       "      <td>84.0</td>\n",
       "      <td>14260</td>\n",
       "      <td>8</td>\n",
       "      <td>5</td>\n",
       "      <td>2000</td>\n",
       "      <td>2000</td>\n",
       "      <td>350.0</td>\n",
       "      <td>655</td>\n",
       "      <td>...</td>\n",
       "      <td>192</td>\n",
       "      <td>84</td>\n",
       "      <td>0</td>\n",
       "      <td>0</td>\n",
       "      <td>0</td>\n",
       "      <td>0</td>\n",
       "      <td>0</td>\n",
       "      <td>12</td>\n",
       "      <td>2008</td>\n",
       "      <td>250000</td>\n",
       "    </tr>\n",
       "  </tbody>\n",
       "</table>\n",
       "<p>5 rows × 38 columns</p>\n",
       "</div>"
      ],
      "text/plain": [
       "   Id  MSSubClass  LotFrontage  LotArea  OverallQual  OverallCond  YearBuilt  \\\n",
       "0   1          60         65.0     8450            7            5       2003   \n",
       "1   2          20         80.0     9600            6            8       1976   \n",
       "2   3          60         68.0    11250            7            5       2001   \n",
       "3   4          70         60.0     9550            7            5       1915   \n",
       "4   5          60         84.0    14260            8            5       2000   \n",
       "\n",
       "   YearRemodAdd  MasVnrArea  BsmtFinSF1  ...  WoodDeckSF  OpenPorchSF  \\\n",
       "0          2003       196.0         706  ...           0           61   \n",
       "1          1976         0.0         978  ...         298            0   \n",
       "2          2002       162.0         486  ...           0           42   \n",
       "3          1970         0.0         216  ...           0           35   \n",
       "4          2000       350.0         655  ...         192           84   \n",
       "\n",
       "   EnclosedPorch  3SsnPorch  ScreenPorch  PoolArea  MiscVal  MoSold  YrSold  \\\n",
       "0              0          0            0         0        0       2    2008   \n",
       "1              0          0            0         0        0       5    2007   \n",
       "2              0          0            0         0        0       9    2008   \n",
       "3            272          0            0         0        0       2    2006   \n",
       "4              0          0            0         0        0      12    2008   \n",
       "\n",
       "   SalePrice  \n",
       "0     208500  \n",
       "1     181500  \n",
       "2     223500  \n",
       "3     140000  \n",
       "4     250000  \n",
       "\n",
       "[5 rows x 38 columns]"
      ]
     },
     "execution_count": 14,
     "metadata": {},
     "output_type": "execute_result"
    }
   ],
   "source": [
    "house_data = pd.read_csv('C:/Users/wenxu/Desktop/R_tutorial/house_price.csv')\n",
    "house_data.select_dtypes(exclude=[np.object]).head()"
   ]
  },
  {
   "cell_type": "code",
   "execution_count": 42,
   "metadata": {},
   "outputs": [
    {
     "name": "stdout",
     "output_type": "stream",
     "text": [
      "Covariance matrix:\n"
     ]
    },
    {
     "data": {
      "text/plain": [
       "array([[9.96256497e+07, 2.09211070e+08],\n",
       "       [2.09211070e+08, 6.31111126e+09]])"
      ]
     },
     "metadata": {},
     "output_type": "display_data"
    },
    {
     "name": "stdout",
     "output_type": "stream",
     "text": [
      "------------------------------------------\n",
      "Correlation matrix:\n"
     ]
    },
    {
     "data": {
      "text/plain": [
       "array([[1.        , 0.26384335],\n",
       "       [0.26384335, 1.        ]])"
      ]
     },
     "metadata": {},
     "output_type": "display_data"
    }
   ],
   "source": [
    "# Calculate covariance and correlation with numpy\n",
    "print('Covariance matrix:')\n",
    "covariance = np.cov(house_data['LotArea'], house_data['SalePrice']) \n",
    "display(covariance)\n",
    "print('------------------------------------------')\n",
    "print('Correlation matrix:')\n",
    "correlation = np.corrcoef(house_data['LotArea'], house_data['SalePrice']) \n",
    "display(correlation)"
   ]
  },
  {
   "cell_type": "code",
   "execution_count": 57,
   "metadata": {},
   "outputs": [
    {
     "data": {
      "image/png": "[encoded data removed]",
      "text/plain": [
       "<Figure size 576x432 with 2 Axes>"
      ]
     },
     "metadata": {},
     "output_type": "display_data"
    }
   ],
   "source": [
    "# Calculate the correlation between columns in dataframe\n",
    "# Then visualize the correlation matrix using heatmap\n",
    "colormap = plt.cm.RdBu\n",
    "plt.figure(figsize=(8,6))\n",
    "plt.title('Pearson Correlation of Columns in DataFrame', y=1, size=15)\n",
    "tmp = house_data[['LotArea', 'OverallQual', 'BsmtFinSF1',\n",
    "                  'GrLivArea', 'SalePrice']].copy()\n",
    "ax = sns.heatmap(tmp.corr(), \n",
    "            square=True, cmap=colormap, linecolor='white', annot=True)\n",
    "ax.set_ylim([0, 5])\n",
    "plt.show()"
   ]
  }
 ],
 "metadata": {
  "kernelspec": {
   "display_name": "Python 3",
   "language": "python",
   "name": "python3"
  },
  "language_info": {
   "codemirror_mode": {
    "name": "ipython",
    "version": 3
   },
   "file_extension": ".py",
   "mimetype": "text/x-python",
   "name": "python",
   "nbconvert_exporter": "python",
   "pygments_lexer": "ipython3",
   "version": "3.6.6"
  }
 },
 "nbformat": 4,
 "nbformat_minor": 2
}
