{
  "nbformat": 4,
  "nbformat_minor": 0,
  "metadata": {
    "colab": {
      "name": "DL_example_newswires.ipynb",
      "provenance": [],
      "collapsed_sections": [],
      "authorship_tag": "ABX9TyMf4095fPzmQUjYlRyNGunb",
      "include_colab_link": true
    },
    "kernelspec": {
      "name": "python3",
      "display_name": "Python 3"
    }
  },
  "cells": [
    {
      "cell_type": "markdown",
      "metadata": {
        "id": "view-in-github",
        "colab_type": "text"
      },
      "source": [
        "<a href=\"https://colab.research.google.com/github/wenxuan0923/My-notes/blob/master/DL_example_newswires.ipynb\" target=\"_parent\"><img src=\"https://colab.research.google.com/assets/colab-badge.svg\" alt=\"Open In Colab\"/></a>"
      ]
    },
    {
      "cell_type": "markdown",
      "metadata": {
        "id": "7J869CvaxTie",
        "colab_type": "text"
      },
      "source": [
        "### Deep Learning: Multiclass Classification \n",
        "#### - Reuters dataset\n",
        "\n",
        "Multiclass classification problem with 46 classes."
      ]
    },
    {
      "cell_type": "code",
      "metadata": {
        "id": "L9wHHN3gtuZu",
        "colab_type": "code",
        "colab": {}
      },
      "source": [
        "import numpy as np\n",
        "import pandas as pd\n",
        "import matplotlib.pyplot as plt\n",
        "from keras.datasets import reuters\n",
        "(train_data, train_labels), (test_data, test_labels) = reuters.load_data(\n",
        "num_words=10000)"
      ],
      "execution_count": 0,
      "outputs": []
    },
    {
      "cell_type": "code",
      "metadata": {
        "id": "h-tE6YyBycEl",
        "colab_type": "code",
        "outputId": "8350cd9a-21c7-49c5-e601-1781017ea61b",
        "colab": {
          "base_uri": "https://localhost:8080/",
          "height": 51
        }
      },
      "source": [
        "print('Train data shape: {}'.format(train_data.shape))\n",
        "print('Test data shape: {}'.format(test_data.shape))"
      ],
      "execution_count": 0,
      "outputs": [
        {
          "output_type": "stream",
          "text": [
            "Train data shape: (8982,)\n",
            "Test data shape: (2246,)\n"
          ],
          "name": "stdout"
        }
      ]
    },
    {
      "cell_type": "code",
      "metadata": {
        "id": "iYry5ezzxqA3",
        "colab_type": "code",
        "outputId": "2e68cdbc-3ec4-4170-e0c8-43728b8787ba",
        "colab": {
          "base_uri": "https://localhost:8080/",
          "height": 173
        }
      },
      "source": [
        "train_data"
      ],
      "execution_count": 0,
      "outputs": [
        {
          "output_type": "execute_result",
          "data": {
            "text/plain": [
              "array([list([1, 2, 2, 8, 43, 10, 447, 5, 25, 207, 270, 5, 3095, 111, 16, 369, 186, 90, 67, 7, 89, 5, 19, 102, 6, 19, 124, 15, 90, 67, 84, 22, 482, 26, 7, 48, 4, 49, 8, 864, 39, 209, 154, 6, 151, 6, 83, 11, 15, 22, 155, 11, 15, 7, 48, 9, 4579, 1005, 504, 6, 258, 6, 272, 11, 15, 22, 134, 44, 11, 15, 16, 8, 197, 1245, 90, 67, 52, 29, 209, 30, 32, 132, 6, 109, 15, 17, 12]),\n",
              "       list([1, 3267, 699, 3434, 2295, 56, 2, 7511, 9, 56, 3906, 1073, 81, 5, 1198, 57, 366, 737, 132, 20, 4093, 7, 2, 49, 2295, 2, 1037, 3267, 699, 3434, 8, 7, 10, 241, 16, 855, 129, 231, 783, 5, 4, 587, 2295, 2, 2, 775, 7, 48, 34, 191, 44, 35, 1795, 505, 17, 12]),\n",
              "       list([1, 53, 12, 284, 15, 14, 272, 26, 53, 959, 32, 818, 15, 14, 272, 26, 39, 684, 70, 11, 14, 12, 3886, 18, 180, 183, 187, 70, 11, 14, 102, 32, 11, 29, 53, 44, 704, 15, 14, 19, 758, 15, 53, 959, 47, 1013, 15, 14, 19, 132, 15, 39, 965, 32, 11, 14, 147, 72, 11, 180, 183, 187, 44, 11, 14, 102, 19, 11, 123, 186, 90, 67, 960, 4, 78, 13, 68, 467, 511, 110, 59, 89, 90, 67, 1390, 55, 2678, 92, 617, 80, 1274, 46, 905, 220, 13, 4, 346, 48, 235, 629, 5, 211, 5, 1118, 7, 2, 81, 5, 187, 11, 15, 9, 1709, 201, 5, 47, 3615, 18, 478, 4514, 5, 1118, 7, 232, 2, 71, 5, 160, 63, 11, 9, 2, 81, 5, 102, 59, 11, 17, 12]),\n",
              "       ...,\n",
              "       list([1, 141, 3890, 387, 81, 8, 16, 1629, 10, 340, 1241, 850, 31, 56, 3890, 691, 9, 1241, 71, 9, 5985, 2, 2, 699, 2, 2, 2, 699, 244, 5945, 4, 49, 8, 4, 656, 850, 33, 2993, 9, 2139, 340, 3371, 1493, 9, 2, 22, 2, 1094, 687, 83, 35, 15, 257, 6, 57, 9190, 7, 4, 5956, 654, 5, 2, 6191, 1371, 4, 49, 8, 16, 369, 646, 6, 1076, 7, 124, 407, 17, 12]),\n",
              "       list([1, 53, 46, 957, 26, 14, 74, 132, 26, 39, 46, 258, 3614, 18, 14, 74, 134, 5131, 18, 88, 2321, 72, 11, 14, 1842, 32, 11, 123, 383, 89, 39, 46, 235, 10, 864, 728, 5, 258, 44, 11, 15, 22, 753, 9, 42, 92, 131, 728, 5, 69, 312, 11, 15, 22, 222, 2, 3237, 383, 48, 39, 74, 235, 10, 864, 276, 5, 61, 32, 11, 15, 21, 4, 211, 5, 126, 1072, 42, 92, 131, 46, 19, 352, 11, 15, 22, 710, 220, 9, 42, 92, 131, 276, 5, 59, 61, 11, 15, 22, 10, 455, 7, 1172, 137, 336, 1325, 6, 1532, 142, 971, 6463, 43, 359, 5, 4, 326, 753, 364, 17, 12]),\n",
              "       list([1, 227, 2406, 91, 2, 125, 2855, 21, 4, 3976, 76, 7, 4, 757, 481, 3976, 790, 5259, 5654, 9, 111, 149, 8, 7, 10, 76, 223, 51, 4, 417, 8, 1047, 91, 6917, 1688, 340, 7, 194, 9411, 6, 1894, 21, 127, 2151, 2394, 1456, 6, 3034, 4, 329, 433, 7, 65, 87, 1127, 10, 8219, 1475, 290, 9, 21, 567, 16, 1926, 24, 4, 76, 209, 30, 4033, 6655, 5654, 8, 4, 60, 8, 4, 966, 308, 40, 2575, 129, 2, 295, 277, 1071, 9, 24, 286, 2114, 234, 222, 9, 4, 906, 3994, 8519, 114, 5758, 1752, 7, 4, 113, 17, 12])],\n",
              "      dtype=object)"
            ]
          },
          "metadata": {
            "tags": []
          },
          "execution_count": 23
        }
      ]
    },
    {
      "cell_type": "markdown",
      "metadata": {
        "id": "pG2qtQFsyOCW",
        "colab_type": "text"
      },
      "source": [
        "Again, the length of these texts are different. "
      ]
    },
    {
      "cell_type": "code",
      "metadata": {
        "id": "G_z4ISicyH4W",
        "colab_type": "code",
        "outputId": "ed7e110b-fc76-49c9-8083-777be3a82101",
        "colab": {
          "base_uri": "https://localhost:8080/",
          "height": 34
        }
      },
      "source": [
        "np.array([len(lst) for lst in train_data])"
      ],
      "execution_count": 0,
      "outputs": [
        {
          "output_type": "execute_result",
          "data": {
            "text/plain": [
              "array([ 87,  56, 139, ...,  77, 119, 105])"
            ]
          },
          "metadata": {
            "tags": []
          },
          "execution_count": 24
        }
      ]
    },
    {
      "cell_type": "code",
      "metadata": {
        "id": "x_8N5Imsxurc",
        "colab_type": "code",
        "outputId": "cfe7de44-4944-49e8-a1ec-27b69b77830c",
        "colab": {
          "base_uri": "https://localhost:8080/",
          "height": 34
        }
      },
      "source": [
        "train_labels"
      ],
      "execution_count": 0,
      "outputs": [
        {
          "output_type": "execute_result",
          "data": {
            "text/plain": [
              "array([ 3,  4,  3, ..., 25,  3, 25])"
            ]
          },
          "metadata": {
            "tags": []
          },
          "execution_count": 25
        }
      ]
    },
    {
      "cell_type": "markdown",
      "metadata": {
        "id": "4L4ESsl7x_pe",
        "colab_type": "text"
      },
      "source": [
        "Tere are 46 classes labeled from 0 to 45."
      ]
    },
    {
      "cell_type": "code",
      "metadata": {
        "id": "WeNTn1Gwx4Pf",
        "colab_type": "code",
        "outputId": "5dbd897e-2680-46a5-9a18-e3437d183905",
        "colab": {
          "base_uri": "https://localhost:8080/",
          "height": 51
        }
      },
      "source": [
        "print(min(train_labels))\n",
        "print(max(train_labels))"
      ],
      "execution_count": 0,
      "outputs": [
        {
          "output_type": "stream",
          "text": [
            "0\n",
            "45\n"
          ],
          "name": "stdout"
        }
      ]
    },
    {
      "cell_type": "markdown",
      "metadata": {
        "id": "ptwTBWpayrPW",
        "colab_type": "text"
      },
      "source": [
        "#### Prepare the data\n",
        "\n",
        "**Vectorize the news data**\n",
        "\n",
        "In the binary classification problem (IMDB Reviews sentiment analysis), we defined a function to vectorize the reviews data, we will apply the same method here to vectorize the text data."
      ]
    },
    {
      "cell_type": "code",
      "metadata": {
        "id": "2KzM7COIx2fR",
        "colab_type": "code",
        "colab": {}
      },
      "source": [
        "def vectorize_sequences(sequences, dimension=10000):\n",
        "    results = np.zeros((len(sequences), dimension))\n",
        "    for i, sequence in enumerate(sequences):\n",
        "      results[i, sequence] = 1.\n",
        "    return results"
      ],
      "execution_count": 0,
      "outputs": []
    },
    {
      "cell_type": "code",
      "metadata": {
        "id": "e43fVyRpzXV4",
        "colab_type": "code",
        "colab": {}
      },
      "source": [
        "x_train = vectorize_sequences(train_data)\n",
        "x_test = vectorize_sequences(test_data)"
      ],
      "execution_count": 0,
      "outputs": []
    },
    {
      "cell_type": "code",
      "metadata": {
        "id": "rPNThnYBzzKQ",
        "colab_type": "code",
        "outputId": "19442a5a-cc00-4280-bf69-f1ebac0b2d49",
        "colab": {
          "base_uri": "https://localhost:8080/",
          "height": 34
        }
      },
      "source": [
        "x_train.shape"
      ],
      "execution_count": 0,
      "outputs": [
        {
          "output_type": "execute_result",
          "data": {
            "text/plain": [
              "(8982, 10000)"
            ]
          },
          "metadata": {
            "tags": []
          },
          "execution_count": 29
        }
      ]
    },
    {
      "cell_type": "markdown",
      "metadata": {
        "id": "Emwnk3Sfzj2A",
        "colab_type": "text"
      },
      "source": [
        "Now both the train_data and test_data have became 2D tensor (samples, features) with same length which is 10000.\n",
        "\n",
        "**There are two ways to vectorize the labels**\n",
        "1. Cast the label list as an integer tensor\n",
        "2. Use **ont-hot encoding**: return a with only 1 item inside equals to 1 (the corresponding class) and all the other terms to be 0\n",
        "\n",
        "There is a built-in function to do one hot encoding in Keras, let's try it.\n"
      ]
    },
    {
      "cell_type": "code",
      "metadata": {
        "id": "0Ys9EIZpzX6x",
        "colab_type": "code",
        "colab": {}
      },
      "source": [
        "from keras.utils.np_utils import to_categorical\n",
        "one_hot_train_labels = to_categorical(train_labels)\n",
        "one_hot_test_labels = to_categorical(test_labels)"
      ],
      "execution_count": 0,
      "outputs": []
    },
    {
      "cell_type": "code",
      "metadata": {
        "id": "S9F7cE5g0pOo",
        "colab_type": "code",
        "outputId": "4b82653d-123d-429e-d350-abe00d33df80",
        "colab": {
          "base_uri": "https://localhost:8080/",
          "height": 34
        }
      },
      "source": [
        "one_hot_train_labels.shape"
      ],
      "execution_count": 0,
      "outputs": [
        {
          "output_type": "execute_result",
          "data": {
            "text/plain": [
              "(8982, 46)"
            ]
          },
          "metadata": {
            "tags": []
          },
          "execution_count": 32
        }
      ]
    },
    {
      "cell_type": "code",
      "metadata": {
        "id": "JEKsk-O3zYCx",
        "colab_type": "code",
        "outputId": "435dfcad-ce55-4421-de07-efe4475e2e17",
        "colab": {
          "base_uri": "https://localhost:8080/",
          "height": 34
        }
      },
      "source": [
        "np.sum(one_hot_train_labels[0])  # only one of items in the list is 1"
      ],
      "execution_count": 0,
      "outputs": [
        {
          "output_type": "execute_result",
          "data": {
            "text/plain": [
              "1.0"
            ]
          },
          "metadata": {
            "tags": []
          },
          "execution_count": 17
        }
      ]
    },
    {
      "cell_type": "markdown",
      "metadata": {
        "id": "kebhTXLA1pRt",
        "colab_type": "text"
      },
      "source": [
        "### Model training\n",
        "\n",
        "Now it's time to built our network. Note that we are doing multiclass classification here, we need to change the activation function of the output layer to softmax instead of using sigmoid. The network will produce a 46 dimensional output vector, where output\\[i] is the probability that the sample belongs to class i."
      ]
    },
    {
      "cell_type": "code",
      "metadata": {
        "id": "JNjULtNj6qkk",
        "colab_type": "code",
        "colab": {}
      },
      "source": [
        "from keras import models\n",
        "from keras import layers"
      ],
      "execution_count": 0,
      "outputs": []
    },
    {
      "cell_type": "code",
      "metadata": {
        "id": "8hd2zt9rzYHg",
        "colab_type": "code",
        "colab": {}
      },
      "source": [
        "model = models.Sequential()\n",
        "model.add(layers.Dense(64, activation='relu', input_shape=(10000,)))\n",
        "model.add(layers.Dense(64, activation='relu'))\n",
        "model.add(layers.Dense(46, activation='softmax'))\n",
        "model.compile(optimizer='rmsprop',\n",
        "              loss='categorical_crossentropy', \n",
        "              metrics=['accuracy'])"
      ],
      "execution_count": 0,
      "outputs": []
    },
    {
      "cell_type": "markdown",
      "metadata": {
        "id": "toMl26S38NF1",
        "colab_type": "text"
      },
      "source": [
        "Let's set apart 1000 samples for validation.\n"
      ]
    },
    {
      "cell_type": "code",
      "metadata": {
        "id": "9vsz9ZN8zYFU",
        "colab_type": "code",
        "colab": {}
      },
      "source": [
        "x_val = x_train[:1000]\n",
        "y_val = one_hot_train_labels[:1000]\n",
        "partial_x_train = x_train[1000:]\n",
        "partial_y_train = one_hot_train_labels[1000:]"
      ],
      "execution_count": 0,
      "outputs": []
    },
    {
      "cell_type": "code",
      "metadata": {
        "id": "AMK7WDFKzYBk",
        "colab_type": "code",
        "outputId": "ffadb2af-5921-4f00-f699-2918383a5c28",
        "colab": {
          "base_uri": "https://localhost:8080/",
          "height": 714
        }
      },
      "source": [
        "history = model.fit(partial_x_train, \n",
        "                    partial_y_train,\n",
        "                    epochs=20,  \n",
        "                    batch_size=512, \n",
        "                    validation_data=(x_val, y_val))"
      ],
      "execution_count": 0,
      "outputs": [
        {
          "output_type": "stream",
          "text": [
            "Train on 7982 samples, validate on 1000 samples\n",
            "Epoch 1/20\n",
            "7982/7982 [==============================] - 1s 123us/step - loss: 2.3994 - accuracy: 0.5465 - val_loss: 1.5911 - val_accuracy: 0.6680\n",
            "Epoch 2/20\n",
            "7982/7982 [==============================] - 1s 113us/step - loss: 1.3396 - accuracy: 0.7226 - val_loss: 1.2752 - val_accuracy: 0.7130\n",
            "Epoch 3/20\n",
            "7982/7982 [==============================] - 1s 112us/step - loss: 1.0207 - accuracy: 0.7750 - val_loss: 1.1446 - val_accuracy: 0.7460\n",
            "Epoch 4/20\n",
            "7982/7982 [==============================] - 1s 113us/step - loss: 0.8080 - accuracy: 0.8250 - val_loss: 1.0126 - val_accuracy: 0.7890\n",
            "Epoch 5/20\n",
            "7982/7982 [==============================] - 1s 115us/step - loss: 0.6382 - accuracy: 0.8634 - val_loss: 0.9544 - val_accuracy: 0.8050\n",
            "Epoch 6/20\n",
            "7982/7982 [==============================] - 1s 113us/step - loss: 0.5110 - accuracy: 0.8938 - val_loss: 0.9055 - val_accuracy: 0.8100\n",
            "Epoch 7/20\n",
            "7982/7982 [==============================] - 1s 113us/step - loss: 0.4071 - accuracy: 0.9137 - val_loss: 0.8730 - val_accuracy: 0.8220\n",
            "Epoch 8/20\n",
            "7982/7982 [==============================] - 1s 113us/step - loss: 0.3294 - accuracy: 0.9302 - val_loss: 0.8900 - val_accuracy: 0.8110\n",
            "Epoch 9/20\n",
            "7982/7982 [==============================] - 1s 114us/step - loss: 0.2772 - accuracy: 0.9377 - val_loss: 0.9004 - val_accuracy: 0.8180\n",
            "Epoch 10/20\n",
            "7982/7982 [==============================] - 1s 115us/step - loss: 0.2324 - accuracy: 0.9426 - val_loss: 0.9069 - val_accuracy: 0.8130\n",
            "Epoch 11/20\n",
            "7982/7982 [==============================] - 1s 114us/step - loss: 0.2031 - accuracy: 0.9498 - val_loss: 0.9296 - val_accuracy: 0.8200\n",
            "Epoch 12/20\n",
            "7982/7982 [==============================] - 1s 115us/step - loss: 0.1755 - accuracy: 0.9518 - val_loss: 0.9469 - val_accuracy: 0.8130\n",
            "Epoch 13/20\n",
            "7982/7982 [==============================] - 1s 114us/step - loss: 0.1621 - accuracy: 0.9536 - val_loss: 0.9889 - val_accuracy: 0.8100\n",
            "Epoch 14/20\n",
            "7982/7982 [==============================] - 1s 117us/step - loss: 0.1493 - accuracy: 0.9549 - val_loss: 0.9989 - val_accuracy: 0.8020\n",
            "Epoch 15/20\n",
            "7982/7982 [==============================] - 1s 113us/step - loss: 0.1368 - accuracy: 0.9545 - val_loss: 0.9727 - val_accuracy: 0.8180\n",
            "Epoch 16/20\n",
            "7982/7982 [==============================] - 1s 113us/step - loss: 0.1310 - accuracy: 0.9550 - val_loss: 1.0449 - val_accuracy: 0.8050\n",
            "Epoch 17/20\n",
            "7982/7982 [==============================] - 1s 116us/step - loss: 0.1227 - accuracy: 0.9579 - val_loss: 1.0471 - val_accuracy: 0.8120\n",
            "Epoch 18/20\n",
            "7982/7982 [==============================] - 1s 114us/step - loss: 0.1200 - accuracy: 0.9567 - val_loss: 1.1161 - val_accuracy: 0.8000\n",
            "Epoch 19/20\n",
            "7982/7982 [==============================] - 1s 112us/step - loss: 0.1145 - accuracy: 0.9600 - val_loss: 1.0423 - val_accuracy: 0.8110\n",
            "Epoch 20/20\n",
            "7982/7982 [==============================] - 1s 113us/step - loss: 0.1118 - accuracy: 0.9564 - val_loss: 1.1937 - val_accuracy: 0.7850\n"
          ],
          "name": "stdout"
        }
      ]
    },
    {
      "cell_type": "code",
      "metadata": {
        "id": "Ylemw5t1zYAn",
        "colab_type": "code",
        "outputId": "b89a4724-7222-4c77-a688-5ad4db42b25f",
        "colab": {
          "base_uri": "https://localhost:8080/",
          "height": 271
        }
      },
      "source": [
        "ax = pd.DataFrame(history.history).plot(marker='.')\n",
        "ax.legend(bbox_to_anchor=(1.1, 1.05))\n",
        "plt.show()"
      ],
      "execution_count": 0,
      "outputs": [
        {
          "output_type": "display_data",
          "data": {
            "image/png": "[encoded data removed]",
            "text/plain": [
              "<Figure size 432x288 with 1 Axes>"
            ]
          },
          "metadata": {
            "tags": [],
            "needs_background": "light"
          }
        }
      ]
    },
    {
      "cell_type": "markdown",
      "metadata": {
        "id": "cg0LMqud_yrH",
        "colab_type": "text"
      },
      "source": [
        "The network begins to overfit after nine epochs. Let's train a new network with 9 epochs and then evaluate it on the test set."
      ]
    },
    {
      "cell_type": "code",
      "metadata": {
        "id": "EclfTzKF-zSA",
        "colab_type": "code",
        "outputId": "70945315-094f-4604-d379-c770068959db",
        "colab": {
          "base_uri": "https://localhost:8080/",
          "height": 306
        }
      },
      "source": [
        "model = models.Sequential()\n",
        "model.add(layers.Dense(64, activation='relu', input_shape=(10000,)))\n",
        "model.add(layers.Dense(64, activation='relu'))\n",
        "model.add(layers.Dense(46, activation='softmax'))\n",
        "\n",
        "model.compile(optimizer='rmsprop',\n",
        "              loss='categorical_crossentropy',\n",
        "              metrics=['accuracy'])\n",
        "\n",
        "new_history = model.fit(partial_x_train,\n",
        "                        partial_y_train,\n",
        "                        epochs=8,\n",
        "                        batch_size=512,\n",
        "                        validation_data=(x_val, y_val))"
      ],
      "execution_count": 0,
      "outputs": [
        {
          "output_type": "stream",
          "text": [
            "Train on 7982 samples, validate on 1000 samples\n",
            "Epoch 1/8\n",
            "7982/7982 [==============================] - 1s 122us/step - loss: 2.5890 - accuracy: 0.5208 - val_loss: 1.6873 - val_accuracy: 0.6230\n",
            "Epoch 2/8\n",
            "7982/7982 [==============================] - 1s 117us/step - loss: 1.4058 - accuracy: 0.7056 - val_loss: 1.2913 - val_accuracy: 0.7210\n",
            "Epoch 3/8\n",
            "7982/7982 [==============================] - 1s 115us/step - loss: 1.0537 - accuracy: 0.7766 - val_loss: 1.1521 - val_accuracy: 0.7540\n",
            "Epoch 4/8\n",
            "7982/7982 [==============================] - 1s 116us/step - loss: 0.8272 - accuracy: 0.8249 - val_loss: 1.0634 - val_accuracy: 0.7750\n",
            "Epoch 5/8\n",
            "7982/7982 [==============================] - 1s 115us/step - loss: 0.6622 - accuracy: 0.8589 - val_loss: 0.9912 - val_accuracy: 0.8090\n",
            "Epoch 6/8\n",
            "7982/7982 [==============================] - 1s 113us/step - loss: 0.5306 - accuracy: 0.8879 - val_loss: 0.9532 - val_accuracy: 0.8100\n",
            "Epoch 7/8\n",
            "7982/7982 [==============================] - 1s 115us/step - loss: 0.4258 - accuracy: 0.9099 - val_loss: 0.9260 - val_accuracy: 0.8210\n",
            "Epoch 8/8\n",
            "7982/7982 [==============================] - 1s 116us/step - loss: 0.3490 - accuracy: 0.9276 - val_loss: 0.9168 - val_accuracy: 0.8160\n"
          ],
          "name": "stdout"
        }
      ]
    },
    {
      "cell_type": "code",
      "metadata": {
        "id": "wu4wlCd-_NyQ",
        "colab_type": "code",
        "outputId": "ddb43b27-b119-49de-aded-ee452e81ad25",
        "colab": {
          "base_uri": "https://localhost:8080/",
          "height": 271
        }
      },
      "source": [
        "ax = pd.DataFrame(new_history.history).plot(marker='.')\n",
        "ax.legend(bbox_to_anchor=(1.5, 1.05))\n",
        "plt.show()"
      ],
      "execution_count": 0,
      "outputs": [
        {
          "output_type": "display_data",
          "data": {
            "image/png": "[encoded data removed]",
            "text/plain": [
              "<Figure size 432x288 with 1 Axes>"
            ]
          },
          "metadata": {
            "tags": [],
            "needs_background": "light"
          }
        }
      ]
    },
    {
      "cell_type": "code",
      "metadata": {
        "id": "ZxR0VHXe_N5b",
        "colab_type": "code",
        "outputId": "b37dedc7-ae2d-4d0a-bd0a-7fe0587e51be",
        "colab": {
          "base_uri": "https://localhost:8080/",
          "height": 51
        }
      },
      "source": [
        "# `model.evaluate()` return the loss value and metrics value for the model in test mode\n",
        "model.evaluate(x_test, one_hot_test_labels)"
      ],
      "execution_count": 0,
      "outputs": [
        {
          "output_type": "stream",
          "text": [
            "2246/2246 [==============================] - 0s 83us/step\n"
          ],
          "name": "stdout"
        },
        {
          "output_type": "execute_result",
          "data": {
            "text/plain": [
              "[0.9937797524731603, 0.7813891172409058]"
            ]
          },
          "metadata": {
            "tags": []
          },
          "execution_count": 55
        }
      ]
    },
    {
      "cell_type": "markdown",
      "metadata": {
        "id": "klb0fTPXIpmF",
        "colab_type": "text"
      },
      "source": [
        "### Make prediction on new data\n",
        "\n",
        "The prediction result of this model is the list of probability of the sample belongs to each of the 46 class, and thus, a 46-dimensional vector.\n",
        "\n",
        "The summation of the probability the sample belongs to each class equals to 1."
      ]
    },
    {
      "cell_type": "code",
      "metadata": {
        "id": "GZiV6PJN_N3E",
        "colab_type": "code",
        "outputId": "e3a8c2b8-7bea-47a5-f488-84faf097d8b5",
        "colab": {
          "base_uri": "https://localhost:8080/",
          "height": 238
        }
      },
      "source": [
        "proba = model.predict(x_test)\n",
        "proba"
      ],
      "execution_count": 0,
      "outputs": [
        {
          "output_type": "execute_result",
          "data": {
            "text/plain": [
              "array([[3.5271831e-05, 1.1702743e-04, 5.1434574e-05, ..., 5.5828503e-05,\n",
              "        1.5535636e-05, 2.6664900e-05],\n",
              "       [1.7473346e-03, 1.7221931e-02, 8.5507444e-04, ..., 1.2954042e-03,\n",
              "        1.3611772e-05, 5.4352509e-05],\n",
              "       [7.8801792e-03, 5.3998876e-01, 5.1739989e-03, ..., 6.9650295e-03,\n",
              "        1.1240768e-03, 1.0169288e-03],\n",
              "       ...,\n",
              "       [1.5945185e-05, 1.5919759e-04, 9.3163646e-05, ..., 2.1416748e-05,\n",
              "        1.1203689e-05, 4.9396000e-05],\n",
              "       [3.6489079e-03, 4.5696642e-02, 2.8513388e-03, ..., 1.9538945e-03,\n",
              "        1.6224653e-03, 1.7449320e-03],\n",
              "       [1.3702868e-03, 4.1372690e-01, 2.5597010e-02, ..., 4.8560137e-03,\n",
              "        2.5342440e-04, 3.1512600e-04]], dtype=float32)"
            ]
          },
          "metadata": {
            "tags": []
          },
          "execution_count": 57
        }
      ]
    },
    {
      "cell_type": "code",
      "metadata": {
        "id": "_cU2btvA_N1m",
        "colab_type": "code",
        "outputId": "fd678210-7ca2-47e5-bc35-9a2038180d89",
        "colab": {
          "base_uri": "https://localhost:8080/",
          "height": 34
        }
      },
      "source": [
        "proba.shape"
      ],
      "execution_count": 0,
      "outputs": [
        {
          "output_type": "execute_result",
          "data": {
            "text/plain": [
              "(2246, 46)"
            ]
          },
          "metadata": {
            "tags": []
          },
          "execution_count": 58
        }
      ]
    },
    {
      "cell_type": "code",
      "metadata": {
        "id": "jrh2g9aEBpHu",
        "colab_type": "code",
        "outputId": "9c857723-de2e-4e27-bf0e-d06cc2dd9310",
        "colab": {
          "base_uri": "https://localhost:8080/",
          "height": 34
        }
      },
      "source": [
        "np.sum(proba[0])"
      ],
      "execution_count": 0,
      "outputs": [
        {
          "output_type": "execute_result",
          "data": {
            "text/plain": [
              "1.0"
            ]
          },
          "metadata": {
            "tags": []
          },
          "execution_count": 60
        }
      ]
    },
    {
      "cell_type": "markdown",
      "metadata": {
        "id": "897v4_gcCRYz",
        "colab_type": "text"
      },
      "source": [
        "To convert the probability to classes (labels):"
      ]
    },
    {
      "cell_type": "code",
      "metadata": {
        "id": "kCqbsOlKBvmF",
        "colab_type": "code",
        "outputId": "0bc68944-01b6-429f-9339-2def71916b63",
        "colab": {
          "base_uri": "https://localhost:8080/",
          "height": 34
        }
      },
      "source": [
        "qnp.argmax(proba[0])"
      ],
      "execution_count": 0,
      "outputs": [
        {
          "output_type": "execute_result",
          "data": {
            "text/plain": [
              "3"
            ]
          },
          "metadata": {
            "tags": []
          },
          "execution_count": 61
        }
      ]
    },
    {
      "cell_type": "code",
      "metadata": {
        "id": "xayc6DTuB9JW",
        "colab_type": "code",
        "outputId": "dfd9f94a-6309-4c24-ed34-5d82c1705e54",
        "colab": {
          "base_uri": "https://localhost:8080/",
          "height": 34
        }
      },
      "source": [
        "np.array([np.argmax(lst) for lst in proba])"
      ],
      "execution_count": 0,
      "outputs": [
        {
          "output_type": "execute_result",
          "data": {
            "text/plain": [
              "array([ 3, 10,  1, ...,  3,  4,  1])"
            ]
          },
          "metadata": {
            "tags": []
          },
          "execution_count": 63
        }
      ]
    },
    {
      "cell_type": "markdown",
      "metadata": {
        "id": "5pIzNw8wDWMF",
        "colab_type": "text"
      },
      "source": [
        "**An important takeaway from this example:**\n",
        "\n",
        "The final outputs are 46-dimensional, you should AVOID having intermediate layers with many fewer than 46 hidden units, because you will drop too much information in those intermediate layers and thus won't have encough info to recover the separation hyperplanes of 46 classes."
      ]
    }
  ]
}