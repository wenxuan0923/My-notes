{
  "nbformat": 4,
  "nbformat_minor": 0,
  "metadata": {
    "colab": {
      "name": "collaborative_filtering_TMDB.ipynb",
      "provenance": [],
      "collapsed_sections": [],
      "authorship_tag": "ABX9TyPsP4tfFSYqw7cAxCgeTxRd",
      "include_colab_link": true
    },
    "kernelspec": {
      "name": "python3",
      "display_name": "Python 3"
    }
  },
  "cells": [
    {
      "cell_type": "markdown",
      "metadata": {
        "id": "view-in-github",
        "colab_type": "text"
      },
      "source": [
        "<a href=\"https://colab.research.google.com/github/wenxuan0923/My-notes/blob/master/collaborative_filtering_TMDB.ipynb\" target=\"_parent\"><img src=\"https://colab.research.google.com/assets/colab-badge.svg\" alt=\"Open In Colab\"/></a>"
      ]
    },
    {
      "cell_type": "markdown",
      "metadata": {
        "id": "zlsVY0DL5cxY",
        "colab_type": "text"
      },
      "source": [
        "# Recommender System with Collaborate Filtering Method\n",
        "\n",
        "In this note I will build a recommender system with **Collaborative Filtering (CF)** method using **Surprise** Library in Python. \n",
        "Collaborative Filtering method predicts unknown ratings by utilizing the similarities between users: users are recommended items that are being liked by people with similar tastes and interests. \n",
        "\n",
        "<a target='_balnk' href='https://surprise.readthedocs.io/en/stable/'>Surprise</a> is a Python library which provides us an easy way to implement and evaluate recommender systems using their built-in prediction algorithms like baseline algorithms, neighborhood methods, matrix factorization-based (SVD, PMF, SVD++, NMF), etc.\n",
        "\n",
        "The Dataset used in this note is available on Kaggle: <a target='_blank' href='https://www.kaggle.com/rounakbanik/the-movies-dataset'>The Movies Dataset</a>\n",
        "\n",
        "\n",
        "There are mainly two types of collaborative filtering:\n",
        "\n",
        "1. **User Based** Collaborative Filtering\n",
        "> Recommend items based on the users who have similar tastes with the target user. We can measure the **similarity between users** using metrics like pearson correlation or cosine similarity. A potential problem for this methods is: users' preference may change over time.\n",
        "\n",
        "2. **Item Based** Collaborative Filtering\n",
        "> Recommend items based on their similarity with the items the target user already rated. Again, the **similarity between items** can be calculated using pearson correlation or cosine similarity.\n",
        "\n",
        "However, a problem with this method is the sparsity of the user-item matrix (each row is an user and each column an item). High-dimensional datasets are at risk of being very sparse, meaning most training instances are likely to be far away from each other. This also means that a new instance will likely be far away from any training instance, making prediction much less reliable than in lower dimensions. Also, the computation complexity is $O(mn)$ with $m$ users and $n$ items, which will make the training to be very computationally expensive. This is known as the problem of **scalability**."
      ]
    },
    {
      "cell_type": "markdown",
      "metadata": {
        "id": "GB46euvuMMJQ",
        "colab_type": "text"
      },
      "source": [
        "## Latent Matrix Factorization\n",
        "\n",
        "One way to handle the scalability and sparsity issue is to leverage a **Latent Factor Model** a.k.a. **Latent Matrix Factorization**. Specifically, it will actually turn the orignal recommendation problem into an optimization problem by predicting the score of each item given by each user. \n",
        "The objective function in this case is **Root Mean Square Error (RMSE)**, which is used to measure how good we are in predicting the rating for items given by users. The lower the RMSE, the better the performance.\n",
        "\n",
        "So what is latent factors? It can be understood as a property or concept that a user or an item have. For example, the genre a movie belongs to. We map each user and each item (see the user-item matrix below) into a lower ($k$) dimensional space, called latent space,  using  **Singular value decomposition** (SVD).\n",
        "\n",
        "<br>\n",
        "<img src='https://drive.google.com/uc?id=1tHcKIRV_PByz2uac_-eMMUWOhuq4Anxp'></img>\n",
        "\n",
        "\n",
        "We’ll first randomly initialize two matrices from a Gaussian Distribution. The first one is the user profiles $P$, a $(m * k)$ matrix, and the second is the movie profiles $Q$, a $k * n$ matrix. The multiplication of these two matrices will result in an $(m * n)$ matrix, and that is the estimated User-Item matrix we want.\n",
        "\n",
        "Thus, the predicted rating $\\hat{r}_{ui}$ of item $i$ by user $u$ can be calculated as:\n",
        "\n",
        "$$\\hat{r}_{ui} = \\sum_{j=1}^{k}P_{uj}Q_{ji} = q_i^Tp_u$$\n",
        "\n",
        "That is the dot product of the original ratings’ user’s row in $P$ and its item’s column in $Q$. To get the best prediction result, we want to minimize:\n",
        "\n",
        "$$J = \\sum_{r_{ui}\\in \\text{Traing set}}(r_{ui} - \\hat{r}_{ui})^2 = (r_{ui}-q_i^Tp_u)^2$$ <br>\n",
        "\n",
        "\n",
        "We will then optimize the values of $P$ and $Q$ using **Stochastic Gradient Descent**. From the objective function we have:\n",
        "\n",
        "<br>\n",
        "$$\\frac{\\partial J}{\\partial p_u} \\propto (r_{ui}-\\hat{r}_{ui}).q_i$$\n",
        "\n",
        "$$\\frac{\\partial J}{\\partial q_i} \\propto (r_{ui}-\\hat{r}_{ui}).p_u$$<br>\n",
        "\n",
        "\n",
        "Let's denote: $e_{ui} = r_{ui} - \\hat{r}_{ui}$, then for each iteration, we will update the values:\n",
        "\n",
        "<br>\n",
        "$$p_u := p_u + \\gamma(e_{ui} . q_i)$$\n",
        "\n",
        "$$q_i := q_i + \\gamma(e_{ui} . p_u)$$\n",
        "<br>\n",
        "\n",
        "where $\\gamma$ is the learning rate.\n",
        "\n",
        "All the expressions above are actually an **unbiased** version of this algorithm. The biased version is simply:\n",
        "\n",
        "<br>\n",
        "$$\\hat{r}_{ui} = \\mu + b_u + b_i + q_i^Tp_u$$<br>\n",
        "\n",
        "Besides, just like all the ML and DL models, we can add regulariazation terms into our cost function to reduce overfitting. In that case, we minimize the following **regularized squared error**: \n",
        "\n",
        "<br>\n",
        "$$\n",
        "\\begin{align}\n",
        "J &= \\sum_{r_{ui}\\in \\text{Traing set}}(r_{ui}-\\hat{r}_{ui})^2 + \\lambda(b_i^2 + b_u^2+||q_i||^2+||p_u||^2) \\\\\n",
        "&= \\sum_{r_{ui}\\in \\text{Traing set}} (r_{ui}-\\mu - b_u - b_i - q_i^Tp_u)^2 + \\lambda(b_i^2 + b_u^2+||q_i||^2+||p_u||^2)\n",
        "\\end{align}\n",
        "$$ <br>\n",
        "\n",
        "Where $\\lambda$ is the regularization term. The corresponding SGD process will become:\n",
        "\n",
        "<br>\n",
        "$$b_u := b_u + \\gamma(e_{ui} - \\lambda b_u)$$\n",
        "\n",
        "$$b_i := b_i + \\gamma(e_{ui} - \\lambda b_i)$$\n",
        "\n",
        "$$p_u := p_u + \\gamma(e_{ui} . q_i - \\lambda p_u)$$\n",
        "\n",
        "$$q_i := q_i + \\gamma(e_{ui} . p_u - \\lambda q_i)$$\n",
        "<br>\n",
        "\n",
        "Once we get the matrixs $P$ and $Q$, we can make prediction of any movie given by any user.\n",
        "\n",
        "Now Let's see how to implement this method with the help of Surprise library.\n"
      ]
    },
    {
      "cell_type": "markdown",
      "metadata": {
        "id": "6FSVAZK87i5U",
        "colab_type": "text"
      },
      "source": [
        "## Movie Recommendation Problem"
      ]
    },
    {
      "cell_type": "code",
      "metadata": {
        "id": "Aprw351VYu7F",
        "colab_type": "code",
        "colab": {}
      },
      "source": [
        "import pandas as pd\n",
        "import numpy as np\n",
        "import matplotlib.pyplot as plt\n",
        "import plotly.graph_objects as go"
      ],
      "execution_count": 1,
      "outputs": []
    },
    {
      "cell_type": "markdown",
      "metadata": {
        "id": "WQWM22Zh8Kdq",
        "colab_type": "text"
      },
      "source": [
        "I will be using the ratings_small.csv file for model building: it is the subset of 100,000 ratings from 700 users on 9,000 movies.\n",
        "\n",
        "We'll be using the **Surprise** library to implement and evaluate SVD, and generate prediction result."
      ]
    },
    {
      "cell_type": "code",
      "metadata": {
        "id": "NE9l45d6MTFM",
        "colab_type": "code",
        "colab": {
          "base_uri": "https://localhost:8080/",
          "height": 198
        },
        "outputId": "0a604f99-f3a3-4245-80e3-e3fd3779b0a0"
      },
      "source": [
        "df = pd.read_csv('ratings_small.csv')\n",
        "df.head()"
      ],
      "execution_count": 2,
      "outputs": [
        {
          "output_type": "execute_result",
          "data": {
            "text/html": [
              "<div>\n",
              "<style scoped>\n",
              "    .dataframe tbody tr th:only-of-type {\n",
              "        vertical-align: middle;\n",
              "    }\n",
              "\n",
              "    .dataframe tbody tr th {\n",
              "        vertical-align: top;\n",
              "    }\n",
              "\n",
              "    .dataframe thead th {\n",
              "        text-align: right;\n",
              "    }\n",
              "</style>\n",
              "<table border=\"1\" class=\"dataframe\">\n",
              "  <thead>\n",
              "    <tr style=\"text-align: right;\">\n",
              "      <th></th>\n",
              "      <th>userId</th>\n",
              "      <th>movieId</th>\n",
              "      <th>rating</th>\n",
              "      <th>timestamp</th>\n",
              "    </tr>\n",
              "  </thead>\n",
              "  <tbody>\n",
              "    <tr>\n",
              "      <th>0</th>\n",
              "      <td>1</td>\n",
              "      <td>31</td>\n",
              "      <td>2.5</td>\n",
              "      <td>1260759144</td>\n",
              "    </tr>\n",
              "    <tr>\n",
              "      <th>1</th>\n",
              "      <td>1</td>\n",
              "      <td>1029</td>\n",
              "      <td>3.0</td>\n",
              "      <td>1260759179</td>\n",
              "    </tr>\n",
              "    <tr>\n",
              "      <th>2</th>\n",
              "      <td>1</td>\n",
              "      <td>1061</td>\n",
              "      <td>3.0</td>\n",
              "      <td>1260759182</td>\n",
              "    </tr>\n",
              "    <tr>\n",
              "      <th>3</th>\n",
              "      <td>1</td>\n",
              "      <td>1129</td>\n",
              "      <td>2.0</td>\n",
              "      <td>1260759185</td>\n",
              "    </tr>\n",
              "    <tr>\n",
              "      <th>4</th>\n",
              "      <td>1</td>\n",
              "      <td>1172</td>\n",
              "      <td>4.0</td>\n",
              "      <td>1260759205</td>\n",
              "    </tr>\n",
              "  </tbody>\n",
              "</table>\n",
              "</div>"
            ],
            "text/plain": [
              "   userId  movieId  rating   timestamp\n",
              "0       1       31     2.5  1260759144\n",
              "1       1     1029     3.0  1260759179\n",
              "2       1     1061     3.0  1260759182\n",
              "3       1     1129     2.0  1260759185\n",
              "4       1     1172     4.0  1260759205"
            ]
          },
          "metadata": {
            "tags": []
          },
          "execution_count": 2
        }
      ]
    },
    {
      "cell_type": "markdown",
      "metadata": {
        "id": "ApPGLmFXZ763",
        "colab_type": "text"
      },
      "source": [
        "## Exploratory Data Analysis\n",
        "\n",
        "### Ratings Distribution"
      ]
    },
    {
      "cell_type": "code",
      "metadata": {
        "id": "-YCKsIdZWjNv",
        "colab_type": "code",
        "colab": {
          "base_uri": "https://localhost:8080/",
          "height": 517
        },
        "outputId": "88a75aa2-e8d2-4f1d-f6d3-3723ec39bb62"
      },
      "source": [
        "data = df['rating'].value_counts().sort_index(ascending=False)\n",
        "trace = go.Bar(x = data.index,\n",
        "               text = ['{:.1f} %'.format(val) for val in (data.values / df.shape[0] * 100)],\n",
        "               textposition = 'outside',\n",
        "               marker_color='#aec3d6',\n",
        "               textfont = dict(color = '#000000'),\n",
        "               y = data.values,\n",
        "               )\n",
        "# Create layout\n",
        "layout = dict(width=700, height=500,\n",
        "              plot_bgcolor='#ffffff',\n",
        "              title = {'text':'Distribution Of {} movie ratings'.format(df.shape[0]),\n",
        "                       'y':0.9, 'x':0.5},\n",
        "              xaxis = dict(title = 'Rating', dtick = 0.5),\n",
        "              yaxis = dict(title = 'Count'))\n",
        "# Create plot\n",
        "fig = go.Figure(data=[trace], layout=layout)\n",
        "fig.update_yaxes(showgrid=True, gridwidth=0.001, gridcolor='#d9dcde')\n",
        "fig.show()"
      ],
      "execution_count": 150,
      "outputs": [
        {
          "output_type": "display_data",
          "data": {
            "text/html": [
              "<html>\n",
              "<head><meta charset=\"utf-8\" /></head>\n",
              "<body>\n",
              "    <div>\n",
              "            <script src=\"https://cdnjs.cloudflare.com/ajax/libs/mathjax/2.7.5/MathJax.js?config=TeX-AMS-MML_SVG\"></script><script type=\"text/javascript\">if (window.MathJax) {MathJax.Hub.Config({SVG: {font: \"STIX-Web\"}});}</script>\n",
              "                <script type=\"text/javascript\">window.PlotlyConfig = {MathJaxConfig: 'local'};</script>\n",
              "        <script src=\"https://cdn.plot.ly/plotly-latest.min.js\"></script>    \n",
              "            <div id=\"9244112d-42fe-4d30-8e61-ac255bae8166\" class=\"plotly-graph-div\" style=\"height:500px; width:700px;\"></div>\n",
              "            <script type=\"text/javascript\">\n",
              "                \n",
              "                    window.PLOTLYENV=window.PLOTLYENV || {};\n",
              "                    \n",
              "                if (document.getElementById(\"9244112d-42fe-4d30-8e61-ac255bae8166\")) {\n",
              "                    Plotly.newPlot(\n",
              "                        '9244112d-42fe-4d30-8e61-ac255bae8166',\n",
              "                        [{\"marker\": {\"color\": \"#aec3d6\"}, \"text\": [\"15.1 %\", \"7.7 %\", \"28.7 %\", \"10.5 %\", \"20.1 %\", \"4.4 %\", \"7.3 %\", \"1.7 %\", \"3.3 %\", \"1.1 %\"], \"textfont\": {\"color\": \"#000000\"}, \"textposition\": \"outside\", \"type\": \"bar\", \"x\": [5.0, 4.5, 4.0, 3.5, 3.0, 2.5, 2.0, 1.5, 1.0, 0.5], \"y\": [15095, 7723, 28750, 10538, 20064, 4449, 7271, 1687, 3326, 1101]}],\n",
              "                        {\"height\": 500, \"plot_bgcolor\": \"#ffffff\", \"template\": {\"data\": {\"bar\": [{\"error_x\": {\"color\": \"#2a3f5f\"}, \"error_y\": {\"color\": \"#2a3f5f\"}, \"marker\": {\"line\": {\"color\": \"#E5ECF6\", \"width\": 0.5}}, \"type\": \"bar\"}], \"barpolar\": [{\"marker\": {\"line\": {\"color\": \"#E5ECF6\", \"width\": 0.5}}, \"type\": \"barpolar\"}], \"carpet\": [{\"aaxis\": {\"endlinecolor\": \"#2a3f5f\", \"gridcolor\": \"white\", \"linecolor\": \"white\", \"minorgridcolor\": \"white\", \"startlinecolor\": \"#2a3f5f\"}, \"baxis\": {\"endlinecolor\": \"#2a3f5f\", \"gridcolor\": \"white\", \"linecolor\": \"white\", \"minorgridcolor\": \"white\", \"startlinecolor\": \"#2a3f5f\"}, \"type\": \"carpet\"}], \"choropleth\": [{\"colorbar\": {\"outlinewidth\": 0, \"ticks\": \"\"}, \"type\": \"choropleth\"}], \"contour\": [{\"colorbar\": {\"outlinewidth\": 0, \"ticks\": \"\"}, \"colorscale\": [[0.0, \"#0d0887\"], [0.1111111111111111, \"#46039f\"], [0.2222222222222222, \"#7201a8\"], [0.3333333333333333, \"#9c179e\"], [0.4444444444444444, \"#bd3786\"], [0.5555555555555556, \"#d8576b\"], [0.6666666666666666, \"#ed7953\"], [0.7777777777777778, \"#fb9f3a\"], [0.8888888888888888, \"#fdca26\"], [1.0, \"#f0f921\"]], \"type\": \"contour\"}], \"contourcarpet\": [{\"colorbar\": {\"outlinewidth\": 0, \"ticks\": \"\"}, \"type\": \"contourcarpet\"}], \"heatmap\": [{\"colorbar\": {\"outlinewidth\": 0, \"ticks\": \"\"}, \"colorscale\": [[0.0, \"#0d0887\"], [0.1111111111111111, \"#46039f\"], [0.2222222222222222, \"#7201a8\"], [0.3333333333333333, \"#9c179e\"], [0.4444444444444444, \"#bd3786\"], [0.5555555555555556, \"#d8576b\"], [0.6666666666666666, \"#ed7953\"], [0.7777777777777778, \"#fb9f3a\"], [0.8888888888888888, \"#fdca26\"], [1.0, \"#f0f921\"]], \"type\": \"heatmap\"}], \"heatmapgl\": [{\"colorbar\": {\"outlinewidth\": 0, \"ticks\": \"\"}, \"colorscale\": [[0.0, \"#0d0887\"], [0.1111111111111111, \"#46039f\"], [0.2222222222222222, \"#7201a8\"], [0.3333333333333333, \"#9c179e\"], [0.4444444444444444, \"#bd3786\"], [0.5555555555555556, \"#d8576b\"], [0.6666666666666666, \"#ed7953\"], [0.7777777777777778, \"#fb9f3a\"], [0.8888888888888888, \"#fdca26\"], [1.0, \"#f0f921\"]], \"type\": \"heatmapgl\"}], \"histogram\": [{\"marker\": {\"colorbar\": {\"outlinewidth\": 0, \"ticks\": \"\"}}, \"type\": \"histogram\"}], \"histogram2d\": [{\"colorbar\": {\"outlinewidth\": 0, \"ticks\": \"\"}, \"colorscale\": [[0.0, \"#0d0887\"], [0.1111111111111111, \"#46039f\"], [0.2222222222222222, \"#7201a8\"], [0.3333333333333333, \"#9c179e\"], [0.4444444444444444, \"#bd3786\"], [0.5555555555555556, \"#d8576b\"], [0.6666666666666666, \"#ed7953\"], [0.7777777777777778, \"#fb9f3a\"], [0.8888888888888888, \"#fdca26\"], [1.0, \"#f0f921\"]], \"type\": \"histogram2d\"}], \"histogram2dcontour\": [{\"colorbar\": {\"outlinewidth\": 0, \"ticks\": \"\"}, \"colorscale\": [[0.0, \"#0d0887\"], [0.1111111111111111, \"#46039f\"], [0.2222222222222222, \"#7201a8\"], [0.3333333333333333, \"#9c179e\"], [0.4444444444444444, \"#bd3786\"], [0.5555555555555556, \"#d8576b\"], [0.6666666666666666, \"#ed7953\"], [0.7777777777777778, \"#fb9f3a\"], [0.8888888888888888, \"#fdca26\"], [1.0, \"#f0f921\"]], \"type\": \"histogram2dcontour\"}], \"mesh3d\": [{\"colorbar\": {\"outlinewidth\": 0, \"ticks\": \"\"}, \"type\": \"mesh3d\"}], \"parcoords\": [{\"line\": {\"colorbar\": {\"outlinewidth\": 0, \"ticks\": \"\"}}, \"type\": \"parcoords\"}], \"pie\": [{\"automargin\": true, \"type\": \"pie\"}], \"scatter\": [{\"marker\": {\"colorbar\": {\"outlinewidth\": 0, \"ticks\": \"\"}}, \"type\": \"scatter\"}], \"scatter3d\": [{\"line\": {\"colorbar\": {\"outlinewidth\": 0, \"ticks\": \"\"}}, \"marker\": {\"colorbar\": {\"outlinewidth\": 0, \"ticks\": \"\"}}, \"type\": \"scatter3d\"}], \"scattercarpet\": [{\"marker\": {\"colorbar\": {\"outlinewidth\": 0, \"ticks\": \"\"}}, \"type\": \"scattercarpet\"}], \"scattergeo\": [{\"marker\": {\"colorbar\": {\"outlinewidth\": 0, \"ticks\": \"\"}}, \"type\": \"scattergeo\"}], \"scattergl\": [{\"marker\": {\"colorbar\": {\"outlinewidth\": 0, \"ticks\": \"\"}}, \"type\": \"scattergl\"}], \"scattermapbox\": [{\"marker\": {\"colorbar\": {\"outlinewidth\": 0, \"ticks\": \"\"}}, \"type\": \"scattermapbox\"}], \"scatterpolar\": [{\"marker\": {\"colorbar\": {\"outlinewidth\": 0, \"ticks\": \"\"}}, \"type\": \"scatterpolar\"}], \"scatterpolargl\": [{\"marker\": {\"colorbar\": {\"outlinewidth\": 0, \"ticks\": \"\"}}, \"type\": \"scatterpolargl\"}], \"scatterternary\": [{\"marker\": {\"colorbar\": {\"outlinewidth\": 0, \"ticks\": \"\"}}, \"type\": \"scatterternary\"}], \"surface\": [{\"colorbar\": {\"outlinewidth\": 0, \"ticks\": \"\"}, \"colorscale\": [[0.0, \"#0d0887\"], [0.1111111111111111, \"#46039f\"], [0.2222222222222222, \"#7201a8\"], [0.3333333333333333, \"#9c179e\"], [0.4444444444444444, \"#bd3786\"], [0.5555555555555556, \"#d8576b\"], [0.6666666666666666, \"#ed7953\"], [0.7777777777777778, \"#fb9f3a\"], [0.8888888888888888, \"#fdca26\"], [1.0, \"#f0f921\"]], \"type\": \"surface\"}], \"table\": [{\"cells\": {\"fill\": {\"color\": \"#EBF0F8\"}, \"line\": {\"color\": \"white\"}}, \"header\": {\"fill\": {\"color\": \"#C8D4E3\"}, \"line\": {\"color\": \"white\"}}, \"type\": \"table\"}]}, \"layout\": {\"annotationdefaults\": {\"arrowcolor\": \"#2a3f5f\", \"arrowhead\": 0, \"arrowwidth\": 1}, \"coloraxis\": {\"colorbar\": {\"outlinewidth\": 0, \"ticks\": \"\"}}, \"colorscale\": {\"diverging\": [[0, \"#8e0152\"], [0.1, \"#c51b7d\"], [0.2, \"#de77ae\"], [0.3, \"#f1b6da\"], [0.4, \"#fde0ef\"], [0.5, \"#f7f7f7\"], [0.6, \"#e6f5d0\"], [0.7, \"#b8e186\"], [0.8, \"#7fbc41\"], [0.9, \"#4d9221\"], [1, \"#276419\"]], \"sequential\": [[0.0, \"#0d0887\"], [0.1111111111111111, \"#46039f\"], [0.2222222222222222, \"#7201a8\"], [0.3333333333333333, \"#9c179e\"], [0.4444444444444444, \"#bd3786\"], [0.5555555555555556, \"#d8576b\"], [0.6666666666666666, \"#ed7953\"], [0.7777777777777778, \"#fb9f3a\"], [0.8888888888888888, \"#fdca26\"], [1.0, \"#f0f921\"]], \"sequentialminus\": [[0.0, \"#0d0887\"], [0.1111111111111111, \"#46039f\"], [0.2222222222222222, \"#7201a8\"], [0.3333333333333333, \"#9c179e\"], [0.4444444444444444, \"#bd3786\"], [0.5555555555555556, \"#d8576b\"], [0.6666666666666666, \"#ed7953\"], [0.7777777777777778, \"#fb9f3a\"], [0.8888888888888888, \"#fdca26\"], [1.0, \"#f0f921\"]]}, \"colorway\": [\"#636efa\", \"#EF553B\", \"#00cc96\", \"#ab63fa\", \"#FFA15A\", \"#19d3f3\", \"#FF6692\", \"#B6E880\", \"#FF97FF\", \"#FECB52\"], \"font\": {\"color\": \"#2a3f5f\"}, \"geo\": {\"bgcolor\": \"white\", \"lakecolor\": \"white\", \"landcolor\": \"#E5ECF6\", \"showlakes\": true, \"showland\": true, \"subunitcolor\": \"white\"}, \"hoverlabel\": {\"align\": \"left\"}, \"hovermode\": \"closest\", \"mapbox\": {\"style\": \"light\"}, \"paper_bgcolor\": \"white\", \"plot_bgcolor\": \"#E5ECF6\", \"polar\": {\"angularaxis\": {\"gridcolor\": \"white\", \"linecolor\": \"white\", \"ticks\": \"\"}, \"bgcolor\": \"#E5ECF6\", \"radialaxis\": {\"gridcolor\": \"white\", \"linecolor\": \"white\", \"ticks\": \"\"}}, \"scene\": {\"xaxis\": {\"backgroundcolor\": \"#E5ECF6\", \"gridcolor\": \"white\", \"gridwidth\": 2, \"linecolor\": \"white\", \"showbackground\": true, \"ticks\": \"\", \"zerolinecolor\": \"white\"}, \"yaxis\": {\"backgroundcolor\": \"#E5ECF6\", \"gridcolor\": \"white\", \"gridwidth\": 2, \"linecolor\": \"white\", \"showbackground\": true, \"ticks\": \"\", \"zerolinecolor\": \"white\"}, \"zaxis\": {\"backgroundcolor\": \"#E5ECF6\", \"gridcolor\": \"white\", \"gridwidth\": 2, \"linecolor\": \"white\", \"showbackground\": true, \"ticks\": \"\", \"zerolinecolor\": \"white\"}}, \"shapedefaults\": {\"line\": {\"color\": \"#2a3f5f\"}}, \"ternary\": {\"aaxis\": {\"gridcolor\": \"white\", \"linecolor\": \"white\", \"ticks\": \"\"}, \"baxis\": {\"gridcolor\": \"white\", \"linecolor\": \"white\", \"ticks\": \"\"}, \"bgcolor\": \"#E5ECF6\", \"caxis\": {\"gridcolor\": \"white\", \"linecolor\": \"white\", \"ticks\": \"\"}}, \"title\": {\"x\": 0.05}, \"xaxis\": {\"automargin\": true, \"gridcolor\": \"white\", \"linecolor\": \"white\", \"ticks\": \"\", \"title\": {\"standoff\": 15}, \"zerolinecolor\": \"white\", \"zerolinewidth\": 2}, \"yaxis\": {\"automargin\": true, \"gridcolor\": \"white\", \"linecolor\": \"white\", \"ticks\": \"\", \"title\": {\"standoff\": 15}, \"zerolinecolor\": \"white\", \"zerolinewidth\": 2}}}, \"title\": {\"text\": \"Distribution Of 100004 movie ratings\", \"x\": 0.5, \"y\": 0.9}, \"width\": 700, \"xaxis\": {\"dtick\": 0.5, \"title\": {\"text\": \"Rating\"}}, \"yaxis\": {\"gridcolor\": \"#d9dcde\", \"gridwidth\": 0.001, \"showgrid\": true, \"title\": {\"text\": \"Count\"}}},\n",
              "                        {\"responsive\": true}\n",
              "                    ).then(function(){\n",
              "                            \n",
              "var gd = document.getElementById('9244112d-42fe-4d30-8e61-ac255bae8166');\n",
              "var x = new MutationObserver(function (mutations, observer) {{\n",
              "        var display = window.getComputedStyle(gd).display;\n",
              "        if (!display || display === 'none') {{\n",
              "            console.log([gd, 'removed!']);\n",
              "            Plotly.purge(gd);\n",
              "            observer.disconnect();\n",
              "        }}\n",
              "}});\n",
              "\n",
              "// Listen for the removal of the full notebook cells\n",
              "var notebookContainer = gd.closest('#notebook-container');\n",
              "if (notebookContainer) {{\n",
              "    x.observe(notebookContainer, {childList: true});\n",
              "}}\n",
              "\n",
              "// Listen for the clearing of the current output cell\n",
              "var outputEl = gd.closest('.output');\n",
              "if (outputEl) {{\n",
              "    x.observe(outputEl, {childList: true});\n",
              "}}\n",
              "\n",
              "                        })\n",
              "                };\n",
              "                \n",
              "            </script>\n",
              "        </div>\n",
              "</body>\n",
              "</html>"
            ]
          },
          "metadata": {
            "tags": []
          }
        }
      ]
    },
    {
      "cell_type": "markdown",
      "metadata": {
        "id": "6dlJ15S77wtE",
        "colab_type": "text"
      },
      "source": [
        "From this barchart we can see the most common ratings are 4 and 3, they occured 28.7% and 20.1% of the time repectively."
      ]
    },
    {
      "cell_type": "markdown",
      "metadata": {
        "id": "vnxfyPRPZ_eV",
        "colab_type": "text"
      },
      "source": [
        "### Distribution of Number of Ratings "
      ]
    },
    {
      "cell_type": "code",
      "metadata": {
        "id": "XzOetuUKcUHW",
        "colab_type": "code",
        "colab": {
          "base_uri": "https://localhost:8080/",
          "height": 254
        },
        "outputId": "fff86566-7177-4e0c-8413-5183ebcea732"
      },
      "source": [
        "df.groupby('movieId')['rating'].count().sort_values(ascending=False)"
      ],
      "execution_count": 54,
      "outputs": [
        {
          "output_type": "execute_result",
          "data": {
            "text/plain": [
              "movieId\n",
              "356       341\n",
              "296       324\n",
              "318       311\n",
              "593       304\n",
              "260       291\n",
              "         ... \n",
              "26467       1\n",
              "26471       1\n",
              "26480       1\n",
              "26485       1\n",
              "163949      1\n",
              "Name: rating, Length: 9066, dtype: int64"
            ]
          },
          "metadata": {
            "tags": []
          },
          "execution_count": 54
        }
      ]
    },
    {
      "cell_type": "code",
      "metadata": {
        "id": "AVJsLEtHWjSD",
        "colab_type": "code",
        "colab": {
          "base_uri": "https://localhost:8080/",
          "height": 437
        },
        "outputId": "43896f02-167f-426d-ddbb-a0c0431d9a4d"
      },
      "source": [
        "data = df.groupby('movieId')['rating'].count()\n",
        "# Create trace\n",
        "trace = go.Histogram(x = data.values,\n",
        "                     marker_color='#8bb4d9',\n",
        "                     name = 'Ratings')\n",
        "# Create layout\n",
        "layout = go.Layout(width=900, height=400,\n",
        "                   title = {'text':'Number of Ratings per Movie',\n",
        "                            'y':0.9, 'x':0.5},\n",
        "                   plot_bgcolor='#ffffff',\n",
        "                   xaxis = dict(title = 'Number of Ratings per Movie'),\n",
        "                   yaxis = dict(title = 'Count'),\n",
        "                   bargap = 0.1)\n",
        "\n",
        "# Create plot\n",
        "fig = go.Figure(data=[trace], layout=layout)\n",
        "fig.update_yaxes(showgrid=True, gridwidth=0.001, gridcolor='#d9dcde')\n",
        "fig.show()"
      ],
      "execution_count": 165,
      "outputs": [
        {
          "output_type": "display_data",
          "data": {
            "text/html": [
              "<html>\n",
              "<head><meta charset=\"utf-8\" /></head>\n",
              "<body>\n",
              "    <div>\n",
              "            <script src=\"https://cdnjs.cloudflare.com/ajax/libs/mathjax/2.7.5/MathJax.js?config=TeX-AMS-MML_SVG\"></script><script type=\"text/javascript\">if (window.MathJax) {MathJax.Hub.Config({SVG: {font: \"STIX-Web\"}});}</script>\n",
              "                <script type=\"text/javascript\">window.PlotlyConfig = {MathJaxConfig: 'local'};</script>\n",
              "        <script src=\"https://cdn.plot.ly/plotly-latest.min.js\"></script>    \n",
              "            <div id=\"27ac8ee1-a43f-49c7-9993-d511dfc50ab8\" class=\"plotly-graph-div\" style=\"height:400px; width:900px;\"></div>\n",
              "            <script type=\"text/javascript\">\n",
              "                \n",
              "                    window.PLOTLYENV=window.PLOTLYENV || {};\n",
              "                    \n",
              "                if (document.getElementById(\"27ac8ee1-a43f-49c7-9993-d511dfc50ab8\")) {\n",
              "                    Plotly.newPlot(\n",
              "                        '27ac8ee1-a43f-49c7-9993-d511dfc50ab8',\n",
              "                        [{\"marker\": {\"color\": \"#8bb4d9\"}, \"name\": \"Ratings\", \"type\": \"histogram\", \"x\": [247, 107, 59, 13, 56, 104, 53, 5, 20, 122, 82, 18, 8, 31, 11, 88, 86, 26, 92, 13, 95, 38, 22, 34, 101, 5, 7, 18, 40, 10, 42, 196, 148, 11, 104, 2, 2, 120, 6, 23, 9, 12, 38, 43, 12, 201, 61, 2, 201, 51, 1, 3, 6, 14, 45, 2, 32, 7, 87, 6, 10, 20, 5, 8, 22, 48, 7, 6, 13, 19, 15, 2, 10, 26, 4, 18, 10, 3, 1, 16, 17, 3, 23, 17, 12, 11, 22, 93, 1, 8, 1, 4, 21, 17, 11, 4, 94, 48, 27, 1, 228, 118, 49, 5, 1, 6, 6, 5, 1, 5, 19, 7, 1, 21, 10, 1, 1, 1, 8, 27, 1, 23, 93, 26, 43, 3, 21, 1, 6, 200, 48, 3, 129, 16, 9, 11, 8, 58, 8, 63, 80, 33, 63, 26, 142, 4, 1, 43, 8, 26, 6, 48, 70, 4, 23, 18, 13, 5, 6, 44, 15, 1, 2, 102, 48, 3, 16, 1, 6, 5, 35, 24, 14, 55, 43, 3, 1, 1, 4, 23, 31, 4, 10, 28, 113, 5, 3, 9, 2, 18, 42, 7, 15, 4, 2, 22, 109, 35, 52, 16, 1, 12, 25, 158, 24, 13, 12, 78, 60, 34, 5, 15, 5, 4, 4, 1, 1, 1, 61, 43, 13, 20, 4, 1, 41, 125, 4, 5, 42, 13, 11, 5, 291, 51, 20, 1, 2, 62, 73, 13, 4, 3, 9, 4, 39, 27, 3, 5, 22, 35, 5, 4, 22, 18, 44, 1, 1, 5, 107, 14, 16, 6, 110, 132, 3, 4, 324, 16, 90, 1, 7, 24, 3, 12, 32, 31, 22, 3, 5, 7, 17, 44, 145, 70, 311, 38, 4, 7, 14, 3, 1, 7, 26, 8, 114, 10, 6, 10, 50, 14, 3, 1, 88, 15, 101, 8, 2, 56, 1, 175, 48, 6, 7, 40, 115, 70, 13, 7, 67, 2, 39, 341, 122, 7, 12, 25, 30, 5, 200, 10, 11, 157, 71, 9, 67, 20, 34, 18, 20, 3, 47, 180, 12, 21, 198, 29, 19, 13, 4, 3, 6, 1, 5, 3, 3, 5, 1, 16, 10, 1, 1, 73, 25, 26, 7, 12, 6, 13, 2, 15, 57, 11, 9, 14, 3, 4, 12, 14, 23, 9, 32, 63, 7, 106, 55, 5, 4, 2, 1, 90, 37, 95, 6, 7, 9, 9, 1, 11, 2, 16, 7, 8, 5, 110, 31, 6, 213, 4, 2, 2, 5, 7, 9, 5, 59, 3, 33, 8, 3, 49, 2, 3, 80, 31, 1, 16, 4, 274, 32, 10, 4, 6, 53, 2, 2, 4, 12, 14, 21, 21, 23, 61, 8, 3, 60, 3, 1, 153, 15, 16, 5, 7, 9, 17, 86, 78, 5, 3, 2, 6, 17, 46, 13, 16, 11, 24, 65, 10, 9, 6, 36, 1, 244, 2, 45, 31, 18, 6, 25, 26, 4, 10, 25, 125, 18, 146, 19, 52, 9, 17, 5, 9, 12, 11, 90, 50, 57, 2, 70, 15, 9, 1, 1, 30, 1, 1, 2, 2, 2, 6, 1, 1, 9, 14, 2, 3, 17, 1, 41, 129, 126, 215, 237, 202, 196, 304, 71, 176, 66, 147, 14, 1, 1, 19, 6, 224, 14, 33, 7, 6, 13, 2, 2, 42, 1, 4, 2, 3, 1, 9, 50, 2, 10, 2, 3, 7, 29, 1, 5, 18, 31, 168, 8, 1, 62, 2, 2, 53, 9, 17, 2, 5, 3, 4, 3, 33, 50, 21, 12, 1, 6, 1, 4, 2, 10, 1, 7, 1, 10, 2, 2, 3, 1, 7, 1, 1, 6, 3, 27, 61, 12, 2, 9, 11, 3, 3, 34, 45, 1, 2, 36, 4, 2, 16, 4, 135, 8, 150, 15, 27, 6, 22, 62, 1, 2, 22, 105, 5, 3, 1, 1, 1, 2, 3, 18, 39, 1, 18, 9, 1, 1, 1, 124, 4, 218, 4, 6, 49, 59, 60, 69, 2, 68, 1, 12, 24, 35, 12, 72, 2, 14, 49, 9, 2, 4, 8, 3, 1, 14, 1, 3, 4, 7, 26, 2, 76, 4, 1, 6, 13, 18, 41, 11, 2, 7, 3, 1, 1, 3, 11, 28, 4, 8, 52, 1, 200, 12, 2, 1, 27, 1, 4, 3, 1, 2, 1, 5, 25, 4, 3, 1, 1, 3, 1, 9, 7, 3, 3, 4, 37, 64, 22, 12, 44, 69, 92, 25, 13, 11, 87, 33, 66, 27, 117, 62, 51, 23, 26, 8, 14, 117, 68, 20, 39, 85, 123, 38, 5, 23, 5, 21, 16, 16, 29, 24, 6, 13, 5, 11, 1, 18, 4, 26, 12, 3, 21, 10, 11, 11, 16, 17, 26, 21, 72, 31, 30, 3, 1, 2, 1, 2, 2, 2, 16, 1, 27, 50, 5, 17, 1, 7, 2, 1, 1, 4, 2, 14, 1, 4, 1, 12, 2, 22, 8, 3, 3, 16, 5, 3, 7, 6, 11, 5, 18, 17, 9, 19, 21, 10, 23, 10, 17, 10, 37, 29, 14, 55, 17, 4, 26, 1, 44, 78, 42, 18, 22, 49, 21, 10, 80, 151, 27, 1, 26, 49, 4, 1, 8, 30, 21, 9, 7, 1, 2, 3, 4, 17, 58, 42, 33, 3, 14, 11, 1, 1, 3, 148, 2, 39, 19, 89, 91, 29, 16, 8, 56, 8, 26, 4, 53, 132, 68, 27, 56, 36, 50, 27, 26, 160, 11, 19, 74, 40, 40, 2, 8, 3, 7, 3, 33, 2, 28, 28, 11, 71, 6, 48, 8, 17, 16, 1, 23, 145, 1, 1, 16, 75, 10, 1, 1, 1, 1, 8, 5, 2, 1, 1, 3, 1, 1, 31, 46, 19, 1, 30, 9, 13, 15, 40, 3, 1, 74, 4, 28, 29, 11, 34, 20, 5, 10, 9, 144, 15, 234, 163, 220, 62, 125, 57, 7, 74, 51, 121, 80, 112, 16, 217, 19, 38, 131, 127, 52, 5, 26, 14, 77, 94, 135, 104, 39, 22, 100, 13, 22, 50, 80, 45, 10, 51, 63, 44, 5, 16, 17, 158, 11, 58, 22, 54, 27, 95, 89, 19, 39, 65, 20, 76, 20, 30, 12, 34, 24, 101, 112, 21, 33, 49, 48, 14, 165, 57, 49, 17, 37, 226, 40, 40, 19, 34, 49, 46, 11, 74, 12, 19, 23, 64, 21, 32, 61, 18, 46, 82, 13, 12, 147, 28, 46, 17, 31, 20, 24, 35, 19, 9, 67, 15, 75, 12, 7, 87, 1, 1, 1, 1, 55, 38, 2, 4, 1, 1, 3, 13, 1, 1, 7, 3, 7, 51, 15, 1, 2, 3, 52, 8, 4, 17, 39, 19, 37, 9, 32, 21, 2, 25, 2, 4, 13, 20, 2, 82, 37, 66, 11, 13, 7, 5, 13, 37, 2, 66, 47, 47, 25, 72, 54, 65, 64, 28, 14, 90, 19, 2, 1, 18, 108, 27, 12, 6, 80, 8, 106, 70, 14, 51, 2, 4, 10, 8, 4, 46, 4, 73, 43, 33, 4, 25, 4, 10, 2, 22, 1, 10, 1, 15, 2, 9, 5, 1, 13, 1, 9, 5, 1, 3, 22, 4, 28, 2, 1, 3, 9, 3, 29, 1, 7, 1, 1, 2, 10, 1, 20, 6, 14, 2, 20, 1, 39, 3, 1, 2, 6, 3, 23, 35, 6, 2, 9, 3, 71, 8, 15, 4, 2, 1, 2, 3, 7, 28, 64, 1, 2, 6, 2, 2, 3, 45, 20, 4, 107, 13, 2, 2, 6, 118, 3, 1, 1, 5, 18, 1, 16, 5, 1, 67, 2, 2, 1, 1, 59, 6, 1, 23, 47, 1, 2, 32, 52, 1, 1, 3, 83, 1, 190, 5, 2, 2, 92, 27, 24, 17, 19, 23, 15, 7, 7, 14, 3, 3, 44, 4, 4, 4, 4, 2, 10, 2, 5, 4, 70, 2, 97, 12, 6, 1, 25, 10, 14, 125, 19, 20, 2, 5, 1, 76, 3, 11, 5, 2, 1, 8, 17, 2, 65, 1, 64, 4, 10, 30, 60, 7, 6, 9, 6, 2, 84, 2, 2, 1, 8, 2, 4, 40, 8, 8, 3, 1, 5, 1, 15, 62, 56, 72, 21, 26, 9, 137, 10, 5, 5, 21, 22, 12, 45, 1, 25, 16, 1, 9, 16, 16, 5, 157, 9, 20, 16, 1, 32, 23, 164, 49, 7, 7, 1, 57, 5, 1, 120, 1, 13, 15, 2, 4, 3, 59, 51, 1, 7, 10, 13, 2, 1, 2, 1, 13, 4, 2, 9, 1, 15, 70, 19, 3, 99, 5, 4, 4, 22, 6, 1, 1, 12, 3, 9, 22, 3, 39, 2, 2, 4, 15, 2, 4, 1, 9, 1, 3, 2, 9, 26, 11, 23, 23, 9, 3, 4, 4, 4, 3, 12, 2, 10, 1, 1, 5, 8, 6, 2, 3, 1, 8, 7, 1, 6, 5, 1, 13, 1, 6, 48, 1, 2, 4, 28, 31, 44, 24, 1, 6, 15, 6, 1, 23, 23, 14, 1, 7, 5, 1, 2, 2, 4, 42, 47, 1, 27, 29, 7, 13, 14, 113, 42, 2, 17, 40, 3, 123, 9, 2, 1, 14, 1, 7, 10, 2, 1, 9, 8, 4, 4, 7, 11, 7, 6, 6, 6, 20, 29, 12, 45, 12, 10, 22, 14, 39, 46, 69, 31, 31, 42, 34, 30, 31, 119, 40, 10, 15, 32, 12, 36, 117, 8, 5, 3, 5, 3, 17, 9, 6, 6, 2, 4, 1, 3, 26, 8, 8, 5, 2, 4, 2, 1, 1, 10, 5, 4, 38, 8, 4, 64, 2, 3, 90, 57, 39, 47, 21, 51, 55, 1, 1, 17, 26, 99, 94, 28, 15, 19, 4, 7, 34, 54, 34, 30, 13, 35, 3, 13, 5, 8, 191, 5, 2, 1, 12, 9, 1, 4, 3, 8, 1, 6, 6, 10, 8, 4, 5, 17, 1, 4, 1, 6, 4, 7, 17, 76, 1, 1, 4, 33, 18, 12, 2, 1, 42, 21, 7, 22, 10, 9, 13, 8, 19, 5, 1, 3, 41, 6, 46, 1, 51, 78, 22, 14, 8, 41, 1, 38, 25, 12, 14, 3, 13, 9, 32, 4, 35, 6, 2, 10, 52, 2, 7, 1, 3, 47, 10, 10, 39, 51, 15, 13, 17, 4, 23, 98, 19, 13, 20, 6, 9, 9, 11, 10, 35, 28, 23, 2, 12, 5, 23, 22, 36, 12, 18, 25, 14, 27, 28, 26, 12, 15, 46, 42, 18, 5, 6, 2, 36, 5, 2, 13, 6, 10, 8, 36, 38, 9, 9, 2, 7, 8, 58, 4, 6, 4, 4, 3, 104, 12, 2, 9, 2, 5, 2, 9, 8, 23, 2, 15, 1, 1, 1, 42, 78, 7, 1, 1, 2, 11, 10, 3, 2, 5, 1, 14, 1, 1, 1, 1, 1, 1, 1, 36, 21, 8, 2, 3, 3, 13, 6, 36, 1, 25, 1, 16, 47, 13, 5, 13, 20, 1, 5, 1, 2, 11, 2, 4, 17, 8, 4, 3, 6, 4, 76, 15, 4, 5, 43, 3, 2, 40, 11, 5, 14, 3, 1, 3, 3, 6, 33, 44, 8, 89, 1, 53, 2, 8, 13, 33, 18, 76, 21, 4, 1, 5, 1, 5, 15, 15, 28, 2, 6, 14, 23, 4, 64, 7, 1, 99, 4, 5, 4, 107, 3, 9, 23, 16, 26, 48, 6, 13, 1, 23, 1, 6, 4, 14, 3, 11, 11, 1, 7, 36, 67, 2, 105, 10, 11, 30, 11, 8, 4, 11, 4, 5, 23, 11, 3, 35, 3, 28, 11, 6, 8, 22, 19, 2, 22, 19, 15, 14, 13, 12, 30, 8, 3, 13, 1, 13, 11, 31, 10, 17, 35, 68, 121, 2, 22, 2, 1, 7, 14, 18, 13, 31, 65, 43, 8, 17, 21, 21, 19, 19, 9, 2, 14, 5, 6, 3, 38, 27, 19, 25, 60, 5, 36, 22, 8, 5, 28, 5, 19, 4, 4, 8, 1, 1, 10, 4, 2, 7, 5, 4, 5, 13, 2, 2, 12, 3, 7, 14, 47, 7, 5, 5, 17, 5, 2, 4, 20, 2, 2, 23, 15, 22, 60, 22, 4, 9, 17, 4, 3, 31, 1, 2, 4, 2, 29, 1, 1, 5, 32, 5, 5, 1, 2, 4, 21, 10, 3, 2, 3, 35, 106, 7, 18, 4, 1, 3, 18, 4, 1, 2, 8, 9, 1, 15, 9, 11, 3, 10, 5, 1, 13, 28, 57, 8, 6, 7, 13, 1, 6, 3, 2, 51, 5, 51, 74, 4, 8, 4, 9, 3, 12, 2, 5, 3, 4, 3, 12, 2, 5, 8, 1, 3, 21, 1, 21, 6, 1, 5, 259, 57, 1, 11, 9, 3, 4, 50, 35, 4, 9, 4, 1, 5, 2, 4, 9, 10, 3, 20, 79, 24, 41, 7, 6, 2, 4, 4, 9, 5, 3, 27, 79, 3, 3, 4, 21, 3, 1, 4, 1, 138, 4, 2, 1, 3, 3, 2, 1, 1, 1, 10, 75, 38, 24, 12, 9, 1, 15, 1, 1, 2, 2, 1, 4, 1, 2, 63, 3, 2, 2, 18, 19, 10, 3, 6, 64, 18, 2, 1, 4, 13, 3, 1, 4, 112, 22, 28, 31, 3, 20, 2, 80, 10, 29, 5, 3, 62, 75, 47, 21, 3, 111, 36, 1, 7, 86, 63, 21, 3, 3, 147, 43, 13, 21, 20, 6, 34, 36, 45, 5, 11, 2, 19, 16, 12, 14, 10, 3, 18, 18, 14, 6, 31, 3, 10, 45, 14, 5, 5, 22, 2, 5, 3, 1, 2, 7, 1, 22, 42, 193, 39, 6, 1, 2, 6, 51, 4, 6, 3, 2, 1, 21, 3, 2, 3, 1, 3, 2, 8, 22, 5, 6, 106, 25, 9, 16, 30, 9, 107, 4, 2, 1, 5, 10, 25, 75, 23, 11, 2, 16, 2, 6, 1, 6, 4, 3, 15, 2, 10, 2, 25, 11, 2, 11, 1, 1, 3, 1, 1, 24, 22, 3, 3, 1, 9, 3, 1, 1, 1, 3, 6, 2, 1, 5, 21, 220, 5, 10, 15, 8, 30, 2, 10, 10, 2, 1, 8, 32, 16, 2, 18, 3, 9, 2, 5, 1, 43, 6, 8, 1, 2, 4, 2, 11, 7, 46, 6, 3, 1, 2, 1, 2, 3, 3, 9, 4, 3, 1, 7, 9, 6, 44, 17, 1, 42, 104, 22, 133, 17, 4, 9, 3, 1, 6, 7, 21, 2, 3, 14, 2, 6, 10, 6, 4, 3, 2, 8, 14, 30, 6, 35, 1, 11, 53, 32, 31, 19, 19, 11, 31, 6, 202, 11, 4, 4, 19, 5, 43, 3, 6, 20, 2, 28, 4, 2, 21, 2, 8, 2, 1, 1, 2, 1, 58, 19, 108, 8, 18, 17, 24, 1, 17, 16, 2, 126, 1, 38, 1, 2, 1, 13, 30, 45, 14, 3, 2, 10, 3, 6, 15, 5, 14, 27, 31, 1, 14, 3, 1, 4, 2, 9, 1, 7, 58, 29, 17, 4, 18, 4, 48, 6, 1, 3, 1, 24, 4, 3, 1, 2, 11, 79, 10, 7, 2, 2, 21, 11, 11, 7, 3, 10, 14, 17, 5, 11, 11, 37, 6, 5, 4, 9, 2, 7, 52, 36, 20, 5, 30, 19, 23, 6, 5, 7, 3, 31, 5, 12, 35, 9, 28, 49, 10, 3, 29, 19, 3, 32, 37, 1, 3, 9, 3, 19, 125, 3, 1, 4, 2, 3, 1, 1, 10, 6, 4, 12, 12, 2, 12, 9, 2, 4, 1, 4, 5, 1, 2, 6, 22, 103, 39, 3, 21, 7, 11, 18, 27, 2, 17, 57, 1, 7, 1, 1, 8, 25, 13, 2, 25, 35, 65, 66, 6, 22, 11, 1, 6, 8, 4, 13, 20, 4, 9, 1, 1, 11, 20, 4, 21, 3, 10, 20, 1, 15, 7, 1, 4, 1, 6, 52, 2, 10, 1, 1, 1, 5, 13, 2, 4, 4, 5, 1, 3, 6, 1, 2, 2, 8, 14, 1, 29, 37, 15, 17, 12, 10, 30, 74, 22, 57, 48, 29, 21, 15, 17, 12, 12, 29, 15, 10, 8, 14, 10, 20, 11, 15, 8, 27, 11, 22, 1, 1, 2, 4, 27, 6, 4, 2, 1, 1, 8, 29, 6, 26, 26, 1, 1, 3, 4, 23, 10, 2, 8, 2, 1, 11, 35, 1, 2, 7, 3, 3, 3, 20, 1, 7, 1, 16, 1, 1, 3, 12, 7, 2, 1, 6, 1, 10, 1, 30, 12, 4, 18, 19, 27, 44, 29, 38, 7, 14, 4, 1, 4, 1, 6, 1, 3, 3, 42, 5, 9, 2, 3, 5, 1, 4, 5, 35, 10, 11, 1, 2, 4, 1, 12, 8, 4, 85, 28, 8, 4, 2, 3, 45, 13, 59, 8, 1, 32, 1, 6, 2, 3, 10, 7, 2, 1, 1, 32, 8, 1, 18, 10, 5, 14, 2, 4, 9, 1, 1, 53, 2, 31, 18, 19, 2, 1, 4, 6, 2, 1, 13, 32, 1, 1, 5, 17, 23, 12, 4, 62, 1, 4, 24, 10, 12, 21, 7, 88, 6, 11, 1, 43, 2, 1, 1, 13, 1, 2, 2, 13, 45, 5, 8, 2, 10, 38, 11, 4, 21, 13, 3, 41, 4, 19, 7, 5, 8, 1, 6, 3, 11, 1, 17, 5, 23, 53, 14, 9, 1, 24, 51, 18, 6, 9, 3, 2, 22, 3, 22, 16, 4, 16, 18, 3, 17, 54, 1, 3, 29, 30, 6, 6, 1, 2, 11, 11, 11, 1, 1, 7, 5, 2, 2, 2, 1, 2, 4, 161, 3, 1, 6, 4, 1, 2, 3, 18, 19, 12, 1, 6, 4, 4, 1, 5, 2, 9, 29, 2, 1, 1, 2, 17, 13, 3, 37, 10, 1, 2, 1, 2, 81, 38, 3, 3, 1, 11, 3, 12, 6, 22, 1, 23, 18, 2, 2, 8, 11, 10, 13, 2, 1, 2, 2, 1, 2, 1, 1, 1, 1, 1, 13, 3, 62, 8, 2, 3, 11, 14, 8, 5, 4, 3, 14, 7, 24, 9, 15, 20, 1, 12, 5, 5, 2, 2, 5, 3, 2, 3, 19, 24, 22, 3, 16, 35, 29, 19, 9, 14, 10, 3, 3, 1, 12, 4, 2, 3, 2, 56, 2, 1, 2, 2, 5, 13, 4, 4, 5, 7, 3, 23, 2, 3, 7, 8, 27, 7, 1, 5, 3, 22, 13, 16, 2, 13, 23, 1, 7, 99, 43, 65, 6, 53, 1, 2, 2, 9, 3, 21, 5, 1, 3, 1, 5, 3, 4, 6, 2, 1, 2, 1, 14, 2, 37, 5, 2, 15, 5, 1, 24, 3, 127, 5, 2, 26, 4, 1, 15, 5, 2, 1, 3, 5, 29, 4, 9, 11, 6, 13, 3, 5, 1, 14, 2, 4, 5, 27, 30, 18, 1, 6, 1, 3, 4, 3, 9, 1, 1, 1, 2, 9, 2, 20, 1, 1, 1, 1, 1, 1, 12, 2, 2, 4, 3, 2, 1, 14, 34, 4, 6, 35, 27, 1, 10, 3, 11, 1, 5, 1, 1, 20, 1, 1, 3, 5, 1, 1, 2, 21, 2, 8, 99, 1, 2, 1, 3, 1, 1, 5, 1, 23, 59, 2, 3, 3, 39, 11, 4, 3, 2, 2, 2, 1, 1, 8, 2, 10, 5, 9, 5, 4, 1, 1, 6, 2, 1, 1, 1, 1, 1, 3, 1, 7, 1, 88, 69, 9, 1, 17, 3, 4, 2, 8, 16, 1, 3, 2, 8, 2, 3, 2, 43, 17, 23, 3, 1, 11, 5, 4, 1, 79, 10, 18, 14, 12, 16, 23, 1, 20, 10, 29, 5, 4, 11, 4, 16, 62, 114, 10, 14, 20, 1, 1, 36, 2, 5, 9, 20, 24, 4, 11, 95, 4, 45, 22, 32, 11, 44, 26, 11, 9, 96, 21, 4, 53, 1, 96, 15, 4, 4, 18, 73, 1, 10, 8, 13, 9, 11, 4, 2, 1, 2, 5, 1, 1, 8, 1, 21, 4, 11, 1, 5, 7, 3, 9, 3, 2, 26, 1, 1, 1, 1, 5, 4, 1, 14, 51, 4, 1, 1, 8, 5, 1, 2, 2, 1, 9, 14, 2, 24, 1, 1, 2, 3, 1, 1, 5, 6, 11, 1, 1, 6, 3, 20, 5, 1, 12, 3, 3, 1, 1, 1, 2, 1, 3, 8, 2, 33, 8, 1, 3, 6, 1, 2, 4, 30, 1, 4, 8, 3, 1, 1, 1, 5, 1, 3, 6, 3, 1, 1, 1, 3, 1, 5, 8, 4, 2, 9, 6, 2, 2, 1, 1, 1, 1, 4, 6, 1, 1, 10, 7, 5, 3, 14, 1, 3, 5, 4, 4, 6, 3, 1, 37, 2, 11, 132, 10, 2, 4, 14, 1, 6, 30, 2, 3, 17, 37, 1, 71, 10, 2, 3, 1, 5, 7, 49, 6, 3, 1, 3, 1, 32, 3, 3, 2, 7, 3, 3, 5, 2, 10, 1, 3, 1, 3, 9, 7, 2, 3, 4, 3, 2, 28, 2, 1, 5, 3, 174, 55, 42, 4, 2, 5, 4, 1, 28, 13, 1, 11, 14, 4, 1, 12, 4, 1, 2, 4, 8, 1, 20, 33, 6, 1, 4, 1, 17, 3, 1, 1, 2, 6, 7, 6, 2, 29, 6, 35, 4, 40, 55, 2, 9, 1, 13, 3, 2, 3, 3, 6, 6, 19, 2, 1, 1, 1, 3, 4, 1, 1, 1, 1, 2, 2, 1, 11, 2, 5, 3, 1, 1, 1, 1, 4, 5, 7, 1, 9, 1, 7, 2, 4, 3, 3, 3, 1, 4, 3, 2, 19, 47, 18, 7, 1, 5, 2, 2, 2, 1, 1, 5, 7, 1, 13, 1, 1, 1, 1, 6, 1, 1, 6, 1, 4, 4, 4, 3, 6, 4, 24, 2, 1, 4, 1, 4, 3, 1, 21, 1, 3, 3, 4, 4, 5, 2, 1, 2, 2, 2, 5, 3, 1, 1, 2, 1, 5, 1, 1, 2, 2, 2, 5, 2, 5, 4, 1, 1, 1, 1, 3, 14, 5, 1, 4, 3, 1, 9, 11, 1, 1, 1, 2, 5, 8, 1, 2, 1, 1, 1, 3, 40, 3, 1, 2, 1, 1, 4, 7, 2, 1, 1, 1, 1, 1, 1, 3, 1, 1, 1, 1, 2, 3, 1, 8, 1, 5, 2, 14, 1, 23, 4, 2, 1, 3, 4, 2, 2, 1, 1, 1, 31, 14, 1, 36, 7, 44, 1, 1, 6, 2, 6, 1, 5, 1, 3, 5, 4, 1, 4, 2, 1, 2, 10, 1, 2, 3, 4, 8, 10, 1, 9, 3, 1, 4, 1, 3, 2, 1, 1, 2, 4, 1, 6, 18, 26, 3, 3, 4, 1, 5, 2, 1, 5, 3, 1, 1, 39, 2, 49, 2, 3, 5, 1, 1, 6, 8, 1, 3, 2, 31, 6, 1, 2, 3, 1, 1, 2, 5, 3, 1, 2, 2, 1, 2, 1, 2, 1, 3, 7, 1, 4, 1, 3, 2, 3, 1, 1, 4, 2, 3, 37, 2, 3, 4, 7, 1, 4, 4, 1, 2, 7, 2, 2, 6, 6, 1, 2, 5, 2, 2, 1, 11, 2, 46, 1, 3, 1, 19, 2, 2, 1, 2, 3, 2, 8, 2, 2, 1, 1, 14, 10, 39, 1, 1, 1, 23, 13, 1, 1, 3, 1, 20, 5, 5, 11, 24, 1, 4, 93, 8, 20, 2, 130, 10, 4, 7, 23, 1, 1, 105, 1, 4, 2, 26, 4, 10, 3, 5, 10, 4, 2, 3, 1, 2, 1, 3, 5, 1, 4, 1, 8, 7, 1, 2, 1, 2, 7, 2, 5, 2, 1, 12, 1, 1, 130, 1, 5, 9, 2, 5, 9, 3, 2, 125, 13, 37, 2, 3, 5, 69, 15, 2, 1, 1, 1, 2, 3, 10, 200, 10, 114, 1, 1, 2, 1, 1, 2, 1, 1, 8, 6, 49, 3, 29, 14, 27, 4, 3, 1, 5, 1, 1, 10, 10, 4, 2, 1, 4, 1, 1, 5, 1, 1, 1, 1, 5, 5, 16, 2, 2, 3, 8, 4, 1, 1, 59, 3, 1, 1, 23, 7, 10, 2, 1, 3, 2, 8, 1, 1, 1, 2, 2, 1, 3, 1, 1, 3, 3, 3, 3, 1, 2, 1, 3, 1, 1, 21, 4, 6, 4, 5, 1, 11, 3, 5, 1, 1, 6, 3, 1, 1, 3, 6, 2, 16, 2, 3, 2, 1, 11, 8, 13, 16, 1, 5, 1, 1, 3, 1, 3, 3, 12, 2, 5, 2, 1, 1, 2, 3, 3, 1, 1, 2, 1, 1, 1, 1, 4, 63, 22, 5, 6, 1, 1, 26, 1, 1, 1, 1, 1, 1, 1, 1, 1, 4, 2, 2, 1, 1, 1, 2, 6, 2, 5, 22, 4, 1, 1, 1, 4, 30, 4, 7, 1, 2, 1, 1, 1, 3, 3, 11, 1, 2, 16, 8, 10, 10, 8, 3, 3, 51, 3, 1, 1, 10, 3, 1, 1, 19, 8, 8, 11, 2, 6, 5, 4, 1, 2, 3, 1, 3, 1, 3, 8, 4, 1, 1, 2, 3, 1, 134, 1, 1, 2, 1, 5, 2, 3, 1, 1, 6, 2, 1, 3, 2, 2, 2, 52, 82, 4, 5, 5, 1, 1, 6, 5, 26, 3, 6, 1, 2, 17, 9, 2, 2, 1, 4, 6, 1, 5, 100, 12, 6, 3, 1, 1, 1, 1, 2, 2, 3, 1, 1, 21, 115, 10, 3, 1, 19, 1, 6, 2, 49, 4, 3, 16, 38, 1, 5, 1, 1, 3, 4, 5, 7, 5, 45, 5, 6, 2, 2, 12, 1, 54, 1, 8, 12, 4, 23, 5, 2, 1, 1, 1, 1, 4, 5, 6, 3, 3, 19, 6, 1, 1, 1, 1, 1, 10, 11, 3, 2, 2, 1, 1, 1, 1, 1, 2, 3, 2, 2, 6, 1, 17, 1, 12, 2, 1, 1, 1, 2, 1, 1, 1, 4, 3, 1, 1, 2, 6, 3, 3, 1, 2, 1, 15, 63, 1, 22, 8, 1, 3, 5, 2, 27, 2, 2, 1, 1, 1, 1, 1, 1, 2, 2, 2, 10, 3, 2, 2, 1, 6, 2, 5, 58, 4, 1, 24, 1, 1, 1, 48, 5, 2, 1, 1, 5, 1, 14, 1, 11, 4, 1, 1, 2, 1, 4, 5, 1, 3, 1, 1, 1, 2, 2, 1, 3, 1, 1, 1, 1, 1, 7, 3, 1, 1, 1, 3, 1, 1, 1, 1, 4, 22, 5, 11, 1, 1, 13, 5, 1, 2, 2, 3, 3, 1, 6, 24, 15, 2, 81, 1, 1, 3, 1, 1, 1, 2, 1, 2, 4, 1, 1, 1, 2, 3, 1, 1, 3, 1, 3, 1, 1, 2, 1, 1, 3, 1, 1, 31, 1, 2, 2, 10, 16, 3, 2, 8, 7, 1, 1, 1, 3, 2, 9, 1, 42, 35, 3, 1, 1, 2, 2, 1, 1, 2, 1, 4, 3, 1, 1, 4, 5, 4, 5, 15, 10, 34, 2, 3, 188, 27, 8, 35, 15, 1, 8, 1, 2, 2, 2, 1, 1, 2, 1, 5, 26, 1, 1, 1, 2, 99, 51, 15, 1, 1, 61, 1, 10, 16, 2, 2, 2, 1, 4, 1, 69, 2, 1, 2, 3, 2, 2, 1, 1, 1, 2, 3, 1, 1, 2, 1, 3, 9, 14, 4, 5, 2, 1, 1, 1, 2, 1, 1, 1, 4, 2, 1, 1, 6, 1, 10, 1, 1, 1, 1, 3, 1, 1, 3, 2, 1, 3, 2, 2, 1, 1, 2, 1, 1, 1, 15, 15, 28, 1, 2, 1, 1, 5, 3, 2, 1, 3, 5, 1, 1, 6, 32, 1, 4, 1, 2, 2, 1, 1, 2, 7, 7, 6, 3, 5, 41, 2, 3, 1, 1, 2, 2, 2, 3, 2, 1, 6, 3, 6, 2, 2, 13, 1, 2, 2, 2, 4, 3, 4, 5, 1, 1, 2, 1, 5, 3, 1, 2, 2, 7, 3, 3, 1, 1, 28, 16, 1, 4, 23, 4, 5, 4, 1, 21, 8, 1, 6, 1, 3, 1, 9, 2, 1, 4, 2, 2, 5, 2, 3, 23, 3, 1, 16, 1, 81, 1, 3, 2, 2, 2, 1, 1, 5, 1, 1, 22, 2, 1, 3, 3, 82, 9, 1, 1, 6, 50, 2, 122, 55, 4, 11, 12, 1, 22, 1, 1, 2, 3, 2, 1, 2, 1, 2, 2, 5, 1, 1, 1, 2, 3, 2, 2, 1, 1, 1, 5, 1, 1, 1, 3, 6, 23, 1, 1, 1, 3, 1, 3, 5, 2, 1, 2, 5, 2, 1, 4, 1, 1, 1, 2, 1, 2, 3, 4, 4, 1, 2, 1, 52, 24, 1, 1, 1, 1, 3, 1, 1, 1, 3, 1, 1, 4, 1, 5, 16, 6, 1, 38, 5, 141, 20, 1, 11, 5, 10, 1, 4, 1, 12, 25, 3, 2, 1, 1, 3, 3, 1, 10, 2, 6, 3, 14, 10, 4, 2, 1, 1, 2, 1, 2, 1, 5, 2, 6, 3, 8, 17, 1, 1, 1, 1, 2, 4, 2, 3, 6, 1, 4, 3, 5, 5, 13, 15, 8, 5, 1, 9, 6, 1, 1, 3, 1, 1, 3, 1, 1, 1, 1, 4, 22, 10, 3, 85, 3, 2, 4, 2, 1, 6, 1, 1, 1, 6, 4, 2, 1, 5, 2, 1, 1, 10, 21, 9, 1, 2, 1, 6, 4, 3, 2, 1, 2, 1, 2, 13, 7, 4, 9, 2, 2, 1, 5, 5, 4, 20, 2, 4, 5, 4, 3, 27, 2, 1, 1, 1, 1, 37, 4, 3, 4, 1, 2, 1, 2, 2, 4, 1, 1, 2, 1, 1, 4, 1, 1, 3, 1, 4, 2, 11, 4, 2, 51, 2, 13, 3, 4, 46, 1, 14, 111, 1, 1, 10, 3, 10, 1, 1, 2, 3, 12, 5, 10, 1, 7, 1, 2, 3, 1, 4, 2, 1, 2, 1, 10, 54, 3, 27, 1, 55, 11, 3, 34, 1, 3, 3, 30, 6, 19, 1, 2, 2, 1, 1, 2, 4, 2, 5, 10, 2, 5, 33, 1, 3, 1, 5, 5, 13, 3, 3, 1, 1, 15, 1, 5, 1, 1, 5, 7, 1, 2, 13, 3, 6, 5, 2, 2, 1, 1, 10, 1, 2, 4, 1, 26, 1, 2, 2, 1, 5, 3, 1, 5, 8, 3, 2, 4, 2, 6, 7, 7, 1, 1, 1, 1, 4, 1, 1, 8, 3, 4, 9, 7, 2, 1, 4, 2, 2, 2, 4, 5, 1, 5, 3, 4, 2, 2, 1, 1, 1, 8, 1, 1, 2, 2, 6, 33, 9, 1, 1, 2, 20, 3, 4, 4, 3, 1, 1, 1, 2, 5, 2, 6, 2, 6, 1, 1, 1, 1, 11, 4, 4, 7, 17, 2, 45, 55, 12, 5, 4, 1, 176, 8, 4, 15, 10, 16, 7, 16, 10, 6, 2, 3, 1, 13, 2, 1, 1, 1, 1, 1, 1, 1, 1, 1, 1, 1, 1, 1, 1, 1, 1, 1, 3, 3, 1, 4, 6, 3, 2, 1, 1, 3, 1, 5, 7, 2, 1, 1, 5, 1, 1, 48, 7, 10, 2, 1, 1, 11, 9, 2, 1, 1, 2, 8, 29, 3, 1, 2, 1, 5, 1, 1, 2, 1, 1, 1, 1, 3, 16, 12, 1, 4, 21, 7, 17, 9, 3, 1, 1, 13, 6, 7, 1, 1, 1, 1, 2, 1, 25, 106, 4, 6, 7, 2, 8, 1, 28, 1, 3, 3, 1, 6, 3, 3, 13, 10, 2, 1, 5, 1, 2, 1, 8, 1, 103, 7, 17, 23, 1, 2, 1, 28, 1, 16, 1, 32, 2, 7, 3, 4, 9, 3, 3, 1, 5, 22, 3, 2, 4, 1, 4, 11, 5, 1, 3, 7, 1, 2, 3, 1, 4, 1, 1, 6, 1, 6, 2, 2, 3, 1, 2, 1, 1, 1, 7, 1, 6, 1, 4, 2, 3, 1, 1, 6, 1, 3, 2, 2, 4, 2, 2, 2, 1, 4, 1, 1, 1, 7, 4, 4, 1, 1, 2, 1, 1, 1, 1, 3, 3, 5, 2, 3, 2, 2, 1, 2, 1, 1, 2, 2, 3, 3, 1, 3, 3, 2, 6, 3, 3, 5, 1, 4, 1, 1, 1, 1, 1, 1, 1, 1, 1, 1, 2, 1, 1, 3, 1, 1, 2, 1, 2, 1, 1, 1, 6, 2, 1, 6, 1, 1, 2, 1, 4, 1, 4, 3, 1, 1, 1, 1, 1, 1, 3, 5, 7, 3, 3, 4, 1, 1, 1, 3, 1, 1, 3, 1, 2, 5, 4, 6, 1, 2, 2, 2, 2, 7, 2, 1, 1, 1, 2, 2, 2, 1, 1, 3, 1, 4, 2, 2, 3, 11, 1, 1, 2, 2, 1, 1, 2, 8, 8, 3, 2, 7, 4, 1, 3, 1, 2, 4, 2, 3, 2, 3, 2, 5, 1, 4, 15, 1, 4, 1, 3, 1, 1, 1, 1, 2, 3, 1, 1, 2, 1, 3, 1, 2, 1, 1, 1, 9, 3, 3, 2, 81, 25, 1, 4, 2, 15, 2, 84, 5, 7, 20, 4, 10, 45, 2, 6, 1, 1, 1, 1, 1, 1, 1, 1, 1, 3, 1, 1, 2, 1, 1, 45, 1, 4, 2, 1, 1, 2, 3, 3, 14, 4, 3, 1, 9, 2, 2, 1, 2, 3, 1, 37, 37, 4, 5, 33, 1, 3, 1, 7, 1, 2, 1, 2, 1, 2, 1, 3, 5, 5, 1, 2, 2, 1, 3, 4, 1, 3, 1, 6, 2, 2, 4, 1, 2, 3, 4, 46, 13, 1, 1, 8, 84, 17, 8, 34, 1, 4, 57, 17, 2, 1, 3, 1, 4, 74, 7, 2, 1, 1, 1, 1, 1, 1, 1, 1, 1, 1, 2, 2, 1, 1, 1, 1, 2, 1, 1, 1, 1, 1, 2, 1, 1, 4, 1, 1, 1, 1, 2, 1, 1, 13, 29, 58, 1, 1, 1, 4, 1, 40, 1, 2, 22, 8, 18, 1, 2, 1, 1, 1, 1, 1, 7, 1, 2, 1, 1, 4, 1, 3, 5, 1, 1, 1, 1, 1, 1, 1, 1, 2, 11, 14, 1, 11, 4, 5, 1, 1, 26, 70, 5, 4, 2, 1, 1, 1, 1, 1, 4, 11, 4, 18, 2, 12, 1, 7, 20, 2, 1, 1, 2, 2, 4, 1, 2, 1, 3, 2, 4, 3, 1, 1, 13, 4, 45, 19, 2, 1, 1, 33, 21, 126, 1, 1, 7, 14, 3, 8, 37, 35, 8, 2, 2, 2, 19, 1, 17, 34, 12, 1, 2, 1, 2, 4, 1, 1, 1, 1, 1, 2, 1, 3, 1, 1, 5, 1, 2, 1, 1, 1, 4, 10, 1, 1, 3, 4, 1, 1, 1, 3, 1, 2, 1, 3, 1, 1, 1, 1, 4, 1, 1, 1, 3, 2, 1, 1, 2, 1, 1, 1, 1, 1, 1, 1, 1, 1, 1, 3, 1, 1, 1, 2, 2, 1, 1, 2, 1, 1, 1, 1, 1, 2, 1, 1, 1, 1, 1, 1, 2, 2, 1, 2, 6, 1, 1, 1, 1, 3, 2, 1, 1, 1, 6, 4, 1, 1, 1, 4, 1, 1, 1, 1, 2, 2, 1, 3, 1, 1, 2, 1, 1, 1, 1, 3, 2, 4, 1, 5, 1, 1, 1, 2, 1, 2, 2, 1, 2, 1, 1, 1, 1, 1, 5, 1, 1, 1, 1, 1, 2, 1, 2, 2, 2, 1, 1, 1, 2, 1, 1, 1, 1, 1, 3, 1, 1, 1, 1, 1, 1, 3, 1, 1, 1, 1, 3, 1, 1, 1, 1, 4, 4, 2, 2, 3, 2, 2, 1, 1, 1, 2, 5, 1, 2, 2, 13, 1, 1, 5, 1, 18, 1, 4, 2, 1, 1, 2, 1, 1, 3, 1, 1, 1, 4, 1, 8, 1, 1, 1, 1, 1, 1, 1, 12, 1, 1, 1, 1, 1, 1, 2, 1, 1, 1, 1, 3, 2, 1, 1, 1, 2, 2, 1, 2, 1, 1, 3, 1, 3, 1, 4, 3, 3, 2, 2, 2, 2, 1, 1, 2, 1, 1, 4, 6, 1, 3, 1, 1, 1, 2, 2, 1, 1, 1, 1, 2, 1, 6, 1, 2, 1, 1, 1, 5, 21, 1, 1, 17, 1, 2, 1, 1, 2, 1, 15, 1, 11, 1, 1, 1, 3, 3, 2, 1, 1, 4, 32, 1, 1, 1, 7, 5, 1, 2, 1, 2, 8, 1, 6, 9, 1, 6, 1, 14, 5, 1, 18, 1, 1, 4, 3, 8, 5, 1, 1, 1, 1, 1, 2, 1, 1, 7, 3, 1, 2, 14, 1, 1, 65, 2, 1, 3, 32, 1, 47, 3, 29, 34, 8, 1, 7, 9, 25, 1, 1, 2, 1, 1, 1, 2, 3, 1, 1, 2, 1, 1, 1, 1, 2, 2, 1, 2, 1, 4, 10, 2, 2, 1, 1, 2, 2, 2, 20, 1, 4, 2, 1, 1, 3, 2, 3, 1, 1, 2, 1, 1, 1, 27, 2, 1, 24, 1, 3, 25, 1, 1, 2, 1, 1, 1, 19, 1, 1, 2, 1, 3, 1, 1, 1, 2, 3, 1, 1, 9, 13, 1, 1, 1, 1, 1, 1, 1, 1, 2, 2, 1, 1, 6, 1, 1, 1, 1, 2, 2, 1, 1, 1, 2, 1, 1, 1, 1, 1, 2, 2, 1, 2, 80, 1, 5, 8, 1, 1, 1, 2, 1, 1, 1, 2, 2, 1, 3, 2, 1, 6, 1, 1, 34, 1, 2, 1, 2, 2, 7, 1, 10, 3, 48, 7, 1, 1, 1, 1, 4, 62, 2, 2, 1, 2, 1, 28, 1, 6, 3, 19, 4, 1, 49, 3, 2, 1, 1, 1, 105, 2, 1, 2, 5, 7, 1, 5, 1, 4, 1, 1, 1, 2, 40, 9, 1, 3, 15, 5, 42, 2, 1, 2, 22, 3, 3, 2, 12, 4, 1, 6, 1, 1, 40, 1, 15, 2, 2, 2, 2, 5, 4, 1, 10, 2, 1, 1, 51, 7, 1, 6, 1, 1, 11, 1, 18, 14, 8, 6, 31, 1, 7, 1, 8, 1, 2, 4, 1, 5, 2, 5, 13, 2, 1, 2, 11, 21, 10, 20, 1, 1, 19, 1, 8, 2, 1, 3, 28, 29, 3, 1, 5, 4, 10, 2, 1, 1, 29, 2, 1, 27, 2, 3, 1, 1, 3, 1, 1, 1, 4, 3, 18, 1, 5, 1, 1, 2, 1, 2, 1, 13, 6, 2, 3, 1, 1, 2, 16, 1, 4, 20, 2, 7, 59, 1, 42, 5, 1, 4, 1, 1, 2, 3, 16, 1, 3, 49, 23, 11, 1, 1, 4, 1, 2, 1, 24, 3, 5, 3, 1, 12, 2, 3, 2, 1, 3, 1, 4, 3, 1, 1, 4, 1, 8, 3, 1, 1, 2, 3, 15, 1, 1, 1, 1, 1, 1, 1, 1, 1, 1, 3, 1, 8, 1, 1, 1, 2, 1, 2, 1, 2, 1, 4, 1, 1, 3, 1, 1, 1, 1, 2, 5, 2, 7, 2, 1, 9, 6, 20, 1, 73, 3, 40, 1, 28, 5, 2, 1, 1, 1, 5, 1, 1, 37, 2, 1, 1, 4, 25, 1, 10, 3, 1, 1, 1, 14, 5, 2, 1, 1, 1, 1, 4, 6, 1, 4, 4, 4, 1, 1, 2, 21, 3, 2, 2, 1, 15, 2, 1, 35, 22, 5, 1, 25, 1, 1, 7, 4, 10, 1, 21, 59, 2, 18, 2, 6, 2, 4, 2, 1, 19, 1, 1, 4, 6, 7, 2, 1, 13, 1, 1, 1, 1, 76, 1, 16, 1, 3, 1, 2, 1, 4, 10, 4, 17, 18, 3, 40, 5, 1, 24, 1, 4, 1, 2, 1, 7, 2, 2, 1, 2, 1, 1, 4, 1, 1, 6, 1, 2, 1, 11, 1, 33, 5, 8, 1, 5, 1, 2, 1, 1, 1, 3, 1, 1, 11, 6, 1, 12, 1, 9, 1, 1, 2, 1, 1, 2, 1, 1, 8, 2, 6, 44, 52, 1, 1, 84, 2, 1, 1, 2, 1, 1, 1, 1, 1, 9, 3, 15, 3, 4, 43, 52, 4, 1, 1, 1, 3, 7, 1, 7, 9, 1, 3, 2, 1, 1, 61, 3, 13, 1, 1, 13, 1, 1, 2, 4, 2, 2, 37, 2, 9, 5, 1, 4, 1, 6, 4, 1, 1, 3, 3, 2, 2, 1, 1, 11, 1, 1, 1, 3, 1, 1, 1, 1, 1, 1, 4, 2, 1, 4, 3, 1, 3, 3, 1, 4, 2, 2, 2, 2, 1, 4, 59, 4, 2, 2, 1, 7, 5, 8, 5, 1, 1, 1, 1, 1, 1, 42, 2, 1, 1, 2, 1, 5, 1, 1, 20, 2, 59, 1, 3, 2, 1, 2, 4, 2, 1, 1, 7, 1, 1, 2, 14, 18, 8, 2, 11, 1, 13, 1, 10, 1, 2, 1, 1, 1, 6, 3, 1, 3, 4, 1, 2, 1, 1, 23, 1, 5, 1, 11, 1, 1, 9, 4, 24, 9, 14, 2, 1, 13, 11, 33, 5, 1, 1, 1, 2, 5, 25, 1, 3, 2, 2, 8, 1, 3, 13, 6, 1, 2, 1, 12, 7, 7, 25, 2, 5, 31, 1, 38, 7, 5, 1, 1, 2, 23, 1, 37, 3, 4, 61, 2, 1, 2, 3, 1, 1, 44, 1, 3, 3, 1, 4, 1, 1, 2, 1, 1, 1, 1, 9, 1, 14, 20, 4, 1, 9, 2, 4, 1, 1, 4, 1, 2, 1, 19, 1, 4, 1, 8, 2, 31, 2, 2, 1, 2, 6, 21, 2, 3, 12, 15, 7, 14, 1, 3, 1, 9, 4, 5, 1, 1, 1, 6, 1, 1, 1, 8, 1, 1, 22, 7, 5, 5, 49, 8, 1, 2, 1, 6, 8, 2, 4, 1, 1, 1, 1, 8, 15, 3, 2, 5, 42, 3, 9, 1, 4, 2, 1, 4, 72, 2, 12, 2, 1, 5, 19, 7, 26, 7, 4, 2, 1, 2, 1, 1, 3, 4, 16, 1, 1, 3, 3, 2, 2, 19, 2, 1, 1, 2, 6, 1, 6, 3, 18, 38, 1, 1, 1, 1, 1, 1, 11, 1, 6, 6, 2, 1, 1, 4, 6, 2, 8, 11, 1, 8, 2, 5, 3, 2, 6, 3, 1, 1, 1, 1, 1, 1, 121, 2, 1, 1, 1, 18, 2, 3, 1, 1, 1, 2, 1, 22, 4, 2, 5, 6, 2, 3, 3, 5, 2, 1, 1, 1, 1, 2, 75, 4, 1, 31, 11, 1, 2, 6, 2, 1, 10, 1, 1, 1, 3, 24, 1, 1, 1, 5, 2, 2, 33, 1, 2, 1, 1, 1, 1, 12, 1, 1, 1, 3, 6, 17, 76, 18, 19, 1, 13, 1, 1, 1, 5, 1, 4, 1, 4, 1, 3, 1, 6, 1, 5, 2, 1, 1, 1, 1, 26, 3, 14, 2, 3, 3, 1, 1, 3, 3, 12, 1, 1, 22, 1, 3, 1, 3, 19, 3, 1, 1, 1, 4, 9, 4, 1, 1, 30, 3, 2, 3, 2, 1, 2, 1, 1, 1, 1, 1, 4, 1, 4, 2, 1, 7, 2, 3, 1, 4, 4, 5, 2, 1, 1, 6, 13, 3, 3, 2, 1, 3, 1, 1, 1, 10, 3, 6, 8, 6, 4, 52, 17, 14, 1, 2, 2, 2, 3, 1, 1, 2, 2, 1, 3, 1, 1, 4, 11, 11, 13, 2, 1, 8, 1, 1, 1, 3, 1, 2, 1, 4, 1, 1, 6, 2, 2, 1, 5, 36, 10, 4, 1, 1, 3, 11, 17, 1, 30, 13, 7, 1, 2, 1, 1, 1, 2, 6, 2, 2, 5, 1, 1, 5, 1, 14, 1, 1, 2, 12, 1, 1, 1, 5, 1, 1, 4, 1, 7, 1, 2, 3, 2, 1, 2, 12, 2, 4, 3, 1, 8, 2, 6, 1, 2, 2, 5, 1, 5, 1, 1, 1, 5, 1, 1, 1, 1, 1, 1, 16, 9, 3, 7, 3, 14, 4, 1, 1, 5, 1, 1, 2, 4, 2, 14, 4, 1, 1, 5, 2, 10, 10, 1, 11, 1, 59, 7, 2, 4, 28, 3, 17, 1, 2, 51, 1, 1, 1, 15, 1, 4, 13, 5, 1, 4, 6, 1, 1, 2, 1, 1, 3, 61, 1, 1, 1, 3, 1, 44, 5, 1, 1, 2, 2, 1, 9, 6, 2, 2, 26, 1, 2, 4, 12, 1, 1, 2, 5, 7, 6, 1, 1, 4, 1, 1, 45, 1, 4, 2, 1, 29, 1, 1, 1, 7, 1, 1, 1, 4, 1, 1, 1, 53, 7, 1, 6, 1, 1, 1, 1, 5, 1, 3, 2, 1, 3, 1, 1, 2, 2, 1, 1, 2, 3, 1, 1, 1, 1, 1, 7, 6, 1, 4, 3, 1, 7, 8, 1, 2, 9, 4, 3, 4, 9, 3, 2, 1, 7, 1, 1, 3, 1, 1, 1, 5, 13, 4, 2, 1, 1, 3, 7, 1, 7, 1, 37, 1, 6, 1, 1, 1, 1, 3, 6, 1, 1, 1, 1, 6, 1, 10, 26, 2, 1, 1, 2, 1, 2, 2, 6, 1, 4, 2, 23, 1, 1, 2, 1, 17, 1, 2, 2, 6, 3, 2, 1, 5, 1, 1, 1, 1, 1, 19, 1, 1, 1, 1, 2, 3, 4, 2, 5, 1, 1, 1, 1, 1, 1, 67, 4, 40, 7, 2, 1, 3, 1, 2, 5, 9, 1, 5, 2, 17, 2, 6, 1, 1, 1, 1, 1, 1, 2, 1, 1, 1, 1, 1, 1, 4, 4, 1, 1, 2, 3, 1, 5, 4, 2, 3, 1, 1, 2, 1, 2, 3, 51, 3, 1, 3, 3, 6, 8, 2, 1, 1, 1, 1, 2, 3, 2, 1, 2, 2, 1, 1, 20, 7, 4, 1, 4, 2, 4, 3, 2, 1, 1, 1, 4, 3, 1, 1, 1, 3, 1, 2, 1, 1, 10, 1, 33, 3, 2, 3, 2, 30, 1, 6, 1, 1, 1, 1, 1, 1, 1, 3, 1, 4, 1, 2, 2, 1, 12, 29, 6, 1, 5, 1, 1, 2, 4, 4, 1, 3, 2, 4, 4, 1, 4, 1, 2, 1, 1, 1, 8, 1, 1, 2, 2, 1, 3, 3, 12, 42, 2, 1, 6, 5, 1, 1, 2, 2, 1, 2, 2, 1, 1, 1, 4, 1, 6, 16, 111, 5, 1, 2, 1, 8, 1, 4, 6, 2, 1, 4, 12, 1, 1, 3, 5, 1, 4, 1, 1, 7, 1, 1, 9, 26, 2, 1, 2, 1, 2, 1, 1, 1, 4, 2, 1, 1, 6, 2, 1, 2, 4, 43, 17, 14, 2, 1, 1, 1, 2, 1, 1, 1, 6, 1, 2, 1, 1, 4, 1, 1, 2, 1, 1, 5, 2, 10, 1, 3, 1, 1, 2, 1, 1, 4, 3, 1, 18, 1, 2, 1, 2, 5, 23, 11, 34, 1, 1, 6, 5, 2, 3, 1, 1, 33, 40, 21, 1, 1, 11, 1, 1, 1, 2, 1, 4, 1, 1, 3, 4, 1, 7, 1, 2, 22, 13, 2, 2, 3, 1, 1, 4, 6, 4, 1, 1, 1, 1, 6, 8, 1, 1, 1, 1, 1, 1, 8, 1, 1, 2, 1, 1, 1, 1, 8, 2, 1, 1, 2, 2, 1, 1, 19, 1, 1, 6, 1, 1, 1, 8, 10, 1, 1, 1, 5, 4, 1, 1, 8, 5, 2, 7, 1, 2, 12, 1, 1, 5, 2, 3, 8, 4, 1, 1, 1, 5, 3, 1, 2, 1, 3, 4, 24, 2, 6, 1, 1, 4, 9, 1, 4, 2, 6, 2, 1, 1, 1, 5, 8, 1, 4, 5, 6, 14, 6, 6, 9, 1, 3, 2, 1, 1, 5, 1, 3, 1, 8, 4, 1, 1, 10, 21, 1, 1, 1, 12, 1, 3, 1, 1, 6, 28, 2, 4, 3, 12, 1, 10, 1, 1, 8, 9, 2, 3, 1, 1, 1, 11, 4, 1, 1, 1, 1, 1, 1, 34, 15, 22, 14, 2, 1, 2, 1, 1, 3, 1, 9, 3, 2, 24, 3, 15, 6, 1, 1, 1, 1, 1, 2, 3, 1, 1, 1, 1, 3, 1, 1, 2, 1, 1, 1, 1, 1, 1, 1, 3, 1, 2, 1, 1, 8, 16, 1, 46, 1, 5, 1, 5, 9, 2, 3, 13, 1, 1, 6, 1, 1, 3, 2, 1, 1, 1, 5, 5, 1, 9, 3, 2, 6, 3, 1, 1, 7, 2, 3, 1, 4, 2, 2, 1, 7, 1, 15, 1, 2, 2, 1, 5, 3, 2, 1, 1, 1, 2, 1, 1, 1, 1, 1, 1, 1, 2, 4, 1, 38, 1, 48, 7, 26, 1, 1, 1, 1, 2, 9, 5, 16, 2, 1, 1, 1, 4, 1, 1, 1, 1, 1, 1, 3, 2, 2, 1, 2, 1, 2, 1, 1, 1, 1, 1, 27, 2, 2, 10, 1, 1, 1, 1, 1, 4, 1, 5, 1, 1, 1, 1, 1, 1, 1, 1, 1, 3, 1, 1, 1, 3, 2, 2, 1, 1, 5, 8, 2, 1, 3, 1, 14, 4, 1, 1, 1, 4, 2, 1, 3, 6, 13, 2, 1, 1, 1, 3, 7, 1, 3, 2, 2, 1, 7, 6, 1, 1, 1, 4, 13, 5, 1, 3, 16, 2, 1, 1, 1, 2, 26, 1, 6, 2, 1, 1, 2, 1, 1, 13, 1, 2, 1, 2, 5, 3, 3, 1, 1, 1, 10, 1, 3, 1, 1, 1, 1, 20, 1, 5, 1, 2, 1, 3, 1, 1, 1, 1, 1, 1, 4, 3, 9, 1, 1, 1, 1, 1, 1, 1, 24, 6, 1, 1, 3, 1, 1, 2, 2, 2, 2, 4, 1, 1, 2, 1, 7, 1, 2, 20, 2, 1, 2, 1, 1, 1, 4, 10, 1, 3, 1, 14, 6, 1, 1, 4, 1, 1, 2, 1, 1, 2, 5, 1, 1, 19, 9, 1, 1, 1, 1, 1, 1, 2, 2, 1, 14, 1, 1, 1, 2, 1, 4, 4, 1, 1, 19, 22, 9, 2, 22, 2, 1, 1, 3, 2, 2, 5, 1, 7, 1, 1, 1, 5, 1, 2, 1, 1, 1, 1, 8, 1, 1, 1, 2, 1, 1, 1, 1, 25, 1, 1, 1, 1, 1, 11, 1, 1, 7, 1, 1, 1, 1, 8, 44, 4, 4, 6, 1, 1, 1, 1, 1, 1, 1, 2, 1, 1, 1, 1, 1, 1, 1, 4, 1, 2, 1, 1, 3, 1, 1, 1, 1, 1, 1, 1, 1, 2, 1, 2, 2, 1, 1, 1, 1, 1, 1, 8, 1, 1, 2, 4, 1, 1, 1, 4, 3, 3, 2, 1, 2, 1, 2, 1, 1, 4, 4, 1, 3, 1, 5, 2, 5, 1, 2, 3, 3, 2, 1, 15, 1, 3, 1, 1, 1, 3, 12, 21, 1, 5, 1, 1, 1, 1, 1, 4, 20, 3, 1, 1, 1, 4, 2, 2, 1, 1, 4, 3, 5, 10, 1, 6, 1, 11, 3, 1, 2, 7, 1, 1, 16, 4, 16, 14, 2, 2, 8, 3, 10, 3, 3, 2, 1, 2, 1, 1, 4, 3, 1, 1, 4, 1, 1, 6, 2, 5, 1, 1, 1, 3, 2, 1, 3, 1, 1, 1, 1, 1, 2, 2, 3, 5, 1, 1, 4, 2, 1, 1, 1, 1, 15, 1, 1, 1, 1, 1, 1, 1, 1, 1, 1, 29, 2, 10, 1, 1, 11, 3, 2, 1, 1, 4, 2, 5, 2, 1, 1, 2, 1, 1, 10, 1, 2, 1, 2, 3, 1, 1, 12, 2, 11, 1, 1, 1, 2, 11, 21, 1, 1, 1, 1, 2, 3, 1, 1, 6, 2, 1, 1, 1, 26, 22, 3, 1, 1, 5, 12, 1, 8, 29, 1, 1, 1, 1, 16, 7, 25, 1, 1, 4, 1, 2, 8, 1, 9, 1, 7, 1, 1, 1, 1, 1, 1, 1, 1, 3, 1, 1, 3, 1, 1, 1, 1, 2, 3, 11, 1, 1, 1, 1, 1, 1, 3, 1, 1, 1, 1, 3, 4, 1, 1, 3, 13, 6, 1, 5, 4, 1, 1, 1, 1, 4, 1, 1, 1, 1, 1, 1, 1, 35, 1, 43, 1, 6, 5, 1, 1, 1, 1, 6, 3, 1, 2, 2, 1, 17, 1, 6, 1, 1, 1, 1, 1, 1, 3, 6, 1, 3, 1, 1, 2, 9, 1, 1, 2, 1, 1, 1, 1, 2, 4, 1, 1, 7, 24, 7, 2, 6, 1, 3, 3, 5, 1, 6, 1, 1, 3, 26, 7, 2, 1, 6, 1, 1, 1, 1, 1, 8, 5, 8, 15, 1, 7, 1, 1, 5, 1, 3, 1, 2, 1, 6, 28, 25, 1, 1, 8, 1, 1, 1, 1, 1, 1, 2, 2, 2, 1, 37, 1, 2, 1, 2, 2, 1, 1, 1, 1, 2, 1, 2, 3, 3, 1, 3, 1, 1, 1, 1, 2, 3, 1, 3, 3, 1, 3, 1, 3, 4, 1, 1, 7, 1, 2, 1, 1, 2, 2, 9, 2, 1, 1, 1, 1, 1, 1, 5, 4, 1, 10, 1, 3, 1, 8, 2, 2, 1, 1, 13, 21, 1, 1, 2, 26, 1, 2, 1, 1, 1, 3, 1, 2, 1, 1, 1, 2, 32, 3, 10, 1, 1, 1, 3, 1, 3, 1, 1, 1, 1, 12, 2, 1, 2, 1, 1, 9, 3, 1, 1, 1, 3, 1, 1, 1, 1, 1, 1, 1, 1, 10, 1, 1, 1, 1, 1, 3, 2, 2, 4, 1, 6, 13, 2, 1, 1, 6, 1, 2, 1, 7, 1, 1, 1, 1, 1, 6, 1, 1, 1, 31, 29, 1, 3, 13, 17, 6, 18, 7, 3, 1, 1, 1, 1, 1, 1, 1, 1, 1, 1, 1, 1, 1, 1, 1, 3, 4, 1, 1, 1, 1, 4, 3, 1, 1, 1, 1, 8, 2, 2, 1, 1, 1, 1, 1, 1, 1, 1, 1, 3, 1, 2, 1, 1, 1, 1, 1, 2, 1, 1, 1, 1, 2, 1, 2, 3, 2, 1, 1, 1, 1, 2, 1, 1, 1, 1, 1, 4, 1, 1, 1, 3, 1, 7, 1, 1, 2, 1, 1, 1, 1, 1, 1, 6, 1, 1, 1, 2, 1, 1, 1, 1, 6, 1, 1, 2, 1, 1, 1, 1, 25, 1, 6, 1, 5, 5, 1, 1, 1, 24, 1, 2, 4, 2, 1, 1, 1, 2, 1, 3, 1, 1, 2, 2, 3, 5, 2, 1, 4, 1, 1, 1, 1, 2, 1, 4, 1, 1, 1, 1, 1, 8, 3, 1, 1, 4, 7, 1, 2, 1, 1, 1, 1, 1, 1, 12, 1, 1, 2, 7, 2, 1, 1, 4, 1, 5, 1, 1, 1, 3, 1, 3, 3, 1, 1, 1, 1, 1, 1, 1, 1, 1, 1, 1, 1, 1, 1, 1, 1, 3, 1, 1, 1, 1, 1, 1, 1, 1, 1, 1, 1, 1, 1, 1, 1, 2, 9, 1, 1, 2, 1, 1, 1, 3, 1, 1, 1, 1, 1, 1, 1, 1, 1, 1, 1, 2, 1, 1, 1, 1, 6, 1, 1, 1, 1, 1, 1, 1, 1, 1, 1, 10, 1, 1, 1, 1, 2, 3, 3, 1, 1, 1, 1, 1, 1, 1, 3, 1, 1, 1, 1, 1, 1, 5, 1, 9, 1, 1, 1, 1, 1, 1, 1, 1, 1, 2, 2, 1, 1, 3, 1, 1, 2, 1, 1, 1, 2, 1, 1, 1, 2, 1, 1, 1, 2, 1, 2, 1, 1, 1, 1, 1, 1, 1, 1, 1, 1, 1, 1, 1, 1, 1]}],\n",
              "                        {\"bargap\": 0.1, \"height\": 400, \"plot_bgcolor\": \"#ffffff\", \"template\": {\"data\": {\"bar\": [{\"error_x\": {\"color\": \"#2a3f5f\"}, \"error_y\": {\"color\": \"#2a3f5f\"}, \"marker\": {\"line\": {\"color\": \"#E5ECF6\", \"width\": 0.5}}, \"type\": \"bar\"}], \"barpolar\": [{\"marker\": {\"line\": {\"color\": \"#E5ECF6\", \"width\": 0.5}}, \"type\": \"barpolar\"}], \"carpet\": [{\"aaxis\": {\"endlinecolor\": \"#2a3f5f\", \"gridcolor\": \"white\", \"linecolor\": \"white\", \"minorgridcolor\": \"white\", \"startlinecolor\": \"#2a3f5f\"}, \"baxis\": {\"endlinecolor\": \"#2a3f5f\", \"gridcolor\": \"white\", \"linecolor\": \"white\", \"minorgridcolor\": \"white\", \"startlinecolor\": \"#2a3f5f\"}, \"type\": \"carpet\"}], \"choropleth\": [{\"colorbar\": {\"outlinewidth\": 0, \"ticks\": \"\"}, \"type\": \"choropleth\"}], \"contour\": [{\"colorbar\": {\"outlinewidth\": 0, \"ticks\": \"\"}, \"colorscale\": [[0.0, \"#0d0887\"], [0.1111111111111111, \"#46039f\"], [0.2222222222222222, \"#7201a8\"], [0.3333333333333333, \"#9c179e\"], [0.4444444444444444, \"#bd3786\"], [0.5555555555555556, \"#d8576b\"], [0.6666666666666666, \"#ed7953\"], [0.7777777777777778, \"#fb9f3a\"], [0.8888888888888888, \"#fdca26\"], [1.0, \"#f0f921\"]], \"type\": \"contour\"}], \"contourcarpet\": [{\"colorbar\": {\"outlinewidth\": 0, \"ticks\": \"\"}, \"type\": \"contourcarpet\"}], \"heatmap\": [{\"colorbar\": {\"outlinewidth\": 0, \"ticks\": \"\"}, \"colorscale\": [[0.0, \"#0d0887\"], [0.1111111111111111, \"#46039f\"], [0.2222222222222222, \"#7201a8\"], [0.3333333333333333, \"#9c179e\"], [0.4444444444444444, \"#bd3786\"], [0.5555555555555556, \"#d8576b\"], [0.6666666666666666, \"#ed7953\"], [0.7777777777777778, \"#fb9f3a\"], [0.8888888888888888, \"#fdca26\"], [1.0, \"#f0f921\"]], \"type\": \"heatmap\"}], \"heatmapgl\": [{\"colorbar\": {\"outlinewidth\": 0, \"ticks\": \"\"}, \"colorscale\": [[0.0, \"#0d0887\"], [0.1111111111111111, \"#46039f\"], [0.2222222222222222, \"#7201a8\"], [0.3333333333333333, \"#9c179e\"], [0.4444444444444444, \"#bd3786\"], [0.5555555555555556, \"#d8576b\"], [0.6666666666666666, \"#ed7953\"], [0.7777777777777778, \"#fb9f3a\"], [0.8888888888888888, \"#fdca26\"], [1.0, \"#f0f921\"]], \"type\": \"heatmapgl\"}], \"histogram\": [{\"marker\": {\"colorbar\": {\"outlinewidth\": 0, \"ticks\": \"\"}}, \"type\": \"histogram\"}], \"histogram2d\": [{\"colorbar\": {\"outlinewidth\": 0, \"ticks\": \"\"}, \"colorscale\": [[0.0, \"#0d0887\"], [0.1111111111111111, \"#46039f\"], [0.2222222222222222, \"#7201a8\"], [0.3333333333333333, \"#9c179e\"], [0.4444444444444444, \"#bd3786\"], [0.5555555555555556, \"#d8576b\"], [0.6666666666666666, \"#ed7953\"], [0.7777777777777778, \"#fb9f3a\"], [0.8888888888888888, \"#fdca26\"], [1.0, \"#f0f921\"]], \"type\": \"histogram2d\"}], \"histogram2dcontour\": [{\"colorbar\": {\"outlinewidth\": 0, \"ticks\": \"\"}, \"colorscale\": [[0.0, \"#0d0887\"], [0.1111111111111111, \"#46039f\"], [0.2222222222222222, \"#7201a8\"], [0.3333333333333333, \"#9c179e\"], [0.4444444444444444, \"#bd3786\"], [0.5555555555555556, \"#d8576b\"], [0.6666666666666666, \"#ed7953\"], [0.7777777777777778, \"#fb9f3a\"], [0.8888888888888888, \"#fdca26\"], [1.0, \"#f0f921\"]], \"type\": \"histogram2dcontour\"}], \"mesh3d\": [{\"colorbar\": {\"outlinewidth\": 0, \"ticks\": \"\"}, \"type\": \"mesh3d\"}], \"parcoords\": [{\"line\": {\"colorbar\": {\"outlinewidth\": 0, \"ticks\": \"\"}}, \"type\": \"parcoords\"}], \"pie\": [{\"automargin\": true, \"type\": \"pie\"}], \"scatter\": [{\"marker\": {\"colorbar\": {\"outlinewidth\": 0, \"ticks\": \"\"}}, \"type\": \"scatter\"}], \"scatter3d\": [{\"line\": {\"colorbar\": {\"outlinewidth\": 0, \"ticks\": \"\"}}, \"marker\": {\"colorbar\": {\"outlinewidth\": 0, \"ticks\": \"\"}}, \"type\": \"scatter3d\"}], \"scattercarpet\": [{\"marker\": {\"colorbar\": {\"outlinewidth\": 0, \"ticks\": \"\"}}, \"type\": \"scattercarpet\"}], \"scattergeo\": [{\"marker\": {\"colorbar\": {\"outlinewidth\": 0, \"ticks\": \"\"}}, \"type\": \"scattergeo\"}], \"scattergl\": [{\"marker\": {\"colorbar\": {\"outlinewidth\": 0, \"ticks\": \"\"}}, \"type\": \"scattergl\"}], \"scattermapbox\": [{\"marker\": {\"colorbar\": {\"outlinewidth\": 0, \"ticks\": \"\"}}, \"type\": \"scattermapbox\"}], \"scatterpolar\": [{\"marker\": {\"colorbar\": {\"outlinewidth\": 0, \"ticks\": \"\"}}, \"type\": \"scatterpolar\"}], \"scatterpolargl\": [{\"marker\": {\"colorbar\": {\"outlinewidth\": 0, \"ticks\": \"\"}}, \"type\": \"scatterpolargl\"}], \"scatterternary\": [{\"marker\": {\"colorbar\": {\"outlinewidth\": 0, \"ticks\": \"\"}}, \"type\": \"scatterternary\"}], \"surface\": [{\"colorbar\": {\"outlinewidth\": 0, \"ticks\": \"\"}, \"colorscale\": [[0.0, \"#0d0887\"], [0.1111111111111111, \"#46039f\"], [0.2222222222222222, \"#7201a8\"], [0.3333333333333333, \"#9c179e\"], [0.4444444444444444, \"#bd3786\"], [0.5555555555555556, \"#d8576b\"], [0.6666666666666666, \"#ed7953\"], [0.7777777777777778, \"#fb9f3a\"], [0.8888888888888888, \"#fdca26\"], [1.0, \"#f0f921\"]], \"type\": \"surface\"}], \"table\": [{\"cells\": {\"fill\": {\"color\": \"#EBF0F8\"}, \"line\": {\"color\": \"white\"}}, \"header\": {\"fill\": {\"color\": \"#C8D4E3\"}, \"line\": {\"color\": \"white\"}}, \"type\": \"table\"}]}, \"layout\": {\"annotationdefaults\": {\"arrowcolor\": \"#2a3f5f\", \"arrowhead\": 0, \"arrowwidth\": 1}, \"coloraxis\": {\"colorbar\": {\"outlinewidth\": 0, \"ticks\": \"\"}}, \"colorscale\": {\"diverging\": [[0, \"#8e0152\"], [0.1, \"#c51b7d\"], [0.2, \"#de77ae\"], [0.3, \"#f1b6da\"], [0.4, \"#fde0ef\"], [0.5, \"#f7f7f7\"], [0.6, \"#e6f5d0\"], [0.7, \"#b8e186\"], [0.8, \"#7fbc41\"], [0.9, \"#4d9221\"], [1, \"#276419\"]], \"sequential\": [[0.0, \"#0d0887\"], [0.1111111111111111, \"#46039f\"], [0.2222222222222222, \"#7201a8\"], [0.3333333333333333, \"#9c179e\"], [0.4444444444444444, \"#bd3786\"], [0.5555555555555556, \"#d8576b\"], [0.6666666666666666, \"#ed7953\"], [0.7777777777777778, \"#fb9f3a\"], [0.8888888888888888, \"#fdca26\"], [1.0, \"#f0f921\"]], \"sequentialminus\": [[0.0, \"#0d0887\"], [0.1111111111111111, \"#46039f\"], [0.2222222222222222, \"#7201a8\"], [0.3333333333333333, \"#9c179e\"], [0.4444444444444444, \"#bd3786\"], [0.5555555555555556, \"#d8576b\"], [0.6666666666666666, \"#ed7953\"], [0.7777777777777778, \"#fb9f3a\"], [0.8888888888888888, \"#fdca26\"], [1.0, \"#f0f921\"]]}, \"colorway\": [\"#636efa\", \"#EF553B\", \"#00cc96\", \"#ab63fa\", \"#FFA15A\", \"#19d3f3\", \"#FF6692\", \"#B6E880\", \"#FF97FF\", \"#FECB52\"], \"font\": {\"color\": \"#2a3f5f\"}, \"geo\": {\"bgcolor\": \"white\", \"lakecolor\": \"white\", \"landcolor\": \"#E5ECF6\", \"showlakes\": true, \"showland\": true, \"subunitcolor\": \"white\"}, \"hoverlabel\": {\"align\": \"left\"}, \"hovermode\": \"closest\", \"mapbox\": {\"style\": \"light\"}, \"paper_bgcolor\": \"white\", \"plot_bgcolor\": \"#E5ECF6\", \"polar\": {\"angularaxis\": {\"gridcolor\": \"white\", \"linecolor\": \"white\", \"ticks\": \"\"}, \"bgcolor\": \"#E5ECF6\", \"radialaxis\": {\"gridcolor\": \"white\", \"linecolor\": \"white\", \"ticks\": \"\"}}, \"scene\": {\"xaxis\": {\"backgroundcolor\": \"#E5ECF6\", \"gridcolor\": \"white\", \"gridwidth\": 2, \"linecolor\": \"white\", \"showbackground\": true, \"ticks\": \"\", \"zerolinecolor\": \"white\"}, \"yaxis\": {\"backgroundcolor\": \"#E5ECF6\", \"gridcolor\": \"white\", \"gridwidth\": 2, \"linecolor\": \"white\", \"showbackground\": true, \"ticks\": \"\", \"zerolinecolor\": \"white\"}, \"zaxis\": {\"backgroundcolor\": \"#E5ECF6\", \"gridcolor\": \"white\", \"gridwidth\": 2, \"linecolor\": \"white\", \"showbackground\": true, \"ticks\": \"\", \"zerolinecolor\": \"white\"}}, \"shapedefaults\": {\"line\": {\"color\": \"#2a3f5f\"}}, \"ternary\": {\"aaxis\": {\"gridcolor\": \"white\", \"linecolor\": \"white\", \"ticks\": \"\"}, \"baxis\": {\"gridcolor\": \"white\", \"linecolor\": \"white\", \"ticks\": \"\"}, \"bgcolor\": \"#E5ECF6\", \"caxis\": {\"gridcolor\": \"white\", \"linecolor\": \"white\", \"ticks\": \"\"}}, \"title\": {\"x\": 0.05}, \"xaxis\": {\"automargin\": true, \"gridcolor\": \"white\", \"linecolor\": \"white\", \"ticks\": \"\", \"title\": {\"standoff\": 15}, \"zerolinecolor\": \"white\", \"zerolinewidth\": 2}, \"yaxis\": {\"automargin\": true, \"gridcolor\": \"white\", \"linecolor\": \"white\", \"ticks\": \"\", \"title\": {\"standoff\": 15}, \"zerolinecolor\": \"white\", \"zerolinewidth\": 2}}}, \"title\": {\"text\": \"Number of Ratings per Movie\", \"x\": 0.5, \"y\": 0.9}, \"width\": 900, \"xaxis\": {\"title\": {\"text\": \"Number of Ratings per Movie\"}}, \"yaxis\": {\"gridcolor\": \"#d9dcde\", \"gridwidth\": 0.001, \"showgrid\": true, \"title\": {\"text\": \"Count\"}}},\n",
              "                        {\"responsive\": true}\n",
              "                    ).then(function(){\n",
              "                            \n",
              "var gd = document.getElementById('27ac8ee1-a43f-49c7-9993-d511dfc50ab8');\n",
              "var x = new MutationObserver(function (mutations, observer) {{\n",
              "        var display = window.getComputedStyle(gd).display;\n",
              "        if (!display || display === 'none') {{\n",
              "            console.log([gd, 'removed!']);\n",
              "            Plotly.purge(gd);\n",
              "            observer.disconnect();\n",
              "        }}\n",
              "}});\n",
              "\n",
              "// Listen for the removal of the full notebook cells\n",
              "var notebookContainer = gd.closest('#notebook-container');\n",
              "if (notebookContainer) {{\n",
              "    x.observe(notebookContainer, {childList: true});\n",
              "}}\n",
              "\n",
              "// Listen for the clearing of the current output cell\n",
              "var outputEl = gd.closest('.output');\n",
              "if (outputEl) {{\n",
              "    x.observe(outputEl, {childList: true});\n",
              "}}\n",
              "\n",
              "                        })\n",
              "                };\n",
              "                \n",
              "            </script>\n",
              "        </div>\n",
              "</body>\n",
              "</html>"
            ]
          },
          "metadata": {
            "tags": []
          }
        }
      ]
    },
    {
      "cell_type": "markdown",
      "metadata": {
        "id": "NlDck1xtfnAO",
        "colab_type": "text"
      },
      "source": [
        "Most of the (3063) movies received only 1 rating, and very few movies have more than 60 ratings, and the most rated movie has 341 ratings."
      ]
    },
    {
      "cell_type": "code",
      "metadata": {
        "id": "hzGOMz_X82Cy",
        "colab_type": "code",
        "colab": {
          "base_uri": "https://localhost:8080/",
          "height": 254
        },
        "outputId": "3d52f53b-0f1b-4086-abc3-035510917bd0"
      },
      "source": [
        "df.groupby('userId')['rating'].count().sort_values(ascending=False)"
      ],
      "execution_count": 158,
      "outputs": [
        {
          "output_type": "execute_result",
          "data": {
            "text/plain": [
              "userId\n",
              "547    2391\n",
              "564    1868\n",
              "624    1735\n",
              "15     1700\n",
              "73     1610\n",
              "       ... \n",
              "444      20\n",
              "445      20\n",
              "448      20\n",
              "498      20\n",
              "1        20\n",
              "Name: rating, Length: 671, dtype: int64"
            ]
          },
          "metadata": {
            "tags": []
          },
          "execution_count": 158
        }
      ]
    },
    {
      "cell_type": "code",
      "metadata": {
        "id": "r23nwRNs8r05",
        "colab_type": "code",
        "colab": {
          "base_uri": "https://localhost:8080/",
          "height": 437
        },
        "outputId": "7ac7c11b-e7e9-4641-e3a5-6eafdf501d22"
      },
      "source": [
        "data = df.groupby('userId')['rating'].count()\n",
        "# Create trace\n",
        "trace = go.Histogram(x = data.values,\n",
        "                     marker_color='#8bb4d9',\n",
        "                     name = 'Ratings')\n",
        "# Create layout\n",
        "layout = go.Layout(width=900, height=400,\n",
        "                   title = {'text':'Number of Ratings per User',\n",
        "                            'y':0.9, 'x':0.5},\n",
        "                   plot_bgcolor='#ffffff',\n",
        "                   xaxis = dict(title = 'Number of Ratings per User'),\n",
        "                   yaxis = dict(title = 'Count'),\n",
        "                   bargap = 0.2)\n",
        "\n",
        "# Create plot\n",
        "fig = go.Figure(data=[trace], layout=layout)\n",
        "fig.update_yaxes(showgrid=True, gridwidth=0.001, gridcolor='#d9dcde')\n",
        "fig.show()"
      ],
      "execution_count": 160,
      "outputs": [
        {
          "output_type": "display_data",
          "data": {
            "text/html": [
              "<html>\n",
              "<head><meta charset=\"utf-8\" /></head>\n",
              "<body>\n",
              "    <div>\n",
              "            <script src=\"https://cdnjs.cloudflare.com/ajax/libs/mathjax/2.7.5/MathJax.js?config=TeX-AMS-MML_SVG\"></script><script type=\"text/javascript\">if (window.MathJax) {MathJax.Hub.Config({SVG: {font: \"STIX-Web\"}});}</script>\n",
              "                <script type=\"text/javascript\">window.PlotlyConfig = {MathJaxConfig: 'local'};</script>\n",
              "        <script src=\"https://cdn.plot.ly/plotly-latest.min.js\"></script>    \n",
              "            <div id=\"6dd809f9-83bf-4192-b366-d2c73daf2d2c\" class=\"plotly-graph-div\" style=\"height:400px; width:900px;\"></div>\n",
              "            <script type=\"text/javascript\">\n",
              "                \n",
              "                    window.PLOTLYENV=window.PLOTLYENV || {};\n",
              "                    \n",
              "                if (document.getElementById(\"6dd809f9-83bf-4192-b366-d2c73daf2d2c\")) {\n",
              "                    Plotly.newPlot(\n",
              "                        '6dd809f9-83bf-4192-b366-d2c73daf2d2c',\n",
              "                        [{\"marker\": {\"color\": \"#8bb4d9\"}, \"name\": \"Ratings\", \"type\": \"histogram\", \"x\": [20, 76, 51, 204, 100, 44, 88, 116, 45, 46, 38, 61, 53, 20, 1700, 29, 363, 51, 423, 98, 162, 220, 726, 21, 26, 172, 23, 50, 22, 1011, 69, 48, 138, 187, 20, 104, 32, 111, 62, 43, 199, 70, 110, 25, 21, 39, 38, 513, 99, 46, 31, 68, 46, 44, 38, 522, 209, 73, 78, 55, 166, 53, 97, 21, 27, 49, 103, 123, 81, 83, 23, 191, 1610, 49, 145, 20, 315, 263, 55, 37, 160, 39, 161, 116, 107, 190, 31, 255, 66, 50, 150, 123, 159, 196, 299, 76, 128, 71, 188, 25, 55, 678, 94, 76, 525, 45, 32, 31, 23, 120, 341, 21, 27, 25, 41, 25, 55, 189, 641, 138, 80, 40, 33, 85, 210, 64, 21, 323, 26, 375, 44, 94, 178, 311, 22, 50, 80, 81, 68, 46, 31, 61, 77, 41, 38, 73, 38, 132, 231, 413, 64, 218, 51, 26, 51, 45, 326, 21, 148, 100, 90, 30, 81, 82, 487, 56, 24, 116, 113, 26, 48, 24, 40, 21, 125, 256, 224, 130, 38, 24, 27, 131, 41, 45, 204, 42, 324, 100, 176, 60, 29, 55, 66, 50, 485, 99, 63, 75, 422, 253, 122, 76, 37, 31, 206, 39, 46, 48, 20, 32, 55, 876, 910, 214, 54, 82, 104, 42, 138, 289, 20, 88, 36, 88, 28, 36, 26, 60, 33, 94, 32, 682, 36, 115, 155, 224, 44, 91, 291, 230, 56, 399, 307, 74, 125, 26, 285, 99, 20, 155, 119, 38, 205, 141, 145, 27, 103, 32, 28, 41, 50, 676, 114, 33, 183, 39, 41, 400, 25, 229, 72, 39, 92, 39, 202, 21, 58, 53, 57, 22, 82, 127, 189, 52, 422, 43, 254, 75, 20, 67, 87, 278, 79, 947, 236, 20, 138, 75, 367, 44, 23, 35, 223, 113, 29, 645, 72, 61, 128, 20, 1019, 284, 302, 34, 55, 140, 22, 59, 20, 58, 75, 43, 23, 151, 20, 27, 63, 170, 22, 95, 25, 32, 81, 34, 23, 31, 20, 57, 105, 39, 22, 187, 42, 177, 214, 329, 22, 53, 23, 168, 40, 84, 521, 52, 308, 21, 30, 617, 46, 38, 70, 119, 201, 36, 70, 34, 217, 21, 51, 100, 161, 33, 219, 33, 25, 59, 25, 147, 71, 1063, 110, 314, 62, 485, 99, 121, 279, 792, 51, 153, 113, 25, 51, 205, 23, 141, 59, 53, 20, 58, 72, 319, 24, 38, 412, 73, 323, 222, 51, 28, 27, 219, 22, 81, 26, 107, 139, 168, 50, 98, 47, 85, 347, 30, 55, 254, 294, 166, 27, 305, 268, 62, 198, 192, 23, 62, 24, 20, 260, 40, 120, 225, 40, 20, 20, 25, 87, 20, 24, 120, 52, 1340, 86, 27, 31, 67, 713, 76, 22, 284, 696, 51, 483, 30, 39, 216, 64, 1291, 21, 69, 216, 830, 76, 41, 655, 46, 21, 74, 99, 378, 436, 59, 119, 20, 20, 138, 152, 54, 24, 22, 63, 74, 110, 78, 25, 126, 105, 20, 33, 249, 203, 113, 44, 24, 395, 21, 38, 48, 923, 161, 31, 27, 22, 376, 34, 149, 42, 707, 160, 154, 49, 250, 126, 64, 138, 27, 135, 127, 604, 78, 132, 51, 163, 303, 63, 109, 307, 25, 26, 20, 29, 63, 46, 268, 92, 65, 2391, 138, 22, 135, 85, 38, 201, 64, 75, 25, 66, 215, 129, 100, 296, 253, 158, 1868, 27, 22, 34, 37, 85, 128, 59, 106, 38, 342, 547, 38, 279, 34, 21, 922, 49, 138, 20, 193, 300, 57, 504, 52, 43, 89, 30, 133, 70, 75, 163, 487, 202, 312, 192, 35, 46, 129, 114, 20, 437, 60, 427, 296, 140, 82, 35, 66, 53, 99, 385, 40, 75, 31, 43, 172, 95, 31, 103, 1735, 67, 150, 194, 87, 34, 23, 31, 39, 32, 22, 22, 30, 25, 20, 55, 49, 140, 36, 24, 39, 30, 169, 150, 256, 90, 29, 20, 267, 51, 626, 105, 128, 20, 60, 142, 92, 33, 58, 26, 519, 434, 40, 68, 20, 37, 31, 115]}],\n",
              "                        {\"bargap\": 0.2, \"height\": 400, \"plot_bgcolor\": \"#ffffff\", \"template\": {\"data\": {\"bar\": [{\"error_x\": {\"color\": \"#2a3f5f\"}, \"error_y\": {\"color\": \"#2a3f5f\"}, \"marker\": {\"line\": {\"color\": \"#E5ECF6\", \"width\": 0.5}}, \"type\": \"bar\"}], \"barpolar\": [{\"marker\": {\"line\": {\"color\": \"#E5ECF6\", \"width\": 0.5}}, \"type\": \"barpolar\"}], \"carpet\": [{\"aaxis\": {\"endlinecolor\": \"#2a3f5f\", \"gridcolor\": \"white\", \"linecolor\": \"white\", \"minorgridcolor\": \"white\", \"startlinecolor\": \"#2a3f5f\"}, \"baxis\": {\"endlinecolor\": \"#2a3f5f\", \"gridcolor\": \"white\", \"linecolor\": \"white\", \"minorgridcolor\": \"white\", \"startlinecolor\": \"#2a3f5f\"}, \"type\": \"carpet\"}], \"choropleth\": [{\"colorbar\": {\"outlinewidth\": 0, \"ticks\": \"\"}, \"type\": \"choropleth\"}], \"contour\": [{\"colorbar\": {\"outlinewidth\": 0, \"ticks\": \"\"}, \"colorscale\": [[0.0, \"#0d0887\"], [0.1111111111111111, \"#46039f\"], [0.2222222222222222, \"#7201a8\"], [0.3333333333333333, \"#9c179e\"], [0.4444444444444444, \"#bd3786\"], [0.5555555555555556, \"#d8576b\"], [0.6666666666666666, \"#ed7953\"], [0.7777777777777778, \"#fb9f3a\"], [0.8888888888888888, \"#fdca26\"], [1.0, \"#f0f921\"]], \"type\": \"contour\"}], \"contourcarpet\": [{\"colorbar\": {\"outlinewidth\": 0, \"ticks\": \"\"}, \"type\": \"contourcarpet\"}], \"heatmap\": [{\"colorbar\": {\"outlinewidth\": 0, \"ticks\": \"\"}, \"colorscale\": [[0.0, \"#0d0887\"], [0.1111111111111111, \"#46039f\"], [0.2222222222222222, \"#7201a8\"], [0.3333333333333333, \"#9c179e\"], [0.4444444444444444, \"#bd3786\"], [0.5555555555555556, \"#d8576b\"], [0.6666666666666666, \"#ed7953\"], [0.7777777777777778, \"#fb9f3a\"], [0.8888888888888888, \"#fdca26\"], [1.0, \"#f0f921\"]], \"type\": \"heatmap\"}], \"heatmapgl\": [{\"colorbar\": {\"outlinewidth\": 0, \"ticks\": \"\"}, \"colorscale\": [[0.0, \"#0d0887\"], [0.1111111111111111, \"#46039f\"], [0.2222222222222222, \"#7201a8\"], [0.3333333333333333, \"#9c179e\"], [0.4444444444444444, \"#bd3786\"], [0.5555555555555556, \"#d8576b\"], [0.6666666666666666, \"#ed7953\"], [0.7777777777777778, \"#fb9f3a\"], [0.8888888888888888, \"#fdca26\"], [1.0, \"#f0f921\"]], \"type\": \"heatmapgl\"}], \"histogram\": [{\"marker\": {\"colorbar\": {\"outlinewidth\": 0, \"ticks\": \"\"}}, \"type\": \"histogram\"}], \"histogram2d\": [{\"colorbar\": {\"outlinewidth\": 0, \"ticks\": \"\"}, \"colorscale\": [[0.0, \"#0d0887\"], [0.1111111111111111, \"#46039f\"], [0.2222222222222222, \"#7201a8\"], [0.3333333333333333, \"#9c179e\"], [0.4444444444444444, \"#bd3786\"], [0.5555555555555556, \"#d8576b\"], [0.6666666666666666, \"#ed7953\"], [0.7777777777777778, \"#fb9f3a\"], [0.8888888888888888, \"#fdca26\"], [1.0, \"#f0f921\"]], \"type\": \"histogram2d\"}], \"histogram2dcontour\": [{\"colorbar\": {\"outlinewidth\": 0, \"ticks\": \"\"}, \"colorscale\": [[0.0, \"#0d0887\"], [0.1111111111111111, \"#46039f\"], [0.2222222222222222, \"#7201a8\"], [0.3333333333333333, \"#9c179e\"], [0.4444444444444444, \"#bd3786\"], [0.5555555555555556, \"#d8576b\"], [0.6666666666666666, \"#ed7953\"], [0.7777777777777778, \"#fb9f3a\"], [0.8888888888888888, \"#fdca26\"], [1.0, \"#f0f921\"]], \"type\": \"histogram2dcontour\"}], \"mesh3d\": [{\"colorbar\": {\"outlinewidth\": 0, \"ticks\": \"\"}, \"type\": \"mesh3d\"}], \"parcoords\": [{\"line\": {\"colorbar\": {\"outlinewidth\": 0, \"ticks\": \"\"}}, \"type\": \"parcoords\"}], \"pie\": [{\"automargin\": true, \"type\": \"pie\"}], \"scatter\": [{\"marker\": {\"colorbar\": {\"outlinewidth\": 0, \"ticks\": \"\"}}, \"type\": \"scatter\"}], \"scatter3d\": [{\"line\": {\"colorbar\": {\"outlinewidth\": 0, \"ticks\": \"\"}}, \"marker\": {\"colorbar\": {\"outlinewidth\": 0, \"ticks\": \"\"}}, \"type\": \"scatter3d\"}], \"scattercarpet\": [{\"marker\": {\"colorbar\": {\"outlinewidth\": 0, \"ticks\": \"\"}}, \"type\": \"scattercarpet\"}], \"scattergeo\": [{\"marker\": {\"colorbar\": {\"outlinewidth\": 0, \"ticks\": \"\"}}, \"type\": \"scattergeo\"}], \"scattergl\": [{\"marker\": {\"colorbar\": {\"outlinewidth\": 0, \"ticks\": \"\"}}, \"type\": \"scattergl\"}], \"scattermapbox\": [{\"marker\": {\"colorbar\": {\"outlinewidth\": 0, \"ticks\": \"\"}}, \"type\": \"scattermapbox\"}], \"scatterpolar\": [{\"marker\": {\"colorbar\": {\"outlinewidth\": 0, \"ticks\": \"\"}}, \"type\": \"scatterpolar\"}], \"scatterpolargl\": [{\"marker\": {\"colorbar\": {\"outlinewidth\": 0, \"ticks\": \"\"}}, \"type\": \"scatterpolargl\"}], \"scatterternary\": [{\"marker\": {\"colorbar\": {\"outlinewidth\": 0, \"ticks\": \"\"}}, \"type\": \"scatterternary\"}], \"surface\": [{\"colorbar\": {\"outlinewidth\": 0, \"ticks\": \"\"}, \"colorscale\": [[0.0, \"#0d0887\"], [0.1111111111111111, \"#46039f\"], [0.2222222222222222, \"#7201a8\"], [0.3333333333333333, \"#9c179e\"], [0.4444444444444444, \"#bd3786\"], [0.5555555555555556, \"#d8576b\"], [0.6666666666666666, \"#ed7953\"], [0.7777777777777778, \"#fb9f3a\"], [0.8888888888888888, \"#fdca26\"], [1.0, \"#f0f921\"]], \"type\": \"surface\"}], \"table\": [{\"cells\": {\"fill\": {\"color\": \"#EBF0F8\"}, \"line\": {\"color\": \"white\"}}, \"header\": {\"fill\": {\"color\": \"#C8D4E3\"}, \"line\": {\"color\": \"white\"}}, \"type\": \"table\"}]}, \"layout\": {\"annotationdefaults\": {\"arrowcolor\": \"#2a3f5f\", \"arrowhead\": 0, \"arrowwidth\": 1}, \"coloraxis\": {\"colorbar\": {\"outlinewidth\": 0, \"ticks\": \"\"}}, \"colorscale\": {\"diverging\": [[0, \"#8e0152\"], [0.1, \"#c51b7d\"], [0.2, \"#de77ae\"], [0.3, \"#f1b6da\"], [0.4, \"#fde0ef\"], [0.5, \"#f7f7f7\"], [0.6, \"#e6f5d0\"], [0.7, \"#b8e186\"], [0.8, \"#7fbc41\"], [0.9, \"#4d9221\"], [1, \"#276419\"]], \"sequential\": [[0.0, \"#0d0887\"], [0.1111111111111111, \"#46039f\"], [0.2222222222222222, \"#7201a8\"], [0.3333333333333333, \"#9c179e\"], [0.4444444444444444, \"#bd3786\"], [0.5555555555555556, \"#d8576b\"], [0.6666666666666666, \"#ed7953\"], [0.7777777777777778, \"#fb9f3a\"], [0.8888888888888888, \"#fdca26\"], [1.0, \"#f0f921\"]], \"sequentialminus\": [[0.0, \"#0d0887\"], [0.1111111111111111, \"#46039f\"], [0.2222222222222222, \"#7201a8\"], [0.3333333333333333, \"#9c179e\"], [0.4444444444444444, \"#bd3786\"], [0.5555555555555556, \"#d8576b\"], [0.6666666666666666, \"#ed7953\"], [0.7777777777777778, \"#fb9f3a\"], [0.8888888888888888, \"#fdca26\"], [1.0, \"#f0f921\"]]}, \"colorway\": [\"#636efa\", \"#EF553B\", \"#00cc96\", \"#ab63fa\", \"#FFA15A\", \"#19d3f3\", \"#FF6692\", \"#B6E880\", \"#FF97FF\", \"#FECB52\"], \"font\": {\"color\": \"#2a3f5f\"}, \"geo\": {\"bgcolor\": \"white\", \"lakecolor\": \"white\", \"landcolor\": \"#E5ECF6\", \"showlakes\": true, \"showland\": true, \"subunitcolor\": \"white\"}, \"hoverlabel\": {\"align\": \"left\"}, \"hovermode\": \"closest\", \"mapbox\": {\"style\": \"light\"}, \"paper_bgcolor\": \"white\", \"plot_bgcolor\": \"#E5ECF6\", \"polar\": {\"angularaxis\": {\"gridcolor\": \"white\", \"linecolor\": \"white\", \"ticks\": \"\"}, \"bgcolor\": \"#E5ECF6\", \"radialaxis\": {\"gridcolor\": \"white\", \"linecolor\": \"white\", \"ticks\": \"\"}}, \"scene\": {\"xaxis\": {\"backgroundcolor\": \"#E5ECF6\", \"gridcolor\": \"white\", \"gridwidth\": 2, \"linecolor\": \"white\", \"showbackground\": true, \"ticks\": \"\", \"zerolinecolor\": \"white\"}, \"yaxis\": {\"backgroundcolor\": \"#E5ECF6\", \"gridcolor\": \"white\", \"gridwidth\": 2, \"linecolor\": \"white\", \"showbackground\": true, \"ticks\": \"\", \"zerolinecolor\": \"white\"}, \"zaxis\": {\"backgroundcolor\": \"#E5ECF6\", \"gridcolor\": \"white\", \"gridwidth\": 2, \"linecolor\": \"white\", \"showbackground\": true, \"ticks\": \"\", \"zerolinecolor\": \"white\"}}, \"shapedefaults\": {\"line\": {\"color\": \"#2a3f5f\"}}, \"ternary\": {\"aaxis\": {\"gridcolor\": \"white\", \"linecolor\": \"white\", \"ticks\": \"\"}, \"baxis\": {\"gridcolor\": \"white\", \"linecolor\": \"white\", \"ticks\": \"\"}, \"bgcolor\": \"#E5ECF6\", \"caxis\": {\"gridcolor\": \"white\", \"linecolor\": \"white\", \"ticks\": \"\"}}, \"title\": {\"x\": 0.05}, \"xaxis\": {\"automargin\": true, \"gridcolor\": \"white\", \"linecolor\": \"white\", \"ticks\": \"\", \"title\": {\"standoff\": 15}, \"zerolinecolor\": \"white\", \"zerolinewidth\": 2}, \"yaxis\": {\"automargin\": true, \"gridcolor\": \"white\", \"linecolor\": \"white\", \"ticks\": \"\", \"title\": {\"standoff\": 15}, \"zerolinecolor\": \"white\", \"zerolinewidth\": 2}}}, \"title\": {\"text\": \"Number of Ratings per User\", \"x\": 0.5, \"y\": 0.9}, \"width\": 900, \"xaxis\": {\"title\": {\"text\": \"Number of Ratings per User\"}}, \"yaxis\": {\"gridcolor\": \"#d9dcde\", \"gridwidth\": 0.001, \"showgrid\": true, \"title\": {\"text\": \"Count\"}}},\n",
              "                        {\"responsive\": true}\n",
              "                    ).then(function(){\n",
              "                            \n",
              "var gd = document.getElementById('6dd809f9-83bf-4192-b366-d2c73daf2d2c');\n",
              "var x = new MutationObserver(function (mutations, observer) {{\n",
              "        var display = window.getComputedStyle(gd).display;\n",
              "        if (!display || display === 'none') {{\n",
              "            console.log([gd, 'removed!']);\n",
              "            Plotly.purge(gd);\n",
              "            observer.disconnect();\n",
              "        }}\n",
              "}});\n",
              "\n",
              "// Listen for the removal of the full notebook cells\n",
              "var notebookContainer = gd.closest('#notebook-container');\n",
              "if (notebookContainer) {{\n",
              "    x.observe(notebookContainer, {childList: true});\n",
              "}}\n",
              "\n",
              "// Listen for the clearing of the current output cell\n",
              "var outputEl = gd.closest('.output');\n",
              "if (outputEl) {{\n",
              "    x.observe(outputEl, {childList: true});\n",
              "}}\n",
              "\n",
              "                        })\n",
              "                };\n",
              "                \n",
              "            </script>\n",
              "        </div>\n",
              "</body>\n",
              "</html>"
            ]
          },
          "metadata": {
            "tags": []
          }
        }
      ]
    },
    {
      "cell_type": "markdown",
      "metadata": {
        "id": "f1yQ2O5m86lI",
        "colab_type": "text"
      },
      "source": [
        "Most of the (244) users rate only 1 movie, and very few user rated more than 500 movies, the person who rate the most movies rated 2391 movies."
      ]
    },
    {
      "cell_type": "markdown",
      "metadata": {
        "id": "gmpU61UR7uOB",
        "colab_type": "text"
      },
      "source": [
        "## Implementation with Surprise\n",
        "In Surprise we can simply use the built-in `SVD()` method we implment this method. Some important attributes are:\n",
        "\n",
        "- `n_factors` – The number of factors. Default is 100\n",
        "- `n_epochs` – The number of iteration of the SGD procedure. Default is 20.\n",
        "- `biased` (bool) – Whether to use biases. See note above. Default is True.\n",
        "- `lr_all` – The learning rate for all parameters. Default is 0.005.\n",
        "\n",
        "We can use the built-in GridSearchCV method to turn these hyperparameters.\n",
        "\n",
        "Check the <a target='_blank' src='https://surprise.readthedocs.io/en/stable/matrix_factorization.html?highlight=SVD#surprise.prediction_algorithms.matrix_factorization.SVD'>official documentation</a> for more details."
      ]
    },
    {
      "cell_type": "code",
      "metadata": {
        "id": "o_G8amOOVYVB",
        "colab_type": "code",
        "colab": {}
      },
      "source": [
        "# !pip install surprise\n",
        "from surprise import Reader, Dataset, SVD, accuracy\n",
        "from surprise.model_selection import cross_validate\n",
        "from surprise.model_selection.search import GridSearchCV\n",
        "from surprise.model_selection.split import train_test_split\n",
        "\n",
        "reader = Reader()\n",
        "data = Dataset.load_from_df(df[['userId', 'movieId', 'rating']], reader)"
      ],
      "execution_count": 237,
      "outputs": []
    },
    {
      "cell_type": "markdown",
      "metadata": {
        "id": "o4bMnckT_lvm",
        "colab_type": "text"
      },
      "source": [
        "### Grid Search Cross Validation"
      ]
    },
    {
      "cell_type": "code",
      "metadata": {
        "id": "BceXuoaOaZIH",
        "colab_type": "code",
        "colab": {}
      },
      "source": [
        "parameters = {'n_factors':[50, 100, 150],  \n",
        "              'n_epochs':[5, 10, 20], \n",
        "              'lr_all':[0.01, 0.005, 0.001]}"
      ],
      "execution_count": 238,
      "outputs": []
    },
    {
      "cell_type": "code",
      "metadata": {
        "id": "i7VhwHZYbDh0",
        "colab_type": "code",
        "colab": {
          "base_uri": "https://localhost:8080/",
          "height": 54
        },
        "outputId": "bcd80da7-b5bc-4aaf-a309-1f5ac251264e"
      },
      "source": [
        "gs = GridSearchCV(SVD, parameters, measures=['RMSE'], cv=3)\n",
        "gs.fit(data)\n",
        "# best RMSE score\n",
        "print('Best RMSE Score:', gs.best_score['rmse'])\n",
        "\n",
        "# combination of parameters that gave the best RMSE score\n",
        "print('Best combination of parameters:', gs.best_params['rmse'])"
      ],
      "execution_count": 241,
      "outputs": [
        {
          "output_type": "stream",
          "text": [
            "Best RMSE Score: 0.8993561491285323\n",
            "Best combination of parameters: {'n_factors': 50, 'n_epochs': 20, 'lr_all': 0.005}\n"
          ],
          "name": "stdout"
        }
      ]
    },
    {
      "cell_type": "markdown",
      "metadata": {
        "id": "IlsxAskU_cVq",
        "colab_type": "text"
      },
      "source": [
        "Great! We got a mean Root Mean Sqaure Error of 0.8993561491285323 in the cross validation. Let's now prepare a training (80%) and testing set(20%) to further train & test use the algorithm that yields the best rmse.\n",
        "\n",
        "### Model Training"
      ]
    },
    {
      "cell_type": "code",
      "metadata": {
        "id": "g3TJ9nFiWjWn",
        "colab_type": "code",
        "colab": {
          "base_uri": "https://localhost:8080/",
          "height": 54
        },
        "outputId": "b12cbd81-3fee-4a54-f3ce-be83a5c4e99e"
      },
      "source": [
        "trainset, testset = train_test_split(data, test_size=0.20)\n",
        "algo = gs.best_estimator['rmse']\n",
        "predictions = algo.fit(trainset).test(testset)\n",
        "accuracy.rmse(predictions)"
      ],
      "execution_count": 242,
      "outputs": [
        {
          "output_type": "stream",
          "text": [
            "RMSE: 0.8864\n"
          ],
          "name": "stdout"
        },
        {
          "output_type": "execute_result",
          "data": {
            "text/plain": [
              "0.8864166690381816"
            ]
          },
          "metadata": {
            "tags": []
          },
          "execution_count": 242
        }
      ]
    },
    {
      "cell_type": "markdown",
      "metadata": {
        "id": "eVGBwJ4mfJyi",
        "colab_type": "text"
      },
      "source": [
        "### Make prediction with trained model & evaluation"
      ]
    },
    {
      "cell_type": "markdown",
      "metadata": {
        "id": "7FofoqBSxUJC",
        "colab_type": "text"
      },
      "source": [
        "We have now finished training our model and Root Mean Squared Error is 0.8984. Let now try to make prediction for `usedId=577` and `movieId=2078`. Note the true rating is 5.0. "
      ]
    },
    {
      "cell_type": "code",
      "metadata": {
        "id": "CtHjkAZFyK57",
        "colab_type": "code",
        "colab": {
          "base_uri": "https://localhost:8080/",
          "height": 78
        },
        "outputId": "aac841ca-4e87-4808-983f-6fc5128dfea9"
      },
      "source": [
        "df[(df.userId==577) & (df.movieId==2078)]"
      ],
      "execution_count": 243,
      "outputs": [
        {
          "output_type": "execute_result",
          "data": {
            "text/html": [
              "<div>\n",
              "<style scoped>\n",
              "    .dataframe tbody tr th:only-of-type {\n",
              "        vertical-align: middle;\n",
              "    }\n",
              "\n",
              "    .dataframe tbody tr th {\n",
              "        vertical-align: top;\n",
              "    }\n",
              "\n",
              "    .dataframe thead th {\n",
              "        text-align: right;\n",
              "    }\n",
              "</style>\n",
              "<table border=\"1\" class=\"dataframe\">\n",
              "  <thead>\n",
              "    <tr style=\"text-align: right;\">\n",
              "      <th></th>\n",
              "      <th>userId</th>\n",
              "      <th>movieId</th>\n",
              "      <th>rating</th>\n",
              "      <th>timestamp</th>\n",
              "    </tr>\n",
              "  </thead>\n",
              "  <tbody>\n",
              "    <tr>\n",
              "      <th>86299</th>\n",
              "      <td>577</td>\n",
              "      <td>2078</td>\n",
              "      <td>5.0</td>\n",
              "      <td>1111550822</td>\n",
              "    </tr>\n",
              "  </tbody>\n",
              "</table>\n",
              "</div>"
            ],
            "text/plain": [
              "       userId  movieId  rating   timestamp\n",
              "86299     577     2078     5.0  1111550822"
            ]
          },
          "metadata": {
            "tags": []
          },
          "execution_count": 243
        }
      ]
    },
    {
      "cell_type": "code",
      "metadata": {
        "id": "Nfx5-u5yxp4q",
        "colab_type": "code",
        "colab": {
          "base_uri": "https://localhost:8080/",
          "height": 35
        },
        "outputId": "0cdfd703-cde5-4334-f3e1-f6751606cf4e"
      },
      "source": [
        "algo.predict(uid=577, iid=2078) "
      ],
      "execution_count": 213,
      "outputs": [
        {
          "output_type": "execute_result",
          "data": {
            "text/plain": [
              "Prediction(uid=577, iid=2078, r_ui=None, est=4.727264909481669, details={'was_impossible': False})"
            ]
          },
          "metadata": {
            "tags": []
          },
          "execution_count": 213
        }
      ]
    },
    {
      "cell_type": "markdown",
      "metadata": {
        "id": "L9QWZwXBzPyC",
        "colab_type": "text"
      },
      "source": [
        "The estimated rating is 4.72726 approx, which is very close to the true rating 5! Let's now randomly sample one movie (movieId) which hasn't been rated by user 577 and make prediction:"
      ]
    },
    {
      "cell_type": "code",
      "metadata": {
        "id": "hU6kjZUvy0tt",
        "colab_type": "code",
        "colab": {
          "base_uri": "https://localhost:8080/",
          "height": 35
        },
        "outputId": "53262546-e96c-4c76-c168-1ffb7772e0f0"
      },
      "source": [
        "from random import sample \n",
        "sample([id for id in set(df.movieId) if id not in df[df.userId==577].movieId], 1)"
      ],
      "execution_count": 266,
      "outputs": [
        {
          "output_type": "execute_result",
          "data": {
            "text/plain": [
              "[6595]"
            ]
          },
          "metadata": {
            "tags": []
          },
          "execution_count": 266
        }
      ]
    },
    {
      "cell_type": "code",
      "metadata": {
        "id": "1Z7-jLY6y02a",
        "colab_type": "code",
        "colab": {
          "base_uri": "https://localhost:8080/",
          "height": 35
        },
        "outputId": "031b52a8-91cb-493d-e9ac-208fdf62441f"
      },
      "source": [
        "algo.predict(uid=577, iid=6595) "
      ],
      "execution_count": 267,
      "outputs": [
        {
          "output_type": "execute_result",
          "data": {
            "text/plain": [
              "Prediction(uid=577, iid=6595, r_ui=None, est=3.8693023664021813, details={'was_impossible': False})"
            ]
          },
          "metadata": {
            "tags": []
          },
          "execution_count": 267
        }
      ]
    },
    {
      "cell_type": "markdown",
      "metadata": {
        "id": "2mR81FZeztBC",
        "colab_type": "text"
      },
      "source": [
        "The predicted score is approx 3.8693. We don't know the true value of it, but we can take a look at the histogram of the scores given by other users:\n"
      ]
    },
    {
      "cell_type": "code",
      "metadata": {
        "id": "8X0dGeQ60F1N",
        "colab_type": "code",
        "colab": {}
      },
      "source": [
        "def movie_rating(movidID):\n",
        "  data = df.loc[df['movieId'] == movidID]['rating']\n",
        "  trace = go.Histogram(x = data.values,\n",
        "                      marker_color='#aec3d6',\n",
        "                      name = 'Ratings')\n",
        "  # Create layout\n",
        "  layout = go.Layout(width=700, height=450,\n",
        "                    plot_bgcolor='#ffffff',\n",
        "                    title = {'text':'Distribution of Ratings for Movie: {}'.format(movidID),\n",
        "                              'y':0.9, 'x':0.5},\n",
        "                    xaxis = dict(title = 'Ratings', dtick = 0.5),\n",
        "                    yaxis = dict(title = 'Count'),\n",
        "                    bargap = 0.2)\n",
        "  # Create plot\n",
        "  fig = go.Figure(data=[trace], layout=layout)\n",
        "  fig.update_xaxes(showgrid=True, gridwidth=0.001, gridcolor='#d9dcde')\n",
        "  fig.update_yaxes(showgrid=True, gridwidth=0.001, gridcolor='#d9dcde')\n",
        "  fig.show()"
      ],
      "execution_count": 271,
      "outputs": []
    },
    {
      "cell_type": "code",
      "metadata": {
        "id": "V-OjnMFL--kB",
        "colab_type": "code",
        "colab": {
          "base_uri": "https://localhost:8080/",
          "height": 467
        },
        "outputId": "99a910d3-5f98-41a5-c97b-5b5621510ab7"
      },
      "source": [
        "movie_rating(movidID = 6595)"
      ],
      "execution_count": 272,
      "outputs": [
        {
          "output_type": "display_data",
          "data": {
            "text/html": [
              "<html>\n",
              "<head><meta charset=\"utf-8\" /></head>\n",
              "<body>\n",
              "    <div>\n",
              "            <script src=\"https://cdnjs.cloudflare.com/ajax/libs/mathjax/2.7.5/MathJax.js?config=TeX-AMS-MML_SVG\"></script><script type=\"text/javascript\">if (window.MathJax) {MathJax.Hub.Config({SVG: {font: \"STIX-Web\"}});}</script>\n",
              "                <script type=\"text/javascript\">window.PlotlyConfig = {MathJaxConfig: 'local'};</script>\n",
              "        <script src=\"https://cdn.plot.ly/plotly-latest.min.js\"></script>    \n",
              "            <div id=\"60d58a19-56ba-452f-9194-9e4e450cc500\" class=\"plotly-graph-div\" style=\"height:450px; width:700px;\"></div>\n",
              "            <script type=\"text/javascript\">\n",
              "                \n",
              "                    window.PLOTLYENV=window.PLOTLYENV || {};\n",
              "                    \n",
              "                if (document.getElementById(\"60d58a19-56ba-452f-9194-9e4e450cc500\")) {\n",
              "                    Plotly.newPlot(\n",
              "                        '60d58a19-56ba-452f-9194-9e4e450cc500',\n",
              "                        [{\"marker\": {\"color\": \"#aec3d6\"}, \"name\": \"Ratings\", \"type\": \"histogram\", \"x\": [1.5, 2.5, 4.0, 1.5, 2.5, 4.0, 1.5, 2.5, 3.0, 1.5]}],\n",
              "                        {\"bargap\": 0.2, \"height\": 450, \"plot_bgcolor\": \"#ffffff\", \"template\": {\"data\": {\"bar\": [{\"error_x\": {\"color\": \"#2a3f5f\"}, \"error_y\": {\"color\": \"#2a3f5f\"}, \"marker\": {\"line\": {\"color\": \"#E5ECF6\", \"width\": 0.5}}, \"type\": \"bar\"}], \"barpolar\": [{\"marker\": {\"line\": {\"color\": \"#E5ECF6\", \"width\": 0.5}}, \"type\": \"barpolar\"}], \"carpet\": [{\"aaxis\": {\"endlinecolor\": \"#2a3f5f\", \"gridcolor\": \"white\", \"linecolor\": \"white\", \"minorgridcolor\": \"white\", \"startlinecolor\": \"#2a3f5f\"}, \"baxis\": {\"endlinecolor\": \"#2a3f5f\", \"gridcolor\": \"white\", \"linecolor\": \"white\", \"minorgridcolor\": \"white\", \"startlinecolor\": \"#2a3f5f\"}, \"type\": \"carpet\"}], \"choropleth\": [{\"colorbar\": {\"outlinewidth\": 0, \"ticks\": \"\"}, \"type\": \"choropleth\"}], \"contour\": [{\"colorbar\": {\"outlinewidth\": 0, \"ticks\": \"\"}, \"colorscale\": [[0.0, \"#0d0887\"], [0.1111111111111111, \"#46039f\"], [0.2222222222222222, \"#7201a8\"], [0.3333333333333333, \"#9c179e\"], [0.4444444444444444, \"#bd3786\"], [0.5555555555555556, \"#d8576b\"], [0.6666666666666666, \"#ed7953\"], [0.7777777777777778, \"#fb9f3a\"], [0.8888888888888888, \"#fdca26\"], [1.0, \"#f0f921\"]], \"type\": \"contour\"}], \"contourcarpet\": [{\"colorbar\": {\"outlinewidth\": 0, \"ticks\": \"\"}, \"type\": \"contourcarpet\"}], \"heatmap\": [{\"colorbar\": {\"outlinewidth\": 0, \"ticks\": \"\"}, \"colorscale\": [[0.0, \"#0d0887\"], [0.1111111111111111, \"#46039f\"], [0.2222222222222222, \"#7201a8\"], [0.3333333333333333, \"#9c179e\"], [0.4444444444444444, \"#bd3786\"], [0.5555555555555556, \"#d8576b\"], [0.6666666666666666, \"#ed7953\"], [0.7777777777777778, \"#fb9f3a\"], [0.8888888888888888, \"#fdca26\"], [1.0, \"#f0f921\"]], \"type\": \"heatmap\"}], \"heatmapgl\": [{\"colorbar\": {\"outlinewidth\": 0, \"ticks\": \"\"}, \"colorscale\": [[0.0, \"#0d0887\"], [0.1111111111111111, \"#46039f\"], [0.2222222222222222, \"#7201a8\"], [0.3333333333333333, \"#9c179e\"], [0.4444444444444444, \"#bd3786\"], [0.5555555555555556, \"#d8576b\"], [0.6666666666666666, \"#ed7953\"], [0.7777777777777778, \"#fb9f3a\"], [0.8888888888888888, \"#fdca26\"], [1.0, \"#f0f921\"]], \"type\": \"heatmapgl\"}], \"histogram\": [{\"marker\": {\"colorbar\": {\"outlinewidth\": 0, \"ticks\": \"\"}}, \"type\": \"histogram\"}], \"histogram2d\": [{\"colorbar\": {\"outlinewidth\": 0, \"ticks\": \"\"}, \"colorscale\": [[0.0, \"#0d0887\"], [0.1111111111111111, \"#46039f\"], [0.2222222222222222, \"#7201a8\"], [0.3333333333333333, \"#9c179e\"], [0.4444444444444444, \"#bd3786\"], [0.5555555555555556, \"#d8576b\"], [0.6666666666666666, \"#ed7953\"], [0.7777777777777778, \"#fb9f3a\"], [0.8888888888888888, \"#fdca26\"], [1.0, \"#f0f921\"]], \"type\": \"histogram2d\"}], \"histogram2dcontour\": [{\"colorbar\": {\"outlinewidth\": 0, \"ticks\": \"\"}, \"colorscale\": [[0.0, \"#0d0887\"], [0.1111111111111111, \"#46039f\"], [0.2222222222222222, \"#7201a8\"], [0.3333333333333333, \"#9c179e\"], [0.4444444444444444, \"#bd3786\"], [0.5555555555555556, \"#d8576b\"], [0.6666666666666666, \"#ed7953\"], [0.7777777777777778, \"#fb9f3a\"], [0.8888888888888888, \"#fdca26\"], [1.0, \"#f0f921\"]], \"type\": \"histogram2dcontour\"}], \"mesh3d\": [{\"colorbar\": {\"outlinewidth\": 0, \"ticks\": \"\"}, \"type\": \"mesh3d\"}], \"parcoords\": [{\"line\": {\"colorbar\": {\"outlinewidth\": 0, \"ticks\": \"\"}}, \"type\": \"parcoords\"}], \"pie\": [{\"automargin\": true, \"type\": \"pie\"}], \"scatter\": [{\"marker\": {\"colorbar\": {\"outlinewidth\": 0, \"ticks\": \"\"}}, \"type\": \"scatter\"}], \"scatter3d\": [{\"line\": {\"colorbar\": {\"outlinewidth\": 0, \"ticks\": \"\"}}, \"marker\": {\"colorbar\": {\"outlinewidth\": 0, \"ticks\": \"\"}}, \"type\": \"scatter3d\"}], \"scattercarpet\": [{\"marker\": {\"colorbar\": {\"outlinewidth\": 0, \"ticks\": \"\"}}, \"type\": \"scattercarpet\"}], \"scattergeo\": [{\"marker\": {\"colorbar\": {\"outlinewidth\": 0, \"ticks\": \"\"}}, \"type\": \"scattergeo\"}], \"scattergl\": [{\"marker\": {\"colorbar\": {\"outlinewidth\": 0, \"ticks\": \"\"}}, \"type\": \"scattergl\"}], \"scattermapbox\": [{\"marker\": {\"colorbar\": {\"outlinewidth\": 0, \"ticks\": \"\"}}, \"type\": \"scattermapbox\"}], \"scatterpolar\": [{\"marker\": {\"colorbar\": {\"outlinewidth\": 0, \"ticks\": \"\"}}, \"type\": \"scatterpolar\"}], \"scatterpolargl\": [{\"marker\": {\"colorbar\": {\"outlinewidth\": 0, \"ticks\": \"\"}}, \"type\": \"scatterpolargl\"}], \"scatterternary\": [{\"marker\": {\"colorbar\": {\"outlinewidth\": 0, \"ticks\": \"\"}}, \"type\": \"scatterternary\"}], \"surface\": [{\"colorbar\": {\"outlinewidth\": 0, \"ticks\": \"\"}, \"colorscale\": [[0.0, \"#0d0887\"], [0.1111111111111111, \"#46039f\"], [0.2222222222222222, \"#7201a8\"], [0.3333333333333333, \"#9c179e\"], [0.4444444444444444, \"#bd3786\"], [0.5555555555555556, \"#d8576b\"], [0.6666666666666666, \"#ed7953\"], [0.7777777777777778, \"#fb9f3a\"], [0.8888888888888888, \"#fdca26\"], [1.0, \"#f0f921\"]], \"type\": \"surface\"}], \"table\": [{\"cells\": {\"fill\": {\"color\": \"#EBF0F8\"}, \"line\": {\"color\": \"white\"}}, \"header\": {\"fill\": {\"color\": \"#C8D4E3\"}, \"line\": {\"color\": \"white\"}}, \"type\": \"table\"}]}, \"layout\": {\"annotationdefaults\": {\"arrowcolor\": \"#2a3f5f\", \"arrowhead\": 0, \"arrowwidth\": 1}, \"coloraxis\": {\"colorbar\": {\"outlinewidth\": 0, \"ticks\": \"\"}}, \"colorscale\": {\"diverging\": [[0, \"#8e0152\"], [0.1, \"#c51b7d\"], [0.2, \"#de77ae\"], [0.3, \"#f1b6da\"], [0.4, \"#fde0ef\"], [0.5, \"#f7f7f7\"], [0.6, \"#e6f5d0\"], [0.7, \"#b8e186\"], [0.8, \"#7fbc41\"], [0.9, \"#4d9221\"], [1, \"#276419\"]], \"sequential\": [[0.0, \"#0d0887\"], [0.1111111111111111, \"#46039f\"], [0.2222222222222222, \"#7201a8\"], [0.3333333333333333, \"#9c179e\"], [0.4444444444444444, \"#bd3786\"], [0.5555555555555556, \"#d8576b\"], [0.6666666666666666, \"#ed7953\"], [0.7777777777777778, \"#fb9f3a\"], [0.8888888888888888, \"#fdca26\"], [1.0, \"#f0f921\"]], \"sequentialminus\": [[0.0, \"#0d0887\"], [0.1111111111111111, \"#46039f\"], [0.2222222222222222, \"#7201a8\"], [0.3333333333333333, \"#9c179e\"], [0.4444444444444444, \"#bd3786\"], [0.5555555555555556, \"#d8576b\"], [0.6666666666666666, \"#ed7953\"], [0.7777777777777778, \"#fb9f3a\"], [0.8888888888888888, \"#fdca26\"], [1.0, \"#f0f921\"]]}, \"colorway\": [\"#636efa\", \"#EF553B\", \"#00cc96\", \"#ab63fa\", \"#FFA15A\", \"#19d3f3\", \"#FF6692\", \"#B6E880\", \"#FF97FF\", \"#FECB52\"], \"font\": {\"color\": \"#2a3f5f\"}, \"geo\": {\"bgcolor\": \"white\", \"lakecolor\": \"white\", \"landcolor\": \"#E5ECF6\", \"showlakes\": true, \"showland\": true, \"subunitcolor\": \"white\"}, \"hoverlabel\": {\"align\": \"left\"}, \"hovermode\": \"closest\", \"mapbox\": {\"style\": \"light\"}, \"paper_bgcolor\": \"white\", \"plot_bgcolor\": \"#E5ECF6\", \"polar\": {\"angularaxis\": {\"gridcolor\": \"white\", \"linecolor\": \"white\", \"ticks\": \"\"}, \"bgcolor\": \"#E5ECF6\", \"radialaxis\": {\"gridcolor\": \"white\", \"linecolor\": \"white\", \"ticks\": \"\"}}, \"scene\": {\"xaxis\": {\"backgroundcolor\": \"#E5ECF6\", \"gridcolor\": \"white\", \"gridwidth\": 2, \"linecolor\": \"white\", \"showbackground\": true, \"ticks\": \"\", \"zerolinecolor\": \"white\"}, \"yaxis\": {\"backgroundcolor\": \"#E5ECF6\", \"gridcolor\": \"white\", \"gridwidth\": 2, \"linecolor\": \"white\", \"showbackground\": true, \"ticks\": \"\", \"zerolinecolor\": \"white\"}, \"zaxis\": {\"backgroundcolor\": \"#E5ECF6\", \"gridcolor\": \"white\", \"gridwidth\": 2, \"linecolor\": \"white\", \"showbackground\": true, \"ticks\": \"\", \"zerolinecolor\": \"white\"}}, \"shapedefaults\": {\"line\": {\"color\": \"#2a3f5f\"}}, \"ternary\": {\"aaxis\": {\"gridcolor\": \"white\", \"linecolor\": \"white\", \"ticks\": \"\"}, \"baxis\": {\"gridcolor\": \"white\", \"linecolor\": \"white\", \"ticks\": \"\"}, \"bgcolor\": \"#E5ECF6\", \"caxis\": {\"gridcolor\": \"white\", \"linecolor\": \"white\", \"ticks\": \"\"}}, \"title\": {\"x\": 0.05}, \"xaxis\": {\"automargin\": true, \"gridcolor\": \"white\", \"linecolor\": \"white\", \"ticks\": \"\", \"title\": {\"standoff\": 15}, \"zerolinecolor\": \"white\", \"zerolinewidth\": 2}, \"yaxis\": {\"automargin\": true, \"gridcolor\": \"white\", \"linecolor\": \"white\", \"ticks\": \"\", \"title\": {\"standoff\": 15}, \"zerolinecolor\": \"white\", \"zerolinewidth\": 2}}}, \"title\": {\"text\": \"Distribution of Ratings for Movie: 6595\", \"x\": 0.5, \"y\": 0.9}, \"width\": 700, \"xaxis\": {\"dtick\": 0.5, \"gridcolor\": \"#d9dcde\", \"gridwidth\": 0.001, \"showgrid\": true, \"title\": {\"text\": \"Ratings\"}}, \"yaxis\": {\"gridcolor\": \"#d9dcde\", \"gridwidth\": 0.001, \"showgrid\": true, \"title\": {\"text\": \"Count\"}}},\n",
              "                        {\"responsive\": true}\n",
              "                    ).then(function(){\n",
              "                            \n",
              "var gd = document.getElementById('60d58a19-56ba-452f-9194-9e4e450cc500');\n",
              "var x = new MutationObserver(function (mutations, observer) {{\n",
              "        var display = window.getComputedStyle(gd).display;\n",
              "        if (!display || display === 'none') {{\n",
              "            console.log([gd, 'removed!']);\n",
              "            Plotly.purge(gd);\n",
              "            observer.disconnect();\n",
              "        }}\n",
              "}});\n",
              "\n",
              "// Listen for the removal of the full notebook cells\n",
              "var notebookContainer = gd.closest('#notebook-container');\n",
              "if (notebookContainer) {{\n",
              "    x.observe(notebookContainer, {childList: true});\n",
              "}}\n",
              "\n",
              "// Listen for the clearing of the current output cell\n",
              "var outputEl = gd.closest('.output');\n",
              "if (outputEl) {{\n",
              "    x.observe(outputEl, {childList: true});\n",
              "}}\n",
              "\n",
              "                        })\n",
              "                };\n",
              "                \n",
              "            </script>\n",
              "        </div>\n",
              "</body>\n",
              "</html>"
            ]
          },
          "metadata": {
            "tags": []
          }
        }
      ]
    },
    {
      "cell_type": "markdown",
      "metadata": {
        "id": "CT0msgNqA8vk",
        "colab_type": "text"
      },
      "source": [
        "From the barchart we can see only most people gave movie 6595 a relatively low rate (< 3). It seems make sense to get a score of 3.8693 though. Now let's evaluate on the whole test set:"
      ]
    },
    {
      "cell_type": "code",
      "metadata": {
        "id": "abpOBaMJWjY2",
        "colab_type": "code",
        "colab": {}
      },
      "source": [
        "def get_Iu(uid):\n",
        "    \"\"\" return the number of items rated by given user\n",
        "    args: \n",
        "      uid: the id of the user\n",
        "    returns: \n",
        "      the number of items rated by the user\n",
        "    \"\"\"\n",
        "    try:\n",
        "        return len(trainset.ur[trainset.to_inner_uid(uid)])\n",
        "    except ValueError: # user was not part of the trainset\n",
        "        return 0\n",
        "    \n",
        "def get_Ui(iid):\n",
        "    \"\"\" return number of users that have rated given item\n",
        "    args:\n",
        "      iid: the raw id of the item\n",
        "    returns:\n",
        "      the number of users that have rated the item.\n",
        "    \"\"\"\n",
        "    try: \n",
        "        return len(trainset.ir[trainset.to_inner_iid(iid)])\n",
        "    except ValueError:\n",
        "        return 0\n",
        "    \n",
        "pred_result = pd.DataFrame(predictions, columns=['uid', 'iid', 'rui', 'est', 'details'])\n",
        "pred_result['Iu'] = pred_result.uid.apply(get_Iu)\n",
        "pred_result['Ui'] = pred_result.iid.apply(get_Ui)\n",
        "pred_result['err'] = abs(pred_result.est - pred_result.rui)\n",
        "best_predictions = pred_result.sort_values(by='err')[:10]\n",
        "worst_predictions = pred_result.sort_values(by='err')[-10:]"
      ],
      "execution_count": 273,
      "outputs": []
    },
    {
      "cell_type": "markdown",
      "metadata": {
        "id": "_ySUcnPWxGjd",
        "colab_type": "text"
      },
      "source": [
        "Where\n",
        "\n",
        "- **uid**: user ID\n",
        "- **iid**: item ID (Movie Id in our case)\n",
        "- **rui**: real score given to iid by uid\n",
        "- **est**: estimated score given to iid by uid\n",
        "- **Iu**: the number of items rated by the given user\n",
        "- **Ui**: the number of users that have rated given item\n",
        "- **err**: error = real score - estimated score (est - rui)\n"
      ]
    },
    {
      "cell_type": "code",
      "metadata": {
        "id": "paKraICcWjbJ",
        "colab_type": "code",
        "colab": {
          "base_uri": "https://localhost:8080/",
          "height": 348
        },
        "outputId": "18bdaee3-2dfc-4e8e-d1dc-b2835f850959"
      },
      "source": [
        "# best prediction: lowest error\n",
        "best_predictions"
      ],
      "execution_count": 274,
      "outputs": [
        {
          "output_type": "execute_result",
          "data": {
            "text/html": [
              "<div>\n",
              "<style scoped>\n",
              "    .dataframe tbody tr th:only-of-type {\n",
              "        vertical-align: middle;\n",
              "    }\n",
              "\n",
              "    .dataframe tbody tr th {\n",
              "        vertical-align: top;\n",
              "    }\n",
              "\n",
              "    .dataframe thead th {\n",
              "        text-align: right;\n",
              "    }\n",
              "</style>\n",
              "<table border=\"1\" class=\"dataframe\">\n",
              "  <thead>\n",
              "    <tr style=\"text-align: right;\">\n",
              "      <th></th>\n",
              "      <th>uid</th>\n",
              "      <th>iid</th>\n",
              "      <th>rui</th>\n",
              "      <th>est</th>\n",
              "      <th>details</th>\n",
              "      <th>Iu</th>\n",
              "      <th>Ui</th>\n",
              "      <th>err</th>\n",
              "    </tr>\n",
              "  </thead>\n",
              "  <tbody>\n",
              "    <tr>\n",
              "      <th>3215</th>\n",
              "      <td>287</td>\n",
              "      <td>58559</td>\n",
              "      <td>5.0</td>\n",
              "      <td>5.0</td>\n",
              "      <td>{'was_impossible': False}</td>\n",
              "      <td>202</td>\n",
              "      <td>94</td>\n",
              "      <td>0.0</td>\n",
              "    </tr>\n",
              "    <tr>\n",
              "      <th>4899</th>\n",
              "      <td>242</td>\n",
              "      <td>912</td>\n",
              "      <td>5.0</td>\n",
              "      <td>5.0</td>\n",
              "      <td>{'was_impossible': False}</td>\n",
              "      <td>320</td>\n",
              "      <td>98</td>\n",
              "      <td>0.0</td>\n",
              "    </tr>\n",
              "    <tr>\n",
              "      <th>13550</th>\n",
              "      <td>46</td>\n",
              "      <td>26614</td>\n",
              "      <td>5.0</td>\n",
              "      <td>5.0</td>\n",
              "      <td>{'was_impossible': False}</td>\n",
              "      <td>31</td>\n",
              "      <td>10</td>\n",
              "      <td>0.0</td>\n",
              "    </tr>\n",
              "    <tr>\n",
              "      <th>18747</th>\n",
              "      <td>89</td>\n",
              "      <td>260</td>\n",
              "      <td>5.0</td>\n",
              "      <td>5.0</td>\n",
              "      <td>{'was_impossible': False}</td>\n",
              "      <td>52</td>\n",
              "      <td>231</td>\n",
              "      <td>0.0</td>\n",
              "    </tr>\n",
              "    <tr>\n",
              "      <th>7898</th>\n",
              "      <td>287</td>\n",
              "      <td>48780</td>\n",
              "      <td>5.0</td>\n",
              "      <td>5.0</td>\n",
              "      <td>{'was_impossible': False}</td>\n",
              "      <td>202</td>\n",
              "      <td>40</td>\n",
              "      <td>0.0</td>\n",
              "    </tr>\n",
              "    <tr>\n",
              "      <th>19292</th>\n",
              "      <td>46</td>\n",
              "      <td>49530</td>\n",
              "      <td>5.0</td>\n",
              "      <td>5.0</td>\n",
              "      <td>{'was_impossible': False}</td>\n",
              "      <td>31</td>\n",
              "      <td>31</td>\n",
              "      <td>0.0</td>\n",
              "    </tr>\n",
              "    <tr>\n",
              "      <th>6712</th>\n",
              "      <td>556</td>\n",
              "      <td>318</td>\n",
              "      <td>5.0</td>\n",
              "      <td>5.0</td>\n",
              "      <td>{'was_impossible': False}</td>\n",
              "      <td>20</td>\n",
              "      <td>247</td>\n",
              "      <td>0.0</td>\n",
              "    </tr>\n",
              "    <tr>\n",
              "      <th>16639</th>\n",
              "      <td>242</td>\n",
              "      <td>1945</td>\n",
              "      <td>5.0</td>\n",
              "      <td>5.0</td>\n",
              "      <td>{'was_impossible': False}</td>\n",
              "      <td>320</td>\n",
              "      <td>24</td>\n",
              "      <td>0.0</td>\n",
              "    </tr>\n",
              "    <tr>\n",
              "      <th>17806</th>\n",
              "      <td>443</td>\n",
              "      <td>293</td>\n",
              "      <td>5.0</td>\n",
              "      <td>5.0</td>\n",
              "      <td>{'was_impossible': False}</td>\n",
              "      <td>32</td>\n",
              "      <td>104</td>\n",
              "      <td>0.0</td>\n",
              "    </tr>\n",
              "    <tr>\n",
              "      <th>18590</th>\n",
              "      <td>543</td>\n",
              "      <td>260</td>\n",
              "      <td>5.0</td>\n",
              "      <td>5.0</td>\n",
              "      <td>{'was_impossible': False}</td>\n",
              "      <td>30</td>\n",
              "      <td>231</td>\n",
              "      <td>0.0</td>\n",
              "    </tr>\n",
              "  </tbody>\n",
              "</table>\n",
              "</div>"
            ],
            "text/plain": [
              "       uid    iid  rui  est                    details   Iu   Ui  err\n",
              "3215   287  58559  5.0  5.0  {'was_impossible': False}  202   94  0.0\n",
              "4899   242    912  5.0  5.0  {'was_impossible': False}  320   98  0.0\n",
              "13550   46  26614  5.0  5.0  {'was_impossible': False}   31   10  0.0\n",
              "18747   89    260  5.0  5.0  {'was_impossible': False}   52  231  0.0\n",
              "7898   287  48780  5.0  5.0  {'was_impossible': False}  202   40  0.0\n",
              "19292   46  49530  5.0  5.0  {'was_impossible': False}   31   31  0.0\n",
              "6712   556    318  5.0  5.0  {'was_impossible': False}   20  247  0.0\n",
              "16639  242   1945  5.0  5.0  {'was_impossible': False}  320   24  0.0\n",
              "17806  443    293  5.0  5.0  {'was_impossible': False}   32  104  0.0\n",
              "18590  543    260  5.0  5.0  {'was_impossible': False}   30  231  0.0"
            ]
          },
          "metadata": {
            "tags": []
          },
          "execution_count": 274
        }
      ]
    },
    {
      "cell_type": "code",
      "metadata": {
        "id": "tH3v4yr3Wjdc",
        "colab_type": "code",
        "colab": {
          "base_uri": "https://localhost:8080/",
          "height": 348
        },
        "outputId": "be07fd03-686d-44ea-a3c1-011dd100a163"
      },
      "source": [
        "# worst prediction: highest error\n",
        "worst_predictions"
      ],
      "execution_count": 275,
      "outputs": [
        {
          "output_type": "execute_result",
          "data": {
            "text/html": [
              "<div>\n",
              "<style scoped>\n",
              "    .dataframe tbody tr th:only-of-type {\n",
              "        vertical-align: middle;\n",
              "    }\n",
              "\n",
              "    .dataframe tbody tr th {\n",
              "        vertical-align: top;\n",
              "    }\n",
              "\n",
              "    .dataframe thead th {\n",
              "        text-align: right;\n",
              "    }\n",
              "</style>\n",
              "<table border=\"1\" class=\"dataframe\">\n",
              "  <thead>\n",
              "    <tr style=\"text-align: right;\">\n",
              "      <th></th>\n",
              "      <th>uid</th>\n",
              "      <th>iid</th>\n",
              "      <th>rui</th>\n",
              "      <th>est</th>\n",
              "      <th>details</th>\n",
              "      <th>Iu</th>\n",
              "      <th>Ui</th>\n",
              "      <th>err</th>\n",
              "    </tr>\n",
              "  </thead>\n",
              "  <tbody>\n",
              "    <tr>\n",
              "      <th>8552</th>\n",
              "      <td>546</td>\n",
              "      <td>4492</td>\n",
              "      <td>0.5</td>\n",
              "      <td>4.198112</td>\n",
              "      <td>{'was_impossible': False}</td>\n",
              "      <td>53</td>\n",
              "      <td>3</td>\n",
              "      <td>3.698112</td>\n",
              "    </tr>\n",
              "    <tr>\n",
              "      <th>1035</th>\n",
              "      <td>418</td>\n",
              "      <td>778</td>\n",
              "      <td>0.5</td>\n",
              "      <td>4.206412</td>\n",
              "      <td>{'was_impossible': False}</td>\n",
              "      <td>124</td>\n",
              "      <td>104</td>\n",
              "      <td>3.706412</td>\n",
              "    </tr>\n",
              "    <tr>\n",
              "      <th>2354</th>\n",
              "      <td>599</td>\n",
              "      <td>71033</td>\n",
              "      <td>0.5</td>\n",
              "      <td>4.208239</td>\n",
              "      <td>{'was_impossible': False}</td>\n",
              "      <td>154</td>\n",
              "      <td>3</td>\n",
              "      <td>3.708239</td>\n",
              "    </tr>\n",
              "    <tr>\n",
              "      <th>2091</th>\n",
              "      <td>106</td>\n",
              "      <td>46976</td>\n",
              "      <td>0.5</td>\n",
              "      <td>4.219370</td>\n",
              "      <td>{'was_impossible': False}</td>\n",
              "      <td>36</td>\n",
              "      <td>34</td>\n",
              "      <td>3.719370</td>\n",
              "    </tr>\n",
              "    <tr>\n",
              "      <th>498</th>\n",
              "      <td>282</td>\n",
              "      <td>2959</td>\n",
              "      <td>0.5</td>\n",
              "      <td>4.221999</td>\n",
              "      <td>{'was_impossible': False}</td>\n",
              "      <td>99</td>\n",
              "      <td>159</td>\n",
              "      <td>3.721999</td>\n",
              "    </tr>\n",
              "    <tr>\n",
              "      <th>16287</th>\n",
              "      <td>83</td>\n",
              "      <td>5902</td>\n",
              "      <td>0.5</td>\n",
              "      <td>4.237427</td>\n",
              "      <td>{'was_impossible': False}</td>\n",
              "      <td>124</td>\n",
              "      <td>35</td>\n",
              "      <td>3.737427</td>\n",
              "    </tr>\n",
              "    <tr>\n",
              "      <th>16368</th>\n",
              "      <td>646</td>\n",
              "      <td>955</td>\n",
              "      <td>1.0</td>\n",
              "      <td>4.760634</td>\n",
              "      <td>{'was_impossible': False}</td>\n",
              "      <td>140</td>\n",
              "      <td>23</td>\n",
              "      <td>3.760634</td>\n",
              "    </tr>\n",
              "    <tr>\n",
              "      <th>1017</th>\n",
              "      <td>145</td>\n",
              "      <td>300</td>\n",
              "      <td>1.0</td>\n",
              "      <td>4.862227</td>\n",
              "      <td>{'was_impossible': False}</td>\n",
              "      <td>29</td>\n",
              "      <td>72</td>\n",
              "      <td>3.862227</td>\n",
              "    </tr>\n",
              "    <tr>\n",
              "      <th>11614</th>\n",
              "      <td>599</td>\n",
              "      <td>4973</td>\n",
              "      <td>0.5</td>\n",
              "      <td>4.564345</td>\n",
              "      <td>{'was_impossible': False}</td>\n",
              "      <td>154</td>\n",
              "      <td>100</td>\n",
              "      <td>4.064345</td>\n",
              "    </tr>\n",
              "    <tr>\n",
              "      <th>17691</th>\n",
              "      <td>304</td>\n",
              "      <td>527</td>\n",
              "      <td>0.5</td>\n",
              "      <td>4.699840</td>\n",
              "      <td>{'was_impossible': False}</td>\n",
              "      <td>91</td>\n",
              "      <td>195</td>\n",
              "      <td>4.199840</td>\n",
              "    </tr>\n",
              "  </tbody>\n",
              "</table>\n",
              "</div>"
            ],
            "text/plain": [
              "       uid    iid  rui       est                    details   Iu   Ui       err\n",
              "8552   546   4492  0.5  4.198112  {'was_impossible': False}   53    3  3.698112\n",
              "1035   418    778  0.5  4.206412  {'was_impossible': False}  124  104  3.706412\n",
              "2354   599  71033  0.5  4.208239  {'was_impossible': False}  154    3  3.708239\n",
              "2091   106  46976  0.5  4.219370  {'was_impossible': False}   36   34  3.719370\n",
              "498    282   2959  0.5  4.221999  {'was_impossible': False}   99  159  3.721999\n",
              "16287   83   5902  0.5  4.237427  {'was_impossible': False}  124   35  3.737427\n",
              "16368  646    955  1.0  4.760634  {'was_impossible': False}  140   23  3.760634\n",
              "1017   145    300  1.0  4.862227  {'was_impossible': False}   29   72  3.862227\n",
              "11614  599   4973  0.5  4.564345  {'was_impossible': False}  154  100  4.064345\n",
              "17691  304    527  0.5  4.699840  {'was_impossible': False}   91  195  4.199840"
            ]
          },
          "metadata": {
            "tags": []
          },
          "execution_count": 275
        }
      ]
    },
    {
      "cell_type": "markdown",
      "metadata": {
        "id": "Ppy5chQMntDa",
        "colab_type": "text"
      },
      "source": [
        "Some of the worst predicted samples have very low Ui (like **546**, **599**), meaning very few people have rated this movie, so we don't have encough information to rate these movies. Let's take an example from the worst predictions and dig a little deeper:\n",
        "User **145** rated item **300** to be 1.0. However, our SVD model predicts this user would rate 4.8622, which leads to an error of 3.8622. Let's take a look at the distribution of the rating from the person who ever rated this movie."
      ]
    },
    {
      "cell_type": "code",
      "metadata": {
        "id": "viNAY9Qon7wS",
        "colab_type": "code",
        "colab": {
          "base_uri": "https://localhost:8080/",
          "height": 467
        },
        "outputId": "33db8ed3-2f64-43e5-9eec-4a9ae3836fc7"
      },
      "source": [
        "movie_rating(movidID = 300)"
      ],
      "execution_count": 276,
      "outputs": [
        {
          "output_type": "display_data",
          "data": {
            "text/html": [
              "<html>\n",
              "<head><meta charset=\"utf-8\" /></head>\n",
              "<body>\n",
              "    <div>\n",
              "            <script src=\"https://cdnjs.cloudflare.com/ajax/libs/mathjax/2.7.5/MathJax.js?config=TeX-AMS-MML_SVG\"></script><script type=\"text/javascript\">if (window.MathJax) {MathJax.Hub.Config({SVG: {font: \"STIX-Web\"}});}</script>\n",
              "                <script type=\"text/javascript\">window.PlotlyConfig = {MathJaxConfig: 'local'};</script>\n",
              "        <script src=\"https://cdn.plot.ly/plotly-latest.min.js\"></script>    \n",
              "            <div id=\"372558f9-d573-4d2e-93f4-109f221b8b3e\" class=\"plotly-graph-div\" style=\"height:450px; width:700px;\"></div>\n",
              "            <script type=\"text/javascript\">\n",
              "                \n",
              "                    window.PLOTLYENV=window.PLOTLYENV || {};\n",
              "                    \n",
              "                if (document.getElementById(\"372558f9-d573-4d2e-93f4-109f221b8b3e\")) {\n",
              "                    Plotly.newPlot(\n",
              "                        '372558f9-d573-4d2e-93f4-109f221b8b3e',\n",
              "                        [{\"marker\": {\"color\": \"#aec3d6\"}, \"name\": \"Ratings\", \"type\": \"histogram\", \"x\": [3.0, 4.0, 3.0, 4.0, 5.0, 3.0, 4.0, 3.0, 4.5, 4.0, 4.0, 4.0, 4.0, 4.0, 3.0, 3.5, 4.0, 3.0, 3.5, 4.0, 1.0, 3.0, 4.0, 4.0, 4.0, 3.0, 4.0, 4.0, 2.5, 4.0, 5.0, 3.5, 4.5, 4.0, 3.5, 3.0, 3.0, 3.0, 4.0, 4.0, 4.0, 4.0, 4.0, 4.0, 4.0, 3.0, 5.0, 3.0, 3.0, 4.0, 4.0, 5.0, 3.0, 5.0, 4.0, 1.5, 3.0, 2.0, 3.0, 4.0, 5.0, 4.0, 5.0, 3.0, 4.5, 3.0, 4.0, 4.0, 5.0, 5.0, 4.5, 3.0, 3.0, 4.0, 4.0, 3.0, 4.0, 4.0, 3.5, 5.0, 3.0, 4.0, 3.0, 4.0, 4.0, 4.0, 5.0, 5.0, 3.0, 4.0]}],\n",
              "                        {\"bargap\": 0.2, \"height\": 450, \"plot_bgcolor\": \"#ffffff\", \"template\": {\"data\": {\"bar\": [{\"error_x\": {\"color\": \"#2a3f5f\"}, \"error_y\": {\"color\": \"#2a3f5f\"}, \"marker\": {\"line\": {\"color\": \"#E5ECF6\", \"width\": 0.5}}, \"type\": \"bar\"}], \"barpolar\": [{\"marker\": {\"line\": {\"color\": \"#E5ECF6\", \"width\": 0.5}}, \"type\": \"barpolar\"}], \"carpet\": [{\"aaxis\": {\"endlinecolor\": \"#2a3f5f\", \"gridcolor\": \"white\", \"linecolor\": \"white\", \"minorgridcolor\": \"white\", \"startlinecolor\": \"#2a3f5f\"}, \"baxis\": {\"endlinecolor\": \"#2a3f5f\", \"gridcolor\": \"white\", \"linecolor\": \"white\", \"minorgridcolor\": \"white\", \"startlinecolor\": \"#2a3f5f\"}, \"type\": \"carpet\"}], \"choropleth\": [{\"colorbar\": {\"outlinewidth\": 0, \"ticks\": \"\"}, \"type\": \"choropleth\"}], \"contour\": [{\"colorbar\": {\"outlinewidth\": 0, \"ticks\": \"\"}, \"colorscale\": [[0.0, \"#0d0887\"], [0.1111111111111111, \"#46039f\"], [0.2222222222222222, \"#7201a8\"], [0.3333333333333333, \"#9c179e\"], [0.4444444444444444, \"#bd3786\"], [0.5555555555555556, \"#d8576b\"], [0.6666666666666666, \"#ed7953\"], [0.7777777777777778, \"#fb9f3a\"], [0.8888888888888888, \"#fdca26\"], [1.0, \"#f0f921\"]], \"type\": \"contour\"}], \"contourcarpet\": [{\"colorbar\": {\"outlinewidth\": 0, \"ticks\": \"\"}, \"type\": \"contourcarpet\"}], \"heatmap\": [{\"colorbar\": {\"outlinewidth\": 0, \"ticks\": \"\"}, \"colorscale\": [[0.0, \"#0d0887\"], [0.1111111111111111, \"#46039f\"], [0.2222222222222222, \"#7201a8\"], [0.3333333333333333, \"#9c179e\"], [0.4444444444444444, \"#bd3786\"], [0.5555555555555556, \"#d8576b\"], [0.6666666666666666, \"#ed7953\"], [0.7777777777777778, \"#fb9f3a\"], [0.8888888888888888, \"#fdca26\"], [1.0, \"#f0f921\"]], \"type\": \"heatmap\"}], \"heatmapgl\": [{\"colorbar\": {\"outlinewidth\": 0, \"ticks\": \"\"}, \"colorscale\": [[0.0, \"#0d0887\"], [0.1111111111111111, \"#46039f\"], [0.2222222222222222, \"#7201a8\"], [0.3333333333333333, \"#9c179e\"], [0.4444444444444444, \"#bd3786\"], [0.5555555555555556, \"#d8576b\"], [0.6666666666666666, \"#ed7953\"], [0.7777777777777778, \"#fb9f3a\"], [0.8888888888888888, \"#fdca26\"], [1.0, \"#f0f921\"]], \"type\": \"heatmapgl\"}], \"histogram\": [{\"marker\": {\"colorbar\": {\"outlinewidth\": 0, \"ticks\": \"\"}}, \"type\": \"histogram\"}], \"histogram2d\": [{\"colorbar\": {\"outlinewidth\": 0, \"ticks\": \"\"}, \"colorscale\": [[0.0, \"#0d0887\"], [0.1111111111111111, \"#46039f\"], [0.2222222222222222, \"#7201a8\"], [0.3333333333333333, \"#9c179e\"], [0.4444444444444444, \"#bd3786\"], [0.5555555555555556, \"#d8576b\"], [0.6666666666666666, \"#ed7953\"], [0.7777777777777778, \"#fb9f3a\"], [0.8888888888888888, \"#fdca26\"], [1.0, \"#f0f921\"]], \"type\": \"histogram2d\"}], \"histogram2dcontour\": [{\"colorbar\": {\"outlinewidth\": 0, \"ticks\": \"\"}, \"colorscale\": [[0.0, \"#0d0887\"], [0.1111111111111111, \"#46039f\"], [0.2222222222222222, \"#7201a8\"], [0.3333333333333333, \"#9c179e\"], [0.4444444444444444, \"#bd3786\"], [0.5555555555555556, \"#d8576b\"], [0.6666666666666666, \"#ed7953\"], [0.7777777777777778, \"#fb9f3a\"], [0.8888888888888888, \"#fdca26\"], [1.0, \"#f0f921\"]], \"type\": \"histogram2dcontour\"}], \"mesh3d\": [{\"colorbar\": {\"outlinewidth\": 0, \"ticks\": \"\"}, \"type\": \"mesh3d\"}], \"parcoords\": [{\"line\": {\"colorbar\": {\"outlinewidth\": 0, \"ticks\": \"\"}}, \"type\": \"parcoords\"}], \"pie\": [{\"automargin\": true, \"type\": \"pie\"}], \"scatter\": [{\"marker\": {\"colorbar\": {\"outlinewidth\": 0, \"ticks\": \"\"}}, \"type\": \"scatter\"}], \"scatter3d\": [{\"line\": {\"colorbar\": {\"outlinewidth\": 0, \"ticks\": \"\"}}, \"marker\": {\"colorbar\": {\"outlinewidth\": 0, \"ticks\": \"\"}}, \"type\": \"scatter3d\"}], \"scattercarpet\": [{\"marker\": {\"colorbar\": {\"outlinewidth\": 0, \"ticks\": \"\"}}, \"type\": \"scattercarpet\"}], \"scattergeo\": [{\"marker\": {\"colorbar\": {\"outlinewidth\": 0, \"ticks\": \"\"}}, \"type\": \"scattergeo\"}], \"scattergl\": [{\"marker\": {\"colorbar\": {\"outlinewidth\": 0, \"ticks\": \"\"}}, \"type\": \"scattergl\"}], \"scattermapbox\": [{\"marker\": {\"colorbar\": {\"outlinewidth\": 0, \"ticks\": \"\"}}, \"type\": \"scattermapbox\"}], \"scatterpolar\": [{\"marker\": {\"colorbar\": {\"outlinewidth\": 0, \"ticks\": \"\"}}, \"type\": \"scatterpolar\"}], \"scatterpolargl\": [{\"marker\": {\"colorbar\": {\"outlinewidth\": 0, \"ticks\": \"\"}}, \"type\": \"scatterpolargl\"}], \"scatterternary\": [{\"marker\": {\"colorbar\": {\"outlinewidth\": 0, \"ticks\": \"\"}}, \"type\": \"scatterternary\"}], \"surface\": [{\"colorbar\": {\"outlinewidth\": 0, \"ticks\": \"\"}, \"colorscale\": [[0.0, \"#0d0887\"], [0.1111111111111111, \"#46039f\"], [0.2222222222222222, \"#7201a8\"], [0.3333333333333333, \"#9c179e\"], [0.4444444444444444, \"#bd3786\"], [0.5555555555555556, \"#d8576b\"], [0.6666666666666666, \"#ed7953\"], [0.7777777777777778, \"#fb9f3a\"], [0.8888888888888888, \"#fdca26\"], [1.0, \"#f0f921\"]], \"type\": \"surface\"}], \"table\": [{\"cells\": {\"fill\": {\"color\": \"#EBF0F8\"}, \"line\": {\"color\": \"white\"}}, \"header\": {\"fill\": {\"color\": \"#C8D4E3\"}, \"line\": {\"color\": \"white\"}}, \"type\": \"table\"}]}, \"layout\": {\"annotationdefaults\": {\"arrowcolor\": \"#2a3f5f\", \"arrowhead\": 0, \"arrowwidth\": 1}, \"coloraxis\": {\"colorbar\": {\"outlinewidth\": 0, \"ticks\": \"\"}}, \"colorscale\": {\"diverging\": [[0, \"#8e0152\"], [0.1, \"#c51b7d\"], [0.2, \"#de77ae\"], [0.3, \"#f1b6da\"], [0.4, \"#fde0ef\"], [0.5, \"#f7f7f7\"], [0.6, \"#e6f5d0\"], [0.7, \"#b8e186\"], [0.8, \"#7fbc41\"], [0.9, \"#4d9221\"], [1, \"#276419\"]], \"sequential\": [[0.0, \"#0d0887\"], [0.1111111111111111, \"#46039f\"], [0.2222222222222222, \"#7201a8\"], [0.3333333333333333, \"#9c179e\"], [0.4444444444444444, \"#bd3786\"], [0.5555555555555556, \"#d8576b\"], [0.6666666666666666, \"#ed7953\"], [0.7777777777777778, \"#fb9f3a\"], [0.8888888888888888, \"#fdca26\"], [1.0, \"#f0f921\"]], \"sequentialminus\": [[0.0, \"#0d0887\"], [0.1111111111111111, \"#46039f\"], [0.2222222222222222, \"#7201a8\"], [0.3333333333333333, \"#9c179e\"], [0.4444444444444444, \"#bd3786\"], [0.5555555555555556, \"#d8576b\"], [0.6666666666666666, \"#ed7953\"], [0.7777777777777778, \"#fb9f3a\"], [0.8888888888888888, \"#fdca26\"], [1.0, \"#f0f921\"]]}, \"colorway\": [\"#636efa\", \"#EF553B\", \"#00cc96\", \"#ab63fa\", \"#FFA15A\", \"#19d3f3\", \"#FF6692\", \"#B6E880\", \"#FF97FF\", \"#FECB52\"], \"font\": {\"color\": \"#2a3f5f\"}, \"geo\": {\"bgcolor\": \"white\", \"lakecolor\": \"white\", \"landcolor\": \"#E5ECF6\", \"showlakes\": true, \"showland\": true, \"subunitcolor\": \"white\"}, \"hoverlabel\": {\"align\": \"left\"}, \"hovermode\": \"closest\", \"mapbox\": {\"style\": \"light\"}, \"paper_bgcolor\": \"white\", \"plot_bgcolor\": \"#E5ECF6\", \"polar\": {\"angularaxis\": {\"gridcolor\": \"white\", \"linecolor\": \"white\", \"ticks\": \"\"}, \"bgcolor\": \"#E5ECF6\", \"radialaxis\": {\"gridcolor\": \"white\", \"linecolor\": \"white\", \"ticks\": \"\"}}, \"scene\": {\"xaxis\": {\"backgroundcolor\": \"#E5ECF6\", \"gridcolor\": \"white\", \"gridwidth\": 2, \"linecolor\": \"white\", \"showbackground\": true, \"ticks\": \"\", \"zerolinecolor\": \"white\"}, \"yaxis\": {\"backgroundcolor\": \"#E5ECF6\", \"gridcolor\": \"white\", \"gridwidth\": 2, \"linecolor\": \"white\", \"showbackground\": true, \"ticks\": \"\", \"zerolinecolor\": \"white\"}, \"zaxis\": {\"backgroundcolor\": \"#E5ECF6\", \"gridcolor\": \"white\", \"gridwidth\": 2, \"linecolor\": \"white\", \"showbackground\": true, \"ticks\": \"\", \"zerolinecolor\": \"white\"}}, \"shapedefaults\": {\"line\": {\"color\": \"#2a3f5f\"}}, \"ternary\": {\"aaxis\": {\"gridcolor\": \"white\", \"linecolor\": \"white\", \"ticks\": \"\"}, \"baxis\": {\"gridcolor\": \"white\", \"linecolor\": \"white\", \"ticks\": \"\"}, \"bgcolor\": \"#E5ECF6\", \"caxis\": {\"gridcolor\": \"white\", \"linecolor\": \"white\", \"ticks\": \"\"}}, \"title\": {\"x\": 0.05}, \"xaxis\": {\"automargin\": true, \"gridcolor\": \"white\", \"linecolor\": \"white\", \"ticks\": \"\", \"title\": {\"standoff\": 15}, \"zerolinecolor\": \"white\", \"zerolinewidth\": 2}, \"yaxis\": {\"automargin\": true, \"gridcolor\": \"white\", \"linecolor\": \"white\", \"ticks\": \"\", \"title\": {\"standoff\": 15}, \"zerolinecolor\": \"white\", \"zerolinewidth\": 2}}}, \"title\": {\"text\": \"Distribution of Ratings for Movie: 300\", \"x\": 0.5, \"y\": 0.9}, \"width\": 700, \"xaxis\": {\"dtick\": 0.5, \"gridcolor\": \"#d9dcde\", \"gridwidth\": 0.001, \"showgrid\": true, \"title\": {\"text\": \"Ratings\"}}, \"yaxis\": {\"gridcolor\": \"#d9dcde\", \"gridwidth\": 0.001, \"showgrid\": true, \"title\": {\"text\": \"Count\"}}},\n",
              "                        {\"responsive\": true}\n",
              "                    ).then(function(){\n",
              "                            \n",
              "var gd = document.getElementById('372558f9-d573-4d2e-93f4-109f221b8b3e');\n",
              "var x = new MutationObserver(function (mutations, observer) {{\n",
              "        var display = window.getComputedStyle(gd).display;\n",
              "        if (!display || display === 'none') {{\n",
              "            console.log([gd, 'removed!']);\n",
              "            Plotly.purge(gd);\n",
              "            observer.disconnect();\n",
              "        }}\n",
              "}});\n",
              "\n",
              "// Listen for the removal of the full notebook cells\n",
              "var notebookContainer = gd.closest('#notebook-container');\n",
              "if (notebookContainer) {{\n",
              "    x.observe(notebookContainer, {childList: true});\n",
              "}}\n",
              "\n",
              "// Listen for the clearing of the current output cell\n",
              "var outputEl = gd.closest('.output');\n",
              "if (outputEl) {{\n",
              "    x.observe(outputEl, {childList: true});\n",
              "}}\n",
              "\n",
              "                        })\n",
              "                };\n",
              "                \n",
              "            </script>\n",
              "        </div>\n",
              "</body>\n",
              "</html>"
            ]
          },
          "metadata": {
            "tags": []
          }
        }
      ]
    },
    {
      "cell_type": "markdown",
      "metadata": {
        "id": "oTlhlW3VD-qb",
        "colab_type": "text"
      },
      "source": [
        "Most users gave movie 1722 a relatively high score (> 3), only very few users rated somewhere between 1-2.5. It seems that for each prediction, the users are some kind of outsiders.\n",
        "\n",
        "**Good References:**\n",
        "\n",
        "- <a target='_blank' href='https://surprise.readthedocs.io/en/stable/index.html'>Surprise’ documentation</a>\n",
        "\n",
        "- <a target='_blank' href='https://towardsdatascience.com/building-and-testing-recommender-systems-with-surprise-step-by-step-d4ba702ef80b'>Building and Testing Recommender Systems With Surprise, Step-By-Step</a>"
      ]
    }
  ]
}